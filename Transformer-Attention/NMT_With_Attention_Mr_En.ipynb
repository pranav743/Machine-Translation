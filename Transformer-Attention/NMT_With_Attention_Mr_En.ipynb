{
  "nbformat": 4,
  "nbformat_minor": 0,
  "metadata": {
    "colab": {
      "provenance": []
    },
    "kernelspec": {
      "name": "python3",
      "display_name": "Python 3"
    },
    "language_info": {
      "name": "python"
    }
  },
  "cells": [
    {
      "cell_type": "code",
      "execution_count": null,
      "metadata": {
        "id": "mzrJG9z5QpX5"
      },
      "outputs": [],
      "source": [
        "import pathlib\n",
        "import random\n",
        "import string\n",
        "import re\n",
        "import numpy as np\n",
        "import pandas as pd\n",
        "import matplotlib.pyplot as plt\n",
        "import tensorflow as tf\n",
        "from tensorflow import keras\n",
        "from tensorflow.keras import layers\n",
        "from tensorflow.keras.layers import TextVectorization\n",
        "from tensorflow.keras.callbacks import EarlyStopping\n",
        "from tensorflow.keras import callbacks"
      ]
    },
    {
      "cell_type": "code",
      "source": [
        "from google.colab import drive\n",
        "drive.mount('/content/drive')"
      ],
      "metadata": {
        "id": "7XLc1CGkRoD8",
        "colab": {
          "base_uri": "https://localhost:8080/"
        },
        "outputId": "2fc34163-2601-49dc-f6a2-ea1295de0954"
      },
      "execution_count": null,
      "outputs": [
        {
          "output_type": "stream",
          "name": "stdout",
          "text": [
            "Mounted at /content/drive\n"
          ]
        }
      ]
    },
    {
      "cell_type": "code",
      "source": [
        "english_file = '/content/drive/MyDrive/MP/dataset/mr-en/train.en'\n",
        "marathi_file = '/content/drive/MyDrive/MP/dataset/mr-en/train.mr'"
      ],
      "metadata": {
        "id": "u7RVGMr-RylX"
      },
      "execution_count": null,
      "outputs": []
    },
    {
      "cell_type": "code",
      "source": [
        "with open(english_file, 'r') as file:\n",
        "    english_sentences = file.readlines()\n",
        "with open(marathi_file, 'r') as file:\n",
        "    marathi_sentences = file.readlines()\n",
        "\n",
        "\n",
        "english_sentences = [sentence.rstrip('\\n') for sentence in english_sentences]\n",
        "marathi_sentences = [sentence.rstrip('\\n') for sentence in marathi_sentences]"
      ],
      "metadata": {
        "id": "NpwqPEFYSJQV"
      },
      "execution_count": null,
      "outputs": []
    },
    {
      "cell_type": "code",
      "source": [
        "def is_valid_tokens(sentence , vocab):\n",
        "    for token in list(set(sentence)):\n",
        "        if token not in vocab:\n",
        "            return False\n",
        "    return True\n",
        "\n",
        "valid_sentence_indicies = []\n",
        "for index in range(len(english_sentences)):\n",
        "    marathi_sentence, english_sentence = marathi_sentences[index], english_sentences[index]\n",
        "    if is_valid_tokens(marathi_sentence, marathi_vocabulary) \\\n",
        "      and is_valid_tokens(english_sentence , english_vocabulary):\n",
        "        valid_sentence_indicies.append(index)"
      ],
      "metadata": {
        "id": "StGgr3_jXDtU"
      },
      "execution_count": null,
      "outputs": []
    },
    {
      "cell_type": "code",
      "source": [
        "x = [english_sentences[i] for i in valid_sentence_indicies]\n",
        "y = [marathi_sentences[i] for i in valid_sentence_indicies]"
      ],
      "metadata": {
        "id": "OoMqskU0Xn-A"
      },
      "execution_count": null,
      "outputs": []
    },
    {
      "cell_type": "code",
      "source": [
        "import pandas as pd\n",
        "dataset =  pd.DataFrame({\"marathi\":marathi_sentences[:300000], \"english\":english_sentences[:300000] })\n",
        "dataset.info()"
      ],
      "metadata": {
        "id": "p1hf4UXqaFDg"
      },
      "execution_count": null,
      "outputs": []
    },
    {
      "cell_type": "code",
      "source": [
        "dataset.to_csv('/content/drive/MyDrive/MP/data.csv' , index = False )"
      ],
      "metadata": {
        "id": "XFEVYSBJbyQU"
      },
      "execution_count": null,
      "outputs": []
    },
    {
      "cell_type": "code",
      "source": [
        "dataset = pd.read_csv('/content/drive/MyDrive/NMT-Transformer/data_mr-en.csv')\n",
        "dataset.head()"
      ],
      "metadata": {
        "colab": {
          "base_uri": "https://localhost:8080/",
          "height": 206
        },
        "id": "oILI3On4UonJ",
        "outputId": "57e46732-3852-4d8f-d2f7-dfb6188aea31"
      },
      "execution_count": null,
      "outputs": [
        {
          "output_type": "execute_result",
          "data": {
            "text/plain": [
              "                                             Marathi  \\\n",
              "0  आज आसियान आणि भारत, आसियानचे राजनीतिक- सुरक्षा...   \n",
              "1  आसियान राष्ट्र समुहातील देशांशी भारताचे उत्तम ...   \n",
              "2                               [ ७ पानांवरील चित्र]   \n",
              "3  दरम्यान, गुजरात निवडणूकीचा प्रचार आता शिगेला प...   \n",
              "4  यामुळे सौर ऊर्जा क्षेत्रातल्या संशोधनाला आणि त...   \n",
              "\n",
              "                                             English  \n",
              "0  Today, ASEAN and India enjoy multi-faceted coo...  \n",
              "1  For us in India, ASEANs continuance in this ro...  \n",
              "2             We need to put faith in his reminders.  \n",
              "3     Presently elections are being held in Gujarat.  \n",
              "4  This will aim to pool research and technologic...  "
            ],
            "text/html": [
              "\n",
              "  <div id=\"df-0eecd530-12f3-4716-8c8f-051dc55dbf7f\" class=\"colab-df-container\">\n",
              "    <div>\n",
              "<style scoped>\n",
              "    .dataframe tbody tr th:only-of-type {\n",
              "        vertical-align: middle;\n",
              "    }\n",
              "\n",
              "    .dataframe tbody tr th {\n",
              "        vertical-align: top;\n",
              "    }\n",
              "\n",
              "    .dataframe thead th {\n",
              "        text-align: right;\n",
              "    }\n",
              "</style>\n",
              "<table border=\"1\" class=\"dataframe\">\n",
              "  <thead>\n",
              "    <tr style=\"text-align: right;\">\n",
              "      <th></th>\n",
              "      <th>Marathi</th>\n",
              "      <th>English</th>\n",
              "    </tr>\n",
              "  </thead>\n",
              "  <tbody>\n",
              "    <tr>\n",
              "      <th>0</th>\n",
              "      <td>आज आसियान आणि भारत, आसियानचे राजनीतिक- सुरक्षा...</td>\n",
              "      <td>Today, ASEAN and India enjoy multi-faceted coo...</td>\n",
              "    </tr>\n",
              "    <tr>\n",
              "      <th>1</th>\n",
              "      <td>आसियान राष्ट्र समुहातील देशांशी भारताचे उत्तम ...</td>\n",
              "      <td>For us in India, ASEANs continuance in this ro...</td>\n",
              "    </tr>\n",
              "    <tr>\n",
              "      <th>2</th>\n",
              "      <td>[ ७ पानांवरील चित्र]</td>\n",
              "      <td>We need to put faith in his reminders.</td>\n",
              "    </tr>\n",
              "    <tr>\n",
              "      <th>3</th>\n",
              "      <td>दरम्यान, गुजरात निवडणूकीचा प्रचार आता शिगेला प...</td>\n",
              "      <td>Presently elections are being held in Gujarat.</td>\n",
              "    </tr>\n",
              "    <tr>\n",
              "      <th>4</th>\n",
              "      <td>यामुळे सौर ऊर्जा क्षेत्रातल्या संशोधनाला आणि त...</td>\n",
              "      <td>This will aim to pool research and technologic...</td>\n",
              "    </tr>\n",
              "  </tbody>\n",
              "</table>\n",
              "</div>\n",
              "    <div class=\"colab-df-buttons\">\n",
              "\n",
              "  <div class=\"colab-df-container\">\n",
              "    <button class=\"colab-df-convert\" onclick=\"convertToInteractive('df-0eecd530-12f3-4716-8c8f-051dc55dbf7f')\"\n",
              "            title=\"Convert this dataframe to an interactive table.\"\n",
              "            style=\"display:none;\">\n",
              "\n",
              "  <svg xmlns=\"http://www.w3.org/2000/svg\" height=\"24px\" viewBox=\"0 -960 960 960\">\n",
              "    <path d=\"M120-120v-720h720v720H120Zm60-500h600v-160H180v160Zm220 220h160v-160H400v160Zm0 220h160v-160H400v160ZM180-400h160v-160H180v160Zm440 0h160v-160H620v160ZM180-180h160v-160H180v160Zm440 0h160v-160H620v160Z\"/>\n",
              "  </svg>\n",
              "    </button>\n",
              "\n",
              "  <style>\n",
              "    .colab-df-container {\n",
              "      display:flex;\n",
              "      gap: 12px;\n",
              "    }\n",
              "\n",
              "    .colab-df-convert {\n",
              "      background-color: #E8F0FE;\n",
              "      border: none;\n",
              "      border-radius: 50%;\n",
              "      cursor: pointer;\n",
              "      display: none;\n",
              "      fill: #1967D2;\n",
              "      height: 32px;\n",
              "      padding: 0 0 0 0;\n",
              "      width: 32px;\n",
              "    }\n",
              "\n",
              "    .colab-df-convert:hover {\n",
              "      background-color: #E2EBFA;\n",
              "      box-shadow: 0px 1px 2px rgba(60, 64, 67, 0.3), 0px 1px 3px 1px rgba(60, 64, 67, 0.15);\n",
              "      fill: #174EA6;\n",
              "    }\n",
              "\n",
              "    .colab-df-buttons div {\n",
              "      margin-bottom: 4px;\n",
              "    }\n",
              "\n",
              "    [theme=dark] .colab-df-convert {\n",
              "      background-color: #3B4455;\n",
              "      fill: #D2E3FC;\n",
              "    }\n",
              "\n",
              "    [theme=dark] .colab-df-convert:hover {\n",
              "      background-color: #434B5C;\n",
              "      box-shadow: 0px 1px 3px 1px rgba(0, 0, 0, 0.15);\n",
              "      filter: drop-shadow(0px 1px 2px rgba(0, 0, 0, 0.3));\n",
              "      fill: #FFFFFF;\n",
              "    }\n",
              "  </style>\n",
              "\n",
              "    <script>\n",
              "      const buttonEl =\n",
              "        document.querySelector('#df-0eecd530-12f3-4716-8c8f-051dc55dbf7f button.colab-df-convert');\n",
              "      buttonEl.style.display =\n",
              "        google.colab.kernel.accessAllowed ? 'block' : 'none';\n",
              "\n",
              "      async function convertToInteractive(key) {\n",
              "        const element = document.querySelector('#df-0eecd530-12f3-4716-8c8f-051dc55dbf7f');\n",
              "        const dataTable =\n",
              "          await google.colab.kernel.invokeFunction('convertToInteractive',\n",
              "                                                    [key], {});\n",
              "        if (!dataTable) return;\n",
              "\n",
              "        const docLinkHtml = 'Like what you see? Visit the ' +\n",
              "          '<a target=\"_blank\" href=https://colab.research.google.com/notebooks/data_table.ipynb>data table notebook</a>'\n",
              "          + ' to learn more about interactive tables.';\n",
              "        element.innerHTML = '';\n",
              "        dataTable['output_type'] = 'display_data';\n",
              "        await google.colab.output.renderOutput(dataTable, element);\n",
              "        const docLink = document.createElement('div');\n",
              "        docLink.innerHTML = docLinkHtml;\n",
              "        element.appendChild(docLink);\n",
              "      }\n",
              "    </script>\n",
              "  </div>\n",
              "\n",
              "\n",
              "<div id=\"df-62d7d1d4-72c0-4edd-aec9-5f52fb41f4b9\">\n",
              "  <button class=\"colab-df-quickchart\" onclick=\"quickchart('df-62d7d1d4-72c0-4edd-aec9-5f52fb41f4b9')\"\n",
              "            title=\"Suggest charts\"\n",
              "            style=\"display:none;\">\n",
              "\n",
              "<svg xmlns=\"http://www.w3.org/2000/svg\" height=\"24px\"viewBox=\"0 0 24 24\"\n",
              "     width=\"24px\">\n",
              "    <g>\n",
              "        <path d=\"M19 3H5c-1.1 0-2 .9-2 2v14c0 1.1.9 2 2 2h14c1.1 0 2-.9 2-2V5c0-1.1-.9-2-2-2zM9 17H7v-7h2v7zm4 0h-2V7h2v10zm4 0h-2v-4h2v4z\"/>\n",
              "    </g>\n",
              "</svg>\n",
              "  </button>\n",
              "\n",
              "<style>\n",
              "  .colab-df-quickchart {\n",
              "      --bg-color: #E8F0FE;\n",
              "      --fill-color: #1967D2;\n",
              "      --hover-bg-color: #E2EBFA;\n",
              "      --hover-fill-color: #174EA6;\n",
              "      --disabled-fill-color: #AAA;\n",
              "      --disabled-bg-color: #DDD;\n",
              "  }\n",
              "\n",
              "  [theme=dark] .colab-df-quickchart {\n",
              "      --bg-color: #3B4455;\n",
              "      --fill-color: #D2E3FC;\n",
              "      --hover-bg-color: #434B5C;\n",
              "      --hover-fill-color: #FFFFFF;\n",
              "      --disabled-bg-color: #3B4455;\n",
              "      --disabled-fill-color: #666;\n",
              "  }\n",
              "\n",
              "  .colab-df-quickchart {\n",
              "    background-color: var(--bg-color);\n",
              "    border: none;\n",
              "    border-radius: 50%;\n",
              "    cursor: pointer;\n",
              "    display: none;\n",
              "    fill: var(--fill-color);\n",
              "    height: 32px;\n",
              "    padding: 0;\n",
              "    width: 32px;\n",
              "  }\n",
              "\n",
              "  .colab-df-quickchart:hover {\n",
              "    background-color: var(--hover-bg-color);\n",
              "    box-shadow: 0 1px 2px rgba(60, 64, 67, 0.3), 0 1px 3px 1px rgba(60, 64, 67, 0.15);\n",
              "    fill: var(--button-hover-fill-color);\n",
              "  }\n",
              "\n",
              "  .colab-df-quickchart-complete:disabled,\n",
              "  .colab-df-quickchart-complete:disabled:hover {\n",
              "    background-color: var(--disabled-bg-color);\n",
              "    fill: var(--disabled-fill-color);\n",
              "    box-shadow: none;\n",
              "  }\n",
              "\n",
              "  .colab-df-spinner {\n",
              "    border: 2px solid var(--fill-color);\n",
              "    border-color: transparent;\n",
              "    border-bottom-color: var(--fill-color);\n",
              "    animation:\n",
              "      spin 1s steps(1) infinite;\n",
              "  }\n",
              "\n",
              "  @keyframes spin {\n",
              "    0% {\n",
              "      border-color: transparent;\n",
              "      border-bottom-color: var(--fill-color);\n",
              "      border-left-color: var(--fill-color);\n",
              "    }\n",
              "    20% {\n",
              "      border-color: transparent;\n",
              "      border-left-color: var(--fill-color);\n",
              "      border-top-color: var(--fill-color);\n",
              "    }\n",
              "    30% {\n",
              "      border-color: transparent;\n",
              "      border-left-color: var(--fill-color);\n",
              "      border-top-color: var(--fill-color);\n",
              "      border-right-color: var(--fill-color);\n",
              "    }\n",
              "    40% {\n",
              "      border-color: transparent;\n",
              "      border-right-color: var(--fill-color);\n",
              "      border-top-color: var(--fill-color);\n",
              "    }\n",
              "    60% {\n",
              "      border-color: transparent;\n",
              "      border-right-color: var(--fill-color);\n",
              "    }\n",
              "    80% {\n",
              "      border-color: transparent;\n",
              "      border-right-color: var(--fill-color);\n",
              "      border-bottom-color: var(--fill-color);\n",
              "    }\n",
              "    90% {\n",
              "      border-color: transparent;\n",
              "      border-bottom-color: var(--fill-color);\n",
              "    }\n",
              "  }\n",
              "</style>\n",
              "\n",
              "  <script>\n",
              "    async function quickchart(key) {\n",
              "      const quickchartButtonEl =\n",
              "        document.querySelector('#' + key + ' button');\n",
              "      quickchartButtonEl.disabled = true;  // To prevent multiple clicks.\n",
              "      quickchartButtonEl.classList.add('colab-df-spinner');\n",
              "      try {\n",
              "        const charts = await google.colab.kernel.invokeFunction(\n",
              "            'suggestCharts', [key], {});\n",
              "      } catch (error) {\n",
              "        console.error('Error during call to suggestCharts:', error);\n",
              "      }\n",
              "      quickchartButtonEl.classList.remove('colab-df-spinner');\n",
              "      quickchartButtonEl.classList.add('colab-df-quickchart-complete');\n",
              "    }\n",
              "    (() => {\n",
              "      let quickchartButtonEl =\n",
              "        document.querySelector('#df-62d7d1d4-72c0-4edd-aec9-5f52fb41f4b9 button');\n",
              "      quickchartButtonEl.style.display =\n",
              "        google.colab.kernel.accessAllowed ? 'block' : 'none';\n",
              "    })();\n",
              "  </script>\n",
              "</div>\n",
              "    </div>\n",
              "  </div>\n"
            ],
            "application/vnd.google.colaboratory.intrinsic+json": {
              "type": "dataframe",
              "variable_name": "dataset"
            }
          },
          "metadata": {},
          "execution_count": 3
        }
      ]
    },
    {
      "cell_type": "code",
      "source": [
        "text_pairs = []\n",
        "\n",
        "for i in range(dataset.shape[0]) :\n",
        "    mar = str(dataset[\"Marathi\"][i])\n",
        "    eng = \"[start] \" + str(dataset[\"English\"][i]) + \" [end]\"\n",
        "    text_pairs.append((mar,eng))"
      ],
      "metadata": {
        "id": "of_3NnuRUtHW"
      },
      "execution_count": null,
      "outputs": []
    },
    {
      "cell_type": "code",
      "source": [
        "len(text_pairs)"
      ],
      "metadata": {
        "colab": {
          "base_uri": "https://localhost:8080/"
        },
        "id": "3dIvqoomWEvB",
        "outputId": "52507e50-7678-4cce-a8f6-58496dd6706f"
      },
      "execution_count": null,
      "outputs": [
        {
          "output_type": "execute_result",
          "data": {
            "text/plain": [
              "200000"
            ]
          },
          "metadata": {},
          "execution_count": 5
        }
      ]
    },
    {
      "cell_type": "code",
      "source": [
        "train_sample_size = len(text_pairs) - int(0.1*len(text_pairs))\n",
        "train_pairs = text_pairs[:train_sample_size]\n",
        "test_pairs = text_pairs[train_sample_size:]\n",
        "\n",
        "print(\"Total pairs :\", len(text_pairs))\n",
        "print(\"Train pairs :\", len(train_pairs))\n",
        "print(\"Test pairs :\", len(test_pairs))"
      ],
      "metadata": {
        "colab": {
          "base_uri": "https://localhost:8080/"
        },
        "id": "CvrtkhJWWI6X",
        "outputId": "60b023ca-430c-4db0-ee13-d1f18bb22ed1"
      },
      "execution_count": null,
      "outputs": [
        {
          "output_type": "stream",
          "name": "stdout",
          "text": [
            "Total pairs : 200000\n",
            "Train pairs : 180000\n",
            "Test pairs : 20000\n"
          ]
        }
      ]
    },
    {
      "cell_type": "code",
      "source": [
        "strip_chars = string.punctuation + \"|\"\n",
        "strip_chars = strip_chars.replace(\"[\", \"\")\n",
        "strip_chars = strip_chars.replace(\"]\", \"\")\n",
        "strip_chars = strip_chars.replace('\"\"', \"\")\n",
        "\n",
        "vocab_size = 70000\n",
        "sequence_length = 30\n",
        "batch_size = 128"
      ],
      "metadata": {
        "id": "jdHzR6VbWMss"
      },
      "execution_count": null,
      "outputs": []
    },
    {
      "cell_type": "code",
      "source": [
        "def custom_standardization(input_string):\n",
        "    lowercase = tf.strings.lower(input_string)\n",
        "    return tf.strings.regex_replace(lowercase, \"[%s]\" % re.escape(strip_chars), \"\")"
      ],
      "metadata": {
        "id": "XHRIj8DIWO9g"
      },
      "execution_count": null,
      "outputs": []
    },
    {
      "cell_type": "code",
      "source": [
        "mar_vectorization = TextVectorization(\n",
        "    max_tokens=vocab_size,\n",
        "    output_mode=\"int\",\n",
        "    output_sequence_length=sequence_length,\n",
        ")\n",
        "\n",
        "eng_vectorization = TextVectorization(\n",
        "    max_tokens=vocab_size,\n",
        "    output_mode=\"int\",\n",
        "    output_sequence_length=sequence_length + 1,\n",
        "    standardize=custom_standardization,\n",
        ")"
      ],
      "metadata": {
        "id": "6DNxjWoVWRVI"
      },
      "execution_count": null,
      "outputs": []
    },
    {
      "cell_type": "code",
      "source": [
        "train_mar_texts = [pair[0] for pair in train_pairs]\n",
        "train_eng_texts = [pair[1] for pair in train_pairs]\n",
        "mar_vectorization.adapt(train_mar_texts)\n",
        "eng_vectorization.adapt(train_eng_texts)"
      ],
      "metadata": {
        "id": "-IEMTxq0Wuum"
      },
      "execution_count": null,
      "outputs": []
    },
    {
      "cell_type": "code",
      "source": [
        "import json\n",
        "\n",
        "# Get the vocabulary\n",
        "mar_vocab = mar_vectorization.get_vocabulary()\n",
        "eng_vocab = eng_vectorization.get_vocabulary()\n",
        "\n",
        "\n",
        "# Save the vocabulary\n",
        "with open('/content/drive/MyDrive/NMT-Transformer/vectorizers/mar_vocab.json', 'w') as f:\n",
        "    json.dump(mar_vocab, f)\n",
        "with open('/content/drive/MyDrive/NMT-Transformer/vectorizers/eng_vocab.json', 'w') as f:\n",
        "    json.dump(eng_vocab, f)\n"
      ],
      "metadata": {
        "id": "MOLcdbrlW1vj"
      },
      "execution_count": null,
      "outputs": []
    },
    {
      "cell_type": "code",
      "source": [
        "import json\n",
        "\n",
        "\n",
        "vocab_size = 70000\n",
        "sequence_length = 30\n",
        "batch_size = 128\n",
        "\n",
        "\n",
        "# Load the vocabulary\n",
        "with open('/content/drive/MyDrive/NMT-Transformer/vectorizers/mar_vocab.json', 'r') as f:\n",
        "    mar_vocab = json.load(f)\n",
        "with open('/content/drive/MyDrive/NMT-Transformer/vectorizers/eng_vocab.json', 'r') as f:\n",
        "    eng_vocab = json.load(f)\n",
        "\n",
        "# Create a TextVectorization layer with the loaded vocabulary\n",
        "mar_vectorization = TextVectorization(vocabulary=mar_vocab,output_mode=\"int\", output_sequence_length=sequence_length)\n",
        "eng_vectorization = TextVectorization(vocabulary=eng_vocab,output_mode=\"int\",\n",
        "    output_sequence_length=sequence_length + 1,\n",
        "    standardize=custom_standardization)"
      ],
      "metadata": {
        "id": "2SW0JXriZz9m"
      },
      "execution_count": null,
      "outputs": []
    },
    {
      "cell_type": "code",
      "source": [
        "def format_dataset(mar, eng):\n",
        "    mar = mar_vectorization(mar)\n",
        "    eng = eng_vectorization(eng)\n",
        "    return ({\"encoder_inputs\": mar, \"decoder_inputs\": eng[:, :-1],}, eng[:, 1:])"
      ],
      "metadata": {
        "id": "NG5TraKlaowh"
      },
      "execution_count": null,
      "outputs": []
    },
    {
      "cell_type": "code",
      "source": [
        "def make_dataset(pairs):\n",
        "    mar_texts, eng_texts = zip(*pairs)\n",
        "    mar_texts = list(mar_texts)\n",
        "    eng_texts = list(eng_texts)\n",
        "    dataset = tf.data.Dataset.from_tensor_slices((mar_texts, eng_texts))\n",
        "    dataset = dataset.batch(batch_size)\n",
        "    dataset = dataset.map(format_dataset)\n",
        "    return dataset.shuffle(2048).prefetch(16).cache()"
      ],
      "metadata": {
        "id": "OnQsd-4Pazvw"
      },
      "execution_count": null,
      "outputs": []
    },
    {
      "cell_type": "code",
      "source": [
        "train_ds = make_dataset(train_pairs)\n",
        "test_ds = make_dataset(test_pairs)"
      ],
      "metadata": {
        "id": "hEt6VVAobS5D"
      },
      "execution_count": null,
      "outputs": []
    },
    {
      "cell_type": "code",
      "source": [
        "for inputs, targets in train_ds.take(2):\n",
        "    print(f'inputs[\"encoder_inputs\"].shape: {inputs[\"encoder_inputs\"].shape}')\n",
        "    print(f'inputs[\"decoder_inputs\"].shape: {inputs[\"decoder_inputs\"].shape}')\n",
        "    print(f\"targets.shape: {targets.shape}\")"
      ],
      "metadata": {
        "colab": {
          "base_uri": "https://localhost:8080/"
        },
        "id": "hhjGKXH7bUwm",
        "outputId": "e71ebf78-42d9-49f4-dfb6-fc58d11b3818"
      },
      "execution_count": null,
      "outputs": [
        {
          "output_type": "stream",
          "name": "stdout",
          "text": [
            "inputs[\"encoder_inputs\"].shape: (128, 30)\n",
            "inputs[\"decoder_inputs\"].shape: (128, 30)\n",
            "targets.shape: (128, 30)\n",
            "inputs[\"encoder_inputs\"].shape: (128, 30)\n",
            "inputs[\"decoder_inputs\"].shape: (128, 30)\n",
            "targets.shape: (128, 30)\n"
          ]
        }
      ]
    },
    {
      "cell_type": "code",
      "source": [
        "class TransformerEncoder(layers.Layer):\n",
        "    def __init__(self, embed_dim, dense_dim, num_heads, **kwargs):\n",
        "        super().__init__(**kwargs)\n",
        "        self.embed_dim = embed_dim\n",
        "        self.dense_dim = dense_dim\n",
        "        self.num_heads = num_heads\n",
        "        self.attention = layers.MultiHeadAttention(\n",
        "            num_heads=num_heads, key_dim=embed_dim\n",
        "        )\n",
        "        self.dense_proj = keras.Sequential(\n",
        "            [layers.Dense(dense_dim, activation=\"relu\"), layers.Dense(embed_dim),]\n",
        "        )\n",
        "        self.layernorm_1 = layers.LayerNormalization()\n",
        "        self.layernorm_2 = layers.LayerNormalization()\n",
        "        self.supports_masking = True\n",
        "\n",
        "    def call(self, inputs, mask=None):\n",
        "        if mask is not None:\n",
        "            padding_mask = tf.cast(mask[:, tf.newaxis, :], dtype=\"int32\")\n",
        "        attention_output = self.attention(\n",
        "            query=inputs, value=inputs, key=inputs, attention_mask=padding_mask\n",
        "        )\n",
        "        proj_input = self.layernorm_1(inputs + attention_output)\n",
        "        proj_output = self.dense_proj(proj_input)\n",
        "        return self.layernorm_2(proj_input + proj_output)"
      ],
      "metadata": {
        "id": "sK2v_SJCbWxD"
      },
      "execution_count": null,
      "outputs": []
    },
    {
      "cell_type": "code",
      "source": [
        "class PositionalEmbedding(layers.Layer):\n",
        "    def __init__(self, sequence_length, vocab_size, embed_dim, **kwargs):\n",
        "        super().__init__(**kwargs)\n",
        "        self.token_embeddings = layers.Embedding(\n",
        "            input_dim=vocab_size, output_dim=embed_dim\n",
        "        )\n",
        "        self.position_embeddings = layers.Embedding(\n",
        "            input_dim=sequence_length, output_dim=embed_dim\n",
        "        )\n",
        "        self.sequence_length = sequence_length\n",
        "        self.vocab_size = vocab_size\n",
        "        self.embed_dim = embed_dim\n",
        "\n",
        "    def call(self, inputs):\n",
        "        length = tf.shape(inputs)[-1]\n",
        "        positions = tf.range(start=0, limit=length, delta=1)\n",
        "        embedded_tokens = self.token_embeddings(inputs)\n",
        "        embedded_positions = self.position_embeddings(positions)\n",
        "        return embedded_tokens + embedded_positions\n",
        "\n",
        "    def compute_mask(self, inputs, mask=None):\n",
        "        return tf.math.not_equal(inputs, 0)"
      ],
      "metadata": {
        "id": "hV9fzJUDbdZH"
      },
      "execution_count": null,
      "outputs": []
    },
    {
      "cell_type": "code",
      "source": [
        "class TransformerDecoder(layers.Layer):\n",
        "    def __init__(self, embed_dim, latent_dim, num_heads, **kwargs):\n",
        "        super().__init__(**kwargs)\n",
        "        self.embed_dim = embed_dim\n",
        "        self.latent_dim = latent_dim\n",
        "        self.num_heads = num_heads\n",
        "        self.attention_1 = layers.MultiHeadAttention(\n",
        "            num_heads=num_heads, key_dim=embed_dim\n",
        "        )\n",
        "        self.attention_2 = layers.MultiHeadAttention(\n",
        "            num_heads=num_heads, key_dim=embed_dim\n",
        "        )\n",
        "        self.dense_proj = keras.Sequential(\n",
        "            [layers.Dense(latent_dim, activation=\"relu\"), layers.Dense(embed_dim),]\n",
        "        )\n",
        "        self.layernorm_1 = layers.LayerNormalization()\n",
        "        self.layernorm_2 = layers.LayerNormalization()\n",
        "        self.layernorm_3 = layers.LayerNormalization()\n",
        "        self.supports_masking = True\n",
        "\n",
        "    def call(self, inputs, encoder_outputs, mask=None):\n",
        "        causal_mask = self.get_causal_attention_mask(inputs)\n",
        "        if mask is not None:\n",
        "            padding_mask = tf.cast(mask[:, tf.newaxis, :], dtype=\"int32\")\n",
        "            padding_mask = tf.minimum(padding_mask, causal_mask)\n",
        "\n",
        "        attention_output_1 = self.attention_1(\n",
        "            query=inputs, value=inputs, key=inputs, attention_mask=causal_mask\n",
        "        )\n",
        "        out_1 = self.layernorm_1(inputs + attention_output_1)\n",
        "\n",
        "        attention_output_2  = self.attention_2(\n",
        "            query=out_1,\n",
        "            value=encoder_outputs,\n",
        "            key=encoder_outputs,\n",
        "            attention_mask=padding_mask,\n",
        "        )\n",
        "\n",
        "        out_2 = self.layernorm_2(out_1 + attention_output_2)\n",
        "\n",
        "        proj_output = self.dense_proj(out_2)\n",
        "        return self.layernorm_3(out_2 + proj_output)\n",
        "\n",
        "    def get_causal_attention_mask(self, inputs):\n",
        "        input_shape = tf.shape(inputs)\n",
        "        batch_size, sequence_length = input_shape[0], input_shape[1]\n",
        "        i = tf.range(sequence_length)[:, tf.newaxis]\n",
        "        j = tf.range(sequence_length)\n",
        "        mask = tf.cast(i >= j, dtype=\"int32\")\n",
        "        mask = tf.reshape(mask, (1, input_shape[1], input_shape[1]))\n",
        "        mult = tf.concat(\n",
        "            [tf.expand_dims(batch_size, -1), tf.constant([1, 1], dtype=tf.int32)],\n",
        "            axis=0,\n",
        "        )\n",
        "        return tf.tile(mask, mult)"
      ],
      "metadata": {
        "id": "0_jMWLc4bfGK"
      },
      "execution_count": null,
      "outputs": []
    },
    {
      "cell_type": "code",
      "source": [
        "embed_dim = 512\n",
        "latent_dim = 1024\n",
        "num_heads = 8\n",
        "\n",
        "encoder_inputs = keras.Input(shape=(None,), dtype=\"int64\", name=\"encoder_inputs\")\n",
        "x = PositionalEmbedding(sequence_length, vocab_size, embed_dim)(encoder_inputs)\n",
        "encoder_outputs = TransformerEncoder(embed_dim, latent_dim, num_heads)(x)\n",
        "encoder = keras.Model(encoder_inputs, encoder_outputs)"
      ],
      "metadata": {
        "id": "UTEPFoG5bjuY"
      },
      "execution_count": null,
      "outputs": []
    },
    {
      "cell_type": "code",
      "source": [
        "decoder_inputs = keras.Input(shape=(None,), dtype=\"int64\", name=\"decoder_inputs\")\n",
        "encoded_seq_inputs = keras.Input(shape=(None, embed_dim), name=\"decoder_state_inputs\")\n",
        "x = PositionalEmbedding(sequence_length, vocab_size, embed_dim)(decoder_inputs)\n",
        "x = TransformerDecoder(embed_dim, latent_dim, num_heads)(x, encoded_seq_inputs)\n",
        "x = layers.Dropout(0.5)(x)\n",
        "decoder_outputs = layers.Dense(vocab_size, activation=\"softmax\")(x)\n",
        "decoder = keras.Model([decoder_inputs, encoded_seq_inputs], decoder_outputs)"
      ],
      "metadata": {
        "id": "TIAkNALKbmmJ"
      },
      "execution_count": null,
      "outputs": []
    },
    {
      "cell_type": "code",
      "source": [
        "decoder_outputs = decoder([decoder_inputs, encoder_outputs])\n",
        "transformer = keras.Model(\n",
        "    [encoder_inputs, decoder_inputs], decoder_outputs, name=\"transformer\"\n",
        ")\n",
        "transformer.summary()"
      ],
      "metadata": {
        "colab": {
          "base_uri": "https://localhost:8080/"
        },
        "id": "pjn-if6cbn_C",
        "outputId": "2c00779e-da8d-4d1d-d025-0d105b21c87d"
      },
      "execution_count": null,
      "outputs": [
        {
          "output_type": "stream",
          "name": "stdout",
          "text": [
            "Model: \"transformer\"\n",
            "__________________________________________________________________________________________________\n",
            " Layer (type)                Output Shape                 Param #   Connected to                  \n",
            "==================================================================================================\n",
            " encoder_inputs (InputLayer  [(None, None)]               0         []                            \n",
            " )                                                                                                \n",
            "                                                                                                  \n",
            " positional_embedding (Posi  (None, None, 512)            3585536   ['encoder_inputs[0][0]']      \n",
            " tionalEmbedding)                                         0                                       \n",
            "                                                                                                  \n",
            " decoder_inputs (InputLayer  [(None, None)]               0         []                            \n",
            " )                                                                                                \n",
            "                                                                                                  \n",
            " transformer_encoder (Trans  (None, None, 512)            9453568   ['positional_embedding[0][0]']\n",
            " formerEncoder)                                                                                   \n",
            "                                                                                                  \n",
            " model_1 (Functional)        (None, None, 70000)          8962136   ['decoder_inputs[0][0]',      \n",
            "                                                          0          'transformer_encoder[0][0]'] \n",
            "                                                                                                  \n",
            "==================================================================================================\n",
            "Total params: 134930288 (514.72 MB)\n",
            "Trainable params: 134930288 (514.72 MB)\n",
            "Non-trainable params: 0 (0.00 Byte)\n",
            "__________________________________________________________________________________________________\n"
          ]
        }
      ]
    },
    {
      "cell_type": "code",
      "source": [
        "class CustomSchedule(tf.keras.optimizers.schedules.LearningRateSchedule):\n",
        "  def __init__(self, d_model, warmup_steps=4000):\n",
        "    super().__init__()\n",
        "\n",
        "    self.d_model = d_model\n",
        "    self.d_model = tf.cast(self.d_model, tf.float32)\n",
        "\n",
        "    self.warmup_steps = warmup_steps\n",
        "\n",
        "  def __call__(self, step):\n",
        "    step = tf.cast(step, dtype=tf.float32)\n",
        "    arg1 = tf.math.rsqrt(step)\n",
        "    arg2 = step * (self.warmup_steps ** -1.5)\n",
        "\n",
        "    return tf.math.rsqrt(self.d_model) * tf.math.minimum(arg1, arg2)\n",
        "\n",
        "  def get_config(self):\n",
        "    return {\"d_model\": self.d_model.numpy(), \"warmup_steps\": self.warmup_steps}"
      ],
      "metadata": {
        "id": "s1zKhFyNbq08"
      },
      "execution_count": null,
      "outputs": []
    },
    {
      "cell_type": "code",
      "source": [
        "learning_rate = CustomSchedule(latent_dim)\n",
        "\n",
        "optimizer = tf.keras.optimizers.Adam(learning_rate, beta_1=0.9, beta_2=0.98,\n",
        "                                     epsilon=1e-9)"
      ],
      "metadata": {
        "id": "l7INMGVDbxQT"
      },
      "execution_count": null,
      "outputs": []
    },
    {
      "cell_type": "code",
      "source": [
        "plt.plot(learning_rate(tf.range(40000, dtype=tf.float32)))\n",
        "plt.ylabel('Learning Rate')\n",
        "plt.xlabel('Train Step')"
      ],
      "metadata": {
        "colab": {
          "base_uri": "https://localhost:8080/",
          "height": 466
        },
        "id": "X0R7yqaIbyUy",
        "outputId": "15724271-8233-451b-d279-88724bf90f4a"
      },
      "execution_count": null,
      "outputs": [
        {
          "output_type": "execute_result",
          "data": {
            "text/plain": [
              "Text(0.5, 0, 'Train Step')"
            ]
          },
          "metadata": {},
          "execution_count": 23
        },
        {
          "output_type": "display_data",
          "data": {
            "text/plain": [
              "<Figure size 640x480 with 1 Axes>"
            ],
            "image/png": "[encoded data removed]"
          },
          "metadata": {}
        }
      ]
    },
    {
      "cell_type": "code",
      "source": [
        "early_stopping = callbacks.EarlyStopping(\n",
        "    monitor='val_loss',\n",
        "    patience=10,\n",
        "    restore_best_weights=True\n",
        ")\n",
        "\n",
        "checkpoint_filepath = '/content/drive/MyDrive/NMT-Transformer/checkpoint'\n",
        "model_checkpoint_callback = callbacks.ModelCheckpoint(\n",
        "    filepath=checkpoint_filepath,\n",
        "    save_weights_only=False,\n",
        "    monitor='val_accuracy',\n",
        "    mode='max',\n",
        "    save_best_only=True)\n",
        "\n",
        "csv_logger = callbacks.CSVLogger('/content/drive/MyDrive/NMT-Transformer/training_log.csv' , append=True)\n",
        "\n",
        "\n",
        "backup_callback = callbacks.BackupAndRestore(backup_dir=\"/content/drive/MyDrive/NMT-Transformer/backup\" ,\n",
        "                                             delete_checkpoint=False)"
      ],
      "metadata": {
        "id": "t3KltP7-b6DH"
      },
      "execution_count": null,
      "outputs": []
    },
    {
      "cell_type": "code",
      "source": [
        "epochs = 30\n",
        "transformer.compile(\n",
        "    optimizer=optimizer,\n",
        "    loss=\"sparse_categorical_crossentropy\",\n",
        "    metrics=[\"accuracy\"]\n",
        ")"
      ],
      "metadata": {
        "id": "7hRRuEwKcC8f"
      },
      "execution_count": null,
      "outputs": []
    },
    {
      "cell_type": "code",
      "source": [
        "transformer.load_weights('/content/drive/MyDrive/NMT-Transformer/checkpoint/')"
      ],
      "metadata": {
        "colab": {
          "base_uri": "https://localhost:8080/"
        },
        "id": "jS0tkcbNndC2",
        "outputId": "32ac3598-ea6e-4dd8-b51b-499d398b4d5d"
      },
      "execution_count": null,
      "outputs": [
        {
          "output_type": "execute_result",
          "data": {
            "text/plain": [
              "<tensorflow.python.checkpoint.checkpoint.CheckpointLoadStatus at 0x7c6f688e90c0>"
            ]
          },
          "metadata": {},
          "execution_count": 22
        }
      ]
    },
    {
      "cell_type": "code",
      "source": [
        "history = transformer.fit(train_ds,\n",
        "                epochs=epochs,\n",
        "                validation_data=test_ds ,\n",
        "                callbacks=[\n",
        "                      early_stopping ,\n",
        "                      model_checkpoint_callback ,\n",
        "                      csv_logger ,\n",
        "                      backup_callback ])"
      ],
      "metadata": {
        "colab": {
          "base_uri": "https://localhost:8080/"
        },
        "id": "A_tWPXkZcEau",
        "outputId": "6f8d11bd-40e5-4506-a4a4-c510d1d9eba8"
      },
      "execution_count": null,
      "outputs": [
        {
          "output_type": "stream",
          "name": "stdout",
          "text": [
            "Epoch 1/30\n",
            "1407/1407 [==============================] - 896s 624ms/step - loss: 6.8255 - accuracy: 0.1977 - val_loss: 5.3312 - val_accuracy: 0.2766\n",
            "Epoch 2/30\n",
            "1407/1407 [==============================] - 873s 621ms/step - loss: 5.0150 - accuracy: 0.3038 - val_loss: 4.6646 - val_accuracy: 0.3312\n",
            "Epoch 3/30\n",
            "1407/1407 [==============================] - 867s 616ms/step - loss: 4.5488 - accuracy: 0.3452 - val_loss: 4.3673 - val_accuracy: 0.3575\n",
            "Epoch 4/30\n",
            "1407/1407 [==============================] - 906s 644ms/step - loss: 4.1906 - accuracy: 0.3812 - val_loss: 4.1769 - val_accuracy: 0.3778\n",
            "Epoch 5/30\n",
            "1407/1407 [==============================] - 876s 623ms/step - loss: 3.8705 - accuracy: 0.4149 - val_loss: 4.1196 - val_accuracy: 0.3872\n",
            "Epoch 6/30\n",
            "1407/1407 [==============================] - 850s 604ms/step - loss: 3.6013 - accuracy: 0.4448 - val_loss: 4.1486 - val_accuracy: 0.3871\n",
            "Epoch 7/30\n",
            "1407/1407 [==============================] - 863s 613ms/step - loss: 3.3623 - accuracy: 0.4726 - val_loss: 4.1427 - val_accuracy: 0.3898\n",
            "Epoch 8/30\n",
            " 350/1407 [======>.......................] - ETA: 9:59 - loss: 3.2264 - accuracy: 0.4885 "
          ]
        }
      ]
    },
    {
      "cell_type": "code",
      "source": [
        "history = transformer.fit(train_ds,\n",
        "                epochs=epochs,\n",
        "                validation_data=test_ds ,\n",
        "                callbacks=[\n",
        "                      early_stopping ,\n",
        "                      model_checkpoint_callback ,\n",
        "                      csv_logger ,\n",
        "                      backup_callback ])"
      ],
      "metadata": {
        "colab": {
          "base_uri": "https://localhost:8080/"
        },
        "id": "-jDJsi4Tklox",
        "outputId": "52667cb3-13ca-402c-85a0-daa26f5ec4bb"
      },
      "execution_count": null,
      "outputs": [
        {
          "output_type": "stream",
          "name": "stdout",
          "text": [
            "Epoch 8/20\n",
            "1407/1407 [==============================] - 1070s 680ms/step - loss: 3.1962 - accuracy: 0.4917 - val_loss: 4.0161 - val_accuracy: 0.4009\n",
            "Epoch 9/20\n",
            "1407/1407 [==============================] - 957s 680ms/step - loss: 2.9679 - accuracy: 0.5231 - val_loss: 4.1267 - val_accuracy: 0.3964\n",
            "Epoch 10/20\n",
            "1407/1407 [==============================] - 919s 653ms/step - loss: 2.7810 - accuracy: 0.5512 - val_loss: 4.2554 - val_accuracy: 0.3903\n",
            "Epoch 11/20\n",
            "1407/1407 [==============================] - 918s 653ms/step - loss: 2.6294 - accuracy: 0.5758 - val_loss: 4.3769 - val_accuracy: 0.3878\n",
            "Epoch 12/20\n",
            "1407/1407 [==============================] - 926s 658ms/step - loss: 2.4970 - accuracy: 0.5983 - val_loss: 4.4971 - val_accuracy: 0.3821\n",
            "Epoch 13/20\n",
            "1407/1407 [==============================] - 919s 653ms/step - loss: 2.3724 - accuracy: 0.6196 - val_loss: 4.6123 - val_accuracy: 0.3800\n",
            "Epoch 14/20\n",
            "1407/1407 [==============================] - 957s 680ms/step - loss: 2.2569 - accuracy: 0.6399 - val_loss: 4.7303 - val_accuracy: 0.3760\n",
            "Epoch 15/20\n",
            "1407/1407 [==============================] - 919s 653ms/step - loss: 2.1519 - accuracy: 0.6589 - val_loss: 4.8310 - val_accuracy: 0.3748\n",
            "Epoch 16/20\n",
            "1407/1407 [==============================] - 921s 654ms/step - loss: 2.0560 - accuracy: 0.6764 - val_loss: 4.9511 - val_accuracy: 0.3709\n",
            "Epoch 17/20\n",
            "1407/1407 [==============================] - 920s 654ms/step - loss: 1.9662 - accuracy: 0.6932 - val_loss: 5.0906 - val_accuracy: 0.3700\n",
            "Epoch 18/20\n",
            "1407/1407 [==============================] - 922s 655ms/step - loss: 1.8851 - accuracy: 0.7085 - val_loss: 5.1842 - val_accuracy: 0.3685\n"
          ]
        }
      ]
    },
    {
      "cell_type": "code",
      "source": [
        "history = transformer.fit(train_ds,\n",
        "                epochs=epochs,\n",
        "                validation_data=test_ds ,\n",
        "                callbacks=[\n",
        "                      early_stopping ,\n",
        "                      model_checkpoint_callback ,\n",
        "                      csv_logger ,\n",
        "                      backup_callback ])"
      ],
      "metadata": {
        "colab": {
          "base_uri": "https://localhost:8080/"
        },
        "id": "qy3Zv_ga5oYI",
        "outputId": "1ab4142d-802f-4abd-f254-9ab65e451b56"
      },
      "execution_count": null,
      "outputs": [
        {
          "output_type": "stream",
          "name": "stdout",
          "text": [
            "Epoch 11/20\n",
            "1407/1407 [==============================] - 995s 658ms/step - loss: 2.6488 - accuracy: 0.5711 - val_loss: 4.2840 - val_accuracy: 0.3925\n",
            "Epoch 12/20\n",
            "1407/1407 [==============================] - 884s 628ms/step - loss: 2.4903 - accuracy: 0.5998 - val_loss: 4.4392 - val_accuracy: 0.3855\n",
            "Epoch 13/20\n",
            "1407/1407 [==============================] - 927s 659ms/step - loss: 2.3541 - accuracy: 0.6231 - val_loss: 4.5842 - val_accuracy: 0.3829\n",
            "Epoch 14/20\n",
            "1407/1407 [==============================] - 926s 658ms/step - loss: 2.2375 - accuracy: 0.6435 - val_loss: 4.7294 - val_accuracy: 0.3829\n",
            "Epoch 15/20\n",
            " 374/1407 [======>.......................] - ETA: 10:12 - loss: 2.1109 - accuracy: 0.6644"
          ]
        }
      ]
    },
    {
      "cell_type": "code",
      "source": [
        "transformer.save('/content/drive/MyDrive/NMT-Transformer/V1-50k-106M.h5')"
      ],
      "metadata": {
        "id": "C0upbQYO-9hW"
      },
      "execution_count": null,
      "outputs": []
    },
    {
      "cell_type": "code",
      "source": [
        "transformer.load_model('/content/drive/MyDrive/MP/V1-50k-106M.h5')"
      ],
      "metadata": {
        "id": "su59m9yO5a-i"
      },
      "execution_count": null,
      "outputs": []
    },
    {
      "cell_type": "code",
      "source": [
        "import os\n",
        "def plot_loss_and_accuracy(history, save_dir=None, filename=None):\n",
        "    # Extract the loss and accuracy values from the history object\n",
        "    loss = history.history['loss']\n",
        "    val_loss = history.history['val_loss']\n",
        "    accuracy = history.history['accuracy']\n",
        "    val_accuracy = history.history['val_accuracy']\n",
        "\n",
        "    # Get the number of epochs\n",
        "    epochs = range(1, len(loss) + 1)\n",
        "\n",
        "    # Plot training and validation loss\n",
        "    plt.figure(figsize=(12, 5))\n",
        "    plt.subplot(1, 2, 1)\n",
        "    plt.plot(epochs, loss, 'bo-', label='Training Loss')\n",
        "    plt.plot(epochs, val_loss, 'ro-', label='Validation Loss')\n",
        "    plt.title('Training and Validation Loss')\n",
        "    plt.xlabel('Epochs')\n",
        "    plt.ylabel('Loss')\n",
        "    plt.legend()\n",
        "\n",
        "    # Plot training and validation accuracy\n",
        "    plt.subplot(1, 2, 2)\n",
        "    plt.plot(epochs, accuracy, 'bo-', label='Training Accuracy')\n",
        "    plt.plot(epochs, val_accuracy, 'ro-', label='Validation Accuracy')\n",
        "    plt.title('Training and Validation Accuracy')\n",
        "    plt.xlabel('Epochs')\n",
        "    plt.ylabel('Accuracy')\n",
        "    plt.legend()\n",
        "\n",
        "    plt.tight_layout()\n",
        "\n",
        "    # Save the figure if save_dir and filename are provided\n",
        "    if save_dir and filename:\n",
        "        os.makedirs(save_dir, exist_ok=True)\n",
        "        save_path = os.path.join(save_dir, filename)\n",
        "        plt.savefig(save_path)\n",
        "        print(f\"Plots saved as '{save_path}'\")\n",
        "\n",
        "    plt.show()\n",
        "plot_loss_and_accuracy(history ,\"/content/drive/MyDrive/NMT-Transformer\", \"V1-50k-106M_trainloss.png\" )"
      ],
      "metadata": {
        "id": "m33uAGgxGZYJ"
      },
      "execution_count": null,
      "outputs": []
    },
    {
      "cell_type": "code",
      "source": [
        "eng_vocab = eng_vectorization.get_vocabulary()\n",
        "eng_index_lookup = dict(zip(range(len(eng_vocab)), eng_vocab))\n",
        "max_decoded_sentence_length = 20"
      ],
      "metadata": {
        "id": "LIIGKkcoGasH"
      },
      "execution_count": null,
      "outputs": []
    },
    {
      "cell_type": "code",
      "source": [
        "def decode_sequence(input_sentence):\n",
        "    tokenized_input_sentence = mar_vectorization([input_sentence])\n",
        "    decoded_sentence = \"[start]\"\n",
        "    for i in range(max_decoded_sentence_length):\n",
        "        tokenized_target_sentence = eng_vectorization([decoded_sentence])[:, :-1]\n",
        "        predictions = transformer([tokenized_input_sentence, tokenized_target_sentence])\n",
        "\n",
        "        sampled_token_index = np.argmax(predictions[0, i, :])\n",
        "        sampled_token = eng_index_lookup[sampled_token_index]\n",
        "        decoded_sentence += \" \" + sampled_token\n",
        "\n",
        "        if sampled_token == \"[end]\":\n",
        "            break\n",
        "    return decoded_sentence"
      ],
      "metadata": {
        "id": "lelt5ZZMGffB"
      },
      "execution_count": null,
      "outputs": []
    },
    {
      "cell_type": "code",
      "source": [
        "sample  = random.choice(train_pairs)\n",
        "input_sentence = sample[0]\n",
        "translated = decode_sequence(input_sentence)\n",
        "print('marathi - ' , input_sentence )\n",
        "print('english' )\n",
        "print('Ground Truth : ', sample[1])\n",
        "print('Macenge Translation : ' , translated )"
      ],
      "metadata": {
        "colab": {
          "base_uri": "https://localhost:8080/"
        },
        "id": "Zj8yRA6Dj1Bi",
        "outputId": "b3a28d5f-21c4-4d36-f8cc-ff69a0208f02"
      },
      "execution_count": null,
      "outputs": [
        {
          "output_type": "stream",
          "name": "stdout",
          "text": [
            "Tamil -  भाजपचे राष्ट्रीय अध्यक्ष अमित शहा सध्या लातुर दौऱ्यावर आहेत.\n",
            "Hindi\n",
            "Ground Truth :  [start] BJP National President Amit Shah has already been touring the State. [end]\n",
            "Machine Translation :  [start] bjp national president amit shah has also been appointed as the chief minister of the state [end]\n"
          ]
        }
      ]
    },
    {
      "cell_type": "code",
      "source": [
        "import re\n",
        "import pandas as pd\n",
        "\n",
        "df = pd.read_excel('/content/drive/MyDrive/NMT-Transformer/comparisons2.xlsx')\n",
        "\n",
        "predictions = []\n",
        "\n",
        "def remove_start_end(sentence):\n",
        "    output = re.sub(r'\\[start\\]', '', sentence)\n",
        "    output = re.sub(r'\\[end\\]', '', output)\n",
        "    return output.strip()\n",
        "\n",
        "for index, row in df.iterrows():\n",
        "    input_sentence = str(row['Marathi']).strip()\n",
        "    translated = remove_start_end(decode_sequence(input_sentence))\n",
        "    # translated = decode_sequence(input_sentence)\n",
        "    print('Marathi- ' , input_sentence )\n",
        "    print('Macenge Translation : ' , translated )\n",
        "    predictions.append(translated)\n",
        "\n",
        "df['Transformer-Prediction'] = predictions\n",
        "\n",
        "df.to_excel('/content/drive/MyDrive/NMT-Transformer/output_comparisons2.xlsx', index=False)"
      ],
      "metadata": {
        "colab": {
          "base_uri": "https://localhost:8080/"
        },
        "id": "_U8aw70sOfXO",
        "outputId": "8b2bbf99-fa7a-40f0-8912-6c0a563e12f5"
      },
      "execution_count": null,
      "outputs": [
        {
          "output_type": "stream",
          "name": "stdout",
          "text": [
            "Marathi -  खर्च कोण करणार\n",
            "Machine Translation :  who will pay\n",
            "Marathi -  अधिवेशनातील कार्यक्रम\n",
            "Machine Translation :  conference of students\n",
            "Marathi -  मायलिनला धक्का पोहोचल्याचा परिणाम मेंदूकडून शरीराच्या अन्य भागांकडे पोहोचणाऱ्या संदेशांवर होतो\n",
            "Machine Translation :  the main reason that the death of a tree can cause of the death toll is expected to be able\n",
            "Marathi -  इतका खंबीरपणा कुठुन मिळवला असेल त्याने\n",
            "Machine Translation :  so that would be a man of wisdom\n",
            "Marathi -  हा महोत्सव सर्वांसाठी विनामूल्य ठेवण्यात आला आहे\n",
            "Machine Translation :  the festival is free for all\n",
            "Marathi -  या प्रकल्पाबरोबरच सरकारने रातले जल विद्युत प्रकल्प येथिल हजारो युवकांना रोजगारही मिळणार आहे\n",
            "Machine Translation :  the minister said that the water scheme is being provided by youth power through the government of india to provide\n",
            "Marathi -  मुंबई – गोव्यातील भाजपचे मुख्यमंत्री मनोहर पर्रिकर यांची प्रकृती पुन्हा खालावली आहे\n",
            "Machine Translation :  mumbai bjp chief minister manohar parrikar resigned from his post\n",
            "Marathi -  ‘‘तुला काही आठवलं का\n",
            "Machine Translation :  why is it really a little thing about the life of the people\n",
            "Marathi -  यामुळे स्थानिक नागरिक हैराण झाला आहे\n",
            "Machine Translation :  this has caused local residents of the local residents\n",
            "Marathi -  तर केवळ पक्षाला मजबूत करण्यासाठी\n",
            "Machine Translation :  only the party is strong\n",
            "Marathi -  जगदीप अभिनयास सुरुवात बाल कलाकार म्हणून बी आर चोपरा यांच्या अफसाना या चित्रपटाने केली\n",
            "Machine Translation :  the film was launched by the actor who began his family welfare with a special award for the film\n",
            "Marathi -  एक्स्प्रेस वेवरील अपघातात दोघांचा मृत्यू\n",
            "Machine Translation :  two women killed in road accident\n",
            "Marathi -  श्‍वसनाचे विकार असलेल्या व्यक्तीशी संपर्क ठेवताना काळजी घ्या\n",
            "Machine Translation :  patients contact with the patients of infection\n",
            "Marathi -  बस हॉटेल आइसलँडला थांबते\n",
            "Machine Translation :  but the bus stop there\n",
            "Marathi -  आता माघारीनंतरच चित्र स्पष्ट होणार आहे\n",
            "Machine Translation :  the picture is now clear now\n",
            "Marathi -  प्रियांका निकचे फोटो आणि व्हिडिओ सोशल मीडियावर मोठ्या प्रमाणात व्हायरल होत आसतात\n",
            "Machine Translation :  priyanka chopra and pictures of videos of her social media are going viral on social media\n",
            "Marathi -  वाहनचालक पोलिसांसमोरूनच पळून गेला होता\n",
            "Machine Translation :  the driver lost control\n",
            "Marathi -  ही सामुद्रधुनी रशियाच्या उत्तरेकडील कारा समुद्राला बारेंट्स समुद्रापासून वेगळे करते\n",
            "Machine Translation :  it is a different land of nature and its dark air strikes on its border\n",
            "Marathi -  तर हा मुद्दा आहे\n",
            "Machine Translation :  so this is the point\n",
            "Marathi -  पुरणपोळी डाएट सोशल मिडियावर जाम व्हायरल झालाय\n",
            "Machine Translation :  the song is getting viral on social media\n",
            "Marathi -  आता त्या प्रकरणाची एसआयटी मार्फत चौकशी होणार आहे\n",
            "Machine Translation :  the sit is set up the probe into the case\n",
            "Marathi -  ते त्यांचे वैयक्तीक मत आहे\n",
            "Machine Translation :  he is a personal account\n",
            "Marathi -  तसंच मोटरसायकल सुद्धा जप्त केली आहे\n",
            "Machine Translation :  also a car was also recovered\n",
            "Marathi -  पण तो व्यर्थ ठरला\n",
            "Machine Translation :  but it was worse\n",
            "Marathi -  त्यासाठी जवळजवळ कोटी रूपयांचा खर्च आला आहे\n",
            "Machine Translation :  the cost of rs 1000 crore has been spent on this\n",
            "Marathi -  तेलंगणाच्या मुख्यमंत्र्यांकडून अभिनंदन जागतिक बॅडिमटन स्पर्धेत ऐतिहासिक रौप्यपदक पटकावणाया सायना नेहवालचे तेलंगणाचे मुख्यमंत्री के चंद्रशेखर राव यांनी अभिनंदन केले\n",
            "Machine Translation :  president of the nation congratulated kovind on twitter handle the historic win by governor k advani and congratulate the indian\n",
            "Marathi -  ” काश्मीर हा भारताचा अंतर्गत विषय आहे\n",
            "Machine Translation :  india is the issue of kashmir\n",
            "Marathi -  “ सगळं काही सुरळीत चालू असतं तेव्हा प्रामाणिक राहणं सोपं जातं\n",
            "Machine Translation :  everything is easy to be better than a spiritual progress\n",
            "Marathi -  यामुळे लोकांनी सावधानता बाळगावी असा सल्ला देण्यात आला आहे\n",
            "Machine Translation :  this should be cautious if it is taken\n",
            "Marathi -  यासाठी कोट्यवधी रुपयांचा खर्च केला आहे\n",
            "Machine Translation :  this has been paid for the cost of crores\n",
            "Marathi -  त्यांची पद्धत वेगळी आहे\n",
            "Machine Translation :  their way is different\n",
            "Marathi -  माझी उत्सुकता जागृत झाली होती\n",
            "Machine Translation :  my mom was shocked\n",
            "Marathi -  तिन्ही ठिकाणच्या पोटनिवडणुकीत भाजपचा विजय निश्चित आहे\n",
            "Machine Translation :  the bjp has won in the state assembly elections\n",
            "Marathi -  याची जाण हवी\n",
            "Machine Translation :  this needs to know\n",
            "Marathi -  निवडणूक कार्यक्रम लवकरच लागणार आहे\n",
            "Machine Translation :  the election campaign will be held soon\n",
            "Marathi -  त्यामुळे ती घरात एकटीच होती\n",
            "Machine Translation :  she was alone at the house\n",
            "Marathi -  जखमी जवानांना लष्करी रुग्णालयात दाखल करण्यात आले आहे\n",
            "Machine Translation :  the injured soldiers have been admitted to hospital\n",
            "Marathi -  याशिवाय मोर्चात सहभागी होणाऱ्यांच्या आरोग्याची काळजी घेण्यासाठी डॉक्टरांची फौज तैनात केली जाणार आहे\n",
            "Machine Translation :  police will also take care of the doctors at least one nation\n",
            "Marathi -  या कोसळलेल्या इमारतीतून पाच नागरिकांना सुखरूप काढण्यात आलं आहे\n",
            "Machine Translation :  five persons were recovered from the building after the building\n",
            "Marathi -  पुन्हा एकदा दोघांचे फोटो सोशल मीडियावर व्हायरल झाले आहेत\n",
            "Machine Translation :  two of them have gone viral on social media\n",
            "Marathi -  भारतात ही संख्या खूपच अधिक आहे\n",
            "Machine Translation :  this number is very much more\n",
            "Marathi -  त्यांचे अनेक मिम्स आणि व्हीडिओ सोशल मीडियावर व्हायरल होत आहेत\n",
            "Machine Translation :  his video is going viral and many of social media\n",
            "Marathi -  यामुळे त्यांची घुसमट होते\n",
            "Machine Translation :  this has left them\n",
            "Marathi -  ही यादी भाजपच्या संसदीय मंडळाच्या मान्यतेनंतर जाहीर करण्यात आली होती\n",
            "Machine Translation :  the list was announced by the bjp government after its approval for the list of candidates\n",
            "Marathi -  मात्र तोपयर्ंत त्यांचा मृत्यू झाला होता अशी माहिती सूत्रांनी दिली\n",
            "Machine Translation :  however he died before the hospital\n",
            "Marathi -  यावेळी त्यांनी पंतप्रधान नरेंद्र मोदी यांच्या कामाची स्तुती केली\n",
            "Machine Translation :  he was also present at the prime minister narendra modi\n",
            "Marathi -  या चित्रपटाच्या प्रमोशनमध्ये ती सध्या व्यस्त आहे\n",
            "Machine Translation :  she is currently busy with the shooting of his film\n",
            "Marathi -  उपचार सुरु असतानाच त्‍यांची प्राणज्‍योत मालवली\n",
            "Machine Translation :  he died during the treatment\n",
            "Marathi -  व्हॉट्सअॅप चॅटमध्ये काय आहे\n",
            "Machine Translation :  what is whatsapp\n",
            "Marathi -  काँग्रेसच्या युवा विंगकडून पंतप्रधान मोदींबद्दल केलेल्या ट्विट बाबतही कठोर शब्दांत टीका केली\n",
            "Machine Translation :  the congress also expressed grief over the loss of lives in farmers he said\n",
            "Marathi -  विलीनीकरण आणि खाण संस्था संपादन आणि प्रोत्साहन\n",
            "Machine Translation :  meetings are a group of ministers and research\n",
            "Marathi -  लिवइनपेक्षा विवाहित महिला अधिक आनंदीः rss\n",
            "Machine Translation :  women can get married by woman says 2\n",
            "Marathi -  गेल्या वर्षापासून ते आजारी होते\n",
            "Machine Translation :  he was suffering from the last few years\n",
            "Marathi -  हा प्रकार तिने नंतर तिच्या पतीला सांगितला\n",
            "Machine Translation :  she told her husband about the same\n",
            "Marathi -  ed तुम्ही किती कंपन्यांच्या संचालक आहात\n",
            "Machine Translation :  what do you have the board of\n",
            "Marathi -  त्याला कर्माल च्या बाजूने असल्या कारणामुळे कैदीत टाकण्यात आले असले तरी शासनाने त्याला सौम्यतेने हाताळले\n",
            "Machine Translation :  he was given to the mind and he was able to do that he had to do the work and\n",
            "Marathi -  काहीच ओळखीचे दिसत नाही\n",
            "Machine Translation :  you cant see anything\n",
            "Marathi -  त्यानुसार वर्तकनगर पोलिसांनी आरोपीवर गुन्हा दाखल केला आहे\n",
            "Machine Translation :  the police has registered a case against the accused\n",
            "Marathi -  ही त्या व्यवसायाची विशेषता\n",
            "Machine Translation :  this is a special purpose in business\n",
            "Marathi -  चंद्रकांत पाटील\n",
            "Machine Translation :  chandrakant patil\n",
            "Marathi -  त्यांनी मांटल पेट्रोलॉजी आणि जियोकेमिस्ट्री यावर संशोधन केले आहे\n",
            "Machine Translation :  he also bought research and research on the basis of the research icmr and research\n",
            "Marathi -  बाबूरावांना हे त्याने कधीच कळू दिले नाही\n",
            "Machine Translation :  he has never been identified as to him\n",
            "Marathi -  वर्षाखालील मुले दुसरी फेरी\n",
            "Machine Translation :  children go to home\n",
            "Marathi -  पंतप्रधान मोदींच्या सोबत\n",
            "Machine Translation :  prime minister narendra modi\n",
            "Marathi -  ज्यासाठी त्याला तुरुंगवासाची शिक्षा ठेवण्यात आली\n",
            "Machine Translation :  he was sentenced to jail\n",
            "Marathi -  मला आणि मुलांना विश्वासू प्रेम\n",
            "Machine Translation :  i love my children love and best\n",
            "Marathi -  आजही आपण त्यांची ही प्रणाली वापरत आहोत\n",
            "Machine Translation :  it is now used to use its own system\n",
            "Marathi -  दरम्यान शाळा बंद ठेवल्याने पालकांनी संताप व्यक्त केला आहे\n",
            "Machine Translation :  meanwhile students have expressed concern over the school\n",
            "Marathi -  पूर्ण संघाचा हा विजय आहे’ अशा भावनांही त्याने व्यक्त केल्या\n",
            "Machine Translation :  he said he has won the game of the team\n",
            "Marathi -  पण त्यांत गडकरी नव्हते\n",
            "Machine Translation :  but the bjp did not\n",
            "Marathi -  लिंबाचा रस लिंबाच्या रसात व्हिटामीन सी असते\n",
            "Machine Translation :  a cup of lemon juice is a rich time\n",
            "Marathi -  कोण कोणाची चौकशी करणार\n",
            "Machine Translation :  who is the investigation\n",
            "Marathi -  ख पवित्र आत्मा केवळ विशिष्ट प्रसंगीच कार्य करतो का\n",
            "Machine Translation :  b why is the faithful of the congregation\n",
            "Marathi -  त्यानंतर दोघांचे मृतदेह शवविच्छेदनासाठी ससून रुग्णालयात पाठवले\n",
            "Machine Translation :  the body was sent for postmortem to a hospital for postmortem\n",
            "Marathi -  शिक्षण व आरोग्य व्यवस्थेवरही आम्ही लक्ष केंद्रित करू असे आश्वासन त्यांनी दिले\n",
            "Machine Translation :  we will ensure that we will continue to improve the health of education and education he said\n",
            "Marathi -  जेवण झाल्यावर लगेच झोपायला जाऊ नये\n",
            "Machine Translation :  dont sleep immediately after a meal\n",
            "Marathi -  कमालीचा सुंदर मुलगी\n",
            "Machine Translation :  a beautiful picture\n",
            "Marathi -  आमची शाळा स्थानकाच्या पलीकडे आहे\n",
            "Machine Translation :  we are also a school\n",
            "Marathi -  सिनेमाची पटकथा उत्कृष्ट आहे\n",
            "Machine Translation :  the film is written by sir\n",
            "Marathi -  याबद्दल उत्सुकता होती\n",
            "Machine Translation :  thats what happened\n",
            "Marathi -  म्हणूनच या साक्षीदारांची सुरक्षा ही सत्य जाणून घेण्यामध्ये स्वारस्य असणाऱ्यांची पहिली चिंता असली पाहिजे\n",
            "Machine Translation :  so that the safety of children is to know that his own family is best care for the safety of\n",
            "Marathi -  भारत सरकारने या प्रकल्पासाठी निधी पुरवला आहे\n",
            "Machine Translation :  the government has given the funds to the national project\n",
            "Marathi -  पण आवडी ने काही ऐकले नाही\n",
            "Machine Translation :  but the reality was not surprised\n",
            "Marathi -  खडसे म्हणाले\n",
            "Machine Translation :  he said\n",
            "Marathi -  मात्र अद्याप तसा कोणताच निर्णय घेण्यात आलेला नाही\n",
            "Machine Translation :  however no decision has been taken yet\n",
            "Marathi -  ग्रामपंचायतीच्या निकालांवर मंत्री आदित्य ठाकरे यांनी प्रतिक्रिया दिली आहे\n",
            "Machine Translation :  minister aditya thackeray has expressed grief over the accident\n",
            "Marathi -  प्राथमिकता कार्यक्रमाच्या अंमलबजावणीत उत्कृष्ट कार्य करणाऱ्यांना पंतप्रधानांच्या हस्ते पुरस्कार\n",
            "Machine Translation :  he also honoured to be the first member of the project award\n",
            "Marathi -  मात्र रुग्णालयात दाखल करण्याआधीच खिल्लारे यांचा मृत्यू झाला होता\n",
            "Machine Translation :  but before reaching the hospital was died\n",
            "Marathi -  त्याठिकाणी मोठ्या प्रमाणात वाहतूकीची वर्दळ असते\n",
            "Machine Translation :  there are many people of animals here\n",
            "Marathi -  अपयशाची भीती बाळगू नये\n",
            "Machine Translation :  dont fear among them\n",
            "Marathi -  फ्रँक होण्यासाठी अद्याप कोणतेही स्पष्ट उत्तर नाही\n",
            "Machine Translation :  there is no answer to anybody\n",
            "Marathi -  राहुल गांधींनी कठोर शब्दात नाराजी व्यक्त केल्याची चर्चा\n",
            "Machine Translation :  rahul gandhi says he was angry\n",
            "Marathi -  तसेच तिची आई सोनी राजदान यांनीसुध्दा आलियाची ट्विटरच्या माध्यमातून प्रसंशा केली आहे\n",
            "Machine Translation :  her mother is also released on the twitter account of the mother too will be released through a twitter account\n",
            "Marathi -  इअतरही प्राणीदेखील अन्न अव पाण्याच्या शोधात भटकंती करत असतात\n",
            "Machine Translation :  the water is being supplied to the poor litres of water\n",
            "Marathi -  एमिलियानं भारतातले काही फोटो आपल्या इन्स्टाग्रामवर शेअर केले आहेत\n",
            "Machine Translation :  he shared the pictures from the indian on instagram\n",
            "Marathi -  या यात्रेवेळी आझमगडमध्ये त्यांनी पंतप्रधान नरेंद्र मोदींवर निशाणा साधला\n",
            "Machine Translation :  he visited prime minister narendra modi in this event\n",
            "Marathi -  या हल्ल्यात दोन ज्युनिअर डॉक्टर गंभीररित्या जखमी झाले\n",
            "Machine Translation :  he was injured in the attack one of the staff\n",
            "Marathi -  तोडफोडीची ही घटना सीसीटीव्हीमध्ये चित्रित झाली आहे\n",
            "Machine Translation :  the incident has been captured on cctv camera\n",
            "Marathi -  पण त्यात त्यांना अपयश आले होते\n",
            "Machine Translation :  but they failed\n",
            "Marathi -  ते सक्षम आहेत\n",
            "Machine Translation :  they are also able\n",
            "Marathi -  आपल्या पित्याच्या सहवासात त्याला नेहमी आनंद वाटत असे\n",
            "Machine Translation :  he was always in the way to do with his father and a child\n",
            "Marathi -  यामध्ये ट्रक चालकही गंभीर जखमी झाला आहे\n",
            "Machine Translation :  the truck also sustained serious injuries\n",
            "Marathi -  काहीना अपघातानंतर मणक्याला मार बसून गंभीर दुखापती झाली आहे\n",
            "Machine Translation :  the accident occurred near the village of ali khans murder\n",
            "Marathi -  सर्विसचा पहिला टप्पा आपल्या व दुसरा टप्पा प्रतिस्पर्ध्याच्या कोर्टात मारला नाही तर\n",
            "Machine Translation :  the first phase of the phase and is not in the case but in the second and third phase of\n",
            "Marathi -  याच मुद्द्यावरुन काँग्रेसचे नेते रणदीप सुरजेवाला यांनी पत्रकार परिषद घेतली\n",
            "Machine Translation :  congress leader randeep surjewala also spoke about the press conference\n",
            "Marathi -  दयाळू माणसाला लाभ होईल पण जो माणूस उलट्या काळजाचा असतो तो स्वतवर संकटे ओढवून घेतो\n",
            "Machine Translation :  what is the heart of wisdom but he is the heart of suffering and heart who is doing\n",
            "Marathi -  आम्ही कधीही म्हटले नाही की राहुल गांधी यांना पंतप्रधान बनवणार आहोत\n",
            "Machine Translation :  we will never say rahul gandhi\n",
            "Marathi -  हा आकडा येत्या काळात वाढतच जाणार आहे\n",
            "Machine Translation :  this number will continue in the coming days\n",
            "Marathi -  तसेच आदिवासी समाज देखील सरकारी नोकऱ्यांसाठी आणि जमीन वाटपाच्या मागण्यासाठी आंदोलन छेडण्याच्या तयारीत असल्याचं सर्व्हेक्षणात म्हटलं आहे\n",
            "Machine Translation :  the government also said that the public is now going to be formed to ensure that the scheme is not\n",
            "Marathi -  सगळे एकत्र जेवायला बसलेले होते\n",
            "Machine Translation :  all were ready\n",
            "Marathi -  यामुळे आरोग्यावर गंभीर परिणाम होतो\n",
            "Machine Translation :  this has created a serious health problem\n",
            "Marathi -  मात्र अजूनही वाहतूक विस्कळीत आहे\n",
            "Machine Translation :  however traffic has been disrupted\n",
            "Marathi -  देश धर्माच्या आधारावर विभागला गेला\n",
            "Machine Translation :  the country has kept the basis of religion\n",
            "Marathi -  मात्र चित्रपटाचे निर्माते आणि दिग्दर्शकांनी याबातमीला कोणतीही अधिकृत दुजोरा दिलेला नाही\n",
            "Machine Translation :  however the film has not been made yet to comment on the official website of the film\n",
            "Marathi -  त्यांच्यासोबत पोलीसही उपस्थित असल्याचे समजते\n",
            "Machine Translation :  police also said that\n",
            "Marathi -  तथापि मर्यादा आहेत\n",
            "Machine Translation :  there are however limit\n",
            "Marathi -  कोटींवरील रकमेसाठी पारपत्राचे तपशील अनिवार्य करण्यात आले आहे\n",
            "Machine Translation :  the meeting is also essential for the treatment of the pawar\n",
            "Marathi -  एक प्रकारे भारताच्या सांस्कृतिक वारशामध्ये सर्व जागतिक समस्यांवर उपाय आहेत असे पंतप्रधान म्हणाले\n",
            "Machine Translation :  he said india and the important cultural heritage of india is a global cultural programme for all things\n",
            "Marathi -  त्याचा व्हिडीओ व्हायरल झालाय\n",
            "Machine Translation :  his video has gone viral\n",
            "Marathi -  ही याचिका न्यायालयाने आज फेटाळून लावली\n",
            "Machine Translation :  the court however rejected the plea\n",
            "Marathi -  तुमच्याकडे वाचाण्याची परवानगी नसल्याने फोल्डर “b” मधील फाइल्स् हाताळणे शक्य नाही\n",
            "Machine Translation :  you have no access to a file type of text cannot be given this type\n",
            "Marathi -  या विरोधाभासाबद्दल तुमचे काय म्हणणे आहे\n",
            "Machine Translation :  what is your opinion about this issue\n",
            "Marathi -  देशातील सध्या पेट्रोलच्या आणि डीझेलच्या दरांनी आतापर्यंतचा उच्चांक गाठला आहे\n",
            "Machine Translation :  the prices of petrol and diesel have increased by rs\n",
            "Marathi -  एकाच दिवसात तुम्ही लाख फॉलोअर्स कमी केले आता किमान हे तरी मला सांगू द्या\n",
            "Machine Translation :  once a few days you will get more than 1 lakh litres of alcohol\n",
            "Marathi -  यामध्ये कोलेस्ट्रॉल आणि ट्रान्सफॅटचे प्रमाण खूप जास्त असते\n",
            "Machine Translation :  it can also lower cholesterol and high speed in the coming few colours\n",
            "Marathi -  शेतकरी आणि व्यापारी यांच्यात वाद होत आहेत\n",
            "Machine Translation :  farmers and farm laws are growing in a fight\n",
            "Marathi -  त्यामुळे लागलीच ही आग पसरत गेली\n",
            "Machine Translation :  the fire was immediately rushed to the hospital\n",
            "Marathi -  आपणं नक्की का वाचतो\n",
            "Machine Translation :  why do you feel that\n",
            "Marathi -  त्याला काही महिन्यांपासून श्वसनाचा त्रास होता\n",
            "Machine Translation :  he had been suffering from some problems\n",
            "Marathi -  कृती मुर्खासारखे मांस रस्सा\n",
            "Machine Translation :  method wash meat\n",
            "Marathi -  पण त्याचा वेगळा पैलू मांडायचा प्रयत्न आहे\n",
            "Machine Translation :  but one is different to choose to know this\n",
            "Marathi -  हरयाणात ते स्थायिक झाले\n",
            "Machine Translation :  he went to mumbai\n",
            "Marathi -  एअर इंडियाची विक्री करण्याचा निर्णय घेतल्याबद्दल भाजप खासदार सुब्रमण्यम स्वामी नाराजी व्यक्त केली आहे\n",
            "Machine Translation :  bjp leader air india has hit out at home minister amit shah rukh khan\n",
            "Marathi -  असे असले तरी मी याबाबत अद्यापही विचार केला नाही\n",
            "Machine Translation :  i have not yet been able to comment on the matter\n",
            "Marathi -  त्यांच्या दुकानातून मोठय़ा प्रमाणावर रोख रक्कम जप्त केली\n",
            "Machine Translation :  their cash has also been seized\n",
            "Marathi -  विद्यार्थ्यांना हा आठवडा अनुकूल आहे\n",
            "Machine Translation :  this is an important week\n",
            "Marathi -  ते आपल्या ताब्यात असल्याचा दावा पाकिस्तानने केला आहे\n",
            "Machine Translation :  pakistan has denied it\n",
            "Marathi -  साली बांधण्यात आलेल्या टाऊन हॉलच्या बिल्डिंगमध्ये या सोसायटीचा कारभार हलवण्यात आला\n",
            "Machine Translation :  the building was later established by the community with a security room for a tree and a tree of food\n",
            "Marathi -  फरहान अख्तर फरहान अख्तर अभिनेता आहे सोबत दिग्दर्शकही\n",
            "Machine Translation :  the film is being produced by farhan akhtar\n",
            "Marathi -  निवडणुकीचा निकाल त्याच दिवशी रात्री उशिरा जाहीर करण्यात येईल\n",
            "Machine Translation :  the result will be visible throughout the day\n",
            "Marathi -  वाहतुकीचा चक्रव्यूह\n",
            "Machine Translation :  traffic jams\n",
            "Marathi -  मात्र याबाबत\n",
            "Machine Translation :  but it\n",
            "Marathi -  हे खरच कौतुकास्पद आहे\n",
            "Machine Translation :  thats really amazing\n",
            "Marathi -  राष्ट्रीय लॉजीस्टिक धोरण\n",
            "Machine Translation :  national policy\n",
            "Marathi -  देवेंद्र फडणवीस यांच्या नेतृत्त्वात भारतीय जनता पक्षाने सत्ता स्थापन करावी\n",
            "Machine Translation :  devendra fadnavis should be elected as the leader of the indian government\n",
            "Marathi -  संत्तासंघर्ष अजूनही संपलेला नाही\n",
            "Machine Translation :  the battle hasnt come out\n",
            "Marathi -  “विद्या भारतीचे विद्यालय” याची प्रतिमा काय आहे\n",
            "Machine Translation :  what is the source of your image in the world\n",
            "Marathi -  भूकंपाची तीव्रता रिक्टर स्केल इतकी मोजण्यात आली होती\n",
            "Machine Translation :  the quake measured 45 on the occasion\n",
            "Marathi -  काळे असे आहे\n",
            "Machine Translation :  is it black\n",
            "Marathi -  नेमके काय करणार\n",
            "Machine Translation :  what exactly is it\n",
            "Marathi -  हे अनुकूल शहर पूर्व गेट म्हणून पोलंड मध्ये मानली जाते\n",
            "Machine Translation :  the main city is called upon a tree greek and next to this time\n",
            "Marathi -  काही नियमशास्त्राचे शिक्षक व परूशी यांच्यापैकी काही जणांनी येशूला म्हटले “गुरुजी तुमच्या हातून एखादे चिन्ह पहावे अशी आमची इच्छा आहे”\n",
            "Machine Translation :  some of the places and said unto thee say unto the lord saying say unto thee and our lord our\n",
            "Marathi -  अभ्यासाचे प्रश्‍न\n",
            "Machine Translation :  what is the purpose of life\n",
            "Marathi -  असे राहा सतर्क\n",
            "Machine Translation :  be careful that\n",
            "Marathi -  ऑस्ट्रेलिया दौर्‍यावर जाणाऱ्या संघात टीम इंडियाचा स्फोटक सलामीवीर रोहित शर्माचा समावेश करण्यात आला आहे\n",
            "Machine Translation :  the show was led by rohit sharma who won the squad in the squad\n",
            "Marathi -  निरोगी आणि समाधानी नातेसंबंध यांच्यामुळे निर्माण होतात\n",
            "Machine Translation :  healthy and grand wedding will star cast\n",
            "Marathi -  यांच्या पालनपोषणाचा खर्चही तुलनेने कमी असतो\n",
            "Machine Translation :  it is also lower the costs a lot of costs\n",
            "Marathi -  या धरणाच्या भिंतीची लांबी मीटर आहे\n",
            "Machine Translation :  the main accused is a length of time\n",
            "Marathi -  विहिरीत पडून ऊसतोड मजुराचा मृत्यू\n",
            "Machine Translation :  two killed in fire after water\n",
            "Marathi -  तामिळनाडूत भाजपच्या उमेदवारांची घोषणा\n",
            "Machine Translation :  bjp candidate wins bjp in tamil nadu\n",
            "Marathi -  कसे बाळ निरोगी आहेत का\n",
            "Machine Translation :  how is healthy\n",
            "Marathi -  हवामानाच्या नमुन्यांतील जाळीत दाखवलेले बिंदू आणि हवामान वेधशाळांचे नेमके ठिकाण बहुतेकवेळा वेगवेगळी निघतात\n",
            "Machine Translation :  the sky are cant look like the other cities and dark different weather same thing\n",
            "Marathi -  विराट कोहलीच्या टीम इंडियाने इंग्लंडमध्ये सुरू असलेल्या वर्ल्ड कपमध्ये कात टाकलीय\n",
            "Machine Translation :  virat kohli is on the worlds most successful series in england\n",
            "Marathi -  शेवटच्या सत्रात अनेक ठरावही पारित केले गेले\n",
            "Machine Translation :  last month many political parties had passed the resolution\n",
            "Marathi -  सामान्य विश्रांती आणि झोप\n",
            "Machine Translation :  sleep sleep and rest\n",
            "Marathi -  ला विकली जात आहे\n",
            "Machine Translation :  it is being sold out\n",
            "Marathi -  परीक्षा व्यवस्थित पार पडाव्यात यासाठी शिक्षण विभागाने आवश्यक त्या सूचना दिल्या आहेत\n",
            "Machine Translation :  the test is necessary to ensure education and necessary education minister vinod tawde said\n",
            "Marathi -  सर्व शिक्षकांनी विद्यार्थ्यांना परीक्षा व भावी वाटचालीसाठी शुभेच्छा दिल्या\n",
            "Machine Translation :  all the students and teachers are suffering from a good example for their best wishes\n",
            "Marathi -  त्यामुळे मी त्यांच्यावर टीका वा टिपण्णी करणार नाही\n",
            "Machine Translation :  so i wont comment against the people of the people dont respond\n",
            "Marathi -  प्रमुख पाहुणे म्हणून केंद्रीय वाहतूक मंत्री नितीन गडकरी हे होते\n",
            "Machine Translation :  union minister of state for transport nitin gadkari was the chief guest\n",
            "Marathi -  कोणी त्या विरोधात असेल तर मी त्याचं कधीच समर्थन करणार नाही\n",
            "Machine Translation :  i will never support it if any was any support he said\n",
            "Marathi -  याचेच आश्चर्य वाटत आहे\n",
            "Machine Translation :  this is what is surprising\n",
            "Marathi -  आमिर खान यांचा ही हा पहिला चित्रपट होता\n",
            "Machine Translation :  this was the first film to be the only actor\n",
            "Marathi -  खर्‍या पायघड्याच\n",
            "Machine Translation :  the truth\n",
            "Marathi -  प्रत्येक वेळी जिंकलंच पाहिजे असं नाही…\n",
            "Machine Translation :  it doesnt need to be so much that time\n",
            "Marathi -  सरकारच्या रोकड व्यवस्थापनाच्या निर्देशावरून पगार व निवृत्तीवेतनावर परिणाम होणार नाही हे स्पष्ट आहे\n",
            "Machine Translation :  the government is likely to be able to get the results will be affected by the revenue and tax on\n",
            "Marathi -  आगीच्या कारणाचा अद्याप पत्ता लागलेला नाही\n",
            "Machine Translation :  the cause of the fire has not been ascertained yet\n",
            "Marathi -  आपल्या जीवनात सर्व काही एक आवर्त बदलत आहे\n",
            "Machine Translation :  you have changed everything in your life\n",
            "Marathi -  मात्र भारत आणि चीनने तो प्रस्ताव स्वीकारण्याचे नाकारले\n",
            "Machine Translation :  however china has denied the charge of the indian government\n",
            "Marathi -  प्रथमोपचारकाची खबरदारी\n",
            "Machine Translation :  avoid touch with people\n",
            "Marathi -  परत घरी कधीच जायचे नाही\n",
            "Machine Translation :  never go back to home\n",
            "Marathi -  त्यामुळे पेट्रोलडिझेलसोबत सिलिंडरच्या किंमती वाढवू शकतात\n",
            "Machine Translation :  the price of the products can also be reduced\n",
            "Marathi -  कोरोनाबाधित विद्यार्थ्यांना नजीकच्या रुग्णालयात दाखल करण्यात आलं आहे\n",
            "Machine Translation :  the students of the injured have been admitted to a nearby hospital\n",
            "Marathi -  किती सहज जीवन होता ते\n",
            "Machine Translation :  how much is it was\n",
            "Marathi -  तिच्या घरी सुसाइड नोट आढळली नाही आणि घराचा दरवाजादेखील उघडा होता\n",
            "Machine Translation :  the suicide no note was found at home and no note was allowed by a suicide\n",
            "Marathi -  हा खून कौटुंबिक वादातून झाला असल्याचा अंदाज पोलिसांनी व्यक्त केला आहे\n",
            "Machine Translation :  the police said that the murder was caused by a family members of the deceased\n",
            "Marathi -  मेरिकेचे राष्ट्राध्यक्ष डोनाल्ड ट्रम्प यांनी उडविली इम्रान खान यांची खिल्ली\n",
            "Machine Translation :  us president donald trump speaks about a lot of views on kashmir\n",
            "Marathi -  अवश्य वाचा – world cup धोनीकेदार जाधवने संथ खेळ केला सचिन तेंडुलकर नाराज\n",
            "Machine Translation :  icc world cup 2019 india skipper virat kohli to be very close to his side\n",
            "Marathi -  त्यानंतर गाडी रवाना करण्यात आली\n",
            "Machine Translation :  the car was later sent\n",
            "Marathi -  मी मदतीसाठी कधीही तयार असेन\n",
            "Machine Translation :  i would be able to help you\n",
            "Marathi -  युद्ध हा समस्या सोडवण्याचा उपाय नव्हे त्यात आपण केवळ आपले जीवच गमावू\n",
            "Machine Translation :  the war is not a solution but the problem is with the problem of the government and their lives are\n",
            "Marathi -  मुळात या खूप खासगी बाबी आहेत\n",
            "Machine Translation :  these are very very private\n",
            "Marathi -  ही घटना उत्तर प्रदेशातील हरदोई येथे घडली\n",
            "Machine Translation :  the incident took place in uttar pradesh\n",
            "Marathi -  पण नंतर मी गेलीच नाही\n",
            "Machine Translation :  but i didnt return later\n",
            "Marathi -  इंच आकाराची स्क्रीन\n",
            "Machine Translation :  in a super series\n",
            "Marathi -  महिलांना स्वतःला मजबूत बनवणे आवश्यक आहे\n",
            "Machine Translation :  women have to be needed\n",
            "Marathi -  किंवा हिंदी\n",
            "Machine Translation :  or in hindi\n",
            "Marathi -  पोलिसांनी त्याला शनिवारी न्यायालयात हजर केले\n",
            "Machine Translation :  he was produced in the court on thursday\n",
            "Marathi -  ‘घटनाकार डॉ बाबासाहेब आंबेडकरांनी संविधान निर्माण करून सर्वांना अधिकार दिले आहेत\n",
            "Machine Translation :  the constitution provides for the constitution of all the supreme court and all of india\n",
            "Marathi -  नीतू यांनी त्यांच्या इन्स्टाग्राम अकाऊंटवर हा फोटो शेअर केला आहे\n",
            "Machine Translation :  a video shared on her instagram account\n"
          ]
        }
      ]
    },
    {
      "cell_type": "code",
      "source": [
        "sample  = random.choice(test_pairs)\n",
        "input_sentence = sample[0]\n",
        "translated = decode_sequence(input_sentence)\n",
        "print('marathi - ' , input_sentence )\n",
        "print('english' )\n",
        "print('Ground Truth : ', sample[1])\n",
        "print('Machine Translation : ' , translated )"
      ],
      "metadata": {
        "id": "kx8uj2Xfj9KY",
        "colab": {
          "base_uri": "https://localhost:8080/"
        },
        "outputId": "9f62372e-6eba-47f3-8142-bcccb66c40ef"
      },
      "execution_count": null,
      "outputs": [
        {
          "output_type": "stream",
          "name": "stdout",
          "text": [
            "Tamil -  आंध्र आणि ओडिशात अनेक ठिकाणी मुसळधार पाऊस कोसळत आहे.\n",
            "Hindi\n",
            "Ground Truth :  [start] Heavy rain is expected in some districts of Odisha and Andhra Pradesh. [end]\n",
            "Machine Translation :  [start] heavy rains are lashed parts of andhra pradesh and vidarbha [end]\n"
          ]
        }
      ]
    }
  ]
}