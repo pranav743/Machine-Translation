{
  "nbformat": 4,
  "nbformat_minor": 0,
  "metadata": {
    "colab": {
      "provenance": []
    },
    "kernelspec": {
      "name": "python3",
      "display_name": "Python 3"
    },
    "language_info": {
      "name": "python"
    }
  },
  "cells": [
    {
      "cell_type": "code",
      "execution_count": null,
      "metadata": {
        "id": "mzrJG9z5QpX5"
      },
      "outputs": [],
      "source": [
        "import pathlib\n",
        "import random\n",
        "import string\n",
        "import re\n",
        "import numpy as np\n",
        "import pandas as pd\n",
        "import matplotlib.pyplot as plt\n",
        "import tensorflow as tf\n",
        "from tensorflow import keras\n",
        "from tensorflow.keras import layers\n",
        "from tensorflow.keras.layers import TextVectorization\n",
        "from tensorflow.keras.callbacks import EarlyStopping\n",
        "from tensorflow.keras import callbacks"
      ]
    },
    {
      "cell_type": "code",
      "source": [
        "from google.colab import drive\n",
        "drive.mount('/content/drive')"
      ],
      "metadata": {
        "id": "7XLc1CGkRoD8",
        "colab": {
          "base_uri": "https://localhost:8080/"
        },
        "outputId": "b692fac8-69f8-44de-ca2c-f108db1525ef"
      },
      "execution_count": null,
      "outputs": [
        {
          "output_type": "stream",
          "name": "stdout",
          "text": [
            "Mounted at /content/drive\n"
          ]
        }
      ]
    },
    {
      "cell_type": "code",
      "source": [
        "hindi_file = '/content/drive/MyDrive/MP/dataset/hi-ta/train.hi'\n",
        "tamil_file = '/content/drive/MyDrive/MP/dataset/hi-ta/train.ta'"
      ],
      "metadata": {
        "id": "u7RVGMr-RylX"
      },
      "execution_count": null,
      "outputs": []
    },
    {
      "cell_type": "code",
      "source": [
        "with open(hindi_file, 'r') as file:\n",
        "    hindi_sentences = file.readlines()\n",
        "with open(tamil_file, 'r') as file:\n",
        "    tamil_sentences = file.readlines()\n",
        "\n",
        "\n",
        "hindi_sentences = [sentence.rstrip('\\n') for sentence in hindi_sentences]\n",
        "tamil_sentences = [sentence.rstrip('\\n') for sentence in tamil_sentences]"
      ],
      "metadata": {
        "id": "NpwqPEFYSJQV"
      },
      "execution_count": null,
      "outputs": []
    },
    {
      "cell_type": "code",
      "source": [
        "hindi_vocabulary = [ ' ', 'अ', 'आ', 'इ', 'ई', 'उ', 'ऊ', 'ऋ', 'ए', 'ऐ', 'ओ', 'औ', 'क', 'ख',\n",
        "                     'ग', 'घ', 'ङ', 'च', 'छ', 'ज', 'झ', 'ञ', 'ट', 'ठ', 'ड', 'ढ', 'ण', 'त', 'थ',\n",
        "                     'द', 'ध', 'न', 'प', 'फ', 'ब', 'भ', 'म', 'य', 'र', 'ल', 'व', 'श', 'ष', 'स',\n",
        "                     'ह', 'क्ष', 'त्र', 'ज्ञ'\n",
        "                      ]\n",
        "\n",
        "tamil_vocabulary = [ ' ', '!', '\"', '#', '$', '%', '&', \"'\", '(', ')', '*', '+', ',', '-', '.', '/',\n",
        "                      '0', '1', '2', '3', '4', '5', '6', '7', '8', '9', ':', '<', '=', '>', '?', 'ˌ',\n",
        "                      \"ஃ\", \"அ\", \"ஆ\", \"இ\", \"ஈ\", \"உ\", \"ஊ\", \"எ\", \"ஏ\", \"ஐ\", \"ஒ\", \"ஓ\", \"ஔ\",\n",
        "                      \"க\", \"ங\", \"ச\", \"ஜ\", \"ஞ\", \"ட\", \"ண\",\n",
        "                      \"த\", \"ந\", \"ன\", \"ப\", \"ம\", \"ய\", \"ர\",\n",
        "                      \"ற\", \"ல\", \"ள\", \"ழ\", \"வ\", \"ஶ\", \"ஷ\", \"ஸ\", \"ஹ\",\n",
        "                      \"ா\", \"ி\", \"ீ\", \"ு\", \"ூ\", \"ெ\", \"ே\", \"ை\", \"ொ\", \"ோ\", \"ௌ\", \"்\", \"ௗ\",\n",
        "                      \"௦\", \"௧\", \"௨\", \"௫\", \"௬\", \"௲\", \"௳\"\n",
        "                      ]"
      ],
      "metadata": {
        "id": "9B6tXb6_SOud"
      },
      "execution_count": null,
      "outputs": []
    },
    {
      "cell_type": "code",
      "source": [
        "def is_valid_tokens(sentence , vocab):\n",
        "    for token in list(set(sentence)):\n",
        "        if token not in vocab:\n",
        "            return False\n",
        "    return True\n",
        "\n",
        "valid_sentence_indicies = []\n",
        "for index in range(len(hindi_sentences)):\n",
        "    tamil_sentence, hindi_sentence = tamil_sentences[index], hindi_sentences[index]\n",
        "    if is_valid_tokens(tamil_sentence, tamil_vocabulary) \\\n",
        "      and is_valid_tokens(hindi_sentence , hindi_vocabulary):\n",
        "        valid_sentence_indicies.append(index)"
      ],
      "metadata": {
        "id": "StGgr3_jXDtU"
      },
      "execution_count": null,
      "outputs": []
    },
    {
      "cell_type": "code",
      "source": [
        "x = [hindi_sentences[i] for i in valid_sentence_indicies]\n",
        "y = [tamil_sentences[i] for i in valid_sentence_indicies]"
      ],
      "metadata": {
        "id": "OoMqskU0Xn-A"
      },
      "execution_count": null,
      "outputs": []
    },
    {
      "cell_type": "code",
      "source": [
        "import pandas as pd\n",
        "dataset =  pd.DataFrame({\"Tamil\":tamil_sentences[:300000], \"Hindi\":hindi_sentences[:300000] })\n",
        "dataset.info()"
      ],
      "metadata": {
        "colab": {
          "base_uri": "https://localhost:8080/"
        },
        "id": "p1hf4UXqaFDg",
        "outputId": "4892c189-7c3d-4593-8c32-8462b4632f0a"
      },
      "execution_count": null,
      "outputs": [
        {
          "output_type": "stream",
          "name": "stdout",
          "text": [
            "<class 'pandas.core.frame.DataFrame'>\n",
            "RangeIndex: 300000 entries, 0 to 299999\n",
            "Data columns (total 2 columns):\n",
            " #   Column  Non-Null Count   Dtype \n",
            "---  ------  --------------   ----- \n",
            " 0   Tamil   300000 non-null  object\n",
            " 1   Hindi   300000 non-null  object\n",
            "dtypes: object(2)\n",
            "memory usage: 4.6+ MB\n"
          ]
        }
      ]
    },
    {
      "cell_type": "code",
      "source": [
        "dataset.sample(5)"
      ],
      "metadata": {
        "colab": {
          "base_uri": "https://localhost:8080/",
          "height": 206
        },
        "id": "VCqMmzUkaJVl",
        "outputId": "9c55c1b4-2a8a-4f54-b269-1aad77ba8fbf"
      },
      "execution_count": null,
      "outputs": [
        {
          "output_type": "execute_result",
          "data": {
            "text/plain": [
              "                                                    Tamil  \\\n",
              "78364   அந்நாட்டு உளவுத்துறை இதுகுறித்து விசாரித்து வர...   \n",
              "206516  உணவுப் பஞ்சம் நிலவிய சமயத்தில் தமது தீர்க்கதரி...   \n",
              "130182     ஏன் பெண் காவலர்களை உடன் அழைத்துச் செல்லவில்லை?   \n",
              "32829   அந்தப் பகுதியில் பலத்த போலீஸ் பாதுகாப்பு போடப்...   \n",
              "212171  நம்முடைய ஆவிக்குரிய தசமபாகமாக நாம் எதை நிச்சயம...   \n",
              "\n",
              "                                                    Hindi  \n",
              "78364               पुलिस इस मामले में विवेचना कर रही है।  \n",
              "206516  परमेश्‍वर के वचन पर विश्‍वास होने से हमें यह प...  \n",
              "130182  वहां मौजूद महिला पुलिसकर्मियों ने कोई कार्रवाई...  \n",
              "32829          क्षेत्र में पुलिस की प्रभावी उपस्थिति रहे।  \n",
              "212171  एक बात तो यह है कि हम यहोवा को अपना समय और शक्...  "
            ],
            "text/html": [
              "\n",
              "  <div id=\"df-1e0fe9a5-e937-4947-9b7c-cc694756aac9\" class=\"colab-df-container\">\n",
              "    <div>\n",
              "<style scoped>\n",
              "    .dataframe tbody tr th:only-of-type {\n",
              "        vertical-align: middle;\n",
              "    }\n",
              "\n",
              "    .dataframe tbody tr th {\n",
              "        vertical-align: top;\n",
              "    }\n",
              "\n",
              "    .dataframe thead th {\n",
              "        text-align: right;\n",
              "    }\n",
              "</style>\n",
              "<table border=\"1\" class=\"dataframe\">\n",
              "  <thead>\n",
              "    <tr style=\"text-align: right;\">\n",
              "      <th></th>\n",
              "      <th>Tamil</th>\n",
              "      <th>Hindi</th>\n",
              "    </tr>\n",
              "  </thead>\n",
              "  <tbody>\n",
              "    <tr>\n",
              "      <th>78364</th>\n",
              "      <td>அந்நாட்டு உளவுத்துறை இதுகுறித்து விசாரித்து வர...</td>\n",
              "      <td>पुलिस इस मामले में विवेचना कर रही है।</td>\n",
              "    </tr>\n",
              "    <tr>\n",
              "      <th>206516</th>\n",
              "      <td>உணவுப் பஞ்சம் நிலவிய சமயத்தில் தமது தீர்க்கதரி...</td>\n",
              "      <td>परमेश्‍वर के वचन पर विश्‍वास होने से हमें यह प...</td>\n",
              "    </tr>\n",
              "    <tr>\n",
              "      <th>130182</th>\n",
              "      <td>ஏன் பெண் காவலர்களை உடன் அழைத்துச் செல்லவில்லை?</td>\n",
              "      <td>वहां मौजूद महिला पुलिसकर्मियों ने कोई कार्रवाई...</td>\n",
              "    </tr>\n",
              "    <tr>\n",
              "      <th>32829</th>\n",
              "      <td>அந்தப் பகுதியில் பலத்த போலீஸ் பாதுகாப்பு போடப்...</td>\n",
              "      <td>क्षेत्र में पुलिस की प्रभावी उपस्थिति रहे।</td>\n",
              "    </tr>\n",
              "    <tr>\n",
              "      <th>212171</th>\n",
              "      <td>நம்முடைய ஆவிக்குரிய தசமபாகமாக நாம் எதை நிச்சயம...</td>\n",
              "      <td>एक बात तो यह है कि हम यहोवा को अपना समय और शक्...</td>\n",
              "    </tr>\n",
              "  </tbody>\n",
              "</table>\n",
              "</div>\n",
              "    <div class=\"colab-df-buttons\">\n",
              "\n",
              "  <div class=\"colab-df-container\">\n",
              "    <button class=\"colab-df-convert\" onclick=\"convertToInteractive('df-1e0fe9a5-e937-4947-9b7c-cc694756aac9')\"\n",
              "            title=\"Convert this dataframe to an interactive table.\"\n",
              "            style=\"display:none;\">\n",
              "\n",
              "  <svg xmlns=\"http://www.w3.org/2000/svg\" height=\"24px\" viewBox=\"0 -960 960 960\">\n",
              "    <path d=\"M120-120v-720h720v720H120Zm60-500h600v-160H180v160Zm220 220h160v-160H400v160Zm0 220h160v-160H400v160ZM180-400h160v-160H180v160Zm440 0h160v-160H620v160ZM180-180h160v-160H180v160Zm440 0h160v-160H620v160Z\"/>\n",
              "  </svg>\n",
              "    </button>\n",
              "\n",
              "  <style>\n",
              "    .colab-df-container {\n",
              "      display:flex;\n",
              "      gap: 12px;\n",
              "    }\n",
              "\n",
              "    .colab-df-convert {\n",
              "      background-color: #E8F0FE;\n",
              "      border: none;\n",
              "      border-radius: 50%;\n",
              "      cursor: pointer;\n",
              "      display: none;\n",
              "      fill: #1967D2;\n",
              "      height: 32px;\n",
              "      padding: 0 0 0 0;\n",
              "      width: 32px;\n",
              "    }\n",
              "\n",
              "    .colab-df-convert:hover {\n",
              "      background-color: #E2EBFA;\n",
              "      box-shadow: 0px 1px 2px rgba(60, 64, 67, 0.3), 0px 1px 3px 1px rgba(60, 64, 67, 0.15);\n",
              "      fill: #174EA6;\n",
              "    }\n",
              "\n",
              "    .colab-df-buttons div {\n",
              "      margin-bottom: 4px;\n",
              "    }\n",
              "\n",
              "    [theme=dark] .colab-df-convert {\n",
              "      background-color: #3B4455;\n",
              "      fill: #D2E3FC;\n",
              "    }\n",
              "\n",
              "    [theme=dark] .colab-df-convert:hover {\n",
              "      background-color: #434B5C;\n",
              "      box-shadow: 0px 1px 3px 1px rgba(0, 0, 0, 0.15);\n",
              "      filter: drop-shadow(0px 1px 2px rgba(0, 0, 0, 0.3));\n",
              "      fill: #FFFFFF;\n",
              "    }\n",
              "  </style>\n",
              "\n",
              "    <script>\n",
              "      const buttonEl =\n",
              "        document.querySelector('#df-1e0fe9a5-e937-4947-9b7c-cc694756aac9 button.colab-df-convert');\n",
              "      buttonEl.style.display =\n",
              "        google.colab.kernel.accessAllowed ? 'block' : 'none';\n",
              "\n",
              "      async function convertToInteractive(key) {\n",
              "        const element = document.querySelector('#df-1e0fe9a5-e937-4947-9b7c-cc694756aac9');\n",
              "        const dataTable =\n",
              "          await google.colab.kernel.invokeFunction('convertToInteractive',\n",
              "                                                    [key], {});\n",
              "        if (!dataTable) return;\n",
              "\n",
              "        const docLinkHtml = 'Like what you see? Visit the ' +\n",
              "          '<a target=\"_blank\" href=https://colab.research.google.com/notebooks/data_table.ipynb>data table notebook</a>'\n",
              "          + ' to learn more about interactive tables.';\n",
              "        element.innerHTML = '';\n",
              "        dataTable['output_type'] = 'display_data';\n",
              "        await google.colab.output.renderOutput(dataTable, element);\n",
              "        const docLink = document.createElement('div');\n",
              "        docLink.innerHTML = docLinkHtml;\n",
              "        element.appendChild(docLink);\n",
              "      }\n",
              "    </script>\n",
              "  </div>\n",
              "\n",
              "\n",
              "<div id=\"df-c0271b76-f2fd-4095-a4f6-cf0306549f68\">\n",
              "  <button class=\"colab-df-quickchart\" onclick=\"quickchart('df-c0271b76-f2fd-4095-a4f6-cf0306549f68')\"\n",
              "            title=\"Suggest charts\"\n",
              "            style=\"display:none;\">\n",
              "\n",
              "<svg xmlns=\"http://www.w3.org/2000/svg\" height=\"24px\"viewBox=\"0 0 24 24\"\n",
              "     width=\"24px\">\n",
              "    <g>\n",
              "        <path d=\"M19 3H5c-1.1 0-2 .9-2 2v14c0 1.1.9 2 2 2h14c1.1 0 2-.9 2-2V5c0-1.1-.9-2-2-2zM9 17H7v-7h2v7zm4 0h-2V7h2v10zm4 0h-2v-4h2v4z\"/>\n",
              "    </g>\n",
              "</svg>\n",
              "  </button>\n",
              "\n",
              "<style>\n",
              "  .colab-df-quickchart {\n",
              "      --bg-color: #E8F0FE;\n",
              "      --fill-color: #1967D2;\n",
              "      --hover-bg-color: #E2EBFA;\n",
              "      --hover-fill-color: #174EA6;\n",
              "      --disabled-fill-color: #AAA;\n",
              "      --disabled-bg-color: #DDD;\n",
              "  }\n",
              "\n",
              "  [theme=dark] .colab-df-quickchart {\n",
              "      --bg-color: #3B4455;\n",
              "      --fill-color: #D2E3FC;\n",
              "      --hover-bg-color: #434B5C;\n",
              "      --hover-fill-color: #FFFFFF;\n",
              "      --disabled-bg-color: #3B4455;\n",
              "      --disabled-fill-color: #666;\n",
              "  }\n",
              "\n",
              "  .colab-df-quickchart {\n",
              "    background-color: var(--bg-color);\n",
              "    border: none;\n",
              "    border-radius: 50%;\n",
              "    cursor: pointer;\n",
              "    display: none;\n",
              "    fill: var(--fill-color);\n",
              "    height: 32px;\n",
              "    padding: 0;\n",
              "    width: 32px;\n",
              "  }\n",
              "\n",
              "  .colab-df-quickchart:hover {\n",
              "    background-color: var(--hover-bg-color);\n",
              "    box-shadow: 0 1px 2px rgba(60, 64, 67, 0.3), 0 1px 3px 1px rgba(60, 64, 67, 0.15);\n",
              "    fill: var(--button-hover-fill-color);\n",
              "  }\n",
              "\n",
              "  .colab-df-quickchart-complete:disabled,\n",
              "  .colab-df-quickchart-complete:disabled:hover {\n",
              "    background-color: var(--disabled-bg-color);\n",
              "    fill: var(--disabled-fill-color);\n",
              "    box-shadow: none;\n",
              "  }\n",
              "\n",
              "  .colab-df-spinner {\n",
              "    border: 2px solid var(--fill-color);\n",
              "    border-color: transparent;\n",
              "    border-bottom-color: var(--fill-color);\n",
              "    animation:\n",
              "      spin 1s steps(1) infinite;\n",
              "  }\n",
              "\n",
              "  @keyframes spin {\n",
              "    0% {\n",
              "      border-color: transparent;\n",
              "      border-bottom-color: var(--fill-color);\n",
              "      border-left-color: var(--fill-color);\n",
              "    }\n",
              "    20% {\n",
              "      border-color: transparent;\n",
              "      border-left-color: var(--fill-color);\n",
              "      border-top-color: var(--fill-color);\n",
              "    }\n",
              "    30% {\n",
              "      border-color: transparent;\n",
              "      border-left-color: var(--fill-color);\n",
              "      border-top-color: var(--fill-color);\n",
              "      border-right-color: var(--fill-color);\n",
              "    }\n",
              "    40% {\n",
              "      border-color: transparent;\n",
              "      border-right-color: var(--fill-color);\n",
              "      border-top-color: var(--fill-color);\n",
              "    }\n",
              "    60% {\n",
              "      border-color: transparent;\n",
              "      border-right-color: var(--fill-color);\n",
              "    }\n",
              "    80% {\n",
              "      border-color: transparent;\n",
              "      border-right-color: var(--fill-color);\n",
              "      border-bottom-color: var(--fill-color);\n",
              "    }\n",
              "    90% {\n",
              "      border-color: transparent;\n",
              "      border-bottom-color: var(--fill-color);\n",
              "    }\n",
              "  }\n",
              "</style>\n",
              "\n",
              "  <script>\n",
              "    async function quickchart(key) {\n",
              "      const quickchartButtonEl =\n",
              "        document.querySelector('#' + key + ' button');\n",
              "      quickchartButtonEl.disabled = true;  // To prevent multiple clicks.\n",
              "      quickchartButtonEl.classList.add('colab-df-spinner');\n",
              "      try {\n",
              "        const charts = await google.colab.kernel.invokeFunction(\n",
              "            'suggestCharts', [key], {});\n",
              "      } catch (error) {\n",
              "        console.error('Error during call to suggestCharts:', error);\n",
              "      }\n",
              "      quickchartButtonEl.classList.remove('colab-df-spinner');\n",
              "      quickchartButtonEl.classList.add('colab-df-quickchart-complete');\n",
              "    }\n",
              "    (() => {\n",
              "      let quickchartButtonEl =\n",
              "        document.querySelector('#df-c0271b76-f2fd-4095-a4f6-cf0306549f68 button');\n",
              "      quickchartButtonEl.style.display =\n",
              "        google.colab.kernel.accessAllowed ? 'block' : 'none';\n",
              "    })();\n",
              "  </script>\n",
              "</div>\n",
              "\n",
              "    </div>\n",
              "  </div>\n"
            ]
          },
          "metadata": {},
          "execution_count": 6
        }
      ]
    },
    {
      "cell_type": "code",
      "source": [
        "dataset.to_csv('/content/drive/MyDrive/MP/data.csv' , index = False )"
      ],
      "metadata": {
        "id": "XFEVYSBJbyQU"
      },
      "execution_count": null,
      "outputs": []
    },
    {
      "cell_type": "code",
      "source": [
        "dataset = pd.read_csv('/content/drive/MyDrive/MP/data.csv')\n",
        "dataset.head()"
      ],
      "metadata": {
        "colab": {
          "base_uri": "https://localhost:8080/",
          "height": 206
        },
        "id": "oILI3On4UonJ",
        "outputId": "8bbb280b-67f4-4ae5-89e6-efe9e67ad731"
      },
      "execution_count": null,
      "outputs": [
        {
          "output_type": "execute_result",
          "data": {
            "text/plain": [
              "                                               Tamil  \\\n",
              "0                  அதனால் நாங்கள் பயன்படைந்துள்ளோம்.   \n",
              "1                             நோய் நீங்கப் பெற்றார்.   \n",
              "2  கடந்த சில மாதங்களாக அவர் தவணை செலுத்தவில்லை என...   \n",
              "3                       காட்ராக்ட் ஆபரேஷன் செய்தோம்.   \n",
              "4    நாம் பணியாற்றுவதற்கு சம்பளம் வழங்கப்படுவதில்லை.   \n",
              "\n",
              "                                               Hindi  \n",
              "0                          इसलिए हम लागू कर रहे हैं।  \n",
              "1                                   आपको कोई रोग है।  \n",
              "2  बताया जा रहा है कि इन्हें पिछली तनख्वाह भी कई ...  \n",
              "3                        हमने सर्जिकल स्ट्राइक किया।  \n",
              "4                          हम ब्याज अदा नहीं करेंगे।  "
            ],
            "text/html": [
              "\n",
              "  <div id=\"df-95b87e31-5cfc-40eb-b430-1b130d89b52d\" class=\"colab-df-container\">\n",
              "    <div>\n",
              "<style scoped>\n",
              "    .dataframe tbody tr th:only-of-type {\n",
              "        vertical-align: middle;\n",
              "    }\n",
              "\n",
              "    .dataframe tbody tr th {\n",
              "        vertical-align: top;\n",
              "    }\n",
              "\n",
              "    .dataframe thead th {\n",
              "        text-align: right;\n",
              "    }\n",
              "</style>\n",
              "<table border=\"1\" class=\"dataframe\">\n",
              "  <thead>\n",
              "    <tr style=\"text-align: right;\">\n",
              "      <th></th>\n",
              "      <th>Tamil</th>\n",
              "      <th>Hindi</th>\n",
              "    </tr>\n",
              "  </thead>\n",
              "  <tbody>\n",
              "    <tr>\n",
              "      <th>0</th>\n",
              "      <td>அதனால் நாங்கள் பயன்படைந்துள்ளோம்.</td>\n",
              "      <td>इसलिए हम लागू कर रहे हैं।</td>\n",
              "    </tr>\n",
              "    <tr>\n",
              "      <th>1</th>\n",
              "      <td>நோய் நீங்கப் பெற்றார்.</td>\n",
              "      <td>आपको कोई रोग है।</td>\n",
              "    </tr>\n",
              "    <tr>\n",
              "      <th>2</th>\n",
              "      <td>கடந்த சில மாதங்களாக அவர் தவணை செலுத்தவில்லை என...</td>\n",
              "      <td>बताया जा रहा है कि इन्हें पिछली तनख्वाह भी कई ...</td>\n",
              "    </tr>\n",
              "    <tr>\n",
              "      <th>3</th>\n",
              "      <td>காட்ராக்ட் ஆபரேஷன் செய்தோம்.</td>\n",
              "      <td>हमने सर्जिकल स्ट्राइक किया।</td>\n",
              "    </tr>\n",
              "    <tr>\n",
              "      <th>4</th>\n",
              "      <td>நாம் பணியாற்றுவதற்கு சம்பளம் வழங்கப்படுவதில்லை.</td>\n",
              "      <td>हम ब्याज अदा नहीं करेंगे।</td>\n",
              "    </tr>\n",
              "  </tbody>\n",
              "</table>\n",
              "</div>\n",
              "    <div class=\"colab-df-buttons\">\n",
              "\n",
              "  <div class=\"colab-df-container\">\n",
              "    <button class=\"colab-df-convert\" onclick=\"convertToInteractive('df-95b87e31-5cfc-40eb-b430-1b130d89b52d')\"\n",
              "            title=\"Convert this dataframe to an interactive table.\"\n",
              "            style=\"display:none;\">\n",
              "\n",
              "  <svg xmlns=\"http://www.w3.org/2000/svg\" height=\"24px\" viewBox=\"0 -960 960 960\">\n",
              "    <path d=\"M120-120v-720h720v720H120Zm60-500h600v-160H180v160Zm220 220h160v-160H400v160Zm0 220h160v-160H400v160ZM180-400h160v-160H180v160Zm440 0h160v-160H620v160ZM180-180h160v-160H180v160Zm440 0h160v-160H620v160Z\"/>\n",
              "  </svg>\n",
              "    </button>\n",
              "\n",
              "  <style>\n",
              "    .colab-df-container {\n",
              "      display:flex;\n",
              "      gap: 12px;\n",
              "    }\n",
              "\n",
              "    .colab-df-convert {\n",
              "      background-color: #E8F0FE;\n",
              "      border: none;\n",
              "      border-radius: 50%;\n",
              "      cursor: pointer;\n",
              "      display: none;\n",
              "      fill: #1967D2;\n",
              "      height: 32px;\n",
              "      padding: 0 0 0 0;\n",
              "      width: 32px;\n",
              "    }\n",
              "\n",
              "    .colab-df-convert:hover {\n",
              "      background-color: #E2EBFA;\n",
              "      box-shadow: 0px 1px 2px rgba(60, 64, 67, 0.3), 0px 1px 3px 1px rgba(60, 64, 67, 0.15);\n",
              "      fill: #174EA6;\n",
              "    }\n",
              "\n",
              "    .colab-df-buttons div {\n",
              "      margin-bottom: 4px;\n",
              "    }\n",
              "\n",
              "    [theme=dark] .colab-df-convert {\n",
              "      background-color: #3B4455;\n",
              "      fill: #D2E3FC;\n",
              "    }\n",
              "\n",
              "    [theme=dark] .colab-df-convert:hover {\n",
              "      background-color: #434B5C;\n",
              "      box-shadow: 0px 1px 3px 1px rgba(0, 0, 0, 0.15);\n",
              "      filter: drop-shadow(0px 1px 2px rgba(0, 0, 0, 0.3));\n",
              "      fill: #FFFFFF;\n",
              "    }\n",
              "  </style>\n",
              "\n",
              "    <script>\n",
              "      const buttonEl =\n",
              "        document.querySelector('#df-95b87e31-5cfc-40eb-b430-1b130d89b52d button.colab-df-convert');\n",
              "      buttonEl.style.display =\n",
              "        google.colab.kernel.accessAllowed ? 'block' : 'none';\n",
              "\n",
              "      async function convertToInteractive(key) {\n",
              "        const element = document.querySelector('#df-95b87e31-5cfc-40eb-b430-1b130d89b52d');\n",
              "        const dataTable =\n",
              "          await google.colab.kernel.invokeFunction('convertToInteractive',\n",
              "                                                    [key], {});\n",
              "        if (!dataTable) return;\n",
              "\n",
              "        const docLinkHtml = 'Like what you see? Visit the ' +\n",
              "          '<a target=\"_blank\" href=https://colab.research.google.com/notebooks/data_table.ipynb>data table notebook</a>'\n",
              "          + ' to learn more about interactive tables.';\n",
              "        element.innerHTML = '';\n",
              "        dataTable['output_type'] = 'display_data';\n",
              "        await google.colab.output.renderOutput(dataTable, element);\n",
              "        const docLink = document.createElement('div');\n",
              "        docLink.innerHTML = docLinkHtml;\n",
              "        element.appendChild(docLink);\n",
              "      }\n",
              "    </script>\n",
              "  </div>\n",
              "\n",
              "\n",
              "<div id=\"df-5c062473-1cd0-4715-bdb7-b3d0a1fc8293\">\n",
              "  <button class=\"colab-df-quickchart\" onclick=\"quickchart('df-5c062473-1cd0-4715-bdb7-b3d0a1fc8293')\"\n",
              "            title=\"Suggest charts\"\n",
              "            style=\"display:none;\">\n",
              "\n",
              "<svg xmlns=\"http://www.w3.org/2000/svg\" height=\"24px\"viewBox=\"0 0 24 24\"\n",
              "     width=\"24px\">\n",
              "    <g>\n",
              "        <path d=\"M19 3H5c-1.1 0-2 .9-2 2v14c0 1.1.9 2 2 2h14c1.1 0 2-.9 2-2V5c0-1.1-.9-2-2-2zM9 17H7v-7h2v7zm4 0h-2V7h2v10zm4 0h-2v-4h2v4z\"/>\n",
              "    </g>\n",
              "</svg>\n",
              "  </button>\n",
              "\n",
              "<style>\n",
              "  .colab-df-quickchart {\n",
              "      --bg-color: #E8F0FE;\n",
              "      --fill-color: #1967D2;\n",
              "      --hover-bg-color: #E2EBFA;\n",
              "      --hover-fill-color: #174EA6;\n",
              "      --disabled-fill-color: #AAA;\n",
              "      --disabled-bg-color: #DDD;\n",
              "  }\n",
              "\n",
              "  [theme=dark] .colab-df-quickchart {\n",
              "      --bg-color: #3B4455;\n",
              "      --fill-color: #D2E3FC;\n",
              "      --hover-bg-color: #434B5C;\n",
              "      --hover-fill-color: #FFFFFF;\n",
              "      --disabled-bg-color: #3B4455;\n",
              "      --disabled-fill-color: #666;\n",
              "  }\n",
              "\n",
              "  .colab-df-quickchart {\n",
              "    background-color: var(--bg-color);\n",
              "    border: none;\n",
              "    border-radius: 50%;\n",
              "    cursor: pointer;\n",
              "    display: none;\n",
              "    fill: var(--fill-color);\n",
              "    height: 32px;\n",
              "    padding: 0;\n",
              "    width: 32px;\n",
              "  }\n",
              "\n",
              "  .colab-df-quickchart:hover {\n",
              "    background-color: var(--hover-bg-color);\n",
              "    box-shadow: 0 1px 2px rgba(60, 64, 67, 0.3), 0 1px 3px 1px rgba(60, 64, 67, 0.15);\n",
              "    fill: var(--button-hover-fill-color);\n",
              "  }\n",
              "\n",
              "  .colab-df-quickchart-complete:disabled,\n",
              "  .colab-df-quickchart-complete:disabled:hover {\n",
              "    background-color: var(--disabled-bg-color);\n",
              "    fill: var(--disabled-fill-color);\n",
              "    box-shadow: none;\n",
              "  }\n",
              "\n",
              "  .colab-df-spinner {\n",
              "    border: 2px solid var(--fill-color);\n",
              "    border-color: transparent;\n",
              "    border-bottom-color: var(--fill-color);\n",
              "    animation:\n",
              "      spin 1s steps(1) infinite;\n",
              "  }\n",
              "\n",
              "  @keyframes spin {\n",
              "    0% {\n",
              "      border-color: transparent;\n",
              "      border-bottom-color: var(--fill-color);\n",
              "      border-left-color: var(--fill-color);\n",
              "    }\n",
              "    20% {\n",
              "      border-color: transparent;\n",
              "      border-left-color: var(--fill-color);\n",
              "      border-top-color: var(--fill-color);\n",
              "    }\n",
              "    30% {\n",
              "      border-color: transparent;\n",
              "      border-left-color: var(--fill-color);\n",
              "      border-top-color: var(--fill-color);\n",
              "      border-right-color: var(--fill-color);\n",
              "    }\n",
              "    40% {\n",
              "      border-color: transparent;\n",
              "      border-right-color: var(--fill-color);\n",
              "      border-top-color: var(--fill-color);\n",
              "    }\n",
              "    60% {\n",
              "      border-color: transparent;\n",
              "      border-right-color: var(--fill-color);\n",
              "    }\n",
              "    80% {\n",
              "      border-color: transparent;\n",
              "      border-right-color: var(--fill-color);\n",
              "      border-bottom-color: var(--fill-color);\n",
              "    }\n",
              "    90% {\n",
              "      border-color: transparent;\n",
              "      border-bottom-color: var(--fill-color);\n",
              "    }\n",
              "  }\n",
              "</style>\n",
              "\n",
              "  <script>\n",
              "    async function quickchart(key) {\n",
              "      const quickchartButtonEl =\n",
              "        document.querySelector('#' + key + ' button');\n",
              "      quickchartButtonEl.disabled = true;  // To prevent multiple clicks.\n",
              "      quickchartButtonEl.classList.add('colab-df-spinner');\n",
              "      try {\n",
              "        const charts = await google.colab.kernel.invokeFunction(\n",
              "            'suggestCharts', [key], {});\n",
              "      } catch (error) {\n",
              "        console.error('Error during call to suggestCharts:', error);\n",
              "      }\n",
              "      quickchartButtonEl.classList.remove('colab-df-spinner');\n",
              "      quickchartButtonEl.classList.add('colab-df-quickchart-complete');\n",
              "    }\n",
              "    (() => {\n",
              "      let quickchartButtonEl =\n",
              "        document.querySelector('#df-5c062473-1cd0-4715-bdb7-b3d0a1fc8293 button');\n",
              "      quickchartButtonEl.style.display =\n",
              "        google.colab.kernel.accessAllowed ? 'block' : 'none';\n",
              "    })();\n",
              "  </script>\n",
              "</div>\n",
              "\n",
              "    </div>\n",
              "  </div>\n"
            ],
            "application/vnd.google.colaboratory.intrinsic+json": {
              "type": "dataframe",
              "variable_name": "dataset"
            }
          },
          "metadata": {},
          "execution_count": 6
        }
      ]
    },
    {
      "cell_type": "code",
      "source": [
        "text_pairs = []\n",
        "\n",
        "for i in range(dataset.shape[0]) :\n",
        "    tam = str(dataset[\"Tamil\"][i])\n",
        "    hin = \"[start] \" + str(dataset[\"Hindi\"][i]) + \" [end]\"\n",
        "    text_pairs.append((tam,hin))"
      ],
      "metadata": {
        "id": "of_3NnuRUtHW"
      },
      "execution_count": null,
      "outputs": []
    },
    {
      "cell_type": "code",
      "source": [
        "len(text_pairs)"
      ],
      "metadata": {
        "colab": {
          "base_uri": "https://localhost:8080/"
        },
        "id": "3dIvqoomWEvB",
        "outputId": "7dbb7020-3fe9-4763-bfb0-57516dc173ac"
      },
      "execution_count": null,
      "outputs": [
        {
          "output_type": "execute_result",
          "data": {
            "text/plain": [
              "300000"
            ]
          },
          "metadata": {},
          "execution_count": 8
        }
      ]
    },
    {
      "cell_type": "code",
      "source": [
        "train_sample_size = len(text_pairs) - int(0.1*len(text_pairs))\n",
        "train_pairs = text_pairs[:train_sample_size]\n",
        "test_pairs = text_pairs[train_sample_size:]\n",
        "\n",
        "print(\"Total pairs :\", len(text_pairs))\n",
        "print(\"Train pairs :\", len(train_pairs))\n",
        "print(\"Test pairs :\", len(test_pairs))"
      ],
      "metadata": {
        "colab": {
          "base_uri": "https://localhost:8080/"
        },
        "id": "CvrtkhJWWI6X",
        "outputId": "18400a97-3e05-470a-900c-69a8ae7bdc04"
      },
      "execution_count": null,
      "outputs": [
        {
          "output_type": "stream",
          "name": "stdout",
          "text": [
            "Total pairs : 300000\n",
            "Train pairs : 270000\n",
            "Test pairs : 30000\n"
          ]
        }
      ]
    },
    {
      "cell_type": "code",
      "source": [
        "strip_chars = string.punctuation + \"|\"\n",
        "strip_chars = strip_chars.replace(\"[\", \"\")\n",
        "strip_chars = strip_chars.replace(\"]\", \"\")\n",
        "strip_chars = strip_chars.replace('\"\"', \"\")\n",
        "\n",
        "vocab_size = 50000\n",
        "sequence_length = 30\n",
        "batch_size = 128"
      ],
      "metadata": {
        "id": "jdHzR6VbWMss"
      },
      "execution_count": null,
      "outputs": []
    },
    {
      "cell_type": "code",
      "source": [
        "def custom_standardization(input_string):\n",
        "    lowercase = tf.strings.lower(input_string)\n",
        "    return tf.strings.regex_replace(lowercase, \"[%s]\" % re.escape(strip_chars), \"\")"
      ],
      "metadata": {
        "id": "XHRIj8DIWO9g"
      },
      "execution_count": null,
      "outputs": []
    },
    {
      "cell_type": "code",
      "source": [
        "tam_vectorization = TextVectorization(\n",
        "    max_tokens=vocab_size,\n",
        "    output_mode=\"int\",\n",
        "    output_sequence_length=sequence_length,\n",
        ")\n",
        "\n",
        "hin_vectorization = TextVectorization(\n",
        "    max_tokens=vocab_size,\n",
        "    output_mode=\"int\",\n",
        "    output_sequence_length=sequence_length + 1,\n",
        "    standardize=custom_standardization,\n",
        ")"
      ],
      "metadata": {
        "id": "6DNxjWoVWRVI"
      },
      "execution_count": null,
      "outputs": []
    },
    {
      "cell_type": "code",
      "source": [
        "train_tam_texts = [pair[0] for pair in train_pairs]\n",
        "train_hin_texts = [pair[1] for pair in train_pairs]\n",
        "tam_vectorization.adapt(train_tam_texts)\n",
        "hin_vectorization.adapt(train_hin_texts)"
      ],
      "metadata": {
        "id": "-IEMTxq0Wuum"
      },
      "execution_count": null,
      "outputs": []
    },
    {
      "cell_type": "code",
      "source": [
        "import json\n",
        "\n",
        "# Get the vocabulary\n",
        "tam_vocab = tam_vectorization.get_vocabulary()\n",
        "hin_vocab = hin_vectorization.get_vocabulary()\n",
        "\n",
        "\n",
        "# Save the vocabulary\n",
        "with open('/content/drive/MyDrive/MP/vectorizers/tam_vocab.json', 'w') as f:\n",
        "    json.dump(tam_vocab, f)\n",
        "with open('/content/drive/MyDrive/MP/vectorizers/hin_vocab.json', 'w') as f:\n",
        "    json.dump(hin_vocab, f)\n"
      ],
      "metadata": {
        "id": "MOLcdbrlW1vj"
      },
      "execution_count": null,
      "outputs": []
    },
    {
      "cell_type": "code",
      "source": [
        "import json\n",
        "\n",
        "\n",
        "vocab_size = 50000\n",
        "sequence_length = 30\n",
        "batch_size = 128\n",
        "\n",
        "\n",
        "# Load the vocabulary\n",
        "with open('/content/drive/MyDrive/MP/vectorizers/tam_vocab.json', 'r') as f:\n",
        "    tam_vocab = json.load(f)\n",
        "with open('/content/drive/MyDrive/MP/vectorizers/hin_vocab.json', 'r') as f:\n",
        "    hin_vocab = json.load(f)\n",
        "\n",
        "# Create a TextVectorization layer with the loaded vocabulary\n",
        "tam_vectorization = TextVectorization(vocabulary=tam_vocab,output_mode=\"int\", output_sequence_length=sequence_length)\n",
        "hin_vectorization = TextVectorization(vocabulary=hin_vocab,output_mode=\"int\",\n",
        "    output_sequence_length=sequence_length + 1,\n",
        "    standardize=custom_standardization)"
      ],
      "metadata": {
        "id": "2SW0JXriZz9m"
      },
      "execution_count": null,
      "outputs": []
    },
    {
      "cell_type": "code",
      "source": [
        "def format_dataset(tam, hin):\n",
        "    tam = tam_vectorization(tam)\n",
        "    hin = hin_vectorization(hin)\n",
        "    return ({\"encoder_inputs\": tam, \"decoder_inputs\": hin[:, :-1],}, hin[:, 1:])"
      ],
      "metadata": {
        "id": "NG5TraKlaowh"
      },
      "execution_count": null,
      "outputs": []
    },
    {
      "cell_type": "code",
      "source": [
        "def make_dataset(pairs):\n",
        "    tam_texts, hin_texts = zip(*pairs)\n",
        "    tam_texts = list(tam_texts)\n",
        "    hin_texts = list(hin_texts)\n",
        "    dataset = tf.data.Dataset.from_tensor_slices((tam_texts, hin_texts))\n",
        "    dataset = dataset.batch(batch_size)\n",
        "    dataset = dataset.map(format_dataset)\n",
        "    return dataset.shuffle(2048).prefetch(16).cache()"
      ],
      "metadata": {
        "id": "OnQsd-4Pazvw"
      },
      "execution_count": null,
      "outputs": []
    },
    {
      "cell_type": "code",
      "source": [
        "train_ds = make_dataset(train_pairs)\n",
        "test_ds = make_dataset(test_pairs)"
      ],
      "metadata": {
        "id": "hEt6VVAobS5D"
      },
      "execution_count": null,
      "outputs": []
    },
    {
      "cell_type": "code",
      "source": [
        "for inputs, targets in train_ds.take(2):\n",
        "    print(f'inputs[\"encoder_inputs\"].shape: {inputs[\"encoder_inputs\"].shape}')\n",
        "    print(f'inputs[\"decoder_inputs\"].shape: {inputs[\"decoder_inputs\"].shape}')\n",
        "    print(f\"targets.shape: {targets.shape}\")"
      ],
      "metadata": {
        "colab": {
          "base_uri": "https://localhost:8080/"
        },
        "id": "hhjGKXH7bUwm",
        "outputId": "37eda6bf-9184-45a7-a178-0806fb685034"
      },
      "execution_count": null,
      "outputs": [
        {
          "output_type": "stream",
          "name": "stdout",
          "text": [
            "inputs[\"encoder_inputs\"].shape: (128, 30)\n",
            "inputs[\"decoder_inputs\"].shape: (128, 30)\n",
            "targets.shape: (128, 30)\n",
            "inputs[\"encoder_inputs\"].shape: (128, 30)\n",
            "inputs[\"decoder_inputs\"].shape: (128, 30)\n",
            "targets.shape: (128, 30)\n"
          ]
        }
      ]
    },
    {
      "cell_type": "code",
      "source": [
        "class TransformerEncoder(layers.Layer):\n",
        "    def __init__(self, embed_dim, dense_dim, num_heads, **kwargs):\n",
        "        super().__init__(**kwargs)\n",
        "        self.embed_dim = embed_dim\n",
        "        self.dense_dim = dense_dim\n",
        "        self.num_heads = num_heads\n",
        "        self.attention = layers.MultiHeadAttention(\n",
        "            num_heads=num_heads, key_dim=embed_dim\n",
        "        )\n",
        "        self.dense_proj = keras.Sequential(\n",
        "            [layers.Dense(dense_dim, activation=\"relu\"), layers.Dense(embed_dim),]\n",
        "        )\n",
        "        self.layernorm_1 = layers.LayerNormalization()\n",
        "        self.layernorm_2 = layers.LayerNormalization()\n",
        "        self.supports_masking = True\n",
        "\n",
        "    def call(self, inputs, mask=None):\n",
        "        if mask is not None:\n",
        "            padding_mask = tf.cast(mask[:, tf.newaxis, :], dtype=\"int32\")\n",
        "        attention_output = self.attention(\n",
        "            query=inputs, value=inputs, key=inputs, attention_mask=padding_mask\n",
        "        )\n",
        "        proj_input = self.layernorm_1(inputs + attention_output)\n",
        "        proj_output = self.dense_proj(proj_input)\n",
        "        return self.layernorm_2(proj_input + proj_output)"
      ],
      "metadata": {
        "id": "sK2v_SJCbWxD"
      },
      "execution_count": null,
      "outputs": []
    },
    {
      "cell_type": "code",
      "source": [
        "class PositionalEmbedding(layers.Layer):\n",
        "    def __init__(self, sequence_length, vocab_size, embed_dim, **kwargs):\n",
        "        super().__init__(**kwargs)\n",
        "        self.token_embeddings = layers.Embedding(\n",
        "            input_dim=vocab_size, output_dim=embed_dim\n",
        "        )\n",
        "        self.position_embeddings = layers.Embedding(\n",
        "            input_dim=sequence_length, output_dim=embed_dim\n",
        "        )\n",
        "        self.sequence_length = sequence_length\n",
        "        self.vocab_size = vocab_size\n",
        "        self.embed_dim = embed_dim\n",
        "\n",
        "    def call(self, inputs):\n",
        "        length = tf.shape(inputs)[-1]\n",
        "        positions = tf.range(start=0, limit=length, delta=1)\n",
        "        embedded_tokens = self.token_embeddings(inputs)\n",
        "        embedded_positions = self.position_embeddings(positions)\n",
        "        return embedded_tokens + embedded_positions\n",
        "\n",
        "    def compute_mask(self, inputs, mask=None):\n",
        "        return tf.math.not_equal(inputs, 0)"
      ],
      "metadata": {
        "id": "hV9fzJUDbdZH"
      },
      "execution_count": null,
      "outputs": []
    },
    {
      "cell_type": "code",
      "source": [
        "class TransformerDecoder(layers.Layer):\n",
        "    def __init__(self, embed_dim, latent_dim, num_heads, **kwargs):\n",
        "        super().__init__(**kwargs)\n",
        "        self.embed_dim = embed_dim\n",
        "        self.latent_dim = latent_dim\n",
        "        self.num_heads = num_heads\n",
        "        self.attention_1 = layers.MultiHeadAttention(\n",
        "            num_heads=num_heads, key_dim=embed_dim\n",
        "        )\n",
        "        self.attention_2 = layers.MultiHeadAttention(\n",
        "            num_heads=num_heads, key_dim=embed_dim\n",
        "        )\n",
        "        self.dense_proj = keras.Sequential(\n",
        "            [layers.Dense(latent_dim, activation=\"relu\"), layers.Dense(embed_dim),]\n",
        "        )\n",
        "        self.layernorm_1 = layers.LayerNormalization()\n",
        "        self.layernorm_2 = layers.LayerNormalization()\n",
        "        self.layernorm_3 = layers.LayerNormalization()\n",
        "        self.supports_masking = True\n",
        "\n",
        "    def call(self, inputs, encoder_outputs, mask=None):\n",
        "        causal_mask = self.get_causal_attention_mask(inputs)\n",
        "        if mask is not None:\n",
        "            padding_mask = tf.cast(mask[:, tf.newaxis, :], dtype=\"int32\")\n",
        "            padding_mask = tf.minimum(padding_mask, causal_mask)\n",
        "\n",
        "        attention_output_1 = self.attention_1(\n",
        "            query=inputs, value=inputs, key=inputs, attention_mask=causal_mask\n",
        "        )\n",
        "        out_1 = self.layernorm_1(inputs + attention_output_1)\n",
        "\n",
        "        attention_output_2  = self.attention_2(\n",
        "            query=out_1,\n",
        "            value=encoder_outputs,\n",
        "            key=encoder_outputs,\n",
        "            attention_mask=padding_mask,\n",
        "        )\n",
        "\n",
        "        out_2 = self.layernorm_2(out_1 + attention_output_2)\n",
        "\n",
        "        proj_output = self.dense_proj(out_2)\n",
        "        return self.layernorm_3(out_2 + proj_output)\n",
        "\n",
        "    def get_causal_attention_mask(self, inputs):\n",
        "        input_shape = tf.shape(inputs)\n",
        "        batch_size, sequence_length = input_shape[0], input_shape[1]\n",
        "        i = tf.range(sequence_length)[:, tf.newaxis]\n",
        "        j = tf.range(sequence_length)\n",
        "        mask = tf.cast(i >= j, dtype=\"int32\")\n",
        "        mask = tf.reshape(mask, (1, input_shape[1], input_shape[1]))\n",
        "        mult = tf.concat(\n",
        "            [tf.expand_dims(batch_size, -1), tf.constant([1, 1], dtype=tf.int32)],\n",
        "            axis=0,\n",
        "        )\n",
        "        return tf.tile(mask, mult)"
      ],
      "metadata": {
        "id": "0_jMWLc4bfGK"
      },
      "execution_count": null,
      "outputs": []
    },
    {
      "cell_type": "code",
      "source": [
        "embed_dim = 512\n",
        "latent_dim = 1024\n",
        "num_heads = 8\n",
        "\n",
        "encoder_inputs = keras.Input(shape=(None,), dtype=\"int64\", name=\"encoder_inputs\")\n",
        "x = PositionalEmbedding(sequence_length, vocab_size, embed_dim)(encoder_inputs)\n",
        "encoder_outputs = TransformerEncoder(embed_dim, latent_dim, num_heads)(x)\n",
        "encoder = keras.Model(encoder_inputs, encoder_outputs)"
      ],
      "metadata": {
        "id": "UTEPFoG5bjuY"
      },
      "execution_count": null,
      "outputs": []
    },
    {
      "cell_type": "code",
      "source": [
        "decoder_inputs = keras.Input(shape=(None,), dtype=\"int64\", name=\"decoder_inputs\")\n",
        "encoded_seq_inputs = keras.Input(shape=(None, embed_dim), name=\"decoder_state_inputs\")\n",
        "x = PositionalEmbedding(sequence_length, vocab_size, embed_dim)(decoder_inputs)\n",
        "x = TransformerDecoder(embed_dim, latent_dim, num_heads)(x, encoded_seq_inputs)\n",
        "x = layers.Dropout(0.5)(x)\n",
        "decoder_outputs = layers.Dense(vocab_size, activation=\"softmax\")(x)\n",
        "decoder = keras.Model([decoder_inputs, encoded_seq_inputs], decoder_outputs)"
      ],
      "metadata": {
        "id": "TIAkNALKbmmJ"
      },
      "execution_count": null,
      "outputs": []
    },
    {
      "cell_type": "code",
      "source": [
        "decoder_outputs = decoder([decoder_inputs, encoder_outputs])\n",
        "transformer = keras.Model(\n",
        "    [encoder_inputs, decoder_inputs], decoder_outputs, name=\"transformer\"\n",
        ")\n",
        "transformer.summary()"
      ],
      "metadata": {
        "colab": {
          "base_uri": "https://localhost:8080/"
        },
        "id": "pjn-if6cbn_C",
        "outputId": "d1d42fa4-5238-4e15-dfda-54edefff054c"
      },
      "execution_count": null,
      "outputs": [
        {
          "output_type": "stream",
          "name": "stdout",
          "text": [
            "Model: \"transformer\"\n",
            "__________________________________________________________________________________________________\n",
            " Layer (type)                Output Shape                 Param #   Connected to                  \n",
            "==================================================================================================\n",
            " encoder_inputs (InputLayer  [(None, None)]               0         []                            \n",
            " )                                                                                                \n",
            "                                                                                                  \n",
            " positional_embedding (Posi  (None, None, 512)            2561536   ['encoder_inputs[0][0]']      \n",
            " tionalEmbedding)                                         0                                       \n",
            "                                                                                                  \n",
            " decoder_inputs (InputLayer  [(None, None)]               0         []                            \n",
            " )                                                                                                \n",
            "                                                                                                  \n",
            " transformer_encoder (Trans  (None, None, 512)            9453568   ['positional_embedding[0][0]']\n",
            " formerEncoder)                                                                                   \n",
            "                                                                                                  \n",
            " model_1 (Functional)        (None, None, 50000)          6912136   ['decoder_inputs[0][0]',      \n",
            "                                                          0          'transformer_encoder[0][0]'] \n",
            "                                                                                                  \n",
            "==================================================================================================\n",
            "Total params: 104190288 (397.45 MB)\n",
            "Trainable params: 104190288 (397.45 MB)\n",
            "Non-trainable params: 0 (0.00 Byte)\n",
            "__________________________________________________________________________________________________\n"
          ]
        }
      ]
    },
    {
      "cell_type": "code",
      "source": [
        "class CustomSchedule(tf.keras.optimizers.schedules.LearningRateSchedule):\n",
        "  def __init__(self, d_model, warmup_steps=4000):\n",
        "    super().__init__()\n",
        "\n",
        "    self.d_model = d_model\n",
        "    self.d_model = tf.cast(self.d_model, tf.float32)\n",
        "\n",
        "    self.warmup_steps = warmup_steps\n",
        "\n",
        "  def __call__(self, step):\n",
        "    step = tf.cast(step, dtype=tf.float32)\n",
        "    arg1 = tf.math.rsqrt(step)\n",
        "    arg2 = step * (self.warmup_steps ** -1.5)\n",
        "\n",
        "    return tf.math.rsqrt(self.d_model) * tf.math.minimum(arg1, arg2)\n",
        "\n",
        "  def get_config(self):\n",
        "    return {\"d_model\": self.d_model.numpy(), \"warmup_steps\": self.warmup_steps}"
      ],
      "metadata": {
        "id": "s1zKhFyNbq08"
      },
      "execution_count": null,
      "outputs": []
    },
    {
      "cell_type": "code",
      "source": [
        "learning_rate = CustomSchedule(latent_dim)\n",
        "\n",
        "optimizer = tf.keras.optimizers.Adam(learning_rate, beta_1=0.9, beta_2=0.98,\n",
        "                                     epsilon=1e-9)"
      ],
      "metadata": {
        "id": "l7INMGVDbxQT"
      },
      "execution_count": null,
      "outputs": []
    },
    {
      "cell_type": "code",
      "source": [
        "plt.plot(learning_rate(tf.range(40000, dtype=tf.float32)))\n",
        "plt.ylabel('Learning Rate')\n",
        "plt.xlabel('Train Step')"
      ],
      "metadata": {
        "colab": {
          "base_uri": "https://localhost:8080/",
          "height": 466
        },
        "id": "X0R7yqaIbyUy",
        "outputId": "d51cce57-6e8b-44e8-d26e-8437474a873e"
      },
      "execution_count": null,
      "outputs": [
        {
          "output_type": "execute_result",
          "data": {
            "text/plain": [
              "Text(0.5, 0, 'Train Step')"
            ]
          },
          "metadata": {},
          "execution_count": 30
        },
        {
          "output_type": "display_data",
          "data": {
            "text/plain": [
              "<Figure size 640x480 with 1 Axes>"
            ],
            "image/png": "[encoded data removed]"
          },
          "metadata": {}
        }
      ]
    },
    {
      "cell_type": "code",
      "source": [
        "early_stopping = callbacks.EarlyStopping(\n",
        "    monitor='val_loss',\n",
        "    patience=10,\n",
        "    restore_best_weights=True\n",
        ")\n",
        "\n",
        "checkpoint_filepath = '/content/drive/MyDrive/MP/checkpoint'\n",
        "model_checkpoint_callback = callbacks.ModelCheckpoint(\n",
        "    filepath=checkpoint_filepath,\n",
        "    save_weights_only=False,\n",
        "    monitor='val_accuracy',\n",
        "    mode='max',\n",
        "    save_best_only=True)\n",
        "\n",
        "csv_logger = callbacks.CSVLogger('/content/drive/MyDrive/MP/training_log.csv' , append=True)\n",
        "\n",
        "\n",
        "backup_callback = callbacks.BackupAndRestore(backup_dir=\"/content/drive/MyDrive/MP/backup\" ,\n",
        "                                             delete_checkpoint=False)"
      ],
      "metadata": {
        "id": "t3KltP7-b6DH"
      },
      "execution_count": null,
      "outputs": []
    },
    {
      "cell_type": "code",
      "source": [
        "epochs = 15\n",
        "transformer.compile(\n",
        "    optimizer=optimizer,\n",
        "    loss=\"sparse_categorical_crossentropy\",\n",
        "    metrics=[\"accuracy\"]\n",
        ")"
      ],
      "metadata": {
        "id": "7hRRuEwKcC8f"
      },
      "execution_count": null,
      "outputs": []
    },
    {
      "cell_type": "code",
      "source": [
        "transformer.load_weights('/content/drive/MyDrive/MP/checkpoint/')"
      ],
      "metadata": {
        "colab": {
          "base_uri": "https://localhost:8080/"
        },
        "id": "jS0tkcbNndC2",
        "outputId": "18013f3b-1a4e-42b8-9a37-9a175e63d035"
      },
      "execution_count": null,
      "outputs": [
        {
          "output_type": "execute_result",
          "data": {
            "text/plain": [
              "<tensorflow.python.checkpoint.checkpoint.CheckpointLoadStatus at 0x79782b5b9c90>"
            ]
          },
          "metadata": {},
          "execution_count": 23
        }
      ]
    },
    {
      "cell_type": "code",
      "source": [
        "history = transformer.fit(train_ds,\n",
        "                epochs=epochs,\n",
        "                validation_data=test_ds ,\n",
        "                callbacks=[\n",
        "                      early_stopping ,\n",
        "                      model_checkpoint_callback ,\n",
        "                      csv_logger ,\n",
        "                      backup_callback ])"
      ],
      "metadata": {
        "colab": {
          "base_uri": "https://localhost:8080/"
        },
        "id": "A_tWPXkZcEau",
        "outputId": "e658fc76-dbab-41c1-d7ae-345497a35dc9"
      },
      "execution_count": null,
      "outputs": [
        {
          "output_type": "stream",
          "name": "stdout",
          "text": [
            "Epoch 10/15\n",
            "2110/2110 [==============================] - 1184s 545ms/step - loss: 2.8680 - accuracy: 0.5310 - val_loss: 3.6216 - val_accuracy: 0.4309\n",
            "Epoch 11/15\n",
            "2110/2110 [==============================] - 1119s 530ms/step - loss: 2.7629 - accuracy: 0.5500 - val_loss: 3.6929 - val_accuracy: 0.4287\n",
            "Epoch 12/15\n",
            "2110/2110 [==============================] - 1125s 533ms/step - loss: 2.6680 - accuracy: 0.5676 - val_loss: 3.7656 - val_accuracy: 0.4262\n",
            "Epoch 13/15\n",
            "2110/2110 [==============================] - 1118s 530ms/step - loss: 2.5823 - accuracy: 0.5840 - val_loss: 3.8282 - val_accuracy: 0.4251\n",
            "Epoch 14/15\n",
            "2110/2110 [==============================] - 1119s 530ms/step - loss: 2.5032 - accuracy: 0.5993 - val_loss: 3.8908 - val_accuracy: 0.4219\n",
            "Epoch 15/15\n",
            "2110/2110 [==============================] - 1123s 532ms/step - loss: 2.4293 - accuracy: 0.6137 - val_loss: 3.9642 - val_accuracy: 0.4197\n"
          ]
        }
      ]
    },
    {
      "cell_type": "code",
      "source": [
        "transformer.save('/content/drive/MyDrive/MP/V1-50k-106M.h5')"
      ],
      "metadata": {
        "id": "vu07SXjzcNP0",
        "colab": {
          "base_uri": "https://localhost:8080/"
        },
        "outputId": "7703a518-8abd-4bfc-9c94-d4223743ddb8"
      },
      "execution_count": null,
      "outputs": [
        {
          "output_type": "stream",
          "name": "stderr",
          "text": [
            "/usr/local/lib/python3.10/dist-packages/keras/src/engine/training.py:3103: UserWarning: You are saving your model as an HDF5 file via `model.save()`. This file format is considered legacy. We recommend using instead the native Keras format, e.g. `model.save('my_model.keras')`.\n",
            "  saving_api.save_model(\n"
          ]
        }
      ]
    },
    {
      "cell_type": "code",
      "source": [
        "transformer.load_model('/content/drive/MyDrive/MP/V1-50k-106M.h5')"
      ],
      "metadata": {
        "id": "su59m9yO5a-i"
      },
      "execution_count": null,
      "outputs": []
    },
    {
      "cell_type": "code",
      "source": [
        "import os\n",
        "def plot_loss_and_accuracy(history, save_dir=None, filename=None):\n",
        "    # Extract the loss and accuracy values from the history object\n",
        "    loss = history.history['loss']\n",
        "    val_loss = history.history['val_loss']\n",
        "    accuracy = history.history['accuracy']\n",
        "    val_accuracy = history.history['val_accuracy']\n",
        "\n",
        "    # Get the number of epochs\n",
        "    epochs = range(1, len(loss) + 1)\n",
        "\n",
        "    # Plot training and validation loss\n",
        "    plt.figure(figsize=(12, 5))\n",
        "    plt.subplot(1, 2, 1)\n",
        "    plt.plot(epochs, loss, 'bo-', label='Training Loss')\n",
        "    plt.plot(epochs, val_loss, 'ro-', label='Validation Loss')\n",
        "    plt.title('Training and Validation Loss')\n",
        "    plt.xlabel('Epochs')\n",
        "    plt.ylabel('Loss')\n",
        "    plt.legend()\n",
        "\n",
        "    # Plot training and validation accuracy\n",
        "    plt.subplot(1, 2, 2)\n",
        "    plt.plot(epochs, accuracy, 'bo-', label='Training Accuracy')\n",
        "    plt.plot(epochs, val_accuracy, 'ro-', label='Validation Accuracy')\n",
        "    plt.title('Training and Validation Accuracy')\n",
        "    plt.xlabel('Epochs')\n",
        "    plt.ylabel('Accuracy')\n",
        "    plt.legend()\n",
        "\n",
        "    plt.tight_layout()\n",
        "\n",
        "    # Save the figure if save_dir and filename are provided\n",
        "    if save_dir and filename:\n",
        "        os.makedirs(save_dir, exist_ok=True)\n",
        "        save_path = os.path.join(save_dir, filename)\n",
        "        plt.savefig(save_path)\n",
        "        print(f\"Plots saved as '{save_path}'\")\n",
        "\n",
        "    plt.show()\n",
        "plot_loss_and_accuracy(history ,\"/content/drive/MyDrive/NMT-Project\", \"V1-50k-106M_trainloss.png\" )"
      ],
      "metadata": {
        "id": "m33uAGgxGZYJ"
      },
      "execution_count": null,
      "outputs": []
    },
    {
      "cell_type": "code",
      "source": [
        "hin_vocab = hin_vectorization.get_vocabulary()\n",
        "hin_index_lookup = dict(zip(range(len(hin_vocab)), hin_vocab))\n",
        "max_decoded_sentence_length = 20"
      ],
      "metadata": {
        "id": "LIIGKkcoGasH"
      },
      "execution_count": null,
      "outputs": []
    },
    {
      "cell_type": "code",
      "source": [
        "def decode_sequence(input_sentence):\n",
        "    tokenized_input_sentence = tam_vectorization([input_sentence])\n",
        "    decoded_sentence = \"[start]\"\n",
        "    for i in range(max_decoded_sentence_length):\n",
        "        tokenized_target_sentence = hin_vectorization([decoded_sentence])[:, :-1]\n",
        "        predictions = transformer([tokenized_input_sentence, tokenized_target_sentence])\n",
        "\n",
        "        sampled_token_index = np.argmax(predictions[0, i, :])\n",
        "        sampled_token = hin_index_lookup[sampled_token_index]\n",
        "        decoded_sentence += \" \" + sampled_token\n",
        "\n",
        "        if sampled_token == \"[end]\":\n",
        "            break\n",
        "    return decoded_sentence"
      ],
      "metadata": {
        "id": "lelt5ZZMGffB"
      },
      "execution_count": null,
      "outputs": []
    },
    {
      "cell_type": "code",
      "source": [
        "sample  = random.choice(train_pairs)\n",
        "input_sentence = sample[0]\n",
        "translated = decode_sequence(input_sentence)\n",
        "print('Tamil - ' , input_sentence )\n",
        "print('Hindi' )\n",
        "print('Ground Truth : ', sample[1])\n",
        "print('Machine Translation : ' , translated )"
      ],
      "metadata": {
        "colab": {
          "base_uri": "https://localhost:8080/"
        },
        "id": "Zj8yRA6Dj1Bi",
        "outputId": "90b68d42-1717-4b3e-df80-58f61f8ece24"
      },
      "execution_count": null,
      "outputs": [
        {
          "output_type": "stream",
          "name": "stdout",
          "text": [
            "Tamil -  இதுவரை பலியானோர் எண்ணிக்கை 16 லட்சமாக உயர்ந்துள்ளது.\n",
            "Hindi\n",
            "Ground Truth :  [start] इसके बाद मृतकों की संख्य़ा बढ़कर 16 हो गई है. [end]\n",
            "Machine Translation :  [start] इसके अलावा 16 लाख लोगों को [UNK] मिल चुका है। [end]\n"
          ]
        }
      ]
    },
    {
      "cell_type": "code",
      "source": [
        "sample  = random.choice(test_pairs)\n",
        "input_sentence = sample[0]\n",
        "translated = decode_sequence(input_sentence)\n",
        "print('Tamil - ' , input_sentence )\n",
        "print('Hindi' )\n",
        "print('Ground Truth : ', sample[1])\n",
        "print('Machine Translation : ' , translated )"
      ],
      "metadata": {
        "id": "kx8uj2Xfj9KY",
        "colab": {
          "base_uri": "https://localhost:8080/"
        },
        "outputId": "d682e765-cd4e-44fb-c236-08c431c396c9"
      },
      "execution_count": null,
      "outputs": [
        {
          "output_type": "stream",
          "name": "stdout",
          "text": [
            "Tamil -  மேடை அமைப்புகளையும் ஒப்பனைகளையும் தயாரிப்பதற்கு எந்தளவுக்கு பெரும் ஆராய்ச்சி செய்யப்படுகிறது என்பதைப் பற்றி ஓரளவுக்கு அவர்களால் அறிந்துகொள்ள முடிந்தது.\n",
            "Hindi\n",
            "Ground Truth :  [start] मेन बिल्डिंग की पहली मंजिल पर गिलियड स्कूल था और उसके अंदर जाते ही स्कूल के इतिहास और उसकी अहमियत को बतानेवाली तस्वीरें दिखाई गई थीं । [end]\n",
            "Machine Translation :  [start] और यह भी कि कुछ ऐसे मामलों में परमेश्‍वर की सेवा करने के बारे में क्या यह सच है कि\n"
          ]
        }
      ]
    },
    {
      "cell_type": "code",
      "source": [
        "import pandas as pd\n",
        "import random\n",
        "\n",
        "data = []\n",
        "\n",
        "def remove_start_end(sentence):\n",
        "    output = re.sub(r'\\[start\\]', '', sentence)\n",
        "    output = re.sub(r'\\[end\\]', '', output)\n",
        "    return output.strip()\n",
        "\n",
        "for _ in range(200):\n",
        "    sample = random.choice(train_pairs)\n",
        "    input_sentence = sample[0]\n",
        "    translated = decode_sequence(input_sentence)\n",
        "\n",
        "    data.append({\n",
        "        'Tamil': input_sentence,\n",
        "        'Actual': remove_start_end(sample[1]),\n",
        "        'Transformer-Prediction': remove_start_end(translated)\n",
        "    })\n",
        "\n",
        "df = pd.DataFrame(data)\n",
        "df.to_excel('/content/drive/MyDrive/MP/translation_data-1.xlsx', index=False)"
      ],
      "metadata": {
        "id": "hiVKyu_ABFw3"
      },
      "execution_count": null,
      "outputs": []
    },
    {
      "cell_type": "code",
      "source": [
        "!pip install pytesseract\n",
        "!sudo apt install tesseract-ocr"
      ],
      "metadata": {
        "colab": {
          "base_uri": "https://localhost:8080/"
        },
        "id": "doATigAncOHs",
        "outputId": "006e1438-7821-40a7-c37f-08cc15093b50"
      },
      "execution_count": null,
      "outputs": [
        {
          "output_type": "stream",
          "name": "stdout",
          "text": [
            "Requirement already satisfied: pytesseract in /usr/local/lib/python3.10/dist-packages (0.3.10)\n",
            "Requirement already satisfied: packaging>=21.3 in /usr/local/lib/python3.10/dist-packages (from pytesseract) (23.2)\n",
            "Requirement already satisfied: Pillow>=8.0.0 in /usr/local/lib/python3.10/dist-packages (from pytesseract) (9.4.0)\n",
            "Reading package lists... Done\n",
            "Building dependency tree... Done\n",
            "Reading state information... Done\n",
            "The following additional packages will be installed:\n",
            "  tesseract-ocr-eng tesseract-ocr-osd\n",
            "The following NEW packages will be installed:\n",
            "  tesseract-ocr tesseract-ocr-eng tesseract-ocr-osd\n",
            "0 upgraded, 3 newly installed, 0 to remove and 33 not upgraded.\n",
            "Need to get 4,816 kB of archives.\n",
            "After this operation, 15.6 MB of additional disk space will be used.\n",
            "Get:1 http://archive.ubuntu.com/ubuntu jammy/universe amd64 tesseract-ocr-eng all 1:4.00~git30-7274cfa-1.1 [1,591 kB]\n",
            "Get:2 http://archive.ubuntu.com/ubuntu jammy/universe amd64 tesseract-ocr-osd all 1:4.00~git30-7274cfa-1.1 [2,990 kB]\n",
            "Get:3 http://archive.ubuntu.com/ubuntu jammy/universe amd64 tesseract-ocr amd64 4.1.1-2.1build1 [236 kB]\n",
            "Fetched 4,816 kB in 1s (3,270 kB/s)\n",
            "debconf: unable to initialize frontend: Dialog\n",
            "debconf: (No usable dialog-like program is installed, so the dialog based frontend cannot be used. at /usr/share/perl5/Debconf/FrontEnd/Dialog.pm line 78, <> line 3.)\n",
            "debconf: falling back to frontend: Readline\n",
            "debconf: unable to initialize frontend: Readline\n",
            "debconf: (This frontend requires a controlling tty.)\n",
            "debconf: falling back to frontend: Teletype\n",
            "dpkg-preconfigure: unable to re-open stdin: \n",
            "Selecting previously unselected package tesseract-ocr-eng.\n",
            "(Reading database ... 121749 files and directories currently installed.)\n",
            "Preparing to unpack .../tesseract-ocr-eng_1%3a4.00~git30-7274cfa-1.1_all.deb ...\n",
            "Unpacking tesseract-ocr-eng (1:4.00~git30-7274cfa-1.1) ...\n",
            "Selecting previously unselected package tesseract-ocr-osd.\n",
            "Preparing to unpack .../tesseract-ocr-osd_1%3a4.00~git30-7274cfa-1.1_all.deb ...\n",
            "Unpacking tesseract-ocr-osd (1:4.00~git30-7274cfa-1.1) ...\n",
            "Selecting previously unselected package tesseract-ocr.\n",
            "Preparing to unpack .../tesseract-ocr_4.1.1-2.1build1_amd64.deb ...\n",
            "Unpacking tesseract-ocr (4.1.1-2.1build1) ...\n",
            "Setting up tesseract-ocr-eng (1:4.00~git30-7274cfa-1.1) ...\n",
            "Setting up tesseract-ocr-osd (1:4.00~git30-7274cfa-1.1) ...\n",
            "Setting up tesseract-ocr (4.1.1-2.1build1) ...\n",
            "Processing triggers for man-db (2.10.2-1) ...\n"
          ]
        }
      ]
    },
    {
      "cell_type": "code",
      "source": [
        "pytesseract.pytesseract.tesseract_cmd = (r'/usr/local/bin/pytesseract')"
      ],
      "metadata": {
        "id": "7Mqrpq5CeXa6"
      },
      "execution_count": null,
      "outputs": []
    },
    {
      "cell_type": "code",
      "source": [
        "from PIL import Image\n",
        "import pytesseract\n",
        "\n",
        "img = r'/content/drive/MyDrive/MP/test/tamil.png'\n",
        "text = pytesseract.image_to_string(Image.open(img), lang='tam')\n",
        "\n",
        "input_sentence = text\n",
        "translated = decode_sequence(input_sentence)\n",
        "print('Tamil - ' , input_sentence )\n",
        "print('Hindi' )\n",
        "print('Machine Translation : ' , translated )\n"
      ],
      "metadata": {
        "id": "C317GU2Dcxy4"
      },
      "execution_count": null,
      "outputs": []
    },
    {
      "cell_type": "code",
      "source": [
        "input_sentence = '''\n",
        "இச்‌,௪ லைபிரேரியில்‌, அகத்தியர்‌, சேசையர்‌, சட்டை\n",
        "மூனி, மச்சமுனி, பிரமமுனி, யூ௫முனி, ;போகர்‌, சொல்க'''\n",
        "\n",
        "translated = decode_sequence(input_sentence)\n",
        "print('Tamil - ' , input_sentence )\n",
        "print('Hindi' )\n",
        "print('Machine Translation : ' , translated )"
      ],
      "metadata": {
        "colab": {
          "base_uri": "https://localhost:8080/"
        },
        "id": "8vGCS_lsd4oT",
        "outputId": "524008f5-178e-4c2b-edb1-b72abc6db97c"
      },
      "execution_count": null,
      "outputs": [
        {
          "output_type": "stream",
          "name": "stdout",
          "text": [
            "Tamil -  \n",
            "இச்‌,௪ லைபிரேரியில்‌, அகத்தியர்‌, சேசையர்‌, சட்டை\n",
            "மூனி, மச்சமுனி, பிரமமுனி, யூ௫முனி, ;போகர்‌, சொல்க\n",
            "Hindi\n",
            "Machine Translation :  [start] और [UNK] का अर्थ है कि [UNK] में [UNK] [UNK] [UNK] [end]\n"
          ]
        }
      ]
    }
  ]
}