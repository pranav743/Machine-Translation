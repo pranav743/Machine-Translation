{
  "cells": [
    {
      "cell_type": "code",
      "execution_count": null,
      "metadata": {
        "id": "p3tIfeqWIYax",
        "colab": {
          "base_uri": "https://localhost:8080/"
        },
        "outputId": "a7d109c4-56ba-48ea-d894-05bea6716018"
      },
      "outputs": [
        {
          "output_type": "stream",
          "name": "stdout",
          "text": [
            "\u001b[?25l     \u001b[90m━━━━━━━━━━━━━━━━━━━━━━━━━━━━━━━━━━━━━━━━\u001b[0m \u001b[32m0.0/981.5 kB\u001b[0m \u001b[31m?\u001b[0m eta \u001b[36m-:--:--\u001b[0m\r\u001b[2K     \u001b[91m━\u001b[0m\u001b[90m╺\u001b[0m\u001b[90m━━━━━━━━━━━━━━━━━━━━━━━━━━━━━━━━━━━━━━\u001b[0m \u001b[32m30.7/981.5 kB\u001b[0m \u001b[31m873.7 kB/s\u001b[0m eta \u001b[36m0:00:02\u001b[0m\r\u001b[2K     \u001b[91m━━━━━━━━\u001b[0m\u001b[90m╺\u001b[0m\u001b[90m━━━━━━━━━━━━━━━━━━━━━━━━━━━━━━━\u001b[0m \u001b[32m204.8/981.5 kB\u001b[0m \u001b[31m2.9 MB/s\u001b[0m eta \u001b[36m0:00:01\u001b[0m\r\u001b[2K     \u001b[91m━━━━━━━━━━━━━━━━━━━━\u001b[0m\u001b[90m╺\u001b[0m\u001b[90m━━━━━━━━━━━━━━━━━━━\u001b[0m \u001b[32m491.5/981.5 kB\u001b[0m \u001b[31m4.6 MB/s\u001b[0m eta \u001b[36m0:00:01\u001b[0m\r\u001b[2K     \u001b[91m━━━━━━━━━━━━━━━━━━━━━━━━━━━━━━━\u001b[0m\u001b[91m╸\u001b[0m\u001b[90m━━━━━━━━\u001b[0m \u001b[32m778.2/981.5 kB\u001b[0m \u001b[31m5.4 MB/s\u001b[0m eta \u001b[36m0:00:01\u001b[0m\r\u001b[2K     \u001b[91m━━━━━━━━━━━━━━━━━━━━━━━━━━━━━━━━━━━━━━━\u001b[0m\u001b[91m╸\u001b[0m \u001b[32m972.8/981.5 kB\u001b[0m \u001b[31m5.9 MB/s\u001b[0m eta \u001b[36m0:00:01\u001b[0m\r\u001b[2K     \u001b[90m━━━━━━━━━━━━━━━━━━━━━━━━━━━━━━━━━━━━━━━━\u001b[0m \u001b[32m981.5/981.5 kB\u001b[0m \u001b[31m5.4 MB/s\u001b[0m eta \u001b[36m0:00:00\u001b[0m\n",
            "\u001b[?25h  Preparing metadata (setup.py) ... \u001b[?25l\u001b[?25hdone\n",
            "  Building wheel for langdetect (setup.py) ... \u001b[?25l\u001b[?25hdone\n"
          ]
        }
      ],
      "source": [
        "!pip install keras.metrics --quiet\n",
        "!pip install transformers --quiet\n",
        "!pip install langdetect --quiet"
      ]
    },
    {
      "cell_type": "code",
      "execution_count": null,
      "metadata": {
        "id": "vkbgZuzfEOTZ"
      },
      "outputs": [],
      "source": [
        "import numpy as np\n",
        "import pandas as pd\n",
        "import os\n",
        "import string\n",
        "from string import digits\n",
        "import matplotlib.pyplot as plt\n",
        "%matplotlib inline\n",
        "import re\n",
        "import pickle\n",
        "import seaborn as sns\n",
        "from sklearn.utils import shuffle\n",
        "from sklearn.model_selection import train_test_split\n",
        "from keras.layers import Input, LSTM, Embedding, Dense, Dropout, RepeatVector, Dot, Concatenate, Bidirectional, Activation\n",
        "from keras.models import Model"
      ]
    },
    {
      "cell_type": "code",
      "execution_count": null,
      "metadata": {
        "id": "8gbVgBlOEluB"
      },
      "outputs": [],
      "source": [
        "en_file = r'/content/drive/MyDrive/Honours-DL/Translation/train.en'\n",
        "mr_file = r'/content/drive/MyDrive/Honours-DL/Translation/train.mr'"
      ]
    },
    {
      "cell_type": "code",
      "source": [
        "with open(en_file, 'r', encoding='utf-8') as file:\n",
        "    en_sentences = [line.strip() for line in file.readlines()[:20000]]\n",
        "with open(mr_file, 'r', encoding='utf-8') as file:\n",
        "    mr_sentences = [line.strip() for line in file.readlines()[:20000]]\n",
        "en_sentences = [sentence.rstrip('\\n') for sentence in en_sentences]\n",
        "mr_sentences = [sentence.rstrip('\\n') for sentence in mr_sentences]\n",
        "print(\"Eng : Total\", len(en_sentences))\n",
        "print(\"Mar : Total \", len(mr_sentences))"
      ],
      "metadata": {
        "colab": {
          "base_uri": "https://localhost:8080/"
        },
        "id": "cP8AptMXHjSD",
        "outputId": "88710e82-2b2b-4297-96a1-b0b596902fc9"
      },
      "execution_count": null,
      "outputs": [
        {
          "output_type": "stream",
          "name": "stdout",
          "text": [
            "Eng : Total 20000\n",
            "Mar : Total  20000\n"
          ]
        }
      ]
    },
    {
      "cell_type": "code",
      "execution_count": null,
      "metadata": {
        "id": "nlL2ljZoEra9"
      },
      "outputs": [],
      "source": [
        "# with open(en_file, 'r') as file:\n",
        "#     en_sentences = file.readlines()\n",
        "# with open(mr_file, 'r') as file:\n",
        "#     mr_sentences = file.readlines()\n",
        "\n",
        "\n",
        "# en_sentences = [sentence.rstrip('\\n') for sentence in en_sentences]\n",
        "# mr_sentences = [sentence.rstrip('\\n') for sentence in mr_sentences]"
      ]
    },
    {
      "cell_type": "code",
      "execution_count": null,
      "metadata": {
        "colab": {
          "base_uri": "https://localhost:8080/"
        },
        "id": "y_U3ltQDEwh9",
        "outputId": "99e8ad33-beb1-4ddd-dbc7-e13aea5f9764"
      },
      "outputs": [
        {
          "output_type": "execute_result",
          "data": {
            "text/plain": [
              "(20000, 2)"
            ]
          },
          "metadata": {},
          "execution_count": 150
        }
      ],
      "source": [
        "lines =  pd.DataFrame({\"English\":en_sentences, \"Marathi\":mr_sentences })\n",
        "lines.shape"
      ]
    },
    {
      "cell_type": "code",
      "execution_count": null,
      "metadata": {
        "colab": {
          "base_uri": "https://localhost:8080/",
          "height": 206
        },
        "id": "xUIALoB1FwD7",
        "outputId": "e520e255-c5fa-40dd-82cf-e39869c62592"
      },
      "outputs": [
        {
          "output_type": "execute_result",
          "data": {
            "text/plain": [
              "                                             English  \\\n",
              "0  Today, ASEAN and India enjoy multi-faceted coo...   \n",
              "1  For us in India, ASEANs continuance in this ro...   \n",
              "2             We need to put faith in his reminders.   \n",
              "3     Presently elections are being held in Gujarat.   \n",
              "4  This will aim to pool research and technologic...   \n",
              "\n",
              "                                             Marathi  \n",
              "0  आज आसियान आणि भारत, आसियानचे राजनीतिक- सुरक्षा...  \n",
              "1  आसियान राष्ट्र समुहातील देशांशी भारताचे उत्तम ...  \n",
              "2                               [ ७ पानांवरील चित्र]  \n",
              "3  दरम्यान, गुजरात निवडणूकीचा प्रचार आता शिगेला प...  \n",
              "4  यामुळे सौर ऊर्जा क्षेत्रातल्या संशोधनाला आणि त...  "
            ],
            "text/html": [
              "\n",
              "  <div id=\"df-1000e4e5-df35-47c0-aa50-da8dcfe58ede\" class=\"colab-df-container\">\n",
              "    <div>\n",
              "<style scoped>\n",
              "    .dataframe tbody tr th:only-of-type {\n",
              "        vertical-align: middle;\n",
              "    }\n",
              "\n",
              "    .dataframe tbody tr th {\n",
              "        vertical-align: top;\n",
              "    }\n",
              "\n",
              "    .dataframe thead th {\n",
              "        text-align: right;\n",
              "    }\n",
              "</style>\n",
              "<table border=\"1\" class=\"dataframe\">\n",
              "  <thead>\n",
              "    <tr style=\"text-align: right;\">\n",
              "      <th></th>\n",
              "      <th>English</th>\n",
              "      <th>Marathi</th>\n",
              "    </tr>\n",
              "  </thead>\n",
              "  <tbody>\n",
              "    <tr>\n",
              "      <th>0</th>\n",
              "      <td>Today, ASEAN and India enjoy multi-faceted coo...</td>\n",
              "      <td>आज आसियान आणि भारत, आसियानचे राजनीतिक- सुरक्षा...</td>\n",
              "    </tr>\n",
              "    <tr>\n",
              "      <th>1</th>\n",
              "      <td>For us in India, ASEANs continuance in this ro...</td>\n",
              "      <td>आसियान राष्ट्र समुहातील देशांशी भारताचे उत्तम ...</td>\n",
              "    </tr>\n",
              "    <tr>\n",
              "      <th>2</th>\n",
              "      <td>We need to put faith in his reminders.</td>\n",
              "      <td>[ ७ पानांवरील चित्र]</td>\n",
              "    </tr>\n",
              "    <tr>\n",
              "      <th>3</th>\n",
              "      <td>Presently elections are being held in Gujarat.</td>\n",
              "      <td>दरम्यान, गुजरात निवडणूकीचा प्रचार आता शिगेला प...</td>\n",
              "    </tr>\n",
              "    <tr>\n",
              "      <th>4</th>\n",
              "      <td>This will aim to pool research and technologic...</td>\n",
              "      <td>यामुळे सौर ऊर्जा क्षेत्रातल्या संशोधनाला आणि त...</td>\n",
              "    </tr>\n",
              "  </tbody>\n",
              "</table>\n",
              "</div>\n",
              "    <div class=\"colab-df-buttons\">\n",
              "\n",
              "  <div class=\"colab-df-container\">\n",
              "    <button class=\"colab-df-convert\" onclick=\"convertToInteractive('df-1000e4e5-df35-47c0-aa50-da8dcfe58ede')\"\n",
              "            title=\"Convert this dataframe to an interactive table.\"\n",
              "            style=\"display:none;\">\n",
              "\n",
              "  <svg xmlns=\"http://www.w3.org/2000/svg\" height=\"24px\" viewBox=\"0 -960 960 960\">\n",
              "    <path d=\"M120-120v-720h720v720H120Zm60-500h600v-160H180v160Zm220 220h160v-160H400v160Zm0 220h160v-160H400v160ZM180-400h160v-160H180v160Zm440 0h160v-160H620v160ZM180-180h160v-160H180v160Zm440 0h160v-160H620v160Z\"/>\n",
              "  </svg>\n",
              "    </button>\n",
              "\n",
              "  <style>\n",
              "    .colab-df-container {\n",
              "      display:flex;\n",
              "      gap: 12px;\n",
              "    }\n",
              "\n",
              "    .colab-df-convert {\n",
              "      background-color: #E8F0FE;\n",
              "      border: none;\n",
              "      border-radius: 50%;\n",
              "      cursor: pointer;\n",
              "      display: none;\n",
              "      fill: #1967D2;\n",
              "      height: 32px;\n",
              "      padding: 0 0 0 0;\n",
              "      width: 32px;\n",
              "    }\n",
              "\n",
              "    .colab-df-convert:hover {\n",
              "      background-color: #E2EBFA;\n",
              "      box-shadow: 0px 1px 2px rgba(60, 64, 67, 0.3), 0px 1px 3px 1px rgba(60, 64, 67, 0.15);\n",
              "      fill: #174EA6;\n",
              "    }\n",
              "\n",
              "    .colab-df-buttons div {\n",
              "      margin-bottom: 4px;\n",
              "    }\n",
              "\n",
              "    [theme=dark] .colab-df-convert {\n",
              "      background-color: #3B4455;\n",
              "      fill: #D2E3FC;\n",
              "    }\n",
              "\n",
              "    [theme=dark] .colab-df-convert:hover {\n",
              "      background-color: #434B5C;\n",
              "      box-shadow: 0px 1px 3px 1px rgba(0, 0, 0, 0.15);\n",
              "      filter: drop-shadow(0px 1px 2px rgba(0, 0, 0, 0.3));\n",
              "      fill: #FFFFFF;\n",
              "    }\n",
              "  </style>\n",
              "\n",
              "    <script>\n",
              "      const buttonEl =\n",
              "        document.querySelector('#df-1000e4e5-df35-47c0-aa50-da8dcfe58ede button.colab-df-convert');\n",
              "      buttonEl.style.display =\n",
              "        google.colab.kernel.accessAllowed ? 'block' : 'none';\n",
              "\n",
              "      async function convertToInteractive(key) {\n",
              "        const element = document.querySelector('#df-1000e4e5-df35-47c0-aa50-da8dcfe58ede');\n",
              "        const dataTable =\n",
              "          await google.colab.kernel.invokeFunction('convertToInteractive',\n",
              "                                                    [key], {});\n",
              "        if (!dataTable) return;\n",
              "\n",
              "        const docLinkHtml = 'Like what you see? Visit the ' +\n",
              "          '<a target=\"_blank\" href=https://colab.research.google.com/notebooks/data_table.ipynb>data table notebook</a>'\n",
              "          + ' to learn more about interactive tables.';\n",
              "        element.innerHTML = '';\n",
              "        dataTable['output_type'] = 'display_data';\n",
              "        await google.colab.output.renderOutput(dataTable, element);\n",
              "        const docLink = document.createElement('div');\n",
              "        docLink.innerHTML = docLinkHtml;\n",
              "        element.appendChild(docLink);\n",
              "      }\n",
              "    </script>\n",
              "  </div>\n",
              "\n",
              "\n",
              "<div id=\"df-607f8b87-a964-4a48-b343-478416e03e62\">\n",
              "  <button class=\"colab-df-quickchart\" onclick=\"quickchart('df-607f8b87-a964-4a48-b343-478416e03e62')\"\n",
              "            title=\"Suggest charts\"\n",
              "            style=\"display:none;\">\n",
              "\n",
              "<svg xmlns=\"http://www.w3.org/2000/svg\" height=\"24px\"viewBox=\"0 0 24 24\"\n",
              "     width=\"24px\">\n",
              "    <g>\n",
              "        <path d=\"M19 3H5c-1.1 0-2 .9-2 2v14c0 1.1.9 2 2 2h14c1.1 0 2-.9 2-2V5c0-1.1-.9-2-2-2zM9 17H7v-7h2v7zm4 0h-2V7h2v10zm4 0h-2v-4h2v4z\"/>\n",
              "    </g>\n",
              "</svg>\n",
              "  </button>\n",
              "\n",
              "<style>\n",
              "  .colab-df-quickchart {\n",
              "      --bg-color: #E8F0FE;\n",
              "      --fill-color: #1967D2;\n",
              "      --hover-bg-color: #E2EBFA;\n",
              "      --hover-fill-color: #174EA6;\n",
              "      --disabled-fill-color: #AAA;\n",
              "      --disabled-bg-color: #DDD;\n",
              "  }\n",
              "\n",
              "  [theme=dark] .colab-df-quickchart {\n",
              "      --bg-color: #3B4455;\n",
              "      --fill-color: #D2E3FC;\n",
              "      --hover-bg-color: #434B5C;\n",
              "      --hover-fill-color: #FFFFFF;\n",
              "      --disabled-bg-color: #3B4455;\n",
              "      --disabled-fill-color: #666;\n",
              "  }\n",
              "\n",
              "  .colab-df-quickchart {\n",
              "    background-color: var(--bg-color);\n",
              "    border: none;\n",
              "    border-radius: 50%;\n",
              "    cursor: pointer;\n",
              "    display: none;\n",
              "    fill: var(--fill-color);\n",
              "    height: 32px;\n",
              "    padding: 0;\n",
              "    width: 32px;\n",
              "  }\n",
              "\n",
              "  .colab-df-quickchart:hover {\n",
              "    background-color: var(--hover-bg-color);\n",
              "    box-shadow: 0 1px 2px rgba(60, 64, 67, 0.3), 0 1px 3px 1px rgba(60, 64, 67, 0.15);\n",
              "    fill: var(--button-hover-fill-color);\n",
              "  }\n",
              "\n",
              "  .colab-df-quickchart-complete:disabled,\n",
              "  .colab-df-quickchart-complete:disabled:hover {\n",
              "    background-color: var(--disabled-bg-color);\n",
              "    fill: var(--disabled-fill-color);\n",
              "    box-shadow: none;\n",
              "  }\n",
              "\n",
              "  .colab-df-spinner {\n",
              "    border: 2px solid var(--fill-color);\n",
              "    border-color: transparent;\n",
              "    border-bottom-color: var(--fill-color);\n",
              "    animation:\n",
              "      spin 1s steps(1) infinite;\n",
              "  }\n",
              "\n",
              "  @keyframes spin {\n",
              "    0% {\n",
              "      border-color: transparent;\n",
              "      border-bottom-color: var(--fill-color);\n",
              "      border-left-color: var(--fill-color);\n",
              "    }\n",
              "    20% {\n",
              "      border-color: transparent;\n",
              "      border-left-color: var(--fill-color);\n",
              "      border-top-color: var(--fill-color);\n",
              "    }\n",
              "    30% {\n",
              "      border-color: transparent;\n",
              "      border-left-color: var(--fill-color);\n",
              "      border-top-color: var(--fill-color);\n",
              "      border-right-color: var(--fill-color);\n",
              "    }\n",
              "    40% {\n",
              "      border-color: transparent;\n",
              "      border-right-color: var(--fill-color);\n",
              "      border-top-color: var(--fill-color);\n",
              "    }\n",
              "    60% {\n",
              "      border-color: transparent;\n",
              "      border-right-color: var(--fill-color);\n",
              "    }\n",
              "    80% {\n",
              "      border-color: transparent;\n",
              "      border-right-color: var(--fill-color);\n",
              "      border-bottom-color: var(--fill-color);\n",
              "    }\n",
              "    90% {\n",
              "      border-color: transparent;\n",
              "      border-bottom-color: var(--fill-color);\n",
              "    }\n",
              "  }\n",
              "</style>\n",
              "\n",
              "  <script>\n",
              "    async function quickchart(key) {\n",
              "      const quickchartButtonEl =\n",
              "        document.querySelector('#' + key + ' button');\n",
              "      quickchartButtonEl.disabled = true;  // To prevent multiple clicks.\n",
              "      quickchartButtonEl.classList.add('colab-df-spinner');\n",
              "      try {\n",
              "        const charts = await google.colab.kernel.invokeFunction(\n",
              "            'suggestCharts', [key], {});\n",
              "      } catch (error) {\n",
              "        console.error('Error during call to suggestCharts:', error);\n",
              "      }\n",
              "      quickchartButtonEl.classList.remove('colab-df-spinner');\n",
              "      quickchartButtonEl.classList.add('colab-df-quickchart-complete');\n",
              "    }\n",
              "    (() => {\n",
              "      let quickchartButtonEl =\n",
              "        document.querySelector('#df-607f8b87-a964-4a48-b343-478416e03e62 button');\n",
              "      quickchartButtonEl.style.display =\n",
              "        google.colab.kernel.accessAllowed ? 'block' : 'none';\n",
              "    })();\n",
              "  </script>\n",
              "</div>\n",
              "    </div>\n",
              "  </div>\n"
            ],
            "application/vnd.google.colaboratory.intrinsic+json": {
              "type": "dataframe",
              "variable_name": "lines",
              "summary": "{\n  \"name\": \"lines\",\n  \"rows\": 20000,\n  \"fields\": [\n    {\n      \"column\": \"English\",\n      \"properties\": {\n        \"dtype\": \"string\",\n        \"num_unique_values\": 19730,\n        \"samples\": [\n          \"To understand why there is suffering, we should go back to the time when it started.\",\n          \"Ministry of Rural Development Year End Review-2017: Ministry of Rural Development Pradhan Mantri Awwas Yojana-Gramin (PMAY-G) The erstwhile scheme of IAY has been restructured into Pradhan Mantri Awaas Yojana-Gramin (PMAY-G) with effect from 1st April, 2016 and is in line with the Governments commitment of providing Housing for All by 2022 with improved scheme architecture and robust delivery and monitoring mechanism.\",\n          \"Hitler then shot himself.\"\n        ],\n        \"semantic_type\": \"\",\n        \"description\": \"\"\n      }\n    },\n    {\n      \"column\": \"Marathi\",\n      \"properties\": {\n        \"dtype\": \"string\",\n        \"num_unique_values\": 19998,\n        \"samples\": [\n          \"\\u091a\\u0940\\u0928\\u091a\\u094d\\u092f\\u093e \\u0935\\u0941\\u0939\\u093e\\u0928 \\u092a\\u094d\\u0930\\u093e\\u0902\\u0924\\u093e\\u0924\\u0942\\u0928 \\u0915\\u094b\\u0930\\u094b\\u0928\\u093e \\u0935\\u094d\\u0939\\u093e\\u092f\\u0930\\u0938 \\u0938\\u0930\\u094d\\u0935 \\u091c\\u0917\\u093e\\u0924 \\u092a\\u0938\\u0930\\u0932\\u093e.\",\n          \"\\u0924\\u0942 \\u0939\\u0940 \\u0917\\u094b\\u0937\\u094d\\u091f \\u0915\\u0927\\u0940 \\u092c\\u0902\\u0926 \\u0915\\u0930\\u0923\\u093e\\u0930 \\u0906\\u0939\\u0947\\u0938?\",\n          \"\\u092f\\u093e \\u0938\\u093f\\u0928\\u0947\\u092e\\u093e\\u0924 \\u0938\\u0932\\u092e\\u093e\\u0928\\u0938\\u094b\\u092c\\u0924 \\u0915\\u0930\\u0940\\u0928\\u093e \\u0915\\u092a\\u0942\\u0930 \\u0906\\u0939\\u0947.\"\n        ],\n        \"semantic_type\": \"\",\n        \"description\": \"\"\n      }\n    }\n  ]\n}"
            }
          },
          "metadata": {},
          "execution_count": 151
        }
      ],
      "source": [
        "lines.head(5)"
      ]
    },
    {
      "cell_type": "code",
      "execution_count": null,
      "metadata": {
        "id": "6rxx4jTEF15m"
      },
      "outputs": [],
      "source": [
        "lines=lines.sample(n=350000, random_state=42)\n",
        "print(lines.shape)"
      ]
    },
    {
      "cell_type": "code",
      "execution_count": null,
      "metadata": {
        "id": "rlxR2KyHGTrI"
      },
      "outputs": [],
      "source": [
        "lines['English']=lines['English'].apply(lambda x: x.lower())\n",
        "lines['Marathi']=lines['Marathi'].apply(lambda x: x.lower())"
      ]
    },
    {
      "cell_type": "code",
      "execution_count": null,
      "metadata": {
        "id": "11-XYvXlGfuu"
      },
      "outputs": [],
      "source": [
        "lines['English']=lines['English'].apply(lambda x: re.sub(\"'\", '', x))\n",
        "lines['Marathi']=lines['Marathi'].apply(lambda x: re.sub(\"'\", '', x))"
      ]
    },
    {
      "cell_type": "code",
      "execution_count": null,
      "metadata": {
        "colab": {
          "base_uri": "https://localhost:8080/"
        },
        "id": "LTP5qht_GmED",
        "outputId": "3ce18034-6ba6-45da-be8e-c4aa4acb6bb1"
      },
      "outputs": [
        {
          "output_type": "stream",
          "name": "stdout",
          "text": [
            "{'%', '>', '_', '$', ']', '.', '}', '?', '*', '\"', '&', ':', '<', ';', '~', '+', '!', '#', '(', ',', '\\\\', '^', '/', ')', '|', '-', '=', '`', '@', '[', \"'\", '{'}\n"
          ]
        }
      ],
      "source": [
        "exclude = set(string.punctuation) # Set of all special characters\n",
        "print(exclude)\n",
        "# Remove all the special characters\n",
        "lines['English']=lines['English'].apply(lambda x: ''.join(ch for ch in x if ch not in exclude))\n",
        "lines['Marathi']=lines['Marathi'].apply(lambda x: ''.join(ch for ch in x if ch not in exclude))"
      ]
    },
    {
      "cell_type": "code",
      "execution_count": null,
      "metadata": {
        "id": "EAluHeVXGttP"
      },
      "outputs": [],
      "source": [
        "# Remove all numbers from text\n",
        "remove_digits = str.maketrans('', '', digits)\n",
        "lines['English']=lines['English'].apply(lambda x: x.translate(remove_digits))\n",
        "lines['Marathi']=lines['Marathi'].apply(lambda x: x.translate(remove_digits))\n",
        "\n",
        "lines['Marathi'] = lines['Marathi'].apply(lambda x: re.sub(\"[२३०८१५७९४६]\", \"\", x))\n",
        "\n",
        "# Remove extra spaces\n",
        "lines['English']=lines['English'].apply(lambda x: x.strip())\n",
        "lines['Marathi']=lines['Marathi'].apply(lambda x: x.strip())\n",
        "lines['English']=lines['English'].apply(lambda x: re.sub(\" +\", \" \", x))\n",
        "lines['Marathi']=lines['Marathi'].apply(lambda x: re.sub(\" +\", \" \", x))"
      ]
    },
    {
      "cell_type": "code",
      "execution_count": null,
      "metadata": {
        "id": "wN1cmlpVG0kW"
      },
      "outputs": [],
      "source": [
        "lines['English'] = lines['English'].apply(lambda x : 'START_ '+ x + ' _END')"
      ]
    },
    {
      "cell_type": "code",
      "execution_count": null,
      "metadata": {
        "id": "DECjiVo5G7Gl"
      },
      "outputs": [],
      "source": [
        "### Get English and Marathi Vocabulary\n",
        "all_eng_words=set()\n",
        "for eng in lines['English']:\n",
        "    for word in eng.split():\n",
        "        if word not in all_eng_words:\n",
        "            all_eng_words.add(word)\n",
        "\n",
        "all_marathi_words=set()\n",
        "for hin in lines['Marathi']:\n",
        "    for word in hin.split():\n",
        "        if word not in all_marathi_words:\n",
        "            all_marathi_words.add(word)"
      ]
    },
    {
      "cell_type": "code",
      "source": [
        "print(len(all_eng_words), len(all_marathi_words))"
      ],
      "metadata": {
        "colab": {
          "base_uri": "https://localhost:8080/"
        },
        "id": "leBQDwaMsEse",
        "outputId": "ec3784f7-658e-4dc9-b2a5-a8d0fe6d9e37"
      },
      "execution_count": null,
      "outputs": [
        {
          "output_type": "stream",
          "name": "stdout",
          "text": [
            "19433 38933\n"
          ]
        }
      ]
    },
    {
      "cell_type": "code",
      "execution_count": null,
      "metadata": {
        "colab": {
          "base_uri": "https://localhost:8080/",
          "height": 405,
          "referenced_widgets": [
            "919876ba8be847a0b8e697154e1eb3ae",
            "43fd53827ede43e9b2056105bd3e48ba",
            "a6ad210d1d56463f9feca83b49030c11",
            "98fb81c7cf484eecaa82d69ea2d70fa5",
            "4b7f4c65600d4971a95d2baa7d520a7c",
            "780e04c6ec024bfaad7693ae54663f0d",
            "b60632dde8b04a80af0113e6acf462ae",
            "1e83c4ed0fbb477f8c4db0eb045e9da8",
            "993bd10915364a8bb0c56fbf49bd146c",
            "7dada37a14844cd3a19b3f60783f49fe",
            "99753b7aed9d4079b9f6ea586b828c51",
            "98b9ae4a66e04b02b4e900064cc2a7d8",
            "bfd32d21ff6a45f2a48e5b6bd226a9bd",
            "350f0af8aa214be0be493c805725c1e8",
            "b6633f0350444a77868ef2aeae175d4a",
            "7502e8ae1a3844458527e21e9dbb3b45",
            "1d7de285e03146009cfdc6d1cca20062",
            "741ded8f77aa490088167b86d48dacb5",
            "da974af9044446c3acf5b5ff110803b1",
            "b58c18c8216c4f44b643a9b173173c61",
            "fa2b4528e75a47d78bb379e4f5ef55d6",
            "854b48f28cd54148b1ba4702a124e29e",
            "9006ea746b7b4e2a8335eeaaa25dff9f",
            "59c26d9b8862404cb209820f483f76a9",
            "1f51c4601533454ba07598bf1211ae3f",
            "f131fffc6e1a4a71ad4bf6daeb6fe1fa",
            "95ecf20e03e14d859556877ef5fc0013",
            "c1d753805c4e4aa78222484242d68484",
            "75dd5fbcd095455eba565365ef047998",
            "090367593e7e41a0a493a25528673c68",
            "8c43362899a84ba59fae057a50918eee",
            "aec5e934e86d49479d961d060da9a043",
            "819a920ca86a47ddbb8662418dc3a01c",
            "38e14d498b6b4684a4d475bbef35c189",
            "f7dac281617d4fdfbfe24c555c42c057",
            "eb6c7644b365497aad4d76d621229986",
            "c449672726a44bec9e6cb6224f7e55b5",
            "09d5811333444a36a16bdd1e535cc994",
            "43c25ce25b8d4978838e3ec8528307fc",
            "e1ad8de9a56048228fd8a8844e457463",
            "c54384c334de4795b8f7d5cc2b1235f6",
            "1d0e58c139dc4580aab09b9bfcd05b77",
            "e65f9e9f89014801b35559e52ff4e64d",
            "af8528630a1149ba8b4c3a9b70468595"
          ]
        },
        "id": "RloE0g-b26cT",
        "outputId": "5ca61305-7990-49f8-92cb-2e28bd382b05"
      },
      "outputs": [
        {
          "output_type": "display_data",
          "data": {
            "text/plain": [
              "tokenizer_config.json:   0%|          | 0.00/48.0 [00:00<?, ?B/s]"
            ],
            "application/vnd.jupyter.widget-view+json": {
              "version_major": 2,
              "version_minor": 0,
              "model_id": "919876ba8be847a0b8e697154e1eb3ae"
            }
          },
          "metadata": {}
        },
        {
          "output_type": "display_data",
          "data": {
            "text/plain": [
              "vocab.txt:   0%|          | 0.00/872k [00:00<?, ?B/s]"
            ],
            "application/vnd.jupyter.widget-view+json": {
              "version_major": 2,
              "version_minor": 0,
              "model_id": "98b9ae4a66e04b02b4e900064cc2a7d8"
            }
          },
          "metadata": {}
        },
        {
          "output_type": "display_data",
          "data": {
            "text/plain": [
              "tokenizer.json:   0%|          | 0.00/1.72M [00:00<?, ?B/s]"
            ],
            "application/vnd.jupyter.widget-view+json": {
              "version_major": 2,
              "version_minor": 0,
              "model_id": "9006ea746b7b4e2a8335eeaaa25dff9f"
            }
          },
          "metadata": {}
        },
        {
          "output_type": "display_data",
          "data": {
            "text/plain": [
              "config.json:   0%|          | 0.00/625 [00:00<?, ?B/s]"
            ],
            "application/vnd.jupyter.widget-view+json": {
              "version_major": 2,
              "version_minor": 0,
              "model_id": "38e14d498b6b4684a4d475bbef35c189"
            }
          },
          "metadata": {}
        },
        {
          "output_type": "execute_result",
          "data": {
            "text/plain": [
              "['या',\n",
              " '##मळ',\n",
              " 'स',\n",
              " '##ौर',\n",
              " 'ऊ',\n",
              " '##रजा',\n",
              " 'कषतर',\n",
              " '##ात',\n",
              " '##लया',\n",
              " 'स',\n",
              " '##श',\n",
              " '##ोध',\n",
              " '##ना',\n",
              " '##ला',\n",
              " '!']"
            ]
          },
          "metadata": {},
          "execution_count": 10
        }
      ],
      "source": [
        "from transformers import BertTokenizer\n",
        "tokenizer = BertTokenizer.from_pretrained(\"google-bert/bert-base-multilingual-cased\")\n",
        "# यामुळे सौर ऊर्जा क्षेत्रातल्या संशोधनाला\n",
        "# vocab = tokenizer.get_vocab()\n",
        "tokenizer.tokenize(\"यामुळे सौर ऊर्जा क्षेत्रातल्या संशोधनाला !\")\n",
        "# print(vocab)"
      ]
    },
    {
      "cell_type": "code",
      "execution_count": null,
      "metadata": {
        "id": "stQ6Fwkd2afb"
      },
      "outputs": [],
      "source": []
    },
    {
      "cell_type": "code",
      "execution_count": null,
      "metadata": {
        "id": "HtZHf3AyHHdN"
      },
      "outputs": [],
      "source": [
        "lines['length_eng_sentence']=lines['English'].apply(lambda x:len(x.split(\" \")))\n",
        "lines['length_mar_sentence']=lines['Marathi'].apply(lambda x:len(x.split(\" \")))"
      ]
    },
    {
      "cell_type": "code",
      "execution_count": null,
      "metadata": {
        "colab": {
          "base_uri": "https://localhost:8080/",
          "height": 206
        },
        "id": "m82M8AupHPyv",
        "outputId": "518e9f5e-ce0a-42b5-d063-afc3406d9778"
      },
      "outputs": [
        {
          "output_type": "execute_result",
          "data": {
            "text/plain": [
              "                                             English  \\\n",
              "0  START_ today asean and india enjoy multifacete...   \n",
              "1  START_ for us in india aseans continuance in t...   \n",
              "2  START_ we need to put faith in his reminders _END   \n",
              "3  START_ presently elections are being held in g...   \n",
              "4  START_ this will aim to pool research and tech...   \n",
              "\n",
              "                                             Marathi  length_eng_sentence  \\\n",
              "0  आज आसियान आणि भारत आसियानचे राजनीतिक सुरक्षा आ...                   39   \n",
              "1  आसियान राष्ट्र समुहातील देशांशी भारताचे उत्तम ...                   29   \n",
              "2                                    पानांवरील चित्र                   10   \n",
              "3  दरम्यान गुजरात निवडणूकीचा प्रचार आता शिगेला पो...                    9   \n",
              "4  यामुळे सौर ऊर्जा क्षेत्रातल्या संशोधनाला आणि त...                   33   \n",
              "\n",
              "   length_mar_sentence  \n",
              "0                   52  \n",
              "1                   20  \n",
              "2                    2  \n",
              "3                    8  \n",
              "4                   22  "
            ],
            "text/html": [
              "\n",
              "  <div id=\"df-6e27aeeb-7ac5-4ce7-8382-8dc19bc97b92\" class=\"colab-df-container\">\n",
              "    <div>\n",
              "<style scoped>\n",
              "    .dataframe tbody tr th:only-of-type {\n",
              "        vertical-align: middle;\n",
              "    }\n",
              "\n",
              "    .dataframe tbody tr th {\n",
              "        vertical-align: top;\n",
              "    }\n",
              "\n",
              "    .dataframe thead th {\n",
              "        text-align: right;\n",
              "    }\n",
              "</style>\n",
              "<table border=\"1\" class=\"dataframe\">\n",
              "  <thead>\n",
              "    <tr style=\"text-align: right;\">\n",
              "      <th></th>\n",
              "      <th>English</th>\n",
              "      <th>Marathi</th>\n",
              "      <th>length_eng_sentence</th>\n",
              "      <th>length_mar_sentence</th>\n",
              "    </tr>\n",
              "  </thead>\n",
              "  <tbody>\n",
              "    <tr>\n",
              "      <th>0</th>\n",
              "      <td>START_ today asean and india enjoy multifacete...</td>\n",
              "      <td>आज आसियान आणि भारत आसियानचे राजनीतिक सुरक्षा आ...</td>\n",
              "      <td>39</td>\n",
              "      <td>52</td>\n",
              "    </tr>\n",
              "    <tr>\n",
              "      <th>1</th>\n",
              "      <td>START_ for us in india aseans continuance in t...</td>\n",
              "      <td>आसियान राष्ट्र समुहातील देशांशी भारताचे उत्तम ...</td>\n",
              "      <td>29</td>\n",
              "      <td>20</td>\n",
              "    </tr>\n",
              "    <tr>\n",
              "      <th>2</th>\n",
              "      <td>START_ we need to put faith in his reminders _END</td>\n",
              "      <td>पानांवरील चित्र</td>\n",
              "      <td>10</td>\n",
              "      <td>2</td>\n",
              "    </tr>\n",
              "    <tr>\n",
              "      <th>3</th>\n",
              "      <td>START_ presently elections are being held in g...</td>\n",
              "      <td>दरम्यान गुजरात निवडणूकीचा प्रचार आता शिगेला पो...</td>\n",
              "      <td>9</td>\n",
              "      <td>8</td>\n",
              "    </tr>\n",
              "    <tr>\n",
              "      <th>4</th>\n",
              "      <td>START_ this will aim to pool research and tech...</td>\n",
              "      <td>यामुळे सौर ऊर्जा क्षेत्रातल्या संशोधनाला आणि त...</td>\n",
              "      <td>33</td>\n",
              "      <td>22</td>\n",
              "    </tr>\n",
              "  </tbody>\n",
              "</table>\n",
              "</div>\n",
              "    <div class=\"colab-df-buttons\">\n",
              "\n",
              "  <div class=\"colab-df-container\">\n",
              "    <button class=\"colab-df-convert\" onclick=\"convertToInteractive('df-6e27aeeb-7ac5-4ce7-8382-8dc19bc97b92')\"\n",
              "            title=\"Convert this dataframe to an interactive table.\"\n",
              "            style=\"display:none;\">\n",
              "\n",
              "  <svg xmlns=\"http://www.w3.org/2000/svg\" height=\"24px\" viewBox=\"0 -960 960 960\">\n",
              "    <path d=\"M120-120v-720h720v720H120Zm60-500h600v-160H180v160Zm220 220h160v-160H400v160Zm0 220h160v-160H400v160ZM180-400h160v-160H180v160Zm440 0h160v-160H620v160ZM180-180h160v-160H180v160Zm440 0h160v-160H620v160Z\"/>\n",
              "  </svg>\n",
              "    </button>\n",
              "\n",
              "  <style>\n",
              "    .colab-df-container {\n",
              "      display:flex;\n",
              "      gap: 12px;\n",
              "    }\n",
              "\n",
              "    .colab-df-convert {\n",
              "      background-color: #E8F0FE;\n",
              "      border: none;\n",
              "      border-radius: 50%;\n",
              "      cursor: pointer;\n",
              "      display: none;\n",
              "      fill: #1967D2;\n",
              "      height: 32px;\n",
              "      padding: 0 0 0 0;\n",
              "      width: 32px;\n",
              "    }\n",
              "\n",
              "    .colab-df-convert:hover {\n",
              "      background-color: #E2EBFA;\n",
              "      box-shadow: 0px 1px 2px rgba(60, 64, 67, 0.3), 0px 1px 3px 1px rgba(60, 64, 67, 0.15);\n",
              "      fill: #174EA6;\n",
              "    }\n",
              "\n",
              "    .colab-df-buttons div {\n",
              "      margin-bottom: 4px;\n",
              "    }\n",
              "\n",
              "    [theme=dark] .colab-df-convert {\n",
              "      background-color: #3B4455;\n",
              "      fill: #D2E3FC;\n",
              "    }\n",
              "\n",
              "    [theme=dark] .colab-df-convert:hover {\n",
              "      background-color: #434B5C;\n",
              "      box-shadow: 0px 1px 3px 1px rgba(0, 0, 0, 0.15);\n",
              "      filter: drop-shadow(0px 1px 2px rgba(0, 0, 0, 0.3));\n",
              "      fill: #FFFFFF;\n",
              "    }\n",
              "  </style>\n",
              "\n",
              "    <script>\n",
              "      const buttonEl =\n",
              "        document.querySelector('#df-6e27aeeb-7ac5-4ce7-8382-8dc19bc97b92 button.colab-df-convert');\n",
              "      buttonEl.style.display =\n",
              "        google.colab.kernel.accessAllowed ? 'block' : 'none';\n",
              "\n",
              "      async function convertToInteractive(key) {\n",
              "        const element = document.querySelector('#df-6e27aeeb-7ac5-4ce7-8382-8dc19bc97b92');\n",
              "        const dataTable =\n",
              "          await google.colab.kernel.invokeFunction('convertToInteractive',\n",
              "                                                    [key], {});\n",
              "        if (!dataTable) return;\n",
              "\n",
              "        const docLinkHtml = 'Like what you see? Visit the ' +\n",
              "          '<a target=\"_blank\" href=https://colab.research.google.com/notebooks/data_table.ipynb>data table notebook</a>'\n",
              "          + ' to learn more about interactive tables.';\n",
              "        element.innerHTML = '';\n",
              "        dataTable['output_type'] = 'display_data';\n",
              "        await google.colab.output.renderOutput(dataTable, element);\n",
              "        const docLink = document.createElement('div');\n",
              "        docLink.innerHTML = docLinkHtml;\n",
              "        element.appendChild(docLink);\n",
              "      }\n",
              "    </script>\n",
              "  </div>\n",
              "\n",
              "\n",
              "<div id=\"df-0f1fa99f-0fa7-450f-9bff-eba88ca92b93\">\n",
              "  <button class=\"colab-df-quickchart\" onclick=\"quickchart('df-0f1fa99f-0fa7-450f-9bff-eba88ca92b93')\"\n",
              "            title=\"Suggest charts\"\n",
              "            style=\"display:none;\">\n",
              "\n",
              "<svg xmlns=\"http://www.w3.org/2000/svg\" height=\"24px\"viewBox=\"0 0 24 24\"\n",
              "     width=\"24px\">\n",
              "    <g>\n",
              "        <path d=\"M19 3H5c-1.1 0-2 .9-2 2v14c0 1.1.9 2 2 2h14c1.1 0 2-.9 2-2V5c0-1.1-.9-2-2-2zM9 17H7v-7h2v7zm4 0h-2V7h2v10zm4 0h-2v-4h2v4z\"/>\n",
              "    </g>\n",
              "</svg>\n",
              "  </button>\n",
              "\n",
              "<style>\n",
              "  .colab-df-quickchart {\n",
              "      --bg-color: #E8F0FE;\n",
              "      --fill-color: #1967D2;\n",
              "      --hover-bg-color: #E2EBFA;\n",
              "      --hover-fill-color: #174EA6;\n",
              "      --disabled-fill-color: #AAA;\n",
              "      --disabled-bg-color: #DDD;\n",
              "  }\n",
              "\n",
              "  [theme=dark] .colab-df-quickchart {\n",
              "      --bg-color: #3B4455;\n",
              "      --fill-color: #D2E3FC;\n",
              "      --hover-bg-color: #434B5C;\n",
              "      --hover-fill-color: #FFFFFF;\n",
              "      --disabled-bg-color: #3B4455;\n",
              "      --disabled-fill-color: #666;\n",
              "  }\n",
              "\n",
              "  .colab-df-quickchart {\n",
              "    background-color: var(--bg-color);\n",
              "    border: none;\n",
              "    border-radius: 50%;\n",
              "    cursor: pointer;\n",
              "    display: none;\n",
              "    fill: var(--fill-color);\n",
              "    height: 32px;\n",
              "    padding: 0;\n",
              "    width: 32px;\n",
              "  }\n",
              "\n",
              "  .colab-df-quickchart:hover {\n",
              "    background-color: var(--hover-bg-color);\n",
              "    box-shadow: 0 1px 2px rgba(60, 64, 67, 0.3), 0 1px 3px 1px rgba(60, 64, 67, 0.15);\n",
              "    fill: var(--button-hover-fill-color);\n",
              "  }\n",
              "\n",
              "  .colab-df-quickchart-complete:disabled,\n",
              "  .colab-df-quickchart-complete:disabled:hover {\n",
              "    background-color: var(--disabled-bg-color);\n",
              "    fill: var(--disabled-fill-color);\n",
              "    box-shadow: none;\n",
              "  }\n",
              "\n",
              "  .colab-df-spinner {\n",
              "    border: 2px solid var(--fill-color);\n",
              "    border-color: transparent;\n",
              "    border-bottom-color: var(--fill-color);\n",
              "    animation:\n",
              "      spin 1s steps(1) infinite;\n",
              "  }\n",
              "\n",
              "  @keyframes spin {\n",
              "    0% {\n",
              "      border-color: transparent;\n",
              "      border-bottom-color: var(--fill-color);\n",
              "      border-left-color: var(--fill-color);\n",
              "    }\n",
              "    20% {\n",
              "      border-color: transparent;\n",
              "      border-left-color: var(--fill-color);\n",
              "      border-top-color: var(--fill-color);\n",
              "    }\n",
              "    30% {\n",
              "      border-color: transparent;\n",
              "      border-left-color: var(--fill-color);\n",
              "      border-top-color: var(--fill-color);\n",
              "      border-right-color: var(--fill-color);\n",
              "    }\n",
              "    40% {\n",
              "      border-color: transparent;\n",
              "      border-right-color: var(--fill-color);\n",
              "      border-top-color: var(--fill-color);\n",
              "    }\n",
              "    60% {\n",
              "      border-color: transparent;\n",
              "      border-right-color: var(--fill-color);\n",
              "    }\n",
              "    80% {\n",
              "      border-color: transparent;\n",
              "      border-right-color: var(--fill-color);\n",
              "      border-bottom-color: var(--fill-color);\n",
              "    }\n",
              "    90% {\n",
              "      border-color: transparent;\n",
              "      border-bottom-color: var(--fill-color);\n",
              "    }\n",
              "  }\n",
              "</style>\n",
              "\n",
              "  <script>\n",
              "    async function quickchart(key) {\n",
              "      const quickchartButtonEl =\n",
              "        document.querySelector('#' + key + ' button');\n",
              "      quickchartButtonEl.disabled = true;  // To prevent multiple clicks.\n",
              "      quickchartButtonEl.classList.add('colab-df-spinner');\n",
              "      try {\n",
              "        const charts = await google.colab.kernel.invokeFunction(\n",
              "            'suggestCharts', [key], {});\n",
              "      } catch (error) {\n",
              "        console.error('Error during call to suggestCharts:', error);\n",
              "      }\n",
              "      quickchartButtonEl.classList.remove('colab-df-spinner');\n",
              "      quickchartButtonEl.classList.add('colab-df-quickchart-complete');\n",
              "    }\n",
              "    (() => {\n",
              "      let quickchartButtonEl =\n",
              "        document.querySelector('#df-0f1fa99f-0fa7-450f-9bff-eba88ca92b93 button');\n",
              "      quickchartButtonEl.style.display =\n",
              "        google.colab.kernel.accessAllowed ? 'block' : 'none';\n",
              "    })();\n",
              "  </script>\n",
              "</div>\n",
              "    </div>\n",
              "  </div>\n"
            ],
            "application/vnd.google.colaboratory.intrinsic+json": {
              "type": "dataframe",
              "variable_name": "lines",
              "summary": "{\n  \"name\": \"lines\",\n  \"rows\": 20000,\n  \"fields\": [\n    {\n      \"column\": \"English\",\n      \"properties\": {\n        \"dtype\": \"string\",\n        \"num_unique_values\": 19712,\n        \"samples\": [\n          \"START_ opposition leaders criticized the government _END\",\n          \"START_ arts topper ruby ray had in a video called political science prodigal science and said the subject was about cookery _END\",\n          \"START_ gsat will be used for supporting vsat networks television uplinks digital satellite news gathering dth television services cellular back haul connectivity and many such applications _END\"\n        ],\n        \"semantic_type\": \"\",\n        \"description\": \"\"\n      }\n    },\n    {\n      \"column\": \"Marathi\",\n      \"properties\": {\n        \"dtype\": \"string\",\n        \"num_unique_values\": 19990,\n        \"samples\": [\n          \"\\u092f\\u0902\\u0926\\u093e \\u0939\\u0940 \\u091f\\u0915\\u094d\\u0915\\u0947\\u0935\\u093e\\u0930\\u0940 \\u0935\\u0930 \\u0906\\u0932\\u0940 \\u0906\\u0939\\u0947\",\n          \"\\u092e\\u0940 \\u0924\\u093f\\u091a\\u094d\\u092f\\u093e \\u092e\\u093e\\u0917\\u0947 \\u0938\\u0917\\u0933\\u0940\\u0915\\u0921\\u0947 \\u0917\\u0947\\u0932\\u0947\",\n          \"\\u0938\\u092e\\u094b\\u0930 \\u0906\\u0923\\u093f \\u0926\\u094b\\u0928\\u094d\\u0939\\u0940 \\u092e\\u093e\\u0917\\u0940\\u0932 \\u0915\\u0923\\u093e \\u0906\\u0939\\u0947\"\n        ],\n        \"semantic_type\": \"\",\n        \"description\": \"\"\n      }\n    },\n    {\n      \"column\": \"length_eng_sentence\",\n      \"properties\": {\n        \"dtype\": \"number\",\n        \"std\": 8,\n        \"min\": 3,\n        \"max\": 140,\n        \"num_unique_values\": 80,\n        \"samples\": [\n          41,\n          39,\n          24\n        ],\n        \"semantic_type\": \"\",\n        \"description\": \"\"\n      }\n    },\n    {\n      \"column\": \"length_mar_sentence\",\n      \"properties\": {\n        \"dtype\": \"number\",\n        \"std\": 7,\n        \"min\": 1,\n        \"max\": 264,\n        \"num_unique_values\": 77,\n        \"samples\": [\n          22,\n          45,\n          3\n        ],\n        \"semantic_type\": \"\",\n        \"description\": \"\"\n      }\n    }\n  ]\n}"
            }
          },
          "metadata": {},
          "execution_count": 160
        }
      ],
      "source": [
        "lines.head()"
      ]
    },
    {
      "cell_type": "code",
      "execution_count": null,
      "metadata": {
        "colab": {
          "base_uri": "https://localhost:8080/"
        },
        "id": "IAnx3i72HRIp",
        "outputId": "fe20be5b-5b23-4a4f-fe3b-1bbae050804c"
      },
      "outputs": [
        {
          "output_type": "execute_result",
          "data": {
            "text/plain": [
              "(1209, 4)"
            ]
          },
          "metadata": {},
          "execution_count": 161
        }
      ],
      "source": [
        "lines[lines['length_mar_sentence']>20].shape"
      ]
    },
    {
      "cell_type": "code",
      "execution_count": null,
      "metadata": {
        "id": "2a9VJu6_HcW9"
      },
      "outputs": [],
      "source": [
        "lines=lines[lines['length_eng_sentence']<=20]\n",
        "lines=lines[lines['length_mar_sentence']<=20]"
      ]
    },
    {
      "cell_type": "code",
      "execution_count": null,
      "metadata": {
        "colab": {
          "base_uri": "https://localhost:8080/"
        },
        "id": "75FXPAa6HgZN",
        "outputId": "311d7f66-349e-4a3e-ece3-3e303715ea31"
      },
      "outputs": [
        {
          "output_type": "stream",
          "name": "stdout",
          "text": [
            "(16995, 4)\n"
          ]
        }
      ],
      "source": [
        "print(lines.shape)"
      ]
    },
    {
      "cell_type": "code",
      "execution_count": null,
      "metadata": {
        "colab": {
          "base_uri": "https://localhost:8080/"
        },
        "id": "lg9_8SweHk6S",
        "outputId": "6d3556dd-897a-46f9-e0f6-b9bfd1c90166"
      },
      "outputs": [
        {
          "output_type": "stream",
          "name": "stdout",
          "text": [
            "maximum length of Marathi Sentence  20\n",
            "maximum length of English Sentence  20\n"
          ]
        }
      ],
      "source": [
        "print(\"maximum length of Marathi Sentence \",max(lines['length_mar_sentence']))\n",
        "print(\"maximum length of English Sentence \",max(lines['length_eng_sentence']))"
      ]
    },
    {
      "cell_type": "code",
      "execution_count": null,
      "metadata": {
        "id": "JFE1XlOTHqpE"
      },
      "outputs": [],
      "source": [
        "max_length_src=max(lines['length_mar_sentence'])\n",
        "max_length_tar=max(lines['length_eng_sentence'])"
      ]
    },
    {
      "cell_type": "markdown",
      "source": [
        "Load Vocab"
      ],
      "metadata": {
        "id": "hv4ZXQ02IGoD"
      }
    },
    {
      "cell_type": "code",
      "source": [
        "with open(r'/content/drive/MyDrive/Honours-DL/Translation/Vocab/marathi.pkl', \"rb\") as f:\n",
        "    marathi_vocab = pickle.load(f)\n",
        "with open(r'/content/drive/MyDrive/Honours-DL/Translation/Vocab/english.pkl', \"rb\") as f:\n",
        "    english_vocab = pickle.load(f)"
      ],
      "metadata": {
        "id": "H4TOXgwpIIXG"
      },
      "execution_count": null,
      "outputs": []
    },
    {
      "cell_type": "code",
      "execution_count": null,
      "metadata": {
        "colab": {
          "base_uri": "https://localhost:8080/"
        },
        "id": "oxKgdhWfHxrc",
        "outputId": "831ed8aa-9991-4c93-82b1-bb9af6e7c9e5"
      },
      "outputs": [
        {
          "output_type": "stream",
          "name": "stdout",
          "text": [
            "38933 19433\n"
          ]
        }
      ],
      "source": [
        "input_words = sorted(list(all_marathi_words))\n",
        "target_words = sorted(list(all_eng_words))\n",
        "num_encoder_tokens = len(all_marathi_words)\n",
        "num_decoder_tokens = len(all_eng_words)\n",
        "print(num_encoder_tokens, num_decoder_tokens)\n"
      ]
    },
    {
      "cell_type": "code",
      "execution_count": null,
      "metadata": {
        "id": "0sy7MqW3IE_W"
      },
      "outputs": [],
      "source": [
        "num_decoder_tokens += 1 #for zero padding"
      ]
    },
    {
      "cell_type": "code",
      "execution_count": null,
      "metadata": {
        "id": "yF9q7zvoIHqa",
        "colab": {
          "base_uri": "https://localhost:8080/"
        },
        "outputId": "a80aa006-f6b7-46ab-f957-9a7fa5feffd1"
      },
      "outputs": [
        {
          "output_type": "stream",
          "name": "stdout",
          "text": [
            "[('abe', 51), ('abel', 52), ('aberdeen', 53), ('abetment', 54), ('abetting', 55), ('abhay', 56), ('abhijeet', 57), ('abhijit', 58), ('abhilash', 59), ('abhilasha', 60), ('abhimanyu', 61), ('abhinandan', 62), ('abhinash', 63), ('abhinav', 64), ('abhinay', 65), ('abhishek', 66), ('abhiyan', 67), ('abhorreth', 68), ('abhyankar', 69), ('abiathar', 70), ('abide', 71), ('abiding', 72), ('abigail', 73), ('abihu', 74), ('abilities', 75), ('ability', 76), ('abimelech', 77), ('ablaze', 78), ('able', 79), ('abn', 80)]\n"
          ]
        }
      ],
      "source": [
        "input_token_index = dict([(word, i+1) for i, word in enumerate(input_words)])\n",
        "target_token_index = dict([(word, i+1) for i, word in enumerate(target_words)])\n",
        "print(list(target_token_index.items())[50:80])"
      ]
    },
    {
      "cell_type": "code",
      "execution_count": null,
      "metadata": {
        "id": "cl5mKpwkIKu6",
        "colab": {
          "base_uri": "https://localhost:8080/"
        },
        "outputId": "ea47791e-c3af-48b1-dea0-abf7ab3e70bb"
      },
      "outputs": [
        {
          "output_type": "stream",
          "name": "stdout",
          "text": [
            "{1: 'START_', 2: '_END', 3: 'a', 4: 'aadhaar', 5: 'aadhar', 6: 'aaditya', 7: 'aadmi', 8: 'aai', 9: 'aaj', 10: 'aakash', 11: 'aaliyah', 12: 'aam', 13: 'aamir', 14: 'aamirs', 15: 'aanchal', 16: 'aap', 17: 'aaps', 18: 'aaradhya', 19: 'aarey', 20: 'aarogya', 21: 'aaron', 22: 'aarti', 23: 'aaryan', 24: 'aashada', 25: 'aastha', 26: 'aatamnirbhar', 27: 'aayog', 28: 'ab', 29: 'aback', 30: 'abandon', 31: 'abandoned', 32: 'abarim', 33: 'abate', 34: 'abatement', 35: 'abba', 36: 'abbas', 37: 'abbasi', 38: 'abbotts', 39: 'abbreviated', 40: 'abcd', 41: 'abdominal', 42: 'abducting', 43: 'abduction', 44: 'abductioncumrobbery', 45: 'abductions', 46: 'abdul', 47: 'abdulaziz', 48: 'abdullah', 49: 'abdullahs', 50: 'abdur', 51: 'abe', 52: 'abel', 53: 'aberdeen', 54: 'abetment', 55: 'abetting', 56: 'abhay', 57: 'abhijeet', 58: 'abhijit', 59: 'abhilash', 60: 'abhilasha', 61: 'abhimanyu', 62: 'abhinandan', 63: 'abhinash', 64: 'abhinav', 65: 'abhinay', 66: 'abhishek', 67: 'abhiyan', 68: 'abhorreth', 69: 'abhyankar', 70: 'abiathar', 71: 'abide', 72: 'abiding', 73: 'abigail', 74: 'abihu', 75: 'abilities', 76: 'ability', 77: 'abimelech', 78: 'ablaze', 79: 'able', 80: 'abn', 81: 'abode', 82: 'abolition', 83: 'abominations', 84: 'abortion', 85: 'abound', 86: 'about', 87: 'above', 88: 'aboveaverage', 89: 'abraham', 90: 'abram', 91: 'abrams', 92: 'abroad', 93: 'abrogate', 94: 'abrogated', 95: 'abrogation', 96: 'abrupt', 97: 'abs', 98: 'absconded', 99: 'absconder', 100: 'absconding', 101: 'absence', 102: 'absolute', 103: 'absolutely', 104: 'absolved', 105: 'absorb', 106: 'absorbed', 107: 'abstain', 108: 'abu', 109: 'abundance', 110: 'abuse', 111: 'abused', 112: 'abusing', 113: 'abvp', 114: 'abyss', 115: 'academic', 116: 'academicians', 117: 'academy', 118: 'acceded', 119: 'accelerate', 120: 'accelerates', 121: 'acceleration', 122: 'accept', 123: 'acceptable', 124: 'acceptably', 125: 'accepted', 126: 'accepting', 127: 'accepts', 128: 'access', 129: 'accessed', 130: 'accessibility', 131: 'accessible', 132: 'accessories', 133: 'acche', 134: 'accident', 135: 'accidental', 136: 'accidents', 137: 'acclaim', 138: 'acclaimed', 139: 'accolades', 140: 'accommodate', 141: 'accommodates', 142: 'accommodation', 143: 'accompanied', 144: 'accompanies', 145: 'accompanying', 146: 'accomplish', 147: 'accomplished', 148: 'accord', 149: 'accordance', 150: 'accorded', 151: 'according', 152: 'accordingly', 153: 'account', 154: 'accountability', 155: 'accountable', 156: 'accountants', 157: 'accounted', 158: 'accounting', 159: 'accounts', 160: 'accreditation', 161: 'accredited', 162: 'accurate', 163: 'accusations', 164: 'accuse', 165: 'accused', 166: 'accuser', 167: 'accuses', 168: 'accusing', 169: 'accustomed', 170: 'ace', 171: 'aceh', 172: 'achalesh', 173: 'acharya', 174: 'achchad', 175: 'ached', 176: 'achieve', 177: 'achieved', 178: 'achievement', 179: 'achievements', 180: 'achieving', 181: 'achievingexponential', 182: 'acid', 183: 'acids', 184: 'acknowledge', 185: 'acknowledged', 186: 'acknowledges', 187: 'acknowledging', 188: 'acp', 189: 'acquaint', 190: 'acquaintance', 191: 'acquaintances', 192: 'acquainted', 193: 'acquaints', 194: 'acquire', 195: 'acquired', 196: 'acquiring', 197: 'acquisition', 198: 'acquitted', 199: 'acre', 200: 'acres', 201: 'acronym', 202: 'across', 203: 'act', 204: 'acted', 205: 'acting', 206: 'action', 207: 'actionoriented', 208: 'actions', 209: 'actionthriller', 210: 'actionthrillersuspense', 211: 'activation', 212: 'activations', 213: 'active', 214: 'actively', 215: 'activist', 216: 'activists', 217: 'activities', 218: 'activity', 219: 'actor', 220: 'actorproducer', 221: 'actors', 222: 'actorson', 223: 'actress', 224: 'actresses', 225: 'actressknown', 226: 'acts', 227: 'actual', 228: 'actualize', 229: 'actually', 230: 'actuated', 231: 'acumen', 232: 'acute', 233: 'ad', 234: 'adam', 235: 'adamant', 236: 'adams', 237: 'adaptive', 238: 'adar', 239: 'adarsh', 240: 'add', 241: 'added', 242: 'addedwe', 243: 'addict', 244: 'addiction', 245: 'addictive', 246: 'adding', 247: 'addition', 248: 'additional', 249: 'additionally', 250: 'additive', 251: 'address', 252: 'addressed', 253: 'addresses', 254: 'addressing', 255: 'addressingmedia', 256: 'adds', 257: 'adelaide', 258: 'adequate', 259: 'adequately', 260: 'adgaon', 261: 'adhaar', 262: 'adhalrao', 263: 'adhanom', 264: 'adhere', 265: 'adherence', 266: 'adhering', 267: 'adhikari', 268: 'adhir', 269: 'adhm', 270: 'adi', 271: 'aditi', 272: 'aditya', 273: 'adityanath', 274: 'adityanaths', 275: 'adjacent', 276: 'adjectives', 277: 'adjoining', 278: 'adjourned', 279: 'adjudged', 280: 'adjure', 281: 'adjust', 282: 'adjusting', 283: 'adjustments', 284: 'administer', 285: 'administered', 286: 'administering', 287: 'administration', 288: 'administrations', 289: 'administrative', 290: 'administrator', 291: 'administrators', 292: 'admirably', 293: 'admire', 294: 'admired', 295: 'admirer', 296: 'admissible', 297: 'admission', 298: 'admissions', 299: 'admit', 300: 'admits', 301: 'admitted', 302: 'admonish', 303: 'admonished', 304: 'admonishing', 305: 'adoff', 306: 'adolescence', 307: 'adolescent', 308: 'adolescents', 309: 'adom', 310: 'adopt', 311: 'adopted', 312: 'adopting', 313: 'adoption', 314: 'adorable', 315: 'adorned', 316: 'adreno', 317: 'adrian', 318: 'ads', 319: 'adulterated', 320: 'adulteration', 321: 'adulteress', 322: 'adultery', 323: 'adulthood', 324: 'adults', 325: 'adv', 326: 'advait', 327: 'advance', 328: 'advanced', 329: 'advancements', 330: 'advances', 331: 'advancing', 332: 'advani', 333: 'advanis', 334: 'advantage', 335: 'advantageous', 336: 'advantages', 337: 'adventist', 338: 'adventure', 339: 'adversaries', 340: 'adverse', 341: 'adversely', 342: 'advertisement', 343: 'advertisements', 344: 'advertising', 345: 'advice', 346: 'advisable', 347: 'advised', 348: 'adviser', 349: 'advisor', 350: 'advisorcumfielding', 351: 'advisory', 352: 'advocate', 353: 'advocategeneral', 354: 'advocates', 355: 'adwaita', 356: 'aegis', 357: 'aerated', 358: 'aerial', 359: 'aerodromes', 360: 'aerospace', 361: 'affable', 362: 'affair', 363: 'affairs', 364: 'affect', 365: 'affected', 366: 'affecting', 367: 'affection', 368: 'affects', 369: 'affidavit', 370: 'affiliated', 371: 'affirmative', 372: 'affirmed', 373: 'affirms', 374: 'afflicted', 375: 'affliction', 376: 'afford', 377: 'affordable', 378: 'afforded', 379: 'afforestation', 380: 'afghanistan', 381: 'afghanistans', 382: 'afms', 383: 'aforementioned', 384: 'aforesaid', 385: 'afraid', 386: 'afresh', 387: 'africa', 388: 'african', 389: 'africas', 390: 'afridi', 391: 'afrikaans', 392: 'aftab', 393: 'after', 394: 'aftermath', 395: 'afternoon', 396: 'afternoons', 397: 'afterward', 398: 'afterwards', 399: 'afza', 400: 'afzal', 401: 'again', 402: 'against', 403: 'agarwal', 404: 'agboola', 405: 'age', 406: 'aged', 407: 'agencies', 408: 'agency', 409: 'agenda', 410: 'agent', 411: 'agents', 412: 'ages', 413: 'aggarwal', 414: 'aggravated', 415: 'aggregates', 416: 'aggregating', 417: 'aggression', 418: 'aggressive', 419: 'aghadi', 420: 'aghadis', 421: 'aghamkar', 422: 'aging', 423: 'agitating', 424: 'agitation', 425: 'agitations', 426: 'agitators', 427: 'agm', 428: 'agni', 429: 'agnihotri', 430: 'agniiv', 431: 'agnostic', 432: 'ago', 433: 'agonizing', 434: 'agony', 435: 'agostaclass', 436: 'agra', 437: 'agrajaipur', 438: 'agrarian', 439: 'agrawal', 440: 'agree', 441: 'agreed', 442: 'agreement', 443: 'agreements', 444: 'agricultural', 445: 'agriculture', 446: 'agriculturebased', 447: 'agrigento', 448: 'agriwaste', 449: 'agrobiological', 450: 'agroclimatic', 451: 'ah', 452: 'ahab', 453: 'ahaziah', 454: 'ahead', 455: 'ahijah', 456: 'ahir', 457: 'ahitub', 458: 'ahlai', 459: 'ahluwalia', 460: 'ahmed', 461: 'ahmedabad', 462: 'ahmednagar', 463: 'ahuja', 464: 'ai', 465: 'aiadmk', 466: 'aib', 467: 'aiba', 468: 'aicc', 469: 'aicte', 470: 'aid', 471: 'aide', 472: 'aided', 473: 'aiden', 474: 'aiding', 475: 'aids', 476: 'aiims', 477: 'aijaz', 478: 'aiken', 479: 'aileth', 480: 'ailing', 481: 'ailment', 482: 'ailments', 483: 'aim', 484: 'aimed', 485: 'aimim', 486: 'aimplb', 487: 'aims', 488: 'aint', 489: 'aipani', 490: 'air', 491: 'airbags', 492: 'airbase', 493: 'airbases', 494: 'airbridge', 495: 'airconditioning', 496: 'aircraft', 497: 'aircrafts', 498: 'aired', 499: 'airforce', 500: 'airing', 501: 'airlifted', 502: 'airline', 503: 'airlines', 504: 'airport', 505: 'airports', 506: 'airspace', 507: 'airstrike', 508: 'airstrikes', 509: 'airtel', 510: 'airways', 511: 'aisa', 512: 'aishe', 513: 'aishwarya', 514: 'aiudf', 515: 'aiyar', 516: 'aiyer', 517: 'ajanbahu', 518: 'ajay', 519: 'ajays', 520: 'ajit', 521: 'ajmal', 522: 'ajmer', 523: 'ajni', 524: 'ajoy', 525: 'ak', 526: 'akaky', 527: 'akali', 528: 'akash', 529: 'akbar', 530: 'akbaruddin', 531: 'akhamanche', 532: 'akhara', 533: 'akhil', 534: 'akhilesh', 535: 'akhtar', 536: 'akhtars', 537: 'akie', 538: 'akola', 539: 'akshardham', 540: 'akshay', 541: 'akshaya', 542: 'akuli', 543: 'al', 544: 'alabama', 545: 'alabaster', 546: 'alappuzha', 547: 'alarming', 548: 'alas', 549: 'alauddin', 550: 'alaya', 551: 'albaghdadi', 552: 'albeit', 553: 'albela', 554: 'albert', 555: 'albertina', 556: 'album', 557: 'albums', 558: 'alcohol', 559: 'alderman', 560: 'aldila', 561: 'aleem', 562: 'alert', 563: 'alerted', 564: 'alex', 565: 'alexanderarnold', 566: 'alexandra', 567: 'alfred', 568: 'alfredo', 569: 'algae', 570: 'ali', 571: 'alia', 572: 'alias', 573: 'alibaug', 574: 'alicias', 575: 'alike', 576: 'alive', 577: 'alizade', 578: 'alkazi', 579: 'all', 580: 'allahabad', 581: 'allama', 582: 'allegation', 583: 'allegations', 584: 'allege', 585: 'alleged', 586: 'allegedly', 587: 'alleges', 588: 'allegheny', 589: 'alleging', 590: 'allemeth', 591: 'allergic', 592: 'alleviating', 593: 'alliance', 594: 'allied', 595: 'allies', 596: 'alligator', 597: 'allocate', 598: 'allocated', 599: 'allocation', 600: 'allotted', 601: 'allout', 602: 'allover', 603: 'allow', 604: 'allowable', 605: 'allowance', 606: 'allowed', 607: 'allowing', 608: 'allows', 609: 'allparty', 610: 'allrounder', 611: 'allrounders', 612: 'alltime', 613: 'alludes', 614: 'allure', 615: 'alluvial', 616: 'ally', 617: 'allying', 618: 'almighty', 619: 'almond', 620: 'almost', 621: 'almutanabbi', 622: 'alok', 623: 'alone', 624: 'along', 625: 'alongside', 626: 'aloud', 627: 'alpeshthakor', 628: 'alpha', 629: 'alphabetical', 630: 'alqaeda', 631: 'already', 632: 'alsaud', 633: 'also', 634: 'alt', 635: 'altar', 636: 'alternate', 637: 'alternative', 638: 'alternatives', 639: 'although', 640: 'altitude', 641: 'alto', 642: 'altogether', 643: 'altruistic', 644: 'aluminium', 645: 'aluminum', 646: 'alumni', 647: 'alumnus', 648: 'alvira', 649: 'alwar', 650: 'alwarpet', 651: 'always', 652: 'alyssa', 653: 'am', 654: 'amahlathi', 655: 'amalek', 656: 'amalekites', 657: 'amalgamation', 658: 'amar', 659: 'amaravati', 660: 'amarendra', 661: 'amarinder', 662: 'amarnath', 663: 'amartya', 664: 'amathus', 665: 'amaze', 666: 'amazed', 667: 'amazing', 668: 'amazon', 669: 'ambadas', 670: 'ambani', 671: 'ambanianand', 672: 'ambanis', 673: 'ambassador', 674: 'ambati', 675: 'ambedkar', 676: 'ambernath', 677: 'ambience', 678: 'ambikapur', 679: 'ambit', 680: 'ambitious', 681: 'ambulances', 682: 'amc', 683: 'amen', 684: 'amended', 685: 'amending', 686: 'amendment', 687: 'amendments', 688: 'amends', 689: 'america', 690: 'american', 691: 'americanmade', 692: 'americans', 693: 'americas', 694: 'amethi', 695: 'amid', 696: 'amidst', 697: 'amino', 698: 'amiss', 699: 'amit', 700: 'amitabh', 701: 'amity', 702: 'amla', 703: 'ammihud', 704: 'amminadab', 705: 'ammon', 706: 'ammunition', 707: 'ammunitions', 708: 'ammy', 709: 'amol', 710: 'among', 711: 'amongst', 712: 'amorites', 713: 'amount', 714: 'amounts', 715: 'amphibians', 716: 'amphipods', 717: 'amplified', 718: 'amplify', 719: 'amply', 720: 'amputee', 721: 'amravati', 722: 'amrish', 723: 'amrita', 724: 'amritha', 725: 'amritsar', 726: 'amritsarpathankot', 727: 'amruta', 728: 'amt', 729: 'amundsens', 730: 'amused', 731: 'amygdala', 732: 'an', 733: 'analog', 734: 'analogous', 735: 'analysing', 736: 'analysis', 737: 'analyst', 738: 'analytical', 739: 'analyze', 740: 'analyzed', 741: 'anamitra', 742: 'anand', 743: 'ananias', 744: 'anant', 745: 'ananthkumar', 746: 'anantnag', 747: 'ananya', 748: 'anarchist', 749: 'anas', 750: 'anathoth', 751: 'ancestral', 752: 'ancestry', 753: 'ancient', 754: 'and', 755: 'andaman', 756: 'andhadhun', 757: 'andheri', 758: 'andhra', 759: 'andor', 760: 'andr', 761: 'andre', 762: 'andreescu', 763: 'andres', 764: 'andresmant', 765: 'andrew', 766: 'android', 767: 'andy', 768: 'ane', 769: 'anecdotes', 770: 'angadi', 771: 'anganwadi', 772: 'anganwadis', 773: 'angel', 774: 'angeles', 775: 'angelic', 776: 'angelina', 777: 'angels', 778: 'anger', 779: 'angered', 780: 'angering', 781: 'angioplasty', 782: 'angle', 783: 'angles', 784: 'anglican', 785: 'anglosaxon', 786: 'angral', 787: 'angrier', 788: 'angry', 789: 'angul', 790: 'ani', 791: 'anil', 792: 'animal', 793: 'animals', 794: 'animation', 795: 'aniruddh', 796: 'aniruddha', 797: 'anita', 798: 'anjali', 799: 'anjana', 800: 'anjanathe', 801: 'anji', 802: 'anju', 803: 'anjum', 804: 'ankara', 805: 'ankit', 806: 'ankita', 807: 'anmol', 808: 'anms', 809: 'anna', 810: 'annadataaaysanrakshan', 811: 'annapurna', 812: 'anne', 813: 'annexure', 814: 'anniversary', 815: 'announce', 816: 'announced', 817: 'announcement', 818: 'announcements', 819: 'announces', 820: 'announcing', 821: 'annual', 822: 'annually', 823: 'annuity', 824: 'annum', 825: 'anoint', 826: 'anointed', 827: 'anointing', 828: 'anonymity', 829: 'another', 830: 'ans', 831: 'ansari', 832: 'anshul', 833: 'anshuman', 834: 'answer', 835: 'answered', 836: 'answereth', 837: 'answering', 838: 'answers', 839: 'antagonist', 840: 'antarctic', 841: 'ante', 842: 'antechamber', 843: 'anthem', 844: 'anthony', 845: 'anthropomorphizes', 846: 'antibacterial', 847: 'antibiotic', 848: 'antibiotics', 849: 'antibodybased', 850: 'anticancer', 851: 'antichrist', 852: 'anticipated', 853: 'anticipatory', 854: 'anticitizenship', 855: 'anticorruption', 856: 'antidefection', 857: 'antifarmer', 858: 'antiforeigner', 859: 'antiimmaterial', 860: 'antiindia', 861: 'antiinflammatory', 862: 'antimicrobial', 863: 'antimissile', 864: 'antimuslim', 865: 'antinational', 866: 'antioxidant', 867: 'antioxidants', 868: 'antiquated', 869: 'antisatellite', 870: 'antiwar', 871: 'antoine', 872: 'antonio', 873: 'anu', 874: 'anubhav', 875: 'anuj', 876: 'anup', 877: 'anupam', 878: 'anurag', 879: 'anushka', 880: 'anushkas', 881: 'anxiety', 882: 'anxious', 883: 'any', 884: 'anybody', 885: 'anybodys', 886: 'anymore', 887: 'anyone', 888: 'anyones', 889: 'anything', 890: 'anytime', 891: 'anyway', 892: 'anywhere', 893: 'aoc', 894: 'ap', 895: 'aparna', 896: 'apart', 897: 'apartheid', 898: 'apartments', 899: 'apathetic', 900: 'apex', 901: 'aphek', 902: 'apiece', 903: 'apis', 904: 'aplenty', 905: 'apmc', 906: 'apollo', 907: 'apollonia', 908: 'apologise', 909: 'apologised', 910: 'apologises', 911: 'apologize', 912: 'apologized', 913: 'apology', 914: 'apoorva', 915: 'apostates', 916: 'apostle', 917: 'apostles', 918: 'apostolidis', 919: 'app', 920: 'appa', 921: 'apparel', 922: 'apparent', 923: 'apparently', 924: 'appeal', 925: 'appealed', 926: 'appealing', 927: 'appear', 928: 'appearance', 929: 'appearances', 930: 'appeared', 931: 'appearing', 932: 'appears', 933: 'appendix', 934: 'applause', 935: 'apple', 936: 'applet', 937: 'appliances', 938: 'applicable', 939: 'applicant', 940: 'applicants', 941: 'application', 942: 'applications', 943: 'applied', 944: 'applies', 945: 'apply', 946: 'applying', 947: 'appoint', 948: 'appointed', 949: 'appointment', 950: 'appointments', 951: 'appreciable', 952: 'appreciate', 953: 'appreciated', 954: 'appreciates', 955: 'appreciation', 956: 'apprehended', 957: 'apprehensions', 958: 'apprehensive', 959: 'apprenticeship', 960: 'apprise', 961: 'apprised', 962: 'approach', 963: 'approachable', 964: 'approached', 965: 'approaches', 966: 'approaching', 967: 'appropriate', 968: 'appropriately', 969: 'approval', 970: 'approved', 971: 'approves', 972: 'approximately', 973: 'apps', 974: 'april', 975: 'apriljune', 976: 'aprilnovember', 977: 'aptitude', 978: 'aptly', 979: 'apulum', 980: 'apy', 981: 'aquaculture', 982: 'aquarius', 983: 'arab', 984: 'arabia', 985: 'arabian', 986: 'arabic', 987: 'arable', 988: 'aramaic', 989: 'araria', 990: 'arbaaz', 991: 'archaeological', 992: 'archer', 993: 'archery', 994: 'archipelago', 995: 'architect', 996: 'architects', 997: 'architecturally', 998: 'architecture', 999: 'archrivals', 1000: 'arctic', 1001: 'ardern', 1002: 'are', 1003: 'area', 1004: 'areas', 1005: 'arena', 1006: 'arent', 1007: 'argentina', 1008: 'argilliturbation', 1009: 'arguably', 1010: 'argue', 1011: 'argued', 1012: 'argument', 1013: 'arguments', 1014: 'aries', 1015: 'ariobarzanes', 1016: 'arise', 1017: 'arises', 1018: 'aristotelis', 1019: 'arjun', 1020: 'ark', 1021: 'arm', 1022: 'armageddon', 1023: 'armed', 1024: 'armenian', 1025: 'armies', 1026: 'armor', 1027: 'armour', 1028: 'armoured', 1029: 'arms', 1030: 'army', 1031: 'armymen', 1032: 'arnab', 1033: 'arogya', 1034: 'aroh', 1035: 'arokia', 1036: 'arora', 1037: 'arose', 1038: 'around', 1039: 'arpachshad', 1040: 'arrange', 1041: 'arranged', 1042: 'arrangement', 1043: 'arrangements', 1044: 'arranging', 1045: 'arrears', 1046: 'arrest', 1047: 'arrested', 1048: 'arrestedbank', 1049: 'arresting', 1050: 'arrests', 1051: 'arrival', 1052: 'arrivals', 1053: 'arrive', 1054: 'arrived', 1055: 'arrives', 1056: 'arriving', 1057: 'arrogance', 1058: 'arrogant', 1059: 'arrow', 1060: 'arshad', 1061: 'arshdeep', 1062: 'arson', 1063: 'art', 1064: 'arthur', 1065: 'arthwahini', 1066: 'article', 1067: 'articles', 1068: 'articulate', 1069: 'artificial', 1070: 'artillery', 1071: 'artisan', 1072: 'artisans', 1073: 'artist', 1074: 'artiste', 1075: 'artistes', 1076: 'artistic', 1077: 'artists', 1078: 'arts', 1079: 'arun', 1080: 'aruna', 1081: 'arunachal', 1082: 'arundhatis', 1083: 'arunoday', 1084: 'arvind', 1085: 'arvinder', 1086: 'arvindkumar', 1087: 'aryaman', 1088: 'aryan', 1089: 'as', 1090: 'asa', 1091: 'asaduddin', 1092: 'asansol', 1093: 'asaram', 1094: 'asat', 1095: 'ascend', 1096: 'ascension', 1097: 'ascent', 1098: 'ascertained', 1099: 'asean', 1100: 'aseanindia', 1101: 'aseans', 1102: 'asfandi', 1103: 'asghar', 1104: 'asha', 1105: 'ashamed', 1106: 'ashar', 1107: 'ashes', 1108: 'ashhur', 1109: 'ashish', 1110: 'ashok', 1111: 'ashoke', 1112: 'ashram', 1113: 'ashrams', 1114: 'ashu', 1115: 'ashutosh', 1116: 'ashwani', 1117: 'ashwin', 1118: 'ashwini', 1119: 'ashwiny', 1120: 'asi', 1121: 'asia', 1122: 'asian', 1123: 'asiashri', 1124: 'aside', 1125: 'asif', 1126: 'asifthe', 1127: 'asin', 1128: 'ask', 1129: 'asked', 1130: 'asking', 1131: 'asks', 1132: 'aslam', 1133: 'asleep', 1134: 'asp', 1135: 'asparagus', 1136: 'aspect', 1137: 'aspects', 1138: 'aspen', 1139: 'aspirational', 1140: 'aspirations', 1141: 'aspiring', 1142: 'asr', 1143: 'ass', 1144: 'assaduddin', 1145: 'assailant', 1146: 'assailants', 1147: 'assailed', 1148: 'assam', 1149: 'assamese', 1150: 'assams', 1151: 'assassinated', 1152: 'assault', 1153: 'assaulted', 1154: 'assemble', 1155: 'assembled', 1156: 'assembling', 1157: 'assembly', 1158: 'assent', 1159: 'asserted', 1160: 'asserting', 1161: 'assertions', 1162: 'assess', 1163: 'assessed', 1164: 'assessment', 1165: 'asset', 1166: 'assetliability', 1167: 'assets', 1168: 'assigned', 1169: 'assignment', 1170: 'assist', 1171: 'assistance', 1172: 'assistant', 1173: 'assisted', 1174: 'assitant', 1175: 'assocham', 1176: 'associate', 1177: 'associated', 1178: 'associates', 1179: 'associating', 1180: 'association', 1181: 'associations', 1182: 'assume', 1183: 'assumed', 1184: 'assumes', 1185: 'assuming', 1186: 'assumption', 1187: 'assumptions', 1188: 'assurance', 1189: 'assurances', 1190: 'assure', 1191: 'assured', 1192: 'assures', 1193: 'assyrians', 1194: 'astrazenecaskbio', 1195: 'astrobiology', 1196: 'astrological', 1197: 'astronaut', 1198: 'astronauts', 1199: 'asynchronous', 1200: 'at', 1201: 'atal', 1202: 'atalji', 1203: 'atanu', 1204: 'ate', 1205: 'ater', 1206: 'athaliah', 1207: 'athawale', 1208: 'atheism', 1209: 'athens', 1210: 'athiya', 1211: 'athlete', 1212: 'athletes', 1213: 'athletic', 1214: 'atlantas', 1215: 'atlantic', 1216: 'atleast', 1217: 'atletico', 1218: 'atls', 1219: 'atm', 1220: 'atmanirbhar', 1221: 'atmosphere', 1222: 'atms', 1223: 'atomic', 1224: 'atonement', 1225: 'atop', 1226: 'atp', 1227: 'atrocities', 1228: 'atropatene', 1229: 'ats', 1230: 'attached', 1231: 'attack', 1232: 'attacked', 1233: 'attacker', 1234: 'attackers', 1235: 'attacking', 1236: 'attacks', 1237: 'attackwhile', 1238: 'attain', 1239: 'attained', 1240: 'attains', 1241: 'attempt', 1242: 'attempted', 1243: 'attempting', 1244: 'attempts', 1245: 'attend', 1246: 'attendance', 1247: 'attendant', 1248: 'attended', 1249: 'attending', 1250: 'attends', 1251: 'attention', 1252: 'attire', 1253: 'attitude', 1254: 'attitudes', 1255: 'attract', 1256: 'attracted', 1257: 'attraction', 1258: 'attractions', 1259: 'attractive', 1260: 'attribute', 1261: 'attributed', 1262: 'attribution', 1263: 'attributive', 1264: 'atul', 1265: 'atwwwmcagovinandwwwibbigovin', 1266: 'auction', 1267: 'audacity', 1268: 'audi', 1269: 'audience', 1270: 'audiences', 1271: 'audio', 1272: 'audiographer', 1273: 'audit', 1274: 'auditing', 1275: 'auditor', 1276: 'auditors', 1277: 'augment', 1278: 'augmentation', 1279: 'augmented', 1280: 'augmenting', 1281: 'august', 1282: 'aulakh', 1283: 'aum', 1284: 'aur', 1285: 'aura', 1286: 'aurangabad', 1287: 'aus', 1288: 'auschwitz', 1289: 'auspicious', 1290: 'aussies', 1291: 'australia', 1292: 'australian', 1293: 'australias', 1294: 'austria', 1295: 'autade', 1296: 'authentic', 1297: 'authentication', 1298: 'authenticity', 1299: 'author', 1300: 'authorisation', 1301: 'authorised', 1302: 'authoritarian', 1303: 'authorities', 1304: 'authority', 1305: 'authoritys', 1306: 'authorization', 1307: 'authorship', 1308: 'auto', 1309: 'autobiographical', 1310: 'autocrat', 1311: 'autocrats', 1312: 'automatic', 1313: 'automatically', 1314: 'automobile', 1315: 'automotive', 1316: 'autonomous', 1317: 'autopsy', 1318: 'autorickshaw', 1319: 'autorickshaws', 1320: 'auxiliary', 1321: 'avail', 1322: 'availability', 1323: 'available', 1324: 'availed', 1325: 'availing', 1326: 'avalanche', 1327: 'avatars', 1328: 'avenge', 1329: 'avenged', 1330: 'avenue', 1331: 'avenues', 1332: 'average', 1333: 'averaging', 1334: 'averted', 1335: 'avian', 1336: 'aviation', 1337: 'avinash', 1338: 'avishek', 1339: 'avith', 1340: 'avocation', 1341: 'avoid', 1342: 'avoidable', 1343: 'avoided', 1344: 'avoiding', 1345: 'avouched', 1346: 'avtar', 1347: 'avula', 1348: 'awaas', 1349: 'awadh', 1350: 'awaited', 1351: 'awaits', 1352: 'awake', 1353: 'awaked', 1354: 'awami', 1355: 'award', 1356: 'awarded', 1357: 'awardees', 1358: 'awards', 1359: 'aware', 1360: 'awareness', 1361: 'awasthy', 1362: 'away', 1363: 'awe', 1364: 'awesome', 1365: 'awestruck', 1366: 'awhad', 1367: 'awkward', 1368: 'awwas', 1369: 'axis', 1370: 'aya', 1371: 'ayan', 1372: 'aymara', 1373: 'ayodhya', 1374: 'ayurveda', 1375: 'ayurvedic', 1376: 'ayush', 1377: 'ayushman', 1378: 'ayushmann', 1379: 'ayyildiz', 1380: 'azad', 1381: 'azam', 1382: 'azerbaijans', 1383: 'azhar', 1384: 'azhars', 1385: 'azim', 1386: 'aziz', 1387: 'azlan', 1388: 'azmi', 1389: 'b', 1390: 'baahubali', 1391: 'baaja', 1392: 'baal', 1393: 'baalath', 1394: 'baat', 1395: 'baba', 1396: 'babar', 1397: 'babasaheb', 1398: 'babbar', 1399: 'babbi', 1400: 'babita', 1401: 'babri', 1402: 'babu', 1403: 'babul', 1404: 'baburao', 1405: 'baburs', 1406: 'baby', 1407: 'babylon', 1408: 'bac', 1409: 'bach', 1410: 'bachao', 1411: 'bachchan', 1412: 'bachchans', 1413: 'bachelorette', 1414: 'bachelors', 1415: 'back', 1416: 'backdrop', 1417: 'backed', 1418: 'background', 1419: 'backing', 1420: 'backkushal', 1421: 'backlash', 1422: 'backlots', 1423: 'backs', 1424: 'backward', 1425: 'bacteria', 1426: 'bacterial', 1427: 'bacterium', 1428: 'bad', 1429: 'badal', 1430: 'badaun', 1431: 'bade', 1432: 'badhwar', 1433: 'badly', 1434: 'badminton', 1435: 'badola', 1436: 'badrinath', 1437: 'baer', 1438: 'baffled', 1439: 'bag', 1440: 'bagade', 1441: 'bagerhat', 1442: 'bagged', 1443: 'bagging', 1444: 'bagh', 1445: 'baghdad', 1446: 'baghdadi', 1447: 'baghel', 1448: 'bags', 1449: 'bagwe', 1450: 'bahadur', 1451: 'bahadurgarh', 1452: 'baharampur', 1453: 'bahujan', 1454: 'bai', 1455: 'baijal', 1456: 'bail', 1457: 'bairstow', 1458: 'bais', 1459: 'bajaj', 1460: 'bajirao', 1461: 'bajpai', 1462: 'bajrang', 1463: 'bajrangi', 1464: 'bake', 1465: 'baked', 1466: 'baking', 1467: 'bakr', 1468: 'bal', 1469: 'bala', 1470: 'balaji', 1471: 'balakot', 1472: 'balan', 1473: 'balance', 1474: 'balanced', 1475: 'balasaheb', 1476: 'balasheb', 1477: 'balbir', 1478: 'baldev', 1479: 'baldevnagar', 1480: 'baliye', 1481: 'baljit', 1482: 'ball', 1483: 'ballabhgarh', 1484: 'ballari', 1485: 'ballet', 1486: 'ballistic', 1487: 'ballot', 1488: 'balls', 1489: 'ballu', 1490: 'balmiki', 1491: 'balochistan', 1492: 'balram', 1493: 'bals', 1494: 'baltic', 1495: 'baltimore', 1496: 'bamah', 1497: 'bambawale', 1498: 'bamboo', 1499: 'ban', 1500: 'bananas', 1501: 'banaras', 1502: 'banasras', 1503: 'band', 1504: 'bandbaaja', 1505: 'bandh', 1506: 'bandipora', 1507: 'bandipur', 1508: 'bandra', 1509: 'bandwagon', 1510: 'banega', 1511: 'banerjee', 1512: 'banerjees', 1513: 'banerji', 1514: 'bang', 1515: 'bangalore', 1516: 'bangar', 1517: 'bangkok', 1518: 'bangla', 1519: 'bangladesh', 1520: 'bangladeshi', 1521: 'bangladeshis', 1522: 'bani', 1523: 'banjaara', 1524: 'bank', 1525: 'banka', 1526: 'bankbharti', 1527: 'banking', 1528: 'bankpost', 1529: 'bankruptcy', 1530: 'banks', 1531: 'bankura', 1532: 'banned', 1533: 'banner', 1534: 'banning', 1535: 'bans', 1536: 'bantwal', 1537: 'banus', 1538: 'banwarilal', 1539: 'baptism', 1540: 'baptist', 1541: 'baptized', 1542: 'bapu', 1543: 'bapurao', 1544: 'bapus', 1545: 'bar', 1546: 'barack', 1547: 'baramulla', 1548: 'barauni', 1549: 'barbaric', 1550: 'barcelona', 1551: 'bare', 1552: 'bareilly', 1553: 'bareli', 1554: 'barely', 1555: 'barfi', 1556: 'baripada', 1557: 'barjatya', 1558: 'barked', 1559: 'barking', 1560: 'barn', 1561: 'barnes', 1562: 'baroda', 1563: 'barr', 1564: 'barrack', 1565: 'barrels', 1566: 'barriers', 1567: 'barrister', 1568: 'bars', 1569: 'basarnas', 1570: 'basavanna', 1571: 'basaveshwar', 1572: 'basaveshwars', 1573: 'base', 1574: 'baseball', 1575: 'based', 1576: 'baseless', 1577: 'bases', 1578: 'bash', 1579: 'basic', 1580: 'basically', 1581: 'basil', 1582: 'basin', 1583: 'basins', 1584: 'basis', 1585: 'basit', 1586: 'basket', 1587: 'basketball', 1588: 'baskets', 1589: 'basra', 1590: 'basras', 1591: 'bastion', 1592: 'bat', 1593: 'batch', 1594: 'bath', 1595: 'bathe', 1596: 'bathrooms', 1597: 'batra', 1598: 'batsman', 1599: 'batsmen', 1600: 'batted', 1601: 'batter', 1602: 'battered', 1603: 'batteries', 1604: 'battery', 1605: 'batting', 1606: 'battle', 1607: 'battlefield', 1608: 'battlefields', 1609: 'battles', 1610: 'battling', 1611: 'bavaria', 1612: 'bawana', 1613: 'bawankule', 1614: 'bawean', 1615: 'bay', 1616: 'bayesian', 1617: 'bays', 1618: 'bazars', 1619: 'bbc', 1620: 'bbl', 1621: 'bcb', 1622: 'bcci', 1623: 'bce', 1624: 'bcm', 1625: 'bcom', 1626: 'be', 1627: 'beach', 1628: 'beads', 1629: 'beam', 1630: 'bean', 1631: 'beans', 1632: 'bear', 1633: 'bearer', 1634: 'bearers', 1635: 'bearest', 1636: 'beareth', 1637: 'bearing', 1638: 'beast', 1639: 'beasts', 1640: 'beat', 1641: 'beaten', 1642: 'beating', 1643: 'beats', 1644: 'beautified', 1645: 'beautiful', 1646: 'beautifulfine', 1647: 'beautifully', 1648: 'beautify', 1649: 'beauty', 1650: 'beca', 1651: 'became', 1652: 'becamewhom', 1653: 'because', 1654: 'beckham', 1655: 'become', 1656: 'becomes', 1657: 'becoming', 1658: 'bed', 1659: 'bedad', 1660: 'bedi', 1661: 'bedikejriwal', 1662: 'bedridden', 1663: 'beds', 1664: 'bedsheets', 1665: 'bedsores', 1666: 'beed', 1667: 'beef', 1668: 'beefed', 1669: 'beekeeping', 1670: 'beelzebub', 1671: 'been', 1672: 'beer', 1673: 'bees', 1674: 'befikre', 1675: 'befitting', 1676: 'before', 1677: 'befriend', 1678: 'beg', 1679: 'began', 1680: 'begat', 1681: 'begin', 1682: 'beginners', 1683: 'beginning', 1684: 'begins', 1685: 'begotten', 1686: 'begs', 1687: 'begum', 1688: 'begun', 1689: 'begusarai', 1690: 'behalf', 1691: 'behar', 1692: 'behavior', 1693: 'behaviors', 1694: 'behaviour', 1695: 'beheaded', 1696: 'beheading', 1697: 'behere', 1698: 'behest', 1699: 'behind', 1700: 'behl', 1701: 'behold', 1702: 'beholds', 1703: 'behrendorff', 1704: 'beijing', 1705: 'being', 1706: 'beings', 1707: 'beit', 1708: 'belagavi', 1709: 'belapur', 1710: 'belarus', 1711: 'beleaguered', 1712: 'belgian', 1713: 'belgium', 1714: 'belhar', 1715: 'belief', 1716: 'beliefs', 1717: 'believable', 1718: 'believe', 1719: 'believed', 1720: 'believers', 1721: 'believes', 1722: 'believing', 1723: 'belinda', 1724: 'belittled', 1725: 'belize', 1726: 'bellien', 1727: 'bells', 1728: 'bellur', 1729: 'belly', 1730: 'belong', 1731: 'belonged', 1732: 'belongeth', 1733: 'belonging', 1734: 'belongings', 1735: 'belongs', 1736: 'beloved', 1737: 'below', 1738: 'belt', 1739: 'belts', 1740: 'belur', 1741: 'ben', 1742: 'benaiah', 1743: 'benami', 1744: 'benammi', 1745: 'bench', 1746: 'benches', 1747: 'benchmark', 1748: 'bend', 1749: 'bendre', 1750: 'beneath', 1751: 'beneficial', 1752: 'beneficiaries', 1753: 'beneficiary', 1754: 'benefit', 1755: 'benefited', 1756: 'benefiting', 1757: 'benefits', 1758: 'benefitsij', 1759: 'benefitted', 1760: 'benegal', 1761: 'benerjee', 1762: 'benevolent', 1763: 'bengal', 1764: 'bengali', 1765: 'bengals', 1766: 'bengaluru', 1767: 'bengalurubased', 1768: 'benhadad', 1769: 'benhail', 1770: 'benjamin', 1771: 'ber', 1772: 'berber', 1773: 'bergelmir', 1774: 'bergen', 1775: 'bergers', 1776: 'berkeley', 1777: 'bernard', 1778: 'bernardo', 1779: 'berth', 1780: 'beseech', 1781: 'beside', 1782: 'besides', 1783: 'besieging', 1784: 'best', 1785: 'bestest', 1786: 'bestowed', 1787: 'bestseller', 1788: 'bet', 1789: 'bethaven', 1790: 'bethel', 1791: 'bethlehem', 1792: 'beti', 1793: 'betrayal', 1794: 'betrayed', 1795: 'better', 1796: 'betterhalf', 1797: 'betterment', 1798: 'betting', 1799: 'between', 1800: 'beukes', 1801: 'bewakoofiyaan', 1802: 'beyond', 1803: 'bezos', 1804: 'bfi', 1805: 'bfsi', 1806: 'bgb', 1807: 'bhaag', 1808: 'bhadauria', 1809: 'bhadohi', 1810: 'bhadoria', 1811: 'bhadrak', 1812: 'bhaduri', 1813: 'bhagalpur', 1814: 'bhagat', 1815: 'bhagats', 1816: 'bhagidaari', 1817: 'bhagidari', 1818: 'bhagwan', 1819: 'bhagwat', 1820: 'bhai', 1821: 'bhaijaan', 1822: 'bhaisab', 1823: 'bhajanpura', 1824: 'bhajji', 1825: 'bhaktapur', 1826: 'bhakts', 1827: 'bhalchandra', 1828: 'bhaliya', 1829: 'bhalla', 1830: 'bhambhani', 1831: 'bhamre', 1832: 'bhandara', 1833: 'bhandarkar', 1834: 'bhangale', 1835: 'bhangi', 1836: 'bhansali', 1837: 'bhansalis', 1838: 'bhanupriya', 1839: 'bhanushali', 1840: 'bharadwaj', 1841: 'bharain', 1842: 'bharat', 1843: 'bharatam', 1844: 'bharath', 1845: 'bharati', 1846: 'bharatis', 1847: 'bharatiya', 1848: 'bharatpur', 1849: 'bhardwaj', 1850: 'bhargava', 1851: 'bhargavi', 1852: 'bharne', 1853: 'bharti', 1854: 'bhartis', 1855: 'bhasalis', 1856: 'bhaskar', 1857: 'bhasker', 1858: 'bhat', 1859: 'bhatia', 1860: 'bhatnagar', 1861: 'bhatsa', 1862: 'bhatt', 1863: 'bhattacharya', 1864: 'bhaukhundi', 1865: 'bhaurao', 1866: 'bhava', 1867: 'bhavan', 1868: 'bhavani', 1869: 'bhawani', 1870: 'bhel', 1871: 'bheramara', 1872: 'bhide', 1873: 'bhikhiwind', 1874: 'bhilai', 1875: 'bhim', 1876: 'bhima', 1877: 'bhimnagar', 1878: 'bhivandi', 1879: 'bhiwadi', 1880: 'bhojpur', 1881: 'bhojpuri', 1882: 'bhombe', 1883: 'bhopal', 1884: 'bhopals', 1885: 'bhosale', 1886: 'bhosari', 1887: 'bhote', 1888: 'bhoyar', 1889: 'bhubaneshwar', 1890: 'bhubaneswar', 1891: 'bhujbal', 1892: 'bhullar', 1893: 'bhumi', 1894: 'bhumihar', 1895: 'bhupati', 1896: 'bhupendra', 1897: 'bhuse', 1898: 'bhushan', 1899: 'bhutan', 1900: 'bhuvneshwar', 1901: 'bianca', 1902: 'biarritz', 1903: 'bias', 1904: 'biased', 1905: 'bibhuti', 1906: 'bibi', 1907: 'bible', 1908: 'bibles', 1909: 'bicycles', 1910: 'bid', 1911: 'bidar', 1912: 'bidder', 1913: 'bidders', 1914: 'bidding', 1915: 'biden', 1916: 'bidhannagar', 1917: 'bidhuri', 1918: 'bieber', 1919: 'biebers', 1920: 'bifurcated', 1921: 'big', 1922: 'bigbudget', 1923: 'bigg', 1924: 'bigger', 1925: 'biggest', 1926: 'biggs', 1927: 'bigticket', 1928: 'bigwigs', 1929: 'bihan', 1930: 'bihar', 1931: 'bihari', 1932: 'bihars', 1933: 'bihu', 1934: 'bike', 1935: 'bikes', 1936: 'bikram', 1937: 'bilateral', 1938: 'bileral', 1939: 'bill', 1940: 'billiards', 1941: 'billing', 1942: 'billion', 1943: 'billionaire', 1944: 'billions', 1945: 'bills', 1946: 'billy', 1947: 'bima', 1948: 'bimstec', 1949: 'bin', 1950: 'bind', 1951: 'binding', 1952: 'bindra', 1953: 'bio', 1954: 'biodiversity', 1955: 'biofarming', 1956: 'biographer', 1957: 'biological', 1958: 'biology', 1959: 'biomass', 1960: 'biomimetics', 1961: 'biopic', 1962: 'biosolids', 1963: 'biotech', 1964: 'biotechnology', 1965: 'biotoilets', 1966: 'bipin', 1967: 'biplab', 1968: 'birbhadra', 1969: 'bird', 1970: 'birds', 1971: 'biren', 1972: 'birendra', 1973: 'birgit', 1974: 'birjender', 1975: 'birkebeiner', 1976: 'birla', 1977: 'birlas', 1978: 'birmingham', 1979: 'birth', 1980: 'birthday', 1981: 'birthdays', 1982: 'births', 1983: 'biryani', 1984: 'bis', 1985: 'biscuit', 1986: 'biscuits', 1987: 'bishnoi', 1988: 'bishop', 1989: 'bisht', 1990: 'bison', 1991: 'biswal', 1992: 'biswas', 1993: 'bit', 1994: 'bitcoin', 1995: 'bitcoins', 1996: 'bites', 1997: 'bitter', 1998: 'bitterly', 1999: 'bitterness', 2000: 'bizarre', 2001: 'bjaaland', 2002: 'bjd', 2003: 'bjp', 2004: 'bjpexcm', 2005: 'bjpjannayak', 2006: 'bjpled', 2007: 'bjprss', 2008: 'bjpruled', 2009: 'bjps', 2010: 'bjpsena', 2011: 'bjpshiv', 2012: 'bk', 2013: 'bkc', 2014: 'black', 2015: 'blackbucks', 2016: 'blackburns', 2017: 'blackmail', 2018: 'blacks', 2019: 'blacksmith', 2020: 'blacktailed', 2021: 'blade', 2022: 'blame', 2023: 'blamed', 2024: 'blameless', 2025: 'blames', 2026: 'blaming', 2027: 'blankonly', 2028: 'blaspheme', 2029: 'blasphemers', 2030: 'blasphemy', 2031: 'blast', 2032: 'blaster', 2033: 'blasts', 2034: 'blaze', 2035: 'bleaches', 2036: 'bleak', 2037: 'bleeding', 2038: 'blend', 2039: 'blended', 2040: 'blender', 2041: 'bless', 2042: 'blessed', 2043: 'blesses', 2044: 'blessing', 2045: 'blessings', 2046: 'bleus', 2047: 'blind', 2048: 'blinded', 2049: 'blindness', 2050: 'blindsided', 2051: 'bliss', 2052: 'blissful', 2053: 'bloc', 2054: 'block', 2055: 'blocked', 2056: 'blockers', 2057: 'blocking', 2058: 'blocks', 2059: 'bloemfontein', 2060: 'blog', 2061: 'blood', 2062: 'bloodbath', 2063: 'bloodguilt', 2064: 'bloodless', 2065: 'bloodshed', 2066: 'bloodstains', 2067: 'blow', 2068: 'blue', 2069: 'bluetooth', 2070: 'blunt', 2071: 'blurb', 2072: 'bmc', 2073: 'bmcs', 2074: 'bmw', 2075: 'board', 2076: 'boarding', 2077: 'boards', 2078: 'boastful', 2079: 'boasts', 2080: 'boat', 2081: 'boating', 2082: 'boats', 2083: 'bob', 2084: 'bobby', 2085: 'bobde', 2086: 'bode', 2087: 'bodies', 2088: 'bodo', 2089: 'body', 2090: 'bogey', 2091: 'boghara', 2092: 'bohri', 2093: 'boil', 2094: 'boiled', 2095: 'boiling', 2096: 'bold', 2097: 'boldly', 2098: 'boldness', 2099: 'bole', 2100: 'bolero', 2101: 'bolivia', 2102: 'bollywood', 2103: 'bollywoods', 2104: 'bolsonaro', 2105: 'bolster', 2106: 'bolts', 2107: 'bomb', 2108: 'bombay', 2109: 'bombers', 2110: 'bombing', 2111: 'bombs', 2112: 'bome', 2113: 'bomi', 2114: 'bond', 2115: 'bondi', 2116: 'bonds', 2117: 'bondservant', 2118: 'bones', 2119: 'bonfires', 2120: 'bonnet', 2121: 'bonya', 2122: 'boobs', 2123: 'book', 2124: 'booked', 2125: 'booking', 2126: 'bookmarks', 2127: 'books', 2128: 'boom', 2129: 'booming', 2130: 'boost', 2131: 'boosting', 2132: 'boosts', 2133: 'booth', 2134: 'bootloader', 2135: 'booty', 2136: 'bopee', 2137: 'bora', 2138: 'border', 2139: 'bordered', 2140: 'borders', 2141: 'bore', 2142: 'bored', 2143: 'borewells', 2144: 'boris', 2145: 'borivali', 2146: 'born', 2147: 'borne', 2148: 'borrow', 2149: 'borrowed', 2150: 'borrowing', 2151: 'bose', 2152: 'boss', 2153: 'bossed', 2154: 'bosses', 2155: 'boston', 2156: 'both', 2157: 'bother', 2158: 'bothered', 2159: 'bothers', 2160: 'bottle', 2161: 'bottlenecks', 2162: 'bottles', 2163: 'bottom', 2164: 'bouchard', 2165: 'boudh', 2166: 'boughs', 2167: 'bought', 2168: 'boulders', 2169: 'boulevard', 2170: 'boult', 2171: 'bounce', 2172: 'bounced', 2173: 'bouncy', 2174: 'bound', 2175: 'boundaries', 2176: 'boundary', 2177: 'bounties', 2178: 'bountiful', 2179: 'bouquet', 2180: 'boutique', 2181: 'bow', 2182: 'bowed', 2183: 'bowels', 2184: 'bowing', 2185: 'bowl', 2186: 'bowled', 2187: 'bowler', 2188: 'bowlers', 2189: 'bowling', 2190: 'bows', 2191: 'box', 2192: 'boxer', 2193: 'boxers', 2194: 'boxes', 2195: 'boxing', 2196: 'boxoffice', 2197: 'boy', 2198: 'boycotted', 2199: 'boycotting', 2200: 'boyfriend', 2201: 'boyfriends', 2202: 'boys', 2203: 'bpi', 2204: 'bpkk', 2205: 'bpos', 2206: 'br', 2207: 'brace', 2208: 'bracket', 2209: 'brackets', 2210: 'brad', 2211: 'brahmaiah', 2212: 'brahmapuri', 2213: 'brahmaputra', 2214: 'braille', 2215: 'brain', 2216: 'braithwaite', 2217: 'branch', 2218: 'branches', 2219: 'brand', 2220: 'branded', 2221: 'brandnamefirefox', 2222: 'brandon', 2223: 'brandshortname', 2224: 'brass', 2225: 'brattleal', 2226: 'brave', 2227: 'braved', 2228: 'bravely', 2229: 'bravery', 2230: 'bravest', 2231: 'bravo', 2232: 'brawl', 2233: 'brazao', 2234: 'brazen', 2235: 'brazil', 2236: 'brazilian', 2237: 'breach', 2238: 'breached', 2239: 'breaches', 2240: 'bread', 2241: 'breadcrumbs', 2242: 'breadth', 2243: 'break', 2244: 'breakdown', 2245: 'breakfast', 2246: 'breaking', 2247: 'breakpoint', 2248: 'breakthrough', 2249: 'breast', 2250: 'breastfeed', 2251: 'breath', 2252: 'breathed', 2253: 'breather', 2254: 'breathing', 2255: 'bred', 2256: 'breech', 2257: 'breed', 2258: 'breeder', 2259: 'breeding', 2260: 'breeds', 2261: 'brendon', 2262: 'brenner', 2263: 'brethren', 2264: 'brian', 2265: 'bribe', 2266: 'bribery', 2267: 'brick', 2268: 'bricks', 2269: 'brics', 2270: 'bridegroom', 2271: 'bridegrooms', 2272: 'bridge', 2273: 'bridged', 2274: 'bridgepriority', 2275: 'bridges', 2276: 'brief', 2277: 'briefcases', 2278: 'briefed', 2279: 'briefing', 2280: 'briefly', 2281: 'briefs', 2282: 'brigade', 2283: 'brigades', 2284: 'brigadier', 2285: 'brigantine', 2286: 'bright', 2287: 'brighter', 2288: 'brightness', 2289: 'brighton', 2290: 'brij', 2291: 'brilliant', 2292: 'brilliantly', 2293: 'bring', 2294: 'bringing', 2295: 'brings', 2296: 'brisbane', 2297: 'bristol', 2298: 'britain', 2299: 'britainbased', 2300: 'britains', 2301: 'british', 2302: 'brixham', 2303: 'broad', 2304: 'broadband', 2305: 'broadbandvpn', 2306: 'broadbased', 2307: 'broadcast', 2308: 'broadcasting', 2309: 'broadly', 2310: 'brochure', 2311: 'broke', 2312: 'broken', 2313: 'brokendown', 2314: 'bronze', 2315: 'brother', 2316: 'brotherhood', 2317: 'brotherly', 2318: 'brothers', 2319: 'brothersister', 2320: 'brought', 2321: 'brown', 2322: 'browse', 2323: 'browser', 2324: 'browsing', 2325: 'bruised', 2326: 'brunei', 2327: 'bruno', 2328: 'brunt', 2329: 'brush', 2330: 'brushed', 2331: 'brussels', 2332: 'brutal', 2333: 'brutalises', 2334: 'brutality', 2335: 'brutalized', 2336: 'brutally', 2337: 'brute', 2338: 'brutes', 2339: 'bs', 2340: 'bsa', 2341: 'bse', 2342: 'bsf', 2343: 'bsnl', 2344: 'bsnls', 2345: 'bsp', 2346: 'btech', 2347: 'bubble', 2348: 'bubbling', 2349: 'bucked', 2350: 'buddha', 2351: 'buddhist', 2352: 'buddhists', 2353: 'buddy', 2354: 'budge', 2355: 'budget', 2356: 'budgetary', 2357: 'budgets', 2358: 'buffaloes', 2359: 'buffs', 2360: 'bug', 2361: 'bugle', 2362: 'build', 2363: 'builders', 2364: 'buildeth', 2365: 'building', 2366: 'buildings', 2367: 'builds', 2368: 'built', 2369: 'bukki', 2370: 'bulandshahar', 2371: 'bulandshahr', 2372: 'bulb', 2373: 'bulbul', 2374: 'bulk', 2375: 'bull', 2376: 'bullet', 2377: 'bulletin', 2378: 'bullets', 2379: 'bullock', 2380: 'bulls', 2381: 'bully', 2382: 'bump', 2383: 'bumpy', 2384: 'bumrah', 2385: 'bunah', 2386: 'bungalow', 2387: 'bungalows', 2388: 'bunker', 2389: 'bunks', 2390: 'buoyed', 2391: 'burari', 2392: 'burden', 2393: 'burdens', 2394: 'bureau', 2395: 'bureaucrats', 2396: 'burglars', 2397: 'burhan', 2398: 'burial', 2399: 'buried', 2400: 'burleigh', 2401: 'burman', 2402: 'burned', 2403: 'burneth', 2404: 'burnham', 2405: 'burning', 2406: 'burnt', 2407: 'burqa', 2408: 'burst', 2409: 'bus', 2410: 'buses', 2411: 'bush', 2412: 'bushy', 2413: 'busiest', 2414: 'business', 2415: 'businesses', 2416: 'businessman', 2417: 'busses', 2418: 'bust', 2419: 'busted', 2420: 'bustle', 2421: 'busy', 2422: 'but', 2423: 'butler', 2424: 'butt', 2425: 'butter', 2426: 'butterfingers', 2427: 'butterfly', 2428: 'button', 2429: 'buttons', 2430: 'butyric', 2431: 'buy', 2432: 'buyers', 2433: 'buying', 2434: 'buys', 2435: 'buzarnescu', 2436: 'bvas', 2437: 'bwf', 2438: 'by', 2439: 'byeelections', 2440: 'byelection', 2441: 'bylaws', 2442: 'bypass', 2443: 'bypassing', 2444: 'bypolls', 2445: 'byzantine', 2446: 'c', 2447: 'ca', 2448: 'caa', 2449: 'cab', 2450: 'cabbage', 2451: 'cabinet', 2452: 'cabinetranking', 2453: 'cable', 2454: 'cac', 2455: 'cache', 2456: 'cadet', 2457: 'cadres', 2458: 'caesar', 2459: 'cafe', 2460: 'cafeteria', 2461: 'caffeine', 2462: 'cag', 2463: 'cage', 2464: 'caged', 2465: 'cain', 2466: 'cake', 2467: 'cakes', 2468: 'cakiroglu', 2469: 'calamitous', 2470: 'calamity', 2471: 'calamtities', 2472: 'calcium', 2473: 'calculate', 2474: 'calculations', 2475: 'calcutta', 2476: 'caldron', 2477: 'caleb', 2478: 'calendar', 2479: 'california', 2480: 'call', 2481: 'called', 2482: 'calling', 2483: 'callous', 2484: 'calls', 2485: 'calm', 2486: 'calmed', 2487: 'calmer', 2488: 'calming', 2489: 'calmly', 2490: 'calmness', 2491: 'calms', 2492: 'calving', 2493: 'cambridge', 2494: 'came', 2495: 'camel', 2496: 'camels', 2497: 'camera', 2498: 'cameras', 2499: 'cameron', 2500: 'camille', 2501: 'camp', 2502: 'campa', 2503: 'campaign', 2504: 'campaigner', 2505: 'campaigners', 2506: 'campaigning', 2507: 'campaigns', 2508: 'camps', 2509: 'campus', 2510: 'cams', 2511: 'camserv', 2512: 'can', 2513: 'canaan', 2514: 'canaanites', 2515: 'canada', 2516: 'canadas', 2517: 'canadian', 2518: 'canal', 2519: 'cancel', 2520: 'cancellation', 2521: 'cancelled', 2522: 'cancels', 2523: 'cancer', 2524: 'cancerous', 2525: 'candidacy', 2526: 'candidate', 2527: 'candidates', 2528: 'candidature', 2529: 'candles', 2530: 'cannes', 2531: 'cannot', 2532: 'canon', 2533: 'canongate', 2534: 'canonical', 2535: 'cans', 2536: 'cant', 2537: 'canteens', 2538: 'canterbury', 2539: 'cantonal', 2540: 'canvas', 2541: 'canyon', 2542: 'cap', 2543: 'capabilites', 2544: 'capabilities', 2545: 'capability', 2546: 'capable', 2547: 'capacities', 2548: 'capacitor', 2549: 'capacity', 2550: 'cape', 2551: 'capf', 2552: 'capfs', 2553: 'capital', 2554: 'capitalisation', 2555: 'capitalist', 2556: 'capitalists', 2557: 'capitals', 2558: 'capitation', 2559: 'capric', 2560: 'capricorn', 2561: 'caprioc', 2562: 'caprylic', 2563: 'capshaw', 2564: 'capsicum', 2565: 'capsizes', 2566: 'captain', 2567: 'captaincy', 2568: 'captained', 2569: 'captains', 2570: 'caption', 2571: 'captives', 2572: 'captivity', 2573: 'capture', 2574: 'captured', 2575: 'capturing', 2576: 'car', 2577: 'cara', 2578: 'carbohydrates', 2579: 'carbon', 2580: 'carbonsteel', 2581: 'carbs', 2582: 'carcasses', 2583: 'card', 2584: 'cardamoms', 2585: 'cardamon', 2586: 'cardiac', 2587: 'cardiologist', 2588: 'cardless', 2589: 'cards', 2590: 'care', 2591: 'cared', 2592: 'career', 2593: 'careers', 2594: 'careful', 2595: 'carefully', 2596: 'carelessness', 2597: 'cares', 2598: 'caret', 2599: 'caretaker', 2600: 'carey', 2601: 'cargo', 2602: 'caribbean', 2603: 'caring', 2604: 'carlos', 2605: 'carmaker', 2606: 'carney', 2607: 'carnival', 2608: 'carnivore', 2609: 'carolina', 2610: 'carping', 2611: 'carriage', 2612: 'carried', 2613: 'carrier', 2614: 'carriers', 2615: 'carries', 2616: 'carrot', 2617: 'carry', 2618: 'carrying', 2619: 'cars', 2620: 'carswe', 2621: 'cart', 2622: 'carter', 2623: 'carton', 2624: 'cartoonist', 2625: 'cartoons', 2626: 'cartosat', 2627: 'cartridge', 2628: 'cartridges', 2629: 'cascade', 2630: 'cascading', 2631: 'case', 2632: 'casein', 2633: 'cases', 2634: 'cash', 2635: 'cashback', 2636: 'cashew', 2637: 'cashews', 2638: 'cashier', 2639: 'casket', 2640: 'cast', 2641: 'caste', 2642: 'castepatriarchy', 2643: 'castes', 2644: 'casting', 2645: 'castle', 2646: 'castor', 2647: 'casual', 2648: 'casualties', 2649: 'casualty', 2650: 'cat', 2651: 'catalyst', 2652: 'catania', 2653: 'cataract', 2654: 'catch', 2655: 'catches', 2656: 'catechism', 2657: 'categories', 2658: 'categorised', 2659: 'category', 2660: 'catered', 2661: 'catering', 2662: 'caters', 2663: 'catfight', 2664: 'catholic', 2665: 'catholique', 2666: 'cats', 2667: 'cattle', 2668: 'caught', 2669: 'cause', 2670: 'caused', 2671: 'causes', 2672: 'causess', 2673: 'causing', 2674: 'caution', 2675: 'cautious', 2676: 'cautiously', 2677: 'cauvery', 2678: 'cave', 2679: 'cbfc', 2680: 'cbi', 2681: 'cbo', 2682: 'cbse', 2683: 'ccc', 2684: 'ccea', 2685: 'ccrum', 2686: 'ccs', 2687: 'cctv', 2688: 'cctvs', 2689: 'cd', 2690: 'cdc', 2691: 'cdmabased', 2692: 'cds', 2693: 'ce', 2694: 'cea', 2695: 'cease', 2696: 'ceasefire', 2697: 'ceaselessly', 2698: 'cec', 2699: 'cedars', 2700: 'ceejay', 2701: 'celebrate', 2702: 'celebrated', 2703: 'celebrates', 2704: 'celebrating', 2705: 'celebration', 2706: 'celebrations', 2707: 'celebrities', 2708: 'celebrity', 2709: 'celebs', 2710: 'celery', 2711: 'cell', 2712: 'cells', 2713: 'cellular', 2714: 'cellulardata', 2715: 'celsius', 2716: 'cement', 2717: 'cemetery', 2718: 'censer', 2719: 'censor', 2720: 'censored', 2721: 'censured', 2722: 'census', 2723: 'cent', 2724: 'centenary', 2725: 'center', 2726: 'centered', 2727: 'centers', 2728: 'centigrade', 2729: 'central', 2730: 'centralized', 2731: 'centrally', 2732: 'centre', 2733: 'centres', 2734: 'centrifugal', 2735: 'cents', 2736: 'centuries', 2737: 'centurion', 2738: 'century', 2739: 'ceo', 2740: 'ceremonial', 2741: 'ceremonies', 2742: 'ceremony', 2743: 'cermony', 2744: 'certain', 2745: 'certainly', 2746: 'certificate', 2747: 'certificates', 2748: 'certification', 2749: 'certifications', 2750: 'certify', 2751: 'cess', 2752: 'cesses', 2753: 'cfts', 2754: 'cgst', 2755: 'cgtmse', 2756: 'ch', 2757: 'chaat', 2758: 'chabad', 2759: 'chabahar', 2760: 'chabhal', 2761: 'chacha', 2762: 'chad', 2763: 'chaddha', 2764: 'chadha', 2765: 'chads', 2766: 'chagla', 2767: 'chahal', 2768: 'chahar', 2769: 'chahel', 2770: 'chain', 2771: 'chained', 2772: 'chains', 2773: 'chair', 2774: 'chaired', 2775: 'chairman', 2776: 'chairmans', 2777: 'chairmanship', 2778: 'chairperson', 2779: 'chairpersons', 2780: 'chairs', 2781: 'chaitra', 2782: 'chaiwala', 2783: 'chakan', 2784: 'chakoti', 2785: 'chakra', 2786: 'chakrabarti', 2787: 'chakraborty', 2788: 'chalisgaon', 2789: 'chalk', 2790: 'challenge', 2791: 'challenged', 2792: 'challenger', 2793: 'challengers', 2794: 'challenges', 2795: 'challenging', 2796: 'chalo', 2797: 'chamba', 2798: 'chamber', 2799: 'chambers', 2800: 'chamorshi', 2801: 'champaran', 2802: 'champia', 2803: 'champion', 2804: 'champions', 2805: 'championship', 2806: 'championships', 2807: 'chamundeshwari', 2808: 'chanakyapuri', 2809: 'chance', 2810: 'chances', 2811: 'chanchala', 2812: 'chanchalapathi', 2813: 'chand', 2814: 'chanda', 2815: 'chandamama', 2816: 'chandan', 2817: 'chandbagh', 2818: 'chandekar', 2819: 'chander', 2820: 'chandigarh', 2821: 'chandimal', 2822: 'chandivli', 2823: 'chandole', 2824: 'chandra', 2825: 'chandrababu', 2826: 'chandrakant', 2827: 'chandrakumar', 2828: 'chandrapur', 2829: 'chandrapurs', 2830: 'chandrasekhar', 2831: 'chandrashekhar', 2832: 'chandrayaan', 2833: 'chandrayangutta', 2834: 'chandrudu', 2835: 'chandu', 2836: 'chandy', 2837: 'chang', 2838: 'change', 2839: 'changed', 2840: 'changes', 2841: 'changing', 2842: 'changlimithang', 2843: 'channa', 2844: 'channapatna', 2845: 'channel', 2846: 'channelling', 2847: 'channels', 2848: 'channi', 2849: 'chans', 2850: 'chant', 2851: 'chantaman', 2852: 'chanting', 2853: 'chaos', 2854: 'chapel', 2855: 'chapra', 2856: 'chapter', 2857: 'chapters', 2858: 'character', 2859: 'characteristic', 2860: 'characteristics', 2861: 'characterize', 2862: 'characterized', 2863: 'characters', 2864: 'charan', 2865: 'charge', 2866: 'charged', 2867: 'chargers', 2868: 'charges', 2869: 'chargesheet', 2870: 'chargesheeted', 2871: 'chargesheets', 2872: 'charging', 2873: 'chariot', 2874: 'chariots', 2875: 'charitable', 2876: 'charity', 2877: 'charles', 2878: 'charlotte', 2879: 'charm', 2880: 'charming', 2881: 'charmme', 2882: 'chart', 2883: 'charter', 2884: 'charts', 2885: 'chase', 2886: 'chased', 2887: 'chasing', 2888: 'chaste', 2889: 'chat', 2890: 'chatbot', 2891: 'chatfield', 2892: 'chatrapati', 2893: 'chatrath', 2894: 'chatterjee', 2895: 'chatting', 2896: 'chattisgarh', 2897: 'chaturthi', 2898: 'chaudhari', 2899: 'chaudhary', 2900: 'chaudhry', 2901: 'chaudyar', 2902: 'chauhan', 2903: 'chautala', 2904: 'chavan', 2905: 'chavans', 2906: 'chawla', 2907: 'cheap', 2908: 'cheaper', 2909: 'cheater', 2910: 'cheating', 2911: 'check', 2912: 'checked', 2913: 'checking', 2914: 'checkpoints', 2915: 'checks', 2916: 'checkup', 2917: 'checkups', 2918: 'cheek', 2919: 'cheerfulness', 2920: 'cheering', 2921: 'cheers', 2922: 'chemezov', 2923: 'chemical', 2924: 'chemicals', 2925: 'chemistries', 2926: 'chemistry', 2927: 'chemists', 2928: 'chemotherapy', 2929: 'chenab', 2930: 'chennai', 2931: 'chennainew', 2932: 'chennithala', 2933: 'cheque', 2934: 'cherethites', 2935: 'chernobyl', 2936: 'cherry', 2937: 'cherubs', 2938: 'chess', 2939: 'chest', 2940: 'chesterlestreet', 2941: 'chetan', 2942: 'cheteshwar', 2943: 'chetty', 2944: 'chewing', 2945: 'chewy', 2946: 'chhagan', 2947: 'chhajed', 2948: 'chhath', 2949: 'chhatrapati', 2950: 'chhattisgarh', 2951: 'chhattisgarhs', 2952: 'chhattrapti', 2953: 'chhetri', 2954: 'chhokar', 2955: 'chi', 2956: 'chicago', 2957: 'chicken', 2958: 'chickens', 2959: 'chickpea', 2960: 'chidambaram', 2961: 'chief', 2962: 'chiefs', 2963: 'chihuahua', 2964: 'chikkaballapur', 2965: 'chikungunya', 2966: 'chikungunyain', 2967: 'child', 2968: 'childbirth', 2969: 'childhood', 2970: 'children', 2971: 'childrens', 2972: 'childrentwo', 2973: 'childs', 2974: 'chili', 2975: 'chilis', 2976: 'chilli', 2977: 'chimanlal', 2978: 'chin', 2979: 'china', 2980: 'chinaman', 2981: 'chinas', 2982: 'chincholi', 2983: 'chinchwad', 2984: 'chinese', 2985: 'chinglensana', 2986: 'chintaman', 2987: 'chip', 2988: 'chiplekar', 2989: 'chirac', 2990: 'chiranjeevi', 2991: 'chirmule', 2992: 'chishti', 2993: 'chislev', 2994: 'chit', 2995: 'chitra', 2996: 'chocked', 2997: 'chocolate', 2998: 'chodankar', 2999: 'choice', 3000: 'choices', 3001: 'choir', 3002: 'choirunnisa', 3003: 'choithram', 3004: 'choke', 3005: 'choking', 3006: 'choksi', 3007: 'cholamandalam', 3008: 'cholesterol', 3009: 'chongqing', 3010: 'choose', 3011: 'chooses', 3012: 'choosing', 3013: 'chop', 3014: 'chopped', 3015: 'chopra', 3016: 'chopras', 3017: 'chor', 3018: 'chord', 3019: 'choreograph', 3020: 'choreographerdirector', 3021: 'choreography', 3022: 'chorus', 3023: 'chose', 3024: 'chosen', 3025: 'choudhary', 3026: 'chouhan', 3027: 'chowari', 3028: 'chowdhry', 3029: 'chowdhury', 3030: 'chowk', 3031: 'chrestus', 3032: 'chris', 3033: 'christ', 3034: 'christchurch', 3035: 'christendom', 3036: 'christendoms', 3037: 'christian', 3038: 'christianity', 3039: 'christians', 3040: 'christina', 3041: 'christmas', 3042: 'christopher', 3043: 'christs', 3044: 'christus', 3045: 'chronic', 3046: 'chronicle', 3047: 'chronicles', 3048: 'chrysostom', 3049: 'chudiyan', 3050: 'chulbul', 3051: 'chunky', 3052: 'chuppu', 3053: 'church', 3054: 'churches', 3055: 'churidar', 3056: 'cia', 3057: 'ciaz', 3058: 'cics', 3059: 'cid', 3060: 'cidco', 3061: 'cigarette', 3062: 'cii', 3063: 'cil', 3064: 'cinema', 3065: 'cinemas', 3066: 'cinematic', 3067: 'cinematographic', 3068: 'cinematography', 3069: 'cinnamon', 3070: 'ciobanu', 3071: 'cipam', 3072: 'cipla', 3073: 'circle', 3074: 'circles', 3075: 'circuit', 3076: 'circular', 3077: 'circulated', 3078: 'circulating', 3079: 'circulation', 3080: 'circumcised', 3081: 'circumstances', 3082: 'circus', 3083: 'cisf', 3084: 'cisterns', 3085: 'citation', 3086: 'cited', 3087: 'citi', 3088: 'cities', 3089: 'citing', 3090: 'citizen', 3091: 'citizenry', 3092: 'citizens', 3093: 'citizenship', 3094: 'city', 3095: 'cityhood', 3096: 'citylights', 3097: 'citys', 3098: 'civic', 3099: 'civicrun', 3100: 'civil', 3101: 'civilian', 3102: 'civilians', 3103: 'civility', 3104: 'civilization', 3105: 'civilizations', 3106: 'claim', 3107: 'claimants', 3108: 'claimed', 3109: 'claiming', 3110: 'claims', 3111: 'clambered', 3112: 'clamming', 3113: 'clandestine', 3114: 'clans', 3115: 'clapping', 3116: 'clarification', 3117: 'clarified', 3118: 'clarify', 3119: 'clarity', 3120: 'clarke', 3121: 'clash', 3122: 'clashed', 3123: 'clashes', 3124: 'class', 3125: 'classes', 3126: 'classic', 3127: 'classical', 3128: 'classiv', 3129: 'classix', 3130: 'classmate', 3131: 'classroom', 3132: 'classrooms', 3133: 'claudius', 3134: 'clause', 3135: 'clay', 3136: 'clean', 3137: 'cleaner', 3138: 'cleanest', 3139: 'cleaning', 3140: 'cleanliness', 3141: 'cleans', 3142: 'cleanse', 3143: 'cleansed', 3144: 'cleansing', 3145: 'cleansweep', 3146: 'clear', 3147: 'clearance', 3148: 'cleared', 3149: 'clearer', 3150: 'clearly', 3151: 'clears', 3152: 'cleartype', 3153: 'cleaving', 3154: 'clements', 3155: 'clenched', 3156: 'clergy', 3157: 'click', 3158: 'clicked', 3159: 'clicking', 3160: 'client', 3161: 'clifden', 3162: 'climate', 3163: 'climax', 3164: 'climb', 3165: 'climbed', 3166: 'climbing', 3167: 'clincher', 3168: 'clinic', 3169: 'clinical', 3170: 'clinics', 3171: 'clinton', 3172: 'clip', 3173: 'clipboard', 3174: 'clippers', 3175: 'clippings', 3176: 'clips', 3177: 'clive', 3178: 'clock', 3179: 'clogs', 3180: 'close', 3181: 'closed', 3182: 'closely', 3183: 'closer', 3184: 'closes', 3185: 'closest', 3186: 'closing', 3187: 'closure', 3188: 'clot', 3189: 'cloth', 3190: 'clothes', 3191: 'clothing', 3192: 'cloud', 3193: 'clouds', 3194: 'cloudy', 3195: 'clout', 3196: 'cloves', 3197: 'clp', 3198: 'club', 3199: 'clue', 3200: 'clueless', 3201: 'cluster', 3202: 'clusters', 3203: 'clutch', 3204: 'clutches', 3205: 'cm', 3206: 'cmie', 3207: 'cmp', 3208: 'cms', 3209: 'cnp', 3210: 'co', 3211: 'coach', 3212: 'coached', 3213: 'coaches', 3214: 'coal', 3215: 'coalfired', 3216: 'coalition', 3217: 'coast', 3218: 'coastal', 3219: 'coasts', 3220: 'coats', 3221: 'coaxed', 3222: 'cob', 3223: 'cocaine', 3224: 'cochair', 3225: 'cochin', 3226: 'cocktails', 3227: 'cocochips', 3228: 'coconut', 3229: 'cocurricular', 3230: 'code', 3231: 'codirector', 3232: 'coefficient', 3233: 'coelho', 3234: 'coep', 3235: 'coerced', 3236: 'coercive', 3237: 'coexist', 3238: 'coffee', 3239: 'coffers', 3240: 'cogent', 3241: 'cognitive', 3242: 'coimbatore', 3243: 'coins', 3244: 'coir', 3245: 'cold', 3246: 'coldshoulder', 3247: 'collaborated', 3248: 'collaborating', 3249: 'collaboration', 3250: 'collaborations', 3251: 'collaborative', 3252: 'collage', 3253: 'collapse', 3254: 'collapsed', 3255: 'collapses', 3256: 'collapsing', 3257: 'collateralfree', 3258: 'colleague', 3259: 'colleagues', 3260: 'collect', 3261: 'collected', 3262: 'collecting', 3263: 'collection', 3264: 'collections', 3265: 'collective', 3266: 'collectively', 3267: 'collector', 3268: 'collectors', 3269: 'college', 3270: 'colleges', 3271: 'collegiate', 3272: 'collided', 3273: 'collision', 3274: 'colluded', 3275: 'colocated', 3276: 'cologne', 3277: 'colombian', 3278: 'colombias', 3279: 'colombo', 3280: 'colonial', 3281: 'colonialism', 3282: 'colonies', 3283: 'colonization', 3284: 'colony', 3285: 'color', 3286: 'colors', 3287: 'colossians', 3288: 'colour', 3289: 'colourful', 3290: 'colours', 3291: 'colporteur', 3292: 'colts', 3293: 'columbus', 3294: 'column', 3295: 'com', 3296: 'combat', 3297: 'combated', 3298: 'combating', 3299: 'combination', 3300: 'combinations', 3301: 'combine', 3302: 'combined', 3303: 'combo', 3304: 'come', 3305: 'comeback', 3306: 'comedian', 3307: 'comedians', 3308: 'comedy', 3309: 'comedydrama', 3310: 'comes', 3311: 'cometh', 3312: 'comey', 3313: 'comfort', 3314: 'comfortable', 3315: 'comfortably', 3316: 'comforting', 3317: 'comickaneez', 3318: 'coming', 3319: 'comitlaelfxed', 3320: 'command', 3321: 'commandant', 3322: 'commanded', 3323: 'commander', 3324: 'commanderlevel', 3325: 'commandment', 3326: 'commandments', 3327: 'commands', 3328: 'commemorate', 3329: 'commemorated', 3330: 'commemoration', 3331: 'commence', 3332: 'commenced', 3333: 'commendable', 3334: 'commendation', 3335: 'commended', 3336: 'comment', 3337: 'commentary', 3338: 'commentator', 3339: 'commentators', 3340: 'commented', 3341: 'commenting', 3342: 'comments', 3343: 'commentssuggestions', 3344: 'commerce', 3345: 'commercial', 3346: 'commercialised', 3347: 'commission', 3348: 'commissioner', 3349: 'commissioners', 3350: 'commit', 3351: 'commitment', 3352: 'commitments', 3353: 'commits', 3354: 'committed', 3355: 'committee', 3356: 'committees', 3357: 'committing', 3358: 'committtee', 3359: 'common', 3360: 'commoners', 3361: 'commonly', 3362: 'commonwealth', 3363: 'commotion', 3364: 'communal', 3365: 'communallysensitive', 3366: 'communes', 3367: 'communicated', 3368: 'communicates', 3369: 'communication', 3370: 'communications', 3371: 'communicator', 3372: 'communist', 3373: 'communists', 3374: 'communities', 3375: 'community', 3376: 'communitys', 3377: 'commutation', 3378: 'commute', 3379: 'commuters', 3380: 'commutes', 3381: 'companies', 3382: 'companion', 3383: 'companions', 3384: 'companionship', 3385: 'company', 3386: 'companys', 3387: 'compaore', 3388: 'comparatively', 3389: 'compare', 3390: 'compared', 3391: 'compares', 3392: 'comparing', 3393: 'comparison', 3394: 'compartments', 3395: 'compass', 3396: 'compassion', 3397: 'compatibility', 3398: 'compel', 3399: 'compelled', 3400: 'compensated', 3401: 'compensates', 3402: 'compensation', 3403: 'compered', 3404: 'compete', 3405: 'competence', 3406: 'competent', 3407: 'competes', 3408: 'competing', 3409: 'competition', 3410: 'competitions', 3411: 'competitive', 3412: 'complacent', 3413: 'complain', 3414: 'complainant', 3415: 'complained', 3416: 'complaining', 3417: 'complaint', 3418: 'complaints', 3419: 'complete', 3420: 'completed', 3421: 'completely', 3422: 'completing', 3423: 'completion', 3424: 'complex', 3425: 'complexion', 3426: 'compliance', 3427: 'complicated', 3428: 'complicating', 3429: 'complications', 3430: 'complimentary', 3431: 'complimented', 3432: 'comply', 3433: 'complying', 3434: 'component', 3435: 'components', 3436: 'composed', 3437: 'composers', 3438: 'composite', 3439: 'composition', 3440: 'composted', 3441: 'compound', 3442: 'compounds', 3443: 'comprehend', 3444: 'comprehending', 3445: 'comprehension', 3446: 'comprehensive', 3447: 'comprise', 3448: 'comprised', 3449: 'comprises', 3450: 'comprising', 3451: 'compromised', 3452: 'compromising', 3453: 'comptroller', 3454: 'compulsory', 3455: 'computation', 3456: 'computer', 3457: 'computerbased', 3458: 'computerized', 3459: 'computers', 3460: 'con', 3461: 'conceal', 3462: 'concealed', 3463: 'concede', 3464: 'concedes', 3465: 'conceived', 3466: 'concentrate', 3467: 'concentrated', 3468: 'concentration', 3469: 'concentrations', 3470: 'concept', 3471: 'conception', 3472: 'concepts', 3473: 'conceptualize', 3474: 'concern', 3475: 'concerned', 3476: 'concerning', 3477: 'concerns', 3478: 'concert', 3479: 'concerted', 3480: 'conch', 3481: 'conciliation', 3482: 'conclave', 3483: 'conclude', 3484: 'concluded', 3485: 'concludes', 3486: 'concluding', 3487: 'conclusion', 3488: 'conclusions', 3489: 'conclusive', 3490: 'concoction', 3491: 'concrete', 3492: 'concubine', 3493: 'concurrence', 3494: 'condapilly', 3495: 'condemn', 3496: 'condemnable', 3497: 'condemnation', 3498: 'condemned', 3499: 'condemning', 3500: 'condemns', 3501: 'condensers', 3502: 'condition', 3503: 'conditioner', 3504: 'conditioners', 3505: 'conditions', 3506: 'condoled', 3507: 'condolence', 3508: 'condolences', 3509: 'condoles', 3510: 'condominums', 3511: 'condoned', 3512: 'conduct', 3513: 'conducted', 3514: 'conductedin', 3515: 'conducting', 3516: 'conductor', 3517: 'conducts', 3518: 'conduit', 3519: 'cone', 3520: 'confederation', 3521: 'conference', 3522: 'conferencing', 3523: 'conferred', 3524: 'confess', 3525: 'confessed', 3526: 'confesseth', 3527: 'confession', 3528: 'confidant', 3529: 'confidence', 3530: 'confident', 3531: 'confidential', 3532: 'confidently', 3533: 'configurable', 3534: 'configured', 3535: 'confined', 3536: 'confines', 3537: 'confirm', 3538: 'confirmation', 3539: 'confirmed', 3540: 'confirms', 3541: 'conflict', 3542: 'conflicts', 3543: 'confluence', 3544: 'conform', 3545: 'confounding', 3546: 'confront', 3547: 'confrontation', 3548: 'confronted', 3549: 'confused', 3550: 'confusing', 3551: 'confusion', 3552: 'cong', 3553: 'congested', 3554: 'congestion', 3555: 'congratulate', 3556: 'congratulated', 3557: 'congratulates', 3558: 'congratulations', 3559: 'congregated', 3560: 'congregation', 3561: 'congregations', 3562: 'congress', 3563: 'congressbacked', 3564: 'congressional', 3565: 'congressnationalist', 3566: 'congressncp', 3567: 'congressncpshiv', 3568: 'congresss', 3569: 'congresssenabjp', 3570: 'conifers', 3571: 'conjunction', 3572: 'connect', 3573: 'connected', 3574: 'connecting', 3575: 'connection', 3576: 'connections', 3577: 'connectively', 3578: 'connectivity', 3579: 'connects', 3580: 'connemara', 3581: 'connoisseur', 3582: 'connotations', 3583: 'conquer', 3584: 'conquered', 3585: 'conquering', 3586: 'conqueror', 3587: 'conquest', 3588: 'cons', 3589: 'conscience', 3590: 'conscientious', 3591: 'conscious', 3592: 'consecutive', 3593: 'consecutively', 3594: 'consensus', 3595: 'consent', 3596: 'consenting', 3597: 'consequence', 3598: 'consequences', 3599: 'consequently', 3600: 'conservation', 3601: 'conservative', 3602: 'conserve', 3603: 'consider', 3604: 'considerable', 3605: 'considerably', 3606: 'consideration', 3607: 'considerations', 3608: 'considered', 3609: 'considering', 3610: 'considers', 3611: 'consist', 3612: 'consistent', 3613: 'consistently', 3614: 'consisting', 3615: 'consists', 3616: 'consolation', 3617: 'consolidate', 3618: 'consolidated', 3619: 'consolidations', 3620: 'consoling', 3621: 'consort', 3622: 'consortium', 3623: 'consortqueen', 3624: 'conspiracy', 3625: 'conspiring', 3626: 'constable', 3627: 'constables', 3628: 'constant', 3629: 'constantly', 3630: 'constituencies', 3631: 'constituency', 3632: 'constituted', 3633: 'constitutes', 3634: 'constituting', 3635: 'constitution', 3636: 'constitutional', 3637: 'construct', 3638: 'constructed', 3639: 'constructeddespenser', 3640: 'constructing', 3641: 'construction', 3642: 'constructions', 3643: 'constructive', 3644: 'consulate', 3645: 'consult', 3646: 'consultancy', 3647: 'consultant', 3648: 'consultations', 3649: 'consulted', 3650: 'consume', 3651: 'consumed', 3652: 'consumer', 3653: 'consumers', 3654: 'consumes', 3655: 'consuming', 3656: 'consummate', 3657: 'consumption', 3658: 'contact', 3659: 'contacted', 3660: 'contacts', 3661: 'contain', 3662: 'contained', 3663: 'container', 3664: 'containers', 3665: 'containing', 3666: 'containment', 3667: 'contains', 3668: 'contaminated', 3669: 'contamination', 3670: 'contemplating', 3671: 'contemporaries', 3672: 'contempt', 3673: 'contend', 3674: 'contender', 3675: 'contending', 3676: 'content', 3677: 'contented', 3678: 'contention', 3679: 'contentious', 3680: 'contents', 3681: 'contest', 3682: 'contestants', 3683: 'contested', 3684: 'contesting', 3685: 'context', 3686: 'contextual', 3687: 'continental', 3688: 'contingent', 3689: 'continually', 3690: 'continuance', 3691: 'continuation', 3692: 'continue', 3693: 'continued', 3694: 'continues', 3695: 'continuing', 3696: 'continuously', 3697: 'contract', 3698: 'contracted', 3699: 'contractor', 3700: 'contractors', 3701: 'contracts', 3702: 'contractual', 3703: 'contradict', 3704: 'contradicted', 3705: 'contradiction', 3706: 'contradicts', 3707: 'contrary', 3708: 'contrast', 3709: 'contrasts', 3710: 'contribute', 3711: 'contributed', 3712: 'contributes', 3713: 'contributing', 3714: 'contribution', 3715: 'contributions', 3716: 'contributors', 3717: 'control', 3718: 'controlled', 3719: 'controller', 3720: 'controlling', 3721: 'controls', 3722: 'controversial', 3723: 'controversially', 3724: 'controversy', 3725: 'convened', 3726: 'convener', 3727: 'convenience', 3728: 'conveniently', 3729: 'convenor', 3730: 'convent', 3731: 'convention', 3732: 'conventional', 3733: 'conventions', 3734: 'convergence', 3735: 'convergent', 3736: 'conversation', 3737: 'conversations', 3738: 'conversion', 3739: 'convert', 3740: 'converted', 3741: 'convertible', 3742: 'converts', 3743: 'convey', 3744: 'conveyed', 3745: 'conveys', 3746: 'convicted', 3747: 'conviction', 3748: 'convictions', 3749: 'convicts', 3750: 'convinced', 3751: 'convocation', 3752: 'convoy', 3753: 'cooch', 3754: 'cook', 3755: 'cookbook', 3756: 'cooked', 3757: 'cookery', 3758: 'cookies', 3759: 'cooking', 3760: 'cooks', 3761: 'cool', 3762: 'cooling', 3763: 'cooper', 3764: 'cooperate', 3765: 'cooperating', 3766: 'cooperation', 3767: 'cooperative', 3768: 'cooperatives', 3769: 'coordinate', 3770: 'coordinates', 3771: 'coordination', 3772: 'coordinator', 3773: 'cop', 3774: 'cope', 3775: 'copies', 3776: 'coping', 3777: 'copper', 3778: 'coproduction', 3779: 'cops', 3780: 'copy', 3781: 'copyrighted', 3782: 'cor', 3783: 'coral', 3784: 'cordial', 3785: 'cordoned', 3786: 'core', 3787: 'coriander', 3788: 'corinthian', 3789: 'corinthians', 3790: 'corn', 3791: 'corner', 3792: 'corners', 3793: 'cornerstone', 3794: 'cornet', 3795: 'corona', 3796: 'coronascare', 3797: 'coronavirus', 3798: 'coronil', 3799: 'corp', 3800: 'corporate', 3801: 'corporates', 3802: 'corporation', 3803: 'corporations', 3804: 'corporator', 3805: 'corporators', 3806: 'corps', 3807: 'corpses', 3808: 'correct', 3809: 'corrected', 3810: 'corrections', 3811: 'corrective', 3812: 'correctly', 3813: 'corresponding', 3814: 'corridor', 3815: 'corroborate', 3816: 'corrupt', 3817: 'corrupted', 3818: 'corruption', 3819: 'cose', 3820: 'cosmetic', 3821: 'cosmetics', 3822: 'cosmologists', 3823: 'cosmology', 3824: 'cosmopolitan', 3825: 'cost', 3826: 'costa', 3827: 'costar', 3828: 'costarring', 3829: 'costars', 3830: 'costeffective', 3831: 'costing', 3832: 'costlier', 3833: 'costliness', 3834: 'costly', 3835: 'costs', 3836: 'costume', 3837: 'cosy', 3838: 'cots', 3839: 'cottl', 3840: 'cotton', 3841: 'cottons', 3842: 'cottrell', 3843: 'cough', 3844: 'coughing', 3845: 'coughs', 3846: 'could', 3847: 'couldnt', 3848: 'council', 3849: 'councillors', 3850: 'councils', 3851: 'counsel', 3852: 'counseling', 3853: 'counselling', 3854: 'counsels', 3855: 'count', 3856: 'counted', 3857: 'counter', 3858: 'countered', 3859: 'counterfeit', 3860: 'counterpart', 3861: 'counterterrorism', 3862: 'counting', 3863: 'countless', 3864: 'countries', 3865: 'country', 3866: 'countrymade', 3867: 'countrymen', 3868: 'countrys', 3869: 'counts', 3870: 'county', 3871: 'coup', 3872: 'couple', 3873: 'coupled', 3874: 'couples', 3875: 'couplets', 3876: 'courage', 3877: 'courageous', 3878: 'courageously', 3879: 'course', 3880: 'courses', 3881: 'court', 3882: 'courted', 3883: 'courtesan', 3884: 'courtesy', 3885: 'courtmonitored', 3886: 'courts', 3887: 'courtyard', 3888: 'cousin', 3889: 'cousins', 3890: 'covaxin', 3891: 'covenant', 3892: 'cover', 3893: 'coverage', 3894: 'coveralls', 3895: 'covered', 3896: 'covereth', 3897: 'covering', 3898: 'covers', 3899: 'coveting', 3900: 'covetousness', 3901: 'covey', 3902: 'covid', 3903: 'covidhelpugcgmailcom', 3904: 'covishield', 3905: 'cow', 3906: 'cowardliness', 3907: 'cows', 3908: 'coz', 3909: 'cp', 3910: 'cpa', 3911: 'cpcb', 3912: 'cpi', 3913: 'cpim', 3914: 'cpm', 3915: 'cprm', 3916: 'cpses', 3917: 'cpsus', 3918: 'cpt', 3919: 'cpu', 3920: 'cr', 3921: 'crabbing', 3922: 'crabs', 3923: 'crack', 3924: 'crackdown', 3925: 'cracked', 3926: 'cracks', 3927: 'crafted', 3928: 'craftsmen', 3929: 'craftspersons', 3930: 'crafty', 3931: 'craggy', 3932: 'crash', 3933: 'crashed', 3934: 'crashes', 3935: 'cratered', 3936: 'craters', 3937: 'crave', 3938: 'crawford', 3939: 'crazy', 3940: 'crche', 3941: 'cream', 3942: 'crease', 3943: 'create', 3944: 'created', 3945: 'creates', 3946: 'creating', 3947: 'creation', 3948: 'creative', 3949: 'creativity', 3950: 'creator', 3951: 'creature', 3952: 'creatures', 3953: 'credentials', 3954: 'credibility', 3955: 'credible', 3956: 'credit', 3957: 'creditable', 3958: 'creditdebit', 3959: 'credited', 3960: 'credits', 3961: 'creepers', 3962: 'creepy', 3963: 'cremated', 3964: 'crematorium', 3965: 'cricket', 3966: 'cricketer', 3967: 'cricketers', 3968: 'cricketerturnedcommentator', 3969: 'cricketing', 3970: 'cried', 3971: 'cries', 3972: 'criketot', 3973: 'crime', 3974: 'crimes', 3975: 'criminal', 3976: 'criminals', 3977: 'cringed', 3978: 'crippled', 3979: 'cripples', 3980: 'crisis', 3981: 'crisp', 3982: 'cristina', 3983: 'critic', 3984: 'critical', 3985: 'critically', 3986: 'criticise', 3987: 'criticised', 3988: 'criticising', 3989: 'criticism', 3990: 'criticisms', 3991: 'criticize', 3992: 'criticized', 3993: 'critics', 3994: 'croatia', 3995: 'crocodile', 3996: 'crocodiles', 3997: 'crop', 3998: 'cropped', 3999: 'cropping', 4000: 'crops', 4001: 'crore', 4002: 'crorebe', 4003: 'crorepati', 4004: 'crores', 4005: 'cross', 4006: 'crossborder', 4007: 'crossed', 4008: 'crossexamination', 4009: 'crosseyed', 4010: 'crosshairs', 4011: 'crossing', 4012: 'crossings', 4013: 'crossword', 4014: 'crowd', 4015: 'crowded', 4016: 'crowds', 4017: 'crowe', 4018: 'crown', 4019: 'crowned', 4020: 'crowns', 4021: 'crozier', 4022: 'crpc', 4023: 'crpf', 4024: 'crpfs', 4025: 'crr', 4026: 'crucial', 4027: 'crude', 4028: 'cruelty', 4029: 'cruise', 4030: 'crumble', 4031: 'crumbling', 4032: 'crusaders', 4033: 'crush', 4034: 'crushed', 4035: 'crushes', 4036: 'crushing', 4037: 'crust', 4038: 'crustaceans', 4039: 'cry', 4040: 'crying', 4041: 'cs', 4042: 'csb', 4043: 'cscs', 4044: 'csir', 4045: 'csk', 4046: 'cskiplteam', 4047: 'csmt', 4048: 'css', 4049: 'cst', 4050: 'ctri', 4051: 'cubits', 4052: 'cucumber', 4053: 'culminated', 4054: 'culmination', 4055: 'culprit', 4056: 'culprits', 4057: 'cultivate', 4058: 'cultivated', 4059: 'cultivating', 4060: 'cultivation', 4061: 'cultural', 4062: 'culturally', 4063: 'culture', 4064: 'cultures', 4065: 'culverts', 4066: 'cummins', 4067: 'cup', 4068: 'cupboard', 4069: 'cups', 4070: 'cupwinning', 4071: 'curation', 4072: 'curative', 4073: 'curb', 4074: 'curbing', 4075: 'curbs', 4076: 'curd', 4077: 'cure', 4078: 'cured', 4079: 'cures', 4080: 'curfew', 4081: 'curiosity', 4082: 'curious', 4083: 'curlyhaired', 4084: 'currency', 4085: 'current', 4086: 'currently', 4087: 'currents', 4088: 'curricula', 4089: 'curriculum', 4090: 'curry', 4091: 'curse', 4092: 'cursed', 4093: 'cursing', 4094: 'cusecs', 4095: 'cuses', 4096: 'cushioned', 4097: 'custody', 4098: 'custom', 4099: 'customary', 4100: 'customer', 4101: 'customers', 4102: 'customised', 4103: 'customize', 4104: 'customs', 4105: 'cut', 4106: 'cute', 4107: 'cuts', 4108: 'cutter', 4109: 'cutting', 4110: 'cwg', 4111: 'cyber', 4112: 'cyberabad', 4113: 'cycle', 4114: 'cycling', 4115: 'cyclone', 4116: 'cylinder', 4117: 'cylinders', 4118: 'cymbals', 4119: 'cypresses', 4120: 'cyprus', 4121: 'cyril', 4122: 'cyrus', 4123: 'd', 4124: 'da', 4125: 'dabang', 4126: 'dabangg', 4127: 'dabbled', 4128: 'dabbu', 4129: 'dabhoi', 4130: 'dabholkar', 4131: 'dacia', 4132: 'dacoits', 4133: 'dacoityaffected', 4134: 'dad', 4135: 'dada', 4136: 'dadagiri', 4137: 'dadapur', 4138: 'dadasaheb', 4139: 'dadra', 4140: 'daggubati', 4141: 'dahanu', 4142: 'dahej', 4143: 'daily', 4144: 'daina', 4145: 'dairy', 4146: 'daisy', 4147: 'dakota', 4148: 'dal', 4149: 'dalakoti', 4150: 'dalal', 4151: 'dalit', 4152: 'dalits', 4153: 'daljit', 4154: 'dallas', 4155: 'dalmiya', 4156: 'dalmiyas', 4157: 'dalton', 4158: 'dalunited', 4159: 'dam', 4160: 'damage', 4161: 'damaged', 4162: 'damaging', 4163: 'daman', 4164: 'damania', 4165: 'damascus', 4166: 'damselflies', 4167: 'damsels', 4168: 'damti', 4169: 'dan', 4170: 'dance', 4171: 'dancer', 4172: 'dancers', 4173: 'dancing', 4174: 'dandruff', 4175: 'dangal', 4176: 'danger', 4177: 'dangerous', 4178: 'dangerously', 4179: 'dangers', 4180: 'daniel', 4181: 'danielle', 4182: 'daniil', 4183: 'dankaur', 4184: 'dannykarl', 4185: 'dantewada', 4186: 'danve', 4187: 'dar', 4188: 'dara', 4189: 'dare', 4190: 'daredevils', 4191: 'dargah', 4192: 'darius', 4193: 'darjeeling', 4194: 'dark', 4195: 'darkish', 4196: 'darkness', 4197: 'darpg', 4198: 'darrang', 4199: 'darren', 4200: 'darshan', 4201: 'dart', 4202: 'darwin', 4203: 'das', 4204: 'dasa', 4205: 'dasauni', 4206: 'dashing', 4207: 'data', 4208: 'database', 4209: 'date', 4210: 'dated', 4211: 'dates', 4212: 'dating', 4213: 'datke', 4214: 'datta', 4215: 'dattatray', 4216: 'daughter', 4217: 'daughterdiya', 4218: 'daughterinlaw', 4219: 'daughters', 4220: 'daunted', 4221: 'dausa', 4222: 'david', 4223: 'davids', 4224: 'davp', 4225: 'dawes', 4226: 'dawn', 4227: 'dawood', 4228: 'day', 4229: 'daya', 4230: 'dayanand', 4231: 'dayananda', 4232: 'dayar', 4233: 'daynight', 4234: 'dayold', 4235: 'days', 4236: 'dayslips', 4237: 'daze', 4238: 'dbt', 4239: 'dc', 4240: 'dcor', 4241: 'dcp', 4242: 'dcpw', 4243: 'ddca', 4244: 'ddo', 4245: 'ddt', 4246: 'de', 4247: 'deactivated', 4248: 'dead', 4249: 'deadliest', 4250: 'deadline', 4251: 'deadlock', 4252: 'deadly', 4253: 'deaf', 4254: 'deal', 4255: 'dealers', 4256: 'dealing', 4257: 'dealings', 4258: 'deals', 4259: 'dealt', 4260: 'dean', 4261: 'dear', 4262: 'dearest', 4263: 'dearly', 4264: 'dearth', 4265: 'death', 4266: 'deaths', 4267: 'deb', 4268: 'debacle', 4269: 'debatable', 4270: 'debate', 4271: 'debated', 4272: 'debates', 4273: 'debris', 4274: 'debt', 4275: 'debtors', 4276: 'debts', 4277: 'debunked', 4278: 'debut', 4279: 'debutant', 4280: 'debuted', 4281: 'dec', 4282: 'decade', 4283: 'decades', 4284: 'decadesold', 4285: 'decay', 4286: 'deccan', 4287: 'deceased', 4288: 'december', 4289: 'deception', 4290: 'deceptive', 4291: 'decide', 4292: 'decided', 4293: 'decides', 4294: 'decision', 4295: 'decisionmaking', 4296: 'decisions', 4297: 'decisive', 4298: 'decked', 4299: 'declaration', 4300: 'declare', 4301: 'declared', 4302: 'declares', 4303: 'declaring', 4304: 'decline', 4305: 'declined', 4306: 'declines', 4307: 'declining', 4308: 'decongest', 4309: 'decorated', 4310: 'decoration', 4311: 'decorations', 4312: 'decrease', 4313: 'decreased', 4314: 'decreases', 4315: 'decreasing', 4316: 'decree', 4317: 'dedh', 4318: 'dedicate', 4319: 'dedicated', 4320: 'dedicatedly', 4321: 'dedicates', 4322: 'dedicating', 4323: 'dedication', 4324: 'deduction', 4325: 'deductors', 4326: 'deeds', 4327: 'deemed', 4328: 'deendayal', 4329: 'deep', 4330: 'deepak', 4331: 'deepen', 4332: 'deepened', 4333: 'deepening', 4334: 'deeper', 4335: 'deepest', 4336: 'deepika', 4337: 'deeply', 4338: 'deepraj', 4339: 'deepshikha', 4340: 'deepti', 4341: 'deewana', 4342: 'defamation', 4343: 'defamatory', 4344: 'defaming', 4345: 'default', 4346: 'defaulting', 4347: 'defeat', 4348: 'defeated', 4349: 'defeating', 4350: 'defeats', 4351: 'defecating', 4352: 'defecation', 4353: 'defection', 4354: 'defence', 4355: 'defend', 4356: 'defended', 4357: 'defending', 4358: 'defense', 4359: 'defenseless', 4360: 'defensive', 4361: 'deferring', 4362: 'defiant', 4363: 'deficient', 4364: 'deficit', 4365: 'defiled', 4366: 'defilement', 4367: 'define', 4368: 'defined', 4369: 'defines', 4370: 'definite', 4371: 'definitely', 4372: 'definition', 4373: 'definitions', 4374: 'deforestation', 4375: 'deformation', 4376: 'defrauding', 4377: 'defying', 4378: 'degradation', 4379: 'degrades', 4380: 'degree', 4381: 'degrees', 4382: 'degwekar', 4383: 'dehlvi', 4384: 'dehradun', 4385: 'dehu', 4386: 'dehumanizing', 4387: 'dehydrate', 4388: 'deinking', 4389: 'deities', 4390: 'deity', 4391: 'dejected', 4392: 'dekhoapnadesh', 4393: 'delay', 4394: 'delayed', 4395: 'delaying', 4396: 'delays', 4397: 'delegate', 4398: 'delegates', 4399: 'delegation', 4400: 'delete', 4401: 'deleted', 4402: 'deleting', 4403: 'deletion', 4404: 'delhi', 4405: 'delhii', 4406: 'delhimumbai', 4407: 'delhincr', 4408: 'delhis', 4409: 'deliberate', 4410: 'deliberated', 4411: 'deliberation', 4412: 'delicious', 4413: 'delight', 4414: 'delighted', 4415: 'delimitation', 4416: 'delirium', 4417: 'deliver', 4418: 'deliverance', 4419: 'delivered', 4420: 'deliveries', 4421: 'delivering', 4422: 'delivers', 4423: 'delivery', 4424: 'delphin', 4425: 'delray', 4426: 'deluge', 4427: 'delusional', 4428: 'demand', 4429: 'demanded', 4430: 'demanding', 4431: 'demands', 4432: 'demarcated', 4433: 'demerit', 4434: 'demetriades', 4435: 'demise', 4436: 'democracies', 4437: 'democracy', 4438: 'democratic', 4439: 'democratically', 4440: 'demographic', 4441: 'demolished', 4442: 'demolition', 4443: 'demon', 4444: 'demonetisation', 4445: 'demonetization', 4446: 'demonstrate', 4447: 'demonstrated', 4448: 'demonstration', 4449: 'demonstrators', 4450: 'demos', 4451: 'demoted', 4452: 'demu', 4453: 'demur', 4454: 'den', 4455: 'denarii', 4456: 'dengue', 4457: 'denial', 4458: 'denials', 4459: 'denied', 4460: 'denies', 4461: 'denmark', 4462: 'denomination', 4463: 'denounced', 4464: 'dense', 4465: 'density', 4466: 'dental', 4467: 'dented', 4468: 'dentistry', 4469: 'dentists', 4470: 'denver', 4471: 'deny', 4472: 'denying', 4473: 'deo', 4474: 'deol', 4475: 'deora', 4476: 'depart', 4477: 'departed', 4478: 'departement', 4479: 'departeth', 4480: 'department', 4481: 'departmental', 4482: 'departments', 4483: 'departs', 4484: 'departure', 4485: 'depend', 4486: 'dependence', 4487: 'dependent', 4488: 'depending', 4489: 'depends', 4490: 'depicting', 4491: 'depiction', 4492: 'depicts', 4493: 'depleted', 4494: 'deplorable', 4495: 'deployed', 4496: 'deployment', 4497: 'deported', 4498: 'depose', 4499: 'deposit', 4500: 'deposited', 4501: 'depositing', 4502: 'deposits', 4503: 'depreciation', 4504: 'depressed', 4505: 'depression', 4506: 'deprived', 4507: 'depth', 4508: 'deputation', 4509: 'deputed', 4510: 'deputies', 4511: 'deputy', 4512: 'deputysprank', 4513: 'derailed', 4514: 'derailment', 4515: 'derelict', 4516: 'derived', 4517: 'des', 4518: 'desai', 4519: 'desam', 4520: 'descendants', 4521: 'descended', 4522: 'descent', 4523: 'describe', 4524: 'described', 4525: 'describes', 4526: 'description', 4527: 'desert', 4528: 'deserted', 4529: 'deserved', 4530: 'deserves', 4531: 'deserving', 4532: 'deshikendra', 4533: 'deshmukh', 4534: 'deshpande', 4535: 'design', 4536: 'designate', 4537: 'designated', 4538: 'designed', 4539: 'designer', 4540: 'designers', 4541: 'designing', 4542: 'designs', 4543: 'desirable', 4544: 'desire', 4545: 'desired', 4546: 'desires', 4547: 'desk', 4548: 'deskbar', 4549: 'desktop', 4550: 'desolate', 4551: 'desolation', 4552: 'despair', 4553: 'despenser', 4554: 'desperate', 4555: 'despised', 4556: 'despising', 4557: 'despite', 4558: 'despondent', 4559: 'destabilise', 4560: 'destination', 4561: 'destinations', 4562: 'destiny', 4563: 'destitute', 4564: 'destroy', 4565: 'destroyed', 4566: 'destroyeth', 4567: 'destroying', 4568: 'destruction', 4569: 'destructive', 4570: 'det', 4571: 'detachable', 4572: 'detachments', 4573: 'detail', 4574: 'detailed', 4575: 'details', 4576: 'detained', 4577: 'detainees', 4578: 'detect', 4579: 'detected', 4580: 'detection', 4581: 'detective', 4582: 'detector', 4583: 'detects', 4584: 'detention', 4585: 'deteriorate', 4586: 'deteriorated', 4587: 'deteriorating', 4588: 'determination', 4589: 'determine', 4590: 'determined', 4591: 'determines', 4592: 'deterrent', 4593: 'detest', 4594: 'dethroned', 4595: 'detrimental', 4596: 'detroit', 4597: 'deut', 4598: 'deuteronomy', 4599: 'dev', 4600: 'devastated', 4601: 'devastating', 4602: 'devdas', 4603: 'develop', 4604: 'developed', 4605: 'developing', 4606: 'development', 4607: 'developmental', 4608: 'developmentjai', 4609: 'developments', 4610: 'developmentsantosh', 4611: 'develops', 4612: 'devendra', 4613: 'devendranath', 4614: 'deveshwar', 4615: 'devgan', 4616: 'devgn', 4617: 'devgns', 4618: 'devi', 4619: 'device', 4620: 'devices', 4621: 'devil', 4622: 'devils', 4623: 'devinagara', 4624: 'devised', 4625: 'deviseth', 4626: 'devo', 4627: 'devolution', 4628: 'devoted', 4629: 'devotee', 4630: 'devotees', 4631: 'devoting', 4632: 'devotion', 4633: 'devs', 4634: 'devyanikhobragade', 4635: 'dewan', 4636: 'dewas', 4637: 'dg', 4638: 'dgca', 4639: 'dgp', 4640: 'dgs', 4641: 'dhabi', 4642: 'dhadak', 4643: 'dhag', 4644: 'dhahajan', 4645: 'dhaiakhar', 4646: 'dhaka', 4647: 'dhamaal', 4648: 'dhams', 4649: 'dhan', 4650: 'dhananjay', 4651: 'dhanaulti', 4652: 'dhanjaya', 4653: 'dhanoa', 4654: 'dhanorkars', 4655: 'dhanurdas', 4656: 'dhanush', 4657: 'dhanvantri', 4658: 'dhar', 4659: 'dharam', 4660: 'dharamji', 4661: 'dharamshala', 4662: 'dharashiv', 4663: 'dharma', 4664: 'dharmalife', 4665: 'dharmender', 4666: 'dharmendra', 4667: 'dharmendras', 4668: 'dharmshalas', 4669: 'dharwad', 4670: 'dhattiwala', 4671: 'dhawale', 4672: 'dhawan', 4673: 'dhinchak', 4674: 'dhobi', 4675: 'dhoke', 4676: 'dholpur', 4677: 'dhoni', 4678: 'dhonis', 4679: 'dhoom', 4680: 'dhotare', 4681: 'dhule', 4682: 'dhulia', 4683: 'dhumal', 4684: 'dia', 4685: 'diabetes', 4686: 'diabetic', 4687: 'diabetics', 4688: 'diables', 4689: 'diagnosed', 4690: 'diagnosis', 4691: 'diagnostic', 4692: 'diagnostics', 4693: 'dialog', 4694: 'dialogs', 4695: 'dialogue', 4696: 'dialogues', 4697: 'dialysis', 4698: 'diamantaire', 4699: 'diameter', 4700: 'diamond', 4701: 'diamonds', 4702: 'diane', 4703: 'diarrhoea', 4704: 'diary', 4705: 'dias', 4706: 'dices', 4707: 'dickinson', 4708: 'dictate', 4709: 'dictatorial', 4710: 'dictatorship', 4711: 'dictionary', 4712: 'dictionnaire', 4713: 'did', 4714: 'didier', 4715: 'didnt', 4716: 'didst', 4717: 'die', 4718: 'died', 4719: 'dies', 4720: 'diesel', 4721: 'diet', 4722: 'differ', 4723: 'difference', 4724: 'differences', 4725: 'different', 4726: 'differentiates', 4727: 'differently', 4728: 'difficult', 4729: 'difficulties', 4730: 'difficulty', 4731: 'diffuse', 4732: 'diffused', 4733: 'diffusion', 4734: 'dig', 4735: 'digestion', 4736: 'digging', 4737: 'dighe', 4738: 'digidhan', 4739: 'digital', 4740: 'digitally', 4741: 'dignified', 4742: 'dignitaries', 4743: 'dignity', 4744: 'digressed', 4745: 'digvijay', 4746: 'digvijaya', 4747: 'diji', 4748: 'dikhhla', 4749: 'dikshit', 4750: 'dilbag', 4751: 'dilemma', 4752: 'diligent', 4753: 'diligently', 4754: 'dilip', 4755: 'diljit', 4756: 'dilli', 4757: 'dilpreet', 4758: 'dimapur', 4759: 'dimension', 4760: 'diminish', 4761: 'diminishes', 4762: 'diminishing', 4763: 'dimitrov', 4764: 'dimmed', 4765: 'dimple', 4766: 'dimuth', 4767: 'din', 4768: 'dinanath', 4769: 'dindoshi', 4770: 'dine', 4771: 'dinesh', 4772: 'dinner', 4773: 'dionysus', 4774: 'dioxide', 4775: 'dip', 4776: 'dipa', 4777: 'dipak', 4778: 'dipankar', 4779: 'dipesh', 4780: 'diploma', 4781: 'diplomat', 4782: 'dipped', 4783: 'dire', 4784: 'direct', 4785: 'directed', 4786: 'directing', 4787: 'direction', 4788: 'directional', 4789: 'directions', 4790: 'directive', 4791: 'directives', 4792: 'directly', 4793: 'director', 4794: 'directorate', 4795: 'directorgeneral', 4796: 'directorial', 4797: 'directorials', 4798: 'directorlevel', 4799: 'directors', 4800: 'directory', 4801: 'directs', 4802: 'dirtiest', 4803: 'dirty', 4804: 'disabilities', 4805: 'disable', 4806: 'disabled', 4807: 'disadvantage', 4808: 'disadvantages', 4809: 'disaffection', 4810: 'disagree', 4811: 'disagreements', 4812: 'disagrees', 4813: 'disappearance', 4814: 'disappeared', 4815: 'disappointed', 4816: 'disappointing', 4817: 'disappointment', 4818: 'disaster', 4819: 'disasterpreparedness', 4820: 'disasters', 4821: 'disastrous', 4822: 'disbelief', 4823: 'disbursed', 4824: 'disbursement', 4825: 'disbursements', 4826: 'disbursing', 4827: 'discern', 4828: 'discerning', 4829: 'discernment', 4830: 'discharge', 4831: 'discharged', 4832: 'discharging', 4833: 'disciple', 4834: 'disciples', 4835: 'disciplinary', 4836: 'discipline', 4837: 'disciplined', 4838: 'disciplines', 4839: 'disclaimer', 4840: 'disclose', 4841: 'disclosed', 4842: 'disclosing', 4843: 'disclosure', 4844: 'discomfort', 4845: 'discontent', 4846: 'discontentment', 4847: 'discord', 4848: 'discounts', 4849: 'discourage', 4850: 'discouraged', 4851: 'discouragement', 4852: 'discouraging', 4853: 'discourse', 4854: 'discover', 4855: 'discovered', 4856: 'discoveries', 4857: 'discovering', 4858: 'discovery', 4859: 'discredit', 4860: 'discredited', 4861: 'discreet', 4862: 'discreetly', 4863: 'discretion', 4864: 'discriminate', 4865: 'discrimination', 4866: 'discuss', 4867: 'discussed', 4868: 'discussing', 4869: 'discussion', 4870: 'discussions', 4871: 'disease', 4872: 'diseased', 4873: 'diseases', 4874: 'disfellowshipped', 4875: 'disfigured', 4876: 'disgraceful', 4877: 'disguising', 4878: 'dish', 4879: 'disha', 4880: 'disheartened', 4881: 'dishes', 4882: 'dishonest', 4883: 'dishonor', 4884: 'disillusioned', 4885: 'disinvestment', 4886: 'disk', 4887: 'dislike', 4888: 'disloyal', 4889: 'dismal', 4890: 'dismiss', 4891: 'dismissal', 4892: 'dismissed', 4893: 'dismisses', 4894: 'disobedient', 4895: 'disobey', 4896: 'disobeying', 4897: 'disorder', 4898: 'disorientation', 4899: 'disown', 4900: 'dispatch', 4901: 'dispelled', 4902: 'dispels', 4903: 'dispensation', 4904: 'dispense', 4905: 'dispensers', 4906: 'disperse', 4907: 'displaced', 4908: 'displacements', 4909: 'display', 4910: 'displayed', 4911: 'displaying', 4912: 'displays', 4913: 'displease', 4914: 'displeasing', 4915: 'displeasure', 4916: 'disposable', 4917: 'disposal', 4918: 'disposed', 4919: 'disposing', 4920: 'disposition', 4921: 'dispossess', 4922: 'disproportionate', 4923: 'dispur', 4924: 'dispute', 4925: 'disputed', 4926: 'disputes', 4927: 'disqualification', 4928: 'disqualify', 4929: 'disquieting', 4930: 'disregard', 4931: 'disrespect', 4932: 'disrespectful', 4933: 'disrupted', 4934: 'disruption', 4935: 'disruptive', 4936: 'dissatisfied', 4937: 'dissc', 4938: 'disseminate', 4939: 'disseminating', 4940: 'dissent', 4941: 'disservice', 4942: 'dissident', 4943: 'dissidents', 4944: 'dissolution', 4945: 'dissolved', 4946: 'dissuade', 4947: 'dist', 4948: 'distance', 4949: 'distanced', 4950: 'distances', 4951: 'distancing', 4952: 'distant', 4953: 'distasteful', 4954: 'distinct', 4955: 'distinction', 4956: 'distinguish', 4957: 'distinguished', 4958: 'distinguishing', 4959: 'distorted', 4960: 'distorting', 4961: 'distortion', 4962: 'distracted', 4963: 'distractions', 4964: 'distress', 4965: 'distressed', 4966: 'distressing', 4967: 'distribute', 4968: 'distributed', 4969: 'distributing', 4970: 'distribution', 4971: 'district', 4972: 'districtlevel', 4973: 'districts', 4974: 'disturb', 4975: 'disturbances', 4976: 'disturbed', 4977: 'disturbing', 4978: 'dit', 4979: 'diu', 4980: 'diva', 4981: 'divakar', 4982: 'dive', 4983: 'diverse', 4984: 'diversification', 4985: 'diversified', 4986: 'diversities', 4987: 'diversity', 4988: 'divert', 4989: 'diverted', 4990: 'divide', 4991: 'divided', 4992: 'dividend', 4993: 'dividends', 4994: 'divine', 4995: 'divinely', 4996: 'division', 4997: 'divisional', 4998: 'divisions', 4999: 'divisive', 5000: 'divorce', 5001: 'divorced', 5002: 'divorcee', 5003: 'divorcing', 5004: 'divya', 5005: 'divyangs', 5006: 'diwaker', 5007: 'diwali', 5008: 'diwana', 5009: 'dixit', 5010: 'dixitfilmmaker', 5011: 'diyas', 5012: 'dizzy', 5013: 'dj', 5014: 'djokovic', 5015: 'djs', 5016: 'dk', 5017: 'dks', 5018: 'dlitt', 5019: 'dm', 5020: 'dmk', 5021: 'dn', 5022: 'dna', 5023: 'dnyaneshwar', 5024: 'do', 5025: 'dockbar', 5026: 'doctor', 5027: 'doctoral', 5028: 'doctors', 5029: 'doctrine', 5030: 'document', 5031: 'documentary', 5032: 'documentation', 5033: 'documenting', 5034: 'documents', 5035: 'doer', 5036: 'does', 5037: 'doesnt', 5038: 'doeth', 5039: 'dog', 5040: 'dogmatic', 5041: 'dogra', 5042: 'dogs', 5043: 'doing', 5044: 'doklam', 5045: 'dola', 5046: 'dolby', 5047: 'dollar', 5048: 'dollars', 5049: 'dolls', 5050: 'dom', 5051: 'domain', 5052: 'dombivali', 5053: 'dombivli', 5054: 'domestic', 5055: 'domestics', 5056: 'domiciliary', 5057: 'dominant', 5058: 'dominated', 5059: 'dominic', 5060: 'dominion', 5061: 'domnguez', 5062: 'don', 5063: 'donald', 5064: 'donate', 5065: 'donated', 5066: 'donates', 5067: 'donation', 5068: 'donations', 5069: 'done', 5070: 'doner', 5071: 'donkeys', 5072: 'donning', 5073: 'donor', 5074: 'dont', 5075: 'doon', 5076: 'door', 5077: 'doorkeepers', 5078: 'doors', 5079: 'doorstep', 5080: 'dopants', 5081: 'dopt', 5082: 'dora', 5083: 'doris', 5084: 'dosanjh', 5085: 'doses', 5086: 'dost', 5087: 'doth', 5088: 'dottie', 5089: 'double', 5090: 'doubled', 5091: 'doubles', 5092: 'doubling', 5093: 'doubt', 5094: 'doubted', 5095: 'doubtless', 5096: 'doubts', 5097: 'dough', 5098: 'douse', 5099: 'doused', 5100: 'doval', 5101: 'dove', 5102: 'down', 5103: 'downed', 5104: 'download', 5105: 'downloads', 5106: 'downpour', 5107: 'downright', 5108: 'downstream', 5109: 'downtown', 5110: 'downtrodden', 5111: 'downturns', 5112: 'dowry', 5113: 'doyen', 5114: 'dozen', 5115: 'dpe', 5116: 'dppw', 5117: 'dprk', 5118: 'dr', 5119: 'draconian', 5120: 'draft', 5121: 'drafted', 5122: 'drafts', 5123: 'drag', 5124: 'dragged', 5125: 'dragging', 5126: 'dragon', 5127: 'drags', 5128: 'drain', 5129: 'drained', 5130: 'drains', 5131: 'drama', 5132: 'dramatic', 5133: 'dramatically', 5134: 'drank', 5135: 'drastic', 5136: 'drastically', 5137: 'draupadi', 5138: 'dravid', 5139: 'draw', 5140: 'drawing', 5141: 'drawings', 5142: 'drawn', 5143: 'draws', 5144: 'drdo', 5145: 'drdos', 5146: 'dread', 5147: 'dreadful', 5148: 'dream', 5149: 'dreaming', 5150: 'dreams', 5151: 'dress', 5152: 'dressed', 5153: 'drew', 5154: 'dri', 5155: 'dried', 5156: 'dries', 5157: 'drift', 5158: 'drills', 5159: 'drink', 5160: 'drinketh', 5161: 'drinking', 5162: 'drinks', 5163: 'dripping', 5164: 'drive', 5165: 'driven', 5166: 'driver', 5167: 'drivers', 5168: 'drives', 5169: 'driving', 5170: 'drizzling', 5171: 'drkshatrapatishivaji', 5172: 'drone', 5173: 'drones', 5174: 'drop', 5175: 'dropdown', 5176: 'droplets', 5177: 'dropped', 5178: 'dropping', 5179: 'drops', 5180: 'dropsy', 5181: 'drought', 5182: 'droughtaffected', 5183: 'droughthit', 5184: 'drove', 5185: 'drown', 5186: 'drowned', 5187: 'drowsiness', 5188: 'drt', 5189: 'drug', 5190: 'drugged', 5191: 'drugpoisoning', 5192: 'drugrelated', 5193: 'drugs', 5194: 'druim', 5195: 'drunk', 5196: 'drunkards', 5197: 'drunken', 5198: 'dry', 5199: 'drying', 5200: 'ds', 5201: 'dso', 5202: 'dsouzacame', 5203: 'dsp', 5204: 'dtat', 5205: 'dth', 5206: 'dtrdsr', 5207: 'du', 5208: 'dual', 5209: 'dualclutch', 5210: 'dubai', 5211: 'dubare', 5212: 'dubbak', 5213: 'dubbed', 5214: 'dubey', 5215: 'dubs', 5216: 'duchy', 5217: 'duck', 5218: 'ducks', 5219: 'dud', 5220: 'due', 5221: 'dues', 5222: 'duflo', 5223: 'dug', 5224: 'duhan', 5225: 'dull', 5226: 'dulquer', 5227: 'duly', 5228: 'dumkachaibasa', 5229: 'dumped', 5230: 'dumper', 5231: 'dumping', 5232: 'dunes', 5233: 'dungareerelevant', 5234: 'dungri', 5235: 'dunhams', 5236: 'duo', 5237: 'dupattas', 5238: 'duplex', 5239: 'duration', 5240: 'durbar', 5241: 'durga', 5242: 'during', 5243: 'duronto', 5244: 'durran', 5245: 'dushyant', 5246: 'dust', 5247: 'duststorm', 5248: 'dusu', 5249: 'dutch', 5250: 'duties', 5251: 'dutt', 5252: 'dutta', 5253: 'duttas', 5254: 'dutts', 5255: 'duty', 5256: 'dv', 5257: 'dwarf', 5258: 'dwarika', 5259: 'dweep', 5260: 'dwell', 5261: 'dwelling', 5262: 'dwells', 5263: 'dwelt', 5264: 'dwindled', 5265: 'dwindling', 5266: 'dwivedi', 5267: 'dxb', 5268: 'dybala', 5269: 'dyed', 5270: 'dyeing', 5271: 'dying', 5272: 'dynamics', 5273: 'dzire', 5274: 'e', 5275: 'each', 5276: 'eager', 5277: 'eagerly', 5278: 'eagle', 5279: 'eames', 5280: 'earlier', 5281: 'earliest', 5282: 'early', 5283: 'earmarked', 5284: 'earn', 5285: 'earned', 5286: 'earnest', 5287: 'earnestly', 5288: 'earning', 5289: 'earnings', 5290: 'earns', 5291: 'earphones', 5292: 'earth', 5293: 'earthly', 5294: 'earthquake', 5295: 'earthquakes', 5296: 'earths', 5297: 'ease', 5298: 'eases', 5299: 'easier', 5300: 'easily', 5301: 'east', 5302: 'easter', 5303: 'eastern', 5304: 'easy', 5305: 'easytouse', 5306: 'eat', 5307: 'eaten', 5308: 'eateries', 5309: 'eateth', 5310: 'eating', 5311: 'eats', 5312: 'ebd', 5313: 'eber', 5314: 'ebola', 5315: 'ebook', 5316: 'ebooks', 5317: 'ebrahim', 5318: 'echo', 5319: 'eci', 5320: 'ecigarettes', 5321: 'eclipse', 5322: 'ecological', 5323: 'ecommerce', 5324: 'economic', 5325: 'economically', 5326: 'economics', 5327: 'economies', 5328: 'economist', 5329: 'economists', 5330: 'economy', 5331: 'economyfirst', 5332: 'ecosystem', 5333: 'ecuadors', 5334: 'ed', 5335: 'edavannapara', 5336: 'edave', 5337: 'eden', 5338: 'edge', 5339: 'edges', 5340: 'edible', 5341: 'edict', 5342: 'edii', 5343: 'edinburgh', 5344: 'edition', 5345: 'editor', 5346: 'editorial', 5347: 'editorship', 5348: 'edlc', 5349: 'edom', 5350: 'eds', 5351: 'educate', 5352: 'educated', 5353: 'educating', 5354: 'education', 5355: 'educational', 5356: 'educationist', 5357: 'edward', 5358: 'eeu', 5359: 'effect', 5360: 'effective', 5361: 'effectively', 5362: 'effects', 5363: 'efficient', 5364: 'effigy', 5365: 'effort', 5366: 'efforts', 5367: 'efx', 5368: 'egg', 5369: 'eggs', 5370: 'egms', 5371: 'egramswaraj', 5372: 'egranthalaya', 5373: 'egypt', 5374: 'egyptian', 5375: 'egyptians', 5376: 'ehsaan', 5377: 'ehsan', 5378: 'ehsanullah', 5379: 'eid', 5380: 'eight', 5381: 'eighteen', 5382: 'eighteenth', 5383: 'eighth', 5384: 'einstein', 5385: 'einsteins', 5386: 'eisenhowers', 5387: 'either', 5388: 'eject', 5389: 'ek', 5390: 'ekana', 5391: 'eknath', 5392: 'ekta', 5393: 'ekyc', 5394: 'elaborate', 5395: 'elastographic', 5396: 'elated', 5397: 'elbows', 5398: 'elder', 5399: 'elderly', 5400: 'elders', 5401: 'eldest', 5402: 'elearning', 5403: 'eleazar', 5404: 'elect', 5405: 'elected', 5406: 'electing', 5407: 'election', 5408: 'elections', 5409: 'electoral', 5410: 'electorate', 5411: 'electric', 5412: 'electricity', 5413: 'electrification', 5414: 'electrified', 5415: 'electrify', 5416: 'electrochemical', 5417: 'electrocuted', 5418: 'electrode', 5419: 'electrolyte', 5420: 'electron', 5421: 'electronic', 5422: 'electronics', 5423: 'electrons', 5424: 'elects', 5425: 'elegant', 5426: 'element', 5427: 'elementary', 5428: 'elementrequestfullscreen', 5429: 'elements', 5430: 'elephant', 5431: 'elephants', 5432: 'elevated', 5433: 'elevates', 5434: 'elevation', 5435: 'elevator', 5436: 'eleven', 5437: 'eleventh', 5438: 'elf', 5439: 'elgar', 5440: 'eli', 5441: 'eligibility', 5442: 'eligible', 5443: 'elijah', 5444: 'eliminate', 5445: 'eliminated', 5446: 'eliminating', 5447: 'elimination', 5448: 'eliquid', 5449: 'elis', 5450: 'elisha', 5451: 'elishas', 5452: 'elisheba', 5453: 'eliyahu', 5454: 'elizabeth', 5455: 'ellore', 5456: 'elongate', 5457: 'elphinstone', 5458: 'else', 5459: 'elses', 5460: 'elsewhere', 5461: 'elss', 5462: 'email', 5463: 'emailaddress', 5464: 'emanate', 5465: 'emanates', 5466: 'emanating', 5467: 'emancipate', 5468: 'embankment', 5469: 'embark', 5470: 'embarks', 5471: 'embarrassed', 5472: 'embassy', 5473: 'embedded', 5474: 'emblem', 5475: 'embodies', 5476: 'embody', 5477: 'embrace', 5478: 'embraced', 5479: 'emerald', 5480: 'emerge', 5481: 'emerged', 5482: 'emergency', 5483: 'emerging', 5484: 'emery', 5485: 'eminent', 5486: 'eminently', 5487: 'emirates', 5488: 'emisat', 5489: 'emission', 5490: 'emissions', 5491: 'emmas', 5492: 'emmotland', 5493: 'emotional', 5494: 'emotionally', 5495: 'emotions', 5496: 'empathetic', 5497: 'empathy', 5498: 'emperor', 5499: 'emperors', 5500: 'emphasis', 5501: 'emphasised', 5502: 'emphasises', 5503: 'emphasize', 5504: 'emphasized', 5505: 'emphasizes', 5506: 'emphatic', 5507: 'emphatically', 5508: 'empire', 5509: 'employed', 5510: 'employee', 5511: 'employees', 5512: 'employment', 5513: 'employs', 5514: 'emporis', 5515: 'empower', 5516: 'empowered', 5517: 'empowering', 5518: 'empowerment', 5519: 'empowers', 5520: 'empress', 5521: 'empty', 5522: 'emraan', 5523: 'emu', 5524: 'enable', 5525: 'enabled', 5526: 'enables', 5527: 'enabling', 5528: 'enacted', 5529: 'enam', 5530: 'enap', 5531: 'encamped', 5532: 'encashed', 5533: 'encephalitisresearch', 5534: 'encircled', 5535: 'enclave', 5536: 'enclaves', 5537: 'enclosure', 5538: 'encoding', 5539: 'encompass', 5540: 'encompassing', 5541: 'encounter', 5542: 'encountered', 5543: 'encounters', 5544: 'encourage', 5545: 'encouraged', 5546: 'encouragement', 5547: 'encourages', 5548: 'encouraging', 5549: 'encyclopedia', 5550: 'end', 5551: 'endangered', 5552: 'endearing', 5553: 'endeavor', 5554: 'endeavoring', 5555: 'endeavors', 5556: 'endeavour', 5557: 'endeavours', 5558: 'ended', 5559: 'ending', 5560: 'endless', 5561: 'endorse', 5562: 'endorsed', 5563: 'endorsement', 5564: 'ends', 5565: 'endurance', 5566: 'endure', 5567: 'enduser', 5568: 'enemies', 5569: 'enemy', 5570: 'energetic', 5571: 'energy', 5572: 'enfield', 5573: 'enforced', 5574: 'enforcement', 5575: 'enforcing', 5576: 'eng', 5577: 'engage', 5578: 'engaged', 5579: 'engagement', 5580: 'engagements', 5581: 'engaging', 5582: 'engine', 5583: 'engineer', 5584: 'engineered', 5585: 'engineering', 5586: 'engineers', 5587: 'engines', 5588: 'england', 5589: 'englands', 5590: 'english', 5591: 'engulfed', 5592: 'enhance', 5593: 'enhanced', 5594: 'enhances', 5595: 'enhancing', 5596: 'enjoy', 5597: 'enjoyed', 5598: 'enjoying', 5599: 'enjoys', 5600: 'enlarge', 5601: 'enlighten', 5602: 'enlightenment', 5603: 'enlist', 5604: 'enoch', 5605: 'enon', 5606: 'enormous', 5607: 'enormously', 5608: 'enough', 5609: 'enquire', 5610: 'enquired', 5611: 'enquiry', 5612: 'enraged', 5613: 'enriched', 5614: 'enrol', 5615: 'enrolled', 5616: 'enrolment', 5617: 'enroute', 5618: 'enslaved', 5619: 'ensnare', 5620: 'ensuing', 5621: 'ensure', 5622: 'ensured', 5623: 'ensures', 5624: 'ensuring', 5625: 'entail', 5626: 'entangles', 5627: 'enter', 5628: 'entered', 5629: 'entering', 5630: 'enterprises', 5631: 'enters', 5632: 'entertain', 5633: 'entertained', 5634: 'entertainment', 5635: 'enthralled', 5636: 'enthused', 5637: 'enthusiasm', 5638: 'enthusiast', 5639: 'enthusiastic', 5640: 'enthusiastically', 5641: 'enthusiasts', 5642: 'entice', 5643: 'enticements', 5644: 'entire', 5645: 'entirely', 5646: 'entirety', 5647: 'entities', 5648: 'entitled', 5649: 'entity', 5650: 'entrance', 5651: 'entrances', 5652: 'entreat', 5653: 'entrenched', 5654: 'entrepreneur', 5655: 'entrepreneurial', 5656: 'entrepreneurs', 5657: 'entrepreneurship', 5658: 'entries', 5659: 'entrusted', 5660: 'entry', 5661: 'enumerating', 5662: 'envious', 5663: 'environment', 5664: 'environmental', 5665: 'environmentalists', 5666: 'environmentfriendly', 5667: 'envisages', 5668: 'envisioning', 5669: 'envisions', 5670: 'envoy', 5671: 'envy', 5672: 'eoin', 5673: 'ep', 5674: 'epan', 5675: 'epermit', 5676: 'epfo', 5677: 'eph', 5678: 'ephesians', 5679: 'ephesus', 5680: 'ephraim', 5681: 'ephratah', 5682: 'epic', 5683: 'epicentre', 5684: 'epidemiologist', 5685: 'epilepsy', 5686: 'episode', 5687: 'epitome', 5688: 'equal', 5689: 'equalised', 5690: 'equality', 5691: 'equally', 5692: 'equate', 5693: 'equated', 5694: 'equator', 5695: 'equipment', 5696: 'equipments', 5697: 'equipped', 5698: 'equitable', 5699: 'equity', 5700: 'equivalent', 5701: 'equus', 5702: 'era', 5703: 'eradicate', 5704: 'eradicating', 5705: 'eradication', 5706: 'eras', 5707: 'ericsson', 5708: 'erik', 5709: 'erika', 5710: 'ernakulam', 5711: 'erode', 5712: 'eroded', 5713: 'errands', 5714: 'erratic', 5715: 'error', 5716: 'errors', 5717: 'errs', 5718: 'erstwhile', 5719: 'erupted', 5720: 'eruptive', 5721: 'erupts', 5722: 'es', 5723: 'esau', 5724: 'escalated', 5725: 'escalating', 5726: 'escape', 5727: 'escaped', 5728: 'escapes', 5729: 'eservice', 5730: 'esha', 5731: 'especially', 5732: 'esper', 5733: 'espionage', 5734: 'espncricinfo', 5735: 'espncricinfocom', 5736: 'essay', 5737: 'essayed', 5738: 'essays', 5739: 'essential', 5740: 'essentially', 5741: 'essentials', 5742: 'establish', 5743: 'established', 5744: 'establishing', 5745: 'establishment', 5746: 'establishments', 5747: 'estate', 5748: 'estates', 5749: 'esteem', 5750: 'estharla', 5751: 'esther', 5752: 'estimate', 5753: 'estimated', 5754: 'estimates', 5755: 'estimation', 5756: 'estonia', 5757: 'estonian', 5758: 'estrogen', 5759: 'etah', 5760: 'etc', 5761: 'etcetera', 5762: 'eternal', 5763: 'eternally', 5764: 'eternity', 5765: 'etf', 5766: 'ethereal', 5767: 'ethical', 5768: 'ethics', 5769: 'ethiopia', 5770: 'ethnic', 5771: 'etienne', 5772: 'eu', 5773: 'eucalyptus', 5774: 'euphoria', 5775: 'eurasian', 5776: 'europe', 5777: 'european', 5778: 'europen', 5779: 'europes', 5780: 'ev', 5781: 'eva', 5782: 'evacuated', 5783: 'evacuation', 5784: 'evaluated', 5785: 'evangelical', 5786: 'evangelizers', 5787: 'evasion', 5788: 'evdo', 5789: 'eve', 5790: 'evelyn', 5791: 'even', 5792: 'evening', 5793: 'evenings', 5794: 'event', 5795: 'events', 5796: 'eventual', 5797: 'eventuality', 5798: 'eventually', 5799: 'ever', 5800: 'everest', 5801: 'everlasting', 5802: 'every', 5803: 'everybody', 5804: 'everybodys', 5805: 'everyday', 5806: 'everyone', 5807: 'everyonelove', 5808: 'everyones', 5809: 'everything', 5810: 'everythings', 5811: 'everywhere', 5812: 'eves', 5813: 'evian', 5814: 'evicted', 5815: 'evidence', 5816: 'evidenced', 5817: 'evident', 5818: 'evidently', 5819: 'evil', 5820: 'evils', 5821: 'evilsin', 5822: 'evin', 5823: 'evisa', 5824: 'evm', 5825: 'evms', 5826: 'evoke', 5827: 'evoked', 5828: 'evolution', 5829: 'evolutionary', 5830: 'evolve', 5831: 'evolved', 5832: 'evolves', 5833: 'evolving', 5834: 'ewen', 5835: 'ex', 5836: 'exacerbate', 5837: 'exact', 5838: 'exactly', 5839: 'exaggerating', 5840: 'exalt', 5841: 'exaltation', 5842: 'exalted', 5843: 'exalts', 5844: 'exam', 5845: 'examination', 5846: 'examinations', 5847: 'examine', 5848: 'examined', 5849: 'examines', 5850: 'examining', 5851: 'example', 5852: 'examples', 5853: 'exams', 5854: 'exceeding', 5855: 'exceedingly', 5856: 'excelled', 5857: 'excellence', 5858: 'excellencies', 5859: 'excellency', 5860: 'excellent', 5861: 'except', 5862: 'exception', 5863: 'exceptional', 5864: 'exceptionally', 5865: 'excess', 5866: 'excesses', 5867: 'excessive', 5868: 'exchange', 5869: 'exchanged', 5870: 'exchanges', 5871: 'exchanging', 5872: 'exchief', 5873: 'excise', 5874: 'excited', 5875: 'excitement', 5876: 'exciting', 5877: 'exclaimed', 5878: 'excluded', 5879: 'excluding', 5880: 'exclusive', 5881: 'exclusively', 5882: 'excongress', 5883: 'excuse', 5884: 'excuses', 5885: 'executed', 5886: 'executing', 5887: 'execution', 5888: 'executive', 5889: 'executives', 5890: 'exegesis', 5891: 'exemplary', 5892: 'exempted', 5893: 'exercise', 5894: 'exercised', 5895: 'exercises', 5896: 'exercising', 5897: 'exerts', 5898: 'exfoliation', 5899: 'exhibited', 5900: 'exhibition', 5901: 'exhibitioncumdemonstration', 5902: 'exhibitioncumseminar', 5903: 'exhibitions', 5904: 'exhome', 5905: 'exhortation', 5906: 'exhorted', 5907: 'exhorts', 5908: 'exhume', 5909: 'exhumed', 5910: 'exhusband', 5911: 'exile', 5912: 'exiled', 5913: 'exist', 5914: 'existed', 5915: 'existence', 5916: 'existing', 5917: 'exists', 5918: 'exit', 5919: 'exits', 5920: 'exlegislator', 5921: 'exlok', 5922: 'exmayor', 5923: 'exminister', 5924: 'exmoor', 5925: 'exodus', 5926: 'exoplanet', 5927: 'expacer', 5928: 'expand', 5929: 'expandable', 5930: 'expanded', 5931: 'expanding', 5932: 'expands', 5933: 'expansion', 5934: 'expect', 5935: 'expectancy', 5936: 'expectation', 5937: 'expectations', 5938: 'expected', 5939: 'expecting', 5940: 'expediting', 5941: 'expelled', 5942: 'expenditure', 5943: 'expense', 5944: 'expenses', 5945: 'expensive', 5946: 'experience', 5947: 'experienced', 5948: 'experiences', 5949: 'experiencing', 5950: 'experiment', 5951: 'experimental', 5952: 'experimentation', 5953: 'experimented', 5954: 'experimenting', 5955: 'experiments', 5956: 'expert', 5957: 'expertise', 5958: 'experts', 5959: 'explain', 5960: 'explained', 5961: 'explaining', 5962: 'explains', 5963: 'explanation', 5964: 'explanations', 5965: 'explicit', 5966: 'exploit', 5967: 'exploitation', 5968: 'exploiting', 5969: 'exploration', 5970: 'explore', 5971: 'exploring', 5972: 'explosion', 5973: 'explosions', 5974: 'explosives', 5975: 'expo', 5976: 'exponentially', 5977: 'export', 5978: 'exported', 5979: 'exporters', 5980: 'exporting', 5981: 'exports', 5982: 'expose', 5983: 'exposed', 5984: 'exposure', 5985: 'express', 5986: 'expressed', 5987: 'expresses', 5988: 'expressing', 5989: 'expression', 5990: 'expressions', 5991: 'expressway', 5992: 'exquisite', 5993: 'exrjd', 5994: 'exservicemen', 5995: 'exstudent', 5996: 'extant', 5997: 'extend', 5998: 'extended', 5999: 'extending', 6000: 'extends', 6001: 'extension', 6002: 'extensions', 6003: 'extensive', 6004: 'extensively', 6005: 'extent', 6006: 'exterior', 6007: 'external', 6008: 'externalities', 6009: 'extinct', 6010: 'extinction', 6011: 'extinguish', 6012: 'extinguished', 6013: 'extortion', 6014: 'extra', 6015: 'extract', 6016: 'extracted', 6017: 'extracting', 6018: 'extraction', 6019: 'extracurricular', 6020: 'extradition', 6021: 'extraordinary', 6022: 'extras', 6023: 'extravaganzas', 6024: 'extreme', 6025: 'extremely', 6026: 'extremism', 6027: 'extremist', 6028: 'extrinsic', 6029: 'exuberant', 6030: 'eye', 6031: 'eyeing', 6032: 'eyelids', 6033: 'eyes', 6034: 'eyewash', 6035: 'ezra', 6036: 'f', 6037: 'fabricated', 6038: 'fabricating', 6039: 'fabrics', 6040: 'face', 6041: 'facebook', 6042: 'faced', 6043: 'faceoff', 6044: 'faces', 6045: 'facetoface', 6046: 'facial', 6047: 'facie', 6048: 'facilitate', 6049: 'facilitating', 6050: 'facilitation', 6051: 'facilities', 6052: 'facility', 6053: 'facing', 6054: 'fact', 6055: 'factfinding', 6056: 'faction', 6057: 'factor', 6058: 'factories', 6059: 'factors', 6060: 'factory', 6061: 'facts', 6062: 'factsinformation', 6063: 'factually', 6064: 'faculties', 6065: 'faculty', 6066: 'fading', 6067: 'fadnavis', 6068: 'fadnaviss', 6069: 'faesal', 6070: 'faf', 6071: 'fail', 6072: 'failed', 6073: 'faileth', 6074: 'failing', 6075: 'fails', 6076: 'failure', 6077: 'failures', 6078: 'faint', 6079: 'fainted', 6080: 'fair', 6081: 'faired', 6082: 'fairly', 6083: 'fairmont', 6084: 'fairness', 6085: 'fairs', 6086: 'fairytale', 6087: 'faisal', 6088: 'faith', 6089: 'faithful', 6090: 'faithfully', 6091: 'faithfulness', 6092: 'faithless', 6093: 'faiza', 6094: 'faizabad', 6095: 'fake', 6096: 'faldu', 6097: 'fall', 6098: 'fallen', 6099: 'falling', 6100: 'fallout', 6101: 'falls', 6102: 'false', 6103: 'falsehood', 6104: 'falsely', 6105: 'fame', 6106: 'famed', 6107: 'familiar', 6108: 'familiarity', 6109: 'families', 6110: 'family', 6111: 'famine', 6112: 'famous', 6113: 'fan', 6114: 'fanatic', 6115: 'fancies', 6116: 'fanfare', 6117: 'fans', 6118: 'fantastic', 6119: 'far', 6120: 'farah', 6121: 'farce', 6122: 'fare', 6123: 'fared', 6124: 'farflung', 6125: 'farhad', 6126: 'farhan', 6127: 'faring', 6128: 'farm', 6129: 'farmer', 6130: 'farmerbeneficiaries', 6131: 'farmers', 6132: 'farmhouse', 6133: 'farming', 6134: 'farms', 6135: 'farokh', 6136: 'farooq', 6137: 'farooque', 6138: 'farreaching', 6139: 'farsighted', 6140: 'farther', 6141: 'faruqui', 6142: 'fasal', 6143: 'fascinated', 6144: 'fascinating', 6145: 'fascism', 6146: 'fashas', 6147: 'fashion', 6148: 'fashioned', 6149: 'fast', 6150: 'fastag', 6151: 'fastened', 6152: 'faster', 6153: 'fastest', 6154: 'fastidious', 6155: 'fasting', 6156: 'fat', 6157: 'fatal', 6158: 'fate', 6159: 'fatf', 6160: 'father', 6161: 'fatherhood', 6162: 'fathers', 6163: 'fathersays', 6164: 'fatigued', 6165: 'fatima', 6166: 'fatness', 6167: 'fats', 6168: 'fatych', 6169: 'fauj', 6170: 'fault', 6171: 'faults', 6172: 'favor', 6173: 'favorite', 6174: 'favour', 6175: 'favourable', 6176: 'favourably', 6177: 'favoured', 6178: 'favourite', 6179: 'favourites', 6180: 'fawad', 6181: 'fayez', 6182: 'fazal', 6183: 'fazalemiran', 6184: 'fbi', 6185: 'fc', 6186: 'fd', 6187: 'fdi', 6188: 'fear', 6189: 'feared', 6190: 'fearful', 6191: 'fears', 6192: 'feasibility', 6193: 'feast', 6194: 'feasting', 6195: 'feasts', 6196: 'feat', 6197: 'feature', 6198: 'featured', 6199: 'features', 6200: 'featuring', 6201: 'february', 6202: 'fed', 6203: 'federal', 6204: 'federation', 6205: 'federative', 6206: 'federer', 6207: 'fee', 6208: 'feeble', 6209: 'feed', 6210: 'feedback', 6211: 'feedbacks', 6212: 'feel', 6213: 'feeling', 6214: 'feelings', 6215: 'feels', 6216: 'fees', 6217: 'feet', 6218: 'feetand', 6219: 'felicitate', 6220: 'felicitated', 6221: 'fell', 6222: 'fellow', 6223: 'fellows', 6224: 'fellowship', 6225: 'felt', 6226: 'feluda', 6227: 'female', 6228: 'females', 6229: 'fence', 6230: 'fennel', 6231: 'fera', 6232: 'fernandes', 6233: 'fernandez', 6234: 'feroz', 6235: 'ferreira', 6236: 'ferrer', 6237: 'ferries', 6238: 'ferry', 6239: 'fertile', 6240: 'fertiliser', 6241: 'fertilisers', 6242: 'fertility', 6243: 'fertilizer', 6244: 'fertilizers', 6245: 'fertilizing', 6246: 'fervor', 6247: 'fervour', 6248: 'festival', 6249: 'festivals', 6250: 'festive', 6251: 'festivities', 6252: 'festus', 6253: 'fetching', 6254: 'feud', 6255: 'fever', 6256: 'few', 6257: 'fewer', 6258: 'fiber', 6259: 'fibercable', 6260: 'fibre', 6261: 'ficc', 6262: 'ficci', 6263: 'fiction', 6264: 'field', 6265: 'fielded', 6266: 'fielder', 6267: 'fielding', 6268: 'fields', 6269: 'fierce', 6270: 'fiercely', 6271: 'fiery', 6272: 'fifa', 6273: 'fifers', 6274: 'fifteen', 6275: 'fifteenth', 6276: 'fifth', 6277: 'fifties', 6278: 'fifty', 6279: 'fig', 6280: 'fight', 6281: 'fighter', 6282: 'fighters', 6283: 'fighting', 6284: 'fights', 6285: 'figuratively', 6286: 'figure', 6287: 'figures', 6288: 'fih', 6289: 'file', 6290: 'filed', 6291: 'filers', 6292: 'files', 6293: 'filing', 6294: 'filipinas', 6295: 'fill', 6296: 'filled', 6297: 'fillets', 6298: 'fillip', 6299: 'fills', 6300: 'film', 6301: 'filmfare', 6302: 'filming', 6303: 'filmmaker', 6304: 'filmmakerfather', 6305: 'filmmakers', 6306: 'filmmaking', 6307: 'films', 6308: 'filth', 6309: 'filthiness', 6310: 'filthy', 6311: 'final', 6312: 'finalised', 6313: 'finalists', 6314: 'finalized', 6315: 'finally', 6316: 'finals', 6317: 'finance', 6318: 'financial', 6319: 'financially', 6320: 'financing', 6321: 'finchcaptain', 6322: 'finchhitting', 6323: 'find', 6324: 'finder', 6325: 'finding', 6326: 'findings', 6327: 'fine', 6328: 'fined', 6329: 'finely', 6330: 'finest', 6331: 'finetoo', 6332: 'finger', 6333: 'fingerprint', 6334: 'fingers', 6335: 'finish', 6336: 'finished', 6337: 'finishers', 6338: 'finishing', 6339: 'finke', 6340: 'finland', 6341: 'fionn', 6342: 'fips', 6343: 'fir', 6344: 'firdos', 6345: 'fire', 6346: 'firearm', 6347: 'firearms', 6348: 'firecrackers', 6349: 'fired', 6350: 'firefighters', 6351: 'firefighting', 6352: 'firefox', 6353: 'firefoxs', 6354: 'firemen', 6355: 'fires', 6356: 'firing', 6357: 'firings', 6358: 'firm', 6359: 'firmly', 6360: 'firms', 6361: 'firoz', 6362: 'firozabad', 6363: 'firs', 6364: 'first', 6365: 'firstborn', 6366: 'firstclass', 6367: 'firstever', 6368: 'firsthand', 6369: 'firstinnings', 6370: 'firstlings', 6371: 'firstplaced', 6372: 'firsttime', 6373: 'firsttimers', 6374: 'fiscal', 6375: 'fish', 6376: 'fisheries', 6377: 'fisherman', 6378: 'fishermans', 6379: 'fishermen', 6380: 'fishers', 6381: 'fishery', 6382: 'fishing', 6383: 'fissures', 6384: 'fists', 6385: 'fit', 6386: 'fitness', 6387: 'fitr', 6388: 'fitted', 6389: 'fittest', 6390: 'fitting', 6391: 'fittingly', 6392: 'fiu', 6393: 'five', 6394: 'fiveday', 6395: 'fivefour', 6396: 'fivematch', 6397: 'fiveperson', 6398: 'fiverun', 6399: 'fivetest', 6400: 'fix', 6401: 'fixed', 6402: 'fixture', 6403: 'flag', 6404: 'flagged', 6405: 'flagoff', 6406: 'flagship', 6407: 'flak', 6408: 'flaking', 6409: 'flame', 6410: 'flames', 6411: 'flaming', 6412: 'flaring', 6413: 'flash', 6414: 'flashed', 6415: 'flat', 6416: 'flats', 6417: 'flattened', 6418: 'flattered', 6419: 'flaunted', 6420: 'flaunts', 6421: 'flavianum', 6422: 'flavors', 6423: 'flavour', 6424: 'flavours', 6425: 'flaws', 6426: 'fled', 6427: 'fledged', 6428: 'flee', 6429: 'fleet', 6430: 'flesh', 6431: 'flew', 6432: 'flexibility', 6433: 'flexible', 6434: 'flexirent', 6435: 'flick', 6436: 'flicker', 6437: 'flies', 6438: 'flight', 6439: 'flights', 6440: 'flipkart', 6441: 'flirting', 6442: 'float', 6443: 'floating', 6444: 'flock', 6445: 'flocking', 6446: 'flocks', 6447: 'flood', 6448: 'flooded', 6449: 'floodhit', 6450: 'flooding', 6451: 'floodlike', 6452: 'floods', 6453: 'floodwater', 6454: 'floodwaters', 6455: 'floor', 6456: 'floors', 6457: 'floral', 6458: 'florence', 6459: 'florets', 6460: 'florida', 6461: 'flossed', 6462: 'flour', 6463: 'flourish', 6464: 'flourishing', 6465: 'flow', 6466: 'flowed', 6467: 'flower', 6468: 'flowers', 6469: 'flowery', 6470: 'flowing', 6471: 'flown', 6472: 'flows', 6473: 'flu', 6474: 'fluctuation', 6475: 'fluent', 6476: 'fluid', 6477: 'fluids', 6478: 'flung', 6479: 'flush', 6480: 'flushed', 6481: 'fluty', 6482: 'fly', 6483: 'flying', 6484: 'flynn', 6485: 'flyover', 6486: 'flypast', 6487: 'flywheel', 6488: 'fm', 6489: 'fmbap', 6490: 'fmcg', 6491: 'foakes', 6492: 'foam', 6493: 'focus', 6494: 'focused', 6495: 'focuses', 6496: 'focusing', 6497: 'focussed', 6498: 'focussing', 6499: 'fodder', 6500: 'foetus', 6501: 'fog', 6502: 'foiled', 6503: 'foisting', 6504: 'fold', 6505: 'folder', 6506: 'folding', 6507: 'folk', 6508: 'follow', 6509: 'followed', 6510: 'followers', 6511: 'following', 6512: 'follows', 6513: 'followup', 6514: 'folly', 6515: 'fond', 6516: 'fondest', 6517: 'fondly', 6518: 'font', 6519: 'fonts', 6520: 'food', 6521: 'foodgrain', 6522: 'foodgrains', 6523: 'foods', 6524: 'fool', 6525: 'fooled', 6526: 'fooling', 6527: 'foolish', 6528: 'fools', 6529: 'foot', 6530: 'footage', 6531: 'footages', 6532: 'football', 6533: 'footballer', 6534: 'footbridge', 6535: 'footing', 6536: 'footnote', 6537: 'footnotes', 6538: 'footprint', 6539: 'footwear', 6540: 'for', 6541: 'fora', 6542: 'foraging', 6543: 'forasmuch', 6544: 'forbes', 6545: 'forbidden', 6546: 'forbidding', 6547: 'force', 6548: 'forced', 6549: 'forcefully', 6550: 'forces', 6551: 'forcibly', 6552: 'forcing', 6553: 'ford', 6554: 'fore', 6555: 'forecast', 6556: 'forecourt', 6557: 'foreign', 6558: 'foreigner', 6559: 'foremost', 6560: 'foresaw', 6561: 'foresight', 6562: 'forest', 6563: 'forestdwellers', 6564: 'forested', 6565: 'forests', 6566: 'foretold', 6567: 'forever', 6568: 'forged', 6569: 'forgery', 6570: 'forget', 6571: 'forgets', 6572: 'forgetting', 6573: 'forging', 6574: 'forgive', 6575: 'forgiven', 6576: 'forgiveness', 6577: 'forgiving', 6578: 'forgot', 6579: 'forgotten', 6580: 'fork', 6581: 'form', 6582: 'formal', 6583: 'formally', 6584: 'format', 6585: 'formation', 6586: 'formats', 6587: 'formed', 6588: 'former', 6589: 'formerly', 6590: 'forming', 6591: 'forms', 6592: 'formula', 6593: 'formulated', 6594: 'formulating', 6595: 'formulation', 6596: 'formulations', 6597: 'fornication', 6598: 'fornicator', 6599: 'forr', 6600: 'forsaketh', 6601: 'fort', 6602: 'forth', 6603: 'forthcoming', 6604: 'fortnight', 6605: 'forts', 6606: 'fortunately', 6607: 'fortune', 6608: 'forty', 6609: 'fortysix', 6610: 'forum', 6611: 'forums', 6612: 'forward', 6613: 'fought', 6614: 'foul', 6615: 'fouled', 6616: 'found', 6617: 'foundation', 6618: 'foundations', 6619: 'foundationstone', 6620: 'founded', 6621: 'founder', 6622: 'founderpresident', 6623: 'founding', 6624: 'fountain', 6625: 'four', 6626: 'fourcharacter', 6627: 'fourday', 6628: 'fourfifths', 6629: 'fourlane', 6630: 'fourmatch', 6631: 'fourmember', 6632: 'fours', 6633: 'fourstorey', 6634: 'fourstory', 6635: 'fourteen', 6636: 'fourteenth', 6637: 'fourteenyear', 6638: 'fourth', 6639: 'fourthplaced', 6640: 'fourthree', 6641: 'fourthseeded', 6642: 'fourtime', 6643: 'fourwheeler', 6644: 'foxp', 6645: 'fpis', 6646: 'fpos', 6647: 'fracture', 6648: 'fractured', 6649: 'fractures', 6650: 'fragile', 6651: 'fragmented', 6652: 'fragments', 6653: 'frame', 6654: 'framed', 6655: 'framework', 6656: 'france', 6657: 'frances', 6658: 'francesco', 6659: 'franchise', 6660: 'franchises', 6661: 'francisco', 6662: 'francois', 6663: 'frank', 6664: 'frankish', 6665: 'frantic', 6666: 'fraternity', 6667: 'fraud', 6668: 'fraudster', 6669: 'fraudulent', 6670: 'fray', 6671: 'freckled', 6672: 'freckles', 6673: 'frederick', 6674: 'free', 6675: 'freed', 6676: 'freedom', 6677: 'freely', 6678: 'freemake', 6679: 'frees', 6680: 'freezing', 6681: 'french', 6682: 'frenchlanguage', 6683: 'frenzy', 6684: 'frequency', 6685: 'frequent', 6686: 'frequently', 6687: 'fresh', 6688: 'fresher', 6689: 'freshman', 6690: 'fret', 6691: 'friction', 6692: 'friday', 6693: 'fridays', 6694: 'fried', 6695: 'friend', 6696: 'friendliness', 6697: 'friendly', 6698: 'friends', 6699: 'friendship', 6700: 'friendships', 6701: 'frightened', 6702: 'frills', 6703: 'from', 6704: 'fromjuly', 6705: 'front', 6706: 'frontier', 6707: 'frontline', 6708: 'fronts', 6709: 'frosty', 6710: 'frozen', 6711: 'fruit', 6712: 'fruitage', 6713: 'fruitful', 6714: 'fruits', 6715: 'frustrated', 6716: 'frustrating', 6717: 'frustration', 6718: 'fsb', 6719: 'fsdc', 6720: 'ftii', 6721: 'ftiis', 6722: 'ftthe', 6723: 'fu', 6724: 'fuck', 6725: 'fuel', 6726: 'fugitive', 6727: 'fulari', 6728: 'fulfil', 6729: 'fulfill', 6730: 'fulfilled', 6731: 'fulfilling', 6732: 'fulfillment', 6733: 'fulfilment', 6734: 'full', 6735: 'fullscreen', 6736: 'fulltime', 6737: 'fully', 6738: 'fulness', 6739: 'fun', 6740: 'function', 6741: 'functional', 6742: 'functionaries', 6743: 'functioning', 6744: 'functions', 6745: 'fund', 6746: 'fundamental', 6747: 'fundamentalism', 6748: 'funded', 6749: 'funding', 6750: 'fundkar', 6751: 'funds', 6752: 'funeral', 6753: 'fungi', 6754: 'funny', 6755: 'furbished', 6756: 'furious', 6757: 'furnished', 6758: 'furor', 6759: 'furore', 6760: 'further', 6761: 'furthermore', 6762: 'furthers', 6763: 'fury', 6764: 'fused', 6765: 'futile', 6766: 'future', 6767: 'futuristic', 6768: 'fx', 6769: 'fy', 6770: 'g', 6771: 'gabbard', 6772: 'gabriel', 6773: 'gabriela', 6774: 'gabriella', 6775: 'gadchiroli', 6776: 'gadecki', 6777: 'gadkari', 6778: 'gadling', 6779: 'gaekwad', 6780: 'gael', 6781: 'gaganyaan', 6782: 'gagroo', 6783: 'gaikwad', 6784: 'gain', 6785: 'gained', 6786: 'gainers', 6787: 'gains', 6788: 'gajanan', 6789: 'gajender', 6790: 'gajendra', 6791: 'galatians', 6792: 'galgali', 6793: 'galilean', 6794: 'galilee', 6795: 'gall', 6796: 'gallantry', 6797: 'galle', 6798: 'galleries', 6799: 'gallery', 6800: 'gallows', 6801: 'galwan', 6802: 'gama', 6803: 'gamaliel', 6804: 'gamba', 6805: 'gambhir', 6806: 'gambling', 6807: 'gamchha', 6808: 'gamdevi', 6809: 'game', 6810: 'gamechanger', 6811: 'gamechanging', 6812: 'games', 6813: 'gamma', 6814: 'gana', 6815: 'gandhara', 6816: 'gandhi', 6817: 'gandhiji', 6818: 'gandhijis', 6819: 'gandhinagar', 6820: 'gandhis', 6821: 'ganesh', 6822: 'gang', 6823: 'ganga', 6824: 'gangadhar', 6825: 'gangapur', 6826: 'gangrene', 6827: 'gangs', 6828: 'gangster', 6829: 'gangubai', 6830: 'ganguly', 6831: 'gangwar', 6832: 'gangwarunion', 6833: 'ganjam', 6834: 'ganpati', 6835: 'gaos', 6836: 'gap', 6837: 'garage', 6838: 'garam', 6839: 'garbage', 6840: 'garden', 6841: 'gardens', 6842: 'garfield', 6843: 'gargi', 6844: 'garhwa', 6845: 'garib', 6846: 'garima', 6847: 'garlands', 6848: 'garlic', 6849: 'garment', 6850: 'garnered', 6851: 'garnish', 6852: 'garry', 6853: 'gary', 6854: 'gas', 6855: 'gasbased', 6856: 'gases', 6857: 'gat', 6858: 'gate', 6859: 'gatemen', 6860: 'gates', 6861: 'gateway', 6862: 'gather', 6863: 'gathered', 6864: 'gatherers', 6865: 'gathereth', 6866: 'gathering', 6867: 'gauchar', 6868: 'gaude', 6869: 'gaudrajendra', 6870: 'gauge', 6871: 'gaurav', 6872: 'gauri', 6873: 'gautam', 6874: 'gavai', 6875: 'gavaskar', 6876: 'gave', 6877: 'gavit', 6878: 'gawah', 6879: 'gawli', 6880: 'gay', 6881: 'gayakwad', 6882: 'gayatri', 6883: 'gayle', 6884: 'gazelle', 6885: 'gazetted', 6886: 'gb', 6887: 'gdask', 6888: 'gdldockmaster', 6889: 'gdp', 6890: 'gear', 6891: 'gearbox', 6892: 'geared', 6893: 'gearing', 6894: 'geba', 6895: 'gedit', 6896: 'geelani', 6897: 'geet', 6898: 'geeta', 6899: 'geete', 6900: 'gehlot', 6901: 'gehlotled', 6902: 'gemini', 6903: 'gems', 6904: 'gen', 6905: 'gender', 6906: 'genders', 6907: 'general', 6908: 'generalized', 6909: 'generalizing', 6910: 'generally', 6911: 'generate', 6912: 'generated', 6913: 'generating', 6914: 'generation', 6915: 'generations', 6916: 'generator', 6917: 'generic', 6918: 'generosity', 6919: 'generous', 6920: 'generously', 6921: 'genes', 6922: 'genesis', 6923: 'genetic', 6924: 'geneva', 6925: 'geng', 6926: 'genius', 6927: 'genome', 6928: 'genre', 6929: 'genres', 6930: 'gentle', 6931: 'gentleman', 6932: 'gentlemanexclusive', 6933: 'gentlemen', 6934: 'genuine', 6935: 'genuinely', 6936: 'geographic', 6937: 'geographical', 6938: 'geological', 6939: 'geologists', 6940: 'geology', 6941: 'george', 6942: 'georgia', 6943: 'georgieva', 6944: 'geospatial', 6945: 'gerahs', 6946: 'german', 6947: 'germany', 6948: 'germline', 6949: 'gershonites', 6950: 'geshurites', 6951: 'gesture', 6952: 'gestures', 6953: 'get', 6954: 'gets', 6955: 'getting', 6956: 'gettogether', 6957: 'ghafoor', 6958: 'ghajini', 6959: 'ghansali', 6960: 'ghanwat', 6961: 'ghat', 6962: 'ghaziabad', 6963: 'ghaziabads', 6964: 'ghazipur', 6965: 'ghaznavi', 6966: 'ghazni', 6967: 'ghebreyesus', 6968: 'ghee', 6969: 'ghgs', 6970: 'ghoda', 6971: 'ghogha', 6972: 'ghorpade', 6973: 'ghosh', 6974: 'ghost', 6975: 'ghostbuster', 6976: 'ghouta', 6977: 'ghulam', 6978: 'ghulamwill', 6979: 'giant', 6980: 'giants', 6981: 'gibeah', 6982: 'gibraltar', 6983: 'gier', 6984: 'gift', 6985: 'gifting', 6986: 'gifts', 6987: 'gig', 6988: 'gigawatts', 6989: 'gilbert', 6990: 'gilead', 6991: 'gilgitbaltistan', 6992: 'gill', 6993: 'gimbaled', 6994: 'gimmick', 6995: 'gina', 6996: 'ginger', 6997: 'ginni', 6998: 'giri', 6999: 'girija', 7000: 'giriraj', 7001: 'girish', 7002: 'girl', 7003: 'girlfriend', 7004: 'girls', 7005: 'gispa', 7006: 'gita', 7007: 'give', 7008: 'given', 7009: 'gives', 7010: 'giving', 7011: 'gjmm', 7012: 'glacier', 7013: 'glaciers', 7014: 'glad', 7015: 'gladness', 7016: 'glads', 7017: 'glance', 7018: 'glasgow', 7019: 'glass', 7020: 'gleaned', 7021: 'gleissner', 7022: 'glenn', 7023: 'gliding', 7024: 'glimpse', 7025: 'glitches', 7026: 'glittering', 7027: 'global', 7028: 'globalization', 7029: 'globally', 7030: 'globallydesignated', 7031: 'globe', 7032: 'globulin', 7033: 'glorification', 7034: 'glorified', 7035: 'glorify', 7036: 'glorious', 7037: 'glory', 7038: 'glove', 7039: 'glowing', 7040: 'gluconorm', 7041: 'glucose', 7042: 'gmbh', 7043: 'gmch', 7044: 'gms', 7045: 'gnashing', 7046: 'go', 7047: 'goa', 7048: 'goair', 7049: 'goal', 7050: 'goalkeeper', 7051: 'goals', 7052: 'goalscoring', 7053: 'goas', 7054: 'goat', 7055: 'goats', 7056: 'gobind', 7057: 'god', 7058: 'godalming', 7059: 'godara', 7060: 'godavari', 7061: 'godbearer', 7062: 'goddess', 7063: 'godfather', 7064: 'godliness', 7065: 'godly', 7066: 'godman', 7067: 'godmans', 7068: 'godown', 7069: 'gods', 7070: 'godse', 7071: 'goel', 7072: 'goes', 7073: 'gogoi', 7074: 'gogs', 7075: 'goheen', 7076: 'goij', 7077: 'going', 7078: 'goings', 7079: 'gokhale', 7080: 'gokhare', 7081: 'gokulpuri', 7082: 'gold', 7083: 'golden', 7084: 'goldman', 7085: 'goldmedallist', 7086: 'gole', 7087: 'golf', 7088: 'goliath', 7089: 'goliyon', 7090: 'golmaal', 7091: 'gomantak', 7092: 'gomorrah', 7093: 'gonda', 7094: 'gondawale', 7095: 'gondia', 7096: 'gone', 7097: 'gonna', 7098: 'gonsalves', 7099: 'good', 7100: 'goodly', 7101: 'goodness', 7102: 'goods', 7103: 'goodwin', 7104: 'google', 7105: 'googles', 7106: 'goons', 7107: 'gooseberry', 7108: 'gopakumar', 7109: 'gopal', 7110: 'gopalakrishnan', 7111: 'gopalaswami', 7112: 'gopang', 7113: 'gopinath', 7114: 'gorakhpur', 7115: 'gordon', 7116: 'goregaon', 7117: 'gorhe', 7118: 'gorilla', 7119: 'gosamvardhan', 7120: 'gospel', 7121: 'gossip', 7122: 'goswami', 7123: 'goswamis', 7124: 'got', 7125: 'goto', 7126: 'gotten', 7127: 'goud', 7128: 'govardhan', 7129: 'governance', 7130: 'governed', 7131: 'governing', 7132: 'government', 7133: 'governmental', 7134: 'governmentappointed', 7135: 'governmentcentral', 7136: 'governmentconcerned', 7137: 'governmentrun', 7138: 'governments', 7139: 'governor', 7140: 'governors', 7141: 'govind', 7142: 'govt', 7143: 'govts', 7144: 'gowariker', 7145: 'gowda', 7146: 'goyal', 7147: 'gps', 7148: 'gpu', 7149: 'grab', 7150: 'grabbed', 7151: 'grabber', 7152: 'grace', 7153: 'graced', 7154: 'graceful', 7155: 'gracious', 7156: 'grad', 7157: 'grade', 7158: 'graded', 7159: 'gradual', 7160: 'gradually', 7161: 'graduate', 7162: 'graduated', 7163: 'graduates', 7164: 'graduating', 7165: 'graduation', 7166: 'grahak', 7167: 'grain', 7168: 'grains', 7169: 'gram', 7170: 'grams', 7171: 'grand', 7172: 'grandchildren', 7173: 'granddaughter', 7174: 'grandeur', 7175: 'grandma', 7176: 'grandmaster', 7177: 'grandmother', 7178: 'grandpa', 7179: 'grandparents', 7180: 'grandson', 7181: 'grant', 7182: 'grantd', 7183: 'granted', 7184: 'grantinaid', 7185: 'granting', 7186: 'grants', 7187: 'grapes', 7188: 'graphed', 7189: 'graphene', 7190: 'graphics', 7191: 'grasp', 7192: 'grasped', 7193: 'grass', 7194: 'grasses', 7195: 'grated', 7196: 'grateful', 7197: 'gratified', 7198: 'gratis', 7199: 'gratitude', 7200: 'gratuity', 7201: 'grave', 7202: 'gravitated', 7203: 'gravitation', 7204: 'gravitational', 7205: 'gravity', 7206: 'great', 7207: 'greater', 7208: 'greatest', 7209: 'greatly', 7210: 'greece', 7211: 'greed', 7212: 'greek', 7213: 'green', 7214: 'greet', 7215: 'greeted', 7216: 'greeting', 7217: 'greetings', 7218: 'greets', 7219: 'greg', 7220: 'gregory', 7221: 'grenache', 7222: 'grenade', 7223: 'grew', 7224: 'grexit', 7225: 'grid', 7226: 'grief', 7227: 'grievances', 7228: 'grieving', 7229: 'griffiths', 7230: 'grigor', 7231: 'grigory', 7232: 'grim', 7233: 'grimmie', 7234: 'grind', 7235: 'grip', 7236: 'groove', 7237: 'gross', 7238: 'grossing', 7239: 'grossly', 7240: 'ground', 7241: 'groundbreaking', 7242: 'groundforaging', 7243: 'grounds', 7244: 'group', 7245: 'grouplets', 7246: 'groups', 7247: 'grouting', 7248: 'grover', 7249: 'grow', 7250: 'groweth', 7251: 'growing', 7252: 'grown', 7253: 'grows', 7254: 'growth', 7255: 'grozny', 7256: 'grp', 7257: 'grudges', 7258: 'grumble', 7259: 'grylls', 7260: 'gsat', 7261: 'gsi', 7262: 'gslvmarkii', 7263: 'gst', 7264: 'gt', 7265: 'gtb', 7266: 'guangzhou', 7267: 'guarantee', 7268: 'guaranteed', 7269: 'guarantees', 7270: 'guard', 7271: 'guardian', 7272: 'guards', 7273: 'gudi', 7274: 'guerrilla', 7275: 'guess', 7276: 'guest', 7277: 'guests', 7278: 'gufi', 7279: 'guidance', 7280: 'guide', 7281: 'guided', 7282: 'guideline', 7283: 'guidelines', 7284: 'guides', 7285: 'guiding', 7286: 'guild', 7287: 'guilfoyle', 7288: 'guilt', 7289: 'guilty', 7290: 'guinea', 7291: 'guinness', 7292: 'guise', 7293: 'gujarat', 7294: 'gujarati', 7295: 'gujarats', 7296: 'gujjars', 7297: 'gujrathi', 7298: 'gulaab', 7299: 'gulabo', 7300: 'gulabrao', 7301: 'gulati', 7302: 'gulet', 7303: 'gulf', 7304: 'gullible', 7305: 'gully', 7306: 'gulshan', 7307: 'gun', 7308: 'gunfight', 7309: 'gunfights', 7310: 'gunj', 7311: 'gunjan', 7312: 'gunmen', 7313: 'gunned', 7314: 'gunneswaran', 7315: 'gunpoint', 7316: 'guns', 7317: 'gunshots', 7318: 'gupt', 7319: 'gupta', 7320: 'guptill', 7321: 'gurbaxani', 7322: 'gurdaspur', 7323: 'gurdev', 7324: 'gurgaon', 7325: 'gurinder', 7326: 'gurjant', 7327: 'gurmeet', 7328: 'gurpreet', 7329: 'gursahibjit', 7330: 'guru', 7331: 'gurudwara', 7332: 'gurugram', 7333: 'gurus', 7334: 'gushed', 7335: 'gushes', 7336: 'gushing', 7337: 'guterres', 7338: 'guthrie', 7339: 'guts', 7340: 'gutted', 7341: 'guwahati', 7342: 'guy', 7343: 'guys', 7344: 'gvl', 7345: 'gw', 7346: 'gwadar', 7347: 'gwec', 7348: 'gyanwant', 7349: 'gymkhana', 7350: 'gyms', 7351: 'h', 7352: 'haaledil', 7353: 'haasan', 7354: 'haats', 7355: 'habibganj', 7356: 'habibullah', 7357: 'habit', 7358: 'habitats', 7359: 'habits', 7360: 'hackathon', 7361: 'hacked', 7362: 'hacker', 7363: 'had', 7364: 'hadad', 7365: 'hadadezer', 7366: 'hadawale', 7367: 'haddin', 7368: 'hadnt', 7369: 'haemoglobin', 7370: 'hafiz', 7371: 'hag', 7372: 'hagar', 7373: 'hai', 7374: 'hail', 7375: 'hailed', 7376: 'hailing', 7377: 'hails', 7378: 'hailstorms', 7379: 'hair', 7380: 'haircut', 7381: 'haj', 7382: 'hakeem', 7383: 'hal', 7384: 'haldi', 7385: 'haldwani', 7386: 'haley', 7387: 'half', 7388: 'halfasleep', 7389: 'halfburnt', 7390: 'halfcenturies', 7391: 'halfcentury', 7392: 'halfday', 7393: 'halfpants', 7394: 'halfway', 7395: 'hall', 7396: 'hallmark', 7397: 'halls', 7398: 'hallstyle', 7399: 'hallucinate', 7400: 'halt', 7401: 'halted', 7402: 'halved', 7403: 'halwankar', 7404: 'ham', 7405: 'hamath', 7406: 'hamid', 7407: 'hamilton', 7408: 'hamiltons', 7409: 'hamirpur', 7410: 'hamper', 7411: 'hampered', 7412: 'hand', 7413: 'handbag', 7414: 'handbook', 7415: 'handcrafted', 7416: 'handed', 7417: 'handful', 7418: 'handholding', 7419: 'handicapped', 7420: 'handicrafts', 7421: 'handkerchief', 7422: 'handle', 7423: 'handled', 7424: 'handler', 7425: 'handles', 7426: 'handling', 7427: 'handover', 7428: 'hands', 7429: 'handsome', 7430: 'handwara', 7431: 'hang', 7432: 'hanged', 7433: 'hangeth', 7434: 'hanging', 7435: 'hangs', 7436: 'hannon', 7437: 'hansraj', 7438: 'hanssen', 7439: 'hanuman', 7440: 'hanumanram', 7441: 'happen', 7442: 'happened', 7443: 'happening', 7444: 'happens', 7445: 'happily', 7446: 'happiness', 7447: 'happy', 7448: 'haque', 7449: 'harare', 7450: 'harassed', 7451: 'harassment', 7452: 'harbans', 7453: 'harbhajan', 7454: 'harbored', 7455: 'harbors', 7456: 'harbour', 7457: 'hard', 7458: 'hardened', 7459: 'hardens', 7460: 'harder', 7461: 'hardest', 7462: 'hardfought', 7463: 'hardik', 7464: 'hardly', 7465: 'hardness', 7466: 'hardship', 7467: 'hardships', 7468: 'hardware', 7469: 'hardworking', 7470: 'hardy', 7471: 'hare', 7472: 'harendra', 7473: 'hargovinddas', 7474: 'haribhau', 7475: 'harika', 7476: 'harimohana', 7477: 'haris', 7478: 'harish', 7479: 'harjeet', 7480: 'harjinder', 7481: 'harm', 7482: 'harmanpreet', 7483: 'harmful', 7484: 'harmonious', 7485: 'harmonized', 7486: 'harmony', 7487: 'harness', 7488: 'harps', 7489: 'harris', 7490: 'harry', 7491: 'harsh', 7492: 'harsha', 7493: 'harshaali', 7494: 'harshali', 7495: 'harsher', 7496: 'harshita', 7497: 'harshly', 7498: 'harshvardhan', 7499: 'harsukhinder', 7500: 'harsul', 7501: 'hart', 7502: 'harvard', 7503: 'harvest', 7504: 'harvested', 7505: 'harvesting', 7506: 'harvests', 7507: 'harvesttime', 7508: 'harvey', 7509: 'harvik', 7510: 'haryana', 7511: 'has', 7512: 'hasan', 7513: 'hashemite', 7514: 'hashim', 7515: 'hashmathullah', 7516: 'hashmi', 7517: 'hashtag', 7518: 'hashtags', 7519: 'hasina', 7520: 'hasinaji', 7521: 'hasnt', 7522: 'hassan', 7523: 'hassel', 7524: 'hassle', 7525: 'hast', 7526: 'haste', 7527: 'hasted', 7528: 'hasty', 7529: 'hat', 7530: 'hate', 7531: 'hated', 7532: 'hateful', 7533: 'hates', 7534: 'hatf', 7535: 'hath', 7536: 'hatred', 7537: 'hattrick', 7538: 'haul', 7539: 'have', 7540: 'haveli', 7541: 'havelock', 7542: 'haven', 7543: 'havent', 7544: 'having', 7545: 'havoc', 7546: 'hawkers', 7547: 'hawking', 7548: 'hayden', 7549: 'hazael', 7550: 'hazar', 7551: 'hazard', 7552: 'hazards', 7553: 'hazare', 7554: 'hazel', 7555: 'hazes', 7556: 'hazira', 7557: 'hb', 7558: 'hbac', 7559: 'hc', 7560: 'hcs', 7561: 'hd', 7562: 'hdfc', 7563: 'he', 7564: 'head', 7565: 'headache', 7566: 'headaches', 7567: 'headed', 7568: 'header', 7569: 'heading', 7570: 'headley', 7571: 'headlights', 7572: 'headlines', 7573: 'headon', 7574: 'headphones', 7575: 'headquartered', 7576: 'headquarters', 7577: 'heads', 7578: 'headscarf', 7579: 'heal', 7580: 'healing', 7581: 'health', 7582: 'healthcare', 7583: 'healthful', 7584: 'healthier', 7585: 'healthy', 7586: 'healy', 7587: 'heap', 7588: 'heaped', 7589: 'hear', 7590: 'heard', 7591: 'heareth', 7592: 'hearing', 7593: 'hearings', 7594: 'hearken', 7595: 'hearkened', 7596: 'hears', 7597: 'heart', 7598: 'heartedness', 7599: 'heartfelt', 7600: 'heartiest', 7601: 'hearts', 7602: 'heartwarming', 7603: 'heartwrenching', 7604: 'heat', 7605: 'heated', 7606: 'heater', 7607: 'heathen', 7608: 'heathens', 7609: 'heats', 7610: 'heatwave', 7611: 'heaven', 7612: 'heavenly', 7613: 'heavens', 7614: 'heavily', 7615: 'heavy', 7616: 'heavyweight', 7617: 'hebrew', 7618: 'hebrews', 7619: 'hebron', 7620: 'heckled', 7621: 'hectare', 7622: 'hectares', 7623: 'hectic', 7624: 'hedges', 7625: 'heed', 7626: 'heel', 7627: 'hefty', 7628: 'hegde', 7629: 'height', 7630: 'heightened', 7631: 'heights', 7632: 'heinous', 7633: 'heir', 7634: 'helah', 7635: 'held', 7636: 'helicopter', 7637: 'helipads', 7638: 'helium', 7639: 'hell', 7640: 'hellenistic', 7641: 'hello', 7642: 'helm', 7643: 'helmed', 7644: 'helmer', 7645: 'helmets', 7646: 'help', 7647: 'helped', 7648: 'helpers', 7649: 'helpful', 7650: 'helping', 7651: 'helpline', 7652: 'helps', 7653: 'helpsters', 7654: 'hema', 7655: 'hemant', 7656: 'hembram', 7657: 'hemchandra', 7658: 'hemsworth', 7659: 'henan', 7660: 'hence', 7661: 'henceforth', 7662: 'henry', 7663: 'henschel', 7664: 'heptathlon', 7665: 'her', 7666: 'heracles', 7667: 'herat', 7668: 'herath', 7669: 'herb', 7670: 'herbalist', 7671: 'herbivore', 7672: 'herbs', 7673: 'herd', 7674: 'herds', 7675: 'here', 7676: 'herein', 7677: 'herere', 7678: 'heres', 7679: 'heresy', 7680: 'heritable', 7681: 'heritage', 7682: 'hero', 7683: 'heroes', 7684: 'heroic', 7685: 'heroin', 7686: 'heron', 7687: 'hers', 7688: 'hersan', 7689: 'herself', 7690: 'hes', 7691: 'heth', 7692: 'hetmyer', 7693: 'hey', 7694: 'hezekiah', 7695: 'hezekiahs', 7696: 'hezron', 7697: 'hgvlen', 7698: 'hi', 7699: 'hid', 7700: 'hidden', 7701: 'hide', 7702: 'hideous', 7703: 'hideout', 7704: 'hiding', 7705: 'hierarchical', 7706: 'high', 7707: 'highend', 7708: 'higher', 7709: 'highest', 7710: 'highestever', 7711: 'highlevel', 7712: 'highlight', 7713: 'highlighted', 7714: 'highlighting', 7715: 'highlights', 7716: 'highly', 7717: 'highness', 7718: 'highranking', 7719: 'highstatus', 7720: 'highway', 7721: 'highways', 7722: 'hike', 7723: 'hiked', 7724: 'hikes', 7725: 'hilarious', 7726: 'hill', 7727: 'hillary', 7728: 'hills', 7729: 'hillsides', 7730: 'hilly', 7731: 'him', 7732: 'hima', 7733: 'himachal', 7734: 'himalayas', 7735: 'himanshu', 7736: 'himayudheen', 7737: 'himesh', 7738: 'himself', 7739: 'hina', 7740: 'hind', 7741: 'hindi', 7742: 'hindon', 7743: 'hindostan', 7744: 'hindu', 7745: 'hinduism', 7746: 'hindumuslim', 7747: 'hindus', 7748: 'hindustan', 7749: 'hindustani', 7750: 'hindutva', 7751: 'hing', 7752: 'hinjewadi', 7753: 'hiphugging', 7754: 'hippocampus', 7755: 'hiram', 7756: 'hiranagar', 7757: 'hirani', 7758: 'hiranyakashyap', 7759: 'hirapur', 7760: 'hire', 7761: 'hired', 7762: 'hiremath', 7763: 'hiroo', 7764: 'his', 7765: 'histidine', 7766: 'histogram', 7767: 'historian', 7768: 'historians', 7769: 'historic', 7770: 'historical', 7771: 'historically', 7772: 'history', 7773: 'historys', 7774: 'hit', 7775: 'hitherto', 7776: 'hitler', 7777: 'hitlers', 7778: 'hitrun', 7779: 'hits', 7780: 'hitter', 7781: 'hitting', 7782: 'hittite', 7783: 'hiv', 7784: 'hizbul', 7785: 'hizbulmujahideen', 7786: 'hjs', 7787: 'hm', 7788: 'hnpdm', 7789: 'ho', 7790: 'hoarders', 7791: 'hoardings', 7792: 'hoax', 7793: 'hobby', 7794: 'hockey', 7795: 'hogan', 7796: 'hold', 7797: 'holder', 7798: 'holders', 7799: 'holding', 7800: 'holdings', 7801: 'holds', 7802: 'holdstock', 7803: 'hole', 7804: 'holed', 7805: 'holes', 7806: 'holi', 7807: 'holiday', 7808: 'holidaying', 7809: 'holidays', 7810: 'holidaysor', 7811: 'holistic', 7812: 'holkar', 7813: 'hollande', 7814: 'hollow', 7815: 'hollywood', 7816: 'hollywoods', 7817: 'holm', 7818: 'holocaust', 7819: 'holy', 7820: 'homage', 7821: 'home', 7822: 'homegrown', 7823: 'homeland', 7824: 'homely', 7825: 'homemade', 7826: 'homes', 7827: 'homestead', 7828: 'hometown', 7829: 'homo', 7830: 'homogeneous', 7831: 'homosporous', 7832: 'honble', 7833: 'honda', 7834: 'honderich', 7835: 'honest', 7836: 'honesty', 7837: 'honey', 7838: 'hong', 7839: 'honoi', 7840: 'honor', 7841: 'honorable', 7842: 'honorary', 7843: 'honored', 7844: 'honoring', 7845: 'honour', 7846: 'honourable', 7847: 'honoured', 7848: 'honours', 7849: 'hooda', 7850: 'hoodas', 7851: 'hooks', 7852: 'hookworm', 7853: 'hop', 7854: 'hope', 7855: 'hoped', 7856: 'hopeful', 7857: 'hopefully', 7858: 'hopefuls', 7859: 'hopeless', 7860: 'hopes', 7861: 'hoping', 7862: 'horeb', 7863: 'horizons', 7864: 'horizontal', 7865: 'horlicks', 7866: 'hormones', 7867: 'horn', 7868: 'hornellsville', 7869: 'horns', 7870: 'horoscopes', 7871: 'horrible', 7872: 'horrific', 7873: 'horrifying', 7874: 'horse', 7875: 'horsemen', 7876: 'horses', 7877: 'horsesand', 7878: 'horticulture', 7879: 'hosah', 7880: 'hoshiarpur', 7881: 'hosiery', 7882: 'hospital', 7883: 'hospitalised', 7884: 'hospitality', 7885: 'hospitalized', 7886: 'hospitals', 7887: 'hossain', 7888: 'host', 7889: 'hosted', 7890: 'hostel', 7891: 'hostile', 7892: 'hosting', 7893: 'hosts', 7894: 'hot', 7895: 'hotel', 7896: 'hotels', 7897: 'hotelsforland', 7898: 'hotstar', 7899: 'hotstars', 7900: 'hottempered', 7901: 'hottest', 7902: 'hottie', 7903: 'hour', 7904: 'hourlong', 7905: 'hours', 7906: 'house', 7907: 'housefull', 7908: 'household', 7909: 'householder', 7910: 'households', 7911: 'houseless', 7912: 'houses', 7913: 'housescan', 7914: 'housetohouse', 7915: 'housewife', 7916: 'housing', 7917: 'houston', 7918: 'hovering', 7919: 'how', 7920: 'howbeit', 7921: 'howdy', 7922: 'however', 7923: 'howeverit', 7924: 'howeverthe', 7925: 'howling', 7926: 'howre', 7927: 'hows', 7928: 'hq', 7929: 'hrd', 7930: 'hrithik', 7931: 'hrjedalen', 7932: 'hrs', 7933: 'hse', 7934: 'httpsdevelopermozillaorgdocsmozillaperformancescrolllinkedeffects', 7935: 'httpwww', 7936: 'huawei', 7937: 'hub', 7938: 'hubby', 7939: 'hubei', 7940: 'hubs', 7941: 'hug', 7942: 'huge', 7943: 'hugely', 7944: 'hugged', 7945: 'hugs', 7946: 'hukum', 7947: 'hum', 7948: 'huma', 7949: 'human', 7950: 'humanist', 7951: 'humanitarian', 7952: 'humanity', 7953: 'humans', 7954: 'humble', 7955: 'humbled', 7956: 'humbles', 7957: 'humbling', 7958: 'humbly', 7959: 'humid', 7960: 'humidity', 7961: 'humiliated', 7962: 'humility', 7963: 'humongous', 7964: 'humour', 7965: 'humsafar', 7966: 'hundred', 7967: 'hundredfold', 7968: 'hundreds', 7969: 'hungarian', 7970: 'hunger', 7971: 'hungry', 7972: 'hunt', 7973: 'hunter', 7974: 'hunting', 7975: 'hurdle', 7976: 'hurdles', 7977: 'hurl', 7978: 'hurls', 7979: 'hurricane', 7980: 'hurry', 7981: 'hurt', 7982: 'hurtful', 7983: 'hurting', 7984: 'hus', 7985: 'husband', 7986: 'husbands', 7987: 'huseyn', 7988: 'husham', 7989: 'hushed', 7990: 'hussain', 7991: 'hustings', 7992: 'huzaifa', 7993: 'hyatt', 7994: 'hydari', 7995: 'hyderabad', 7996: 'hydraulic', 7997: 'hydrocarbon', 7998: 'hydrocarbons', 7999: 'hydrogen', 8000: 'hydrosphere', 8001: 'hydroxychloroquine', 8002: 'hyenas', 8003: 'hygiene', 8004: 'hymenaeus', 8005: 'hyperactive', 8006: 'hyperglycemia', 8007: 'hypersensitive', 8008: 'hypertension', 8009: 'hypocrisy', 8010: 'hypocrites', 8011: 'hypoglycemia', 8012: 'hypothetical', 8013: 'i', 8014: 'iaaf', 8015: 'iaf', 8016: 'iafs', 8017: 'ian', 8018: 'ians', 8019: 'ias', 8020: 'iata', 8021: 'iay', 8022: 'ib', 8023: 'ibc', 8024: 'ibrahim', 8025: 'ibrd', 8026: 'ibsf', 8027: 'ic', 8028: 'icao', 8029: 'icar', 8030: 'icc', 8031: 'iccs', 8032: 'ice', 8033: 'icebergs', 8034: 'iceland', 8035: 'icelandic', 8036: 'icf', 8037: 'icftunesco', 8038: 'icici', 8039: 'icing', 8040: 'icj', 8041: 'icmr', 8042: 'icon', 8043: 'iconic', 8044: 'iconium', 8045: 'icons', 8046: 'ictbased', 8047: 'icu', 8048: 'id', 8049: 'ida', 8050: 'idbi', 8051: 'idc', 8052: 'idea', 8053: 'ideals', 8054: 'ideas', 8055: 'identical', 8056: 'identification', 8057: 'identified', 8058: 'identify', 8059: 'identifying', 8060: 'identities', 8061: 'identity', 8062: 'ideology', 8063: 'idfc', 8064: 'idle', 8065: 'idol', 8066: 'idolatry', 8067: 'idols', 8068: 'ids', 8069: 'idukki', 8070: 'ie', 8071: 'iea', 8072: 'ied', 8073: 'ief', 8074: 'ies', 8075: 'if', 8076: 'iffi', 8077: 'ifl', 8078: 'ifladp', 8079: 'ifs', 8080: 'ifsc', 8081: 'igbc', 8082: 'igi', 8083: 'igims', 8084: 'iglesia', 8085: 'ignite', 8086: 'ignited', 8087: 'ignorance', 8088: 'ignore', 8089: 'ignored', 8090: 'ignoring', 8091: 'ii', 8092: 'iiest', 8093: 'iii', 8094: 'iiits', 8095: 'iim', 8096: 'iims', 8097: 'iisc', 8098: 'iisers', 8099: 'iit', 8100: 'iitkanpur', 8101: 'iits', 8102: 'ika', 8103: 'ilagans', 8104: 'iliyas', 8105: 'ill', 8106: 'illegal', 8107: 'illhealth', 8108: 'illinois', 8109: 'illiteracy', 8110: 'illiterate', 8111: 'illness', 8112: 'illuminated', 8113: 'illusion', 8114: 'illustrate', 8115: 'illustrates', 8116: 'illustration', 8117: 'ilmi', 8118: 'ilo', 8119: 'im', 8120: 'ima', 8121: 'image', 8122: 'images', 8123: 'imagination', 8124: 'imagine', 8125: 'imam', 8126: 'imarti', 8127: 'imbabwe', 8128: 'imcs', 8129: 'imd', 8130: 'imitate', 8131: 'imitating', 8132: 'immediate', 8133: 'immediately', 8134: 'immense', 8135: 'immensely', 8136: 'immersed', 8137: 'immersing', 8138: 'immigrant', 8139: 'immigrants', 8140: 'immigrated', 8141: 'imminent', 8142: 'immorality', 8143: 'immortal', 8144: 'immortality', 8145: 'immoveable', 8146: 'immune', 8147: 'immuneenhancing', 8148: 'immunity', 8149: 'immunotherapy', 8150: 'imobile', 8151: 'impac', 8152: 'impact', 8153: 'impacted', 8154: 'impacting', 8155: 'impaired', 8156: 'impairment', 8157: 'impart', 8158: 'impartial', 8159: 'impartiality', 8160: 'impartially', 8161: 'impatient', 8162: 'impeccable', 8163: 'imperative', 8164: 'imperfect', 8165: 'imperfection', 8166: 'imperial', 8167: 'impetuous', 8168: 'impetus', 8169: 'impingement', 8170: 'implement', 8171: 'implementation', 8172: 'implemented', 8173: 'implementing', 8174: 'implication', 8175: 'implications', 8176: 'implicit', 8177: 'implies', 8178: 'imply', 8179: 'import', 8180: 'importance', 8181: 'important', 8182: 'importantly', 8183: 'imported', 8184: 'importer', 8185: 'importexport', 8186: 'importing', 8187: 'imports', 8188: 'imposed', 8189: 'impossible', 8190: 'impregnable', 8191: 'impressed', 8192: 'impression', 8193: 'impressive', 8194: 'imprisionment', 8195: 'imprison', 8196: 'imprisoned', 8197: 'imprisonment', 8198: 'impromptu', 8199: 'improper', 8200: 'improve', 8201: 'improved', 8202: 'improvement', 8203: 'improves', 8204: 'improving', 8205: 'imran', 8206: 'imri', 8207: 'imtiaz', 8208: 'in', 8209: 'ina', 8210: 'inaction', 8211: 'inactive', 8212: 'inappropriate', 8213: 'inaugural', 8214: 'inaugurate', 8215: 'inaugurated', 8216: 'inauguratepakyong', 8217: 'inaugurates', 8218: 'inauguration', 8219: 'inbound', 8220: 'inbuilt', 8221: 'inc', 8222: 'incarnations', 8223: 'incense', 8224: 'incentives', 8225: 'incentivising', 8226: 'incentivizing', 8227: 'incessant', 8228: 'inch', 8229: 'incharge', 8230: 'inches', 8231: 'inching', 8232: 'incidence', 8233: 'incidences', 8234: 'incident', 8235: 'incidentally', 8236: 'incidents', 8237: 'incidentthe', 8238: 'incinerators', 8239: 'incite', 8240: 'incited', 8241: 'inclement', 8242: 'inclinations', 8243: 'include', 8244: 'included', 8245: 'includes', 8246: 'including', 8247: 'inclusion', 8248: 'inclusive', 8249: 'income', 8250: 'incomes', 8251: 'incometax', 8252: 'incompetent', 8253: 'incomplete', 8254: 'inconceivable', 8255: 'inconclusive', 8256: 'inconvenience', 8257: 'inconvenienced', 8258: 'incorporated', 8259: 'incorrect', 8260: 'increase', 8261: 'increased', 8262: 'increases', 8263: 'increasing', 8264: 'increasingly', 8265: 'incredible', 8266: 'incredibly', 8267: 'incubation', 8268: 'inculcate', 8269: 'inculcated', 8270: 'inculcation', 8271: 'incumbent', 8272: 'incurred', 8273: 'incurring', 8274: 'ind', 8275: 'indapur', 8276: 'indebted', 8277: 'indeed', 8278: 'indefatigable', 8279: 'indefinitely', 8280: 'indelible', 8281: 'indent', 8282: 'independence', 8283: 'independent', 8284: 'independents', 8285: 'indi', 8286: 'india', 8287: 'indiaborn', 8288: 'indiabut', 8289: 'indiachina', 8290: 'indiafightscorona', 8291: 'indiaindian', 8292: 'indiainfosyshdfc', 8293: 'indiajapan', 8294: 'indian', 8295: 'indiana', 8296: 'indianamerican', 8297: 'indianamericans', 8298: 'indianepal', 8299: 'indianew', 8300: 'indianexpresscom', 8301: 'indianorigin', 8302: 'indianot', 8303: 'indians', 8304: 'indiapakistan', 8305: 'indias', 8306: 'indiauk', 8307: 'indiaus', 8308: 'indicate', 8309: 'indicated', 8310: 'indicates', 8311: 'indication', 8312: 'indicator', 8313: 'indicators', 8314: 'indices', 8315: 'indictment', 8316: 'indies', 8317: 'indifference', 8318: 'indifferent', 8319: 'indigenes', 8320: 'indigenisation', 8321: 'indigenous', 8322: 'indigenouslybuilt', 8323: 'indignant', 8324: 'indignation', 8325: 'indigo', 8326: 'indira', 8327: 'indirapuram', 8328: 'indirect', 8329: 'indirectly', 8330: 'indiscipline', 8331: 'individual', 8332: 'individuals', 8333: 'indoisraeli', 8334: 'indonesia', 8335: 'indonesian', 8336: 'indonesias', 8337: 'indoo', 8338: 'indoors', 8339: 'indopak', 8340: 'indore', 8341: 'indori', 8342: 'indotibetan', 8343: 'indradhanush', 8344: 'indrani', 8345: 'indranis', 8346: 'indrayani', 8347: 'indu', 8348: 'induce', 8349: 'inducted', 8350: 'indulge', 8351: 'indulgence', 8352: 'indus', 8353: 'industrial', 8354: 'industrialization', 8355: 'industries', 8356: 'industriescoal', 8357: 'industry', 8358: 'inefficiency', 8359: 'inequality', 8360: 'inevitable', 8361: 'inexcusable', 8362: 'inexpensive', 8363: 'inexperienced', 8364: 'inez', 8365: 'infallible', 8366: 'infamous', 8367: 'infant', 8368: 'infanticide', 8369: 'infants', 8370: 'infect', 8371: 'infected', 8372: 'infection', 8373: 'infections', 8374: 'infectious', 8375: 'inferior', 8376: 'infidels', 8377: 'infiltration', 8378: 'infiltrators', 8379: 'infinite', 8380: 'inflation', 8381: 'inflict', 8382: 'inflows', 8383: 'influence', 8384: 'influenced', 8385: 'influences', 8386: 'influencing', 8387: 'influential', 8388: 'influenza', 8389: 'influx', 8390: 'info', 8391: 'inform', 8392: 'informal', 8393: 'informants', 8394: 'information', 8395: 'informative', 8396: 'informed', 8397: 'informing', 8398: 'infosys', 8399: 'infra', 8400: 'infrared', 8401: 'infrastructure', 8402: 'infrastructurebridges', 8403: 'infringements', 8404: 'infused', 8405: 'infusion', 8406: 'ingredient', 8407: 'ingredients', 8408: 'inhabitants', 8409: 'inhabited', 8410: 'inherent', 8411: 'inherit', 8412: 'inheritance', 8413: 'inhibited', 8414: 'iniquity', 8415: 'initial', 8416: 'initially', 8417: 'initiate', 8418: 'initiated', 8419: 'initiative', 8420: 'initiatives', 8421: 'inject', 8422: 'injected', 8423: 'injection', 8424: 'injure', 8425: 'injured', 8426: 'injuries', 8427: 'injury', 8428: 'injustice', 8429: 'inkatha', 8430: 'inked', 8431: 'inlaws', 8432: 'innate', 8433: 'inner', 8434: 'inning', 8435: 'innings', 8436: 'innocent', 8437: 'innovation', 8438: 'innovations', 8439: 'innovative', 8440: 'innovators', 8441: 'innumerable', 8442: 'inoculation', 8443: 'inordinate', 8444: 'inputs', 8445: 'inquired', 8446: 'inquiring', 8447: 'inquiry', 8448: 'inr', 8449: 'inroads', 8450: 'ins', 8451: 'insects', 8452: 'insecure', 8453: 'insensitive', 8454: 'insert', 8455: 'insha', 8456: 'inside', 8457: 'insight', 8458: 'insist', 8459: 'insisted', 8460: 'insists', 8461: 'insolvency', 8462: 'insolvent', 8463: 'insomnia', 8464: 'inspect', 8465: 'inspected', 8466: 'inspecting', 8467: 'inspection', 8468: 'inspector', 8469: 'inspectors', 8470: 'inspiration', 8471: 'inspirational', 8472: 'inspire', 8473: 'inspired', 8474: 'inspiring', 8475: 'instagram', 8476: 'install', 8477: 'installation', 8478: 'installations', 8479: 'installed', 8480: 'installing', 8481: 'installment', 8482: 'installments', 8483: 'instance', 8484: 'instances', 8485: 'instant', 8486: 'instantly', 8487: 'instead', 8488: 'instigation', 8489: 'instill', 8490: 'instilling', 8491: 'instinct', 8492: 'institute', 8493: 'instituted', 8494: 'institutes', 8495: 'institution', 8496: 'institutional', 8497: 'institutions', 8498: 'instruct', 8499: 'instructed', 8500: 'instruction', 8501: 'instructions', 8502: 'instruments', 8503: 'insufficient', 8504: 'insult', 8505: 'insulted', 8506: 'insurance', 8507: 'insure', 8508: 'insured', 8509: 'insurrectionary', 8510: 'intact', 8511: 'intake', 8512: 'integral', 8513: 'integrate', 8514: 'integrated', 8515: 'integration', 8516: 'integrity', 8517: 'intellectual', 8518: 'intellectualism', 8519: 'intelligence', 8520: 'intelligent', 8521: 'intelligentsia', 8522: 'intended', 8523: 'intense', 8524: 'intensified', 8525: 'intensify', 8526: 'intensity', 8527: 'intention', 8528: 'intentional', 8529: 'intentionally', 8530: 'intentions', 8531: 'interact', 8532: 'interacted', 8533: 'interacting', 8534: 'interaction', 8535: 'interactions', 8536: 'interacts', 8537: 'intercept', 8538: 'intercepted', 8539: 'interchangeability', 8540: 'interchangeable', 8541: 'interconnection', 8542: 'intercourse', 8543: 'interdisciplinary', 8544: 'interest', 8545: 'interested', 8546: 'interesting', 8547: 'interestingly', 8548: 'interests', 8549: 'interface', 8550: 'interfere', 8551: 'interference', 8552: 'interim', 8553: 'interior', 8554: 'interiors', 8555: 'interlocutors', 8556: 'intermediate', 8557: 'internal', 8558: 'internally', 8559: 'international', 8560: 'internationalise', 8561: 'internationally', 8562: 'internet', 8563: 'interns', 8564: 'internship', 8565: 'interpol', 8566: 'interrogated', 8567: 'interrogating', 8568: 'interrogation', 8569: 'interruption', 8570: 'interstate', 8571: 'intertwined', 8572: 'interval', 8573: 'intervene', 8574: 'intervened', 8575: 'intervening', 8576: 'intervention', 8577: 'interventions', 8578: 'interview', 8579: 'interviewed', 8580: 'interviews', 8581: 'interwar', 8582: 'intimate', 8583: 'intimately', 8584: 'into', 8585: 'intolerance', 8586: 'intolerant', 8587: 'intoxicated', 8588: 'intrastate', 8589: 'intrinsic', 8590: 'introduce', 8591: 'introduced', 8592: 'introducing', 8593: 'introduction', 8594: 'introspect', 8595: 'introverted', 8596: 'intuitive', 8597: 'inundated', 8598: 'inundation', 8599: 'inured', 8600: 'invaded', 8601: 'invalid', 8602: 'invalidate', 8603: 'invaluable', 8604: 'invasion', 8605: 'invented', 8606: 'invention', 8607: 'inventions', 8608: 'inversely', 8609: 'invest', 8610: 'investable', 8611: 'investigate', 8612: 'investigated', 8613: 'investigates', 8614: 'investigating', 8615: 'investigation', 8616: 'investigations', 8617: 'investigators', 8618: 'investing', 8619: 'investment', 8620: 'investments', 8621: 'investor', 8622: 'investors', 8623: 'invigorating', 8624: 'invisible', 8625: 'invitation', 8626: 'invite', 8627: 'invited', 8628: 'invites', 8629: 'inviting', 8630: 'invoke', 8631: 'involve', 8632: 'involved', 8633: 'involvement', 8634: 'involves', 8635: 'involving', 8636: 'inwardlooking', 8637: 'inx', 8638: 'inzamam', 8639: 'io', 8640: 'ioa', 8641: 'ioc', 8642: 'iocl', 8643: 'ios', 8644: 'iota', 8645: 'iowa', 8646: 'ip', 8647: 'ipa', 8648: 'ipc', 8649: 'ipd', 8650: 'ipft', 8651: 'iphone', 8652: 'iphones', 8653: 'ipl', 8654: 'ipod', 8655: 'ippb', 8656: 'ipr', 8657: 'iprism', 8658: 'ips', 8659: 'iqbal', 8660: 'iran', 8661: 'irani', 8662: 'iranianhuthi', 8663: 'irans', 8664: 'iraq', 8665: 'irctc', 8666: 'ireland', 8667: 'irene', 8668: 'irfan', 8669: 'irked', 8670: 'iron', 8671: 'ironical', 8672: 'irons', 8673: 'irrelevant', 8674: 'irreparable', 8675: 'irrespective', 8676: 'irrfan', 8677: 'irri', 8678: 'irrigation', 8679: 'irritated', 8680: 'irritating', 8681: 'irritation', 8682: 'irshad', 8683: 'irula', 8684: 'irving', 8685: 'is', 8686: 'isaac', 8687: 'isaiah', 8688: 'isaiahs', 8689: 'isha', 8690: 'ishaat', 8691: 'ishant', 8692: 'ishaqzaade', 8693: 'ishar', 8694: 'ishqiyamadhuri', 8695: 'ishrat', 8696: 'isi', 8697: 'isiochas', 8698: 'isis', 8699: 'isl', 8700: 'islam', 8701: 'islamabad', 8702: 'islamia', 8703: 'islamic', 8704: 'island', 8705: 'islands', 8706: 'isles', 8707: 'ismn', 8708: 'isnt', 8709: 'isolate', 8710: 'isolated', 8711: 'isolation', 8712: 'israel', 8713: 'israeli', 8714: 'israelite', 8715: 'israelites', 8716: 'israels', 8717: 'isro', 8718: 'isros', 8719: 'isroto', 8720: 'issar', 8721: 'issf', 8722: 'issuance', 8723: 'issue', 8724: 'issuebased', 8725: 'issued', 8726: 'issuers', 8727: 'issues', 8728: 'issuing', 8729: 'ist', 8730: 'istanbul', 8731: 'it', 8732: 'italian', 8733: 'italians', 8734: 'italy', 8735: 'itand', 8736: 'itbp', 8737: 'item', 8738: 'items', 8739: 'ithamar', 8740: 'itinerary', 8741: 'itll', 8742: 'ito', 8743: 'itr', 8744: 'its', 8745: 'itself', 8746: 'itv', 8747: 'iv', 8748: 'ivanka', 8749: 'ive', 8750: 'ix', 8751: 'iyer', 8752: 'j', 8753: 'jaa', 8754: 'jaanu', 8755: 'jaaved', 8756: 'jabalpur', 8757: 'jacinda', 8758: 'jack', 8759: 'jackals', 8760: 'jackie', 8761: 'jacob', 8762: 'jacqueline', 8763: 'jadavpur', 8764: 'jadeja', 8765: 'jadhav', 8766: 'jadhavs', 8767: 'jafferys', 8768: 'jaffrabad', 8769: 'jafrabad', 8770: 'jagadeeshwar', 8771: 'jagan', 8772: 'jagannadh', 8773: 'jagannath', 8774: 'jagat', 8775: 'jagdale', 8776: 'jagdeep', 8777: 'jagdish', 8778: 'jagga', 8779: 'jaggery', 8780: 'jagjit', 8781: 'jagjivan', 8782: 'jagmohan', 8783: 'jagor', 8784: 'jagran', 8785: 'jagruti', 8786: 'jagtap', 8787: 'jahan', 8788: 'jai', 8789: 'jaideep', 8790: 'jail', 8791: 'jailed', 8792: 'jaime', 8793: 'jain', 8794: 'jains', 8795: 'jaipur', 8796: 'jair', 8797: 'jairam', 8798: 'jaish', 8799: 'jaishankar', 8800: 'jaishemohammad', 8801: 'jaishemohammed', 8802: 'jaisiddheshwar', 8803: 'jaitley', 8804: 'jaitleys', 8805: 'jaju', 8806: 'jalandhar', 8807: 'jalgaon', 8808: 'jallianwala', 8809: 'jalna', 8810: 'jalnabuldhana', 8811: 'jalota', 8812: 'jam', 8813: 'jamaat', 8814: 'jamaatuddawa', 8815: 'jamaican', 8816: 'jamal', 8817: 'jambyl', 8818: 'james', 8819: 'jamia', 8820: 'jamin', 8821: 'jammu', 8822: 'jammukashmir', 8823: 'jammusrinagar', 8824: 'jamnagar', 8825: 'jamnalal', 8826: 'jams', 8827: 'jamshedpur', 8828: 'jan', 8829: 'jana', 8830: 'janardan', 8831: 'janardhan', 8832: 'janashakti', 8833: 'janata', 8834: 'jangipur', 8835: 'janhvi', 8836: 'janhvis', 8837: 'jankia', 8838: 'janmabhoomi', 8839: 'janmbhoomibabri', 8840: 'jannayak', 8841: 'janshakti', 8842: 'janta', 8843: 'january', 8844: 'januarymarch', 8845: 'japan', 8846: 'japanese', 8847: 'japans', 8848: 'japheth', 8849: 'jar', 8850: 'jared', 8851: 'jari', 8852: 'jarmanpreet', 8853: 'jarring', 8854: 'jashar', 8855: 'jasleen', 8856: 'jason', 8857: 'jasprit', 8858: 'jatin', 8859: 'jatjinder', 8860: 'jatti', 8861: 'javadekar', 8862: 'javelin', 8863: 'jawa', 8864: 'jawahar', 8865: 'jawaharlal', 8866: 'jawan', 8867: 'jawani', 8868: 'jawans', 8869: 'jay', 8870: 'jaya', 8871: 'jayakumar', 8872: 'jayalalithaa', 8873: 'jayalalithaas', 8874: 'jayant', 8875: 'jayanta', 8876: 'jayanti', 8877: 'jayne', 8878: 'jayprakash', 8879: 'jazbaa', 8880: 'jazeera', 8881: 'jd', 8882: 'jds', 8883: 'jdu', 8884: 'jealous', 8885: 'jealousy', 8886: 'jeddah', 8887: 'jeduthun', 8888: 'jee', 8889: 'jeep', 8890: 'jeff', 8891: 'jehanabad', 8892: 'jehoahaz', 8893: 'jehoash', 8894: 'jehoiada', 8895: 'jehoiakim', 8896: 'jehoram', 8897: 'jehoshaphat', 8898: 'jehovah', 8899: 'jehovahs', 8900: 'jehu', 8901: 'jelly', 8902: 'jellyfish', 8903: 'jelsa', 8904: 'jem', 8905: 'jemattack', 8906: 'jemimah', 8907: 'jena', 8908: 'jenner', 8909: 'jennifer', 8910: 'jenny', 8911: 'jeopardizing', 8912: 'jer', 8913: 'jerahmeel', 8914: 'jeremiah', 8915: 'jeremoth', 8916: 'jericho', 8917: 'jerubbaal', 8918: 'jerusalem', 8919: 'jerusalems', 8920: 'jesse', 8921: 'jesses', 8922: 'jessia', 8923: 'jessica', 8924: 'jested', 8925: 'jesus', 8926: 'jet', 8927: 'jethmalani', 8928: 'jets', 8929: 'jew', 8930: 'jewel', 8931: 'jeweller', 8932: 'jewellers', 8933: 'jewellery', 8934: 'jewelry', 8935: 'jewish', 8936: 'jews', 8937: 'jezreel', 8938: 'jhalak', 8939: 'jhalke', 8940: 'jhanjharpur', 8941: 'jhansi', 8942: 'jharkhand', 8943: 'jharkhands', 8944: 'jhelum', 8945: 'jhulan', 8946: 'ji', 8947: 'jiah', 8948: 'jiaming', 8949: 'jibe', 8950: 'jigneshmewani', 8951: 'jigyasa', 8952: 'jihad', 8953: 'jihadists', 8954: 'jill', 8955: 'jilted', 8956: 'jim', 8957: 'jindal', 8958: 'jindalpromoted', 8959: 'jinping', 8960: 'jinxed', 8961: 'jio', 8962: 'jiochat', 8963: 'jiophone', 8964: 'jis', 8965: 'jism', 8966: 'jitan', 8967: 'jitendra', 8968: 'jitin', 8969: 'jittery', 8970: 'jj', 8971: 'jjp', 8972: 'jjps', 8973: 'jk', 8974: 'jkpdc', 8975: 'jmm', 8976: 'jn', 8977: 'jnpt', 8978: 'jnu', 8979: 'job', 8980: 'jobless', 8981: 'joblosses', 8982: 'jobs', 8983: 'jodhaa', 8984: 'jodhpur', 8985: 'jodi', 8986: 'joe', 8987: 'jog', 8988: 'jogli', 8989: 'johan', 8990: 'johannesburg', 8991: 'johar', 8992: 'johars', 8993: 'john', 8994: 'johnson', 8995: 'johnsons', 8996: 'johri', 8997: 'join', 8998: 'joined', 8999: 'joining', 9000: 'joins', 9001: 'joint', 9002: 'jointly', 9003: 'jointness', 9004: 'jointpress', 9005: 'jokingly', 9006: 'jolie', 9007: 'jolla', 9008: 'jolt', 9009: 'jonadab', 9010: 'jonah', 9011: 'jonas', 9012: 'jonathan', 9013: 'jonathans', 9014: 'jones', 9015: 'jonny', 9016: 'joram', 9017: 'jordan', 9018: 'joseph', 9019: 'josh', 9020: 'joshi', 9021: 'joshis', 9022: 'joshua', 9023: 'joshuas', 9024: 'josiah', 9025: 'jot', 9026: 'jotto', 9027: 'journal', 9028: 'journalist', 9029: 'journalistactivist', 9030: 'journalists', 9031: 'journals', 9032: 'journey', 9033: 'jowarbajra', 9034: 'joy', 9035: 'joyful', 9036: 'joyfully', 9037: 'jp', 9038: 'jr', 9039: 'jrme', 9040: 'js', 9041: 'jsf', 9042: 'jsw', 9043: 'jubile', 9044: 'jubilee', 9045: 'jud', 9046: 'judah', 9047: 'judas', 9048: 'judg', 9049: 'judge', 9050: 'judged', 9051: 'judgement', 9052: 'judgements', 9053: 'judges', 9054: 'judgment', 9055: 'judgmental', 9056: 'judgments', 9057: 'judicial', 9058: 'judiciary', 9059: 'judiciarys', 9060: 'judwaa', 9061: 'jugnauth', 9062: 'juhi', 9063: 'juice', 9064: 'juices', 9065: 'julissa', 9066: 'july', 9067: 'jumla', 9068: 'jumlas', 9069: 'jump', 9070: 'jumped', 9071: 'jumping', 9072: 'junagarh', 9073: 'junction', 9074: 'juncture', 9075: 'june', 9076: 'jung', 9077: 'jungle', 9078: 'jungles', 9079: 'junior', 9080: 'juniorreceived', 9081: 'junk', 9082: 'just', 9083: 'juste', 9084: 'justice', 9085: 'justices', 9086: 'justified', 9087: 'justin', 9088: 'jute', 9089: 'juvenile', 9090: 'juveniles', 9091: 'juventus', 9092: 'juxtaposes', 9093: 'jv', 9094: 'jw', 9095: 'jworg', 9096: 'jwst', 9097: 'jyothi', 9098: 'jyotiraditya', 9099: 'jyotis', 9100: 'k', 9101: 'kaala', 9102: 'kabaddi', 9103: 'kabali', 9104: 'kabini', 9105: 'kabir', 9106: 'kachinsky', 9107: 'kadam', 9108: 'kadangbam', 9109: 'kadar', 9110: 'kader', 9111: 'kagiso', 9112: 'kahkashan', 9113: 'kaif', 9114: 'kailash', 9115: 'kajal', 9116: 'kal', 9117: 'kala', 9118: 'kalaburagi', 9119: 'kaladan', 9120: 'kalam', 9121: 'kalank', 9122: 'kalapani', 9123: 'kalburgi', 9124: 'kale', 9125: 'kaleswara', 9126: 'kalia', 9127: 'kalidas', 9128: 'kalmadi', 9129: 'kalon', 9130: 'kalonoros', 9131: 'kalpana', 9132: 'kalyan', 9133: 'kamal', 9134: 'kamala', 9135: 'kamalakar', 9136: 'kamath', 9137: 'kamble', 9138: 'kameez', 9139: 'kamil', 9140: 'kamlesh', 9141: 'kamleshwar', 9142: 'kanaihya', 9143: 'kanan', 9144: 'kandivali', 9145: 'kane', 9146: 'kangale', 9147: 'kangana', 9148: 'kanhaiya', 9149: 'kanika', 9150: 'kanjur', 9151: 'kankavli', 9152: 'kannada', 9153: 'kannauj', 9154: 'kannur', 9155: 'kant', 9156: 'kanuo', 9157: 'kanyakumari', 9158: 'kapil', 9159: 'kapils', 9160: 'kapoor', 9161: 'kapoors', 9162: 'kapur', 9163: 'karachi', 9164: 'karad', 9165: 'karagandinskaja', 9166: 'karagandy', 9167: 'karan', 9168: 'karawal', 9169: 'kardashian', 9170: 'kareena', 9171: 'kargil', 9172: 'karim', 9173: 'karisma', 9174: 'karjatlonavala', 9175: 'karla', 9176: 'karmakar', 9177: 'karnad', 9178: 'karnal', 9179: 'karnataka', 9180: 'karnatakas', 9181: 'karni', 9182: 'karnik', 9183: 'karthik', 9184: 'karti', 9185: 'kartik', 9186: 'karun', 9187: 'karunanidhi', 9188: 'karunaratnes', 9189: 'kas', 9190: 'kasab', 9191: 'kasargod', 9192: 'kashgar', 9193: 'kashi', 9194: 'kashmir', 9195: 'kashmiri', 9196: 'kashmiris', 9197: 'kashmirs', 9198: 'kashyaps', 9199: 'kaski', 9200: 'kasturba', 9201: 'kasturi', 9202: 'kat', 9203: 'katare', 9204: 'kataria', 9205: 'katariya', 9206: 'katarzyna', 9207: 'kate', 9208: 'katheria', 9209: 'kathiawadi', 9210: 'kathmandu', 9211: 'kathua', 9212: 'katra', 9213: 'katrina', 9214: 'kattalsar', 9215: 'kattappa', 9216: 'kaun', 9217: 'kaur', 9218: 'kaushal', 9219: 'kaushambi', 9220: 'kaushik', 9221: 'kavalappara', 9222: 'kavi', 9223: 'kavita', 9224: 'kavya', 9225: 'kazakh', 9226: 'kazakhstan', 9227: 'kazunari', 9228: 'kbc', 9229: 'kc', 9230: 'kccs', 9231: 'kcr', 9232: 'kde', 9233: 'ke', 9234: 'kedar', 9235: 'kedarnath', 9236: 'keemo', 9237: 'keen', 9238: 'keep', 9239: 'keepers', 9240: 'keeping', 9241: 'keeps', 9242: 'keer', 9243: 'kehelathah', 9244: 'kejriwal', 9245: 'kejriwals', 9246: 'kelkar', 9247: 'keller', 9248: 'kem', 9249: 'kemmu', 9250: 'ken', 9251: 'kendrekar', 9252: 'kenneth', 9253: 'kenny', 9254: 'kenya', 9255: 'kept', 9256: 'kerala', 9257: 'keralas', 9258: 'kesar', 9259: 'kesarkar', 9260: 'keshav', 9261: 'kesrick', 9262: 'ketan', 9263: 'ketchup', 9264: 'kevin', 9265: 'key', 9266: 'keyboard', 9267: 'keyman', 9268: 'keys', 9269: 'kg', 9270: 'kgs', 9271: 'khader', 9272: 'khadgawankala', 9273: 'khadi', 9274: 'khadse', 9275: 'khadses', 9276: 'khagaria', 9277: 'khairpur', 9278: 'khairul', 9279: 'khaleel', 9280: 'khalifatabad', 9281: 'khalilabad', 9282: 'khalsa', 9283: 'khan', 9284: 'khanapur', 9285: 'khanchandani', 9286: 'khandar', 9287: 'khandawali', 9288: 'khandekar', 9289: 'khanderi', 9290: 'khanna', 9291: 'khans', 9292: 'khanty', 9293: 'khanvilkar', 9294: 'khaqan', 9295: 'khar', 9296: 'kharges', 9297: 'kharghar', 9298: 'kharif', 9299: 'kharkopar', 9300: 'khary', 9301: 'khashoggi', 9302: 'khasigaro', 9303: 'khattar', 9304: 'khatun', 9305: 'khawaja', 9306: 'khayyam', 9307: 'khedkar', 9308: 'khel', 9309: 'kheloindia', 9310: 'kher', 9311: 'kherwadi', 9312: 'khijli', 9313: 'khilji', 9314: 'khinsvar', 9315: 'khogy', 9316: 'khonsa', 9317: 'khot', 9318: 'khuda', 9319: 'khufu', 9320: 'khurrana', 9321: 'khushi', 9322: 'khwaja', 9323: 'ki', 9324: 'kiara', 9325: 'kick', 9326: 'kicked', 9327: 'kicker', 9328: 'kickstart', 9329: 'kickstarted', 9330: 'kid', 9331: 'kidambi', 9332: 'kidnapped', 9333: 'kidnapping', 9334: 'kidney', 9335: 'kidneyliver', 9336: 'kids', 9337: 'kieron', 9338: 'kill', 9339: 'killed', 9340: 'killer', 9341: 'killers', 9342: 'killerslike', 9343: 'killing', 9344: 'kills', 9345: 'kilo', 9346: 'kilogram', 9347: 'kilometer', 9348: 'kilometers', 9349: 'kilometre', 9350: 'kilometres', 9351: 'kim', 9352: 'kimberly', 9353: 'kimonos', 9354: 'kimoon', 9355: 'kind', 9356: 'kindest', 9357: 'kindly', 9358: 'kindness', 9359: 'kinds', 9360: 'king', 9361: 'kingdom', 9362: 'kingdoms', 9363: 'kings', 9364: 'kingship', 9365: 'kingsway', 9366: 'kingswear', 9367: 'kinship', 9368: 'kiosk', 9369: 'kirana', 9370: 'kiren', 9371: 'kirit', 9372: 'kirron', 9373: 'kirsten', 9374: 'kirti', 9375: 'kirtipur', 9376: 'kisan', 9377: 'kishan', 9378: 'kishanganj', 9379: 'kishor', 9380: 'kishore', 9381: 'kishori', 9382: 'kiss', 9383: 'kissed', 9384: 'kit', 9385: 'kites', 9386: 'kits', 9387: 'kitten', 9388: 'kitty', 9389: 'kiwis', 9390: 'kk', 9391: 'kkr', 9392: 'kl', 9393: 'kleros', 9394: 'klip', 9395: 'klipper', 9396: 'km', 9397: 'kmhr', 9398: 'kmph', 9399: 'kms', 9400: 'knack', 9401: 'knee', 9402: 'kneeling', 9403: 'knees', 9404: 'knew', 9405: 'knife', 9406: 'knight', 9407: 'knives', 9408: 'knock', 9409: 'knocked', 9410: 'knockout', 9411: 'knot', 9412: 'know', 9413: 'knowhow', 9414: 'knowing', 9415: 'knowledge', 9416: 'knowledgesharing', 9417: 'known', 9418: 'knows', 9419: 'koch', 9420: 'kochhar', 9421: 'kochi', 9422: 'kock', 9423: 'kodala', 9424: 'kodnani', 9425: 'kodre', 9426: 'koen', 9427: 'koffee', 9428: 'kohathites', 9429: 'kohli', 9430: 'kohlis', 9431: 'koirala', 9432: 'kokilaben', 9433: 'kolambkar', 9434: 'kolar', 9435: 'kolhapur', 9436: 'kolhe', 9437: 'kolkata', 9438: 'kolkatta', 9439: 'kollam', 9440: 'kom', 9441: 'kondhwa', 9442: 'kong', 9443: 'konkan', 9444: 'konnect', 9445: 'koran', 9446: 'korba', 9447: 'korea', 9448: 'korean', 9449: 'koreas', 9450: 'koregaon', 9451: 'kosalya', 9452: 'koshyari', 9453: 'kosteniuk', 9454: 'kot', 9455: 'kotak', 9456: 'kotakkal', 9457: 'kote', 9458: 'kothajit', 9459: 'kothrud', 9460: 'kotian', 9461: 'kotla', 9462: 'kotwali', 9463: 'kourion', 9464: 'kovind', 9465: 'kovinds', 9466: 'kp', 9467: 'kratia', 9468: 'kremer', 9469: 'kripashankar', 9470: 'krishan', 9471: 'krishna', 9472: 'krishnam', 9473: 'krishnamurthy', 9474: 'krishnamurtis', 9475: 'krishnaveni', 9476: 'kristalina', 9477: 'kristen', 9478: 'kriti', 9479: 'kriya', 9480: 'kronor', 9481: 'krushna', 9482: 'krypton', 9483: 'ks', 9484: 'ksice', 9485: 'kuchaman', 9486: 'kulbhushan', 9487: 'kuldeep', 9488: 'kuldip', 9489: 'kulhari', 9490: 'kulkarni', 9491: 'kulkrani', 9492: 'kumar', 9493: 'kumaraswamy', 9494: 'kumari', 9495: 'kumars', 9496: 'kumbh', 9497: 'kumbharpara', 9498: 'kumbheshwar', 9499: 'kumble', 9500: 'kumbles', 9501: 'kummanam', 9502: 'kunal', 9503: 'kundra', 9504: 'kung', 9505: 'kunj', 9506: 'kunzang', 9507: 'kupwara', 9508: 'kur', 9509: 'kurdish', 9510: 'kuriakose', 9511: 'kuril', 9512: 'kurkheda', 9513: 'kurla', 9514: 'kurre', 9515: 'kursk', 9516: 'kurtas', 9517: 'kurup', 9518: 'kushner', 9519: 'kute', 9520: 'kutty', 9521: 'kutumbakam', 9522: 'kvic', 9523: 'kvs', 9524: 'kw', 9525: 'kya', 9526: 'kylie', 9527: 'kyoto', 9528: 'kyrgios', 9529: 'kyrgyz', 9530: 'l', 9531: 'la', 9532: 'laadan', 9533: 'lab', 9534: 'labelled', 9535: 'labels', 9536: 'labonachip', 9537: 'labor', 9538: 'laboratories', 9539: 'laboratory', 9540: 'laboring', 9541: 'labour', 9542: 'labourer', 9543: 'labourers', 9544: 'labours', 9545: 'labs', 9546: 'labuschagnes', 9547: 'lack', 9548: 'lackadaisical', 9549: 'lacking', 9550: 'lacks', 9551: 'lacs', 9552: 'lactating', 9553: 'lactation', 9554: 'lacuna', 9555: 'lad', 9556: 'ladakh', 9557: 'ladakhi', 9558: 'ladder', 9559: 'ladies', 9560: 'lady', 9561: 'lagging', 9562: 'lahiru', 9563: 'lahore', 9564: 'lahoti', 9565: 'laid', 9566: 'lake', 9567: 'lakes', 9568: 'lakh', 9569: 'lakhs', 9570: 'lakkidi', 9571: 'lakra', 9572: 'lakshmanans', 9573: 'lakshmi', 9574: 'lal', 9575: 'lala', 9576: 'lalchhahimi', 9577: 'lalit', 9578: 'lalita', 9579: 'lalla', 9580: 'lalremliani', 9581: 'lalremsanga', 9582: 'lalruatfeli', 9583: 'lalti', 9584: 'lalu', 9585: 'lamb', 9586: 'laments', 9587: 'lamp', 9588: 'lamu', 9589: 'lancashire', 9590: 'lancet', 9591: 'land', 9592: 'landbased', 9593: 'lande', 9594: 'landed', 9595: 'landfills', 9596: 'landline', 9597: 'landlocked', 9598: 'landlords', 9599: 'landmark', 9600: 'landmarks', 9601: 'landowner', 9602: 'lands', 9603: 'landslide', 9604: 'landslides', 9605: 'langer', 9606: 'language', 9607: 'languages', 9608: 'languagesenglish', 9609: 'languishing', 9610: 'lanka', 9611: 'lankan', 9612: 'lankesh', 9613: 'lankeshs', 9614: 'lantern', 9615: 'lao', 9616: 'laodicea', 9617: 'laos', 9618: 'lapped', 9619: 'laps', 9620: 'lapse', 9621: 'lapses', 9622: 'laptop', 9623: 'laptops', 9624: 'lapwing', 9625: 'lara', 9626: 'large', 9627: 'largely', 9628: 'larger', 9629: 'largescale', 9630: 'largest', 9631: 'largo', 9632: 'las', 9633: 'lasalle', 9634: 'laser', 9635: 'lash', 9636: 'lashed', 9637: 'lashes', 9638: 'lashing', 9639: 'lashkaretaiba', 9640: 'lashkaretoiba', 9641: 'last', 9642: 'lasted', 9643: 'lasteight', 9644: 'lastfour', 9645: 'lasting', 9646: 'lata', 9647: 'latched', 9648: 'late', 9649: 'lately', 9650: 'later', 9651: 'latest', 9652: 'latham', 9653: 'lathi', 9654: 'lathicharge', 9655: 'lathis', 9656: 'latin', 9657: 'latino', 9658: 'latter', 9659: 'lattice', 9660: 'latur', 9661: 'laud', 9662: 'laudable', 9663: 'lauded', 9664: 'lauderdale', 9665: 'lauderdalehollywood', 9666: 'lauding', 9667: 'laugh', 9668: 'laughed', 9669: 'laughing', 9670: 'laughter', 9671: 'launch', 9672: 'launched', 9673: 'launcher', 9674: 'launches', 9675: 'launching', 9676: 'laundering', 9677: 'laureates', 9678: 'lauric', 9679: 'laurier', 9680: 'lavish', 9681: 'law', 9682: 'lawabiding', 9683: 'lawful', 9684: 'lawless', 9685: 'lawlessness', 9686: 'lawmaker', 9687: 'lawmakers', 9688: 'lawrence', 9689: 'laws', 9690: 'lawsuit', 9691: 'lawyer', 9692: 'lawyers', 9693: 'laxman', 9694: 'laxmi', 9695: 'laxmikant', 9696: 'laxminagar', 9697: 'lay', 9698: 'layer', 9699: 'layered', 9700: 'layers', 9701: 'layeth', 9702: 'laying', 9703: 'layoff', 9704: 'lays', 9705: 'lazarus', 9706: 'lbw', 9707: 'lca', 9708: 'leached', 9709: 'lead', 9710: 'leader', 9711: 'leaders', 9712: 'leadership', 9713: 'leading', 9714: 'leads', 9715: 'leaflets', 9716: 'league', 9717: 'leah', 9718: 'leak', 9719: 'leakages', 9720: 'leaked', 9721: 'leaks', 9722: 'leanness', 9723: 'leap', 9724: 'leaped', 9725: 'leapt', 9726: 'learn', 9727: 'learned', 9728: 'learning', 9729: 'learns', 9730: 'learnt', 9731: 'leasing', 9732: 'least', 9733: 'leather', 9734: 'leave', 9735: 'leavening', 9736: 'leaves', 9737: 'leaving', 9738: 'lebanon', 9739: 'lecturer', 9740: 'lectures', 9741: 'led', 9742: 'ledra', 9743: 'leeks', 9744: 'leela', 9745: 'lees', 9746: 'left', 9747: 'lefthanded', 9748: 'lefthander', 9749: 'leftist', 9750: 'leg', 9751: 'legacy', 9752: 'legal', 9753: 'legalize', 9754: 'legally', 9755: 'legate', 9756: 'legend', 9757: 'legendary', 9758: 'legends', 9759: 'legion', 9760: 'legislation', 9761: 'legislative', 9762: 'legislators', 9763: 'legislature', 9764: 'legislatures', 9765: 'legitimate', 9766: 'legs', 9767: 'leh', 9768: 'lehenga', 9769: 'leicester', 9770: 'lekhi', 9771: 'lele', 9772: 'lemon', 9773: 'lend', 9774: 'lender', 9775: 'lenders', 9776: 'lending', 9777: 'lendl', 9778: 'lendlease', 9779: 'lenfant', 9780: 'length', 9781: 'lengthy', 9782: 'lent', 9783: 'leo', 9784: 'leone', 9785: 'leopard', 9786: 'leopards', 9787: 'leprosy', 9788: 'less', 9789: 'lesseps', 9790: 'lesser', 9791: 'lesson', 9792: 'lessons', 9793: 'lest', 9794: 'let', 9795: 'lethal', 9796: 'lethargic', 9797: 'lets', 9798: 'lett', 9799: 'letter', 9800: 'letters', 9801: 'letting', 9802: 'letup', 9803: 'leuk', 9804: 'leuven', 9805: 'level', 9806: 'leveled', 9807: 'levelled', 9808: 'levelling', 9809: 'levels', 9810: 'levelunion', 9811: 'levite', 9812: 'levites', 9813: 'lewd', 9814: 'lewis', 9815: 'lexicon', 9816: 'lg', 9817: 'lgbt', 9818: 'li', 9819: 'liabilities', 9820: 'liability', 9821: 'liam', 9822: 'liar', 9823: 'liberalisation', 9824: 'liberalize', 9825: 'liberate', 9826: 'liberty', 9827: 'libimobiledevice', 9828: 'libra', 9829: 'librarians', 9830: 'libraries', 9831: 'library', 9832: 'libya', 9833: 'lic', 9834: 'licence', 9835: 'licenced', 9836: 'licences', 9837: 'license', 9838: 'licensed', 9839: 'licensing', 9840: 'lid', 9841: 'lie', 9842: 'lies', 9843: 'lieutenant', 9844: 'life', 9845: 'lifeblood', 9846: 'lifecycle', 9847: 'lifeforms', 9848: 'lifelong', 9849: 'lifes', 9850: 'lifestyle', 9851: 'lifestyles', 9852: 'lifethreatning', 9853: 'lifetime', 9854: 'lift', 9855: 'lifted', 9856: 'lifter', 9857: 'lifting', 9858: 'liga', 9859: 'light', 9860: 'lighten', 9861: 'lightening', 9862: 'lighting', 9863: 'lightly', 9864: 'lightning', 9865: 'lights', 9866: 'lightweight', 9867: 'liion', 9868: 'lijian', 9869: 'like', 9870: 'liked', 9871: 'likelihood', 9872: 'likely', 9873: 'likened', 9874: 'likening', 9875: 'likens', 9876: 'likes', 9877: 'likewise', 9878: 'liking', 9879: 'lilavati', 9880: 'limbic', 9881: 'limbo', 9882: 'lime', 9883: 'limit', 9884: 'limitations', 9885: 'limited', 9886: 'limits', 9887: 'limpiyadhura', 9888: 'limpopo', 9889: 'lin', 9890: 'lina', 9891: 'line', 9892: 'lines', 9893: 'lineup', 9894: 'lingam', 9895: 'lingas', 9896: 'lingayat', 9897: 'link', 9898: 'linked', 9899: 'linking', 9900: 'links', 9901: 'lion', 9902: 'lip', 9903: 'lips', 9904: 'lipulekh', 9905: 'liquefied', 9906: 'liquid', 9907: 'liquidity', 9908: 'liquor', 9909: 'lisbon', 9910: 'list', 9911: 'listed', 9912: 'listen', 9913: 'listened', 9914: 'listeners', 9915: 'listening', 9916: 'listens', 9917: 'listing', 9918: 'lists', 9919: 'lit', 9920: 'lite', 9921: 'literacy', 9922: 'literal', 9923: 'literally', 9924: 'literature', 9925: 'lithium', 9926: 'litigation', 9927: 'liton', 9928: 'litre', 9929: 'litres', 9930: 'litter', 9931: 'little', 9932: 'live', 9933: 'lived', 9934: 'livein', 9935: 'livelihood', 9936: 'livelihoods', 9937: 'liver', 9938: 'liverpools', 9939: 'lives', 9940: 'livestock', 9941: 'livestream', 9942: 'living', 9943: 'livingstone', 9944: 'lizards', 9945: 'lizzie', 9946: 'ljp', 9947: 'lk', 9948: 'llc', 9949: 'lloyd', 9950: 'lmg', 9951: 'lmt', 9952: 'lo', 9953: 'load', 9954: 'loaded', 9955: 'loading', 9956: 'loads', 9957: 'loaf', 9958: 'loafer', 9959: 'loan', 9960: 'loans', 9961: 'loaves', 9962: 'lobbed', 9963: 'lobby', 9964: 'lobsters', 9965: 'local', 9966: 'localities', 9967: 'locality', 9968: 'locally', 9969: 'locals', 9970: 'locate', 9971: 'located', 9972: 'locating', 9973: 'location', 9974: 'locations', 9975: 'lock', 9976: 'lockdown', 9977: 'locked', 9978: 'lockin', 9979: 'locks', 9980: 'locomotive', 9981: 'locopilots', 9982: 'locust', 9983: 'locusts', 9984: 'lodged', 9985: 'lodging', 9986: 'lodhi', 9987: 'log', 9988: 'loganathan', 9989: 'logged', 9990: 'logging', 9991: 'logic', 9992: 'logical', 9993: 'logically', 9994: 'login', 9995: 'logistic', 9996: 'logistics', 9997: 'logo', 9998: 'logs', 9999: 'lohani', 10000: 'lohia', 10001: 'lohiya', 10002: 'lohri', 10003: 'lok', 10004: 'lokesh', 10005: 'lokhande', 10006: 'lokniti', 10007: 'loksabha', 10008: 'loktantrik', 10009: 'lokur', 10010: 'lombardo', 10011: 'lonawala', 10012: 'london', 10013: 'lone', 10014: 'lonely', 10015: 'long', 10016: 'longer', 10017: 'longest', 10018: 'longlisted', 10019: 'longpress', 10020: 'longrange', 10021: 'longterm', 10022: 'longtime', 10023: 'look', 10024: 'looked', 10025: 'looking', 10026: 'lookout', 10027: 'looks', 10028: 'looming', 10029: 'loop', 10030: 'loose', 10031: 'loosely', 10032: 'loot', 10033: 'looted', 10034: 'looters', 10035: 'looting', 10036: 'lopez', 10037: 'lord', 10038: 'lords', 10039: 'lorry', 10040: 'los', 10041: 'lose', 10042: 'loses', 10043: 'losing', 10044: 'loss', 10045: 'losses', 10046: 'lost', 10047: 'lot', 10048: 'lotan', 10049: 'lots', 10050: 'lotus', 10051: 'loud', 10052: 'louder', 10053: 'louis', 10054: 'loung', 10055: 'love', 10056: 'loved', 10057: 'lovely', 10058: 'lover', 10059: 'lovers', 10060: 'loves', 10061: 'loveyatri', 10062: 'loving', 10063: 'low', 10064: 'lower', 10065: 'lowered', 10066: 'lowering', 10067: 'lowerpriced', 10068: 'lowers', 10069: 'lowest', 10070: 'lowland', 10071: 'lowly', 10072: 'lowlying', 10073: 'loy', 10074: 'loyal', 10075: 'loyalist', 10076: 'loyally', 10077: 'loyalty', 10078: 'lpg', 10079: 'lpu', 10080: 'ls', 10081: 'lsc', 10082: 'lsr', 10083: 'lt', 10084: 'ltc', 10085: 'ltd', 10086: 'ltds', 10087: 'ltte', 10088: 'lubricating', 10089: 'luck', 10090: 'luckily', 10091: 'lucknow', 10092: 'lucky', 10093: 'ludhiana', 10094: 'ludra', 10095: 'luke', 10096: 'lumbini', 10097: 'lumo', 10098: 'luna', 10099: 'lunacon', 10100: 'lunar', 10101: 'lunch', 10102: 'lung', 10103: 'lungs', 10104: 'luoyang', 10105: 'lupidiclox', 10106: 'lupus', 10107: 'lurch', 10108: 'lure', 10109: 'lust', 10110: 'luther', 10111: 'lutheran', 10112: 'luthers', 10113: 'luxuriant', 10114: 'luxurious', 10115: 'luxury', 10116: 'lycus', 10117: 'lying', 10118: 'lyingly', 10119: 'lynched', 10120: 'lynn', 10121: 'lyon', 10122: 'lyrics', 10123: 'lystra', 10124: 'm', 10125: 'ma', 10126: 'maachathites', 10127: 'maam', 10128: 'maan', 10129: 'maaney', 10130: 'maanvi', 10131: 'mace', 10132: 'macedonian', 10133: 'macedonians', 10134: 'macgillivray', 10135: 'macgregors', 10136: 'machinations', 10137: 'machindra', 10138: 'machine', 10139: 'machines', 10140: 'macroeconomic', 10141: 'mad', 10142: 'madam', 10143: 'madan', 10144: 'madanpurkishangarh', 10145: 'made', 10146: 'madelyn', 10147: 'madhav', 10148: 'madhavan', 10149: 'madhavi', 10150: 'madhepura', 10151: 'madhu', 10152: 'madhubani', 10153: 'madhur', 10154: 'madhuri', 10155: 'madhusudan', 10156: 'madhusudanachari', 10157: 'madhusudhan', 10158: 'madhya', 10159: 'madness', 10160: 'madras', 10161: 'madrid', 10162: 'madurai', 10163: 'mafatlal', 10164: 'mafia', 10165: 'magazine', 10166: 'magazines', 10167: 'magdalena', 10168: 'magen', 10169: 'magic', 10170: 'magisterial', 10171: 'magistrate', 10172: 'magistrates', 10173: 'magnificent', 10174: 'magnify', 10175: 'magnitude', 10176: 'magpie', 10177: 'magum', 10178: 'maha', 10179: 'mahabaleshwar', 10180: 'mahabharat', 10181: 'mahad', 10182: 'mahadeshwar', 10183: 'mahagathbandhan', 10184: 'mahajan', 10185: 'mahajanapadas', 10186: 'mahakal', 10187: 'mahakali', 10188: 'mahal', 10189: 'mahalaxmi', 10190: 'mahalik', 10191: 'mahaluxmi', 10192: 'mahamarg', 10193: 'mahanagar', 10194: 'mahanta', 10195: 'maharaj', 10196: 'maharashtra', 10197: 'maharashtraharyana', 10198: 'maharashtras', 10199: 'maharashtrawadi', 10200: 'maharashtrian', 10201: 'maharaswati', 10202: 'maharishi', 10203: 'mahasabha', 10204: 'mahashivratri', 10205: 'mahaswami', 10206: 'mahatama', 10207: 'mahathir', 10208: 'mahatma', 10209: 'mahendra', 10210: 'mahesh', 10211: 'mahi', 10212: 'mahila', 10213: 'mahim', 10214: 'mahindra', 10215: 'mahindras', 10216: 'mahira', 10217: 'mahisagar', 10218: 'mahmood', 10219: 'mahmud', 10220: 'mahotsav', 10221: 'maid', 10222: 'maidan', 10223: 'maiden', 10224: 'maids', 10225: 'mail', 10226: 'mailini', 10227: 'mailorder', 10228: 'main', 10229: 'mainland', 10230: 'mainly', 10231: 'mainpuri', 10232: 'maintain', 10233: 'maintained', 10234: 'maintaining', 10235: 'maintains', 10236: 'maintenance', 10237: 'maithripala', 10238: 'maize', 10239: 'majidi', 10240: 'majids', 10241: 'majlis', 10242: 'majliseittehadul', 10243: 'major', 10244: 'majorities', 10245: 'majority', 10246: 'makanikar', 10247: 'makarios', 10248: 'makars', 10249: 'make', 10250: 'maken', 10251: 'makers', 10252: 'makes', 10253: 'maketh', 10254: 'makeup', 10255: 'makhnos', 10256: 'making', 10257: 'maksym', 10258: 'mal', 10259: 'malaal', 10260: 'malachis', 10261: 'malad', 10262: 'malagasy', 10263: 'malaika', 10264: 'malala', 10265: 'malappuram', 10266: 'malaria', 10267: 'malavade', 10268: 'malayalam', 10269: 'malaysia', 10270: 'malaysian', 10271: 'maldives', 10272: 'maldivesfor', 10273: 'maldiveshave', 10274: 'male', 10275: 'males', 10276: 'malhotra', 10277: 'malhotras', 10278: 'malign', 10279: 'maliika', 10280: 'malik', 10281: 'malika', 10282: 'malini', 10283: 'malinis', 10284: 'mallika', 10285: 'malloum', 10286: 'mallya', 10287: 'malnutrition', 10288: 'malusare', 10289: 'malviya', 10290: 'malware', 10291: 'mama', 10292: 'mamata', 10293: 'mambad', 10294: 'mami', 10295: 'mamie', 10296: 'mammoth', 10297: 'mamu', 10298: 'man', 10299: 'mana', 10300: 'manage', 10301: 'managed', 10302: 'management', 10303: 'manager', 10304: 'managers', 10305: 'manages', 10306: 'managing', 10307: 'manakchand', 10308: 'manali', 10309: 'manasi', 10310: 'manasseh', 10311: 'manchester', 10312: 'mandakini', 10313: 'mandal', 10314: 'mandate', 10315: 'mandated', 10316: 'mandatory', 10317: 'mandaviya', 10318: 'mandeep', 10319: 'mandhana', 10320: 'mandhare', 10321: 'mandimanali', 10322: 'mandir', 10323: 'mandira', 10324: 'mane', 10325: 'maneka', 10326: 'mangal', 10327: 'mangalore', 10328: 'mangaluru', 10329: 'mangat', 10330: 'mangdewadi', 10331: 'mangesh', 10332: 'mangeshkar', 10333: 'mangled', 10334: 'mango', 10335: 'mangoes', 10336: 'manhole', 10337: 'manhunt', 10338: 'mani', 10339: 'manifest', 10340: 'manifestation', 10341: 'manifested', 10342: 'manifesto', 10343: 'manifold', 10344: 'manika', 10345: 'manikarnika', 10346: 'manikrao', 10347: 'maninto', 10348: 'manipal', 10349: 'manipalglobals', 10350: 'manipulation', 10351: 'manipur', 10352: 'manish', 10353: 'manisha', 10354: 'manishi', 10355: 'manjhi', 10356: 'manjhis', 10357: 'manjot', 10358: 'manjrekar', 10359: 'manjrekars', 10360: 'manju', 10361: 'manjula', 10362: 'manjules', 10363: 'mankar', 10364: 'mankind', 10365: 'mankotia', 10366: 'manmade', 10367: 'manmohan', 10368: 'mann', 10369: 'manned', 10370: 'manner', 10371: 'manners', 10372: 'manning', 10373: 'manoeuvres', 10374: 'manofthematch', 10375: 'manohar', 10376: 'manoj', 10377: 'manojs', 10378: 'manpower', 10379: 'manpreet', 10380: 'manral', 10381: 'manrega', 10382: 'mans', 10383: 'mansa', 10384: 'mansingh', 10385: 'mansiysk', 10386: 'manto', 10387: 'mantra', 10388: 'mantri', 10389: 'mantriswasthya', 10390: 'manual', 10391: 'manufacture', 10392: 'manufactured', 10393: 'manufacturer', 10394: 'manufacturing', 10395: 'manure', 10396: 'manurishi', 10397: 'manuscript', 10398: 'manuscripts', 10399: 'manvendra', 10400: 'manvir', 10401: 'many', 10402: 'maoism', 10403: 'maoist', 10404: 'maoistaffected', 10405: 'maoists', 10406: 'map', 10407: 'maps', 10408: 'mapuskar', 10409: 'mar', 10410: 'mara', 10411: 'marathas', 10412: 'marathawada', 10413: 'marathi', 10414: 'marathon', 10415: 'marathwada', 10416: 'marble', 10417: 'march', 10418: 'marching', 10419: 'marcus', 10420: 'mardemujahid', 10421: 'mareshah', 10422: 'marg', 10423: 'margin', 10424: 'marginal', 10425: 'marginalisation', 10426: 'marginalised', 10427: 'mari', 10428: 'maria', 10429: 'marianas', 10430: 'mariappan', 10431: 'marijuana', 10432: 'marilyn', 10433: 'marin', 10434: 'marine', 10435: 'mario', 10436: 'marital', 10437: 'maritime', 10438: 'marjaavaan', 10439: 'mark', 10440: 'marked', 10441: 'market', 10442: 'marketing', 10443: 'markets', 10444: 'marking', 10445: 'markram', 10446: 'marks', 10447: 'marnus', 10448: 'marquee', 10449: 'marriage', 10450: 'married', 10451: 'marrow', 10452: 'marry', 10453: 'marrying', 10454: 'mars', 10455: 'marsh', 10456: 'marsha', 10457: 'marshal', 10458: 'martha', 10459: 'martian', 10460: 'martin', 10461: 'marts', 10462: 'martyr', 10463: 'martyrdom', 10464: 'martyred', 10465: 'martyrs', 10466: 'maruti', 10467: 'marvel', 10468: 'marvelous', 10469: 'marvin', 10470: 'mary', 10471: 'maryam', 10472: 'masal', 10473: 'masala', 10474: 'masculine', 10475: 'maseiso', 10476: 'masheem', 10477: 'masjid', 10478: 'mask', 10479: 'masked', 10480: 'masks', 10481: 'masood', 10482: 'mass', 10483: 'massachusetts', 10484: 'masses', 10485: 'massive', 10486: 'massively', 10487: 'mast', 10488: 'mastani', 10489: 'master', 10490: 'masterbuilder', 10491: 'masters', 10492: 'mastery', 10493: 'masturbates', 10494: 'masurkar', 10495: 'mata', 10496: 'matandooru', 10497: 'match', 10498: 'matches', 10499: 'matching', 10500: 'mate', 10501: 'mated', 10502: 'material', 10503: 'materialised', 10504: 'materialism', 10505: 'materials', 10506: 'maternal', 10507: 'mates', 10508: 'matharu', 10509: 'mathematical', 10510: 'mathematics', 10511: 'maths', 10512: 'mathur', 10513: 'mathura', 10514: 'matondkar', 10515: 'matoshree', 10516: 'matr', 10517: 'matriarchs', 10518: 'matrimonycom', 10519: 'matt', 10520: 'matter', 10521: 'matters', 10522: 'matthew', 10523: 'mattresses', 10524: 'matunga', 10525: 'mature', 10526: 'maturity', 10527: 'mau', 10528: 'maujpur', 10529: 'maujpurbabarpur', 10530: 'maulana', 10531: 'mauritius', 10532: 'maurya', 10533: 'maval', 10534: 'mavat', 10535: 'mavi', 10536: 'maximise', 10537: 'maximum', 10538: 'maxwell', 10539: 'may', 10540: 'maya', 10541: 'mayande', 10542: 'mayank', 10543: 'mayawati', 10544: 'maybe', 10545: 'mayekars', 10546: 'mayest', 10547: 'mayor', 10548: 'mayoral', 10549: 'mayors', 10550: 'mayurbhanj', 10551: 'maze', 10552: 'mc', 10553: 'mccarran', 10554: 'mccartneys', 10555: 'mccullum', 10556: 'mcf', 10557: 'mcgm', 10558: 'mci', 10559: 'mcnair', 10560: 'mcsd', 10561: 'md', 10562: 'mdm', 10563: 'mdmk', 10564: 'me', 10565: 'mea', 10566: 'meal', 10567: 'meals', 10568: 'mealtimes', 10569: 'mean', 10570: 'meaning', 10571: 'meaningful', 10572: 'meaningless', 10573: 'meaninglessless', 10574: 'meanings', 10575: 'means', 10576: 'meant', 10577: 'meantime', 10578: 'meanwhile', 10579: 'mearah', 10580: 'measure', 10581: 'measured', 10582: 'measurement', 10583: 'measures', 10584: 'measuring', 10585: 'meat', 10586: 'mechanical', 10587: 'mechanically', 10588: 'mechanics', 10589: 'mechanism', 10590: 'mechanisms', 10591: 'medal', 10592: 'medallist', 10593: 'medals', 10594: 'medankar', 10595: 'medankarwadi', 10596: 'meddle', 10597: 'medha', 10598: 'media', 10599: 'mediation', 10600: 'medical', 10601: 'medically', 10602: 'medication', 10603: 'medications', 10604: 'medicine', 10605: 'medicines', 10606: 'mediclinics', 10607: 'medieval', 10608: 'meditating', 10609: 'meditation', 10610: 'mediterranean', 10611: 'medium', 10612: 'medley', 10613: 'medo', 10614: 'medvedev', 10615: 'meena', 10616: 'meenakashi', 10617: 'meenakshi', 10618: 'meera', 10619: 'meerut', 10620: 'meet', 10621: 'meeting', 10622: 'meetings', 10623: 'meets', 10624: 'mega', 10625: 'megafestivalcummultipurpose', 10626: 'megapedetes', 10627: 'megapixel', 10628: 'megapixels', 10629: 'megastar', 10630: 'megawatt', 10631: 'meghdoot', 10632: 'mehbooba', 10633: 'mehidy', 10634: 'mehmood', 10635: 'mehr', 10636: 'mehra', 10637: 'mehras', 10638: 'mehrishi', 10639: 'mehsana', 10640: 'mehta', 10641: 'meir', 10642: 'meira', 10643: 'meis', 10644: 'mekala', 10645: 'mekong', 10646: 'mel', 10647: 'mela', 10648: 'melania', 10649: 'melas', 10650: 'melbourne', 10651: 'melissa', 10652: 'mellowed', 10653: 'melodies', 10654: 'melt', 10655: 'meltdown', 10656: 'member', 10657: 'members', 10658: 'membership', 10659: 'memento', 10660: 'mementos', 10661: 'memoir', 10662: 'memorable', 10663: 'memorandum', 10664: 'memorial', 10665: 'memorials', 10666: 'memories', 10667: 'memorize', 10668: 'memory', 10669: 'men', 10670: 'mendhar', 10671: 'mengerskirchen', 10672: 'menon', 10673: 'mens', 10674: 'mental', 10675: 'mentality', 10676: 'mentally', 10677: 'mentees', 10678: 'mention', 10679: 'mentioned', 10680: 'mentioning', 10681: 'mentored', 10682: 'mentorship', 10683: 'menu', 10684: 'menubar', 10685: 'menus', 10686: 'mercantile', 10687: 'merchant', 10688: 'merciful', 10689: 'mercy', 10690: 'mere', 10691: 'merely', 10692: 'merger', 10693: 'merit', 10694: 'meritorious', 10695: 'merry', 10696: 'mersin', 10697: 'mesha', 10698: 'meshram', 10699: 'mesmerized', 10700: 'mesmerizing', 10701: 'mess', 10702: 'message', 10703: 'messages', 10704: 'messaging', 10705: 'messais', 10706: 'messed', 10707: 'messengers', 10708: 'messiah', 10709: 'messis', 10710: 'messy', 10711: 'met', 10712: 'metabolic', 10713: 'metal', 10714: 'metals', 10715: 'meted', 10716: 'meteorological', 10717: 'meter', 10718: 'meters', 10719: 'method', 10720: 'methodist', 10721: 'methodology', 10722: 'methods', 10723: 'methuselah', 10724: 'metoo', 10725: 'metre', 10726: 'metres', 10727: 'metrics', 10728: 'metro', 10729: 'metrology', 10730: 'metropolitan', 10731: 'mettle', 10732: 'mewar', 10733: 'mexican', 10734: 'mexico', 10735: 'mexicobased', 10736: 'meyaadha', 10737: 'mfp', 10738: 'mfps', 10739: 'mg', 10740: 'mgnrega', 10741: 'mgnregs', 10742: 'mgp', 10743: 'mha', 10744: 'mhada', 10745: 'mhadkaikar', 10746: 'mhas', 10747: 'mhrd', 10748: 'mhtcet', 10749: 'mi', 10750: 'miami', 10751: 'mic', 10752: 'micah', 10753: 'michael', 10754: 'michaiah', 10755: 'michal', 10756: 'michel', 10757: 'michelle', 10758: 'micra', 10759: 'micro', 10760: 'microbes', 10761: 'microbial', 10762: 'microgravity', 10763: 'micromax', 10764: 'microradians', 10765: 'microsd', 10766: 'mid', 10767: 'midday', 10768: 'middle', 10769: 'middleclass', 10770: 'middlemen', 10771: 'middles', 10772: 'midian', 10773: 'midnight', 10774: 'midon', 10775: 'midsized', 10776: 'midst', 10777: 'midterm', 10778: 'midway', 10779: 'midwesterners', 10780: 'miff', 10781: 'miffed', 10782: 'mig', 10783: 'might', 10784: 'mighty', 10785: 'migks', 10786: 'miglani', 10787: 'migrant', 10788: 'migrants', 10789: 'migrated', 10790: 'migration', 10791: 'miguels', 10792: 'mihaela', 10793: 'mika', 10794: 'mikaela', 10795: 'mike', 10796: 'mikha', 10797: 'milano', 10798: 'mild', 10799: 'mildly', 10800: 'mildness', 10801: 'mildred', 10802: 'mile', 10803: 'miles', 10804: 'milestone', 10805: 'milia', 10806: 'milind', 10807: 'militancy', 10808: 'militant', 10809: 'militants', 10810: 'military', 10811: 'militarys', 10812: 'militiaheld', 10813: 'militias', 10814: 'milk', 10815: 'millennial', 10816: 'millennium', 10817: 'miller', 10818: 'millets', 10819: 'millia', 10820: 'millicent', 10821: 'milliken', 10822: 'millilitre', 10823: 'million', 10824: 'millions', 10825: 'mills', 10826: 'mim', 10827: 'mimic', 10828: 'min', 10829: 'minakshi', 10830: 'minamoto', 10831: 'minazuddin', 10832: 'mince', 10833: 'mind', 10834: 'minded', 10835: 'mindfulness', 10836: 'minds', 10837: 'mindset', 10838: 'mine', 10839: 'mined', 10840: 'mineral', 10841: 'minerals', 10842: 'miners', 10843: 'mines', 10844: 'mingle', 10845: 'mingora', 10846: 'minh', 10847: 'minicommander', 10848: 'minimal', 10849: 'minimise', 10850: 'minimised', 10851: 'minimize', 10852: 'minimum', 10853: 'mining', 10854: 'minister', 10855: 'ministerial', 10856: 'ministering', 10857: 'ministers', 10858: 'ministershrinarendramodi', 10859: 'ministries', 10860: 'ministry', 10861: 'ministrys', 10862: 'minivan', 10863: 'minj', 10864: 'minnows', 10865: 'minor', 10866: 'minorities', 10867: 'minority', 10868: 'minors', 10869: 'minster', 10870: 'mint', 10871: 'minus', 10872: 'minuscule', 10873: 'minute', 10874: 'minutes', 10875: 'miocene', 10876: 'mira', 10877: 'miracle', 10878: 'miracles', 10879: 'mirage', 10880: 'miranda', 10881: 'miras', 10882: 'miriam', 10883: 'mirror', 10884: 'mirrored', 10885: 'miryalaguda', 10886: 'mirza', 10887: 'mirzapur', 10888: 'mirzya', 10889: 'misapprehension', 10890: 'misbehaved', 10891: 'miscellaneous', 10892: 'mischief', 10893: 'mischievous', 10894: 'miscible', 10895: 'misconception', 10896: 'misconceptions', 10897: 'misconduct', 10898: 'misconstrued', 10899: 'miscreant', 10900: 'miscreants', 10901: 'misdirected', 10902: 'miserable', 10903: 'miserably', 10904: 'misfortune', 10905: 'misgivings', 10906: 'misgovernance', 10907: 'misha', 10908: 'mishap', 10909: 'mishra', 10910: 'mishrikotkar', 10911: 'misinformation', 10912: 'misinterpret', 10913: 'mislead', 10914: 'misleading', 10915: 'misled', 10916: 'mismatch', 10917: 'misra', 10918: 'miss', 10919: 'missed', 10920: 'missile', 10921: 'missiles', 10922: 'missing', 10923: 'mission', 10924: 'missionaries', 10925: 'missionary', 10926: 'missions', 10927: 'mistake', 10928: 'mistakes', 10929: 'mistreatment', 10930: 'mistry', 10931: 'misuse', 10932: 'misused', 10933: 'mit', 10934: 'mitali', 10935: 'mitchell', 10936: 'mitigation', 10937: 'mittal', 10938: 'mix', 10939: 'mixe', 10940: 'mixed', 10941: 'mixing', 10942: 'mixture', 10943: 'mizoram', 10944: 'mla', 10945: 'mlas', 10946: 'mlascouncil', 10947: 'mlc', 10948: 'mlcs', 10949: 'mlong', 10950: 'mm', 10951: 'mmg', 10952: 'mmhr', 10953: 'mmolmol', 10954: 'mmr', 10955: 'mmrc', 10956: 'mmrcl', 10957: 'mmrda', 10958: 'mns', 10959: 'mnsshiv', 10960: 'moab', 10961: 'moabite', 10962: 'moai', 10963: 'mob', 10964: 'mobile', 10965: 'mobiles', 10966: 'mobilisation', 10967: 'mobilise', 10968: 'mobility', 10969: 'mobilize', 10970: 'mobilized', 10971: 'mocked', 10972: 'mod', 10973: 'modak', 10974: 'modalism', 10975: 'modalities', 10976: 'modality', 10977: 'mode', 10978: 'model', 10979: 'modelling', 10980: 'models', 10981: 'moderate', 10982: 'moderated', 10983: 'moderator', 10984: 'modern', 10985: 'moderna', 10986: 'modernday', 10987: 'modernisation', 10988: 'modernity', 10989: 'modernization', 10990: 'modeshekhawat', 10991: 'modest', 10992: 'modi', 10993: 'modification', 10994: 'modified', 10995: 'modify', 10996: 'modihome', 10997: 'modiji', 10998: 'modiled', 10999: 'modis', 11000: 'modishahyogi', 11001: 'moeen', 11002: 'moggill', 11003: 'mohabbtein', 11004: 'mohali', 11005: 'mohalla', 11006: 'mohamad', 11007: 'mohamed', 11008: 'mohammad', 11009: 'mohammed', 11010: 'mohan', 11011: 'mohanlals', 11012: 'mohanpura', 11013: 'mohanty', 11014: 'mohapatra', 11015: 'mohini', 11016: 'mohit', 11017: 'mohite', 11018: 'mohitepatils', 11019: 'mohol', 11020: 'moinuddin', 11021: 'moist', 11022: 'mokshada', 11023: 'moldova', 11024: 'moldovas', 11025: 'mole', 11026: 'molech', 11027: 'molecules', 11028: 'molestation', 11029: 'molested', 11030: 'molesting', 11031: 'molotov', 11032: 'mom', 11033: 'moment', 11034: 'momentarily', 11035: 'moments', 11036: 'momentum', 11037: 'mominul', 11038: 'mona', 11039: 'monarchist', 11040: 'monarchs', 11041: 'mondal', 11042: 'monday', 11043: 'mondaypti', 11044: 'mondays', 11045: 'monetary', 11046: 'money', 11047: 'moneylenders', 11048: 'moneymaking', 11049: 'monfils', 11050: 'mongolian', 11051: 'mongoose', 11052: 'monitor', 11053: 'monitored', 11054: 'monitoring', 11055: 'monkeys', 11056: 'monoxide', 11057: 'monsoon', 11058: 'monsoons', 11059: 'montek', 11060: 'month', 11061: 'monthly', 11062: 'months', 11063: 'montu', 11064: 'monument', 11065: 'mooc', 11066: 'mood', 11067: 'moody', 11068: 'moodys', 11069: 'moon', 11070: 'moons', 11071: 'moorook', 11072: 'moot', 11073: 'moral', 11074: 'morale', 11075: 'morality', 11076: 'morally', 11077: 'morarji', 11078: 'moras', 11079: 'moravia', 11080: 'morcha', 11081: 'more', 11082: 'moreover', 11083: 'morgan', 11084: 'morganas', 11085: 'morgue', 11086: 'morning', 11087: 'morone', 11088: 'morrison', 11089: 'morrow', 11090: 'mortal', 11091: 'mortality', 11092: 'mortar', 11093: 'mortars', 11094: 'mortgage', 11095: 'mortuary', 11096: 'mos', 11097: 'mosaic', 11098: 'moscow', 11099: 'moseley', 11100: 'moser', 11101: 'moses', 11102: 'moskau', 11103: 'mosque', 11104: 'mosques', 11105: 'mosquito', 11106: 'mosquitoes', 11107: 'most', 11108: 'mostbackward', 11109: 'mostly', 11110: 'mot', 11111: 'motera', 11112: 'motets', 11113: 'moth', 11114: 'mother', 11115: 'motherboard', 11116: 'motherhood', 11117: 'motherland', 11118: 'mothers', 11119: 'moti', 11120: 'motihari', 11121: 'motihariamlekhgunj', 11122: 'motion', 11123: 'motivate', 11124: 'motivated', 11125: 'motivation', 11126: 'motivations', 11127: 'motive', 11128: 'motocorp', 11129: 'motor', 11130: 'motorable', 11131: 'motorbike', 11132: 'motorbikes', 11133: 'motorcade', 11134: 'motorcycle', 11135: 'motorcycles', 11136: 'motorcyclists', 11137: 'motorist', 11138: 'motorists', 11139: 'motormen', 11140: 'motorola', 11141: 'motors', 11142: 'mou', 11143: 'mouni', 11144: 'mount', 11145: 'mountain', 11146: 'mountainous', 11147: 'mountains', 11148: 'mounted', 11149: 'mounting', 11150: 'mouratoglou', 11151: 'mourn', 11152: 'mourners', 11153: 'mournful', 11154: 'mourning', 11155: 'mourns', 11156: 'mouse', 11157: 'mouth', 11158: 'mouthpiece', 11159: 'move', 11160: 'moveable', 11161: 'moved', 11162: 'movement', 11163: 'movements', 11164: 'moves', 11165: 'movie', 11166: 'movies', 11167: 'moving', 11168: 'mp', 11169: 'mpcc', 11170: 'mps', 11171: 'mpsc', 11172: 'mr', 11173: 'mrinal', 11174: 'mrindol', 11175: 'mrs', 11176: 'mrsi', 11177: 'mrtv', 11178: 'mrunal', 11179: 'ms', 11180: 'msce', 11181: 'msde', 11182: 'mses', 11183: 'msf', 11184: 'msg', 11185: 'msme', 11186: 'msp', 11187: 'msrdc', 11188: 'mt', 11189: 'mtnl', 11190: 'mtp', 11191: 'mtr', 11192: 'mu', 11193: 'mubarak', 11194: 'much', 11195: 'muchawaited', 11196: 'muchloved', 11197: 'muddy', 11198: 'mudiman', 11199: 'mudra', 11200: 'mudslinging', 11201: 'muerte', 11202: 'mufti', 11203: 'mughal', 11204: 'mughaleazam', 11205: 'mughalsarai', 11206: 'muhammad', 11207: 'muhammed', 11208: 'mujahideen', 11209: 'mujesar', 11210: 'mujib', 11211: 'mujibur', 11212: 'mukerjea', 11213: 'mukesh', 11214: 'mukeshs', 11215: 'mukherjee', 11216: 'mukherjees', 11217: 'mukhi', 11218: 'mukhtar', 11219: 'mukt', 11220: 'mukti', 11221: 'mukul', 11222: 'mulatto', 11223: 'mulayam', 11224: 'mulberry', 11225: 'mulberryproduction', 11226: 'mulhouse', 11227: 'mulik', 11228: 'mulling', 11229: 'multicrore', 11230: 'multidisciplinary', 11231: 'multifaceted', 11232: 'multilateral', 11233: 'multimedia', 11234: 'multimodal', 11235: 'multiple', 11236: 'multiplechoice', 11237: 'multiplex', 11238: 'multiplexes', 11239: 'multiplied', 11240: 'multipurpose', 11241: 'multisport', 11242: 'multitude', 11243: 'mulund', 11244: 'mumbai', 11245: 'mumbaiahmedabad', 11246: 'mumbaibased', 11247: 'mumbaibengaluru', 11248: 'mumbaiformer', 11249: 'mumbaigoa', 11250: 'mumbaikars', 11251: 'mumbaipune', 11252: 'mumbais', 11253: 'mumbra', 11254: 'mummy', 11255: 'mums', 11256: 'muncipal', 11257: 'munde', 11258: 'mundera', 11259: 'mungantivar', 11260: 'mungantiwar', 11261: 'municipal', 11262: 'municipality', 11263: 'munniya', 11264: 'murali', 11265: 'muralidhar', 11266: 'muralitharan', 11267: 'murals', 11268: 'murder', 11269: 'murdered', 11270: 'murderer', 11271: 'murderers', 11272: 'murdering', 11273: 'murderous', 11274: 'murders', 11275: 'murli', 11276: 'murlidhar', 11277: 'murmur', 11278: 'murshidabad', 11279: 'murtala', 11280: 'murugadoss', 11281: 'murugan', 11282: 'muscle', 11283: 'muscles', 11284: 'museum', 11285: 'musharraf', 11286: 'mushrif', 11287: 'mushrooms', 11288: 'music', 11289: 'musical', 11290: 'musicals', 11291: 'musicians', 11292: 'muskaan', 11293: 'muslim', 11294: 'muslimeen', 11295: 'muslims', 11296: 'must', 11297: 'mustagh', 11298: 'mustang', 11299: 'mustard', 11300: 'muster', 11301: 'mustwin', 11302: 'mutation', 11303: 'mutations', 11304: 'mute', 11305: 'muteness', 11306: 'muttiah', 11307: 'mutual', 11308: 'muzaffarabad', 11309: 'muzaffargarh', 11310: 'muzaffarnagar', 11311: 'muzaffarpurbandra', 11312: 'mv', 11313: 'mva', 11314: 'mw', 11315: 'mwp', 11316: 'my', 11317: 'myanmar', 11318: 'mygov', 11319: 'myristic', 11320: 'myself', 11321: 'mysore', 11322: 'mystere', 11323: 'mystery', 11324: 'mythical', 11325: 'mythology', 11326: 'n', 11327: 'naarah', 11328: 'naashon', 11329: 'nab', 11330: 'nabbed', 11331: 'nabeel', 11332: 'nabi', 11333: 'nach', 11334: 'nadab', 11335: 'nadal', 11336: 'nadda', 11337: 'nadu', 11338: 'nadus', 11339: 'naeem', 11340: 'nagaland', 11341: 'nagar', 11342: 'nagarkoti', 11343: 'nageshwar', 11344: 'nagi', 11345: 'nagoya', 11346: 'nagpur', 11347: 'nagpurmumbai', 11348: 'nagraj', 11349: 'nahin', 11350: 'nahor', 11351: 'nahur', 11352: 'naidu', 11353: 'naidus', 11354: 'naik', 11355: 'naiknimbalkar', 11356: 'nail', 11357: 'nailed', 11358: 'nailing', 11359: 'naim', 11360: 'nair', 11361: 'naive', 11362: 'najeeb', 11363: 'najib', 11364: 'najma', 11365: 'naked', 11366: 'nalasopara', 11367: 'nalco', 11368: 'nalgonda', 11369: 'nalini', 11370: 'nam', 11371: 'nama', 11372: 'namaskar', 11373: 'name', 11374: 'named', 11375: 'namely', 11376: 'nameplate', 11377: 'names', 11378: 'namibia', 11379: 'naming', 11380: 'namita', 11381: 'namkin', 11382: 'namo', 11383: 'nana', 11384: 'nanak', 11385: 'nanakram', 11386: 'nanavati', 11387: 'nanaware', 11388: 'nand', 11389: 'nanda', 11390: 'nandan', 11391: 'nanded', 11392: 'nandgaonkar', 11393: 'nandhidhaa', 11394: 'nandish', 11395: 'nandkishor', 11396: 'nandurbar', 11397: 'nangarepatil', 11398: 'nangarhar', 11399: 'nangloi', 11400: 'nangrepatil', 11401: 'nanjing', 11402: 'nano', 11403: 'nanu', 11404: 'naphtali', 11405: 'napkin', 11406: 'napoleons', 11407: 'napping', 11408: 'naqvi', 11409: 'nar', 11410: 'nara', 11411: 'narasimha', 11412: 'narasimhawadi', 11413: 'naravane', 11414: 'narayan', 11415: 'narcotics', 11416: 'narendra', 11417: 'narendramodi', 11418: 'naresh', 11419: 'nariman', 11420: 'narine', 11421: 'narita', 11422: 'narmada', 11423: 'naroda', 11424: 'narrated', 11425: 'narrative', 11426: 'narratives', 11427: 'narrow', 11428: 'narsinghpur', 11429: 'nasa', 11430: 'nasams', 11431: 'naseeruddin', 11432: 'nasheed', 11433: 'nashik', 11434: 'nasik', 11435: 'nasir', 11436: 'nasreen', 11437: 'nasty', 11438: 'natasha', 11439: 'nath', 11440: 'nathan', 11441: 'nathanael', 11442: 'nathu', 11443: 'nathuram', 11444: 'nathyal', 11445: 'nation', 11446: 'national', 11447: 'nationalherald', 11448: 'nationalism', 11449: 'nationalist', 11450: 'nationalities', 11451: 'nationality', 11452: 'nationally', 11453: 'nationals', 11454: 'nations', 11455: 'nationwide', 11456: 'native', 11457: 'natives', 11458: 'natural', 11459: 'nature', 11460: 'natures', 11461: 'natwarlal', 11462: 'naught', 11463: 'nausea', 11464: 'nautical', 11465: 'nautilus', 11466: 'navajo', 11467: 'naval', 11468: 'navdeep', 11469: 'naveen', 11470: 'navi', 11471: 'navies', 11472: 'navigate', 11473: 'navigation', 11474: 'navigational', 11475: 'navjot', 11476: 'navlakha', 11477: 'navlakhas', 11478: 'navnirman', 11479: 'navodaya', 11480: 'navratri', 11481: 'navroz', 11482: 'navy', 11483: 'navys', 11484: 'nawab', 11485: 'nawada', 11486: 'nawaz', 11487: 'nawazuddin', 11488: 'naxalism', 11489: 'naxals', 11490: 'nayi', 11491: 'nazareth', 11492: 'nazi', 11493: 'nazis', 11494: 'nazism', 11495: 'nazmul', 11496: 'nbe', 11497: 'nbfcs', 11498: 'nc', 11499: 'nca', 11500: 'ncb', 11501: 'ncc', 11502: 'ncdc', 11503: 'ncertkendriya', 11504: 'nchandrababu', 11505: 'nclat', 11506: 'nclp', 11507: 'ncms', 11508: 'ncp', 11509: 'ncpa', 11510: 'ncpcongress', 11511: 'ncps', 11512: 'ncs', 11513: 'nct', 11514: 'nd', 11515: 'nda', 11516: 'ndas', 11517: 'ndps', 11518: 'ndrf', 11519: 'ndtv', 11520: 'near', 11521: 'nearby', 11522: 'nearest', 11523: 'nearing', 11524: 'nearly', 11525: 'nears', 11526: 'nearstagnant', 11527: 'nebuchadnezzar', 11528: 'nebuzaradan', 11529: 'necessarily', 11530: 'necessary', 11531: 'necessities', 11532: 'necessity', 11533: 'neck', 11534: 'necm', 11535: 'nederland', 11536: 'need', 11537: 'needed', 11538: 'needing', 11539: 'needless', 11540: 'needs', 11541: 'needy', 11542: 'neelam', 11543: 'neem', 11544: 'neeraj', 11545: 'neeravaram', 11546: 'neerja', 11547: 'neet', 11548: 'neeta', 11549: 'neetu', 11550: 'negative', 11551: 'negi', 11552: 'neglect', 11553: 'neglected', 11554: 'neglecting', 11555: 'negligence', 11556: 'negligent', 11557: 'negotiations', 11558: 'neh', 11559: 'neha', 11560: 'nehra', 11561: 'nehru', 11562: 'nehrugandhi', 11563: 'nehwal', 11564: 'neighbor', 11565: 'neighborhood', 11566: 'neighboring', 11567: 'neighborly', 11568: 'neighbors', 11569: 'neighbour', 11570: 'neighbourhood', 11571: 'neighbouring', 11572: 'neighbours', 11573: 'neil', 11574: 'neither', 11575: 'nenu', 11576: 'neo', 11577: 'nepal', 11578: 'nepalese', 11579: 'nepali', 11580: 'nepals', 11581: 'nephew', 11582: 'nephilim', 11583: 'nepotism', 11584: 'nerve', 11585: 'nerves', 11586: 'nervous', 11587: 'nesting', 11588: 'nestor', 11589: 'net', 11590: 'netaji', 11591: 'netam', 11592: 'netanyahu', 11593: 'netflix', 11594: 'nethaneel', 11595: 'nether', 11596: 'netherlands', 11597: 'nethinims', 11598: 'network', 11599: 'networking', 11600: 'networks', 11601: 'neurologists', 11602: 'neurology', 11603: 'neuroscience', 11604: 'neutral', 11605: 'neutrons', 11606: 'nevada', 11607: 'never', 11608: 'neverending', 11609: 'nevertheless', 11610: 'new', 11611: 'newborn', 11612: 'newest', 11613: 'newly', 11614: 'newlybuilt', 11615: 'newlyelected', 11616: 'news', 11617: 'newsletter', 11618: 'newspaper', 11619: 'newspapers', 11620: 'newton', 11621: 'newtons', 11622: 'newwz', 11623: 'nexon', 11624: 'next', 11625: 'neymar', 11626: 'ngo', 11627: 'ngos', 11628: 'ngts', 11629: 'nhai', 11630: 'nhm', 11631: 'ni', 11632: 'nia', 11633: 'nias', 11634: 'nibhaoge', 11635: 'nic', 11636: 'nice', 11637: 'nicely', 11638: 'niceties', 11639: 'niches', 11640: 'nicholas', 11641: 'nicholls', 11642: 'nick', 11643: 'nickelodeon', 11644: 'nicks', 11645: 'nicobar', 11646: 'nicole', 11647: 'nicosia', 11648: 'nicotine', 11649: 'nidhi', 11650: 'niece', 11651: 'nifty', 11652: 'nigam', 11653: 'nigel', 11654: 'night', 11655: 'nightfall', 11656: 'nightingale', 11657: 'nights', 11658: 'niharika', 11659: 'nikam', 11660: 'nikhil', 11661: 'nikita', 11662: 'nikkhil', 11663: 'nikolayev', 11664: 'nil', 11665: 'nilakanta', 11666: 'nilambur', 11667: 'nilekani', 11668: 'nilesh', 11669: 'nimbalkar', 11670: 'nine', 11671: 'nineteenth', 11672: 'ninevites', 11673: 'ninewicket', 11674: 'ninth', 11675: 'nipah', 11676: 'nirakar', 11677: 'nirav', 11678: 'nirbhaya', 11679: 'nirmal', 11680: 'nirmala', 11681: 'nirmohi', 11682: 'nirupam', 11683: 'nirupama', 11684: 'nirvaan', 11685: 'nisha', 11686: 'nishank', 11687: 'nishankdate', 11688: 'nishmuni', 11689: 'nissan', 11690: 'nita', 11691: 'nitesh', 11692: 'niti', 11693: 'nitin', 11694: 'nitish', 11695: 'nitrogen', 11696: 'nits', 11697: 'nivadellir', 11698: 'nivangare', 11699: 'nivedhita', 11700: 'nixes', 11701: 'niyaji', 11702: 'nizams', 11703: 'nmc', 11704: 'nmdc', 11705: 'nmic', 11706: 'no', 11707: 'noah', 11708: 'noball', 11709: 'nobel', 11710: 'nobility', 11711: 'nobitas', 11712: 'noble', 11713: 'nobody', 11714: 'nobodys', 11715: 'noconfidence', 11716: 'nocustoms', 11717: 'nod', 11718: 'nodal', 11719: 'nodded', 11720: 'noel', 11721: 'noida', 11722: 'noir', 11723: 'noise', 11724: 'noisy', 11725: 'nomenclature', 11726: 'nominal', 11727: 'nominated', 11728: 'nominates', 11729: 'nomination', 11730: 'nominationrecommendation', 11731: 'nominations', 11732: 'nominee', 11733: 'nominees', 11734: 'non', 11735: 'nonbailable', 11736: 'nonbjp', 11737: 'noncommercial', 11738: 'noncommittal', 11739: 'noncommunicable', 11740: 'noncompetitive', 11741: 'noncontributing', 11742: 'nondomain', 11743: 'none', 11744: 'nonempty', 11745: 'nonengineering', 11746: 'nonentity', 11747: 'nonetheless', 11748: 'nonextendable', 11749: 'nonfiction', 11750: 'nongazetted', 11751: 'nonlethal', 11752: 'nonmatching', 11753: 'nonmuslim', 11754: 'nonnegotiable', 11755: 'nonpartisan', 11756: 'nonpayment', 11757: 'nonperforming', 11758: 'nonporous', 11759: 'nonprofit', 11760: 'nonsense', 11761: 'nonstate', 11762: 'nonsystematic', 11763: 'nontariff', 11764: 'nontechnological', 11765: 'nonveg', 11766: 'noor', 11767: 'noorie', 11768: 'noose', 11769: 'nor', 11770: 'norm', 11771: 'normal', 11772: 'normalcy', 11773: 'normally', 11774: 'norman', 11775: 'norms', 11776: 'norse', 11777: 'north', 11778: 'northeast', 11779: 'northern', 11780: 'northerners', 11781: 'northernmost', 11782: 'northward', 11783: 'northwest', 11784: 'norway', 11785: 'nosedived', 11786: 'nostril', 11787: 'not', 11788: 'notable', 11789: 'notably', 11790: 'notaries', 11791: 'notch', 11792: 'notches', 11793: 'note', 11794: 'notebook', 11795: 'noted', 11796: 'notes', 11797: 'noteworthy', 11798: 'nothing', 11799: 'notice', 11800: 'noticed', 11801: 'notices', 11802: 'noticing', 11803: 'notification', 11804: 'notified', 11805: 'notify', 11806: 'noting', 11807: 'notion', 11808: 'notions', 11809: 'notorious', 11810: 'notoriously', 11811: 'notwithstanding', 11812: 'noun', 11813: 'nourished', 11814: 'nourishing', 11815: 'nourishment', 11816: 'nous', 11817: 'nov', 11818: 'novak', 11819: 'novaya', 11820: 'novel', 11821: 'november', 11822: 'now', 11823: 'nowadays', 11824: 'nowdangerous', 11825: 'nowhere', 11826: 'nowonly', 11827: 'nowshera', 11828: 'npas', 11829: 'npr', 11830: 'nps', 11831: 'nrai', 11832: 'nrc', 11833: 'nris', 11834: 'nsdc', 11835: 'nse', 11836: 'nso', 11837: 'nsui', 11838: 'nt', 11839: 'nta', 11840: 'ntpc', 11841: 'ntrs', 11842: 'ntu', 11843: 'nuanced', 11844: 'nuances', 11845: 'nuclear', 11846: 'nuclearcapable', 11847: 'nuclei', 11848: 'nucleic', 11849: 'nucleons', 11850: 'nude', 11851: 'nugroho', 11852: 'nui', 11853: 'nuisance', 11854: 'numb', 11855: 'numbed', 11856: 'number', 11857: 'numbered', 11858: 'numberless', 11859: 'numbers', 11860: 'numero', 11861: 'numerous', 11862: 'nupower', 11863: 'nupur', 11864: 'nurses', 11865: 'nursing', 11866: 'nusli', 11867: 'nut', 11868: 'nutrients', 11869: 'nutrition', 11870: 'nutritional', 11871: 'nutritious', 11872: 'nuts', 11873: 'nw', 11874: 'nwe', 11875: 'nyatapola', 11876: 'nz', 11877: 'o', 11878: 'oardriven', 11879: 'oath', 11880: 'oaths', 11881: 'oathtaking', 11882: 'oatmeal', 11883: 'oats', 11884: 'obadiah', 11885: 'obama', 11886: 'obamas', 11887: 'obc', 11888: 'obcs', 11889: 'obededom', 11890: 'obedience', 11891: 'obedient', 11892: 'obediently', 11893: 'obeisance', 11894: 'obese', 11895: 'obesity', 11896: 'obey', 11897: 'obituary', 11898: 'object', 11899: 'objected', 11900: 'objection', 11901: 'objectionable', 11902: 'objectioned', 11903: 'objections', 11904: 'objective', 11905: 'objectively', 11906: 'objectives', 11907: 'objects', 11908: 'oblast', 11909: 'obligation', 11910: 'obligations', 11911: 'oblivious', 11912: 'oblysy', 11913: 'obscene', 11914: 'obscenity', 11915: 'obscured', 11916: 'obscurity', 11917: 'observation', 11918: 'observations', 11919: 'observatory', 11920: 'observe', 11921: 'observed', 11922: 'observer', 11923: 'observes', 11924: 'observing', 11925: 'obsessed', 11926: 'obsession', 11927: 'obstacle', 11928: 'obstacles', 11929: 'obstruction', 11930: 'obtain', 11931: 'obtained', 11932: 'obvious', 11933: 'obviously', 11934: 'oc', 11935: 'occasion', 11936: 'occasional', 11937: 'occasionally', 11938: 'occasions', 11939: 'occupancy', 11940: 'occupants', 11941: 'occupation', 11942: 'occupied', 11943: 'occupy', 11944: 'occur', 11945: 'occurred', 11946: 'occurrence', 11947: 'occurs', 11948: 'ocean', 11949: 'oceans', 11950: 'oci', 11951: 'oclock', 11952: 'oct', 11953: 'october', 11954: 'odd', 11955: 'odds', 11956: 'odf', 11957: 'odi', 11958: 'odia', 11959: 'odis', 11960: 'odisha', 11961: 'odor', 11962: 'odors', 11963: 'odyssey', 11964: 'of', 11965: 'ofc', 11966: 'off', 11967: 'offbreak', 11968: 'offence', 11969: 'offences', 11970: 'offended', 11971: 'offenders', 11972: 'offenses', 11973: 'offensive', 11974: 'offer', 11975: 'offered', 11976: 'offereth', 11977: 'offering', 11978: 'offerings', 11979: 'offers', 11980: 'office', 11981: 'officebearers', 11982: 'officer', 11983: 'officers', 11984: 'offices', 11985: 'official', 11986: 'officially', 11987: 'officials', 11988: 'offing', 11989: 'offline', 11990: 'offshore', 11991: 'offspring', 11992: 'often', 11993: 'ogilvie', 11994: 'oh', 11995: 'oic', 11996: 'oil', 11997: 'oiled', 11998: 'oily', 11999: 'ointment', 12000: 'ok', 12001: 'oka', 12002: 'okay', 12003: 'okonkwo', 12004: 'olav', 12005: 'old', 12006: 'oldage', 12007: 'older', 12008: 'oldest', 12009: 'oleic', 12010: 'oli', 12011: 'olive', 12012: 'olives', 12013: 'olivia', 12014: 'olson', 12015: 'olympian', 12016: 'olympic', 12017: 'olympics', 12018: 'om', 12019: 'omar', 12020: 'omcs', 12021: 'omdb', 12022: 'omission', 12023: 'omprakash', 12024: 'omraje', 12025: 'omri', 12026: 'omsk', 12027: 'on', 12028: 'onboard', 12029: 'once', 12030: 'one', 12031: 'oneday', 12032: 'onehanded', 12033: 'oneness', 12034: 'onepoint', 12035: 'oneroom', 12036: 'ones', 12037: 'oneself', 12038: 'oneside', 12039: 'onethird', 12040: 'onfield', 12041: 'ongc', 12042: 'ongcitc', 12043: 'ongoing', 12044: 'onion', 12045: 'oniongarlic', 12046: 'onions', 12047: 'online', 12048: 'onlineelectronically', 12049: 'only', 12050: 'onscreen', 12051: 'onto', 12052: 'onwards', 12053: 'opd', 12054: 'opec', 12055: 'open', 12056: 'opened', 12057: 'opener', 12058: 'openers', 12059: 'opening', 12060: 'openly', 12061: 'openness', 12062: 'opens', 12063: 'opera', 12064: 'operate', 12065: 'operated', 12066: 'operates', 12067: 'operating', 12068: 'operation', 12069: 'operational', 12070: 'operationalised', 12071: 'operationalizing', 12072: 'operations', 12073: 'operationsh', 12074: 'operationsmaneesh', 12075: 'operatives', 12076: 'operator', 12077: 'operators', 12078: 'ophel', 12079: 'ophir', 12080: 'opinion', 12081: 'opinions', 12082: 'opp', 12083: 'oppenheimer', 12084: 'opponent', 12085: 'opportunism', 12086: 'opportunities', 12087: 'opportunity', 12088: 'oppose', 12089: 'opposed', 12090: 'opposers', 12091: 'opposes', 12092: 'opposing', 12093: 'opposite', 12094: 'opposites', 12095: 'opposition', 12096: 'oppressed', 12097: 'oppression', 12098: 'oppressive', 12099: 'opt', 12100: 'opted', 12101: 'optical', 12102: 'optimism', 12103: 'optimist', 12104: 'optimistic', 12105: 'optimum', 12106: 'opting', 12107: 'option', 12108: 'optional', 12109: 'options', 12110: 'opts', 12111: 'opus', 12112: 'or', 12113: 'oracle', 12114: 'oral', 12115: 'orange', 12116: 'orbit', 12117: 'orbiter', 12118: 'orbiting', 12119: 'orbits', 12120: 'orchestra', 12121: 'orchestral', 12122: 'orchestrate', 12123: 'ordained', 12124: 'order', 12125: 'ordered', 12126: 'ordering', 12127: 'orderly', 12128: 'orders', 12129: 'ordinance', 12130: 'ordinances', 12131: 'ordinary', 12132: 'ordnance', 12133: 'oren', 12134: 'organ', 12135: 'organic', 12136: 'organisation', 12137: 'organisational', 12138: 'organisations', 12139: 'organise', 12140: 'organised', 12141: 'organises', 12142: 'organization', 12143: 'organizational', 12144: 'organizations', 12145: 'organized', 12146: 'organizer', 12147: 'organizers', 12148: 'organizing', 12149: 'organs', 12150: 'oriana', 12151: 'orient', 12152: 'oriental', 12153: 'orientation', 12154: 'oriented', 12155: 'origin', 12156: 'original', 12157: 'originally', 12158: 'originate', 12159: 'orissa', 12160: 'orit', 12161: 'ornaments', 12162: 'oros', 12163: 'orphan', 12164: 'orphanages', 12165: 'orr', 12166: 'ors', 12167: 'orthodox', 12168: 'osaka', 12169: 'oscar', 12170: 'oscars', 12171: 'osd', 12172: 'oshiwara', 12173: 'osmanabad', 12174: 'otago', 12175: 'otec', 12176: 'other', 12177: 'others', 12178: 'otherwise', 12179: 'otherworldliness', 12180: 'otp', 12181: 'ott', 12182: 'ought', 12183: 'our', 12184: 'ours', 12185: 'ourselves', 12186: 'ousted', 12187: 'ouster', 12188: 'out', 12189: 'outage', 12190: 'outback', 12191: 'outbreak', 12192: 'outbreaks', 12193: 'outcome', 12194: 'outcomes', 12195: 'outdated', 12196: 'outdoor', 12197: 'outer', 12198: 'outfit', 12199: 'outfits', 12200: 'outgoing', 12201: 'outing', 12202: 'outlaw', 12203: 'outlay', 12204: 'outline', 12205: 'outlined', 12206: 'outnumbered', 12207: 'outpouring', 12208: 'output', 12209: 'outrage', 12210: 'outraged', 12211: 'outright', 12212: 'outside', 12213: 'outsider', 12214: 'outsiders', 12215: 'outskirts', 12216: 'outsourced', 12217: 'outstanding', 12218: 'outstation', 12219: 'oval', 12220: 'ovaries', 12221: 'oven', 12222: 'over', 12223: 'overall', 12224: 'overcast', 12225: 'overcoat', 12226: 'overcome', 12227: 'overcommitment', 12228: 'overengineering', 12229: 'overexpose', 12230: 'overflowing', 12231: 'overheads', 12232: 'overly', 12233: 'overnight', 12234: 'overpasses', 12235: 'overreach', 12236: 'overs', 12237: 'overseas', 12238: 'oversee', 12239: 'overseer', 12240: 'overseers', 12241: 'overshadow', 12242: 'overshadowed', 12243: 'overstayed', 12244: 'overtake', 12245: 'overtaken', 12246: 'overthetop', 12247: 'overthrow', 12248: 'overthrown', 12249: 'overtly', 12250: 'overtures', 12251: 'overturned', 12252: 'overview', 12253: 'overweight', 12254: 'overwelmed', 12255: 'overwhelmed', 12256: 'overwhelming', 12257: 'overwrite', 12258: 'ovipositor', 12259: 'ovrms', 12260: 'owais', 12261: 'owaisi', 12262: 'owaisis', 12263: 'owe', 12264: 'owed', 12265: 'owing', 12266: 'own', 12267: 'owned', 12268: 'owner', 12269: 'owners', 12270: 'ownership', 12271: 'owning', 12272: 'owns', 12273: 'ox', 12274: 'oxen', 12275: 'oxford', 12276: 'oxfordshire', 12277: 'oxgoad', 12278: 'oxgoads', 12279: 'oxides', 12280: 'oxygen', 12281: 'ozem', 12282: 'p', 12283: 'paaji', 12284: 'pace', 12285: 'pacer', 12286: 'pacers', 12287: 'pachora', 12288: 'pacific', 12289: 'pack', 12290: 'package', 12291: 'packed', 12292: 'packets', 12293: 'pact', 12294: 'pacts', 12295: 'pad', 12296: 'padalkar', 12297: 'padding', 12298: 'paddy', 12299: 'padhao', 12300: 'padma', 12301: 'padmaavat', 12302: 'padman', 12303: 'padmanabhaswamy', 12304: 'padmashri', 12305: 'padmavathi', 12306: 'padmavati', 12307: 'padmini', 12308: 'padminipadmavati', 12309: 'padminis', 12310: 'pads', 12311: 'padsalgikar', 12312: 'padukone', 12313: 'padukones', 12314: 'padvi', 12315: 'padwa', 12316: 'padyatra', 12317: 'paeshingis', 12318: 'paf', 12319: 'pagan', 12320: 'pagans', 12321: 'page', 12322: 'pageants', 12323: 'pages', 12324: 'pahat', 12325: 'paid', 12326: 'pain', 12327: 'paine', 12328: 'painful', 12329: 'painkiller', 12330: 'painless', 12331: 'pains', 12332: 'paint', 12333: 'paintal', 12334: 'painted', 12335: 'painters', 12336: 'painting', 12337: 'paintings', 12338: 'pair', 12339: 'paired', 12340: 'pairing', 12341: 'pairings', 12342: 'pairs', 12343: 'paise', 12344: 'pak', 12345: 'pakhwada', 12346: 'pakhwara', 12347: 'pakistan', 12348: 'pakistanengland', 12349: 'pakistani', 12350: 'pakistans', 12351: 'pal', 12352: 'palace', 12353: 'palanpur', 12354: 'palatable', 12355: 'pale', 12356: 'paler', 12357: 'palestine', 12358: 'palestinian', 12359: 'palghar', 12360: 'pali', 12361: 'palm', 12362: 'palmitic', 12363: 'palms', 12364: 'palni', 12365: 'palshikar', 12366: 'paltan', 12367: 'paltry', 12368: 'pampa', 12369: 'pampore', 12370: 'pan', 12371: 'panaji', 12372: 'panamaram', 12373: 'panch', 12374: 'panchaganga', 12375: 'panchanama', 12376: 'panchariya', 12377: 'panchayat', 12378: 'panchayats', 12379: 'panchkaram', 12380: 'panchkula', 12381: 'pancholi', 12382: 'pancreatitis', 12383: 'panda', 12384: 'pandavgad', 12385: 'pande', 12386: 'pandemic', 12387: 'pandering', 12388: 'panderm', 12389: 'pandeshwar', 12390: 'pandey', 12391: 'pandhare', 12392: 'pandit', 12393: 'pandurang', 12394: 'pandya', 12395: 'pane', 12396: 'panel', 12397: 'panels', 12398: 'panga', 12399: 'pangavhane', 12400: 'pangchenpa', 12401: 'panghal', 12402: 'pangong', 12403: 'panic', 12404: 'panicked', 12405: 'panicker', 12406: 'panicking', 12407: 'panindia', 12408: 'panipat', 12409: 'paniya', 12410: 'panja', 12411: 'panjab', 12412: 'panjhade', 12413: 'pankaj', 12414: 'pankaja', 12415: 'pankhuri', 12416: 'panneerselvams', 12417: 'panning', 12418: 'panorama', 12419: 'panoramic', 12420: 'pans', 12421: 'pansare', 12422: 'pant', 12423: 'panth', 12424: 'panthers', 12425: 'pants', 12426: 'panvel', 12427: 'panwar', 12428: 'papacy', 12429: 'papaya', 12430: 'paper', 12431: 'papers', 12432: 'paperwork', 12433: 'papyrus', 12434: 'par', 12435: 'para', 12436: 'parab', 12437: 'parabadminton', 12438: 'parable', 12439: 'parade', 12440: 'paradise', 12441: 'paradoxical', 12442: 'parag', 12443: 'paragraph', 12444: 'paragraphs', 12445: 'paraguay', 12446: 'parallel', 12447: 'paralleling', 12448: 'paralympic', 12449: 'param', 12450: 'parameters', 12451: 'paramhansa', 12452: 'paramilitary', 12453: 'paramount', 12454: 'parari', 12455: 'parashuram', 12456: 'paravur', 12457: 'parbani', 12458: 'parbatpur', 12459: 'parcel', 12460: 'parchment', 12461: 'pardeshi', 12462: 'pardesi', 12463: 'pardew', 12464: 'pardhi', 12465: 'pardi', 12466: 'pardikar', 12467: 'pardoning', 12468: 'parel', 12469: 'parent', 12470: 'parenting', 12471: 'parents', 12472: 'paresh', 12473: 'parihar', 12474: 'parineeti', 12475: 'paris', 12476: 'parish', 12477: 'parishad', 12478: 'parivar', 12479: 'park', 12480: 'parkash', 12481: 'parked', 12482: 'parking', 12483: 'parkingcumplatform', 12484: 'parkinsons', 12485: 'parks', 12486: 'parle', 12487: 'parleg', 12488: 'parley', 12489: 'parli', 12490: 'parliament', 12491: 'parliamentary', 12492: 'parlour', 12493: 'parole', 12494: 'parrikar', 12495: 'parrikars', 12496: 'parrot', 12497: 'parse', 12498: 'parshuram', 12499: 'parsi', 12500: 'parsis', 12501: 'parsondha', 12502: 'part', 12503: 'partake', 12504: 'parted', 12505: 'parth', 12506: 'parthiv', 12507: 'partial', 12508: 'partiality', 12509: 'participants', 12510: 'participate', 12511: 'participated', 12512: 'participating', 12513: 'participation', 12514: 'particular', 12515: 'particularly', 12516: 'parties', 12517: 'partition', 12518: 'partitioning', 12519: 'partly', 12520: 'partner', 12521: 'partners', 12522: 'partnership', 12523: 'partnerships', 12524: 'parts', 12525: 'party', 12526: 'partyled', 12527: 'partyparties', 12528: 'partys', 12529: 'parul', 12530: 'parusharam', 12531: 'parvathys', 12532: 'parvati', 12533: 'parveen', 12534: 'pashudhan', 12535: 'pass', 12536: 'passage', 12537: 'passages', 12538: 'passbook', 12539: 'passed', 12540: 'passenger', 12541: 'passengers', 12542: 'passes', 12543: 'passeth', 12544: 'passing', 12545: 'passion', 12546: 'passionate', 12547: 'passionately', 12548: 'passport', 12549: 'passports', 12550: 'password', 12551: 'passwords', 12552: 'past', 12553: 'pasta', 12554: 'paste', 12555: 'pastel', 12556: 'pasteurized', 12557: 'pastiera', 12558: 'pastry', 12559: 'pasturage', 12560: 'paswan', 12561: 'paswans', 12562: 'pat', 12563: 'patan', 12564: 'patangrao', 12565: 'patani', 12566: 'patatas', 12567: 'pataudi', 12568: 'patekar', 12569: 'patel', 12570: 'patels', 12571: 'patent', 12572: 'paternity', 12573: 'path', 12574: 'pathak', 12575: 'pathan', 12576: 'pathankot', 12577: 'patheria', 12578: 'pathetic', 12579: 'pathid', 12580: 'pathologists', 12581: 'pathplanner', 12582: 'paths', 12583: 'pathway', 12584: 'patiala', 12585: 'patidar', 12586: 'patience', 12587: 'patient', 12588: 'patiently', 12589: 'patients', 12590: 'patil', 12591: 'patils', 12592: 'patiya', 12593: 'patna', 12594: 'patnaik', 12595: 'patole', 12596: 'patra', 12597: 'patriarch', 12598: 'patriarchal', 12599: 'patrick', 12600: 'patrike', 12601: 'patriot', 12602: 'patriotic', 12603: 'patriotism', 12604: 'patrol', 12605: 'patrolling', 12606: 'patron', 12607: 'pattern', 12608: 'patterned', 12609: 'patterns', 12610: 'paul', 12611: 'paula', 12612: 'paulo', 12613: 'pauls', 12614: 'pavan', 12615: 'pavana', 12616: 'pavement', 12617: 'pavilion', 12618: 'pavillion', 12619: 'pawan', 12620: 'pawans', 12621: 'pawar', 12622: 'pawarmahaddalkar', 12623: 'pawars', 12624: 'pax', 12625: 'pay', 12626: 'payal', 12627: 'payers', 12628: 'paying', 12629: 'payment', 12630: 'payments', 12631: 'payoff', 12632: 'pays', 12633: 'paytm', 12634: 'pcbs', 12635: 'pcc', 12636: 'pcmc', 12637: 'pda', 12638: 'pdc', 12639: 'pdf', 12640: 'pdkv', 12641: 'pdp', 12642: 'peace', 12643: 'peaceable', 12644: 'peaceand', 12645: 'peaceful', 12646: 'peacefully', 12647: 'peach', 12648: 'peacock', 12649: 'peak', 12650: 'peanut', 12651: 'pear', 12652: 'pearl', 12653: 'pearle', 12654: 'pearls', 12655: 'peasants', 12656: 'pecche', 12657: 'pectoral', 12658: 'peculiar', 12659: 'peddler', 12660: 'peddlers', 12661: 'pedestal', 12662: 'pedestrians', 12663: 'pedetid', 12664: 'pediatrician', 12665: 'pednekar', 12666: 'pedro', 12667: 'peebles', 12668: 'peel', 12669: 'peer', 12670: 'peleg', 12671: 'pelethiten', 12672: 'pelican', 12673: 'pellet', 12674: 'pelted', 12675: 'pelting', 12676: 'pemra', 12677: 'pen', 12678: 'penal', 12679: 'penalised', 12680: 'penalties', 12681: 'penalty', 12682: 'pencil', 12683: 'pendency', 12684: 'pendhar', 12685: 'pending', 12686: 'penetrated', 12687: 'penetrates', 12688: 'penned', 12689: 'penneys', 12690: 'pennsylvania', 12691: 'penny', 12692: 'pension', 12693: 'pensions', 12694: 'pensive', 12695: 'pentagon', 12696: 'pentatonic', 12697: 'pentecost', 12698: 'people', 12699: 'peopleenables', 12700: 'peoples', 12701: 'pepper', 12702: 'per', 12703: 'perarivalan', 12704: 'percapita', 12705: 'perceive', 12706: 'perceived', 12707: 'perceiving', 12708: 'percent', 12709: 'percentage', 12710: 'perception', 12711: 'perceptive', 12712: 'perez', 12713: 'perfect', 12714: 'perfected', 12715: 'perfectionist', 12716: 'perfectly', 12717: 'perform', 12718: 'performance', 12719: 'performances', 12720: 'performed', 12721: 'performer', 12722: 'performers', 12723: 'performing', 12724: 'performs', 12725: 'perhaps', 12726: 'peril', 12727: 'period', 12728: 'periodically', 12729: 'periods', 12730: 'perked', 12731: 'perks', 12732: 'permanence', 12733: 'permanency', 12734: 'permanent', 12735: 'permanently', 12736: 'permissible', 12737: 'permission', 12738: 'permissionapproval', 12739: 'permissions', 12740: 'permit', 12741: 'permitted', 12742: 'perpetrated', 12743: 'perpetrating', 12744: 'perplexed', 12745: 'persecute', 12746: 'persecuted', 12747: 'persecuting', 12748: 'persecution', 12749: 'perseverance', 12750: 'persevered', 12751: 'persian', 12752: 'persians', 12753: 'persist', 12754: 'persisted', 12755: 'persistence', 12756: 'persistently', 12757: 'person', 12758: 'personal', 12759: 'personalities', 12760: 'personality', 12761: 'personalize', 12762: 'personally', 12763: 'personen', 12764: 'personnel', 12765: 'persons', 12766: 'perspective', 12767: 'perspectives', 12768: 'persuade', 12769: 'pertaining', 12770: 'perth', 12771: 'pervasive', 12772: 'perverse', 12773: 'perverted', 12774: 'pessimistic', 12775: 'pest', 12776: 'pesticides', 12777: 'pests', 12778: 'pet', 12779: 'petalevo', 12780: 'peter', 12781: 'petersburg', 12782: 'petition', 12783: 'petitioner', 12784: 'petitioners', 12785: 'petitions', 12786: 'petrochemical', 12787: 'petrol', 12788: 'petroleum', 12789: 'petru', 12790: 'pets', 12791: 'petstray', 12792: 'petty', 12793: 'pf', 12794: 'pfms', 12795: 'pfrda', 12796: 'pg', 12797: 'ph', 12798: 'phagwara', 12799: 'phalke', 12800: 'phantoms', 12801: 'pharaoh', 12802: 'pharez', 12803: 'pharisees', 12804: 'pharmaceutical', 12805: 'pharmaceuticals', 12806: 'pharmacies', 12807: 'pharmacy', 12808: 'phase', 12809: 'phases', 12810: 'phd', 12811: 'phelps', 12812: 'phenomenal', 12813: 'phenomenon', 12814: 'philadelphia', 12815: 'philanthropists', 12816: 'philanthropy', 12817: 'philetus', 12818: 'philip', 12819: 'philipose', 12820: 'philippi', 12821: 'philippians', 12822: 'philippines', 12823: 'philistines', 12824: 'phillipps', 12825: 'philosophers', 12826: 'philosophies', 12827: 'philosophy', 12828: 'phinehas', 12829: 'phobia', 12830: 'phoenician', 12831: 'phoenix', 12832: 'phogat', 12833: 'phone', 12834: 'phones', 12835: 'phoney', 12836: 'phosphorus', 12837: 'photo', 12838: 'photobased', 12839: 'photoelectric', 12840: 'photograph', 12841: 'photographed', 12842: 'photographer', 12843: 'photographs', 12844: 'photography', 12845: 'photojournalists', 12846: 'photos', 12847: 'phrase', 12848: 'phule', 12849: 'phundkar', 12850: 'physical', 12851: 'physically', 12852: 'physician', 12853: 'physics', 12854: 'piano', 12855: 'pic', 12856: 'pichegru', 12857: 'pick', 12858: 'picked', 12859: 'picking', 12860: 'picks', 12861: 'pickup', 12862: 'pics', 12863: 'picture', 12864: 'pictured', 12865: 'pictures', 12866: 'piece', 12867: 'pieces', 12868: 'pierced', 12869: 'piercing', 12870: 'pierre', 12871: 'piezoelectric', 12872: 'pigeons', 12873: 'pigs', 12874: 'pigtail', 12875: 'pil', 12876: 'pilgrim', 12877: 'pilgrimage', 12878: 'pilgrims', 12879: 'piling', 12880: 'pillar', 12881: 'pillars', 12882: 'pillow', 12883: 'pilot', 12884: 'piloted', 12885: 'pilots', 12886: 'pimpri', 12887: 'pimprichinchwad', 12888: 'pimps', 12889: 'pin', 12890: 'pinaka', 12891: 'pinarayi', 12892: 'pinch', 12893: 'pinions', 12894: 'pink', 12895: 'pinkwashing', 12896: 'pioneer', 12897: 'pioneered', 12898: 'pioneering', 12899: 'pioneers', 12900: 'pipe', 12901: 'piped', 12902: 'pipeline', 12903: 'pipes', 12904: 'piqued', 12905: 'piragua', 12906: 'piramal', 12907: 'pisces', 12908: 'pistol', 12909: 'pistols', 12910: 'pit', 12911: 'pitch', 12912: 'pitchdark', 12913: 'pitched', 12914: 'pitcher', 12915: 'pitches', 12916: 'pith', 12917: 'pitiable', 12918: 'pitroda', 12919: 'pits', 12920: 'pitt', 12921: 'pitted', 12922: 'pity', 12923: 'pivotal', 12924: 'piyush', 12925: 'pizza', 12926: 'pk', 12927: 'pku', 12928: 'pla', 12929: 'placards', 12930: 'place', 12931: 'placebo', 12932: 'placed', 12933: 'placement', 12934: 'places', 12935: 'plague', 12936: 'plaguing', 12937: 'plain', 12938: 'plainly', 12939: 'plains', 12940: 'plaintive', 12941: 'plan', 12942: 'plane', 12943: 'planes', 12944: 'planet', 12945: 'planets', 12946: 'planned', 12947: 'planners', 12948: 'planning', 12949: 'plans', 12950: 'plant', 12951: 'plantation', 12952: 'plantations', 12953: 'planted', 12954: 'planting', 12955: 'plants', 12956: 'plaque', 12957: 'plas', 12958: 'plasma', 12959: 'plaster', 12960: 'plastic', 12961: 'plate', 12962: 'plateaued', 12963: 'platelets', 12964: 'plates', 12965: 'platform', 12966: 'platforms', 12967: 'platinum', 12968: 'play', 12969: 'played', 12970: 'player', 12971: 'players', 12972: 'playing', 12973: 'plays', 12974: 'plaza', 12975: 'plea', 12976: 'plead', 12977: 'pleas', 12978: 'pleasant', 12979: 'please', 12980: 'pleased', 12981: 'pleases', 12982: 'pleasing', 12983: 'pleasurable', 12984: 'pleasure', 12985: 'pledge', 12986: 'plentiful', 12987: 'plenty', 12988: 'plessis', 12989: 'plf', 12990: 'pliable', 12991: 'plight', 12992: 'plim', 12993: 'plot', 12994: 'plots', 12995: 'plucked', 12996: 'plug', 12997: 'plugged', 12998: 'plugin', 12999: 'plum', 13000: 'plumb', 13001: 'plummet', 13002: 'plummeted', 13003: 'plunged', 13004: 'plus', 13005: 'plutonium', 13006: 'plying', 13007: 'pm', 13008: 'pmaasha', 13009: 'pmayg', 13010: 'pmet', 13011: 'pmfby', 13012: 'pmgsy', 13013: 'pmgsyii', 13014: 'pmjay', 13015: 'pmk', 13016: 'pmla', 13017: 'pmmy', 13018: 'pmo', 13019: 'pmq', 13020: 'pmrda', 13021: 'pms', 13022: 'pmuy', 13023: 'pn', 13024: 'pnb', 13025: 'pneumonia', 13026: 'pns', 13027: 'poaching', 13028: 'pocso', 13029: 'poddar', 13030: 'poem', 13031: 'poet', 13032: 'poetess', 13033: 'poetry', 13034: 'poets', 13035: 'point', 13036: 'pointed', 13037: 'pointing', 13038: 'points', 13039: 'poison', 13040: 'poisoning', 13041: 'poisonous', 13042: 'pok', 13043: 'pokhara', 13044: 'pokhriyal', 13045: 'pol', 13046: 'poland', 13047: 'pole', 13048: 'poles', 13049: 'police', 13050: 'policeman', 13051: 'policemans', 13052: 'policemen', 13053: 'polices', 13054: 'policies', 13055: 'policing', 13056: 'policy', 13057: 'polish', 13058: 'political', 13059: 'politically', 13060: 'politicalsecurity', 13061: 'politician', 13062: 'politicians', 13063: 'politicising', 13064: 'politicize', 13065: 'politics', 13066: 'poll', 13067: 'pollard', 13068: 'pollbound', 13069: 'polled', 13070: 'pollen', 13071: 'polling', 13072: 'polls', 13073: 'pollution', 13074: 'pollutionfree', 13075: 'pollutionlinked', 13076: 'polman', 13077: 'polygamy', 13078: 'polytechnic', 13079: 'pomegranate', 13080: 'pompeo', 13081: 'pompeos', 13082: 'pon', 13083: 'pond', 13084: 'ponder', 13085: 'pongal', 13086: 'ponies', 13087: 'pontoon', 13088: 'pooja', 13089: 'pookutty', 13090: 'pool', 13091: 'pools', 13092: 'poonam', 13093: 'poonch', 13094: 'pooped', 13095: 'poor', 13096: 'pooran', 13097: 'poorest', 13098: 'poorly', 13099: 'pop', 13100: 'pope', 13101: 'popular', 13102: 'popularity', 13103: 'popularly', 13104: 'populated', 13105: 'population', 13106: 'populations', 13107: 'populous', 13108: 'popup', 13109: 'poree', 13110: 'poresent', 13111: 'porn', 13112: 'pornography', 13113: 'port', 13114: 'portal', 13115: 'portfolio', 13116: 'portfolios', 13117: 'portion', 13118: 'portions', 13119: 'portkerala', 13120: 'portray', 13121: 'portrayed', 13122: 'portraying', 13123: 'ports', 13124: 'portugal', 13125: 'portuguese', 13126: 'pose', 13127: 'posed', 13128: 'poses', 13129: 'poshest', 13130: 'posing', 13131: 'position', 13132: 'positioned', 13133: 'positioning', 13134: 'positions', 13135: 'positive', 13136: 'positively', 13137: 'possess', 13138: 'possessing', 13139: 'possession', 13140: 'possibilities', 13141: 'possibility', 13142: 'possible', 13143: 'possibly', 13144: 'post', 13145: 'postage', 13146: 'postal', 13147: 'postcocoon', 13148: 'posted', 13149: 'postelection', 13150: 'poster', 13151: 'posters', 13152: 'postgraduate', 13153: 'postharvest', 13154: 'posthumous', 13155: 'posthumously', 13156: 'posting', 13157: 'postmen', 13158: 'postmortem', 13159: 'postoperative', 13160: 'postpoll', 13161: 'postpone', 13162: 'postponed', 13163: 'postponing', 13164: 'posts', 13165: 'posture', 13166: 'postwar', 13167: 'potable', 13168: 'potassium', 13169: 'potato', 13170: 'potatoes', 13171: 'potent', 13172: 'potential', 13173: 'potentially', 13174: 'poth', 13175: 'pothole', 13176: 'potholes', 13177: 'potter', 13178: 'poultry', 13179: 'pounded', 13180: 'pounds', 13181: 'pour', 13182: 'poured', 13183: 'pouring', 13184: 'pours', 13185: 'poverty', 13186: 'powai', 13187: 'powars', 13188: 'powder', 13189: 'powdered', 13190: 'power', 13191: 'powered', 13192: 'powerful', 13193: 'powerfully', 13194: 'powerplay', 13195: 'powers', 13196: 'powersharing', 13197: 'pows', 13198: 'pp', 13199: 'ppa', 13200: 'ppe', 13201: 'ppes', 13202: 'ppp', 13203: 'pr', 13204: 'prabhas', 13205: 'prabhu', 13206: 'prabhudheva', 13207: 'prabowo', 13208: 'practical', 13209: 'practicality', 13210: 'practically', 13211: 'practicals', 13212: 'practice', 13213: 'practiced', 13214: 'practicers', 13215: 'practices', 13216: 'practise', 13217: 'practitioners', 13218: 'prada', 13219: 'pradeep', 13220: 'pradesh', 13221: 'pradeshs', 13222: 'pradhan', 13223: 'pragati', 13224: 'prague', 13225: 'pragya', 13226: 'prairie', 13227: 'praise', 13228: 'praised', 13229: 'praises', 13230: 'praising', 13231: 'prajakta', 13232: 'prajnesh', 13233: 'prajwal', 13234: 'prakash', 13235: 'prakashotsava', 13236: 'prakrit', 13237: 'pralhad', 13238: 'pramod', 13239: 'pranab', 13240: 'pranam', 13241: 'prarthana', 13242: 'prasad', 13243: 'prasadam', 13244: 'prasanta', 13245: 'prashad', 13246: 'prashant', 13247: 'pratap', 13248: 'pratappur', 13249: 'prateik', 13250: 'pratibha', 13251: 'praveen', 13252: 'praveensinh', 13253: 'pravin', 13254: 'prawns', 13255: 'pray', 13256: 'prayagraj', 13257: 'prayed', 13258: 'prayer', 13259: 'prayers', 13260: 'praying', 13261: 'pre', 13262: 'preach', 13263: 'preached', 13264: 'preacher', 13265: 'preachers', 13266: 'preaching', 13267: 'preamble', 13268: 'precarious', 13269: 'precautionary', 13270: 'precautions', 13271: 'preceding', 13272: 'precious', 13273: 'precipitating', 13274: 'precipitous', 13275: 'precise', 13276: 'precisely', 13277: 'precision', 13278: 'preconference', 13279: 'predecessor', 13280: 'predicative', 13281: 'predict', 13282: 'predicted', 13283: 'predominantly', 13284: 'preelection', 13285: 'preened', 13286: 'preet', 13287: 'preeti', 13288: 'prefer', 13289: 'preferably', 13290: 'preference', 13291: 'preferences', 13292: 'preferred', 13293: 'prefers', 13294: 'prefix', 13295: 'prefixes', 13296: 'pregnancies', 13297: 'pregnancy', 13298: 'pregnant', 13299: 'preheat', 13300: 'preinstalled', 13301: 'prejudice', 13302: 'prejudices', 13303: 'preliminary', 13304: 'prem', 13305: 'premarital', 13306: 'premature', 13307: 'premedical', 13308: 'premier', 13309: 'premiere', 13310: 'premise', 13311: 'premises', 13312: 'premium', 13313: 'premiums', 13314: 'premji', 13315: 'prenuptial', 13316: 'prep', 13317: 'prepaid', 13318: 'preparation', 13319: 'preparations', 13320: 'preparatory', 13321: 'prepare', 13322: 'prepared', 13323: 'preparedness', 13324: 'preparing', 13325: 'preposterous', 13326: 'prepping', 13327: 'prepregnancy', 13328: 'preproduction', 13329: 'prerogative', 13330: 'prescribed', 13331: 'presence', 13332: 'present', 13333: 'presentation', 13334: 'presented', 13335: 'presently', 13336: 'presents', 13337: 'preservation', 13338: 'preserve', 13339: 'preserved', 13340: 'preserving', 13341: 'presided', 13342: 'presidency', 13343: 'president', 13344: 'presidential', 13345: 'presidents', 13346: 'press', 13347: 'presse', 13348: 'presses', 13349: 'pressing', 13350: 'pressure', 13351: 'pressures', 13352: 'prestige', 13353: 'prestigious', 13354: 'presume', 13355: 'presumptuous', 13356: 'presumptuousness', 13357: 'pretext', 13358: 'pretty', 13359: 'prevail', 13360: 'prevailed', 13361: 'prevailing', 13362: 'prevails', 13363: 'prevalence', 13364: 'prevalent', 13365: 'prevent', 13366: 'preventing', 13367: 'prevention', 13368: 'preventive', 13369: 'prevents', 13370: 'previous', 13371: 'previously', 13372: 'prewedding', 13373: 'prey', 13374: 'price', 13375: 'priced', 13376: 'prices', 13377: 'pricing', 13378: 'pride', 13379: 'priest', 13380: 'priesthood', 13381: 'priests', 13382: 'prigent', 13383: 'prima', 13384: 'primarily', 13385: 'primary', 13386: 'prime', 13387: 'prince', 13388: 'princely', 13389: 'princes', 13390: 'princess', 13391: 'principal', 13392: 'principle', 13393: 'principles', 13394: 'print', 13395: 'printed', 13396: 'printer', 13397: 'printing', 13398: 'printout', 13399: 'prior', 13400: 'priorities', 13401: 'priority', 13402: 'priska', 13403: 'prison', 13404: 'prisoner', 13405: 'prisoners', 13406: 'prisons', 13407: 'pritam', 13408: 'prithiviraj', 13409: 'prithvi', 13410: 'prithviraj', 13411: 'priti', 13412: 'privacy', 13413: 'private', 13414: 'privately', 13415: 'privatise', 13416: 'privatising', 13417: 'privilege', 13418: 'privileged', 13419: 'privileges', 13420: 'priya', 13421: 'priyanca', 13422: 'priyank', 13423: 'priyanka', 13424: 'priyankanick', 13425: 'priyankas', 13426: 'priyantha', 13427: 'prize', 13428: 'prized', 13429: 'prizes', 13430: 'pro', 13431: 'proactive', 13432: 'proactively', 13433: 'probability', 13434: 'probably', 13435: 'probationers', 13436: 'probe', 13437: 'probed', 13438: 'probing', 13439: 'problem', 13440: 'problems', 13441: 'procedure', 13442: 'procedures', 13443: 'proceduresmedicinesand', 13444: 'proceed', 13445: 'proceeded', 13446: 'proceedings', 13447: 'proceeds', 13448: 'process', 13449: 'processed', 13450: 'processes', 13451: 'processing', 13452: 'procession', 13453: 'processions', 13454: 'processor', 13455: 'processors', 13456: 'proclaimed', 13457: 'proclaiming', 13458: 'procreative', 13459: 'procurement', 13460: 'prod', 13461: 'prodigal', 13462: 'produce', 13463: 'produced', 13464: 'producer', 13465: 'producers', 13466: 'producing', 13467: 'product', 13468: 'production', 13469: 'productions', 13470: 'productive', 13471: 'productivity', 13472: 'products', 13473: 'prof', 13474: 'profane', 13475: 'profanes', 13476: 'profession', 13477: 'professional', 13478: 'professionalism', 13479: 'professionallydesigned', 13480: 'professionals', 13481: 'professor', 13482: 'professors', 13483: 'profile', 13484: 'profit', 13485: 'profitable', 13486: 'profits', 13487: 'profound', 13488: 'program', 13489: 'programme', 13490: 'programmes', 13491: 'programmesschemes', 13492: 'programs', 13493: 'progress', 13494: 'progressed', 13495: 'progresses', 13496: 'progressing', 13497: 'progression', 13498: 'progressively', 13499: 'prohibited', 13500: 'prohibiting', 13501: 'prohibits', 13502: 'project', 13503: 'projected', 13504: 'projects', 13505: 'prolonged', 13506: 'prominent', 13507: 'prominently', 13508: 'promise', 13509: 'promised', 13510: 'promises', 13511: 'promote', 13512: 'promoted', 13513: 'promotes', 13514: 'promoting', 13515: 'promotion', 13516: 'promotional', 13517: 'promotions', 13518: 'prompt', 13519: 'prompted', 13520: 'prompting', 13521: 'promptly', 13522: 'promulgation', 13523: 'prondmp', 13524: 'pronounce', 13525: 'pronounced', 13526: 'proof', 13527: 'propaganda', 13528: 'propagate', 13529: 'propagating', 13530: 'propakistan', 13531: 'propellant', 13532: 'proper', 13533: 'properly', 13534: 'properties', 13535: 'property', 13536: 'prophecy', 13537: 'prophesied', 13538: 'prophesy', 13539: 'prophesying', 13540: 'prophet', 13541: 'prophetic', 13542: 'prophets', 13543: 'proponents', 13544: 'proportion', 13545: 'proposal', 13546: 'proposals', 13547: 'proposed', 13548: 'proposes', 13549: 'proposition', 13550: 'proprietorship', 13551: 'pros', 13552: 'prosecuted', 13553: 'prosecutor', 13554: 'prospect', 13555: 'prospective', 13556: 'prospectus', 13557: 'prosper', 13558: 'prosperity', 13559: 'prosperous', 13560: 'prostitute', 13561: 'protagonist', 13562: 'protagonists', 13563: 'protect', 13564: 'protected', 13565: 'protecting', 13566: 'protection', 13567: 'protective', 13568: 'protectively', 13569: 'protectors', 13570: 'protects', 13571: 'protein', 13572: 'proteins', 13573: 'protest', 13574: 'protested', 13575: 'protester', 13576: 'protesters', 13577: 'protesting', 13578: 'protestors', 13579: 'protests', 13580: 'proto', 13581: 'protocol', 13582: 'protons', 13583: 'proud', 13584: 'prov', 13585: 'prove', 13586: 'proved', 13587: 'proven', 13588: 'proverbs', 13589: 'provide', 13590: 'provided', 13591: 'provider', 13592: 'provides', 13593: 'providing', 13594: 'province', 13595: 'provinces', 13596: 'provincial', 13597: 'provision', 13598: 'provisions', 13599: 'provocation', 13600: 'provoked', 13601: 'prowomen', 13602: 'proxy', 13603: 'prudent', 13604: 'prunes', 13605: 'ps', 13606: 'psa', 13607: 'psalm', 13608: 'psalmist', 13609: 'psalms', 13610: 'pscdc', 13611: 'psdcl', 13612: 'psi', 13613: 'pslv', 13614: 'pslvc', 13615: 'psu', 13616: 'psus', 13617: 'psv', 13618: 'psychiatrist', 13619: 'psychologically', 13620: 'psychologists', 13621: 'pt', 13622: 'pte', 13623: 'ptf', 13624: 'pti', 13625: 'pts', 13626: 'ptype', 13627: 'public', 13628: 'publication', 13629: 'publications', 13630: 'publicity', 13631: 'publicly', 13632: 'publicprivate', 13633: 'publics', 13634: 'published', 13635: 'publisher', 13636: 'publishers', 13637: 'puddles', 13638: 'puducherry', 13639: 'puerto', 13640: 'pugilist', 13641: 'puja', 13642: 'pujara', 13643: 'pujas', 13644: 'pujyababasaheb', 13645: 'pulkit', 13646: 'pull', 13647: 'pulled', 13648: 'pulling', 13649: 'pulls', 13650: 'pulse', 13651: 'pulses', 13652: 'pulwama', 13653: 'pummelled', 13654: 'pumped', 13655: 'pumps', 13656: 'punctured', 13657: 'pund', 13658: 'pundits', 13659: 'pune', 13660: 'puneahmednagar', 13661: 'punebased', 13662: 'puneesh', 13663: 'puneet', 13664: 'punes', 13665: 'pungent', 13666: 'pungkee', 13667: 'punia', 13668: 'punish', 13669: 'punished', 13670: 'punishing', 13671: 'punishment', 13672: 'punit', 13673: 'punjab', 13674: 'punjabi', 13675: 'punjabistyled', 13676: 'punjabs', 13677: 'punky', 13678: 'puns', 13679: 'pupa', 13680: 'puppet', 13681: 'puppy', 13682: 'puran', 13683: 'purchase', 13684: 'purchased', 13685: 'purchasing', 13686: 'pure', 13687: 'puree', 13688: 'purest', 13689: 'purged', 13690: 'puri', 13691: 'purify', 13692: 'puritans', 13693: 'purohit', 13694: 'purple', 13695: 'purported', 13696: 'purpose', 13697: 'purposed', 13698: 'purposeful', 13699: 'purposes', 13700: 'purse', 13701: 'pursuant', 13702: 'pursue', 13703: 'pursued', 13704: 'pursuer', 13705: 'pursuing', 13706: 'pursuit', 13707: 'pursuits', 13708: 'purview', 13709: 'push', 13710: 'pushed', 13711: 'pushes', 13712: 'pushing', 13713: 'pushkar', 13714: 'pushover', 13715: 'pushp', 13716: 'pussycat', 13717: 'put', 13718: 'putin', 13719: 'puts', 13720: 'putting', 13721: 'puwj', 13722: 'puzzle', 13723: 'puzzled', 13724: 'puzzling', 13725: 'pv', 13726: 'pvt', 13727: 'pwd', 13728: 'pwds', 13729: 'pycroft', 13730: 'q', 13731: 'qadeer', 13732: 'qaraandy', 13733: 'qaraghandy', 13734: 'qassem', 13735: 'qasymjomart', 13736: 'qatar', 13737: 'quake', 13738: 'quakers', 13739: 'qualcomm', 13740: 'qualcomms', 13741: 'qualifications', 13742: 'qualified', 13743: 'qualifiers', 13744: 'qualify', 13745: 'qualifying', 13746: 'qualities', 13747: 'quality', 13748: 'quantities', 13749: 'quantity', 13750: 'quantum', 13751: 'quappelle', 13752: 'quarantine', 13753: 'quarantined', 13754: 'quarantining', 13755: 'quarrel', 13756: 'quarried', 13757: 'quarter', 13758: 'quarterfinal', 13759: 'quarterfinals', 13760: 'quarters', 13761: 'quashed', 13762: 'qubec', 13763: 'quebecs', 13764: 'quechua', 13765: 'queen', 13766: 'queensland', 13767: 'queloz', 13768: 'quenched', 13769: 'queried', 13770: 'queries', 13771: 'query', 13772: 'question', 13773: 'questionable', 13774: 'questioned', 13775: 'questioning', 13776: 'questions', 13777: 'queue', 13778: 'quick', 13779: 'quickly', 13780: 'quiet', 13781: 'quietly', 13782: 'quilting', 13783: 'quintal', 13784: 'quinton', 13785: 'quit', 13786: 'quite', 13787: 'quits', 13788: 'quitting', 13789: 'quizzed', 13790: 'quota', 13791: 'quotations', 13792: 'quote', 13793: 'quoted', 13794: 'quotes', 13795: 'quoting', 13796: 'qureshi', 13797: 'r', 13798: 'raab', 13799: 'raaz', 13800: 'raazi', 13801: 'raba', 13802: 'rabada', 13803: 'rabbi', 13804: 'rabbits', 13805: 'rabi', 13806: 'rabies', 13807: 'rabindra', 13808: 'rabindranath', 13809: 'rabiya', 13810: 'race', 13811: 'raced', 13812: 'races', 13813: 'rachel', 13814: 'racially', 13815: 'racing', 13816: 'racket', 13817: 'radars', 13818: 'radcliffe', 13819: 'radha', 13820: 'radhakrishna', 13821: 'radhakrishnan', 13822: 'radhamohan', 13823: 'radhe', 13824: 'radhika', 13825: 'radiant', 13826: 'radiation', 13827: 'radio', 13828: 'radiometer', 13829: 'radiotelephone', 13830: 'radium', 13831: 'rae', 13832: 'raebareilly', 13833: 'rafael', 13834: 'rafale', 13835: 'rafida', 13836: 'raft', 13837: 'rafter', 13838: 'raga', 13839: 'rage', 13840: 'raghav', 13841: 'raghavan', 13842: 'raghu', 13843: 'raghubar', 13844: 'raghuvansh', 13845: 'ragi', 13846: 'raging', 13847: 'rahat', 13848: 'rahatkar', 13849: 'raheel', 13850: 'rahim', 13851: 'rahman', 13852: 'rahmans', 13853: 'rahmat', 13854: 'rahul', 13855: 'rahulji', 13856: 'rahulpujara', 13857: 'rahuls', 13858: 'rai', 13859: 'raiba', 13860: 'raid', 13861: 'raided', 13862: 'raids', 13863: 'raigad', 13864: 'rail', 13865: 'railroad', 13866: 'railway', 13867: 'railways', 13868: 'railwire', 13869: 'rain', 13870: 'raina', 13871: 'rainas', 13872: 'rainbow', 13873: 'rainfall', 13874: 'rainhit', 13875: 'raining', 13876: 'rains', 13877: 'rainsensing', 13878: 'rainwater', 13879: 'rainy', 13880: 'raise', 13881: 'raised', 13882: 'raises', 13883: 'raising', 13884: 'raisins', 13885: 'raj', 13886: 'raja', 13887: 'rajabhau', 13888: 'rajagopal', 13889: 'rajamouli', 13890: 'rajamundry', 13891: 'rajanth', 13892: 'rajaram', 13893: 'rajasekharan', 13894: 'rajasthan', 13895: 'rajasthans', 13896: 'rajat', 13897: 'rajawadi', 13898: 'rajdhani', 13899: 'raje', 13900: 'rajeev', 13901: 'rajender', 13902: 'rajendra', 13903: 'rajesh', 13904: 'rajeshwari', 13905: 'rajini', 13906: 'rajinikanth', 13907: 'rajinikanths', 13908: 'rajiv', 13909: 'rajive', 13910: 'rajkot', 13911: 'rajkumar', 13912: 'rajkummar', 13913: 'rajmane', 13914: 'rajnath', 13915: 'rajneesh', 13916: 'rajni', 13917: 'rajnish', 13918: 'rajouri', 13919: 'rajouris', 13920: 'rajput', 13921: 'rajputs', 13922: 'raju', 13923: 'rajwar', 13924: 'rajya', 13925: 'rajyavardhan', 13926: 'rake', 13927: 'rakeysh', 13928: 'rakhi', 13929: 'rakul', 13930: 'ral', 13931: 'rallied', 13932: 'rallies', 13933: 'rally', 13934: 'rallysts', 13935: 'ram', 13936: 'rama', 13937: 'ramabai', 13938: 'ramachandran', 13939: 'ramadorai', 13940: 'ramadoss', 13941: 'ramah', 13942: 'ramalingeshwara', 13943: 'raman', 13944: 'ramana', 13945: 'ramanath', 13946: 'ramandeep', 13947: 'ramani', 13948: 'ramanujacharya', 13949: 'ramaoji', 13950: 'ramaphosa', 13951: 'ramayana', 13952: 'ramazan', 13953: 'ramban', 13954: 'rambha', 13955: 'rambir', 13956: 'ramchandra', 13957: 'ramdas', 13958: 'ramdev', 13959: 'ramesh', 13960: 'rameshwaram', 13961: 'rameswaram', 13962: 'rameswaramdhanushkodi', 13963: 'ramkrishna', 13964: 'ramkumar', 13965: 'ramlallu', 13966: 'ramlila', 13967: 'rammed', 13968: 'ramnath', 13969: 'ramo', 13970: 'ramp', 13971: 'rampage', 13972: 'rampal', 13973: 'rampant', 13974: 'rampur', 13975: 'ramraje', 13976: 'rams', 13977: 'ramsay', 13978: 'ramsu', 13979: 'ramvichar', 13980: 'ran', 13981: 'rana', 13982: 'ranaghat', 13983: 'ranaut', 13984: 'ranauts', 13985: 'ranbir', 13986: 'ranchi', 13987: 'randeep', 13988: 'randhir', 13989: 'random', 13990: 'randomly', 13991: 'rane', 13992: 'ranes', 13993: 'rangaswamy', 13994: 'range', 13995: 'rangers', 13996: 'ranging', 13997: 'rani', 13998: 'ranimaa', 13999: 'raninder', 14000: 'ranjan', 14001: 'ranji', 14002: 'ranjib', 14003: 'ranjitsinh', 14004: 'rank', 14005: 'ranked', 14006: 'ranking', 14007: 'rankings', 14008: 'ranks', 14009: 'ransacked', 14010: 'ransom', 14011: 'ransomware', 14012: 'ranu', 14013: 'ranus', 14014: 'ranveer', 14015: 'rao', 14016: 'raos', 14017: 'raosaheb', 14018: 'rapa', 14019: 'raparthi', 14020: 'rape', 14021: 'raped', 14022: 'rapemurder', 14023: 'rapes', 14024: 'rapid', 14025: 'rapidly', 14026: 'raping', 14027: 'rappers', 14028: 'rare', 14029: 'rarely', 14030: 'rasayan', 14031: 'rash', 14032: 'rashes', 14033: 'rashford', 14034: 'rashid', 14035: 'rashmi', 14036: 'rashtra', 14037: 'rashtrapati', 14038: 'rashtriya', 14039: 'rasleela', 14040: 'raspberry', 14041: 'ratan', 14042: 'ratcheted', 14043: 'rate', 14044: 'rates', 14045: 'rath', 14046: 'rather', 14047: 'rathna', 14048: 'rathore', 14049: 'ratification', 14050: 'ratify', 14051: 'rating', 14052: 'ratings', 14053: 'ratio', 14054: 'ration', 14055: 'rationale', 14056: 'rationalising', 14057: 'rationality', 14058: 'ratna', 14059: 'ratnagiri', 14060: 'rattled', 14061: 'raturi', 14062: 'raul', 14063: 'raut', 14064: 'rautela', 14065: 'raveendran', 14066: 'ravenous', 14067: 'ravi', 14068: 'ravichandran', 14069: 'ravidas', 14070: 'ravikumar', 14071: 'ravinder', 14072: 'ravindra', 14073: 'ravishankar', 14074: 'ravte', 14075: 'raw', 14076: 'rawal', 14077: 'rawat', 14078: 'ray', 14079: 'rays', 14080: 'rayudu', 14081: 'razdan', 14082: 'razed', 14083: 'rbi', 14084: 'rbis', 14085: 'rc', 14086: 'rcast', 14087: 'rcb', 14088: 'rcep', 14089: 'rcom', 14090: 'rcwn', 14091: 'rd', 14092: 'rdg', 14093: 'rdso', 14094: 'reach', 14095: 'reached', 14096: 'reaches', 14097: 'reaching', 14098: 'react', 14099: 'reacted', 14100: 'reacting', 14101: 'reaction', 14102: 'reactivated', 14103: 'reacts', 14104: 'read', 14105: 'reader', 14106: 'readers', 14107: 'readily', 14108: 'reading', 14109: 'readjust', 14110: 'readjusted', 14111: 'readmitted', 14112: 'reads', 14113: 'ready', 14114: 'reaffirm', 14115: 'reaffirmed', 14116: 'reaffirming', 14117: 'real', 14118: 'realise', 14119: 'realised', 14120: 'realises', 14121: 'realistically', 14122: 'realities', 14123: 'reality', 14124: 'realization', 14125: 'realize', 14126: 'realized', 14127: 'realizing', 14128: 'really', 14129: 'realtime', 14130: 'realty', 14131: 'reap', 14132: 'reaped', 14133: 'reappear', 14134: 'reapply', 14135: 'rear', 14136: 'rearing', 14137: 'rearrested', 14138: 'reasi', 14139: 'reason', 14140: 'reasonable', 14141: 'reasonableness', 14142: 'reasonably', 14143: 'reasoned', 14144: 'reasoning', 14145: 'reasons', 14146: 'reasserted', 14147: 'reassess', 14148: 'reassurance', 14149: 'reassure', 14150: 'reassuring', 14151: 'rebate', 14152: 'rebel', 14153: 'rebelled', 14154: 'rebellest', 14155: 'rebellion', 14156: 'rebellious', 14157: 'rebirths', 14158: 'rebuffed', 14159: 'rebuidling', 14160: 'rebuke', 14161: 'rebuttal', 14162: 'rebutted', 14163: 'recall', 14164: 'recalled', 14165: 'recalling', 14166: 'recalls', 14167: 'recanted', 14168: 'recapitalisation', 14169: 'recede', 14170: 'receded', 14171: 'receipt', 14172: 'receive', 14173: 'received', 14174: 'receiver', 14175: 'receivers', 14176: 'receives', 14177: 'receiving', 14178: 'recent', 14179: 'recently', 14180: 'recentlyconcluded', 14181: 'reception', 14182: 'receptions', 14183: 'recession', 14184: 'rechab', 14185: 'recipe', 14186: 'recipes', 14187: 'recipient', 14188: 'recited', 14189: 'reckons', 14190: 'reclaim', 14191: 'recognise', 14192: 'recognised', 14193: 'recognising', 14194: 'recognition', 14195: 'recognize', 14196: 'recognized', 14197: 'recognizing', 14198: 'recommend', 14199: 'recommendation', 14200: 'recommendations', 14201: 'recommended', 14202: 'recommends', 14203: 'reconcile', 14204: 'reconciled', 14205: 'reconciliation', 14206: 'reconciling', 14207: 'reconnaissance', 14208: 'reconsider', 14209: 'reconsidered', 14210: 'reconstitution', 14211: 'reconstructed', 14212: 'reconstruction', 14213: 'record', 14214: 'recorded', 14215: 'recording', 14216: 'recordings', 14217: 'records', 14218: 'recordstop', 14219: 'recount', 14220: 'recover', 14221: 'recovered', 14222: 'recoveries', 14223: 'recovering', 14224: 'recovery', 14225: 'recreational', 14226: 'recruit', 14227: 'recruitment', 14228: 'rectified', 14229: 'rectify', 14230: 'recuperating', 14231: 'recur', 14232: 'recycle', 14233: 'red', 14234: 'redd', 14235: 'reddish', 14236: 'reddy', 14237: 'redeem', 14238: 'redeemed', 14239: 'redeeming', 14240: 'redefine', 14241: 'redemption', 14242: 'redevelop', 14243: 'redeveloped', 14244: 'rediscover', 14245: 'redistributed', 14246: 'redmi', 14247: 'reduce', 14248: 'reduced', 14249: 'reduces', 14250: 'reducing', 14251: 'reduction', 14252: 'reed', 14253: 'reeds', 14254: 'reel', 14255: 'reeling', 14256: 'reena', 14257: 'reengineering', 14258: 'reeti', 14259: 'reexamine', 14260: 'refer', 14261: 'referee', 14262: 'referendum', 14263: 'referred', 14264: 'referring', 14265: 'refers', 14266: 'refills', 14267: 'refined', 14268: 'refinery', 14269: 'refining', 14270: 'reflect', 14271: 'reflected', 14272: 'reflecting', 14273: 'reflections', 14274: 'reflective', 14275: 'reflects', 14276: 'reform', 14277: 'reformation', 14278: 'reformierte', 14279: 'reforms', 14280: 'refrained', 14281: 'refresh', 14282: 'refreshments', 14283: 'refrigeration', 14284: 'refrigerator', 14285: 'refuge', 14286: 'refugee', 14287: 'refugees', 14288: 'refund', 14289: 'refurbished', 14290: 'refurbishing', 14291: 'refuse', 14292: 'refused', 14293: 'refuses', 14294: 'refusing', 14295: 'refuted', 14296: 'regain', 14297: 'regaining', 14298: 'regard', 14299: 'regarded', 14300: 'regarding', 14301: 'regardless', 14302: 'regards', 14303: 'rege', 14304: 'regeneration', 14305: 'regime', 14306: 'regimes', 14307: 'region', 14308: 'regional', 14309: 'regions', 14310: 'register', 14311: 'registered', 14312: 'registering', 14313: 'registerupdate', 14314: 'registrar', 14315: 'registration', 14316: 'registrations', 14317: 'registry', 14318: 'regnancy', 14319: 'regret', 14320: 'regrets', 14321: 'regretted', 14322: 'regular', 14323: 'regularly', 14324: 'regulate', 14325: 'regulated', 14326: 'regulating', 14327: 'regulation', 14328: 'regulations', 14329: 'regulator', 14330: 'regulatory', 14331: 'rehabilitated', 14332: 'rehabilitation', 14333: 'rehabilition', 14334: 'rehearsals', 14335: 'rehman', 14336: 'rehob', 14337: 'reign', 14338: 'reigned', 14339: 'reigning', 14340: 'reimburse', 14341: 'reimbursement', 14342: 'reins', 14343: 'reinstated', 14344: 'reinstatement', 14345: 'reinvent', 14346: 'reinvigorate', 14347: 'reiterated', 14348: 'reiterating', 14349: 'reject', 14350: 'rejected', 14351: 'rejects', 14352: 'rejoice', 14353: 'rejoiced', 14354: 'rejoicing', 14355: 'rejoining', 14356: 'rejuvenate', 14357: 'rekha', 14358: 'rekindled', 14359: 'relapsed', 14360: 'relate', 14361: 'related', 14362: 'relates', 14363: 'relating', 14364: 'relation', 14365: 'relations', 14366: 'relationship', 14367: 'relationships', 14368: 'relative', 14369: 'relatively', 14370: 'relatives', 14371: 'relativity', 14372: 'relax', 14373: 'relaxation', 14374: 'relaxed', 14375: 'relay', 14376: 'release', 14377: 'released', 14378: 'releases', 14379: 'releasing', 14380: 'relegated', 14381: 'relegation', 14382: 'relent', 14383: 'relented', 14384: 'relevance', 14385: 'relevant', 14386: 'reliable', 14387: 'reliance', 14388: 'relief', 14389: 'relieve', 14390: 'relieved', 14391: 'religion', 14392: 'religions', 14393: 'religious', 14394: 'reliquaries', 14395: 'relocate', 14396: 'rely', 14397: 'relying', 14398: 'remade', 14399: 'remain', 14400: 'remained', 14401: 'remaining', 14402: 'remains', 14403: 'remake', 14404: 'remand', 14405: 'remanded', 14406: 'remark', 14407: 'remarkable', 14408: 'remarked', 14409: 'remarks', 14410: 'rematch', 14411: 'remcl', 14412: 'remedied', 14413: 'remedy', 14414: 'remember', 14415: 'remembered', 14416: 'remembering', 14417: 'remind', 14418: 'reminder', 14419: 'reminders', 14420: 'reminding', 14421: 'reminiscent', 14422: 'remission', 14423: 'remnant', 14424: 'remnants', 14425: 'remo', 14426: 'remonstrating', 14427: 'remorse', 14428: 'remorseful', 14429: 'remote', 14430: 'remotest', 14431: 'removal', 14432: 'remove', 14433: 'removed', 14434: 'removes', 14435: 'removing', 14436: 'remuneration', 14437: 'remunerative', 14438: 'renaissance', 14439: 'renal', 14440: 'rename', 14441: 'renamed', 14442: 'renaming', 14443: 'render', 14444: 'rendered', 14445: 'rendering', 14446: 'renes', 14447: 'renewable', 14448: 'renewables', 14449: 'renewed', 14450: 'reno', 14451: 'renovated', 14452: 'renowned', 14453: 'rent', 14454: 'rented', 14455: 'renttobuy', 14456: 'renu', 14457: 'renuka', 14458: 'reopen', 14459: 'repaid', 14460: 'repair', 14461: 'repaired', 14462: 'repairs', 14463: 'repalle', 14464: 'repay', 14465: 'repeal', 14466: 'repealed', 14467: 'repealing', 14468: 'repeat', 14469: 'repeated', 14470: 'repeatedly', 14471: 'repentance', 14472: 'repentant', 14473: 'repercussions', 14474: 'replace', 14475: 'replaced', 14476: 'replacement', 14477: 'replaces', 14478: 'replanting', 14479: 'replenish', 14480: 'replete', 14481: 'replied', 14482: 'replies', 14483: 'reply', 14484: 'replying', 14485: 'repo', 14486: 'repolinked', 14487: 'report', 14488: 'reported', 14489: 'reportedly', 14490: 'reporters', 14491: 'reporting', 14492: 'reports', 14493: 'reposing', 14494: 'repository', 14495: 'represent', 14496: 'representation', 14497: 'representational', 14498: 'representative', 14499: 'representatives', 14500: 'represented', 14501: 'representing', 14502: 'represents', 14503: 'repress', 14504: 'reprise', 14505: 'reproach', 14506: 'reprobate', 14507: 'reprocess', 14508: 'reproduce', 14509: 'reproduction', 14510: 'reproved', 14511: 'republic', 14512: 'republican', 14513: 'repulsed', 14514: 'reputation', 14515: 'reputed', 14516: 'request', 14517: 'requested', 14518: 'requesting', 14519: 'requests', 14520: 'require', 14521: 'required', 14522: 'requirement', 14523: 'requirements', 14524: 'requires', 14525: 'requiring', 14526: 'requisite', 14527: 'reraised', 14528: 'rescinded', 14529: 'rescue', 14530: 'rescued', 14531: 'rescues', 14532: 'research', 14533: 'researched', 14534: 'researcher', 14535: 'researchers', 14536: 'researching', 14537: 'resembled', 14538: 'resembles', 14539: 'resentment', 14540: 'reservation', 14541: 'reserve', 14542: 'reserved', 14543: 'reserves', 14544: 'reservewastage', 14545: 'reservoirs', 14546: 'reshammiya', 14547: 'reside', 14548: 'residence', 14549: 'residences', 14550: 'resident', 14551: 'residents', 14552: 'residing', 14553: 'residue', 14554: 'residues', 14555: 'resign', 14556: 'resignation', 14557: 'resignations', 14558: 'resigned', 14559: 'resigning', 14560: 'resigns', 14561: 'resilience', 14562: 'resiliencebuilding', 14563: 'resilient', 14564: 'resinous', 14565: 'resist', 14566: 'resistance', 14567: 'resisted', 14568: 'resists', 14569: 'reskilled', 14570: 'resolution', 14571: 'resolve', 14572: 'resolved', 14573: 'resolves', 14574: 'resonated', 14575: 'resort', 14576: 'resorted', 14577: 'resorting', 14578: 'resource', 14579: 'resourceful', 14580: 'resources', 14581: 'respect', 14582: 'respectable', 14583: 'respected', 14584: 'respectful', 14585: 'respectfully', 14586: 'respecthe', 14587: 'respecting', 14588: 'respective', 14589: 'respectively', 14590: 'respects', 14591: 'respirator', 14592: 'respiratory', 14593: 'respite', 14594: 'respond', 14595: 'responded', 14596: 'respondents', 14597: 'responding', 14598: 'responds', 14599: 'response', 14600: 'responses', 14601: 'responsibilities', 14602: 'responsibility', 14603: 'responsible', 14604: 'responsibly', 14605: 'rest', 14606: 'restabilized', 14607: 'restart', 14608: 'restaurant', 14609: 'restaurants', 14610: 'rested', 14611: 'resting', 14612: 'restitution', 14613: 'restless', 14614: 'restoration', 14615: 'restore', 14616: 'restored', 14617: 'restraining', 14618: 'restrains', 14619: 'restraint', 14620: 'restricted', 14621: 'restriction', 14622: 'restrictions', 14623: 'restructured', 14624: 'restructuring', 14625: 'resul', 14626: 'result', 14627: 'resulted', 14628: 'resulting', 14629: 'results', 14630: 'resultthe', 14631: 'resume', 14632: 'resumed', 14633: 'resurrected', 14634: 'resurrecting', 14635: 'resurrection', 14636: 'retail', 14637: 'retain', 14638: 'retained', 14639: 'retaliate', 14640: 'retaliated', 14641: 'retaliatory', 14642: 'rethinking', 14643: 'retire', 14644: 'retired', 14645: 'retirement', 14646: 'retires', 14647: 'retiring', 14648: 'retold', 14649: 'retort', 14650: 'retorted', 14651: 'retreat', 14652: 'retreating', 14653: 'retribution', 14654: 'retrieved', 14655: 'retrieving', 14656: 'retrospective', 14657: 'retry', 14658: 'return', 14659: 'returned', 14660: 'returning', 14661: 'returns', 14662: 'reu', 14663: 'reuse', 14664: 'reuters', 14665: 'revaluation', 14666: 'reveal', 14667: 'revealed', 14668: 'reveals', 14669: 'revelation', 14670: 'revenge', 14671: 'revenue', 14672: 'revenues', 14673: 'reverential', 14674: 'reversal', 14675: 'reverse', 14676: 'reversed', 14677: 'reversing', 14678: 'review', 14679: 'reviewed', 14680: 'reviewing', 14681: 'reviews', 14682: 'revised', 14683: 'revision', 14684: 'revival', 14685: 'revived', 14686: 'revocation', 14687: 'revoke', 14688: 'revoked', 14689: 'revokes', 14690: 'revoking', 14691: 'revolt', 14692: 'revolution', 14693: 'revolutionary', 14694: 'revolutionising', 14695: 'revolve', 14696: 'revolver', 14697: 'revolves', 14698: 'rewa', 14699: 'reward', 14700: 'rewarded', 14701: 'rgi', 14702: 'rhea', 14703: 'rhetoric', 14704: 'rib', 14705: 'ribs', 14706: 'rican', 14707: 'ricardo', 14708: 'rice', 14709: 'rich', 14710: 'richard', 14711: 'richer', 14712: 'riches', 14713: 'richest', 14714: 'richness', 14715: 'richter', 14716: 'ricks', 14717: 'rickshaw', 14718: 'rickshawpuller', 14719: 'rickshaws', 14720: 'rid', 14721: 'riddled', 14722: 'ride', 14723: 'ridge', 14724: 'ridges', 14725: 'ridicule', 14726: 'riding', 14727: 'rife', 14728: 'rifle', 14729: 'rift', 14730: 'right', 14731: 'rightarm', 14732: 'rightclick', 14733: 'righteous', 14734: 'righteousness', 14735: 'rightful', 14736: 'rightfully', 14737: 'righthanded', 14738: 'righthearted', 14739: 'rights', 14740: 'rigid', 14741: 'rigorous', 14742: 'rihtedim', 14743: 'rijiju', 14744: 'riksbank', 14745: 'rimfire', 14746: 'ring', 14747: 'ringed', 14748: 'rinse', 14749: 'rio', 14750: 'riot', 14751: 'riothit', 14752: 'rioting', 14753: 'riots', 14754: 'ripe', 14755: 'ripped', 14756: 'ripples', 14757: 'rips', 14758: 'rise', 14759: 'risen', 14760: 'rises', 14761: 'rishabh', 14762: 'rishi', 14763: 'rishis', 14764: 'rising', 14765: 'risk', 14766: 'risks', 14767: 'rissah', 14768: 'riteish', 14769: 'rites', 14770: 'ritesh', 14771: 'ritu', 14772: 'ritual', 14773: 'rituals', 14774: 'ritwick', 14775: 'rival', 14776: 'river', 14777: 'riverbed', 14778: 'riverfront', 14779: 'rivers', 14780: 'rivulets', 14781: 'riyadh', 14782: 'riyan', 14783: 'riyaz', 14784: 'rj', 14785: 'rjd', 14786: 'rk', 14787: 'rna', 14788: 'ro', 14789: 'road', 14790: 'roadblocks', 14791: 'roadmap', 14792: 'roadrage', 14793: 'roads', 14794: 'roadshow', 14795: 'roadside', 14796: 'roadway', 14797: 'roadworks', 14798: 'roald', 14799: 'roar', 14800: 'rob', 14801: 'robbed', 14802: 'robberies', 14803: 'robbers', 14804: 'robbery', 14805: 'robert', 14806: 'robes', 14807: 'robin', 14808: 'robotics', 14809: 'robots', 14810: 'robs', 14811: 'robust', 14812: 'rock', 14813: 'rockefeller', 14814: 'rocket', 14815: 'rocketlauncher', 14816: 'rockets', 14817: 'rocking', 14818: 'rocks', 14819: 'rockstar', 14820: 'rocky', 14821: 'rod', 14822: 'rodgers', 14823: 'rodrigues', 14824: 'rods', 14825: 'rodtep', 14826: 'roger', 14827: 'rogers', 14828: 'rogue', 14829: 'rohan', 14830: 'rohanpreet', 14831: 'rohatgi', 14832: 'rohidas', 14833: 'rohini', 14834: 'rohit', 14835: 'rojgari', 14836: 'roktima', 14837: 'role', 14838: 'roles', 14839: 'roll', 14840: 'rolled', 14841: 'rom', 14842: 'roman', 14843: 'romance', 14844: 'romanias', 14845: 'romanized', 14846: 'romans', 14847: 'romantic', 14848: 'rome', 14849: 'rona', 14850: 'ronald', 14851: 'ronaldo', 14852: 'roof', 14853: 'roohi', 14854: 'rookie', 14855: 'room', 14856: 'roommates', 14857: 'rooms', 14858: 'roomy', 14859: 'roosevelt', 14860: 'roosting', 14861: 'root', 14862: 'rooted', 14863: 'roots', 14864: 'rope', 14865: 'roped', 14866: 'ropes', 14867: 'ropeway', 14868: 'roro', 14869: 'rosa', 14870: 'rosalies', 14871: 'rose', 14872: 'roses', 14873: 'roshans', 14874: 'ross', 14875: 'rostec', 14876: 'rotating', 14877: 'rotation', 14878: 'rote', 14879: 'roti', 14880: 'rotor', 14881: 'rottenness', 14882: 'roughly', 14883: 'rouhani', 14884: 'round', 14885: 'rounded', 14886: 'roundels', 14887: 'rounds', 14888: 'roundtable', 14889: 'roundtheclock', 14890: 'rout', 14891: 'route', 14892: 'routes', 14893: 'routine', 14894: 'routines', 14895: 'rover', 14896: 'row', 14897: 'rowing', 14898: 'roy', 14899: 'royal', 14900: 'royalists', 14901: 'royals', 14902: 'rpf', 14903: 'rs', 14904: 'rscrore', 14905: 'rsg', 14906: 'rsgs', 14907: 'rss', 14908: 'rtc', 14909: 'rtcs', 14910: 'rtd', 14911: 'rte', 14912: 'rti', 14913: 'rtpcr', 14914: 'rtqpcr', 14915: 'rub', 14916: 'rubbish', 14917: 'rubbished', 14918: 'rubbishes', 14919: 'rubble', 14920: 'rubel', 14921: 'ruby', 14922: 'ruckus', 14923: 'rude', 14924: 'rudiments', 14925: 'rudniks', 14926: 'rug', 14927: 'rugby', 14928: 'rugged', 14929: 'ruia', 14930: 'ruin', 14931: 'ruined', 14932: 'rukh', 14933: 'rukmini', 14934: 'rule', 14935: 'ruled', 14936: 'ruler', 14937: 'rules', 14938: 'ruling', 14939: 'rummage', 14940: 'rumour', 14941: 'rumoured', 14942: 'rumours', 14943: 'run', 14944: 'rungetter', 14945: 'runners', 14946: 'running', 14947: 'runrate', 14948: 'runs', 14949: 'runscorer', 14950: 'runup', 14951: 'runway', 14952: 'ruoti', 14953: 'ruoto', 14954: 'rupali', 14955: 'rupay', 14956: 'rupee', 14957: 'rupees', 14958: 'rupinder', 14959: 'rural', 14960: 'rusesabagina', 14961: 'rush', 14962: 'rushed', 14963: 'russel', 14964: 'russell', 14965: 'russia', 14966: 'russian', 14967: 'ruth', 14968: 'rutherford', 14969: 'ruthless', 14970: 'ruthlessly', 14971: 'rutuja', 14972: 'rwa', 14973: 'ryan', 14974: 'rza', 14975: 's', 14976: 'saad', 14977: 'saaho', 14978: 'saamana', 14979: 'saamna', 14980: 'saath', 14981: 'sabarimala', 14982: 'sabarmati', 14983: 'sabbath', 14984: 'sabbaths', 14985: 'sabeen', 14986: 'sabha', 14987: 'sabhirai', 14988: 'sabita', 14989: 'sabka', 14990: 'sable', 14991: 'sabotaged', 14992: 'sachin', 14993: 'sachs', 14994: 'sack', 14995: 'sacked', 14996: 'sacking', 14997: 'sacred', 14998: 'sacrifice', 14999: 'sacrificed', 15000: 'sacrifices', 15001: 'sacrificial', 15002: 'sacrificing', 15003: 'sad', 15004: 'sadabhau', 15005: 'sadananda', 15006: 'sadar', 15007: 'sadashiv', 15008: 'sadbjp', 15009: 'saddened', 15010: 'sadguru', 15011: 'sadh', 15012: 'sadhna', 15013: 'sadhunavar', 15014: 'sadhvi', 15015: 'sadia', 15016: 'sadiq', 15017: 'sadly', 15018: 'saeed', 15019: 'saeeds', 15020: 'safe', 15021: 'safeguard', 15022: 'safeguarding', 15023: 'safely', 15024: 'safer', 15025: 'safest', 15026: 'safety', 15027: 'saffron', 15028: 'saga', 15029: 'sagar', 15030: 'sagarmala', 15031: 'sage', 15032: 'sagging', 15033: 'saha', 15034: 'sahar', 15035: 'sahara', 15036: 'saharanpur', 15037: 'sahare', 15038: 'saharia', 15039: 'sahib', 15040: 'sahil', 15041: 'sahir', 15042: 'sahni', 15043: 'sahu', 15044: 'sahyadri', 15045: 'sai', 15046: 'said', 15047: 'saidi', 15048: 'saidwe', 15049: 'saiee', 15050: 'saif', 15051: 'sail', 15052: 'sailors', 15053: 'saina', 15054: 'saini', 15055: 'sainiks', 15056: 'saint', 15057: 'saints', 15058: 'saira', 15059: 'sairat', 15060: 'saith', 15061: 'saiyyami', 15062: 'sajdeh', 15063: 'sajjan', 15064: 'sakatpur', 15065: 'sake', 15066: 'saketnagar', 15067: 'sakshi', 15068: 'sal', 15069: 'salad', 15070: 'salahuddins', 15071: 'salaries', 15072: 'salary', 15073: 'sale', 15074: 'sales', 15075: 'salesmen', 15076: 'sali', 15077: 'salim', 15078: 'saliva', 15079: 'salma', 15080: 'salmaan', 15081: 'salman', 15082: 'salmans', 15083: 'salota', 15084: 'salt', 15085: 'salts', 15086: 'salute', 15087: 'saluted', 15088: 'salvation', 15089: 'salve', 15090: 'salwar', 15091: 'salwarschudidars', 15092: 'sam', 15093: 'samaganova', 15094: 'samaj', 15095: 'samajik', 15096: 'samajwadi', 15097: 'samaria', 15098: 'samaritan', 15099: 'samartha', 15100: 'samba', 15101: 'sambar', 15102: 'sambhaji', 15103: 'sambit', 15104: 'sambyal', 15105: 'same', 15106: 'sameer', 15107: 'samir', 15108: 'samithi', 15109: 'samji', 15110: 'samman', 15111: 'sammelan', 15112: 'sammy', 15113: 'samnath', 15114: 'samosas', 15115: 'sampat', 15116: 'sample', 15117: 'samples', 15118: 'samrala', 15119: 'samrat', 15120: 'samruddhi', 15121: 'samson', 15122: 'samsung', 15123: 'samuel', 15124: 'samuels', 15125: 'samvat', 15126: 'samyal', 15127: 'samyukta', 15128: 'san', 15129: 'sanaa', 15130: 'sanand', 15131: 'sanatan', 15132: 'sanchar', 15133: 'sanctified', 15134: 'sanctify', 15135: 'sanction', 15136: 'sanctioned', 15137: 'sanctioning', 15138: 'sanctions', 15139: 'sanctuaries', 15140: 'sanctuary', 15141: 'sand', 15142: 'sandakfu', 15143: 'sandalwood', 15144: 'sandeep', 15145: 'sandesh', 15146: 'sandhu', 15147: 'sandhya', 15148: 'sandstone', 15149: 'sang', 15150: 'sangareddy', 15151: 'sangathan', 15152: 'sangeeta', 15153: 'sangh', 15154: 'sanghatana', 15155: 'sanghvis', 15156: 'sangli', 15157: 'sangola', 15158: 'sangram', 15159: 'sangran', 15160: 'sangthana', 15161: 'sangwan', 15162: 'sanhedrin', 15163: 'sania', 15164: 'saniabopanna', 15165: 'sanitary', 15166: 'sanitation', 15167: 'sanitizer', 15168: 'sanjana', 15169: 'sanjay', 15170: 'sanjeev', 15171: 'sanjeeva', 15172: 'sanjiv', 15173: 'sanjivkumar', 15174: 'sanju', 15175: 'sankanur', 15176: 'sanon', 15177: 'sanskar', 15178: 'sanskrit', 15179: 'sanstha', 15180: 'santa', 15181: 'santhan', 15182: 'santhi', 15183: 'santosh', 15184: 'sanu', 15185: 'sanwer', 15186: 'sanyogita', 15187: 'sapate', 15188: 'saplings', 15189: 'sara', 15190: 'sarabhai', 15191: 'saradha', 15192: 'sarah', 15193: 'saraswati', 15194: 'sarat', 15195: 'sarbananda', 15196: 'sarbh', 15197: 'sarcastic', 15198: 'sardar', 15199: 'sardesai', 15200: 'saree', 15201: 'sarees', 15202: 'saridon', 15203: 'sarina', 15204: 'saris', 15205: 'sarita', 15206: 'sarkar', 15207: 'sarnaiks', 15208: 'sarnia', 15209: 'saroj', 15210: 'sarojini', 15211: 'sarovar', 15212: 'sarpanch', 15213: 'sarpanches', 15214: 'sartaj', 15215: 'sarvepalli', 15216: 'sashastra', 15217: 'sasikala', 15218: 'sat', 15219: 'satan', 15220: 'satans', 15221: 'satara', 15222: 'satav', 15223: 'satellite', 15224: 'satellites', 15225: 'sath', 15226: 'satheesh', 15227: 'sathyanath', 15228: 'satisfaction', 15229: 'satisfactory', 15230: 'satisfied', 15231: 'satisfy', 15232: 'satisfying', 15233: 'satish', 15234: 'satishchandra', 15235: 'satpal', 15236: 'satpura', 15237: 'satpute', 15238: 'satti', 15239: 'saturday', 15240: 'satwikashwini', 15241: 'satwinder', 15242: 'satyajeet', 15243: 'satyajit', 15244: 'saubhagya', 15245: 'saucepans', 15246: 'saudi', 15247: 'saul', 15248: 'sauls', 15249: 'saumur', 15250: 'saurabh', 15251: 'saut', 15252: 'savani', 15253: 'savarkar', 15254: 'save', 15255: 'saved', 15256: 'saves', 15257: 'savings', 15258: 'savio', 15259: 'savior', 15260: 'savitr', 15261: 'savitribai', 15262: 'savour', 15263: 'saw', 15264: 'sawa', 15265: 'sawaimadhopur', 15266: 'sawaimadhopursheopur', 15267: 'sawant', 15268: 'sawantwadi', 15269: 'sawyer', 15270: 'saxecoburgsaalfield', 15271: 'saxena', 15272: 'saxony', 15273: 'say', 15274: 'sayaji', 15275: 'sayest', 15276: 'saying', 15277: 'sayings', 15278: 'says', 15279: 'sbi', 15280: 'sbis', 15281: 'sbm', 15282: 'sc', 15283: 'scala', 15284: 'scale', 15285: 'scaled', 15286: 'scales', 15287: 'scaling', 15288: 'scalp', 15289: 'scalped', 15290: 'scam', 15291: 'scams', 15292: 'scamtainted', 15293: 'scandal', 15294: 'scandalized', 15295: 'scanned', 15296: 'scanner', 15297: 'scanning', 15298: 'scarce', 15299: 'scarcely', 15300: 'scarcity', 15301: 'scared', 15302: 'scares', 15303: 'scarlet', 15304: 'scarred', 15305: 'scathing', 15306: 'scatter', 15307: 'scattered', 15308: 'scc', 15309: 'scenario', 15310: 'scenarios', 15311: 'scene', 15312: 'scenery', 15313: 'scenes', 15314: 'scenic', 15315: 'scent', 15316: 'scert', 15317: 'schedule', 15318: 'scheduled', 15319: 'scheme', 15320: 'schemeaddressing', 15321: 'schemes', 15322: 'scherzinger', 15323: 'scholar', 15324: 'scholarly', 15325: 'scholars', 15326: 'scholarship', 15327: 'scholarships', 15328: 'school', 15329: 'schooling', 15330: 'schools', 15331: 'schoolteacher', 15332: 'schwimmer', 15333: 'science', 15334: 'sciences', 15335: 'scientific', 15336: 'scientifically', 15337: 'scientist', 15338: 'scientists', 15339: 'scindia', 15340: 'scooter', 15341: 'scope', 15342: 'scorching', 15343: 'score', 15344: 'scored', 15345: 'scores', 15346: 'scoring', 15347: 'scorpene', 15348: 'scotland', 15349: 'scott', 15350: 'scottish', 15351: 'scourge', 15352: 'scouted', 15353: 'scramble', 15354: 'scramjet', 15355: 'scrap', 15356: 'scrapped', 15357: 'scrapper', 15358: 'scrapping', 15359: 'scream', 15360: 'screen', 15361: 'screened', 15362: 'screening', 15363: 'screenplay', 15364: 'screens', 15365: 'screensaver', 15366: 'screenshot', 15367: 'screenwriter', 15368: 'scribble', 15369: 'scribe', 15370: 'scribes', 15371: 'script', 15372: 'scriptural', 15373: 'scripture', 15374: 'scriptures', 15375: 'scroll', 15376: 'scrolllinked', 15377: 'scrolls', 15378: 'scrubber', 15379: 'scrutiny', 15380: 'scsi', 15381: 'scuffle', 15382: 'scuffles', 15383: 'sculpture', 15384: 'sculptures', 15385: 'sdf', 15386: 'sdg', 15387: 'sdpo', 15388: 'se', 15389: 'sea', 15390: 'sealand', 15391: 'sealed', 15392: 'seamless', 15393: 'seamstress', 15394: 'search', 15395: 'searched', 15396: 'searches', 15397: 'searching', 15398: 'seas', 15399: 'season', 15400: 'seasons', 15401: 'seat', 15402: 'seated', 15403: 'seating', 15404: 'seats', 15405: 'seatsharing', 15406: 'seaward', 15407: 'seawoods', 15408: 'secede', 15409: 'second', 15410: 'secondary', 15411: 'secondjointsession', 15412: 'secondly', 15413: 'seconds', 15414: 'secrecy', 15415: 'secret', 15416: 'secretariat', 15417: 'secretaries', 15418: 'secretary', 15419: 'secretarygeneral', 15420: 'secretions', 15421: 'secretly', 15422: 'sect', 15423: 'section', 15424: 'sections', 15425: 'sector', 15426: 'sectoral', 15427: 'sectorally', 15428: 'sectors', 15429: 'secular', 15430: 'secularism', 15431: 'secure', 15432: 'secured', 15433: 'securely', 15434: 'secures', 15435: 'securities', 15436: 'security', 15437: 'sedan', 15438: 'sedate', 15439: 'sedentary', 15440: 'sediment', 15441: 'sediments', 15442: 'sedition', 15443: 'seditious', 15444: 'seductions', 15445: 'see', 15446: 'seed', 15447: 'seedeaters', 15448: 'seeded', 15449: 'seeds', 15450: 'seeing', 15451: 'seek', 15452: 'seekers', 15453: 'seeking', 15454: 'seeks', 15455: 'seelampur', 15456: 'seem', 15457: 'seema', 15458: 'seemed', 15459: 'seemingly', 15460: 'seems', 15461: 'seen', 15462: 'seer', 15463: 'sees', 15464: 'segal', 15465: 'segment', 15466: 'segments', 15467: 'sehwag', 15468: 'sehwags', 15469: 'sei', 15470: 'seize', 15471: 'seized', 15472: 'seizure', 15473: 'sekhar', 15474: 'select', 15475: 'selected', 15476: 'selecting', 15477: 'selection', 15478: 'selective', 15479: 'selector', 15480: 'selectors', 15481: 'selects', 15482: 'self', 15483: 'selfautomated', 15484: 'selfconfident', 15485: 'selfdefence', 15486: 'selfdefense', 15487: 'selfefficacy', 15488: 'selfemployed', 15489: 'selfesteem', 15490: 'selfie', 15491: 'selfies', 15492: 'selfimposed', 15493: 'selfish', 15494: 'selfless', 15495: 'selfobsessed', 15496: 'selfoperated', 15497: 'selfreliance', 15498: 'selfreliant', 15499: 'selfsatisfaction', 15500: 'selfservice', 15501: 'selfstyled', 15502: 'selfsufficiency', 15503: 'sell', 15504: 'sellers', 15505: 'selling', 15506: 'sells', 15507: 'seltos', 15508: 'selves', 15509: 'semester', 15510: 'semiconductor', 15511: 'semifinal', 15512: 'semifinals', 15513: 'seminal', 15514: 'seminar', 15515: 'seminars', 15516: 'seminude', 15517: 'semis', 15518: 'semiskilled', 15519: 'semwal', 15520: 'sen', 15521: 'sena', 15522: 'senabjp', 15523: 'senancpcongress', 15524: 'senas', 15525: 'senators', 15526: 'send', 15527: 'sending', 15528: 'sends', 15529: 'sengar', 15530: 'senior', 15531: 'seniority', 15532: 'seniormost', 15533: 'seniors', 15534: 'sensational', 15535: 'sense', 15536: 'senses', 15537: 'sensex', 15538: 'sensitive', 15539: 'sensor', 15540: 'sensors', 15541: 'sensory', 15542: 'sent', 15543: 'sentence', 15544: 'sentenced', 15545: 'sentences', 15546: 'sentiment', 15547: 'sentiments', 15548: 'seoni', 15549: 'seoul', 15550: 'separate', 15551: 'separated', 15552: 'separately', 15553: 'separating', 15554: 'separation', 15555: 'separatism', 15556: 'separator', 15557: 'sepoy', 15558: 'sept', 15559: 'september', 15560: 'septuagint', 15561: 'sequences', 15562: 'sequencing', 15563: 'serena', 15564: 'serenading', 15565: 'sergei', 15566: 'serial', 15567: 'seriate', 15568: 'series', 15569: 'serious', 15570: 'seriously', 15571: 'serjeants', 15572: 'serpent', 15573: 'serug', 15574: 'serum', 15575: 'servant', 15576: 'servants', 15577: 'serve', 15578: 'served', 15579: 'server', 15580: 'servers', 15581: 'serves', 15582: 'service', 15583: 'services', 15584: 'serviceworker', 15585: 'servicing', 15586: 'serving', 15587: 'servitude', 15588: 'sesa', 15589: 'sesotho', 15590: 'session', 15591: 'sessions', 15592: 'set', 15593: 'seth', 15594: 'sethi', 15595: 'sets', 15596: 'setteth', 15597: 'setting', 15598: 'settings', 15599: 'settle', 15600: 'settled', 15601: 'settlement', 15602: 'settlements', 15603: 'settling', 15604: 'settop', 15605: 'setu', 15606: 'setup', 15607: 'seva', 15608: 'seven', 15609: 'seventeenth', 15610: 'seventh', 15611: 'seventhday', 15612: 'seventy', 15613: 'several', 15614: 'severe', 15615: 'severely', 15616: 'severing', 15617: 'severity', 15618: 'sewage', 15619: 'sewania', 15620: 'sewerage', 15621: 'sex', 15622: 'sexist', 15623: 'sexual', 15624: 'sexualizes', 15625: 'sexually', 15626: 'seym', 15627: 'sgst', 15628: 'sh', 15629: 'shabana', 15630: 'shadaa', 15631: 'shading', 15632: 'shadow', 15633: 'shafi', 15634: 'shaft', 15635: 'shah', 15636: 'shahabad', 15637: 'shahabuddin', 15638: 'shahabuddins', 15639: 'shahapur', 15640: 'shahbaz', 15641: 'shahdol', 15642: 'shaheed', 15643: 'shaheenii', 15644: 'shahid', 15645: 'shahidi', 15646: 'shahji', 15647: 'shahpura', 15648: 'shahs', 15649: 'shahzad', 15650: 'shaikh', 15651: 'shailputri', 15652: 'shake', 15653: 'shakeel', 15654: 'shaken', 15655: 'shakespeares', 15656: 'shakib', 15657: 'shaky', 15658: 'shall', 15659: 'shallow', 15660: 'shalon', 15661: 'shalt', 15662: 'shamata', 15663: 'shambles', 15664: 'shame', 15665: 'shamed', 15666: 'shameful', 15667: 'shamelessness', 15668: 'shami', 15669: 'shamim', 15670: 'shampoo', 15671: 'shamsher', 15672: 'shan', 15673: 'shandilya', 15674: 'shandling', 15675: 'shane', 15676: 'shanghai', 15677: 'shanghvi', 15678: 'shankar', 15679: 'shankersinh', 15680: 'shankhaconch', 15681: 'shanmukham', 15682: 'shanno', 15683: 'shanta', 15684: 'shantaram', 15685: 'shantha', 15686: 'shanti', 15687: 'shantigodu', 15688: 'shape', 15689: 'shaped', 15690: 'shapes', 15691: 'shaphan', 15692: 'shaping', 15693: 'sharad', 15694: 'sharat', 15695: 'sharda', 15696: 'shardul', 15697: 'share', 15698: 'shared', 15699: 'shareholders', 15700: 'shares', 15701: 'sharif', 15702: 'sharing', 15703: 'sharjeel', 15704: 'sharjeels', 15705: 'sharma', 15706: 'sharmahardik', 15707: 'sharman', 15708: 'sharmas', 15709: 'sharmasiddheshwar', 15710: 'sharmila', 15711: 'sharmin', 15712: 'sharp', 15713: 'sharpened', 15714: 'sharply', 15715: 'sharpness', 15716: 'shashank', 15717: 'shashi', 15718: 'shasir', 15719: 'shastri', 15720: 'shastris', 15721: 'shatabdi', 15722: 'shatrughan', 15723: 'shattered', 15724: 'shauq', 15725: 'shavsha', 15726: 'shaw', 15727: 'shawls', 15728: 'shazia', 15729: 'shchuchinsk', 15730: 'she', 15731: 'shear', 15732: 'sheath', 15733: 'shebas', 15734: 'shed', 15735: 'sheena', 15736: 'sheep', 15737: 'sheeps', 15738: 'sheer', 15739: 'sheerans', 15740: 'sheet', 15741: 'sheetalpur', 15742: 'sheeter', 15743: 'sheets', 15744: 'shehzad', 15745: 'sheikh', 15746: 'sheila', 15747: 'shekatkar', 15748: 'shekel', 15749: 'shekels', 15750: 'shekhar', 15751: 'shekhars', 15752: 'shelah', 15753: 'shelar', 15754: 'sheldon', 15755: 'shelf', 15756: 'shellfish', 15757: 'shelling', 15758: 'shelter', 15759: 'shelters', 15760: 'sheltkar', 15761: 'shelved', 15762: 'shem', 15763: 'shenzhen', 15764: 'sheol', 15765: 'shepherd', 15766: 'shepherding', 15767: 'shepherds', 15768: 'sherawat', 15769: 'shergill', 15770: 'shes', 15771: 'shetkari', 15772: 'shettar', 15773: 'shetty', 15774: 'shettys', 15775: 'shewale', 15776: 'shewed', 15777: 'shg', 15778: 'shidore', 15779: 'shield', 15780: 'shields', 15781: 'shift', 15782: 'shifted', 15783: 'shifting', 15784: 'shika', 15785: 'shikha', 15786: 'shikhar', 15787: 'shilpa', 15788: 'shimei', 15789: 'shimla', 15790: 'shimron', 15791: 'shinde', 15792: 'shines', 15793: 'shingne', 15794: 'shinzo', 15795: 'ship', 15796: 'shipping', 15797: 'shipra', 15798: 'ships', 15799: 'shirdi', 15800: 'shirish', 15801: 'shiroda', 15802: 'shirodkar', 15803: 'shiromani', 15804: 'shirsaat', 15805: 'shirt', 15806: 'shirts', 15807: 'shirur', 15808: 'shiv', 15809: 'shiva', 15810: 'shivaay', 15811: 'shivacharya', 15812: 'shivaji', 15813: 'shivajilinked', 15814: 'shivajinagar', 15815: 'shivajirao', 15816: 'shivajis', 15817: 'shivakumar', 15818: 'shivam', 15819: 'shivani', 15820: 'shivanna', 15821: 'shivarathri', 15822: 'shivaratri', 15823: 'shivkumar', 15824: 'shivpal', 15825: 'shivraj', 15826: 'shivsena', 15827: 'shizuka', 15828: 'shjavadekar', 15829: 'shloka', 15830: 'shlokas', 15831: 'sho', 15832: 'shoaib', 15833: 'shock', 15834: 'shocked', 15835: 'shocking', 15836: 'shockwaves', 15837: 'shoe', 15838: 'shoes', 15839: 'shoma', 15840: 'shook', 15841: 'shoot', 15842: 'shooter', 15843: 'shooting', 15844: 'shootings', 15845: 'shootout', 15846: 'shop', 15847: 'shopian', 15848: 'shopkeepers', 15849: 'shopping', 15850: 'shops', 15851: 'shore', 15852: 'short', 15853: 'shortage', 15854: 'shortcircuit', 15855: 'shortcomings', 15856: 'shortened', 15857: 'shorter', 15858: 'shortfall', 15859: 'shortlist', 15860: 'shortlived', 15861: 'shortly', 15862: 'shortness', 15863: 'shorts', 15864: 'shortsighted', 15865: 'shot', 15866: 'shots', 15867: 'shotwells', 15868: 'should', 15869: 'shoulder', 15870: 'shoulders', 15871: 'shouldertoshoulder', 15872: 'shouldest', 15873: 'shouldve', 15874: 'shourie', 15875: 'shouted', 15876: 'shouting', 15877: 'shouts', 15878: 'show', 15879: 'showbiz', 15880: 'showcase', 15881: 'showcased', 15882: 'showcause', 15883: 'showed', 15884: 'shower', 15885: 'showered', 15886: 'showering', 15887: 'showers', 15888: 'showik', 15889: 'showing', 15890: 'shown', 15891: 'showrooms', 15892: 'shows', 15893: 'shraddha', 15894: 'shramdan', 15895: 'shreshtha', 15896: 'shrewd', 15897: 'shri', 15898: 'shridhar', 15899: 'shrikant', 15900: 'shrill', 15901: 'shriman', 15902: 'shrimps', 15903: 'shrine', 15904: 'shrinking', 15905: 'shripad', 15906: 'shrivelled', 15907: 'shroff', 15908: 'shrubs', 15909: 'shrug', 15910: 'shrugs', 15911: 'shrunk', 15912: 'shruti', 15913: 'shuang', 15914: 'shubman', 15915: 'shufu', 15916: 'shukla', 15917: 'shulammite', 15918: 'shun', 15919: 'shunned', 15920: 'shunted', 15921: 'shushan', 15922: 'shut', 15923: 'shutdown', 15924: 'shuttler', 15925: 'shuttlers', 15926: 'shweta', 15927: 'shyam', 15928: 'shyamji', 15929: 'si', 15930: 'siachen', 15931: 'sibal', 15932: 'siblings', 15933: 'sick', 15934: 'sickle', 15935: 'sickly', 15936: 'sickness', 15937: 'siddaramaiah', 15938: 'siddharth', 15939: 'siddhartha', 15940: 'siddheshwar', 15941: 'siddhivinayak', 15942: 'siddhumohan', 15943: 'siddiqui', 15944: 'siddiquis', 15945: 'siddle', 15946: 'side', 15947: 'sideeffects', 15948: 'sidelined', 15949: 'sidelines', 15950: 'sides', 15951: 'sidescreens', 15952: 'sideways', 15953: 'sidhant', 15954: 'sidharth', 15955: 'sidhu', 15956: 'sidhus', 15957: 'sidonians', 15958: 'sigh', 15959: 'sight', 15960: 'sign', 15961: 'signalled', 15962: 'signals', 15963: 'signatures', 15964: 'signed', 15965: 'significance', 15966: 'significant', 15967: 'significantly', 15968: 'signifies', 15969: 'signing', 15970: 'signpost', 15971: 'signs', 15972: 'sikandara', 15973: 'sikh', 15974: 'sikhs', 15975: 'sikkim', 15976: 'sikri', 15977: 'silenced', 15978: 'silent', 15979: 'silk', 15980: 'silkworm', 15981: 'silt', 15982: 'silver', 15983: 'sim', 15984: 'simba', 15985: 'similar', 15986: 'similarities', 15987: 'similarly', 15988: 'simmba', 15989: 'simmer', 15990: 'simmers', 15991: 'simmons', 15992: 'simon', 15993: 'simple', 15994: 'simpler', 15995: 'simplicity', 15996: 'simplified', 15997: 'simplify', 15998: 'simply', 15999: 'simulations', 16000: 'simultaneous', 16001: 'simultaneously', 16002: 'sin', 16003: 'sinai', 16004: 'since', 16005: 'sincere', 16006: 'sincerity', 16007: 'sindhu', 16008: 'sindhudurg', 16009: 'sindhus', 16010: 'sindri', 16011: 'sinful', 16012: 'sing', 16013: 'singapore', 16014: 'singaporean', 16015: 'singer', 16016: 'singers', 16017: 'singersongwriter', 16018: 'singh', 16019: 'singha', 16020: 'singhal', 16021: 'singhs', 16022: 'singing', 16023: 'single', 16024: 'singled', 16025: 'singlehandedly', 16026: 'singleness', 16027: 'singles', 16028: 'singleservice', 16029: 'singular', 16030: 'singularly', 16031: 'singur', 16032: 'sinha', 16033: 'sinhala', 16034: 'sinim', 16035: 'sinned', 16036: 'sinner', 16037: 'sins', 16038: 'sio', 16039: 'sioux', 16040: 'sir', 16041: 'sirisena', 16042: 'sirs', 16043: 'sisodia', 16044: 'sistanbalochistan', 16045: 'sister', 16046: 'sisterinlaw', 16047: 'sisters', 16048: 'sit', 16049: 'sita', 16050: 'sitabo', 16051: 'sital', 16052: 'sitaram', 16053: 'site', 16054: 'sites', 16055: 'sitharaman', 16056: 'sitharamans', 16057: 'sits', 16058: 'sitting', 16059: 'situated', 16060: 'situation', 16061: 'situations', 16062: 'siva', 16063: 'sivan', 16064: 'siwach', 16065: 'siwan', 16066: 'six', 16067: 'sixes', 16068: 'sixlane', 16069: 'sixmatch', 16070: 'sixteen', 16071: 'sixth', 16072: 'sixtime', 16073: 'sixtyeight', 16074: 'sixtyfive', 16075: 'sixwicket', 16076: 'size', 16077: 'sizes', 16078: 'sk', 16079: 'skate', 16080: 'skeletal', 16081: 'skeptical', 16082: 'skey', 16083: 'skicross', 16084: 'skidded', 16085: 'skies', 16086: 'skiing', 16087: 'skill', 16088: 'skilled', 16089: 'skillet', 16090: 'skillful', 16091: 'skilling', 16092: 'skills', 16093: 'skim', 16094: 'skin', 16095: 'skinned', 16096: 'skip', 16097: 'skipper', 16098: 'skipping', 16099: 'skirmishes', 16100: 'skirted', 16101: 'skull', 16102: 'sky', 16103: 'skylight', 16104: 'skype', 16105: 'skyrocketed', 16106: 'slabs', 16107: 'slain', 16108: 'slam', 16109: 'slammed', 16110: 'slamming', 16111: 'slams', 16112: 'slap', 16113: 'slapped', 16114: 'slashed', 16115: 'slated', 16116: 'slaughter', 16117: 'slaughtered', 16118: 'slaughtering', 16119: 'slav', 16120: 'slave', 16121: 'slavery', 16122: 'slaves', 16123: 'slavic', 16124: 'slay', 16125: 'slayers', 16126: 'sleep', 16127: 'sleeping', 16128: 'sleeps', 16129: 'slendro', 16130: 'slept', 16131: 'slew', 16132: 'slice', 16133: 'sliced', 16134: 'slices', 16135: 'sliding', 16136: 'slight', 16137: 'slightest', 16138: 'slightly', 16139: 'slights', 16140: 'slim', 16141: 'sling', 16142: 'slinging', 16143: 'slipped', 16144: 'slippery', 16145: 'slits', 16146: 'slitting', 16147: 'slogan', 16148: 'sloganeering', 16149: 'slogans', 16150: 'slogged', 16151: 'slopes', 16152: 'slow', 16153: 'slowdown', 16154: 'slowed', 16155: 'slowly', 16156: 'slugfest', 16157: 'sluggishly', 16158: 'slum', 16159: 'slumped', 16160: 'slums', 16161: 'slur', 16162: 'sm', 16163: 'small', 16164: 'smaller', 16165: 'smallest', 16166: 'smart', 16167: 'smartphone', 16168: 'smartphones', 16169: 'smashed', 16170: 'smashes', 16171: 'smell', 16172: 'smells', 16173: 'smile', 16174: 'smiled', 16175: 'smiling', 16176: 'smita', 16177: 'smith', 16178: 'smiths', 16179: 'smog', 16180: 'smoke', 16181: 'smoking', 16182: 'smooth', 16183: 'smoothie', 16184: 'smoothly', 16185: 'smriti', 16186: 'sms', 16187: 'smses', 16188: 'smt', 16189: 'smtvasundhara', 16190: 'smuggled', 16191: 'smugglers', 16192: 'smuggling', 16193: 'snacks', 16194: 'snakes', 16195: 'snapdeal', 16196: 'snapdragon', 16197: 'snapped', 16198: 'snapper', 16199: 'snapping', 16200: 'snare', 16201: 'snatched', 16202: 'snatching', 16203: 'sneaked', 16204: 'sneezes', 16205: 'sneezing', 16206: 'sniper', 16207: 'snipping', 16208: 'snooker', 16209: 'snoopy', 16210: 'snow', 16211: 'snowballed', 16212: 'snowden', 16213: 'snowfall', 16214: 'snuff', 16215: 'so', 16216: 'soap', 16217: 'soaps', 16218: 'soar', 16219: 'soared', 16220: 'soaring', 16221: 'sobering', 16222: 'soberly', 16223: 'sobers', 16224: 'socalled', 16225: 'soccer', 16226: 'soch', 16227: 'social', 16228: 'sociallyconscientious', 16229: 'societies', 16230: 'society', 16231: 'socio', 16232: 'sociocultural', 16233: 'socioeconomic', 16234: 'sociopolitical', 16235: 'sockets', 16236: 'soda', 16237: 'sodden', 16238: 'soddy', 16239: 'sodium', 16240: 'sodom', 16241: 'sofi', 16242: 'soft', 16243: 'soften', 16244: 'softened', 16245: 'softens', 16246: 'software', 16247: 'sohail', 16248: 'sohanlals', 16249: 'sohrabuddin', 16250: 'soil', 16251: 'soils', 16252: 'sojourneth', 16253: 'sojourning', 16254: 'solan', 16255: 'solanki', 16256: 'solapur', 16257: 'solar', 16258: 'solarpowered', 16259: 'solartype', 16260: 'sold', 16261: 'soldier', 16262: 'soldiers', 16263: 'sole', 16264: 'soleimani', 16265: 'solely', 16266: 'solemn', 16267: 'solemnised', 16268: 'solid', 16269: 'solidarity', 16270: 'solidity', 16271: 'solomon', 16272: 'solunkhe', 16273: 'solutes', 16274: 'solution', 16275: 'solutions', 16276: 'solve', 16277: 'solved', 16278: 'solving', 16279: 'som', 16280: 'somaiya', 16281: 'somaiyas', 16282: 'somalia', 16283: 'somani', 16284: 'somasekhar', 16285: 'some', 16286: 'somebody', 16287: 'somehow', 16288: 'someone', 16289: 'someren', 16290: 'something', 16291: 'sometime', 16292: 'sometimes', 16293: 'somewhat', 16294: 'somewhere', 16295: 'somnath', 16296: 'son', 16297: 'sona', 16298: 'sonakshi', 16299: 'sonalee', 16300: 'sonali', 16301: 'sonam', 16302: 'sonbhadra', 16303: 'sonepat', 16304: 'song', 16305: 'songs', 16306: 'soni', 16307: 'sonia', 16308: 'soninlaw', 16309: 'sonishant', 16310: 'sonkar', 16311: 'sonowal', 16312: 'sons', 16313: 'sonu', 16314: 'sony', 16315: 'sood', 16316: 'soon', 16317: 'sooner', 16318: 'sooraj', 16319: 'sooryavanshi', 16320: 'sophie', 16321: 'sophisticated', 16322: 'sopte', 16323: 'sorabjee', 16324: 'sorbonne', 16325: 'sore', 16326: 'soren', 16327: 'sorrow', 16328: 'sorry', 16329: 'sort', 16330: 'sorted', 16331: 'sorts', 16332: 'sought', 16333: 'soul', 16334: 'souled', 16335: 'soulful', 16336: 'souls', 16337: 'soumitra', 16338: 'sound', 16339: 'sounded', 16340: 'sounds', 16341: 'soup', 16342: 'sourav', 16343: 'source', 16344: 'sources', 16345: 'sourcing', 16346: 'soured', 16347: 'south', 16348: 'southeast', 16349: 'southeastern', 16350: 'southern', 16351: 'southerner', 16352: 'southwest', 16353: 'souza', 16354: 'sovereign', 16355: 'sovereigns', 16356: 'sovereignty', 16357: 'soviet', 16358: 'sow', 16359: 'sowed', 16360: 'sowing', 16361: 'soyabean', 16362: 'sp', 16363: 'space', 16364: 'spacecraft', 16365: 'spaceflight', 16366: 'spaceother', 16367: 'spaces', 16368: 'spacewalk', 16369: 'spacious', 16370: 'spain', 16371: 'spake', 16372: 'span', 16373: 'spanish', 16374: 'spanning', 16375: 'spans', 16376: 'spare', 16377: 'spared', 16378: 'spark', 16379: 'sparked', 16380: 'sparrows', 16381: 'spaser', 16382: 'spat', 16383: 'spbsps', 16384: 'speak', 16385: 'speaker', 16386: 'speakers', 16387: 'speaking', 16388: 'speaks', 16389: 'spear', 16390: 'spearheading', 16391: 'spears', 16392: 'special', 16393: 'specialised', 16394: 'specialist', 16395: 'specialists', 16396: 'specialized', 16397: 'specially', 16398: 'speciallyabled', 16399: 'specialty', 16400: 'species', 16401: 'specific', 16402: 'specifically', 16403: 'specifics', 16404: 'specified', 16405: 'specifies', 16406: 'specify', 16407: 'specifying', 16408: 'specimen', 16409: 'spectacle', 16410: 'spectacular', 16411: 'spectators', 16412: 'spectrum', 16413: 'speculate', 16414: 'speculation', 16415: 'speculations', 16416: 'sped', 16417: 'speech', 16418: 'speeches', 16419: 'speechless', 16420: 'speed', 16421: 'speeded', 16422: 'speededup', 16423: 'speedily', 16424: 'speeding', 16425: 'speeds', 16426: 'speedy', 16427: 'spell', 16428: 'spellbinding', 16429: 'spelled', 16430: 'spelling', 16431: 'spend', 16432: 'spending', 16433: 'spent', 16434: 'spewing', 16435: 'spg', 16436: 'sphere', 16437: 'spice', 16438: 'spicejet', 16439: 'spices', 16440: 'spicy', 16441: 'spied', 16442: 'spielberg', 16443: 'spies', 16444: 'spike', 16445: 'spill', 16446: 'spinner', 16447: 'spinners', 16448: 'spiralled', 16449: 'spirit', 16450: 'spirited', 16451: 'spirits', 16452: 'spiritual', 16453: 'spirituality', 16454: 'spiritually', 16455: 'spit', 16456: 'spite', 16457: 'splashed', 16458: 'splendid', 16459: 'splendor', 16460: 'split', 16461: 'spoil', 16462: 'spoke', 16463: 'spoken', 16464: 'spokesman', 16465: 'spokesperson', 16466: 'spokespersonsr', 16467: 'sponge', 16468: 'sponsored', 16469: 'spoof', 16470: 'spoon', 16471: 'sporadic', 16472: 'spore', 16473: 'sport', 16474: 'sporting', 16475: 'sports', 16476: 'sportsmen', 16477: 'spot', 16478: 'spots', 16479: 'spotted', 16480: 'spotting', 16481: 'spouse', 16482: 'sppu', 16483: 'sprang', 16484: 'sprawling', 16485: 'spread', 16486: 'spreading', 16487: 'spreads', 16488: 'spree', 16489: 'spring', 16490: 'sprinkle', 16491: 'sprout', 16492: 'spurted', 16493: 'spv', 16494: 'spy', 16495: 'spying', 16496: 'sqaaf', 16497: 'squabble', 16498: 'squabbles', 16499: 'squad', 16500: 'squadrons', 16501: 'squads', 16502: 'square', 16503: 'squarely', 16504: 'squares', 16505: 'squat', 16506: 'squatting', 16507: 'squirrels', 16508: 'srcg', 16509: 'sree', 16510: 'sreejesh', 16511: 'srfti', 16512: 'srh', 16513: 'sri', 16514: 'sridevi', 16515: 'sridevis', 16516: 'sridhar', 16517: 'sriharikota', 16518: 'srikanth', 16519: 'srinagar', 16520: 'srinagarjammu', 16521: 'srinidhi', 16522: 'srinivas', 16523: 'srinivasan', 16524: 'sriramulu', 16525: 'srivastva', 16526: 'srk', 16527: 'srpf', 16528: 'sruthi', 16529: 'ss', 16530: 'ssbs', 16531: 'ssc', 16532: 'ssp', 16533: 'st', 16534: 'stab', 16535: 'stabbed', 16536: 'stability', 16537: 'stabilize', 16538: 'stable', 16539: 'stabs', 16540: 'stackhat', 16541: 'stadium', 16542: 'stadiums', 16543: 'staff', 16544: 'staffers', 16545: 'staffs', 16546: 'stage', 16547: 'staged', 16548: 'stages', 16549: 'staging', 16550: 'stagnant', 16551: 'stagnate', 16552: 'stagnated', 16553: 'stake', 16554: 'staked', 16555: 'stakeholder', 16556: 'stakeholders', 16557: 'stakes', 16558: 'stakhov', 16559: 'stalemate', 16560: 'stalin', 16561: 'stalking', 16562: 'stalled', 16563: 'stalling', 16564: 'stamp', 16565: 'stampede', 16566: 'stamps', 16567: 'stance', 16568: 'stand', 16569: 'standard', 16570: 'standardized', 16571: 'standards', 16572: 'standing', 16573: 'standoff', 16574: 'standpoint', 16575: 'stands', 16576: 'standup', 16577: 'stanford', 16578: 'stanikzailed', 16579: 'stanislas', 16580: 'stanzin', 16581: 'star', 16582: 'starc', 16583: 'stared', 16584: 'stari', 16585: 'staring', 16586: 'stark', 16587: 'starpulse', 16588: 'starred', 16589: 'starrer', 16590: 'starring', 16591: 'stars', 16592: 'start', 16593: 'started', 16594: 'starting', 16595: 'startling', 16596: 'starts', 16597: 'startup', 16598: 'startupindia', 16599: 'startups', 16600: 'starvation', 16601: 'starve', 16602: 'starving', 16603: 'state', 16604: 'statecentral', 16605: 'stated', 16606: 'statelevel', 16607: 'statement', 16608: 'statements', 16609: 'stateowned', 16610: 'staterun', 16611: 'states', 16612: 'statess', 16613: 'stating', 16614: 'station', 16615: 'stationed', 16616: 'stationery', 16617: 'stationing', 16618: 'stations', 16619: 'statistical', 16620: 'statistics', 16621: 'statoils', 16622: 'stats', 16623: 'statue', 16624: 'statues', 16625: 'stature', 16626: 'status', 16627: 'statutes', 16628: 'statutory', 16629: 'stay', 16630: 'staycationing', 16631: 'stayed', 16632: 'staying', 16633: 'stays', 16634: 'std', 16635: 'stead', 16636: 'steadfast', 16637: 'steadfastly', 16638: 'steadied', 16639: 'steadily', 16640: 'steady', 16641: 'steal', 16642: 'steam', 16643: 'steamed', 16644: 'stearic', 16645: 'steel', 16646: 'steelers', 16647: 'steep', 16648: 'steeply', 16649: 'steer', 16650: 'steering', 16651: 'steinfeld', 16652: 'stellar', 16653: 'stem', 16654: 'stench', 16655: 'step', 16656: 'stephen', 16657: 'stepped', 16658: 'stepping', 16659: 'steps', 16660: 'sterling', 16661: 'sterlite', 16662: 'stern', 16663: 'sterreich', 16664: 'steve', 16665: 'steven', 16666: 'steward', 16667: 'stick', 16668: 'sticks', 16669: 'stifle', 16670: 'still', 16671: 'stills', 16672: 'stimacs', 16673: 'stimulates', 16674: 'stimulation', 16675: 'sting', 16676: 'stings', 16677: 'stingy', 16678: 'stink', 16679: 'stinking', 16680: 'stint', 16681: 'stipe', 16682: 'stipulated', 16683: 'stir', 16684: 'stirred', 16685: 'stitched', 16686: 'stock', 16687: 'stocks', 16688: 'stoinis', 16689: 'stokes', 16690: 'stole', 16691: 'stolen', 16692: 'stomach', 16693: 'stomachs', 16694: 'stone', 16695: 'stoned', 16696: 'stonepelting', 16697: 'stones', 16698: 'stood', 16699: 'stools', 16700: 'stop', 16701: 'stopover', 16702: 'stoppage', 16703: 'stopped', 16704: 'stopping', 16705: 'stops', 16706: 'storage', 16707: 'store', 16708: 'stored', 16709: 'storehouses', 16710: 'stores', 16711: 'stories', 16712: 'stork', 16713: 'storm', 16714: 'stormed', 16715: 'story', 16716: 'storyline', 16717: 'stout', 16718: 'stove', 16719: 'straight', 16720: 'straightforward', 16721: 'straightway', 16722: 'strain', 16723: 'strained', 16724: 'straits', 16725: 'stranded', 16726: 'strange', 16727: 'stranger', 16728: 'stranglehold', 16729: 'strangles', 16730: 'strategic', 16731: 'strategies', 16732: 'strategize', 16733: 'strategy', 16734: 'straw', 16735: 'stray', 16736: 'streaks', 16737: 'stream', 16738: 'streamed', 16739: 'streaming', 16740: 'streams', 16741: 'street', 16742: 'streets', 16743: 'strength', 16744: 'strengthen', 16745: 'strengthened', 16746: 'strengthening', 16747: 'strengthens', 16748: 'stress', 16749: 'stressed', 16750: 'stressful', 16751: 'stretch', 16752: 'stretched', 16753: 'stretches', 16754: 'stretcheth', 16755: 'strict', 16756: 'strictest', 16757: 'strictly', 16758: 'strides', 16759: 'strife', 16760: 'strike', 16761: 'strikes', 16762: 'string', 16763: 'stringed', 16764: 'stringent', 16765: 'strip', 16766: 'stripped', 16767: 'stripping', 16768: 'strips', 16769: 'strive', 16770: 'striven', 16771: 'strives', 16772: 'stroke', 16773: 'strokes', 16774: 'stroll', 16775: 'strolling', 16776: 'strong', 16777: 'stronger', 16778: 'stronghold', 16779: 'strongholds', 16780: 'strongly', 16781: 'struck', 16782: 'structural', 16783: 'structure', 16784: 'structures', 16785: 'struggle', 16786: 'struggled', 16787: 'struggling', 16788: 'stth', 16789: 'stubble', 16790: 'stuck', 16791: 'studded', 16792: 'student', 16793: 'students', 16794: 'studetns', 16795: 'studied', 16796: 'studies', 16797: 'studio', 16798: 'studios', 16799: 'studs', 16800: 'study', 16801: 'studying', 16802: 'stuff', 16803: 'stumper', 16804: 'stung', 16805: 'stunned', 16806: 'stunner', 16807: 'stunning', 16808: 'stunt', 16809: 'stuntwoman', 16810: 'stupid', 16811: 'stutterheim', 16812: 'style', 16813: 'styles', 16814: 'sub', 16815: 'subash', 16816: 'subcontinent', 16817: 'subdivision', 16818: 'subdued', 16819: 'subhas', 16820: 'subhash', 16821: 'subinspector', 16822: 'subject', 16823: 'subjected', 16824: 'subjects', 16825: 'sublime', 16826: 'submarine', 16827: 'submarinelaunched', 16828: 'submarines', 16829: 'submerged', 16830: 'submission', 16831: 'submissions', 16832: 'submissive', 16833: 'submit', 16834: 'submitted', 16835: 'subnational', 16836: 'subodh', 16837: 'subramanian', 16838: 'subramanium', 16839: 'subscribers', 16840: 'subscription', 16841: 'subsequent', 16842: 'subsequently', 16843: 'subsidiary', 16844: 'subsidy', 16845: 'substance', 16846: 'substances', 16847: 'substantial', 16848: 'substantially', 16849: 'substitute', 16850: 'substitution', 16851: 'substrates', 16852: 'subtitle', 16853: 'subtle', 16854: 'subtreasuries', 16855: 'suburban', 16856: 'suburbs', 16857: 'subversion', 16858: 'succeed', 16859: 'succeeded', 16860: 'succeeds', 16861: 'success', 16862: 'successes', 16863: 'successful', 16864: 'successfully', 16865: 'successive', 16866: 'successor', 16867: 'succumb', 16868: 'succumbed', 16869: 'such', 16870: 'sudarshana', 16871: 'sudden', 16872: 'suddenly', 16873: 'sudeep', 16874: 'sudha', 16875: 'sudhakar', 16876: 'sudheesh', 16877: 'sudhir', 16878: 'sue', 16879: 'sues', 16880: 'suetonius', 16881: 'suffer', 16882: 'suffered', 16883: 'suffering', 16884: 'sufferings', 16885: 'suffers', 16886: 'suffice', 16887: 'sufficient', 16888: 'sufi', 16889: 'sufism', 16890: 'sugamaya', 16891: 'sugar', 16892: 'sugarcane', 16893: 'suggest', 16894: 'suggested', 16895: 'suggesting', 16896: 'suggestion', 16897: 'suggestions', 16898: 'suggests', 16899: 'suhana', 16900: 'suhas', 16901: 'suhrawardy', 16902: 'suicide', 16903: 'suicides', 16904: 'suit', 16905: 'suitable', 16906: 'suitably', 16907: 'suitcases', 16908: 'suite', 16909: 'suited', 16910: 'suits', 16911: 'sujay', 16912: 'sujeet', 16913: 'sujeeth', 16914: 'sukh', 16915: 'sukhu', 16916: 'sukhwinder', 16917: 'sukma', 16918: 'sulaiman', 16919: 'sule', 16920: 'suleimani', 16921: 'sulking', 16922: 'sulochana', 16923: 'sulphur', 16924: 'sultan', 16925: 'sultanpur', 16926: 'sultanpuri', 16927: 'sultry', 16928: 'sum', 16929: 'sumalatha', 16930: 'suman', 16931: 'sumbawa', 16932: 'sumit', 16933: 'sumitomos', 16934: 'sumitra', 16935: 'summarised', 16936: 'summary', 16937: 'summer', 16938: 'summit', 16939: 'summits', 16940: 'summoned', 16941: 'summons', 16942: 'sun', 16943: 'sunanda', 16944: 'sundara', 16945: 'sundaram', 16946: 'sundararajan', 16947: 'sunday', 16948: 'sundays', 16949: 'sunderbani', 16950: 'sunderbans', 16951: 'sundern', 16952: 'sung', 16953: 'suniel', 16954: 'sunil', 16955: 'sunita', 16956: 'sunjuwan', 16957: 'sunlight', 16958: 'sunni', 16959: 'sunny', 16960: 'sunray', 16961: 'sunrisers', 16962: 'sunroof', 16963: 'sunscreen', 16964: 'sunshade', 16965: 'supaul', 16966: 'super', 16967: 'superb', 16968: 'superemergency', 16969: 'superhuman', 16970: 'superintendant', 16971: 'superintendent', 16972: 'superintendentof', 16973: 'superior', 16974: 'supernatural', 16975: 'superstar', 16976: 'superstition', 16977: 'supervise', 16978: 'supervision', 16979: 'supervisor', 16980: 'supervisorcumcoordinator', 16981: 'supervisory', 16982: 'supper', 16983: 'supplications', 16984: 'supplied', 16985: 'supplies', 16986: 'supply', 16987: 'supplying', 16988: 'support', 16989: 'supported', 16990: 'supporters', 16991: 'supporting', 16992: 'supportive', 16993: 'supports', 16994: 'suppose', 16995: 'supposed', 16996: 'supposedly', 16997: 'suppress', 16998: 'suppressed', 16999: 'suppression', 17000: 'supratim', 17001: 'supratimbandyopadhyay', 17002: 'supremacy', 17003: 'supreme', 17004: 'supremo', 17005: 'supriya', 17006: 'supriyo', 17007: 'suraj', 17008: 'suraksha', 17009: 'surat', 17010: 'surcharges', 17011: 'sure', 17012: 'surekha', 17013: 'surely', 17014: 'surender', 17015: 'surendra', 17016: 'surendranagar', 17017: 'suresh', 17018: 'surety', 17019: 'surface', 17020: 'surge', 17021: 'surgeon', 17022: 'surgeons', 17023: 'surgery', 17024: 'surgical', 17025: 'surging', 17026: 'suri', 17027: 'surinder', 17028: 'surjeet', 17029: 'surjewala', 17030: 'surka', 17031: 'surname', 17032: 'surnames', 17033: 'surpassed', 17034: 'surpasses', 17035: 'surpassing', 17036: 'surplus', 17037: 'surprise', 17038: 'surprised', 17039: 'surprises', 17040: 'surprising', 17041: 'surrender', 17042: 'surrendered', 17043: 'surrounded', 17044: 'surrounding', 17045: 'surroundings', 17046: 'surve', 17047: 'surveen', 17048: 'surveillance', 17049: 'survesh', 17050: 'survey', 17051: 'surveyed', 17052: 'surveys', 17053: 'survival', 17054: 'survive', 17055: 'survived', 17056: 'survivor', 17057: 'survivors', 17058: 'surya', 17059: 'suryakumar', 17060: 'susceptible', 17061: 'sushant', 17062: 'sushants', 17063: 'sushil', 17064: 'sushilkumar', 17065: 'sushma', 17066: 'sushmita', 17067: 'suspect', 17068: 'suspected', 17069: 'suspects', 17070: 'suspend', 17071: 'suspended', 17072: 'suspension', 17073: 'suspicion', 17074: 'suspicious', 17075: 'sussanne', 17076: 'sustain', 17077: 'sustainability', 17078: 'sustainable', 17079: 'sustained', 17080: 'sutaria', 17081: 'sutjiadi', 17082: 'suv', 17083: 'suzuki', 17084: 'sv', 17085: 'sveriges', 17086: 'sverre', 17087: 'swaamiyaar', 17088: 'swab', 17089: 'swacch', 17090: 'swachh', 17091: 'swachhta', 17092: 'swadeshi', 17093: 'swain', 17094: 'swallow', 17095: 'swami', 17096: 'swamiji', 17097: 'swaminathan', 17098: 'swamitva', 17099: 'swamy', 17100: 'swamys', 17101: 'swan', 17102: 'swap', 17103: 'swara', 17104: 'swaraj', 17105: 'swarms', 17106: 'swarup', 17107: 'swat', 17108: 'swati', 17109: 'swayamsevak', 17110: 'swearingin', 17111: 'swearinginceremony', 17112: 'sweden', 17113: 'swedes', 17114: 'swedish', 17115: 'sweep', 17116: 'sweeping', 17117: 'sweeps', 17118: 'sweet', 17119: 'swelling', 17120: 'swept', 17121: 'swift', 17122: 'swim', 17123: 'swimmer', 17124: 'swimming', 17125: 'swine', 17126: 'swing', 17127: 'swingby', 17128: 'swings', 17129: 'swir', 17130: 'swiss', 17131: 'swisslike', 17132: 'switch', 17133: 'switzerland', 17134: 'sword', 17135: 'swords', 17136: 'swore', 17137: 'sworn', 17138: 'swornin', 17139: 'swung', 17140: 'sydlik', 17141: 'sydney', 17142: 'syed', 17143: 'syllabus', 17144: 'symbionts', 17145: 'symbol', 17146: 'symbolic', 17147: 'symbolized', 17148: 'symbols', 17149: 'symlinks', 17150: 'sympathy', 17151: 'symptoms', 17152: 'sync', 17153: 'synchronization', 17154: 'syndicate', 17155: 'syndrome', 17156: 'synonymous', 17157: 'syria', 17158: 'syrian', 17159: 'syrians', 17160: 'system', 17161: 'systematically', 17162: 'systems', 17163: 'systemsfor', 17164: 'systemsto', 17165: 'systemwide', 17166: 't', 17167: 'tab', 17168: 'tabernacle', 17169: 'table', 17170: 'tabled', 17171: 'tablespoon', 17172: 'tablespoons', 17173: 'tablighi', 17174: 'tabloid', 17175: 'tabs', 17176: 'tabu', 17177: 'tackle', 17178: 'tackling', 17179: 'tact', 17180: 'tactics', 17181: 'tadoda', 17182: 'tag', 17183: 'tagged', 17184: 'tagging', 17185: 'tagore', 17186: 'tagores', 17187: 'tags', 17188: 'taher', 17189: 'tahir', 17190: 'tahsildar', 17191: 'tai', 17192: 'tail', 17193: 'taimur', 17194: 'taiwan', 17195: 'taj', 17196: 'take', 17197: 'taken', 17198: 'takers', 17199: 'takes', 17200: 'takht', 17201: 'taking', 17202: 'taklamakan', 17203: 'talaq', 17204: 'talent', 17205: 'talented', 17206: 'tales', 17207: 'talib', 17208: 'taliban', 17209: 'talk', 17210: 'talkative', 17211: 'talked', 17212: 'talkin', 17213: 'talking', 17214: 'talks', 17215: 'tall', 17216: 'tallah', 17217: 'tallest', 17218: 'talsania', 17219: 'talsari', 17220: 'taluka', 17221: 'talukas', 17222: 'talukdar', 17223: 'talwar', 17224: 'tambe', 17225: 'tamil', 17226: 'tamils', 17227: 'tamim', 17228: 'tampa', 17229: 'tamper', 17230: 'tana', 17231: 'tanaji', 17232: 'tandem', 17233: 'taniguchi', 17234: 'tank', 17235: 'tanker', 17236: 'tankers', 17237: 'tanks', 17238: 'tanmay', 17239: 'tansa', 17240: 'tantray', 17241: 'tantrik', 17242: 'tanushree', 17243: 'tanwar', 17244: 'tapan', 17245: 'tapes', 17246: 'tapped', 17247: 'tar', 17248: 'tara', 17249: 'taran', 17250: 'tarawneh', 17251: 'tardeo', 17252: 'target', 17253: 'targeted', 17254: 'targeting', 17255: 'targets', 17256: 'tariff', 17257: 'tariffrelated', 17258: 'tariffs', 17259: 'tarkash', 17260: 'tarkashparticipated', 17261: 'tarn', 17262: 'tarry', 17263: 'tarun', 17264: 'task', 17265: 'tasked', 17266: 'tasks', 17267: 'taslima', 17268: 'taste', 17269: 'tasted', 17270: 'tata', 17271: 'tatkare', 17272: 'tattooing', 17273: 'taught', 17274: 'tawang', 17275: 'tawde', 17276: 'tax', 17277: 'taxable', 17278: 'taxation', 17279: 'taxes', 17280: 'taxi', 17281: 'taxpayers', 17282: 'tayfur', 17283: 'taylor', 17284: 'taze', 17285: 'tazeen', 17286: 'tb', 17287: 'tbsps', 17288: 'tcs', 17289: 'tdor', 17290: 'tdp', 17291: 'tds', 17292: 'tea', 17293: 'teach', 17294: 'teacher', 17295: 'teachers', 17296: 'teaches', 17297: 'teaching', 17298: 'teachings', 17299: 'teacoffee', 17300: 'team', 17301: 'teamed', 17302: 'teammates', 17303: 'teams', 17304: 'tear', 17305: 'tearing', 17306: 'tears', 17307: 'teaser', 17308: 'teccity', 17309: 'tech', 17310: 'techie', 17311: 'technical', 17312: 'technicians', 17313: 'technique', 17314: 'techniques', 17315: 'technological', 17316: 'technologies', 17317: 'technology', 17318: 'techsavvy', 17319: 'tectonics', 17320: 'ted', 17321: 'tedros', 17322: 'teen', 17323: 'teenaged', 17324: 'teenager', 17325: 'teenagers', 17326: 'teens', 17327: 'teeth', 17328: 'tegmental', 17329: 'tehelka', 17330: 'teheran', 17331: 'tehreeketaliban', 17332: 'tehri', 17333: 'tehsil', 17334: 'tehsildar', 17335: 'tej', 17336: 'tejas', 17337: 'tejashwi', 17338: 'tejpal', 17339: 'tekoa', 17340: 'telangana', 17341: 'telanganas', 17342: 'telecast', 17343: 'telecasting', 17344: 'telecom', 17345: 'telecommunication', 17346: 'telegraph', 17347: 'telemedicine', 17348: 'telenor', 17349: 'telephone', 17350: 'telephonic', 17351: 'telescope', 17352: 'televised', 17353: 'television', 17354: 'televisiona', 17355: 'tell', 17356: 'telling', 17357: 'tells', 17358: 'teltumde', 17359: 'telugu', 17360: 'temperature', 17361: 'temperatures', 17362: 'tempered', 17363: 'temple', 17364: 'temples', 17365: 'tempo', 17366: 'temporarily', 17367: 'temporary', 17368: 'temptations', 17369: 'tempted', 17370: 'ten', 17371: 'tenants', 17372: 'tend', 17373: 'tendencies', 17374: 'tendency', 17375: 'tender', 17376: 'tenderly', 17377: 'tenderness', 17378: 'tendiwala', 17379: 'tends', 17380: 'tendulkar', 17381: 'tennis', 17382: 'tens', 17383: 'tense', 17384: 'tension', 17385: 'tensions', 17386: 'tent', 17387: 'tenth', 17388: 'tents', 17389: 'tenure', 17390: 'tepid', 17391: 'terah', 17392: 'term', 17393: 'termed', 17394: 'terminal', 17395: 'terminate', 17396: 'terminating', 17397: 'termination', 17398: 'terming', 17399: 'terminology', 17400: 'terminus', 17401: 'terminuses', 17402: 'terms', 17403: 'terrain', 17404: 'terrible', 17405: 'terrified', 17406: 'terrify', 17407: 'territorial', 17408: 'territories', 17409: 'territory', 17410: 'terror', 17411: 'terrorism', 17412: 'terrorist', 17413: 'terrorists', 17414: 'terrorized', 17415: 'tesla', 17416: 'test', 17417: 'tested', 17418: 'testfired', 17419: 'testfires', 17420: 'testify', 17421: 'testimonies', 17422: 'testimonium', 17423: 'testimony', 17424: 'testing', 17425: 'tests', 17426: 'tet', 17427: 'teus', 17428: 'text', 17429: 'textbook', 17430: 'textbooks', 17431: 'textile', 17432: 'textiles', 17433: 'texts', 17434: 'th', 17435: 'thaad', 17436: 'thaawar', 17437: 'thaawarchandgehlot', 17438: 'thackeray', 17439: 'thackerayled', 17440: 'thackerays', 17441: 'thai', 17442: 'thailand', 17443: 'thakar', 17444: 'thakkar', 17445: 'thakre', 17446: 'thakur', 17447: 'thalaivas', 17448: 'than', 17449: 'thane', 17450: 'thangavelu', 17451: 'thanhawla', 17452: 'thanjavur', 17453: 'thank', 17454: 'thanked', 17455: 'thankful', 17456: 'thanks', 17457: 'thanksgiving', 17458: 'thapa', 17459: 'tharoor', 17460: 'tharoors', 17461: 'that', 17462: 'thats', 17463: 'thaugust', 17464: 'thawar', 17465: 'the', 17466: 'theafdbgroup', 17467: 'theatre', 17468: 'theatreorwent', 17469: 'theatres', 17470: 'thee', 17471: 'theexcellent', 17472: 'theft', 17473: 'thefts', 17474: 'thehre', 17475: 'their', 17476: 'theirs', 17477: 'them', 17478: 'theme', 17479: 'themes', 17480: 'themselves', 17481: 'then', 17482: 'thenchief', 17483: 'thendcp', 17484: 'theocratic', 17485: 'theodoor', 17486: 'theoretical', 17487: 'theories', 17488: 'theory', 17489: 'theotokos', 17490: 'theprint', 17491: 'therapy', 17492: 'there', 17493: 'thereafter', 17494: 'thereby', 17495: 'therefore', 17496: 'therein', 17497: 'thereof', 17498: 'thereon', 17499: 'theres', 17500: 'theresa', 17501: 'thereupon', 17502: 'thermal', 17503: 'thermodynamics', 17504: 'these', 17505: 'thesis', 17506: 'thessalonians', 17507: 'thessalonica', 17508: 'thestinkingtruth', 17509: 'thevelein', 17510: 'they', 17511: 'theyd', 17512: 'theyre', 17513: 'theyve', 17514: 'thfive', 17515: 'thick', 17516: 'thierry', 17517: 'thieves', 17518: 'thigh', 17519: 'thimphus', 17520: 'thin', 17521: 'thine', 17522: 'thing', 17523: 'things', 17524: 'think', 17525: 'thinker', 17526: 'thinking', 17527: 'thinks', 17528: 'third', 17529: 'thirdhighest', 17530: 'thirdseeded', 17531: 'thirimannes', 17532: 'thirteen', 17533: 'thirteenth', 17534: 'thirty', 17535: 'thirtyfour', 17536: 'thiruparankunram', 17537: 'thiruvananthapuram', 17538: 'this', 17539: 'thisa', 17540: 'thispay', 17541: 'thologie', 17542: 'thoma', 17543: 'thomas', 17544: 'thomson', 17545: 'thorat', 17546: 'thorough', 17547: 'thoroughly', 17548: 'those', 17549: 'thou', 17550: 'though', 17551: 'thought', 17552: 'thoughtleaders', 17553: 'thoughtprovoking', 17554: 'thoughts', 17555: 'thousand', 17556: 'thousands', 17557: 'thrall', 17558: 'thrashed', 17559: 'thread', 17560: 'threat', 17561: 'threaten', 17562: 'threatened', 17563: 'threatening', 17564: 'threatens', 17565: 'threats', 17566: 'three', 17567: 'threeday', 17568: 'threematch', 17569: 'threemember', 17570: 'threenation', 17571: 'threesome', 17572: 'threewheelers', 17573: 'threeyearold', 17574: 'threshold', 17575: 'threw', 17576: 'thrice', 17577: 'thrilled', 17578: 'thriller', 17579: 'throat', 17580: 'throbs', 17581: 'throne', 17582: 'thrones', 17583: 'throng', 17584: 'thronged', 17585: 'through', 17586: 'throughout', 17587: 'throw', 17588: 'throwback', 17589: 'thrower', 17590: 'throwing', 17591: 'thrown', 17592: 'throws', 17593: 'thrust', 17594: 'thugs', 17595: 'thumb', 17596: 'thumbnailer', 17597: 'thump', 17598: 'thumping', 17599: 'thunder', 17600: 'thunderous', 17601: 'thundershowers', 17602: 'thunderstorms', 17603: 'thuppakki', 17604: 'thursday', 17605: 'thus', 17606: 'thwarts', 17607: 'thy', 17608: 'ti', 17609: 'tibet', 17610: 'tibetan', 17611: 'ticket', 17612: 'tickets', 17613: 'ticking', 17614: 'tidal', 17615: 'tide', 17616: 'tie', 17617: 'tiebreak', 17618: 'tied', 17619: 'tier', 17620: 'ties', 17621: 'tieup', 17622: 'tiger', 17623: 'tigers', 17624: 'tight', 17625: 'tightens', 17626: 'tighter', 17627: 'tightlipped', 17628: 'tightly', 17629: 'tigmanshu', 17630: 'tihar', 17631: 'tiktok', 17632: 'tilak', 17633: 'tilaks', 17634: 'tile', 17635: 'tiles', 17636: 'till', 17637: 'tills', 17638: 'tim', 17639: 'timber', 17640: 'time', 17641: 'timeconsuming', 17642: 'timely', 17643: 'timeout', 17644: 'times', 17645: 'timetable', 17646: 'timing', 17647: 'timings', 17648: 'timor', 17649: 'timothy', 17650: 'timothys', 17651: 'tin', 17652: 'tinkering', 17653: 'tinsel', 17654: 'tiny', 17655: 'tipoff', 17656: 'tipped', 17657: 'tips', 17658: 'tiranga', 17659: 'tirap', 17660: 'tired', 17661: 'tirelessly', 17662: 'tirupur', 17663: 'tis', 17664: 'tissues', 17665: 'titan', 17666: 'titans', 17667: 'tithe', 17668: 'title', 17669: 'titled', 17670: 'titles', 17671: 'titp', 17672: 'tittle', 17673: 'titular', 17674: 'titus', 17675: 'tiwari', 17676: 'tizzy', 17677: 'tmc', 17678: 'tmz', 17679: 'tnns', 17680: 'tnu', 17681: 'to', 17682: 'tobacco', 17683: 'today', 17684: 'todayis', 17685: 'todays', 17686: 'toddler', 17687: 'toes', 17688: 'toft', 17689: 'together', 17690: 'toggle', 17691: 'togo', 17692: 'toi', 17693: 'toil', 17694: 'toilet', 17695: 'toilets', 17696: 'token', 17697: 'tokyo', 17698: 'told', 17699: 'tolerance', 17700: 'tolerate', 17701: 'tolerated', 17702: 'toll', 17703: 'tollywood', 17704: 'tom', 17705: 'tomar', 17706: 'tomarre', 17707: 'tomato', 17708: 'tomatoes', 17709: 'tomb', 17710: 'tombs', 17711: 'tomohiro', 17712: 'tomorrow', 17713: 'tomorrows', 17714: 'toms', 17715: 'tomy', 17716: 'tone', 17717: 'toner', 17718: 'tones', 17719: 'toney', 17720: 'tongue', 17721: 'tonight', 17722: 'toning', 17723: 'tonne', 17724: 'tonnes', 17725: 'tons', 17726: 'tonup', 17727: 'tony', 17728: 'too', 17729: 'took', 17730: 'tool', 17731: 'toolbar', 17732: 'tools', 17733: 'top', 17734: 'tope', 17735: 'topend', 17736: 'topic', 17737: 'topics', 17738: 'topographic', 17739: 'topped', 17740: 'topper', 17741: 'toppers', 17742: 'topple', 17743: 'topranked', 17744: 'topseeded', 17745: 'topune', 17746: 'toqayev', 17747: 'torana', 17748: 'torch', 17749: 'torchbearer', 17750: 'torchbearers', 17751: 'tore', 17752: 'torn', 17753: 'toronto', 17754: 'torrential', 17755: 'tortilla', 17756: 'torture', 17757: 'tortured', 17758: 'toss', 17759: 'tosses', 17760: 'tota', 17761: 'total', 17762: 'totally', 17763: 'totten', 17764: 'tottering', 17765: 'totto', 17766: 'touch', 17767: 'touched', 17768: 'touching', 17769: 'tough', 17770: 'tougher', 17771: 'toughest', 17772: 'tour', 17773: 'touring', 17774: 'tourism', 17775: 'tourist', 17776: 'tourists', 17777: 'tournament', 17778: 'tournaments', 17779: 'tourney', 17780: 'tours', 17781: 'touted', 17782: 'toward', 17783: 'towards', 17784: 'towed', 17785: 'towel', 17786: 'tower', 17787: 'towering', 17788: 'towers', 17789: 'town', 17790: 'towns', 17791: 'townspeople', 17792: 'toxic', 17793: 'toyota', 17794: 'toys', 17795: 'trace', 17796: 'traced', 17797: 'traces', 17798: 'tracing', 17799: 'track', 17800: 'tracked', 17801: 'tracking', 17802: 'tracks', 17803: 'tract', 17804: 'tractor', 17805: 'trade', 17806: 'traded', 17807: 'traders', 17808: 'trading', 17809: 'tradition', 17810: 'traditional', 17811: 'traditionally', 17812: 'traditions', 17813: 'traffic', 17814: 'traffickers', 17815: 'trafford', 17816: 'tragedies', 17817: 'tragedy', 17818: 'tragic', 17819: 'trail', 17820: 'trailer', 17821: 'trailerthemovie', 17822: 'trailing', 17823: 'train', 17824: 'trained', 17825: 'trainees', 17826: 'trainer', 17827: 'trainers', 17828: 'training', 17829: 'trains', 17830: 'traits', 17831: 'trajectory', 17832: 'tral', 17833: 'trample', 17834: 'tranquillity', 17835: 'transaction', 17836: 'transactions', 17837: 'transcending', 17838: 'transfer', 17839: 'transferred', 17840: 'transferring', 17841: 'transfers', 17842: 'transform', 17843: 'transformation', 17844: 'transformative', 17845: 'transformed', 17846: 'transformer', 17847: 'transformers', 17848: 'transfusions', 17849: 'transgender', 17850: 'transgenders', 17851: 'transgress', 17852: 'transgressions', 17853: 'transiranian', 17854: 'transit', 17855: 'transition', 17856: 'translate', 17857: 'translated', 17858: 'translates', 17859: 'translating', 17860: 'translation', 17861: 'translit', 17862: 'transmission', 17863: 'transmit', 17864: 'transmitted', 17865: 'transpacific', 17866: 'transparency', 17867: 'transparent', 17868: 'transpired', 17869: 'transplant', 17870: 'transplants', 17871: 'transport', 17872: 'transportation', 17873: 'transship', 17874: 'transshipment', 17875: 'trap', 17876: 'trapped', 17877: 'trash', 17878: 'trauma', 17879: 'traumatized', 17880: 'travel', 17881: 'traveled', 17882: 'travelers', 17883: 'traveling', 17884: 'travelled', 17885: 'travellers', 17886: 'travelling', 17887: 'travels', 17888: 'tread', 17889: 'treaders', 17890: 'treading', 17891: 'treasure', 17892: 'treasurer', 17893: 'treasures', 17894: 'treasuries', 17895: 'treasury', 17896: 'treat', 17897: 'treated', 17898: 'treating', 17899: 'treatment', 17900: 'treatments', 17901: 'treats', 17902: 'treaty', 17903: 'treble', 17904: 'tree', 17905: 'trees', 17906: 'trek', 17907: 'tremble', 17908: 'tremendous', 17909: 'tremors', 17910: 'trench', 17911: 'trend', 17912: 'trending', 17913: 'trends', 17914: 'trent', 17915: 'trepanation', 17916: 'tress', 17917: 'trial', 17918: 'trials', 17919: 'triangular', 17920: 'tribal', 17921: 'tribals', 17922: 'tribe', 17923: 'tribes', 17924: 'tribulation', 17925: 'tribulations', 17926: 'tribunal', 17927: 'tributaries', 17928: 'tributary', 17929: 'tribute', 17930: 'tributes', 17931: 'trichy', 17932: 'trick', 17933: 'tricky', 17934: 'tried', 17935: 'tries', 17936: 'trigger', 17937: 'triggered', 17938: 'triggering', 17939: 'triggers', 17940: 'trillion', 17941: 'trim', 17942: 'trinamool', 17943: 'trinamul', 17944: 'trinity', 17945: 'trio', 17946: 'trip', 17947: 'tripathi', 17948: 'triple', 17949: 'trips', 17950: 'tripura', 17951: 'triseries', 17952: 'trishulatrident', 17953: 'trivandrum', 17954: 'trng', 17955: 'trolled', 17956: 'trolling', 17957: 'trolls', 17958: 'troop', 17959: 'troops', 17960: 'trophies', 17961: 'trophy', 17962: 'trouble', 17963: 'troubled', 17964: 'troubles', 17965: 'trouser', 17966: 'trousers', 17967: 'trove', 17968: 'trp', 17969: 'trs', 17970: 'truck', 17971: 'trucks', 17972: 'trudeau', 17973: 'true', 17974: 'trueness', 17975: 'truest', 17976: 'truly', 17977: 'truman', 17978: 'trump', 17979: 'trumpet', 17980: 'trumpeted', 17981: 'trumps', 17982: 'trust', 17983: 'trusted', 17984: 'trustees', 17985: 'trusteth', 17986: 'trusting', 17987: 'trusts', 17988: 'truth', 17989: 'truthful', 17990: 'truthfulness', 17991: 'truths', 17992: 'try', 17993: 'trying', 17994: 'ts', 17995: 'tsai', 17996: 'tshirts', 17997: 'tsp', 17998: 'tsunami', 17999: 'ttag', 18000: 'tucson', 18001: 'tuesday', 18002: 'tug', 18003: 'tukiso', 18004: 'tulinj', 18005: 'tulsi', 18006: 'tulu', 18007: 'tulun', 18008: 'tum', 18009: 'tumbling', 18010: 'tumkuru', 18011: 'tunability', 18012: 'tune', 18013: 'tunes', 18014: 'tunnel', 18015: 'tunnels', 18016: 'tur', 18017: 'turbines', 18018: 'turbulance', 18019: 'turbulent', 18020: 'tureens', 18021: 'turf', 18022: 'turkestan', 18023: 'turkey', 18024: 'turkish', 18025: 'turks', 18026: 'turmeric', 18027: 'turmoil', 18028: 'turn', 18029: 'turned', 18030: 'turner', 18031: 'turning', 18032: 'turnout', 18033: 'turnover', 18034: 'turns', 18035: 'turtles', 18036: 'tuskar', 18037: 'tussle', 18038: 'tutoring', 18039: 'tv', 18040: 'tvs', 18041: 'tweet', 18042: 'tweeted', 18043: 'tweeting', 18044: 'tweets', 18045: 'twelfth', 18046: 'twelve', 18047: 'twentieth', 18048: 'twenty', 18049: 'twentyeight', 18050: 'twentyfive', 18051: 'twentyfoot', 18052: 'twice', 18053: 'twill', 18054: 'twin', 18055: 'twinkle', 18056: 'twist', 18057: 'twisted', 18058: 'twitter', 18059: 'twitterati', 18060: 'twn', 18061: 'two', 18062: 'twoandahalf', 18063: 'twobaseball', 18064: 'twomatch', 18065: 'twomember', 18066: 'tworound', 18067: 'twoterm', 18068: 'twotest', 18069: 'twothirds', 18070: 'twotime', 18071: 'twowheeler', 18072: 'twowheelers', 18073: 'twoyear', 18074: 'tyagi', 18075: 'type', 18076: 'types', 18077: 'typical', 18078: 'typically', 18079: 'typing', 18080: 'tyrannical', 18081: 'tyranny', 18082: 'tyre', 18083: 'tzotzil', 18084: 'u', 18085: 'uae', 18086: 'uaesa', 18087: 'uality', 18088: 'uantum', 18089: 'uapa', 18090: 'uarantine', 18091: 'ubi', 18092: 'ubiquitous', 18093: 'uco', 18094: 'udaipur', 18095: 'udan', 18096: 'uday', 18097: 'udayan', 18098: 'udaybhan', 18099: 'uddhav', 18100: 'uddhavjis', 18101: 'uddhavs', 18102: 'udhampur', 18103: 'udid', 18104: 'ug', 18105: 'ugails', 18106: 'ugc', 18107: 'ujjain', 18108: 'ujjwal', 18109: 'ujlaiwadi', 18110: 'uk', 18111: 'ukraine', 18112: 'ukraines', 18113: 'ul', 18114: 'ulhasnagar', 18115: 'ultimate', 18116: 'ultimately', 18117: 'ultraviolet', 18118: 'uma', 18119: 'umaid', 18120: 'umanath', 18121: 'umang', 18122: 'umaria', 18123: 'umbrella', 18124: 'umesh', 18125: 'umpires', 18126: 'un', 18127: 'unable', 18128: 'unacceptable', 18129: 'unaided', 18130: 'unambiguous', 18131: 'unambiguously', 18132: 'unani', 18133: 'unanimous', 18134: 'unanimously', 18135: 'unanswered', 18136: 'unasked', 18137: 'unauthorised', 18138: 'unavailable', 18139: 'unaware', 18140: 'unbeaten', 18141: 'unbelievable', 18142: 'unbelievers', 18143: 'uncertain', 18144: 'unchanging', 18145: 'unchartered', 18146: 'uncle', 18147: 'unclean', 18148: 'uncleanness', 18149: 'unclear', 18150: 'uncles', 18151: 'unclogging', 18152: 'uncontrollable', 18153: 'uncovered', 18154: 'unctad', 18155: 'undead', 18156: 'undeniable', 18157: 'undeniably', 18158: 'under', 18159: 'underdogs', 18160: 'underestimate', 18161: 'underestimating', 18162: 'undergoing', 18163: 'undergone', 18164: 'undergor', 18165: 'undergraduate', 18166: 'undergraduates', 18167: 'underground', 18168: 'underline', 18169: 'underlined', 18170: 'undermined', 18171: 'underpass', 18172: 'underprivileged', 18173: 'underscored', 18174: 'underscoring', 18175: 'underserved', 18176: 'understand', 18177: 'understandable', 18178: 'understandably', 18179: 'understanding', 18180: 'understandings', 18181: 'understands', 18182: 'understood', 18183: 'undertake', 18184: 'undertaken', 18185: 'undertaking', 18186: 'undertakings', 18187: 'undertone', 18188: 'undertook', 18189: 'underwater', 18190: 'underway', 18191: 'underwear', 18192: 'underwent', 18193: 'undescribed', 18194: 'undeserved', 18195: 'undeterred', 18196: 'undone', 18197: 'undoubtedly', 18198: 'unduly', 18199: 'unearthed', 18200: 'uneducated', 18201: 'unemployed', 18202: 'unemployment', 18203: 'unencrypted', 18204: 'unequivocally', 18205: 'unesco', 18206: 'unexpected', 18207: 'unexpectedly', 18208: 'unfairly', 18209: 'unfazed', 18210: 'unfold', 18211: 'unfolding', 18212: 'unforgettable', 18213: 'unfortunate', 18214: 'unfortunately', 18215: 'unfurled', 18216: 'ungcp', 18217: 'ungodliness', 18218: 'ungodly', 18219: 'unhappiness', 18220: 'unhappy', 18221: 'unhealthy', 18222: 'unholy', 18223: 'unhurt', 18224: 'unhypocritical', 18225: 'unidentified', 18226: 'unified', 18227: 'uniform', 18228: 'uniformity', 18229: 'uniforms', 18230: 'unifying', 18231: 'unilever', 18232: 'uninhabited', 18233: 'uninsured', 18234: 'unintelligent', 18235: 'uninterrupted', 18236: 'uninvited', 18237: 'union', 18238: 'unions', 18239: 'unique', 18240: 'unit', 18241: 'unite', 18242: 'unitecis', 18243: 'united', 18244: 'uniting', 18245: 'units', 18246: 'unity', 18247: 'universal', 18248: 'universally', 18249: 'universe', 18250: 'universities', 18251: 'university', 18252: 'universitys', 18253: 'universitystate', 18254: 'unjust', 18255: 'unkindly', 18256: 'unknowable', 18257: 'unknown', 18258: 'unlawful', 18259: 'unleash', 18260: 'unleashes', 18261: 'unleashing', 18262: 'unleavened', 18263: 'unless', 18264: 'unlike', 18265: 'unlikely', 18266: 'unlimited', 18267: 'unlock', 18268: 'unmanned', 18269: 'unmatched', 18270: 'unmesh', 18271: 'unnao', 18272: 'unnatural', 18273: 'unnecessary', 18274: 'unnoticed', 18275: 'uno', 18276: 'unofficial', 18277: 'unopposed', 18278: 'unpaid', 18279: 'unparalleled', 18280: 'unpardonable', 18281: 'unpleasant', 18282: 'unpopular', 18283: 'unprecedented', 18284: 'unpredictable', 18285: 'unprovoked', 18286: 'unquestionable', 18287: 'unquestionably', 18288: 'unranked', 18289: 'unreached', 18290: 'unrelated', 18291: 'unremitting', 18292: 'unrepentant', 18293: 'unresolved', 18294: 'unrest', 18295: 'unrighteous', 18296: 'unrighteousness', 18297: 'unripe', 18298: 'unsafe', 18299: 'unsaved', 18300: 'unsc', 18301: 'unseasonal', 18302: 'unseen', 18303: 'unselfish', 18304: 'unserved', 18305: 'unset', 18306: 'unsilencing', 18307: 'unskilled', 18308: 'unspeltout', 18309: 'unstoppable', 18310: 'unthankful', 18311: 'until', 18312: 'untitled', 18313: 'unto', 18314: 'untold', 18315: 'untouchability', 18316: 'untouchable', 18317: 'untouched', 18318: 'untoward', 18319: 'untreated', 18320: 'untrue', 18321: 'unuseful', 18322: 'unusual', 18323: 'unusually', 18324: 'unveiled', 18325: 'unveils', 18326: 'unwell', 18327: 'unwise', 18328: 'unwisely', 18329: 'unwittingly', 18330: 'up', 18331: 'upa', 18332: 'upadhyay', 18333: 'upbuilding', 18334: 'upcoming', 18335: 'update', 18336: 'updated', 18337: 'upgradation', 18338: 'upgrade', 18339: 'upheaval', 18340: 'upheld', 18341: 'uphold', 18342: 'upholding', 18343: 'upi', 18344: 'upkar', 18345: 'uplinks', 18346: 'uploaded', 18347: 'uploading', 18348: 'upon', 18349: 'upped', 18350: 'upper', 18351: 'upright', 18352: 'uprising', 18353: 'uproar', 18354: 'uprooted', 18355: 'uprooting', 18356: 'upsc', 18357: 'upset', 18358: 'upside', 18359: 'upsidedown', 18360: 'upskilled', 18361: 'upstreamists', 18362: 'upswing', 18363: 'upto', 18364: 'upward', 18365: 'upwardbackward', 18366: 'ur', 18367: 'uran', 18368: 'urban', 18369: 'urbanisation', 18370: 'urbanizing', 18371: 'urdu', 18372: 'urge', 18373: 'urged', 18374: 'urgent', 18375: 'urgently', 18376: 'urges', 18377: 'urging', 18378: 'uri', 18379: 'uriah', 18380: 'urine', 18381: 'urjit', 18382: 'url', 18383: 'urmila', 18384: 'uroski', 18385: 'urvarak', 18386: 'urvashi', 18387: 'urvi', 18388: 'us', 18389: 'usa', 18390: 'usage', 18391: 'usb', 18392: 'usbased', 18393: 'usbmuxd', 18394: 'uschina', 18395: 'usd', 18396: 'use', 18397: 'used', 18398: 'useful', 18399: 'user', 18400: 'usergenerated', 18401: 'username', 18402: 'users', 18403: 'uses', 18404: 'usgs', 18405: 'usha', 18406: 'using', 18407: 'usman', 18408: 'usmt', 18409: 'usual', 18410: 'usually', 18411: 'ut', 18412: 'utah', 18413: 'uterus', 18414: 'uthai', 18415: 'uti', 18416: 'utilised', 18417: 'utilities', 18418: 'utility', 18419: 'utilize', 18420: 'utmost', 18421: 'uts', 18422: 'utsav', 18423: 'uttam', 18424: 'uttamrao', 18425: 'uttar', 18426: 'uttarakhand', 18427: 'utter', 18428: 'utterance', 18429: 'utterly', 18430: 'uturn', 18431: 'utzons', 18432: 'uv', 18433: 'uva', 18434: 'uzziah', 18435: 'v', 18436: 'vaani', 18437: 'vacancies', 18438: 'vacancy', 18439: 'vacant', 18440: 'vacated', 18441: 'vacation', 18442: 'vacationing', 18443: 'vaccination', 18444: 'vaccinations', 18445: 'vaccine', 18446: 'vaccines', 18447: 'vaccinesto', 18448: 'vacuum', 18449: 'vadgaon', 18450: 'vadodara', 18451: 'vadra', 18452: 'vaghela', 18453: 'vaginal', 18454: 'vaibhav', 18455: 'vaijapur', 18456: 'vaikar', 18457: 'vaiko', 18458: 'vain', 18459: 'vairatgad', 18460: 'vaishali', 18461: 'vaitarna', 18462: 'vajpayee', 18463: 'valencia', 18464: 'valentines', 18465: 'valid', 18466: 'validity', 18467: 'vallabh', 18468: 'vallabhbhai', 18469: 'vallarpadam', 18470: 'valley', 18471: 'valleys', 18472: 'valmikis', 18473: 'valour', 18474: 'valparaiso', 18475: 'valuable', 18476: 'valuables', 18477: 'valuation', 18478: 'value', 18479: 'valued', 18480: 'values', 18481: 'valuewhile', 18482: 'van', 18483: 'vanchit', 18484: 'vandalised', 18485: 'vandana', 18486: 'vande', 18487: 'vanga', 18488: 'vangas', 18489: 'vanish', 18490: 'vanished', 18491: 'vans', 18492: 'vanzara', 18493: 'vapors', 18494: 'vara', 18495: 'varadhan', 18496: 'varanasi', 18497: 'varavara', 18498: 'vardhan', 18499: 'vardhanthi', 18500: 'variable', 18501: 'variant', 18502: 'variants', 18503: 'variation', 18504: 'varied', 18505: 'varieties', 18506: 'variety', 18507: 'varinder', 18508: 'various', 18509: 'varma', 18510: 'varmas', 18511: 'varsha', 18512: 'varthaman', 18513: 'varun', 18514: 'varuna', 18515: 'vary', 18516: 'vasai', 18517: 'vasant', 18518: 'vasanthan', 18519: 'vasco', 18520: 'vast', 18521: 'vastly', 18522: 'vastness', 18523: 'vastu', 18524: 'vasudhaiva', 18525: 'vasudhara', 18526: 'vasundhara', 18527: 'vaswani', 18528: 'vat', 18529: 'vatican', 18530: 'vaughan', 18531: 'vaughn', 18532: 'vault', 18533: 'vayu', 18534: 'vba', 18535: 'vc', 18536: 'vck', 18537: 'vcs', 18538: 'vd', 18539: 'vechulou', 18540: 'vedanta', 18541: 'vedas', 18542: 'vedavyas', 18543: 'vedic', 18544: 'veedhi', 18545: 'veena', 18546: 'veer', 18547: 'veerappan', 18548: 'veeru', 18549: 'vegas', 18550: 'vegetable', 18551: 'vegetables', 18552: 'vegetarian', 18553: 'vegetation', 18554: 'vehement', 18555: 'vehemently', 18556: 'vehicle', 18557: 'vehicles', 18558: 'veil', 18559: 'vel', 18560: 'velde', 18561: 'vellore', 18562: 'vemuri', 18563: 'venerable', 18564: 'venezuela', 18565: 'vengeance', 18566: 'venkaiah', 18567: 'venkataraman', 18568: 'venkatesan', 18569: 'venkateswara', 18570: 'venkatraghavan', 18571: 'vennam', 18572: 'venom', 18573: 'ventilated', 18574: 'ventilator', 18575: 'ventral', 18576: 'venture', 18577: 'ventured', 18578: 'ventures', 18579: 'venu', 18580: 'venue', 18581: 'venues', 18582: 'verdict', 18583: 'verge', 18584: 'vergenza', 18585: 'verification', 18586: 'verify', 18587: 'verifying', 18588: 'verily', 18589: 'verlag', 18590: 'verma', 18591: 'verna', 18592: 'vernon', 18593: 'veronica', 18594: 'versed', 18595: 'verses', 18596: 'version', 18597: 'versus', 18598: 'vertical', 18599: 'vertically', 18600: 'very', 18601: 'vessel', 18602: 'vested', 18603: 'veteran', 18604: 'veterans', 18605: 'vexation', 18606: 'vg', 18607: 'vi', 18608: 'via', 18609: 'viaan', 18610: 'vibhushan', 18611: 'vibku', 18612: 'vibrant', 18613: 'vicar', 18614: 'vice', 18615: 'vicechairman', 18616: 'vicechancellor', 18617: 'vicepresident', 18618: 'viceversa', 18619: 'vicinity', 18620: 'vicious', 18621: 'vicky', 18622: 'victim', 18623: 'victims', 18624: 'victoria', 18625: 'victorias', 18626: 'victories', 18627: 'victorious', 18628: 'victory', 18629: 'vidarbha', 18630: 'video', 18631: 'videocon', 18632: 'videoconferencing', 18633: 'videolink', 18634: 'videorecorded', 18635: 'videos', 18636: 'vidhan', 18637: 'vidit', 18638: 'vidya', 18639: 'vidyalaya', 18640: 'vidyalayas', 18641: 'vidyapeeth', 18642: 'vidyarthi', 18643: 'vidyasagar', 18644: 'vidyavihar', 18645: 'vie', 18646: 'vienna', 18647: 'vietnam', 18648: 'vietnams', 18649: 'view', 18650: 'viewed', 18651: 'viewer', 18652: 'viewers', 18653: 'viewing', 18654: 'views', 18655: 'vigil', 18656: 'vigilance', 18657: 'vigilant', 18658: 'vigilante', 18659: 'vigilantes', 18660: 'vigorous', 18661: 'vigyan', 18662: 'vihaan', 18663: 'vihar', 18664: 'viii', 18665: 'vijai', 18666: 'vijay', 18667: 'vijaya', 18668: 'vijayan', 18669: 'vijayapura', 18670: 'vijayawada', 18671: 'vijaydurg', 18672: 'vijays', 18673: 'vijayvargiya', 18674: 'vijender', 18675: 'vijila', 18676: 'vikas', 18677: 'vikhe', 18678: 'vikhepatil', 18679: 'vikram', 18680: 'vilas', 18681: 'vilatra', 18682: 'vileparle', 18683: 'village', 18684: 'villagers', 18685: 'villages', 18686: 'villain', 18687: 'villains', 18688: 'villiers', 18689: 'vilwamangalam', 18690: 'vinay', 18691: 'vinayak', 18692: 'vinden', 18693: 'vindhyachal', 18694: 'vindicate', 18695: 'vindicated', 18696: 'vindication', 18697: 'vindictive', 18698: 'vine', 18699: 'vineet', 18700: 'vinesh', 18701: 'vineyard', 18702: 'vineyards', 18703: 'vinita', 18704: 'vinod', 18705: 'vinta', 18706: 'vintage', 18707: 'violate', 18708: 'violated', 18709: 'violates', 18710: 'violating', 18711: 'violation', 18712: 'violations', 18713: 'violators', 18714: 'violence', 18715: 'violent', 18716: 'vip', 18717: 'vir', 18718: 'viral', 18719: 'virar', 18720: 'virat', 18721: 'virats', 18722: 'virbhadra', 18723: 'virender', 18724: 'virendra', 18725: 'virgin', 18726: 'virginia', 18727: 'virginity', 18728: 'virglio', 18729: 'virgo', 18730: 'virology', 18731: 'virpur', 18732: 'virtual', 18733: 'virtually', 18734: 'virtue', 18735: 'virtuous', 18736: 'virus', 18737: 'viruses', 18738: 'visa', 18739: 'visakhapatnam', 18740: 'vishakha', 18741: 'vishal', 18742: 'vishant', 18743: 'vishnu', 18744: 'vishwanath', 18745: 'vishwas', 18746: 'visibility', 18747: 'visible', 18748: 'vision', 18749: 'visions', 18750: 'visit', 18751: 'visited', 18752: 'visiting', 18753: 'visitors', 18754: 'visits', 18755: 'visual', 18756: 'visualize', 18757: 'visually', 18758: 'visuals', 18759: 'visvesvaraya', 18760: 'vital', 18761: 'vitally', 18762: 'vitamin', 18763: 'vitamins', 18764: 'vitiugov', 18765: 'vivek', 18766: 'vivekanands', 18767: 'vividly', 18768: 'vivos', 18769: 'viz', 18770: 'vizagapatam', 18771: 'vkf', 18772: 'vladikavkaz', 18773: 'vladimir', 18774: 'vm', 18775: 'vn', 18776: 'vocal', 18777: 'vocalist', 18778: 'vocational', 18779: 'vodafone', 18780: 'vogue', 18781: 'voice', 18782: 'voiceless', 18783: 'voices', 18784: 'voicing', 18785: 'volatile', 18786: 'volt', 18787: 'voltage', 18788: 'volume', 18789: 'volumes', 18790: 'voluntary', 18791: 'volunteer', 18792: 'volunteers', 18793: 'voluptuous', 18794: 'vomiting', 18795: 'voodoo', 18796: 'vorkommando', 18797: 'vote', 18798: 'votebank', 18799: 'voted', 18800: 'voter', 18801: 'voters', 18802: 'votes', 18803: 'voting', 18804: 'voucher', 18805: 'vow', 18806: 'vowed', 18807: 'vows', 18808: 'voyage', 18809: 'vp', 18810: 'vpn', 18811: 'vr', 18812: 'vrinda', 18813: 'vrs', 18814: 'vs', 18815: 'vsat', 18816: 'vulgarity', 18817: 'vulnerable', 18818: 'vuyyalavada', 18819: 'vv', 18820: 'vvgnli', 18821: 'vvip', 18822: 'vvs', 18823: 'vyapar', 18824: 'vying', 18825: 'w', 18826: 'wadala', 18827: 'wadettiwar', 18828: 'wadia', 18829: 'wafer', 18830: 'wag', 18831: 'wagah', 18832: 'wage', 18833: 'wages', 18834: 'waghmare', 18835: 'waghmore', 18836: 'waging', 18837: 'wagonr', 18838: 'wai', 18839: 'wailing', 18840: 'waist', 18841: 'wait', 18842: 'waited', 18843: 'waiter', 18844: 'waiting', 18845: 'waitresses', 18846: 'waituntilrespondwith', 18847: 'waive', 18848: 'waived', 18849: 'waiver', 18850: 'waiving', 18851: 'wajahat', 18852: 'wajid', 18853: 'wake', 18854: 'wakefulness', 18855: 'waking', 18856: 'walk', 18857: 'walked', 18858: 'walking', 18859: 'walkout', 18860: 'walks', 18861: 'wall', 18862: 'wallet', 18863: 'walls', 18864: 'walnuts', 18865: 'walse', 18866: 'walsepatil', 18867: 'walsh', 18868: 'wanaga', 18869: 'wanderlust', 18870: 'wandoor', 18871: 'wandsworth', 18872: 'wang', 18873: 'wanga', 18874: 'wani', 18875: 'waning', 18876: 'wankhede', 18877: 'wanpoh', 18878: 'want', 18879: 'wanted', 18880: 'wants', 18881: 'waqf', 18882: 'war', 18883: 'warbased', 18884: 'ward', 18885: 'wardha', 18886: 'wards', 18887: 'warehouse', 18888: 'warfare', 18889: 'warfooting', 18890: 'warheads', 18891: 'warina', 18892: 'warm', 18893: 'warmest', 18894: 'warming', 18895: 'warmth', 18896: 'warned', 18897: 'warner', 18898: 'warning', 18899: 'warora', 18900: 'warp', 18901: 'warrant', 18902: 'warriors', 18903: 'wars', 18904: 'was', 18905: 'wash', 18906: 'washed', 18907: 'washing', 18908: 'washington', 18909: 'wasnt', 18910: 'wast', 18911: 'waste', 18912: 'wasted', 18913: 'wastewater', 18914: 'wasting', 18915: 'watch', 18916: 'watched', 18917: 'watching', 18918: 'watchman', 18919: 'watchtower', 18920: 'water', 18921: 'waterflow', 18922: 'waterlogged', 18923: 'waterlogging', 18924: 'waterproof', 18925: 'waterproofing', 18926: 'waters', 18927: 'waterway', 18928: 'waterways', 18929: 'watson', 18930: 'wauters', 18931: 'wave', 18932: 'waved', 18933: 'waves', 18934: 'waving', 18935: 'wawrinka', 18936: 'way', 18937: 'wayanad', 18938: 'ways', 18939: 'wayward', 18940: 'wazir', 18941: 'wbidfc', 18942: 'we', 18943: 'weak', 18944: 'weakened', 18945: 'weaker', 18946: 'weakest', 18947: 'weakness', 18948: 'weaknesses', 18949: 'wealth', 18950: 'wealthy', 18951: 'weapon', 18952: 'weapons', 18953: 'wear', 18954: 'wearing', 18955: 'wears', 18956: 'weather', 18957: 'weatherman', 18958: 'weavers', 18959: 'weaving', 18960: 'web', 18961: 'webb', 18962: 'webinar', 18963: 'webinars', 18964: 'website', 18965: 'websites', 18966: 'wedding', 18967: 'wedmegood', 18968: 'wednesday', 18969: 'wednesdays', 18970: 'wee', 18971: 'weed', 18972: 'weeding', 18973: 'weeds', 18974: 'week', 18975: 'weekend', 18976: 'weekenders', 18977: 'weekends', 18978: 'weeklong', 18979: 'weekly', 18980: 'weeks', 18981: 'weeping', 18982: 'weigh', 18983: 'weighed', 18984: 'weighing', 18985: 'weight', 18986: 'weightbearing', 18987: 'weights', 18988: 'weighty', 18989: 'weil', 18990: 'weimar', 18991: 'welankar', 18992: 'welcome', 18993: 'welcomed', 18994: 'welcomes', 18995: 'welcoming', 18996: 'welfare', 18997: 'well', 18998: 'wellbeing', 18999: 'welldeserved', 19000: 'welled', 19001: 'wellestablished', 19002: 'wellknown', 19003: 'wellloved', 19004: 'wellness', 19005: 'wellplanned', 19006: 'wells', 19007: 'wen', 19008: 'went', 19009: 'wenya', 19010: 'wept', 19011: 'were', 19012: 'werent', 19013: 'west', 19014: 'western', 19015: 'wests', 19016: 'westward', 19017: 'wet', 19018: 'weve', 19019: 'wfi', 19020: 'whales', 19021: 'what', 19022: 'whatddya', 19023: 'whatever', 19024: 'whats', 19025: 'whatsapp', 19026: 'whatsoever', 19027: 'wheat', 19028: 'wheel', 19029: 'wheelchair', 19030: 'wheels', 19031: 'wheezing', 19032: 'when', 19033: 'whence', 19034: 'whenever', 19035: 'where', 19036: 'whereas', 19037: 'wherefore', 19038: 'wherein', 19039: 'whereof', 19040: 'wheres', 19041: 'whereunto', 19042: 'wherever', 19043: 'whether', 19044: 'which', 19045: 'whichever', 19046: 'whiff', 19047: 'while', 19048: 'whims', 19049: 'whimsy', 19050: 'whisked', 19051: 'whispered', 19052: 'whist', 19053: 'whistleblower', 19054: 'whistling', 19055: 'white', 19056: 'whither', 19057: 'who', 19058: 'whoever', 19059: 'whole', 19060: 'wholesale', 19061: 'wholesome', 19062: 'wholl', 19063: 'whom', 19064: 'whopping', 19065: 'whos', 19066: 'whose', 19067: 'whoso', 19068: 'whosoever', 19069: 'why', 19070: 'wi', 19071: 'wicked', 19072: 'wickedness', 19073: 'wicket', 19074: 'wicketkeeper', 19075: 'wicketkeeperbatsman', 19076: 'wicketkeepers', 19077: 'wickets', 19078: 'wide', 19079: 'widely', 19080: 'widen', 19081: 'widened', 19082: 'wideranging', 19083: 'widespread', 19084: 'widget', 19085: 'widow', 19086: 'width', 19087: 'wiegman', 19088: 'wield', 19089: 'wife', 19090: 'wifes', 19091: 'wifi', 19092: 'wild', 19093: 'wilderness', 19094: 'wildlife', 19095: 'wilfully', 19096: 'will', 19097: 'willett', 19098: 'william', 19099: 'williams', 19100: 'williamson', 19101: 'williamsons', 19102: 'willie', 19103: 'willing', 19104: 'willingly', 19105: 'willingness', 19106: 'willington', 19107: 'wilson', 19108: 'wilt', 19109: 'wimbledon', 19110: 'win', 19111: 'winch', 19112: 'wind', 19113: 'windies', 19114: 'windmill', 19115: 'window', 19116: 'windowpanes', 19117: 'windows', 19118: 'winds', 19119: 'windstorm', 19120: 'windy', 19121: 'wine', 19122: 'wines', 19123: 'wing', 19124: 'winget', 19125: 'wings', 19126: 'winkels', 19127: 'winner', 19128: 'winners', 19129: 'winning', 19130: 'wins', 19131: 'winter', 19132: 'wintering', 19133: 'winters', 19134: 'winwin', 19135: 'wiped', 19136: 'wipers', 19137: 'wipro', 19138: 'wire', 19139: 'wireless', 19140: 'wires', 19141: 'wisden', 19142: 'wisdom', 19143: 'wise', 19144: 'wisely', 19145: 'wiser', 19146: 'wish', 19147: 'wished', 19148: 'wishes', 19149: 'wishing', 19150: 'wisting', 19151: 'witches', 19152: 'with', 19153: 'withdraw', 19154: 'withdrawal', 19155: 'withdrawing', 19156: 'withdrawn', 19157: 'withdrew', 19158: 'wither', 19159: 'withering', 19160: 'within', 19161: 'without', 19162: 'witness', 19163: 'witnessed', 19164: 'witnesses', 19165: 'witnessing', 19166: 'wittenberg', 19167: 'wives', 19168: 'wizards', 19169: 'wk', 19170: 'woe', 19171: 'woes', 19172: 'wojciech', 19173: 'woke', 19174: 'woken', 19175: 'wolves', 19176: 'woman', 19177: 'womanhood', 19178: 'womaniser', 19179: 'womans', 19180: 'womb', 19181: 'women', 19182: 'womens', 19183: 'won', 19184: 'wonder', 19185: 'wondered', 19186: 'wonderful', 19187: 'wondering', 19188: 'wonders', 19189: 'wont', 19190: 'woo', 19191: 'wood', 19192: 'woodblocks', 19193: 'wooded', 19194: 'woodland', 19195: 'woods', 19196: 'woof', 19197: 'woolcock', 19198: 'word', 19199: 'worded', 19200: 'words', 19201: 'wore', 19202: 'work', 19203: 'worked', 19204: 'worker', 19205: 'workers', 19206: 'workforce', 19207: 'working', 19208: 'workingclass', 19209: 'workplace', 19210: 'works', 19211: 'worksheet', 19212: 'workshop', 19213: 'workshops', 19214: 'world', 19215: 'worldly', 19216: 'worlds', 19217: 'worldwide', 19218: 'worli', 19219: 'worm', 19220: 'worn', 19221: 'worried', 19222: 'worries', 19223: 'worry', 19224: 'worrying', 19225: 'worse', 19226: 'worsen', 19227: 'worsened', 19228: 'worsening', 19229: 'worship', 19230: 'worshiped', 19231: 'worshiper', 19232: 'worshipers', 19233: 'worshipped', 19234: 'worshippers', 19235: 'worships', 19236: 'worst', 19237: 'worth', 19238: 'worthless', 19239: 'worthwhile', 19240: 'worthy', 19241: 'would', 19242: 'wouldnt', 19243: 'wouldve', 19244: 'wound', 19245: 'wounded', 19246: 'wounds', 19247: 'wpi', 19248: 'wr', 19249: 'wrangles', 19250: 'wrap', 19251: 'wrapped', 19252: 'wrath', 19253: 'wreaked', 19254: 'wreaths', 19255: 'wreck', 19256: 'wreckage', 19257: 'wrest', 19258: 'wrested', 19259: 'wrestle', 19260: 'wrestler', 19261: 'wrestlers', 19262: 'wrestling', 19263: 'wretched', 19264: 'wright', 19265: 'wrinkles', 19266: 'wrists', 19267: 'writable', 19268: 'write', 19269: 'writer', 19270: 'writers', 19271: 'writes', 19272: 'writing', 19273: 'writings', 19274: 'written', 19275: 'wrong', 19276: 'wrongdoers', 19277: 'wrongdoing', 19278: 'wrote', 19279: 'wrought', 19280: 'wuhan', 19281: 'wutang', 19282: 'wvm', 19283: 'wwe', 19284: 'wwwdgcagovin', 19285: 'wwwincometaxindiagovin', 19286: 'wwwirctctourismcom', 19287: 'x', 19288: 'xander', 19289: 'xaviers', 19290: 'xi', 19291: 'xiaomi', 19292: 'xiaomis', 19293: 'xiv', 19294: 'xmetre', 19295: 'xrtt', 19296: 'xuerei', 19297: 'xxx', 19298: 'y', 19299: 'ya', 19300: 'yadav', 19301: 'yadavs', 19302: 'yahweh', 19303: 'yajnavalkya', 19304: 'yaks', 19305: 'yam', 19306: 'yami', 19307: 'yang', 19308: 'yards', 19309: 'yaris', 19310: 'yarn', 19311: 'yarrow', 19312: 'yash', 19313: 'yashomati', 19314: 'yashwant', 19315: 'yasmin', 19316: 'yatra', 19317: 'yavatmal', 19318: 'yc', 19319: 'ye', 19320: 'yeah', 19321: 'year', 19322: 'yearbook', 19323: 'yearend', 19324: 'yearly', 19325: 'yearn', 19326: 'yearold', 19327: 'yearolds', 19328: 'years', 19329: 'yearshovering', 19330: 'yearsold', 19331: 'yechury', 19332: 'yeddyurappa', 19333: 'yediyurappa', 19334: 'yeh', 19335: 'yelikar', 19336: 'yelled', 19337: 'yellow', 19338: 'yemen', 19339: 'yen', 19340: 'yerwada', 19341: 'yes', 19342: 'yesno', 19343: 'yesterday', 19344: 'yesterdays', 19345: 'yesteryear', 19346: 'yet', 19347: 'yevla', 19348: 'yi', 19349: 'yield', 19350: 'yielded', 19351: 'yields', 19352: 'yin', 19353: 'yoga', 19354: 'yogendra', 19355: 'yogesh', 19356: 'yogeshwar', 19357: 'yogi', 19358: 'yohan', 19359: 'yojana', 19360: 'yojanagramin', 19361: 'yojanapmssy', 19362: 'yojanaupto', 19363: 'yojna', 19364: 'yoke', 19365: 'yomiuri', 19366: 'yonsei', 19367: 'york', 19368: 'you', 19369: 'youd', 19370: 'youll', 19371: 'young', 19372: 'younger', 19373: 'youngest', 19374: 'youngsters', 19375: 'your', 19376: 'youre', 19377: 'yours', 19378: 'yourself', 19379: 'yourselves', 19380: 'yousafzai', 19381: 'youth', 19382: 'youths', 19383: 'youtube', 19384: 'youtuber', 19385: 'youve', 19386: 'yow', 19387: 'yrs', 19388: 'ysr', 19389: 'yug', 19390: 'yusuf', 19391: 'yuvraj', 19392: 'yuzvendra', 19393: 'zabad', 19394: 'zadok', 19395: 'zafar', 19396: 'zaheer', 19397: 'zaid', 19398: 'zain', 19399: 'zapotec', 19400: 'zarephath', 19401: 'zaveri', 19402: 'zayed', 19403: 'zeal', 19404: 'zealand', 19405: 'zealous', 19406: 'zebedee', 19407: 'zechariah', 19408: 'zee', 19409: 'zelensky', 19410: 'zemlya', 19411: 'zero', 19412: 'zhao', 19413: 'ziha', 19414: 'zila', 19415: 'zilla', 19416: 'zimbabwe', 19417: 'zinc', 19418: 'zion', 19419: 'ziph', 19420: 'zobah', 19421: 'zodiac', 19422: 'zoji', 19423: 'zone', 19424: 'zoned', 19425: 'zones', 19426: 'zoo', 19427: 'zoology', 19428: 'zoom', 19429: 'zoya', 19430: 'zp', 19431: 'zplus', 19432: 'zuckerberg', 19433: 'zurich'}\n"
          ]
        }
      ],
      "source": [
        "reverse_input_char_index = dict((i, word) for word, i in input_token_index.items())\n",
        "reverse_target_char_index = dict((i, word) for word, i in target_token_index.items())\n",
        "print(reverse_target_char_index)"
      ]
    },
    {
      "cell_type": "markdown",
      "source": [
        "My Tokeinzation Logic"
      ],
      "metadata": {
        "id": "IBn-Mds-tOgR"
      }
    },
    {
      "cell_type": "code",
      "source": [
        "### Get English and Marathi Vocabulary\n",
        "all_eng_words=set()\n",
        "for eng in lines['English']:\n",
        "    for word in tokenizer.tokenize(eng):\n",
        "        if word not in all_eng_words:\n",
        "            all_eng_words.add(word)\n",
        "\n",
        "all_marathi_words=set()\n",
        "for hin in lines['Marathi']:\n",
        "    for word in tokenizer.tokenize(hin):\n",
        "        if word not in all_marathi_words:\n",
        "            all_marathi_words.add(word)"
      ],
      "metadata": {
        "id": "0Bw5z-KKxl_x",
        "colab": {
          "base_uri": "https://localhost:8080/",
          "height": 211
        },
        "outputId": "232cf514-d0ff-4554-9288-609a92835ec4"
      },
      "execution_count": null,
      "outputs": [
        {
          "output_type": "error",
          "ename": "NameError",
          "evalue": "name 'tokenizer' is not defined",
          "traceback": [
            "\u001b[0;31m---------------------------------------------------------------------------\u001b[0m",
            "\u001b[0;31mNameError\u001b[0m                                 Traceback (most recent call last)",
            "\u001b[0;32m<ipython-input-65-7f14b2464dc0>\u001b[0m in \u001b[0;36m<cell line: 3>\u001b[0;34m()\u001b[0m\n\u001b[1;32m      2\u001b[0m \u001b[0mall_eng_words\u001b[0m\u001b[0;34m=\u001b[0m\u001b[0mset\u001b[0m\u001b[0;34m(\u001b[0m\u001b[0;34m)\u001b[0m\u001b[0;34m\u001b[0m\u001b[0;34m\u001b[0m\u001b[0m\n\u001b[1;32m      3\u001b[0m \u001b[0;32mfor\u001b[0m \u001b[0meng\u001b[0m \u001b[0;32min\u001b[0m \u001b[0mlines\u001b[0m\u001b[0;34m[\u001b[0m\u001b[0;34m'English'\u001b[0m\u001b[0;34m]\u001b[0m\u001b[0;34m:\u001b[0m\u001b[0;34m\u001b[0m\u001b[0;34m\u001b[0m\u001b[0m\n\u001b[0;32m----> 4\u001b[0;31m     \u001b[0;32mfor\u001b[0m \u001b[0mword\u001b[0m \u001b[0;32min\u001b[0m \u001b[0mtokenizer\u001b[0m\u001b[0;34m.\u001b[0m\u001b[0mtokenize\u001b[0m\u001b[0;34m(\u001b[0m\u001b[0meng\u001b[0m\u001b[0;34m)\u001b[0m\u001b[0;34m:\u001b[0m\u001b[0;34m\u001b[0m\u001b[0;34m\u001b[0m\u001b[0m\n\u001b[0m\u001b[1;32m      5\u001b[0m         \u001b[0;32mif\u001b[0m \u001b[0mword\u001b[0m \u001b[0;32mnot\u001b[0m \u001b[0;32min\u001b[0m \u001b[0mall_eng_words\u001b[0m\u001b[0;34m:\u001b[0m\u001b[0;34m\u001b[0m\u001b[0;34m\u001b[0m\u001b[0m\n\u001b[1;32m      6\u001b[0m             \u001b[0mall_eng_words\u001b[0m\u001b[0;34m.\u001b[0m\u001b[0madd\u001b[0m\u001b[0;34m(\u001b[0m\u001b[0mword\u001b[0m\u001b[0;34m)\u001b[0m\u001b[0;34m\u001b[0m\u001b[0;34m\u001b[0m\u001b[0m\n",
            "\u001b[0;31mNameError\u001b[0m: name 'tokenizer' is not defined"
          ]
        }
      ]
    },
    {
      "cell_type": "code",
      "source": [
        "print(len(all_eng_words), len(all_marathi_words))\n",
        "print(sorted(list(all_eng_words)[30000:30050]))"
      ],
      "metadata": {
        "colab": {
          "base_uri": "https://localhost:8080/"
        },
        "id": "6sJoNE1DtN_Q",
        "outputId": "1716f2c9-b917-48f1-d574-cf41a752ca68"
      },
      "execution_count": null,
      "outputs": [
        {
          "output_type": "stream",
          "name": "stdout",
          "text": [
            "19433 38933\n",
            "[]\n"
          ]
        }
      ]
    },
    {
      "cell_type": "code",
      "source": [
        "e = sorted(list(all_eng_words))\n",
        "m = sorted(list(all_marathi_words))\n",
        "with open(r'/content/drive/MyDrive/Honours-DL/Translation/Vocab/marathi.pkl', \"wb\") as f:\n",
        "    pickle.dump(m, f)\n",
        "with open(r'/content/drive/MyDrive/Honours-DL/Translation/Vocab/english.pkl', \"wb\") as f:\n",
        "    pickle.dump(e, f)"
      ],
      "metadata": {
        "id": "RcwAvSAEHipN"
      },
      "execution_count": null,
      "outputs": []
    },
    {
      "cell_type": "code",
      "execution_count": null,
      "metadata": {
        "colab": {
          "base_uri": "https://localhost:8080/",
          "height": 363
        },
        "id": "whSNTHrhIMpz",
        "outputId": "bfc06480-9c7a-46f2-9d03-745917446ef1"
      },
      "outputs": [
        {
          "output_type": "execute_result",
          "data": {
            "text/plain": [
              "                                                 English  \\\n",
              "19812  START_ with billion people china is worlds mos...   \n",
              "6891        START_ ram temple back in bjp manifesto _END   \n",
              "17438                       START_ the question was _END   \n",
              "3217   START_ it is not clear yet why he committed su...   \n",
              "11992  START_ each modality has its advantages and di...   \n",
              "13627  START_ he is being taken to the cbi headquarte...   \n",
              "5796                    START_ students cannot read _END   \n",
              "18301  START_ the government is trying to get these w...   \n",
              "11339  START_ when some work is actually commenced th...   \n",
              "354               START_ no one is paying attention _END   \n",
              "\n",
              "                                                 Marathi  length_eng_sentence  \\\n",
              "19812  सध्या चीन हा जगातील सर्वाधिक लोकसंख्येचा देश अ...                   11   \n",
              "6891       भाजपच्या जाहीरनाम्यात राम मंदिराचा पुनरूच्चार                    8   \n",
              "17438                              ’असा प्रश्न पडला असता                    5   \n",
              "3217   नेमकी त्यांनी आत्महत्या कोणत्या कारणावरून केली...                   11   \n",
              "11992  प्रत्येक प्रदर्शन प्रकार त्याच्या स्वत च्या फा...                    9   \n",
              "13627  सध्या त्याला कडेकोट बंदोबस्तात दिल्लीतील सीबीआ...                   12   \n",
              "5796                 त्यामुळे विद्यार्थी अभ्यास करीत नसत                    5   \n",
              "18301  हे सरकार कामगारांना वेठबिगार बनवण्याच्या प्रयत...                   11   \n",
              "11339  जेव्हा प्रत्यक्ष कामाची सुरुवात होते तेव्हाच न...                   13   \n",
              "354                             कुणाचे कुणाकडे लक्ष नसते                    7   \n",
              "\n",
              "       length_mar_sentence  \n",
              "19812                   12  \n",
              "6891                     5  \n",
              "17438                    4  \n",
              "3217                    10  \n",
              "11992                   10  \n",
              "13627                   10  \n",
              "5796                     5  \n",
              "18301                    7  \n",
              "11339                    9  \n",
              "354                      4  "
            ],
            "text/html": [
              "\n",
              "  <div id=\"df-02062658-8013-4b98-a58a-52f62ecc26a4\" class=\"colab-df-container\">\n",
              "    <div>\n",
              "<style scoped>\n",
              "    .dataframe tbody tr th:only-of-type {\n",
              "        vertical-align: middle;\n",
              "    }\n",
              "\n",
              "    .dataframe tbody tr th {\n",
              "        vertical-align: top;\n",
              "    }\n",
              "\n",
              "    .dataframe thead th {\n",
              "        text-align: right;\n",
              "    }\n",
              "</style>\n",
              "<table border=\"1\" class=\"dataframe\">\n",
              "  <thead>\n",
              "    <tr style=\"text-align: right;\">\n",
              "      <th></th>\n",
              "      <th>English</th>\n",
              "      <th>Marathi</th>\n",
              "      <th>length_eng_sentence</th>\n",
              "      <th>length_mar_sentence</th>\n",
              "    </tr>\n",
              "  </thead>\n",
              "  <tbody>\n",
              "    <tr>\n",
              "      <th>19812</th>\n",
              "      <td>START_ with billion people china is worlds mos...</td>\n",
              "      <td>सध्या चीन हा जगातील सर्वाधिक लोकसंख्येचा देश अ...</td>\n",
              "      <td>11</td>\n",
              "      <td>12</td>\n",
              "    </tr>\n",
              "    <tr>\n",
              "      <th>6891</th>\n",
              "      <td>START_ ram temple back in bjp manifesto _END</td>\n",
              "      <td>भाजपच्या जाहीरनाम्यात राम मंदिराचा पुनरूच्चार</td>\n",
              "      <td>8</td>\n",
              "      <td>5</td>\n",
              "    </tr>\n",
              "    <tr>\n",
              "      <th>17438</th>\n",
              "      <td>START_ the question was _END</td>\n",
              "      <td>’असा प्रश्न पडला असता</td>\n",
              "      <td>5</td>\n",
              "      <td>4</td>\n",
              "    </tr>\n",
              "    <tr>\n",
              "      <th>3217</th>\n",
              "      <td>START_ it is not clear yet why he committed su...</td>\n",
              "      <td>नेमकी त्यांनी आत्महत्या कोणत्या कारणावरून केली...</td>\n",
              "      <td>11</td>\n",
              "      <td>10</td>\n",
              "    </tr>\n",
              "    <tr>\n",
              "      <th>11992</th>\n",
              "      <td>START_ each modality has its advantages and di...</td>\n",
              "      <td>प्रत्येक प्रदर्शन प्रकार त्याच्या स्वत च्या फा...</td>\n",
              "      <td>9</td>\n",
              "      <td>10</td>\n",
              "    </tr>\n",
              "    <tr>\n",
              "      <th>13627</th>\n",
              "      <td>START_ he is being taken to the cbi headquarte...</td>\n",
              "      <td>सध्या त्याला कडेकोट बंदोबस्तात दिल्लीतील सीबीआ...</td>\n",
              "      <td>12</td>\n",
              "      <td>10</td>\n",
              "    </tr>\n",
              "    <tr>\n",
              "      <th>5796</th>\n",
              "      <td>START_ students cannot read _END</td>\n",
              "      <td>त्यामुळे विद्यार्थी अभ्यास करीत नसत</td>\n",
              "      <td>5</td>\n",
              "      <td>5</td>\n",
              "    </tr>\n",
              "    <tr>\n",
              "      <th>18301</th>\n",
              "      <td>START_ the government is trying to get these w...</td>\n",
              "      <td>हे सरकार कामगारांना वेठबिगार बनवण्याच्या प्रयत...</td>\n",
              "      <td>11</td>\n",
              "      <td>7</td>\n",
              "    </tr>\n",
              "    <tr>\n",
              "      <th>11339</th>\n",
              "      <td>START_ when some work is actually commenced th...</td>\n",
              "      <td>जेव्हा प्रत्यक्ष कामाची सुरुवात होते तेव्हाच न...</td>\n",
              "      <td>13</td>\n",
              "      <td>9</td>\n",
              "    </tr>\n",
              "    <tr>\n",
              "      <th>354</th>\n",
              "      <td>START_ no one is paying attention _END</td>\n",
              "      <td>कुणाचे कुणाकडे लक्ष नसते</td>\n",
              "      <td>7</td>\n",
              "      <td>4</td>\n",
              "    </tr>\n",
              "  </tbody>\n",
              "</table>\n",
              "</div>\n",
              "    <div class=\"colab-df-buttons\">\n",
              "\n",
              "  <div class=\"colab-df-container\">\n",
              "    <button class=\"colab-df-convert\" onclick=\"convertToInteractive('df-02062658-8013-4b98-a58a-52f62ecc26a4')\"\n",
              "            title=\"Convert this dataframe to an interactive table.\"\n",
              "            style=\"display:none;\">\n",
              "\n",
              "  <svg xmlns=\"http://www.w3.org/2000/svg\" height=\"24px\" viewBox=\"0 -960 960 960\">\n",
              "    <path d=\"M120-120v-720h720v720H120Zm60-500h600v-160H180v160Zm220 220h160v-160H400v160Zm0 220h160v-160H400v160ZM180-400h160v-160H180v160Zm440 0h160v-160H620v160ZM180-180h160v-160H180v160Zm440 0h160v-160H620v160Z\"/>\n",
              "  </svg>\n",
              "    </button>\n",
              "\n",
              "  <style>\n",
              "    .colab-df-container {\n",
              "      display:flex;\n",
              "      gap: 12px;\n",
              "    }\n",
              "\n",
              "    .colab-df-convert {\n",
              "      background-color: #E8F0FE;\n",
              "      border: none;\n",
              "      border-radius: 50%;\n",
              "      cursor: pointer;\n",
              "      display: none;\n",
              "      fill: #1967D2;\n",
              "      height: 32px;\n",
              "      padding: 0 0 0 0;\n",
              "      width: 32px;\n",
              "    }\n",
              "\n",
              "    .colab-df-convert:hover {\n",
              "      background-color: #E2EBFA;\n",
              "      box-shadow: 0px 1px 2px rgba(60, 64, 67, 0.3), 0px 1px 3px 1px rgba(60, 64, 67, 0.15);\n",
              "      fill: #174EA6;\n",
              "    }\n",
              "\n",
              "    .colab-df-buttons div {\n",
              "      margin-bottom: 4px;\n",
              "    }\n",
              "\n",
              "    [theme=dark] .colab-df-convert {\n",
              "      background-color: #3B4455;\n",
              "      fill: #D2E3FC;\n",
              "    }\n",
              "\n",
              "    [theme=dark] .colab-df-convert:hover {\n",
              "      background-color: #434B5C;\n",
              "      box-shadow: 0px 1px 3px 1px rgba(0, 0, 0, 0.15);\n",
              "      filter: drop-shadow(0px 1px 2px rgba(0, 0, 0, 0.3));\n",
              "      fill: #FFFFFF;\n",
              "    }\n",
              "  </style>\n",
              "\n",
              "    <script>\n",
              "      const buttonEl =\n",
              "        document.querySelector('#df-02062658-8013-4b98-a58a-52f62ecc26a4 button.colab-df-convert');\n",
              "      buttonEl.style.display =\n",
              "        google.colab.kernel.accessAllowed ? 'block' : 'none';\n",
              "\n",
              "      async function convertToInteractive(key) {\n",
              "        const element = document.querySelector('#df-02062658-8013-4b98-a58a-52f62ecc26a4');\n",
              "        const dataTable =\n",
              "          await google.colab.kernel.invokeFunction('convertToInteractive',\n",
              "                                                    [key], {});\n",
              "        if (!dataTable) return;\n",
              "\n",
              "        const docLinkHtml = 'Like what you see? Visit the ' +\n",
              "          '<a target=\"_blank\" href=https://colab.research.google.com/notebooks/data_table.ipynb>data table notebook</a>'\n",
              "          + ' to learn more about interactive tables.';\n",
              "        element.innerHTML = '';\n",
              "        dataTable['output_type'] = 'display_data';\n",
              "        await google.colab.output.renderOutput(dataTable, element);\n",
              "        const docLink = document.createElement('div');\n",
              "        docLink.innerHTML = docLinkHtml;\n",
              "        element.appendChild(docLink);\n",
              "      }\n",
              "    </script>\n",
              "  </div>\n",
              "\n",
              "\n",
              "<div id=\"df-0308944e-fe0b-48f9-bdd8-6531b5726ea6\">\n",
              "  <button class=\"colab-df-quickchart\" onclick=\"quickchart('df-0308944e-fe0b-48f9-bdd8-6531b5726ea6')\"\n",
              "            title=\"Suggest charts\"\n",
              "            style=\"display:none;\">\n",
              "\n",
              "<svg xmlns=\"http://www.w3.org/2000/svg\" height=\"24px\"viewBox=\"0 0 24 24\"\n",
              "     width=\"24px\">\n",
              "    <g>\n",
              "        <path d=\"M19 3H5c-1.1 0-2 .9-2 2v14c0 1.1.9 2 2 2h14c1.1 0 2-.9 2-2V5c0-1.1-.9-2-2-2zM9 17H7v-7h2v7zm4 0h-2V7h2v10zm4 0h-2v-4h2v4z\"/>\n",
              "    </g>\n",
              "</svg>\n",
              "  </button>\n",
              "\n",
              "<style>\n",
              "  .colab-df-quickchart {\n",
              "      --bg-color: #E8F0FE;\n",
              "      --fill-color: #1967D2;\n",
              "      --hover-bg-color: #E2EBFA;\n",
              "      --hover-fill-color: #174EA6;\n",
              "      --disabled-fill-color: #AAA;\n",
              "      --disabled-bg-color: #DDD;\n",
              "  }\n",
              "\n",
              "  [theme=dark] .colab-df-quickchart {\n",
              "      --bg-color: #3B4455;\n",
              "      --fill-color: #D2E3FC;\n",
              "      --hover-bg-color: #434B5C;\n",
              "      --hover-fill-color: #FFFFFF;\n",
              "      --disabled-bg-color: #3B4455;\n",
              "      --disabled-fill-color: #666;\n",
              "  }\n",
              "\n",
              "  .colab-df-quickchart {\n",
              "    background-color: var(--bg-color);\n",
              "    border: none;\n",
              "    border-radius: 50%;\n",
              "    cursor: pointer;\n",
              "    display: none;\n",
              "    fill: var(--fill-color);\n",
              "    height: 32px;\n",
              "    padding: 0;\n",
              "    width: 32px;\n",
              "  }\n",
              "\n",
              "  .colab-df-quickchart:hover {\n",
              "    background-color: var(--hover-bg-color);\n",
              "    box-shadow: 0 1px 2px rgba(60, 64, 67, 0.3), 0 1px 3px 1px rgba(60, 64, 67, 0.15);\n",
              "    fill: var(--button-hover-fill-color);\n",
              "  }\n",
              "\n",
              "  .colab-df-quickchart-complete:disabled,\n",
              "  .colab-df-quickchart-complete:disabled:hover {\n",
              "    background-color: var(--disabled-bg-color);\n",
              "    fill: var(--disabled-fill-color);\n",
              "    box-shadow: none;\n",
              "  }\n",
              "\n",
              "  .colab-df-spinner {\n",
              "    border: 2px solid var(--fill-color);\n",
              "    border-color: transparent;\n",
              "    border-bottom-color: var(--fill-color);\n",
              "    animation:\n",
              "      spin 1s steps(1) infinite;\n",
              "  }\n",
              "\n",
              "  @keyframes spin {\n",
              "    0% {\n",
              "      border-color: transparent;\n",
              "      border-bottom-color: var(--fill-color);\n",
              "      border-left-color: var(--fill-color);\n",
              "    }\n",
              "    20% {\n",
              "      border-color: transparent;\n",
              "      border-left-color: var(--fill-color);\n",
              "      border-top-color: var(--fill-color);\n",
              "    }\n",
              "    30% {\n",
              "      border-color: transparent;\n",
              "      border-left-color: var(--fill-color);\n",
              "      border-top-color: var(--fill-color);\n",
              "      border-right-color: var(--fill-color);\n",
              "    }\n",
              "    40% {\n",
              "      border-color: transparent;\n",
              "      border-right-color: var(--fill-color);\n",
              "      border-top-color: var(--fill-color);\n",
              "    }\n",
              "    60% {\n",
              "      border-color: transparent;\n",
              "      border-right-color: var(--fill-color);\n",
              "    }\n",
              "    80% {\n",
              "      border-color: transparent;\n",
              "      border-right-color: var(--fill-color);\n",
              "      border-bottom-color: var(--fill-color);\n",
              "    }\n",
              "    90% {\n",
              "      border-color: transparent;\n",
              "      border-bottom-color: var(--fill-color);\n",
              "    }\n",
              "  }\n",
              "</style>\n",
              "\n",
              "  <script>\n",
              "    async function quickchart(key) {\n",
              "      const quickchartButtonEl =\n",
              "        document.querySelector('#' + key + ' button');\n",
              "      quickchartButtonEl.disabled = true;  // To prevent multiple clicks.\n",
              "      quickchartButtonEl.classList.add('colab-df-spinner');\n",
              "      try {\n",
              "        const charts = await google.colab.kernel.invokeFunction(\n",
              "            'suggestCharts', [key], {});\n",
              "      } catch (error) {\n",
              "        console.error('Error during call to suggestCharts:', error);\n",
              "      }\n",
              "      quickchartButtonEl.classList.remove('colab-df-spinner');\n",
              "      quickchartButtonEl.classList.add('colab-df-quickchart-complete');\n",
              "    }\n",
              "    (() => {\n",
              "      let quickchartButtonEl =\n",
              "        document.querySelector('#df-0308944e-fe0b-48f9-bdd8-6531b5726ea6 button');\n",
              "      quickchartButtonEl.style.display =\n",
              "        google.colab.kernel.accessAllowed ? 'block' : 'none';\n",
              "    })();\n",
              "  </script>\n",
              "</div>\n",
              "    </div>\n",
              "  </div>\n"
            ],
            "application/vnd.google.colaboratory.intrinsic+json": {
              "type": "dataframe",
              "variable_name": "lines",
              "summary": "{\n  \"name\": \"lines\",\n  \"rows\": 16995,\n  \"fields\": [\n    {\n      \"column\": \"English\",\n      \"properties\": {\n        \"dtype\": \"string\",\n        \"num_unique_values\": 16714,\n        \"samples\": [\n          \"START_ he was one of the first people to demonstrate the illusion of a moving image _END\",\n          \"START_ the prices of oil are likely to move up an up _END\",\n          \"START_ pandit nehru had laid the foundation stone of the sardar sarovar dam in _END\"\n        ],\n        \"semantic_type\": \"\",\n        \"description\": \"\"\n      }\n    },\n    {\n      \"column\": \"Marathi\",\n      \"properties\": {\n        \"dtype\": \"string\",\n        \"num_unique_values\": 16987,\n        \"samples\": [\n          \"\\u0921\\u0949\\u0915\\u094d\\u091f\\u0930\\u093e\\u0902\\u091a\\u094d\\u092f\\u093e \\u0928\\u093f\\u0937\\u094d\\u0915\\u093e\\u0933\\u091c\\u0940\\u092a\\u0923\\u093e\\u092e\\u0941\\u0933\\u0947\\u091a \\u0924\\u093f\\u091a\\u093e \\u092e\\u0943\\u0924\\u094d\\u092f\\u0942 \\u091d\\u093e\\u0932\\u093e \\u0906\\u0939\\u0947\",\n          \"\\u0905\\u0938\\u0947 \\u0915\\u093e\",\n          \"\\u0928\\u0935\\u094d\\u092f\\u093e \\u0930\\u094b\\u091c\\u0917\\u093e\\u0930 \\u0938\\u0902\\u0927\\u0940 \\u0909\\u092a\\u0932\\u092c\\u094d\\u0927 \\u0915\\u0930\\u093e\\u0935\\u094d\\u092f\\u093e\\u0924\"\n        ],\n        \"semantic_type\": \"\",\n        \"description\": \"\"\n      }\n    },\n    {\n      \"column\": \"length_eng_sentence\",\n      \"properties\": {\n        \"dtype\": \"number\",\n        \"std\": 4,\n        \"min\": 3,\n        \"max\": 20,\n        \"num_unique_values\": 18,\n        \"samples\": [\n          11,\n          8,\n          20\n        ],\n        \"semantic_type\": \"\",\n        \"description\": \"\"\n      }\n    },\n    {\n      \"column\": \"length_mar_sentence\",\n      \"properties\": {\n        \"dtype\": \"number\",\n        \"std\": 3,\n        \"min\": 1,\n        \"max\": 20,\n        \"num_unique_values\": 20,\n        \"samples\": [\n          12,\n          18,\n          16\n        ],\n        \"semantic_type\": \"\",\n        \"description\": \"\"\n      }\n    }\n  ]\n}"
            }
          },
          "metadata": {},
          "execution_count": 171
        }
      ],
      "source": [
        "lines = shuffle(lines)\n",
        "lines.head(10)"
      ]
    },
    {
      "cell_type": "code",
      "execution_count": null,
      "metadata": {
        "colab": {
          "base_uri": "https://localhost:8080/"
        },
        "id": "jWvdfr41IQpA",
        "outputId": "519c5675-8bd3-47b4-e616-b4e23498537e"
      },
      "outputs": [
        {
          "output_type": "execute_result",
          "data": {
            "text/plain": [
              "((15295,), (1700,))"
            ]
          },
          "metadata": {},
          "execution_count": 172
        }
      ],
      "source": [
        "X, y = lines['Marathi'], lines['English']\n",
        "X_train, X_test, y_train, y_test = train_test_split(X, y, test_size = 0.1,random_state=42)\n",
        "X_train.shape, X_test.shape"
      ]
    },
    {
      "cell_type": "code",
      "execution_count": null,
      "metadata": {
        "id": "zywkG6_OIZxV"
      },
      "outputs": [],
      "source": [
        "def generate_batch(X = X_train, y = y_train, batch_size = 128):\n",
        "    ''' Generate a batch of data '''\n",
        "    while True:\n",
        "        for j in range(0, len(X), batch_size):\n",
        "            encoder_input_data = np.zeros((batch_size, max_length_src),dtype='float32')\n",
        "            decoder_input_data = np.zeros((batch_size, max_length_tar),dtype='float32')\n",
        "            decoder_target_data = np.zeros((batch_size, max_length_tar, num_decoder_tokens),dtype='float32')\n",
        "            for i, (input_text, target_text) in enumerate(zip(X[j:j+batch_size], y[j:j+batch_size])):\n",
        "                for t, word in enumerate(input_text.split()):\n",
        "                    encoder_input_data[i, t] = input_token_index[word] # encoder input seq\n",
        "                for t, word in enumerate(target_text.split()):\n",
        "                    if t<len(target_text.split())-1:\n",
        "                        decoder_input_data[i, t] = target_token_index[word] # decoder input seq\n",
        "                    if t>0:\n",
        "                        # decoder target sequence (one hot encoded)\n",
        "                        # does not include the START_ token\n",
        "                        # Offset by one timestep\n",
        "                        decoder_target_data[i, t - 1, target_token_index[word]] = 1.\n",
        "            yield([encoder_input_data, decoder_input_data], decoder_target_data)"
      ]
    },
    {
      "cell_type": "code",
      "source": [
        "def generate_batch(X=X_train, y=y_train, batch_size=128):\n",
        "    ''' Generate a batch of data '''\n",
        "    while True:\n",
        "        for j in range(0, len(X), batch_size):\n",
        "            encoder_input_data = np.zeros((batch_size, max_length_src), dtype='float32')\n",
        "            decoder_input_data = np.zeros((batch_size, max_length_tar), dtype='float32')\n",
        "            decoder_target_data = np.zeros((batch_size, max_length_tar, num_decoder_tokens), dtype='float32')\n",
        "            for i, (input_text, target_text) in enumerate(zip(X[j:j+batch_size], y[j:j+batch_size])):\n",
        "                # Tokenize input and target sentences using your tokenizer\n",
        "                input_tokens = tokenizer.tokenize(input_text)\n",
        "                target_tokens = tokenizer.tokenize(target_text)\n",
        "\n",
        "                for t, word in enumerate(input_tokens):\n",
        "                    if t < max_length_src:\n",
        "                        encoder_input_data[i, t] = input_token_index[word]  # encoder input seq\n",
        "                for t, word in enumerate(target_tokens):\n",
        "                    if t < len(target_tokens) - 1 and t < max_length_tar:\n",
        "                        decoder_input_data[i, t] = target_token_index[word]  # decoder input seq\n",
        "                    if t > 0 and t < max_length_tar:\n",
        "                        # decoder target sequence (one hot encoded)\n",
        "                        # does not include the START_ token\n",
        "                        # Offset by one timestep\n",
        "                        decoder_target_data[i, t - 1, target_token_index[word]] = 1.\n",
        "            yield ([encoder_input_data, decoder_input_data], decoder_target_data)\n"
      ],
      "metadata": {
        "id": "FkxSHQr7_sn_"
      },
      "execution_count": null,
      "outputs": []
    },
    {
      "cell_type": "code",
      "execution_count": null,
      "metadata": {
        "id": "qhUKSk4MIgIA"
      },
      "outputs": [],
      "source": [
        "latent_dim=128\n",
        "dropout_rate = 0.2"
      ]
    },
    {
      "cell_type": "code",
      "execution_count": null,
      "metadata": {
        "id": "E83k8Tg5Ig2y",
        "colab": {
          "base_uri": "https://localhost:8080/"
        },
        "outputId": "8f612290-1d9c-4bcf-f275-68533046a91b"
      },
      "outputs": [
        {
          "output_type": "stream",
          "name": "stdout",
          "text": [
            "[<KerasTensor: shape=(None, 128) dtype=float32 (created by layer 'lstm_7')>, <KerasTensor: shape=(None, 128) dtype=float32 (created by layer 'lstm_7')>]\n"
          ]
        }
      ],
      "source": [
        "# Encoder\n",
        "encoder_inputs = Input(shape=(None,))\n",
        "enc_emb =  Embedding(num_encoder_tokens, latent_dim, mask_zero = True)(encoder_inputs)\n",
        "encoder_lstm = LSTM(latent_dim, return_state=True)\n",
        "encoder_outputs, state_h, state_c = encoder_lstm(enc_emb)\n",
        "# We discard `encoder_outputs` and only keep the states.\n",
        "encoder_states = [state_h, state_c]\n",
        "\n",
        "# Set up the decoder, using `encoder_states` as initial state.\n",
        "decoder_inputs = Input(shape=(None,))\n",
        "dec_emb_layer = Embedding(num_decoder_tokens, latent_dim*2, mask_zero = True)\n",
        "dec_emb = dec_emb_layer(decoder_inputs)\n",
        "# We set up our decoder to return full output sequences,\n",
        "# and to return internal states as well. We don't use the\n",
        "# return states in the training model, but we will use them in inference.\n",
        "decoder_lstm = LSTM(latent_dim, return_sequences=True, return_state=True)\n",
        "decoder_outputs, _, _ = decoder_lstm(dec_emb,\n",
        "                                     initial_state=encoder_states)\n",
        "decoder_dense = Dense(num_decoder_tokens, activation='softmax')\n",
        "decoder_outputs = decoder_dense(decoder_outputs)\n",
        "\n",
        "# Define the model that will turn\n",
        "# `encoder_input_data` & `decoder_input_data` into `decoder_target_data`\n",
        "model = Model([encoder_inputs, decoder_inputs], decoder_outputs)"
      ]
    },
    {
      "cell_type": "code",
      "execution_count": null,
      "metadata": {
        "id": "jQxQthu2_xir",
        "colab": {
          "base_uri": "https://localhost:8080/"
        },
        "outputId": "6d2c987d-2c14-444a-a915-2da4d11588b5"
      },
      "outputs": [
        {
          "output_type": "stream",
          "name": "stdout",
          "text": [
            "KerasTensor(type_spec=TensorSpec(shape=(None, None), dtype=tf.float32, name='input_19'), name='input_19', description=\"created by layer 'input_19'\")\n",
            "[<KerasTensor: shape=(None, 256) dtype=float32 (created by layer 'concatenate_6')>, <KerasTensor: shape=(None, 256) dtype=float32 (created by layer 'concatenate_7')>]\n",
            "KerasTensor(type_spec=TensorSpec(shape=(None, None), dtype=tf.float32, name='input_20'), name='input_20', description=\"created by layer 'input_20'\")\n"
          ]
        }
      ],
      "source": [
        "from keras.layers import Input, LSTM, Embedding, Dense, Bidirectional, concatenate, Attention\n",
        "from keras.models import Model\n",
        "\n",
        "# Encoder\n",
        "encoder_inputs = Input(shape=(None,))\n",
        "enc_emb =  Embedding(num_encoder_tokens, latent_dim, mask_zero=True)(encoder_inputs)\n",
        "encoder_lstm = Bidirectional(LSTM(latent_dim, return_sequences=True, return_state=True))\n",
        "encoder_outputs, forward_h, forward_c, backward_h, backward_c = encoder_lstm(enc_emb)\n",
        "state_h = concatenate([forward_h, backward_h])\n",
        "state_c = concatenate([forward_c, backward_c])\n",
        "encoder_states = [state_h, state_c]\n",
        "\n",
        "print(encoder_inputs)\n",
        "print(encoder_states)\n",
        "\n",
        "# # Decoder\n",
        "decoder_inputs = Input(shape=(None,))\n",
        "dec_emb_layer = Embedding(num_decoder_tokens, latent_dim, mask_zero=True)\n",
        "dec_emb = dec_emb_layer(decoder_inputs)\n",
        "decoder_lstm = LSTM(latent_dim*2, return_sequences=True, return_state=True)\n",
        "decoder_outputs, _, _ = decoder_lstm(dec_emb, initial_state=encoder_states)\n",
        "\n",
        "print(decoder_inputs)\n",
        "# decoder_concat_input = Concatenate(axis=-1)([decoder_outputs, attention])\n",
        "decoder_dense = Dense(num_decoder_tokens, activation='softmax')\n",
        "decoder_outputs = decoder_dense(decoder_outputs)\n",
        "\n",
        "# # Model\n",
        "model = Model([encoder_inputs, decoder_inputs], decoder_outputs)"
      ]
    },
    {
      "cell_type": "markdown",
      "source": [
        "My Model with Different input tokens"
      ],
      "metadata": {
        "id": "I4xS5FO71loe"
      }
    },
    {
      "cell_type": "code",
      "source": [
        "# Encoder\n",
        "encoder_inputs = Input(shape=(None,))\n",
        "enc_emb = Embedding(num_encoder_tokens, latent_dim, mask_zero=True)(encoder_inputs)\n",
        "encoder_lstm = LSTM(latent_dim, return_state=True)\n",
        "encoder_outputs, state_h, state_c = encoder_lstm(enc_emb)\n",
        "encoder_states = [state_h, state_c]\n",
        "\n",
        "# Decoder\n",
        "decoder_inputs = Input(shape=(None,))\n",
        "dec_emb_layer = Embedding(num_decoder_tokens, latent_dim, mask_zero=True)\n",
        "dec_emb = dec_emb_layer(decoder_inputs)\n",
        "\n",
        "decoder_lstm = LSTM(latent_dim, return_sequences=True, return_state=True)\n",
        "decoder_outputs, _, _ = decoder_lstm(dec_emb, initial_state=encoder_states)\n",
        "\n",
        "decoder_dense = Dense(num_decoder_tokens, activation='softmax')\n",
        "decoder_outputs = decoder_dense(decoder_outputs)\n",
        "\n",
        "model = Model([encoder_inputs, decoder_inputs], decoder_outputs)"
      ],
      "metadata": {
        "id": "gop6RL6y1lI7"
      },
      "execution_count": null,
      "outputs": []
    },
    {
      "cell_type": "code",
      "execution_count": null,
      "metadata": {
        "id": "HmBwABItInKv"
      },
      "outputs": [],
      "source": [
        "# model.compile(optimizer='rmsprop', loss='categorical_crossentropy')\n",
        "from keras.metrics import Accuracy\n",
        "model.compile(optimizer='adam', loss='categorical_crossentropy', metrics=['accuracy'])"
      ]
    },
    {
      "cell_type": "code",
      "execution_count": null,
      "metadata": {
        "colab": {
          "base_uri": "https://localhost:8080/"
        },
        "id": "amPcuFnxIpKZ",
        "outputId": "c4743351-8007-4f0a-ea5d-562974433c07"
      },
      "outputs": [
        {
          "output_type": "stream",
          "name": "stdout",
          "text": [
            "Model: \"model_13\"\n",
            "__________________________________________________________________________________________________\n",
            " Layer (type)                Output Shape                 Param #   Connected to                  \n",
            "==================================================================================================\n",
            " input_19 (InputLayer)       [(None, None)]               0         []                            \n",
            "                                                                                                  \n",
            " embedding_6 (Embedding)     (None, None, 128)            4983424   ['input_19[0][0]']            \n",
            "                                                                                                  \n",
            " input_20 (InputLayer)       [(None, None)]               0         []                            \n",
            "                                                                                                  \n",
            " bidirectional_3 (Bidirecti  [(None, None, 256),          263168    ['embedding_6[0][0]']         \n",
            " onal)                        (None, 128),                                                        \n",
            "                              (None, 128),                                                        \n",
            "                              (None, 128),                                                        \n",
            "                              (None, 128)]                                                        \n",
            "                                                                                                  \n",
            " embedding_7 (Embedding)     (None, None, 128)            2487552   ['input_20[0][0]']            \n",
            "                                                                                                  \n",
            " concatenate_6 (Concatenate  (None, 256)                  0         ['bidirectional_3[0][1]',     \n",
            " )                                                                   'bidirectional_3[0][3]']     \n",
            "                                                                                                  \n",
            " concatenate_7 (Concatenate  (None, 256)                  0         ['bidirectional_3[0][2]',     \n",
            " )                                                                   'bidirectional_3[0][4]']     \n",
            "                                                                                                  \n",
            " lstm_7 (LSTM)               [(None, None, 256),          394240    ['embedding_7[0][0]',         \n",
            "                              (None, 256),                           'concatenate_6[0][0]',       \n",
            "                              (None, 256)]                           'concatenate_7[0][0]']       \n",
            "                                                                                                  \n",
            " dense_3 (Dense)             (None, None, 19434)          4994538   ['lstm_7[0][0]']              \n",
            "                                                                                                  \n",
            "==================================================================================================\n",
            "Total params: 13122922 (50.06 MB)\n",
            "Trainable params: 13122922 (50.06 MB)\n",
            "Non-trainable params: 0 (0.00 Byte)\n",
            "__________________________________________________________________________________________________\n"
          ]
        }
      ],
      "source": [
        "model.summary()"
      ]
    },
    {
      "cell_type": "code",
      "execution_count": null,
      "metadata": {
        "id": "53U0ilWDIt4t"
      },
      "outputs": [],
      "source": [
        "train_samples = len(X_train)\n",
        "val_samples = len(X_test)\n",
        "batch_size = 64\n",
        "epochs = 10"
      ]
    },
    {
      "cell_type": "code",
      "execution_count": null,
      "metadata": {
        "id": "UUH4I2Zl2TJY"
      },
      "outputs": [],
      "source": [
        "import tensorflow as tf\n",
        "\n",
        "checkpoint_filepath = r'/content/drive/MyDrive/Honours-DL/Translation/temp2.h5'\n",
        "model_checkpoint_callback = tf.keras.callbacks.ModelCheckpoint(\n",
        "    filepath=checkpoint_filepath,\n",
        "    save_best_only=True,\n",
        "    monitor='loss',\n",
        "    mode='min',\n",
        "    verbose=1\n",
        ")\n"
      ]
    },
    {
      "cell_type": "code",
      "execution_count": null,
      "metadata": {
        "colab": {
          "base_uri": "https://localhost:8080/",
          "height": 391
        },
        "id": "nB69L6JrIxJg",
        "outputId": "2f1d96da-5d93-4415-d69a-d7ce344e1dae"
      },
      "outputs": [
        {
          "output_type": "stream",
          "name": "stdout",
          "text": [
            "Epoch 1/10\n",
            "  3/238 [..............................] - ETA: 7:02 - loss: 2.0706 - accuracy: 0.6197"
          ]
        },
        {
          "output_type": "error",
          "ename": "KeyboardInterrupt",
          "evalue": "",
          "traceback": [
            "\u001b[0;31m---------------------------------------------------------------------------\u001b[0m",
            "\u001b[0;31mKeyboardInterrupt\u001b[0m                         Traceback (most recent call last)",
            "\u001b[0;32m<ipython-input-118-7ac2559cfcae>\u001b[0m in \u001b[0;36m<cell line: 7>\u001b[0;34m()\u001b[0m\n\u001b[1;32m      5\u001b[0m \u001b[0;31m#                     validation_steps = val_samples//batch_size)\u001b[0m\u001b[0;34m\u001b[0m\u001b[0;34m\u001b[0m\u001b[0m\n\u001b[1;32m      6\u001b[0m \u001b[0;34m\u001b[0m\u001b[0m\n\u001b[0;32m----> 7\u001b[0;31m history = model.fit(generate_batch(X_train, y_train, batch_size=batch_size),\n\u001b[0m\u001b[1;32m      8\u001b[0m                     \u001b[0msteps_per_epoch\u001b[0m\u001b[0;34m=\u001b[0m\u001b[0mtrain_samples\u001b[0m \u001b[0;34m//\u001b[0m \u001b[0mbatch_size\u001b[0m\u001b[0;34m,\u001b[0m\u001b[0;34m\u001b[0m\u001b[0;34m\u001b[0m\u001b[0m\n\u001b[1;32m      9\u001b[0m                     \u001b[0mepochs\u001b[0m\u001b[0;34m=\u001b[0m\u001b[0mepochs\u001b[0m\u001b[0;34m,\u001b[0m\u001b[0;34m\u001b[0m\u001b[0;34m\u001b[0m\u001b[0m\n",
            "\u001b[0;32m/usr/local/lib/python3.10/dist-packages/keras/src/utils/traceback_utils.py\u001b[0m in \u001b[0;36merror_handler\u001b[0;34m(*args, **kwargs)\u001b[0m\n\u001b[1;32m     63\u001b[0m         \u001b[0mfiltered_tb\u001b[0m \u001b[0;34m=\u001b[0m \u001b[0;32mNone\u001b[0m\u001b[0;34m\u001b[0m\u001b[0;34m\u001b[0m\u001b[0m\n\u001b[1;32m     64\u001b[0m         \u001b[0;32mtry\u001b[0m\u001b[0;34m:\u001b[0m\u001b[0;34m\u001b[0m\u001b[0;34m\u001b[0m\u001b[0m\n\u001b[0;32m---> 65\u001b[0;31m             \u001b[0;32mreturn\u001b[0m \u001b[0mfn\u001b[0m\u001b[0;34m(\u001b[0m\u001b[0;34m*\u001b[0m\u001b[0margs\u001b[0m\u001b[0;34m,\u001b[0m \u001b[0;34m**\u001b[0m\u001b[0mkwargs\u001b[0m\u001b[0;34m)\u001b[0m\u001b[0;34m\u001b[0m\u001b[0;34m\u001b[0m\u001b[0m\n\u001b[0m\u001b[1;32m     66\u001b[0m         \u001b[0;32mexcept\u001b[0m \u001b[0mException\u001b[0m \u001b[0;32mas\u001b[0m \u001b[0me\u001b[0m\u001b[0;34m:\u001b[0m\u001b[0;34m\u001b[0m\u001b[0;34m\u001b[0m\u001b[0m\n\u001b[1;32m     67\u001b[0m             \u001b[0mfiltered_tb\u001b[0m \u001b[0;34m=\u001b[0m \u001b[0m_process_traceback_frames\u001b[0m\u001b[0;34m(\u001b[0m\u001b[0me\u001b[0m\u001b[0;34m.\u001b[0m\u001b[0m__traceback__\u001b[0m\u001b[0;34m)\u001b[0m\u001b[0;34m\u001b[0m\u001b[0;34m\u001b[0m\u001b[0m\n",
            "\u001b[0;32m/usr/local/lib/python3.10/dist-packages/keras/src/engine/training.py\u001b[0m in \u001b[0;36mfit\u001b[0;34m(self, x, y, batch_size, epochs, verbose, callbacks, validation_split, validation_data, shuffle, class_weight, sample_weight, initial_epoch, steps_per_epoch, validation_steps, validation_batch_size, validation_freq, max_queue_size, workers, use_multiprocessing)\u001b[0m\n\u001b[1;32m   1805\u001b[0m                         ):\n\u001b[1;32m   1806\u001b[0m                             \u001b[0mcallbacks\u001b[0m\u001b[0;34m.\u001b[0m\u001b[0mon_train_batch_begin\u001b[0m\u001b[0;34m(\u001b[0m\u001b[0mstep\u001b[0m\u001b[0;34m)\u001b[0m\u001b[0;34m\u001b[0m\u001b[0;34m\u001b[0m\u001b[0m\n\u001b[0;32m-> 1807\u001b[0;31m                             \u001b[0mtmp_logs\u001b[0m \u001b[0;34m=\u001b[0m \u001b[0mself\u001b[0m\u001b[0;34m.\u001b[0m\u001b[0mtrain_function\u001b[0m\u001b[0;34m(\u001b[0m\u001b[0miterator\u001b[0m\u001b[0;34m)\u001b[0m\u001b[0;34m\u001b[0m\u001b[0;34m\u001b[0m\u001b[0m\n\u001b[0m\u001b[1;32m   1808\u001b[0m                             \u001b[0;32mif\u001b[0m \u001b[0mdata_handler\u001b[0m\u001b[0;34m.\u001b[0m\u001b[0mshould_sync\u001b[0m\u001b[0;34m:\u001b[0m\u001b[0;34m\u001b[0m\u001b[0;34m\u001b[0m\u001b[0m\n\u001b[1;32m   1809\u001b[0m                                 \u001b[0mcontext\u001b[0m\u001b[0;34m.\u001b[0m\u001b[0masync_wait\u001b[0m\u001b[0;34m(\u001b[0m\u001b[0;34m)\u001b[0m\u001b[0;34m\u001b[0m\u001b[0;34m\u001b[0m\u001b[0m\n",
            "\u001b[0;32m/usr/local/lib/python3.10/dist-packages/tensorflow/python/util/traceback_utils.py\u001b[0m in \u001b[0;36merror_handler\u001b[0;34m(*args, **kwargs)\u001b[0m\n\u001b[1;32m    148\u001b[0m     \u001b[0mfiltered_tb\u001b[0m \u001b[0;34m=\u001b[0m \u001b[0;32mNone\u001b[0m\u001b[0;34m\u001b[0m\u001b[0;34m\u001b[0m\u001b[0m\n\u001b[1;32m    149\u001b[0m     \u001b[0;32mtry\u001b[0m\u001b[0;34m:\u001b[0m\u001b[0;34m\u001b[0m\u001b[0;34m\u001b[0m\u001b[0m\n\u001b[0;32m--> 150\u001b[0;31m       \u001b[0;32mreturn\u001b[0m \u001b[0mfn\u001b[0m\u001b[0;34m(\u001b[0m\u001b[0;34m*\u001b[0m\u001b[0margs\u001b[0m\u001b[0;34m,\u001b[0m \u001b[0;34m**\u001b[0m\u001b[0mkwargs\u001b[0m\u001b[0;34m)\u001b[0m\u001b[0;34m\u001b[0m\u001b[0;34m\u001b[0m\u001b[0m\n\u001b[0m\u001b[1;32m    151\u001b[0m     \u001b[0;32mexcept\u001b[0m \u001b[0mException\u001b[0m \u001b[0;32mas\u001b[0m \u001b[0me\u001b[0m\u001b[0;34m:\u001b[0m\u001b[0;34m\u001b[0m\u001b[0;34m\u001b[0m\u001b[0m\n\u001b[1;32m    152\u001b[0m       \u001b[0mfiltered_tb\u001b[0m \u001b[0;34m=\u001b[0m \u001b[0m_process_traceback_frames\u001b[0m\u001b[0;34m(\u001b[0m\u001b[0me\u001b[0m\u001b[0;34m.\u001b[0m\u001b[0m__traceback__\u001b[0m\u001b[0;34m)\u001b[0m\u001b[0;34m\u001b[0m\u001b[0;34m\u001b[0m\u001b[0m\n",
            "\u001b[0;32m/usr/local/lib/python3.10/dist-packages/tensorflow/python/eager/polymorphic_function/polymorphic_function.py\u001b[0m in \u001b[0;36m__call__\u001b[0;34m(self, *args, **kwds)\u001b[0m\n\u001b[1;32m    830\u001b[0m \u001b[0;34m\u001b[0m\u001b[0m\n\u001b[1;32m    831\u001b[0m       \u001b[0;32mwith\u001b[0m \u001b[0mOptionalXlaContext\u001b[0m\u001b[0;34m(\u001b[0m\u001b[0mself\u001b[0m\u001b[0;34m.\u001b[0m\u001b[0m_jit_compile\u001b[0m\u001b[0;34m)\u001b[0m\u001b[0;34m:\u001b[0m\u001b[0;34m\u001b[0m\u001b[0;34m\u001b[0m\u001b[0m\n\u001b[0;32m--> 832\u001b[0;31m         \u001b[0mresult\u001b[0m \u001b[0;34m=\u001b[0m \u001b[0mself\u001b[0m\u001b[0;34m.\u001b[0m\u001b[0m_call\u001b[0m\u001b[0;34m(\u001b[0m\u001b[0;34m*\u001b[0m\u001b[0margs\u001b[0m\u001b[0;34m,\u001b[0m \u001b[0;34m**\u001b[0m\u001b[0mkwds\u001b[0m\u001b[0;34m)\u001b[0m\u001b[0;34m\u001b[0m\u001b[0;34m\u001b[0m\u001b[0m\n\u001b[0m\u001b[1;32m    833\u001b[0m \u001b[0;34m\u001b[0m\u001b[0m\n\u001b[1;32m    834\u001b[0m       \u001b[0mnew_tracing_count\u001b[0m \u001b[0;34m=\u001b[0m \u001b[0mself\u001b[0m\u001b[0;34m.\u001b[0m\u001b[0mexperimental_get_tracing_count\u001b[0m\u001b[0;34m(\u001b[0m\u001b[0;34m)\u001b[0m\u001b[0;34m\u001b[0m\u001b[0;34m\u001b[0m\u001b[0m\n",
            "\u001b[0;32m/usr/local/lib/python3.10/dist-packages/tensorflow/python/eager/polymorphic_function/polymorphic_function.py\u001b[0m in \u001b[0;36m_call\u001b[0;34m(self, *args, **kwds)\u001b[0m\n\u001b[1;32m    866\u001b[0m       \u001b[0;31m# In this case we have created variables on the first call, so we run the\u001b[0m\u001b[0;34m\u001b[0m\u001b[0;34m\u001b[0m\u001b[0m\n\u001b[1;32m    867\u001b[0m       \u001b[0;31m# defunned version which is guaranteed to never create variables.\u001b[0m\u001b[0;34m\u001b[0m\u001b[0;34m\u001b[0m\u001b[0m\n\u001b[0;32m--> 868\u001b[0;31m       return tracing_compilation.call_function(\n\u001b[0m\u001b[1;32m    869\u001b[0m           \u001b[0margs\u001b[0m\u001b[0;34m,\u001b[0m \u001b[0mkwds\u001b[0m\u001b[0;34m,\u001b[0m \u001b[0mself\u001b[0m\u001b[0;34m.\u001b[0m\u001b[0m_no_variable_creation_config\u001b[0m\u001b[0;34m\u001b[0m\u001b[0;34m\u001b[0m\u001b[0m\n\u001b[1;32m    870\u001b[0m       )\n",
            "\u001b[0;32m/usr/local/lib/python3.10/dist-packages/tensorflow/python/eager/polymorphic_function/tracing_compilation.py\u001b[0m in \u001b[0;36mcall_function\u001b[0;34m(args, kwargs, tracing_options)\u001b[0m\n\u001b[1;32m    137\u001b[0m   \u001b[0mbound_args\u001b[0m \u001b[0;34m=\u001b[0m \u001b[0mfunction\u001b[0m\u001b[0;34m.\u001b[0m\u001b[0mfunction_type\u001b[0m\u001b[0;34m.\u001b[0m\u001b[0mbind\u001b[0m\u001b[0;34m(\u001b[0m\u001b[0;34m*\u001b[0m\u001b[0margs\u001b[0m\u001b[0;34m,\u001b[0m \u001b[0;34m**\u001b[0m\u001b[0mkwargs\u001b[0m\u001b[0;34m)\u001b[0m\u001b[0;34m\u001b[0m\u001b[0;34m\u001b[0m\u001b[0m\n\u001b[1;32m    138\u001b[0m   \u001b[0mflat_inputs\u001b[0m \u001b[0;34m=\u001b[0m \u001b[0mfunction\u001b[0m\u001b[0;34m.\u001b[0m\u001b[0mfunction_type\u001b[0m\u001b[0;34m.\u001b[0m\u001b[0munpack_inputs\u001b[0m\u001b[0;34m(\u001b[0m\u001b[0mbound_args\u001b[0m\u001b[0;34m)\u001b[0m\u001b[0;34m\u001b[0m\u001b[0;34m\u001b[0m\u001b[0m\n\u001b[0;32m--> 139\u001b[0;31m   return function._call_flat(  # pylint: disable=protected-access\n\u001b[0m\u001b[1;32m    140\u001b[0m       \u001b[0mflat_inputs\u001b[0m\u001b[0;34m,\u001b[0m \u001b[0mcaptured_inputs\u001b[0m\u001b[0;34m=\u001b[0m\u001b[0mfunction\u001b[0m\u001b[0;34m.\u001b[0m\u001b[0mcaptured_inputs\u001b[0m\u001b[0;34m\u001b[0m\u001b[0;34m\u001b[0m\u001b[0m\n\u001b[1;32m    141\u001b[0m   )\n",
            "\u001b[0;32m/usr/local/lib/python3.10/dist-packages/tensorflow/python/eager/polymorphic_function/concrete_function.py\u001b[0m in \u001b[0;36m_call_flat\u001b[0;34m(self, tensor_inputs, captured_inputs)\u001b[0m\n\u001b[1;32m   1321\u001b[0m         and executing_eagerly):\n\u001b[1;32m   1322\u001b[0m       \u001b[0;31m# No tape is watching; skip to running the function.\u001b[0m\u001b[0;34m\u001b[0m\u001b[0;34m\u001b[0m\u001b[0m\n\u001b[0;32m-> 1323\u001b[0;31m       \u001b[0;32mreturn\u001b[0m \u001b[0mself\u001b[0m\u001b[0;34m.\u001b[0m\u001b[0m_inference_function\u001b[0m\u001b[0;34m.\u001b[0m\u001b[0mcall_preflattened\u001b[0m\u001b[0;34m(\u001b[0m\u001b[0margs\u001b[0m\u001b[0;34m)\u001b[0m\u001b[0;34m\u001b[0m\u001b[0;34m\u001b[0m\u001b[0m\n\u001b[0m\u001b[1;32m   1324\u001b[0m     forward_backward = self._select_forward_and_backward_functions(\n\u001b[1;32m   1325\u001b[0m         \u001b[0margs\u001b[0m\u001b[0;34m,\u001b[0m\u001b[0;34m\u001b[0m\u001b[0;34m\u001b[0m\u001b[0m\n",
            "\u001b[0;32m/usr/local/lib/python3.10/dist-packages/tensorflow/python/eager/polymorphic_function/atomic_function.py\u001b[0m in \u001b[0;36mcall_preflattened\u001b[0;34m(self, args)\u001b[0m\n\u001b[1;32m    214\u001b[0m   \u001b[0;32mdef\u001b[0m \u001b[0mcall_preflattened\u001b[0m\u001b[0;34m(\u001b[0m\u001b[0mself\u001b[0m\u001b[0;34m,\u001b[0m \u001b[0margs\u001b[0m\u001b[0;34m:\u001b[0m \u001b[0mSequence\u001b[0m\u001b[0;34m[\u001b[0m\u001b[0mcore\u001b[0m\u001b[0;34m.\u001b[0m\u001b[0mTensor\u001b[0m\u001b[0;34m]\u001b[0m\u001b[0;34m)\u001b[0m \u001b[0;34m->\u001b[0m \u001b[0mAny\u001b[0m\u001b[0;34m:\u001b[0m\u001b[0;34m\u001b[0m\u001b[0;34m\u001b[0m\u001b[0m\n\u001b[1;32m    215\u001b[0m     \u001b[0;34m\"\"\"Calls with flattened tensor inputs and returns the structured output.\"\"\"\u001b[0m\u001b[0;34m\u001b[0m\u001b[0;34m\u001b[0m\u001b[0m\n\u001b[0;32m--> 216\u001b[0;31m     \u001b[0mflat_outputs\u001b[0m \u001b[0;34m=\u001b[0m \u001b[0mself\u001b[0m\u001b[0;34m.\u001b[0m\u001b[0mcall_flat\u001b[0m\u001b[0;34m(\u001b[0m\u001b[0;34m*\u001b[0m\u001b[0margs\u001b[0m\u001b[0;34m)\u001b[0m\u001b[0;34m\u001b[0m\u001b[0;34m\u001b[0m\u001b[0m\n\u001b[0m\u001b[1;32m    217\u001b[0m     \u001b[0;32mreturn\u001b[0m \u001b[0mself\u001b[0m\u001b[0;34m.\u001b[0m\u001b[0mfunction_type\u001b[0m\u001b[0;34m.\u001b[0m\u001b[0mpack_output\u001b[0m\u001b[0;34m(\u001b[0m\u001b[0mflat_outputs\u001b[0m\u001b[0;34m)\u001b[0m\u001b[0;34m\u001b[0m\u001b[0;34m\u001b[0m\u001b[0m\n\u001b[1;32m    218\u001b[0m \u001b[0;34m\u001b[0m\u001b[0m\n",
            "\u001b[0;32m/usr/local/lib/python3.10/dist-packages/tensorflow/python/eager/polymorphic_function/atomic_function.py\u001b[0m in \u001b[0;36mcall_flat\u001b[0;34m(self, *args)\u001b[0m\n\u001b[1;32m    249\u001b[0m         \u001b[0;32mwith\u001b[0m \u001b[0mrecord\u001b[0m\u001b[0;34m.\u001b[0m\u001b[0mstop_recording\u001b[0m\u001b[0;34m(\u001b[0m\u001b[0;34m)\u001b[0m\u001b[0;34m:\u001b[0m\u001b[0;34m\u001b[0m\u001b[0;34m\u001b[0m\u001b[0m\n\u001b[1;32m    250\u001b[0m           \u001b[0;32mif\u001b[0m \u001b[0mself\u001b[0m\u001b[0;34m.\u001b[0m\u001b[0m_bound_context\u001b[0m\u001b[0;34m.\u001b[0m\u001b[0mexecuting_eagerly\u001b[0m\u001b[0;34m(\u001b[0m\u001b[0;34m)\u001b[0m\u001b[0;34m:\u001b[0m\u001b[0;34m\u001b[0m\u001b[0;34m\u001b[0m\u001b[0m\n\u001b[0;32m--> 251\u001b[0;31m             outputs = self._bound_context.call_function(\n\u001b[0m\u001b[1;32m    252\u001b[0m                 \u001b[0mself\u001b[0m\u001b[0;34m.\u001b[0m\u001b[0mname\u001b[0m\u001b[0;34m,\u001b[0m\u001b[0;34m\u001b[0m\u001b[0;34m\u001b[0m\u001b[0m\n\u001b[1;32m    253\u001b[0m                 \u001b[0mlist\u001b[0m\u001b[0;34m(\u001b[0m\u001b[0margs\u001b[0m\u001b[0;34m)\u001b[0m\u001b[0;34m,\u001b[0m\u001b[0;34m\u001b[0m\u001b[0;34m\u001b[0m\u001b[0m\n",
            "\u001b[0;32m/usr/local/lib/python3.10/dist-packages/tensorflow/python/eager/context.py\u001b[0m in \u001b[0;36mcall_function\u001b[0;34m(self, name, tensor_inputs, num_outputs)\u001b[0m\n\u001b[1;32m   1484\u001b[0m     \u001b[0mcancellation_context\u001b[0m \u001b[0;34m=\u001b[0m \u001b[0mcancellation\u001b[0m\u001b[0;34m.\u001b[0m\u001b[0mcontext\u001b[0m\u001b[0;34m(\u001b[0m\u001b[0;34m)\u001b[0m\u001b[0;34m\u001b[0m\u001b[0;34m\u001b[0m\u001b[0m\n\u001b[1;32m   1485\u001b[0m     \u001b[0;32mif\u001b[0m \u001b[0mcancellation_context\u001b[0m \u001b[0;32mis\u001b[0m \u001b[0;32mNone\u001b[0m\u001b[0;34m:\u001b[0m\u001b[0;34m\u001b[0m\u001b[0;34m\u001b[0m\u001b[0m\n\u001b[0;32m-> 1486\u001b[0;31m       outputs = execute.execute(\n\u001b[0m\u001b[1;32m   1487\u001b[0m           \u001b[0mname\u001b[0m\u001b[0;34m.\u001b[0m\u001b[0mdecode\u001b[0m\u001b[0;34m(\u001b[0m\u001b[0;34m\"utf-8\"\u001b[0m\u001b[0;34m)\u001b[0m\u001b[0;34m,\u001b[0m\u001b[0;34m\u001b[0m\u001b[0;34m\u001b[0m\u001b[0m\n\u001b[1;32m   1488\u001b[0m           \u001b[0mnum_outputs\u001b[0m\u001b[0;34m=\u001b[0m\u001b[0mnum_outputs\u001b[0m\u001b[0;34m,\u001b[0m\u001b[0;34m\u001b[0m\u001b[0;34m\u001b[0m\u001b[0m\n",
            "\u001b[0;32m/usr/local/lib/python3.10/dist-packages/tensorflow/python/eager/execute.py\u001b[0m in \u001b[0;36mquick_execute\u001b[0;34m(op_name, num_outputs, inputs, attrs, ctx, name)\u001b[0m\n\u001b[1;32m     51\u001b[0m   \u001b[0;32mtry\u001b[0m\u001b[0;34m:\u001b[0m\u001b[0;34m\u001b[0m\u001b[0;34m\u001b[0m\u001b[0m\n\u001b[1;32m     52\u001b[0m     \u001b[0mctx\u001b[0m\u001b[0;34m.\u001b[0m\u001b[0mensure_initialized\u001b[0m\u001b[0;34m(\u001b[0m\u001b[0;34m)\u001b[0m\u001b[0;34m\u001b[0m\u001b[0;34m\u001b[0m\u001b[0m\n\u001b[0;32m---> 53\u001b[0;31m     tensors = pywrap_tfe.TFE_Py_Execute(ctx._handle, device_name, op_name,\n\u001b[0m\u001b[1;32m     54\u001b[0m                                         inputs, attrs, num_outputs)\n\u001b[1;32m     55\u001b[0m   \u001b[0;32mexcept\u001b[0m \u001b[0mcore\u001b[0m\u001b[0;34m.\u001b[0m\u001b[0m_NotOkStatusException\u001b[0m \u001b[0;32mas\u001b[0m \u001b[0me\u001b[0m\u001b[0;34m:\u001b[0m\u001b[0;34m\u001b[0m\u001b[0;34m\u001b[0m\u001b[0m\n",
            "\u001b[0;31mKeyboardInterrupt\u001b[0m: "
          ]
        }
      ],
      "source": [
        "# history = model.fit_generator(generator = generate_batch(X_train, y_train, batch_size = batch_size),\n",
        "#                     steps_per_epoch = train_samples//batch_size,\n",
        "#                     epochs=epochs,\n",
        "#                     validation_data = generate_batch(X_test, y_test, batch_size = batch_size),\n",
        "#                     validation_steps = val_samples//batch_size)\n",
        "\n",
        "history = model.fit(generate_batch(X_train, y_train, batch_size=batch_size),\n",
        "                    steps_per_epoch=train_samples // batch_size,\n",
        "                    epochs=epochs,\n",
        "                    validation_data=generate_batch(X_test, y_test, batch_size=batch_size),\n",
        "                    validation_steps=val_samples // batch_size,\n",
        "                     callbacks=[model_checkpoint_callback])\n"
      ]
    },
    {
      "cell_type": "code",
      "execution_count": null,
      "metadata": {
        "id": "au-9wM1uI0Eh"
      },
      "outputs": [],
      "source": [
        "# model.save_weights(r'/content/drive/MyDrive/Honours-DL/Translation/Translation-Transformer-1-MR-EN.h5')"
      ]
    },
    {
      "cell_type": "code",
      "source": [
        "model.load_weights(r'/content/drive/MyDrive/Honours-DL/Translation/temp.h5')"
      ],
      "metadata": {
        "id": "oXkTy0E9m2RU"
      },
      "execution_count": null,
      "outputs": []
    },
    {
      "cell_type": "code",
      "source": [
        "import tensorflow as tf\n",
        "model = tf.keras.models.load_model(r'/content/drive/MyDrive/Honours-DL/Translation/Translation-Transformer-1-MR-EN-2.h5')"
      ],
      "metadata": {
        "id": "2ftGf1op2_nL"
      },
      "execution_count": null,
      "outputs": []
    },
    {
      "cell_type": "code",
      "execution_count": null,
      "metadata": {
        "id": "_R0WggWSALPz"
      },
      "outputs": [],
      "source": [
        "model.save(r'/content/drive/MyDrive/Honours-DL/Translation/Translation-Transformer-1-MR-EN-complete-sub-word.h5')"
      ]
    },
    {
      "cell_type": "code",
      "execution_count": null,
      "metadata": {
        "id": "yFzS_ZHcB2Hj"
      },
      "outputs": [],
      "source": [
        "import tensorflow as tf\n",
        "model = tf.keras.models.load_model(checkpoint_filepath)"
      ]
    },
    {
      "cell_type": "code",
      "execution_count": null,
      "metadata": {
        "id": "zfY5jBnIJB3T",
        "colab": {
          "base_uri": "https://localhost:8080/",
          "height": 495
        },
        "outputId": "5c2cd700-4b92-4114-e18b-5a020b5ddabe"
      },
      "outputs": [
        {
          "output_type": "error",
          "ename": "ValueError",
          "evalue": "Exception encountered when calling layer \"lstm_5\" (type LSTM).\n\nDimensions must be equal, but are 128 and 256 for '{{node MatMul_1}} = MatMul[T=DT_FLOAT, transpose_a=false, transpose_b=false](init_h, recurrent_kernel)' with input shapes: [?,128], [256,1024].\n\nCall arguments received by layer \"lstm_5\" (type LSTM):\n  • inputs=['tf.Tensor(shape=(None, None, 128), dtype=float32)', 'tf.Tensor(shape=(None, 128), dtype=float32)', 'tf.Tensor(shape=(None, 128), dtype=float32)']\n  • mask=['tf.Tensor(shape=(None, None), dtype=bool)', 'None', 'None']\n  • training=None\n  • initial_state=None",
          "traceback": [
            "\u001b[0;31m---------------------------------------------------------------------------\u001b[0m",
            "\u001b[0;31mValueError\u001b[0m                                Traceback (most recent call last)",
            "\u001b[0;32m<ipython-input-139-a4995ea0fd1a>\u001b[0m in \u001b[0;36m<cell line: 12>\u001b[0;34m()\u001b[0m\n\u001b[1;32m     10\u001b[0m \u001b[0mdec_emb2\u001b[0m\u001b[0;34m=\u001b[0m \u001b[0mdec_emb_layer\u001b[0m\u001b[0;34m(\u001b[0m\u001b[0mdecoder_inputs\u001b[0m\u001b[0;34m)\u001b[0m \u001b[0;31m# Get the embeddings of the decoder sequence\u001b[0m\u001b[0;34m\u001b[0m\u001b[0;34m\u001b[0m\u001b[0m\n\u001b[1;32m     11\u001b[0m \u001b[0;31m# To predict the next word in the sequence, set the initial states to the states from the previous time step\u001b[0m\u001b[0;34m\u001b[0m\u001b[0;34m\u001b[0m\u001b[0m\n\u001b[0;32m---> 12\u001b[0;31m \u001b[0mdecoder_outputs2\u001b[0m\u001b[0;34m,\u001b[0m \u001b[0mstate_h2\u001b[0m\u001b[0;34m,\u001b[0m \u001b[0mstate_c2\u001b[0m \u001b[0;34m=\u001b[0m \u001b[0mdecoder_lstm\u001b[0m\u001b[0;34m(\u001b[0m\u001b[0mdec_emb2\u001b[0m\u001b[0;34m,\u001b[0m \u001b[0minitial_state\u001b[0m\u001b[0;34m=\u001b[0m\u001b[0mdecoder_states_inputs\u001b[0m\u001b[0;34m)\u001b[0m\u001b[0;34m\u001b[0m\u001b[0;34m\u001b[0m\u001b[0m\n\u001b[0m\u001b[1;32m     13\u001b[0m \u001b[0mdecoder_states2\u001b[0m \u001b[0;34m=\u001b[0m \u001b[0;34m[\u001b[0m\u001b[0mstate_h2\u001b[0m\u001b[0;34m,\u001b[0m \u001b[0mstate_c2\u001b[0m\u001b[0;34m]\u001b[0m\u001b[0;34m\u001b[0m\u001b[0;34m\u001b[0m\u001b[0m\n\u001b[1;32m     14\u001b[0m \u001b[0mdecoder_outputs2\u001b[0m \u001b[0;34m=\u001b[0m \u001b[0mdecoder_dense\u001b[0m\u001b[0;34m(\u001b[0m\u001b[0mdecoder_outputs2\u001b[0m\u001b[0;34m)\u001b[0m \u001b[0;31m# A dense softmax layer to generate prob dist. over the target vocabulary\u001b[0m\u001b[0;34m\u001b[0m\u001b[0;34m\u001b[0m\u001b[0m\n",
            "\u001b[0;32m/usr/local/lib/python3.10/dist-packages/keras/src/layers/rnn/base_rnn.py\u001b[0m in \u001b[0;36m__call__\u001b[0;34m(self, inputs, initial_state, constants, **kwargs)\u001b[0m\n\u001b[1;32m    613\u001b[0m             \u001b[0;31m# Perform the call with temporarily replaced input_spec\u001b[0m\u001b[0;34m\u001b[0m\u001b[0;34m\u001b[0m\u001b[0m\n\u001b[1;32m    614\u001b[0m             \u001b[0mself\u001b[0m\u001b[0;34m.\u001b[0m\u001b[0minput_spec\u001b[0m \u001b[0;34m=\u001b[0m \u001b[0mfull_input_spec\u001b[0m\u001b[0;34m\u001b[0m\u001b[0;34m\u001b[0m\u001b[0m\n\u001b[0;32m--> 615\u001b[0;31m             \u001b[0moutput\u001b[0m \u001b[0;34m=\u001b[0m \u001b[0msuper\u001b[0m\u001b[0;34m(\u001b[0m\u001b[0;34m)\u001b[0m\u001b[0;34m.\u001b[0m\u001b[0m__call__\u001b[0m\u001b[0;34m(\u001b[0m\u001b[0mfull_input\u001b[0m\u001b[0;34m,\u001b[0m \u001b[0;34m**\u001b[0m\u001b[0mkwargs\u001b[0m\u001b[0;34m)\u001b[0m\u001b[0;34m\u001b[0m\u001b[0;34m\u001b[0m\u001b[0m\n\u001b[0m\u001b[1;32m    616\u001b[0m             \u001b[0;31m# Remove the additional_specs from input spec and keep the rest. It\u001b[0m\u001b[0;34m\u001b[0m\u001b[0;34m\u001b[0m\u001b[0m\n\u001b[1;32m    617\u001b[0m             \u001b[0;31m# is important to keep since the input spec was populated by\u001b[0m\u001b[0;34m\u001b[0m\u001b[0;34m\u001b[0m\u001b[0m\n",
            "\u001b[0;32m/usr/local/lib/python3.10/dist-packages/keras/src/utils/traceback_utils.py\u001b[0m in \u001b[0;36merror_handler\u001b[0;34m(*args, **kwargs)\u001b[0m\n\u001b[1;32m     68\u001b[0m             \u001b[0;31m# To get the full stack trace, call:\u001b[0m\u001b[0;34m\u001b[0m\u001b[0;34m\u001b[0m\u001b[0m\n\u001b[1;32m     69\u001b[0m             \u001b[0;31m# `tf.debugging.disable_traceback_filtering()`\u001b[0m\u001b[0;34m\u001b[0m\u001b[0;34m\u001b[0m\u001b[0m\n\u001b[0;32m---> 70\u001b[0;31m             \u001b[0;32mraise\u001b[0m \u001b[0me\u001b[0m\u001b[0;34m.\u001b[0m\u001b[0mwith_traceback\u001b[0m\u001b[0;34m(\u001b[0m\u001b[0mfiltered_tb\u001b[0m\u001b[0;34m)\u001b[0m \u001b[0;32mfrom\u001b[0m \u001b[0;32mNone\u001b[0m\u001b[0;34m\u001b[0m\u001b[0;34m\u001b[0m\u001b[0m\n\u001b[0m\u001b[1;32m     71\u001b[0m         \u001b[0;32mfinally\u001b[0m\u001b[0;34m:\u001b[0m\u001b[0;34m\u001b[0m\u001b[0;34m\u001b[0m\u001b[0m\n\u001b[1;32m     72\u001b[0m             \u001b[0;32mdel\u001b[0m \u001b[0mfiltered_tb\u001b[0m\u001b[0;34m\u001b[0m\u001b[0;34m\u001b[0m\u001b[0m\n",
            "\u001b[0;32m/usr/local/lib/python3.10/dist-packages/keras/src/backend.py\u001b[0m in \u001b[0;36mdot\u001b[0;34m(x, y)\u001b[0m\n\u001b[1;32m   2461\u001b[0m         \u001b[0mout\u001b[0m \u001b[0;34m=\u001b[0m \u001b[0mtf\u001b[0m\u001b[0;34m.\u001b[0m\u001b[0msparse\u001b[0m\u001b[0;34m.\u001b[0m\u001b[0msparse_dense_matmul\u001b[0m\u001b[0;34m(\u001b[0m\u001b[0mx\u001b[0m\u001b[0;34m,\u001b[0m \u001b[0my\u001b[0m\u001b[0;34m)\u001b[0m\u001b[0;34m\u001b[0m\u001b[0;34m\u001b[0m\u001b[0m\n\u001b[1;32m   2462\u001b[0m     \u001b[0;32melse\u001b[0m\u001b[0;34m:\u001b[0m\u001b[0;34m\u001b[0m\u001b[0;34m\u001b[0m\u001b[0m\n\u001b[0;32m-> 2463\u001b[0;31m         \u001b[0mout\u001b[0m \u001b[0;34m=\u001b[0m \u001b[0mtf\u001b[0m\u001b[0;34m.\u001b[0m\u001b[0mmatmul\u001b[0m\u001b[0;34m(\u001b[0m\u001b[0mx\u001b[0m\u001b[0;34m,\u001b[0m \u001b[0my\u001b[0m\u001b[0;34m)\u001b[0m\u001b[0;34m\u001b[0m\u001b[0;34m\u001b[0m\u001b[0m\n\u001b[0m\u001b[1;32m   2464\u001b[0m     \u001b[0;32mreturn\u001b[0m \u001b[0mout\u001b[0m\u001b[0;34m\u001b[0m\u001b[0;34m\u001b[0m\u001b[0m\n\u001b[1;32m   2465\u001b[0m \u001b[0;34m\u001b[0m\u001b[0m\n",
            "\u001b[0;31mValueError\u001b[0m: Exception encountered when calling layer \"lstm_5\" (type LSTM).\n\nDimensions must be equal, but are 128 and 256 for '{{node MatMul_1}} = MatMul[T=DT_FLOAT, transpose_a=false, transpose_b=false](init_h, recurrent_kernel)' with input shapes: [?,128], [256,1024].\n\nCall arguments received by layer \"lstm_5\" (type LSTM):\n  • inputs=['tf.Tensor(shape=(None, None, 128), dtype=float32)', 'tf.Tensor(shape=(None, 128), dtype=float32)', 'tf.Tensor(shape=(None, 128), dtype=float32)']\n  • mask=['tf.Tensor(shape=(None, None), dtype=bool)', 'None', 'None']\n  • training=None\n  • initial_state=None"
          ]
        }
      ],
      "source": [
        "# Encode the input sequence to get the \"thought vectors\"\n",
        "encoder_model = Model(encoder_inputs, encoder_states)\n",
        "\n",
        "# Decoder setup\n",
        "# Below tensors will hold the states of the previous time step\n",
        "decoder_state_input_h = Input(shape=(latent_dim,))\n",
        "decoder_state_input_c = Input(shape=(latent_dim,))\n",
        "decoder_states_inputs = [decoder_state_input_h, decoder_state_input_c]\n",
        "\n",
        "dec_emb2= dec_emb_layer(decoder_inputs) # Get the embeddings of the decoder sequence\n",
        "# To predict the next word in the sequence, set the initial states to the states from the previous time step\n",
        "decoder_outputs2, state_h2, state_c2 = decoder_lstm(dec_emb2, initial_state=decoder_states_inputs)\n",
        "decoder_states2 = [state_h2, state_c2]\n",
        "decoder_outputs2 = decoder_dense(decoder_outputs2) # A dense softmax layer to generate prob dist. over the target vocabulary\n",
        "\n",
        "# Final decoder model\n",
        "decoder_model = Model(\n",
        "    [decoder_inputs] + decoder_states_inputs,\n",
        "    [decoder_outputs2] + decoder_states2)"
      ]
    },
    {
      "cell_type": "code",
      "source": [
        "encoder_model = Model(encoder_inputs, encoder_states)\n",
        "\n",
        "decoder_state_input_h = Input(shape=(latent_dim*2,))\n",
        "decoder_state_input_c = Input(shape=(latent_dim*2,))\n",
        "decoder_states_inputs = [decoder_state_input_h, decoder_state_input_c]\n",
        "print(decoder_states_inputs)\n",
        "\n",
        "# Use the same embedding layer initialized previously for subword tokenization\n",
        "dec_emb2 = dec_emb_layer(decoder_inputs)\n",
        "\n",
        "decoder_outputs2, state_h2, state_c2 = decoder_lstm(dec_emb2, initial_state=decoder_states_inputs)\n",
        "decoder_states2 = [state_h2, state_c2]\n",
        "decoder_outputs2 = decoder_dense(decoder_outputs2)  # A dense softmax layer to generate prob dist. over the target vocabulary\n",
        "\n",
        "decoder_model = Model(\n",
        "    [decoder_inputs] + decoder_states_inputs,\n",
        "    [decoder_outputs2] + decoder_states2)\n"
      ],
      "metadata": {
        "id": "738ZdhShCqUE",
        "colab": {
          "base_uri": "https://localhost:8080/"
        },
        "outputId": "7823a4d9-5fdd-4cd8-e7da-a75416d375ff"
      },
      "execution_count": null,
      "outputs": [
        {
          "output_type": "stream",
          "name": "stdout",
          "text": [
            "[<KerasTensor: shape=(None, 256) dtype=float32 (created by layer 'input_21')>, <KerasTensor: shape=(None, 256) dtype=float32 (created by layer 'input_22')>]\n"
          ]
        }
      ]
    },
    {
      "cell_type": "code",
      "source": [
        "def decode_sequence(input_seq):\n",
        "    # Encode the input as state vectors.\n",
        "    states_value = encoder_model.predict(input_seq)\n",
        "\n",
        "    # return len(states_value), len(states_value[0]), len(states_value[1])\n",
        "    # Generate empty target sequence of length 1.\n",
        "    target_seq = np.zeros((1,1))\n",
        "\n",
        "    # Populate the first character of target sequence with the start character.\n",
        "    target_seq[0, 0] = target_token_index['START_']\n",
        "\n",
        "    # Sampling loop for a batch of sequences\n",
        "    # (to simplify, here we assume a batch of size 1).\n",
        "    stop_condition = False\n",
        "    decoded_sentence = ''\n",
        "\n",
        "    while not stop_condition:\n",
        "        output_tokens, h, c = decoder_model.predict([target_seq] + states_value)\n",
        "\n",
        "        # Sample a token\n",
        "        sampled_token_index = np.argmax(output_tokens[0, -1, :])\n",
        "\n",
        "        sampled_char = reverse_target_char_index[sampled_token_index]\n",
        "        decoded_sentence += ' '+sampled_char\n",
        "\n",
        "        # Exit condition: either hit max length\n",
        "        # or find stop character.\n",
        "        if (sampled_char == '_END' or\n",
        "           len(decoded_sentence) > 100):\n",
        "            stop_condition = True\n",
        "\n",
        "        # Update the target sequence (of length 1).\n",
        "        target_seq = np.zeros((1,1))\n",
        "        target_seq[0, 0] = sampled_token_index\n",
        "\n",
        "        # Update states\n",
        "        states_value = [h, c]\n",
        "\n",
        "    return decoded_sentence"
      ],
      "metadata": {
        "id": "A9Iweta6vRgd"
      },
      "execution_count": null,
      "outputs": []
    },
    {
      "cell_type": "code",
      "execution_count": null,
      "metadata": {
        "id": "PQeJ9vghJCYt"
      },
      "outputs": [],
      "source": [
        "def decode_sequence(input_seq):\n",
        "    # Encode the input as state vectors.\n",
        "    states_value = encoder_model.predict(input_seq)\n",
        "    # Generate empty target sequence of length 1.\n",
        "    target_seq = np.zeros((1,1))\n",
        "    # Populate the first character of target sequence with the start character.\n",
        "    target_seq[0, 0] = target_token_index['START_']\n",
        "\n",
        "    # Sampling loop for a batch of sequences\n",
        "    # (to simplify, here we assume a batch of size 1).\n",
        "    stop_condition = False\n",
        "    decoded_sentence = ''\n",
        "    while not stop_condition:\n",
        "        output_tokens, h, c = decoder_model.predict([target_seq] + states_value)\n",
        "\n",
        "        # Sample a token\n",
        "        sampled_token_index = np.argmax(output_tokens[0, -1, :])\n",
        "        sampled_char = reverse_target_char_index[sampled_token_index]\n",
        "        decoded_sentence += ' '+sampled_char\n",
        "\n",
        "        # Exit condition: either hit max length\n",
        "        # or find stop character.\n",
        "        if (sampled_char == '_END' or\n",
        "           len(decoded_sentence) > 100):\n",
        "            stop_condition = True\n",
        "\n",
        "        # Update the target sequence (of length 1).\n",
        "        target_seq = np.zeros((1,1))\n",
        "        target_seq[0, 0] = sampled_token_index\n",
        "\n",
        "        # Update states\n",
        "        states_value = [h, c]\n",
        "\n",
        "    return decoded_sentence"
      ]
    },
    {
      "cell_type": "code",
      "source": [
        "def decode_sequence(input_seq):\n",
        "    # Encode the input as state vectors.\n",
        "    states_value = encoder_model.predict(input_seq)\n",
        "\n",
        "    # Generate empty target sequence of length 1.\n",
        "    target_seq = np.zeros((1, 1))\n",
        "\n",
        "    # Populate the first subword token of target sequence with the start token.\n",
        "    target_seq[0, 0] = target_token_index['START_']\n",
        "\n",
        "    # Initialize an empty decoded sentence\n",
        "    decoded_sentence = ''\n",
        "\n",
        "    # Sampling loop for a sequence\n",
        "    stop_condition = False\n",
        "    while not stop_condition:\n",
        "        # Predict the next subword token\n",
        "        output_tokens, h, c = decoder_model.predict([target_seq] + states_value)\n",
        "\n",
        "        # Sample a token index\n",
        "        sampled_token_index = np.argmax(output_tokens[0, -1, :])\n",
        "\n",
        "        # Map the sampled token index to the subword token\n",
        "        sampled_subword = reverse_target_char_index[sampled_token_index]\n",
        "\n",
        "        # Append the subword to the decoded sentence\n",
        "        decoded_sentence += sampled_subword\n",
        "\n",
        "        # Exit condition: either hit max length or find stop token\n",
        "        if (sampled_subword == '_END' or len(decoded_sentence) > 100):\n",
        "            stop_condition = True\n",
        "\n",
        "        # Update the target sequence to contain the sampled token for the next iteration\n",
        "        target_seq = np.zeros((1, 1))\n",
        "        target_seq[0, 0] = sampled_token_index\n",
        "\n",
        "        # Update states\n",
        "        states_value = [h, c]\n",
        "\n",
        "    return decoded_sentence\n"
      ],
      "metadata": {
        "id": "V8gcMKTPEMjz"
      },
      "execution_count": null,
      "outputs": []
    },
    {
      "cell_type": "code",
      "execution_count": null,
      "metadata": {
        "id": "eGMFIcbDJHNf"
      },
      "outputs": [],
      "source": [
        "train_gen = generate_batch(X_train, y_train, batch_size = 1)\n",
        "k=-1"
      ]
    },
    {
      "cell_type": "code",
      "execution_count": null,
      "metadata": {
        "colab": {
          "base_uri": "https://localhost:8080/"
        },
        "id": "q8dh7BnIJNyW",
        "outputId": "c0328412-b64a-4dce-f77c-a69f6815c047"
      },
      "outputs": [
        {
          "output_type": "stream",
          "name": "stdout",
          "text": [
            "[[27425. 31179. 37389.  4938.  3197. 14536. 26699. 12611.     0.     0.\n",
            "      0.     0.     0.     0.     0.     0.     0.     0.     0.     0.]]\n",
            "1/1 [==============================] - 0s 34ms/step\n",
            "1/1 [==============================] - 0s 30ms/step\n",
            "1/1 [==============================] - 0s 25ms/step\n",
            "1/1 [==============================] - 0s 25ms/step\n",
            "1/1 [==============================] - 0s 26ms/step\n",
            "1/1 [==============================] - 0s 28ms/step\n",
            "1/1 [==============================] - 0s 27ms/step\n",
            "1/1 [==============================] - 0s 26ms/step\n",
            "Input Marathi sentence: या विकृत हत्येतील एका आरोपीचा तुरुंगात मृत्यू झाला\n",
            "Actual English Translation:  one accused died in jail \n",
            "Predicted English Translation:  one of people have been arrested _END\n"
          ]
        }
      ],
      "source": [
        "k+=1\n",
        "(input_seq, actual_output), _ = next(train_gen)\n",
        "print(input_seq)\n",
        "decoded_sentence = decode_sequence(input_seq)\n",
        "print('Input Marathi sentence:', X_train[k:k+1].values[0])\n",
        "print('Actual English Translation:', y_train[k:k+1].values[0][6:-4])\n",
        "print('Predicted English Translation:', decoded_sentence)"
      ]
    }
  ],
  "metadata": {
    "colab": {
      "provenance": []
    },
    "kernelspec": {
      "display_name": "Python 3",
      "name": "python3"
    },
    "language_info": {
      "name": "python"
    },
    "widgets": {
      "application/vnd.jupyter.widget-state+json": {
        "919876ba8be847a0b8e697154e1eb3ae": {
          "model_module": "@jupyter-widgets/controls",
          "model_name": "HBoxModel",
          "model_module_version": "1.5.0",
          "state": {
            "_dom_classes": [],
            "_model_module": "@jupyter-widgets/controls",
            "_model_module_version": "1.5.0",
            "_model_name": "HBoxModel",
            "_view_count": null,
            "_view_module": "@jupyter-widgets/controls",
            "_view_module_version": "1.5.0",
            "_view_name": "HBoxView",
            "box_style": "",
            "children": [
              "IPY_MODEL_43fd53827ede43e9b2056105bd3e48ba",
              "IPY_MODEL_a6ad210d1d56463f9feca83b49030c11",
              "IPY_MODEL_98fb81c7cf484eecaa82d69ea2d70fa5"
            ],
            "layout": "IPY_MODEL_4b7f4c65600d4971a95d2baa7d520a7c"
          }
        },
        "43fd53827ede43e9b2056105bd3e48ba": {
          "model_module": "@jupyter-widgets/controls",
          "model_name": "HTMLModel",
          "model_module_version": "1.5.0",
          "state": {
            "_dom_classes": [],
            "_model_module": "@jupyter-widgets/controls",
            "_model_module_version": "1.5.0",
            "_model_name": "HTMLModel",
            "_view_count": null,
            "_view_module": "@jupyter-widgets/controls",
            "_view_module_version": "1.5.0",
            "_view_name": "HTMLView",
            "description": "",
            "description_tooltip": null,
            "layout": "IPY_MODEL_780e04c6ec024bfaad7693ae54663f0d",
            "placeholder": "​",
            "style": "IPY_MODEL_b60632dde8b04a80af0113e6acf462ae",
            "value": "tokenizer_config.json: 100%"
          }
        },
        "a6ad210d1d56463f9feca83b49030c11": {
          "model_module": "@jupyter-widgets/controls",
          "model_name": "FloatProgressModel",
          "model_module_version": "1.5.0",
          "state": {
            "_dom_classes": [],
            "_model_module": "@jupyter-widgets/controls",
            "_model_module_version": "1.5.0",
            "_model_name": "FloatProgressModel",
            "_view_count": null,
            "_view_module": "@jupyter-widgets/controls",
            "_view_module_version": "1.5.0",
            "_view_name": "ProgressView",
            "bar_style": "success",
            "description": "",
            "description_tooltip": null,
            "layout": "IPY_MODEL_1e83c4ed0fbb477f8c4db0eb045e9da8",
            "max": 48,
            "min": 0,
            "orientation": "horizontal",
            "style": "IPY_MODEL_993bd10915364a8bb0c56fbf49bd146c",
            "value": 48
          }
        },
        "98fb81c7cf484eecaa82d69ea2d70fa5": {
          "model_module": "@jupyter-widgets/controls",
          "model_name": "HTMLModel",
          "model_module_version": "1.5.0",
          "state": {
            "_dom_classes": [],
            "_model_module": "@jupyter-widgets/controls",
            "_model_module_version": "1.5.0",
            "_model_name": "HTMLModel",
            "_view_count": null,
            "_view_module": "@jupyter-widgets/controls",
            "_view_module_version": "1.5.0",
            "_view_name": "HTMLView",
            "description": "",
            "description_tooltip": null,
            "layout": "IPY_MODEL_7dada37a14844cd3a19b3f60783f49fe",
            "placeholder": "​",
            "style": "IPY_MODEL_99753b7aed9d4079b9f6ea586b828c51",
            "value": " 48.0/48.0 [00:00&lt;00:00, 1.67kB/s]"
          }
        },
        "4b7f4c65600d4971a95d2baa7d520a7c": {
          "model_module": "@jupyter-widgets/base",
          "model_name": "LayoutModel",
          "model_module_version": "1.2.0",
          "state": {
            "_model_module": "@jupyter-widgets/base",
            "_model_module_version": "1.2.0",
            "_model_name": "LayoutModel",
            "_view_count": null,
            "_view_module": "@jupyter-widgets/base",
            "_view_module_version": "1.2.0",
            "_view_name": "LayoutView",
            "align_content": null,
            "align_items": null,
            "align_self": null,
            "border": null,
            "bottom": null,
            "display": null,
            "flex": null,
            "flex_flow": null,
            "grid_area": null,
            "grid_auto_columns": null,
            "grid_auto_flow": null,
            "grid_auto_rows": null,
            "grid_column": null,
            "grid_gap": null,
            "grid_row": null,
            "grid_template_areas": null,
            "grid_template_columns": null,
            "grid_template_rows": null,
            "height": null,
            "justify_content": null,
            "justify_items": null,
            "left": null,
            "margin": null,
            "max_height": null,
            "max_width": null,
            "min_height": null,
            "min_width": null,
            "object_fit": null,
            "object_position": null,
            "order": null,
            "overflow": null,
            "overflow_x": null,
            "overflow_y": null,
            "padding": null,
            "right": null,
            "top": null,
            "visibility": null,
            "width": null
          }
        },
        "780e04c6ec024bfaad7693ae54663f0d": {
          "model_module": "@jupyter-widgets/base",
          "model_name": "LayoutModel",
          "model_module_version": "1.2.0",
          "state": {
            "_model_module": "@jupyter-widgets/base",
            "_model_module_version": "1.2.0",
            "_model_name": "LayoutModel",
            "_view_count": null,
            "_view_module": "@jupyter-widgets/base",
            "_view_module_version": "1.2.0",
            "_view_name": "LayoutView",
            "align_content": null,
            "align_items": null,
            "align_self": null,
            "border": null,
            "bottom": null,
            "display": null,
            "flex": null,
            "flex_flow": null,
            "grid_area": null,
            "grid_auto_columns": null,
            "grid_auto_flow": null,
            "grid_auto_rows": null,
            "grid_column": null,
            "grid_gap": null,
            "grid_row": null,
            "grid_template_areas": null,
            "grid_template_columns": null,
            "grid_template_rows": null,
            "height": null,
            "justify_content": null,
            "justify_items": null,
            "left": null,
            "margin": null,
            "max_height": null,
            "max_width": null,
            "min_height": null,
            "min_width": null,
            "object_fit": null,
            "object_position": null,
            "order": null,
            "overflow": null,
            "overflow_x": null,
            "overflow_y": null,
            "padding": null,
            "right": null,
            "top": null,
            "visibility": null,
            "width": null
          }
        },
        "b60632dde8b04a80af0113e6acf462ae": {
          "model_module": "@jupyter-widgets/controls",
          "model_name": "DescriptionStyleModel",
          "model_module_version": "1.5.0",
          "state": {
            "_model_module": "@jupyter-widgets/controls",
            "_model_module_version": "1.5.0",
            "_model_name": "DescriptionStyleModel",
            "_view_count": null,
            "_view_module": "@jupyter-widgets/base",
            "_view_module_version": "1.2.0",
            "_view_name": "StyleView",
            "description_width": ""
          }
        },
        "1e83c4ed0fbb477f8c4db0eb045e9da8": {
          "model_module": "@jupyter-widgets/base",
          "model_name": "LayoutModel",
          "model_module_version": "1.2.0",
          "state": {
            "_model_module": "@jupyter-widgets/base",
            "_model_module_version": "1.2.0",
            "_model_name": "LayoutModel",
            "_view_count": null,
            "_view_module": "@jupyter-widgets/base",
            "_view_module_version": "1.2.0",
            "_view_name": "LayoutView",
            "align_content": null,
            "align_items": null,
            "align_self": null,
            "border": null,
            "bottom": null,
            "display": null,
            "flex": null,
            "flex_flow": null,
            "grid_area": null,
            "grid_auto_columns": null,
            "grid_auto_flow": null,
            "grid_auto_rows": null,
            "grid_column": null,
            "grid_gap": null,
            "grid_row": null,
            "grid_template_areas": null,
            "grid_template_columns": null,
            "grid_template_rows": null,
            "height": null,
            "justify_content": null,
            "justify_items": null,
            "left": null,
            "margin": null,
            "max_height": null,
            "max_width": null,
            "min_height": null,
            "min_width": null,
            "object_fit": null,
            "object_position": null,
            "order": null,
            "overflow": null,
            "overflow_x": null,
            "overflow_y": null,
            "padding": null,
            "right": null,
            "top": null,
            "visibility": null,
            "width": null
          }
        },
        "993bd10915364a8bb0c56fbf49bd146c": {
          "model_module": "@jupyter-widgets/controls",
          "model_name": "ProgressStyleModel",
          "model_module_version": "1.5.0",
          "state": {
            "_model_module": "@jupyter-widgets/controls",
            "_model_module_version": "1.5.0",
            "_model_name": "ProgressStyleModel",
            "_view_count": null,
            "_view_module": "@jupyter-widgets/base",
            "_view_module_version": "1.2.0",
            "_view_name": "StyleView",
            "bar_color": null,
            "description_width": ""
          }
        },
        "7dada37a14844cd3a19b3f60783f49fe": {
          "model_module": "@jupyter-widgets/base",
          "model_name": "LayoutModel",
          "model_module_version": "1.2.0",
          "state": {
            "_model_module": "@jupyter-widgets/base",
            "_model_module_version": "1.2.0",
            "_model_name": "LayoutModel",
            "_view_count": null,
            "_view_module": "@jupyter-widgets/base",
            "_view_module_version": "1.2.0",
            "_view_name": "LayoutView",
            "align_content": null,
            "align_items": null,
            "align_self": null,
            "border": null,
            "bottom": null,
            "display": null,
            "flex": null,
            "flex_flow": null,
            "grid_area": null,
            "grid_auto_columns": null,
            "grid_auto_flow": null,
            "grid_auto_rows": null,
            "grid_column": null,
            "grid_gap": null,
            "grid_row": null,
            "grid_template_areas": null,
            "grid_template_columns": null,
            "grid_template_rows": null,
            "height": null,
            "justify_content": null,
            "justify_items": null,
            "left": null,
            "margin": null,
            "max_height": null,
            "max_width": null,
            "min_height": null,
            "min_width": null,
            "object_fit": null,
            "object_position": null,
            "order": null,
            "overflow": null,
            "overflow_x": null,
            "overflow_y": null,
            "padding": null,
            "right": null,
            "top": null,
            "visibility": null,
            "width": null
          }
        },
        "99753b7aed9d4079b9f6ea586b828c51": {
          "model_module": "@jupyter-widgets/controls",
          "model_name": "DescriptionStyleModel",
          "model_module_version": "1.5.0",
          "state": {
            "_model_module": "@jupyter-widgets/controls",
            "_model_module_version": "1.5.0",
            "_model_name": "DescriptionStyleModel",
            "_view_count": null,
            "_view_module": "@jupyter-widgets/base",
            "_view_module_version": "1.2.0",
            "_view_name": "StyleView",
            "description_width": ""
          }
        },
        "98b9ae4a66e04b02b4e900064cc2a7d8": {
          "model_module": "@jupyter-widgets/controls",
          "model_name": "HBoxModel",
          "model_module_version": "1.5.0",
          "state": {
            "_dom_classes": [],
            "_model_module": "@jupyter-widgets/controls",
            "_model_module_version": "1.5.0",
            "_model_name": "HBoxModel",
            "_view_count": null,
            "_view_module": "@jupyter-widgets/controls",
            "_view_module_version": "1.5.0",
            "_view_name": "HBoxView",
            "box_style": "",
            "children": [
              "IPY_MODEL_bfd32d21ff6a45f2a48e5b6bd226a9bd",
              "IPY_MODEL_350f0af8aa214be0be493c805725c1e8",
              "IPY_MODEL_b6633f0350444a77868ef2aeae175d4a"
            ],
            "layout": "IPY_MODEL_7502e8ae1a3844458527e21e9dbb3b45"
          }
        },
        "bfd32d21ff6a45f2a48e5b6bd226a9bd": {
          "model_module": "@jupyter-widgets/controls",
          "model_name": "HTMLModel",
          "model_module_version": "1.5.0",
          "state": {
            "_dom_classes": [],
            "_model_module": "@jupyter-widgets/controls",
            "_model_module_version": "1.5.0",
            "_model_name": "HTMLModel",
            "_view_count": null,
            "_view_module": "@jupyter-widgets/controls",
            "_view_module_version": "1.5.0",
            "_view_name": "HTMLView",
            "description": "",
            "description_tooltip": null,
            "layout": "IPY_MODEL_1d7de285e03146009cfdc6d1cca20062",
            "placeholder": "​",
            "style": "IPY_MODEL_741ded8f77aa490088167b86d48dacb5",
            "value": "vocab.txt: 100%"
          }
        },
        "350f0af8aa214be0be493c805725c1e8": {
          "model_module": "@jupyter-widgets/controls",
          "model_name": "FloatProgressModel",
          "model_module_version": "1.5.0",
          "state": {
            "_dom_classes": [],
            "_model_module": "@jupyter-widgets/controls",
            "_model_module_version": "1.5.0",
            "_model_name": "FloatProgressModel",
            "_view_count": null,
            "_view_module": "@jupyter-widgets/controls",
            "_view_module_version": "1.5.0",
            "_view_name": "ProgressView",
            "bar_style": "success",
            "description": "",
            "description_tooltip": null,
            "layout": "IPY_MODEL_da974af9044446c3acf5b5ff110803b1",
            "max": 871891,
            "min": 0,
            "orientation": "horizontal",
            "style": "IPY_MODEL_b58c18c8216c4f44b643a9b173173c61",
            "value": 871891
          }
        },
        "b6633f0350444a77868ef2aeae175d4a": {
          "model_module": "@jupyter-widgets/controls",
          "model_name": "HTMLModel",
          "model_module_version": "1.5.0",
          "state": {
            "_dom_classes": [],
            "_model_module": "@jupyter-widgets/controls",
            "_model_module_version": "1.5.0",
            "_model_name": "HTMLModel",
            "_view_count": null,
            "_view_module": "@jupyter-widgets/controls",
            "_view_module_version": "1.5.0",
            "_view_name": "HTMLView",
            "description": "",
            "description_tooltip": null,
            "layout": "IPY_MODEL_fa2b4528e75a47d78bb379e4f5ef55d6",
            "placeholder": "​",
            "style": "IPY_MODEL_854b48f28cd54148b1ba4702a124e29e",
            "value": " 872k/872k [00:00&lt;00:00, 29.8MB/s]"
          }
        },
        "7502e8ae1a3844458527e21e9dbb3b45": {
          "model_module": "@jupyter-widgets/base",
          "model_name": "LayoutModel",
          "model_module_version": "1.2.0",
          "state": {
            "_model_module": "@jupyter-widgets/base",
            "_model_module_version": "1.2.0",
            "_model_name": "LayoutModel",
            "_view_count": null,
            "_view_module": "@jupyter-widgets/base",
            "_view_module_version": "1.2.0",
            "_view_name": "LayoutView",
            "align_content": null,
            "align_items": null,
            "align_self": null,
            "border": null,
            "bottom": null,
            "display": null,
            "flex": null,
            "flex_flow": null,
            "grid_area": null,
            "grid_auto_columns": null,
            "grid_auto_flow": null,
            "grid_auto_rows": null,
            "grid_column": null,
            "grid_gap": null,
            "grid_row": null,
            "grid_template_areas": null,
            "grid_template_columns": null,
            "grid_template_rows": null,
            "height": null,
            "justify_content": null,
            "justify_items": null,
            "left": null,
            "margin": null,
            "max_height": null,
            "max_width": null,
            "min_height": null,
            "min_width": null,
            "object_fit": null,
            "object_position": null,
            "order": null,
            "overflow": null,
            "overflow_x": null,
            "overflow_y": null,
            "padding": null,
            "right": null,
            "top": null,
            "visibility": null,
            "width": null
          }
        },
        "1d7de285e03146009cfdc6d1cca20062": {
          "model_module": "@jupyter-widgets/base",
          "model_name": "LayoutModel",
          "model_module_version": "1.2.0",
          "state": {
            "_model_module": "@jupyter-widgets/base",
            "_model_module_version": "1.2.0",
            "_model_name": "LayoutModel",
            "_view_count": null,
            "_view_module": "@jupyter-widgets/base",
            "_view_module_version": "1.2.0",
            "_view_name": "LayoutView",
            "align_content": null,
            "align_items": null,
            "align_self": null,
            "border": null,
            "bottom": null,
            "display": null,
            "flex": null,
            "flex_flow": null,
            "grid_area": null,
            "grid_auto_columns": null,
            "grid_auto_flow": null,
            "grid_auto_rows": null,
            "grid_column": null,
            "grid_gap": null,
            "grid_row": null,
            "grid_template_areas": null,
            "grid_template_columns": null,
            "grid_template_rows": null,
            "height": null,
            "justify_content": null,
            "justify_items": null,
            "left": null,
            "margin": null,
            "max_height": null,
            "max_width": null,
            "min_height": null,
            "min_width": null,
            "object_fit": null,
            "object_position": null,
            "order": null,
            "overflow": null,
            "overflow_x": null,
            "overflow_y": null,
            "padding": null,
            "right": null,
            "top": null,
            "visibility": null,
            "width": null
          }
        },
        "741ded8f77aa490088167b86d48dacb5": {
          "model_module": "@jupyter-widgets/controls",
          "model_name": "DescriptionStyleModel",
          "model_module_version": "1.5.0",
          "state": {
            "_model_module": "@jupyter-widgets/controls",
            "_model_module_version": "1.5.0",
            "_model_name": "DescriptionStyleModel",
            "_view_count": null,
            "_view_module": "@jupyter-widgets/base",
            "_view_module_version": "1.2.0",
            "_view_name": "StyleView",
            "description_width": ""
          }
        },
        "da974af9044446c3acf5b5ff110803b1": {
          "model_module": "@jupyter-widgets/base",
          "model_name": "LayoutModel",
          "model_module_version": "1.2.0",
          "state": {
            "_model_module": "@jupyter-widgets/base",
            "_model_module_version": "1.2.0",
            "_model_name": "LayoutModel",
            "_view_count": null,
            "_view_module": "@jupyter-widgets/base",
            "_view_module_version": "1.2.0",
            "_view_name": "LayoutView",
            "align_content": null,
            "align_items": null,
            "align_self": null,
            "border": null,
            "bottom": null,
            "display": null,
            "flex": null,
            "flex_flow": null,
            "grid_area": null,
            "grid_auto_columns": null,
            "grid_auto_flow": null,
            "grid_auto_rows": null,
            "grid_column": null,
            "grid_gap": null,
            "grid_row": null,
            "grid_template_areas": null,
            "grid_template_columns": null,
            "grid_template_rows": null,
            "height": null,
            "justify_content": null,
            "justify_items": null,
            "left": null,
            "margin": null,
            "max_height": null,
            "max_width": null,
            "min_height": null,
            "min_width": null,
            "object_fit": null,
            "object_position": null,
            "order": null,
            "overflow": null,
            "overflow_x": null,
            "overflow_y": null,
            "padding": null,
            "right": null,
            "top": null,
            "visibility": null,
            "width": null
          }
        },
        "b58c18c8216c4f44b643a9b173173c61": {
          "model_module": "@jupyter-widgets/controls",
          "model_name": "ProgressStyleModel",
          "model_module_version": "1.5.0",
          "state": {
            "_model_module": "@jupyter-widgets/controls",
            "_model_module_version": "1.5.0",
            "_model_name": "ProgressStyleModel",
            "_view_count": null,
            "_view_module": "@jupyter-widgets/base",
            "_view_module_version": "1.2.0",
            "_view_name": "StyleView",
            "bar_color": null,
            "description_width": ""
          }
        },
        "fa2b4528e75a47d78bb379e4f5ef55d6": {
          "model_module": "@jupyter-widgets/base",
          "model_name": "LayoutModel",
          "model_module_version": "1.2.0",
          "state": {
            "_model_module": "@jupyter-widgets/base",
            "_model_module_version": "1.2.0",
            "_model_name": "LayoutModel",
            "_view_count": null,
            "_view_module": "@jupyter-widgets/base",
            "_view_module_version": "1.2.0",
            "_view_name": "LayoutView",
            "align_content": null,
            "align_items": null,
            "align_self": null,
            "border": null,
            "bottom": null,
            "display": null,
            "flex": null,
            "flex_flow": null,
            "grid_area": null,
            "grid_auto_columns": null,
            "grid_auto_flow": null,
            "grid_auto_rows": null,
            "grid_column": null,
            "grid_gap": null,
            "grid_row": null,
            "grid_template_areas": null,
            "grid_template_columns": null,
            "grid_template_rows": null,
            "height": null,
            "justify_content": null,
            "justify_items": null,
            "left": null,
            "margin": null,
            "max_height": null,
            "max_width": null,
            "min_height": null,
            "min_width": null,
            "object_fit": null,
            "object_position": null,
            "order": null,
            "overflow": null,
            "overflow_x": null,
            "overflow_y": null,
            "padding": null,
            "right": null,
            "top": null,
            "visibility": null,
            "width": null
          }
        },
        "854b48f28cd54148b1ba4702a124e29e": {
          "model_module": "@jupyter-widgets/controls",
          "model_name": "DescriptionStyleModel",
          "model_module_version": "1.5.0",
          "state": {
            "_model_module": "@jupyter-widgets/controls",
            "_model_module_version": "1.5.0",
            "_model_name": "DescriptionStyleModel",
            "_view_count": null,
            "_view_module": "@jupyter-widgets/base",
            "_view_module_version": "1.2.0",
            "_view_name": "StyleView",
            "description_width": ""
          }
        },
        "9006ea746b7b4e2a8335eeaaa25dff9f": {
          "model_module": "@jupyter-widgets/controls",
          "model_name": "HBoxModel",
          "model_module_version": "1.5.0",
          "state": {
            "_dom_classes": [],
            "_model_module": "@jupyter-widgets/controls",
            "_model_module_version": "1.5.0",
            "_model_name": "HBoxModel",
            "_view_count": null,
            "_view_module": "@jupyter-widgets/controls",
            "_view_module_version": "1.5.0",
            "_view_name": "HBoxView",
            "box_style": "",
            "children": [
              "IPY_MODEL_59c26d9b8862404cb209820f483f76a9",
              "IPY_MODEL_1f51c4601533454ba07598bf1211ae3f",
              "IPY_MODEL_f131fffc6e1a4a71ad4bf6daeb6fe1fa"
            ],
            "layout": "IPY_MODEL_95ecf20e03e14d859556877ef5fc0013"
          }
        },
        "59c26d9b8862404cb209820f483f76a9": {
          "model_module": "@jupyter-widgets/controls",
          "model_name": "HTMLModel",
          "model_module_version": "1.5.0",
          "state": {
            "_dom_classes": [],
            "_model_module": "@jupyter-widgets/controls",
            "_model_module_version": "1.5.0",
            "_model_name": "HTMLModel",
            "_view_count": null,
            "_view_module": "@jupyter-widgets/controls",
            "_view_module_version": "1.5.0",
            "_view_name": "HTMLView",
            "description": "",
            "description_tooltip": null,
            "layout": "IPY_MODEL_c1d753805c4e4aa78222484242d68484",
            "placeholder": "​",
            "style": "IPY_MODEL_75dd5fbcd095455eba565365ef047998",
            "value": "tokenizer.json: 100%"
          }
        },
        "1f51c4601533454ba07598bf1211ae3f": {
          "model_module": "@jupyter-widgets/controls",
          "model_name": "FloatProgressModel",
          "model_module_version": "1.5.0",
          "state": {
            "_dom_classes": [],
            "_model_module": "@jupyter-widgets/controls",
            "_model_module_version": "1.5.0",
            "_model_name": "FloatProgressModel",
            "_view_count": null,
            "_view_module": "@jupyter-widgets/controls",
            "_view_module_version": "1.5.0",
            "_view_name": "ProgressView",
            "bar_style": "success",
            "description": "",
            "description_tooltip": null,
            "layout": "IPY_MODEL_090367593e7e41a0a493a25528673c68",
            "max": 1715180,
            "min": 0,
            "orientation": "horizontal",
            "style": "IPY_MODEL_8c43362899a84ba59fae057a50918eee",
            "value": 1715180
          }
        },
        "f131fffc6e1a4a71ad4bf6daeb6fe1fa": {
          "model_module": "@jupyter-widgets/controls",
          "model_name": "HTMLModel",
          "model_module_version": "1.5.0",
          "state": {
            "_dom_classes": [],
            "_model_module": "@jupyter-widgets/controls",
            "_model_module_version": "1.5.0",
            "_model_name": "HTMLModel",
            "_view_count": null,
            "_view_module": "@jupyter-widgets/controls",
            "_view_module_version": "1.5.0",
            "_view_name": "HTMLView",
            "description": "",
            "description_tooltip": null,
            "layout": "IPY_MODEL_aec5e934e86d49479d961d060da9a043",
            "placeholder": "​",
            "style": "IPY_MODEL_819a920ca86a47ddbb8662418dc3a01c",
            "value": " 1.72M/1.72M [00:00&lt;00:00, 33.4MB/s]"
          }
        },
        "95ecf20e03e14d859556877ef5fc0013": {
          "model_module": "@jupyter-widgets/base",
          "model_name": "LayoutModel",
          "model_module_version": "1.2.0",
          "state": {
            "_model_module": "@jupyter-widgets/base",
            "_model_module_version": "1.2.0",
            "_model_name": "LayoutModel",
            "_view_count": null,
            "_view_module": "@jupyter-widgets/base",
            "_view_module_version": "1.2.0",
            "_view_name": "LayoutView",
            "align_content": null,
            "align_items": null,
            "align_self": null,
            "border": null,
            "bottom": null,
            "display": null,
            "flex": null,
            "flex_flow": null,
            "grid_area": null,
            "grid_auto_columns": null,
            "grid_auto_flow": null,
            "grid_auto_rows": null,
            "grid_column": null,
            "grid_gap": null,
            "grid_row": null,
            "grid_template_areas": null,
            "grid_template_columns": null,
            "grid_template_rows": null,
            "height": null,
            "justify_content": null,
            "justify_items": null,
            "left": null,
            "margin": null,
            "max_height": null,
            "max_width": null,
            "min_height": null,
            "min_width": null,
            "object_fit": null,
            "object_position": null,
            "order": null,
            "overflow": null,
            "overflow_x": null,
            "overflow_y": null,
            "padding": null,
            "right": null,
            "top": null,
            "visibility": null,
            "width": null
          }
        },
        "c1d753805c4e4aa78222484242d68484": {
          "model_module": "@jupyter-widgets/base",
          "model_name": "LayoutModel",
          "model_module_version": "1.2.0",
          "state": {
            "_model_module": "@jupyter-widgets/base",
            "_model_module_version": "1.2.0",
            "_model_name": "LayoutModel",
            "_view_count": null,
            "_view_module": "@jupyter-widgets/base",
            "_view_module_version": "1.2.0",
            "_view_name": "LayoutView",
            "align_content": null,
            "align_items": null,
            "align_self": null,
            "border": null,
            "bottom": null,
            "display": null,
            "flex": null,
            "flex_flow": null,
            "grid_area": null,
            "grid_auto_columns": null,
            "grid_auto_flow": null,
            "grid_auto_rows": null,
            "grid_column": null,
            "grid_gap": null,
            "grid_row": null,
            "grid_template_areas": null,
            "grid_template_columns": null,
            "grid_template_rows": null,
            "height": null,
            "justify_content": null,
            "justify_items": null,
            "left": null,
            "margin": null,
            "max_height": null,
            "max_width": null,
            "min_height": null,
            "min_width": null,
            "object_fit": null,
            "object_position": null,
            "order": null,
            "overflow": null,
            "overflow_x": null,
            "overflow_y": null,
            "padding": null,
            "right": null,
            "top": null,
            "visibility": null,
            "width": null
          }
        },
        "75dd5fbcd095455eba565365ef047998": {
          "model_module": "@jupyter-widgets/controls",
          "model_name": "DescriptionStyleModel",
          "model_module_version": "1.5.0",
          "state": {
            "_model_module": "@jupyter-widgets/controls",
            "_model_module_version": "1.5.0",
            "_model_name": "DescriptionStyleModel",
            "_view_count": null,
            "_view_module": "@jupyter-widgets/base",
            "_view_module_version": "1.2.0",
            "_view_name": "StyleView",
            "description_width": ""
          }
        },
        "090367593e7e41a0a493a25528673c68": {
          "model_module": "@jupyter-widgets/base",
          "model_name": "LayoutModel",
          "model_module_version": "1.2.0",
          "state": {
            "_model_module": "@jupyter-widgets/base",
            "_model_module_version": "1.2.0",
            "_model_name": "LayoutModel",
            "_view_count": null,
            "_view_module": "@jupyter-widgets/base",
            "_view_module_version": "1.2.0",
            "_view_name": "LayoutView",
            "align_content": null,
            "align_items": null,
            "align_self": null,
            "border": null,
            "bottom": null,
            "display": null,
            "flex": null,
            "flex_flow": null,
            "grid_area": null,
            "grid_auto_columns": null,
            "grid_auto_flow": null,
            "grid_auto_rows": null,
            "grid_column": null,
            "grid_gap": null,
            "grid_row": null,
            "grid_template_areas": null,
            "grid_template_columns": null,
            "grid_template_rows": null,
            "height": null,
            "justify_content": null,
            "justify_items": null,
            "left": null,
            "margin": null,
            "max_height": null,
            "max_width": null,
            "min_height": null,
            "min_width": null,
            "object_fit": null,
            "object_position": null,
            "order": null,
            "overflow": null,
            "overflow_x": null,
            "overflow_y": null,
            "padding": null,
            "right": null,
            "top": null,
            "visibility": null,
            "width": null
          }
        },
        "8c43362899a84ba59fae057a50918eee": {
          "model_module": "@jupyter-widgets/controls",
          "model_name": "ProgressStyleModel",
          "model_module_version": "1.5.0",
          "state": {
            "_model_module": "@jupyter-widgets/controls",
            "_model_module_version": "1.5.0",
            "_model_name": "ProgressStyleModel",
            "_view_count": null,
            "_view_module": "@jupyter-widgets/base",
            "_view_module_version": "1.2.0",
            "_view_name": "StyleView",
            "bar_color": null,
            "description_width": ""
          }
        },
        "aec5e934e86d49479d961d060da9a043": {
          "model_module": "@jupyter-widgets/base",
          "model_name": "LayoutModel",
          "model_module_version": "1.2.0",
          "state": {
            "_model_module": "@jupyter-widgets/base",
            "_model_module_version": "1.2.0",
            "_model_name": "LayoutModel",
            "_view_count": null,
            "_view_module": "@jupyter-widgets/base",
            "_view_module_version": "1.2.0",
            "_view_name": "LayoutView",
            "align_content": null,
            "align_items": null,
            "align_self": null,
            "border": null,
            "bottom": null,
            "display": null,
            "flex": null,
            "flex_flow": null,
            "grid_area": null,
            "grid_auto_columns": null,
            "grid_auto_flow": null,
            "grid_auto_rows": null,
            "grid_column": null,
            "grid_gap": null,
            "grid_row": null,
            "grid_template_areas": null,
            "grid_template_columns": null,
            "grid_template_rows": null,
            "height": null,
            "justify_content": null,
            "justify_items": null,
            "left": null,
            "margin": null,
            "max_height": null,
            "max_width": null,
            "min_height": null,
            "min_width": null,
            "object_fit": null,
            "object_position": null,
            "order": null,
            "overflow": null,
            "overflow_x": null,
            "overflow_y": null,
            "padding": null,
            "right": null,
            "top": null,
            "visibility": null,
            "width": null
          }
        },
        "819a920ca86a47ddbb8662418dc3a01c": {
          "model_module": "@jupyter-widgets/controls",
          "model_name": "DescriptionStyleModel",
          "model_module_version": "1.5.0",
          "state": {
            "_model_module": "@jupyter-widgets/controls",
            "_model_module_version": "1.5.0",
            "_model_name": "DescriptionStyleModel",
            "_view_count": null,
            "_view_module": "@jupyter-widgets/base",
            "_view_module_version": "1.2.0",
            "_view_name": "StyleView",
            "description_width": ""
          }
        },
        "38e14d498b6b4684a4d475bbef35c189": {
          "model_module": "@jupyter-widgets/controls",
          "model_name": "HBoxModel",
          "model_module_version": "1.5.0",
          "state": {
            "_dom_classes": [],
            "_model_module": "@jupyter-widgets/controls",
            "_model_module_version": "1.5.0",
            "_model_name": "HBoxModel",
            "_view_count": null,
            "_view_module": "@jupyter-widgets/controls",
            "_view_module_version": "1.5.0",
            "_view_name": "HBoxView",
            "box_style": "",
            "children": [
              "IPY_MODEL_f7dac281617d4fdfbfe24c555c42c057",
              "IPY_MODEL_eb6c7644b365497aad4d76d621229986",
              "IPY_MODEL_c449672726a44bec9e6cb6224f7e55b5"
            ],
            "layout": "IPY_MODEL_09d5811333444a36a16bdd1e535cc994"
          }
        },
        "f7dac281617d4fdfbfe24c555c42c057": {
          "model_module": "@jupyter-widgets/controls",
          "model_name": "HTMLModel",
          "model_module_version": "1.5.0",
          "state": {
            "_dom_classes": [],
            "_model_module": "@jupyter-widgets/controls",
            "_model_module_version": "1.5.0",
            "_model_name": "HTMLModel",
            "_view_count": null,
            "_view_module": "@jupyter-widgets/controls",
            "_view_module_version": "1.5.0",
            "_view_name": "HTMLView",
            "description": "",
            "description_tooltip": null,
            "layout": "IPY_MODEL_43c25ce25b8d4978838e3ec8528307fc",
            "placeholder": "​",
            "style": "IPY_MODEL_e1ad8de9a56048228fd8a8844e457463",
            "value": "config.json: 100%"
          }
        },
        "eb6c7644b365497aad4d76d621229986": {
          "model_module": "@jupyter-widgets/controls",
          "model_name": "FloatProgressModel",
          "model_module_version": "1.5.0",
          "state": {
            "_dom_classes": [],
            "_model_module": "@jupyter-widgets/controls",
            "_model_module_version": "1.5.0",
            "_model_name": "FloatProgressModel",
            "_view_count": null,
            "_view_module": "@jupyter-widgets/controls",
            "_view_module_version": "1.5.0",
            "_view_name": "ProgressView",
            "bar_style": "success",
            "description": "",
            "description_tooltip": null,
            "layout": "IPY_MODEL_c54384c334de4795b8f7d5cc2b1235f6",
            "max": 625,
            "min": 0,
            "orientation": "horizontal",
            "style": "IPY_MODEL_1d0e58c139dc4580aab09b9bfcd05b77",
            "value": 625
          }
        },
        "c449672726a44bec9e6cb6224f7e55b5": {
          "model_module": "@jupyter-widgets/controls",
          "model_name": "HTMLModel",
          "model_module_version": "1.5.0",
          "state": {
            "_dom_classes": [],
            "_model_module": "@jupyter-widgets/controls",
            "_model_module_version": "1.5.0",
            "_model_name": "HTMLModel",
            "_view_count": null,
            "_view_module": "@jupyter-widgets/controls",
            "_view_module_version": "1.5.0",
            "_view_name": "HTMLView",
            "description": "",
            "description_tooltip": null,
            "layout": "IPY_MODEL_e65f9e9f89014801b35559e52ff4e64d",
            "placeholder": "​",
            "style": "IPY_MODEL_af8528630a1149ba8b4c3a9b70468595",
            "value": " 625/625 [00:00&lt;00:00, 27.7kB/s]"
          }
        },
        "09d5811333444a36a16bdd1e535cc994": {
          "model_module": "@jupyter-widgets/base",
          "model_name": "LayoutModel",
          "model_module_version": "1.2.0",
          "state": {
            "_model_module": "@jupyter-widgets/base",
            "_model_module_version": "1.2.0",
            "_model_name": "LayoutModel",
            "_view_count": null,
            "_view_module": "@jupyter-widgets/base",
            "_view_module_version": "1.2.0",
            "_view_name": "LayoutView",
            "align_content": null,
            "align_items": null,
            "align_self": null,
            "border": null,
            "bottom": null,
            "display": null,
            "flex": null,
            "flex_flow": null,
            "grid_area": null,
            "grid_auto_columns": null,
            "grid_auto_flow": null,
            "grid_auto_rows": null,
            "grid_column": null,
            "grid_gap": null,
            "grid_row": null,
            "grid_template_areas": null,
            "grid_template_columns": null,
            "grid_template_rows": null,
            "height": null,
            "justify_content": null,
            "justify_items": null,
            "left": null,
            "margin": null,
            "max_height": null,
            "max_width": null,
            "min_height": null,
            "min_width": null,
            "object_fit": null,
            "object_position": null,
            "order": null,
            "overflow": null,
            "overflow_x": null,
            "overflow_y": null,
            "padding": null,
            "right": null,
            "top": null,
            "visibility": null,
            "width": null
          }
        },
        "43c25ce25b8d4978838e3ec8528307fc": {
          "model_module": "@jupyter-widgets/base",
          "model_name": "LayoutModel",
          "model_module_version": "1.2.0",
          "state": {
            "_model_module": "@jupyter-widgets/base",
            "_model_module_version": "1.2.0",
            "_model_name": "LayoutModel",
            "_view_count": null,
            "_view_module": "@jupyter-widgets/base",
            "_view_module_version": "1.2.0",
            "_view_name": "LayoutView",
            "align_content": null,
            "align_items": null,
            "align_self": null,
            "border": null,
            "bottom": null,
            "display": null,
            "flex": null,
            "flex_flow": null,
            "grid_area": null,
            "grid_auto_columns": null,
            "grid_auto_flow": null,
            "grid_auto_rows": null,
            "grid_column": null,
            "grid_gap": null,
            "grid_row": null,
            "grid_template_areas": null,
            "grid_template_columns": null,
            "grid_template_rows": null,
            "height": null,
            "justify_content": null,
            "justify_items": null,
            "left": null,
            "margin": null,
            "max_height": null,
            "max_width": null,
            "min_height": null,
            "min_width": null,
            "object_fit": null,
            "object_position": null,
            "order": null,
            "overflow": null,
            "overflow_x": null,
            "overflow_y": null,
            "padding": null,
            "right": null,
            "top": null,
            "visibility": null,
            "width": null
          }
        },
        "e1ad8de9a56048228fd8a8844e457463": {
          "model_module": "@jupyter-widgets/controls",
          "model_name": "DescriptionStyleModel",
          "model_module_version": "1.5.0",
          "state": {
            "_model_module": "@jupyter-widgets/controls",
            "_model_module_version": "1.5.0",
            "_model_name": "DescriptionStyleModel",
            "_view_count": null,
            "_view_module": "@jupyter-widgets/base",
            "_view_module_version": "1.2.0",
            "_view_name": "StyleView",
            "description_width": ""
          }
        },
        "c54384c334de4795b8f7d5cc2b1235f6": {
          "model_module": "@jupyter-widgets/base",
          "model_name": "LayoutModel",
          "model_module_version": "1.2.0",
          "state": {
            "_model_module": "@jupyter-widgets/base",
            "_model_module_version": "1.2.0",
            "_model_name": "LayoutModel",
            "_view_count": null,
            "_view_module": "@jupyter-widgets/base",
            "_view_module_version": "1.2.0",
            "_view_name": "LayoutView",
            "align_content": null,
            "align_items": null,
            "align_self": null,
            "border": null,
            "bottom": null,
            "display": null,
            "flex": null,
            "flex_flow": null,
            "grid_area": null,
            "grid_auto_columns": null,
            "grid_auto_flow": null,
            "grid_auto_rows": null,
            "grid_column": null,
            "grid_gap": null,
            "grid_row": null,
            "grid_template_areas": null,
            "grid_template_columns": null,
            "grid_template_rows": null,
            "height": null,
            "justify_content": null,
            "justify_items": null,
            "left": null,
            "margin": null,
            "max_height": null,
            "max_width": null,
            "min_height": null,
            "min_width": null,
            "object_fit": null,
            "object_position": null,
            "order": null,
            "overflow": null,
            "overflow_x": null,
            "overflow_y": null,
            "padding": null,
            "right": null,
            "top": null,
            "visibility": null,
            "width": null
          }
        },
        "1d0e58c139dc4580aab09b9bfcd05b77": {
          "model_module": "@jupyter-widgets/controls",
          "model_name": "ProgressStyleModel",
          "model_module_version": "1.5.0",
          "state": {
            "_model_module": "@jupyter-widgets/controls",
            "_model_module_version": "1.5.0",
            "_model_name": "ProgressStyleModel",
            "_view_count": null,
            "_view_module": "@jupyter-widgets/base",
            "_view_module_version": "1.2.0",
            "_view_name": "StyleView",
            "bar_color": null,
            "description_width": ""
          }
        },
        "e65f9e9f89014801b35559e52ff4e64d": {
          "model_module": "@jupyter-widgets/base",
          "model_name": "LayoutModel",
          "model_module_version": "1.2.0",
          "state": {
            "_model_module": "@jupyter-widgets/base",
            "_model_module_version": "1.2.0",
            "_model_name": "LayoutModel",
            "_view_count": null,
            "_view_module": "@jupyter-widgets/base",
            "_view_module_version": "1.2.0",
            "_view_name": "LayoutView",
            "align_content": null,
            "align_items": null,
            "align_self": null,
            "border": null,
            "bottom": null,
            "display": null,
            "flex": null,
            "flex_flow": null,
            "grid_area": null,
            "grid_auto_columns": null,
            "grid_auto_flow": null,
            "grid_auto_rows": null,
            "grid_column": null,
            "grid_gap": null,
            "grid_row": null,
            "grid_template_areas": null,
            "grid_template_columns": null,
            "grid_template_rows": null,
            "height": null,
            "justify_content": null,
            "justify_items": null,
            "left": null,
            "margin": null,
            "max_height": null,
            "max_width": null,
            "min_height": null,
            "min_width": null,
            "object_fit": null,
            "object_position": null,
            "order": null,
            "overflow": null,
            "overflow_x": null,
            "overflow_y": null,
            "padding": null,
            "right": null,
            "top": null,
            "visibility": null,
            "width": null
          }
        },
        "af8528630a1149ba8b4c3a9b70468595": {
          "model_module": "@jupyter-widgets/controls",
          "model_name": "DescriptionStyleModel",
          "model_module_version": "1.5.0",
          "state": {
            "_model_module": "@jupyter-widgets/controls",
            "_model_module_version": "1.5.0",
            "_model_name": "DescriptionStyleModel",
            "_view_count": null,
            "_view_module": "@jupyter-widgets/base",
            "_view_module_version": "1.2.0",
            "_view_name": "StyleView",
            "description_width": ""
          }
        }
      }
    }
  },
  "nbformat": 4,
  "nbformat_minor": 0
}